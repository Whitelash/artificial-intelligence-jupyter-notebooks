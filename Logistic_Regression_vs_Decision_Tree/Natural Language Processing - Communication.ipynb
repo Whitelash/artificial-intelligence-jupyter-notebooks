{
 "cells": [
  {
   "cell_type": "markdown",
   "metadata": {},
   "source": [
    "# Objectives\n",
    "- NLP (Natural Language Processing) - It is important for most cases\n",
    "- TextBlob, NLTK(Natural Language Tool Kit), textatistic and spaCy\n",
    "- Tokenization of tex into words and sentences\n",
    "- Parts of speech tagging\n",
    "- Sentiment analysis - positive, negative and neutral\n",
    "- Detect language of text and how to translate between languages\n",
    "- Word roots - stemming and lemmatization\n",
    "- Spell checking and correction\n",
    "- Removing stop words from the text\n",
    "- Word visualization         \n",
    "- Readability assessment\n",
    "- Name entity recognition and similarity detection"
   ]
  },
  {
   "cell_type": "markdown",
   "metadata": {},
   "source": [
    "# Examples of NL communications\n",
    "- Conversations between two people\n",
    "- Learning a foreign language\n",
    "- Use of smartphone to read a menu\n",
    "- Reading/writing text messages\n",
    "- Blind - braille or listening to the screen reader\n",
    "- Email - Spanish - English"
   ]
  },
  {
   "cell_type": "markdown",
   "metadata": {},
   "source": [
    "# Text collections - corpora or plural corpus\n",
    "- Tweets - tweepy to harvest data from twitter using Python\n",
    "- Facebook posts\n",
    "- Conversations\n",
    "- Movie reviews\n",
    "- Documents\n",
    "- Books \n",
    "- News"
   ]
  },
  {
   "cell_type": "markdown",
   "metadata": {},
   "source": [
    "*** Nuisance of meaning makes NL learning difficult\n",
    "-- because the meaning can influenced by context and reader's view of the world"
   ]
  },
  {
   "cell_type": "markdown",
   "metadata": {},
   "source": [
    "# TextBlob : Simplified Text Processing\n",
    "- It is an object-oriented NLP text processing and built on the NLTK and pattern NLP libraries\n",
    "- Jobs:\n",
    "    - Tokenization - splitting text into pieces of tokens - words or numbers\n",
    "    - Parts-of-speech (POS) tagging - noun, verb, adjective\n",
    "    - Noun-phrase extraction - `red brick factory`\n",
    "        - Is a red brick factory:\n",
    "            -- a factory that makes red bricks\n",
    "            -- a factory that makes bricks of any color\n",
    "            -- a factory built of red bricks that makes products of any type\n",
    "        - Music group- pop\n",
    "    - Sentiment analysis\n",
    "    - Inter-language translations and detecting the language - Google Translate\n",
    "    - Inflection - pluralizing or singularizing words\n",
    "    - Spell checking and spell correction\n",
    "    - Stemming - varieties \n",
    "    - Lemmatization - varieties become variety - generate real words based on word's context\n",
    "    - WordNet integration\n",
    "    - Word frequencies\n",
    "    - Stop-word elimination eg as, a, an, the, I, we  -don't bring out the theme of the topic or conversation\n",
    "    - n-grams - producing sets of consecutive words in a corpus for use in identifying words that frequently appear adjacent to one other"
   ]
  },
  {
   "cell_type": "markdown",
   "metadata": {},
   "source": [
    "# Project Gutenberg\n",
    "- Rich source for text for analysis - free e-books"
   ]
  },
  {
   "cell_type": "code",
   "execution_count": 1,
   "metadata": {},
   "outputs": [],
   "source": [
    "from textblob import TextBlob"
   ]
  },
  {
   "cell_type": "code",
   "execution_count": 2,
   "metadata": {},
   "outputs": [],
   "source": [
    "text = 'Today is a beautiful day. Tomorrow looks like bad weather'"
   ]
  },
  {
   "cell_type": "code",
   "execution_count": 3,
   "metadata": {},
   "outputs": [],
   "source": [
    "blob=TextBlob(text) # Sentence(s) word(s) inherited from BaseBlob"
   ]
  },
  {
   "cell_type": "code",
   "execution_count": 4,
   "metadata": {},
   "outputs": [
    {
     "data": {
      "text/plain": [
       "TextBlob(\"Today is a beautiful day. Tomorrow looks like bad weather\")"
      ]
     },
     "execution_count": 4,
     "metadata": {},
     "output_type": "execute_result"
    }
   ],
   "source": [
    "blob"
   ]
  },
  {
   "cell_type": "code",
   "execution_count": 5,
   "metadata": {},
   "outputs": [],
   "source": [
    "# TextBlob does supports various methods and comparisons - Sentences, words"
   ]
  },
  {
   "cell_type": "code",
   "execution_count": 6,
   "metadata": {},
   "outputs": [
    {
     "data": {
      "text/plain": [
       "[Sentence(\"Today is a beautiful day.\"),\n",
       " Sentence(\"Tomorrow looks like bad weather\")]"
      ]
     },
     "execution_count": 6,
     "metadata": {},
     "output_type": "execute_result"
    }
   ],
   "source": [
    "blob.sentences"
   ]
  },
  {
   "cell_type": "code",
   "execution_count": 7,
   "metadata": {},
   "outputs": [
    {
     "data": {
      "text/plain": [
       "WordList(['Today', 'is', 'a', 'beautiful', 'day', 'Tomorrow', 'looks', 'like', 'bad', 'weather'])"
      ]
     },
     "execution_count": 7,
     "metadata": {},
     "output_type": "execute_result"
    }
   ],
   "source": [
    "blob.words"
   ]
  },
  {
   "cell_type": "code",
   "execution_count": 8,
   "metadata": {},
   "outputs": [
    {
     "data": {
      "text/plain": [
       "defaultdict(int,\n",
       "            {'today': 1,\n",
       "             'is': 1,\n",
       "             'a': 1,\n",
       "             'beautiful': 1,\n",
       "             'day': 1,\n",
       "             'tomorrow': 1,\n",
       "             'looks': 1,\n",
       "             'like': 1,\n",
       "             'bad': 1,\n",
       "             'weather': 1})"
      ]
     },
     "execution_count": 8,
     "metadata": {},
     "output_type": "execute_result"
    }
   ],
   "source": [
    "blob.word_counts"
   ]
  },
  {
   "cell_type": "markdown",
   "metadata": {},
   "source": [
    "# Parts of Speech\n",
    "- Evaluate words based on context - determin POS - determine the meaning\n",
    "- Nouns, pronouns, verbs, adjectives, adverbs, prepositions, conjunctions and interjections (Ha! Yes!)\n",
    "- sub- categories - \n",
    "- meanings of words - `set` and `run` \n"
   ]
  },
  {
   "cell_type": "code",
   "execution_count": 9,
   "metadata": {},
   "outputs": [
    {
     "data": {
      "text/plain": [
       "TextBlob(\"Today is a beautiful day. Tomorrow looks like bad weather\")"
      ]
     },
     "execution_count": 9,
     "metadata": {},
     "output_type": "execute_result"
    }
   ],
   "source": [
    "blob"
   ]
  },
  {
   "cell_type": "code",
   "execution_count": 10,
   "metadata": {},
   "outputs": [
    {
     "data": {
      "text/plain": [
       "[('Today', 'NN'),\n",
       " ('is', 'VBZ'),\n",
       " ('a', 'DT'),\n",
       " ('beautiful', 'JJ'),\n",
       " ('day', 'NN'),\n",
       " ('Tomorrow', 'NNP'),\n",
       " ('looks', 'VBZ'),\n",
       " ('like', 'IN'),\n",
       " ('bad', 'JJ'),\n",
       " ('weather', 'NN')]"
      ]
     },
     "execution_count": 10,
     "metadata": {},
     "output_type": "execute_result"
    }
   ],
   "source": [
    "blob.tags"
   ]
  },
  {
   "cell_type": "markdown",
   "metadata": {},
   "source": [
    "- TetBlob - patternTagger 63 parts of speech tags\n",
    "- NN - singular noun or mass noun\n",
    "- VBZ - thrid person singular present verb\n",
    "- DT - determiner - (the, an, that, my, this, their)\n",
    "- JJ - adjective\n",
    "- NNP - proper singular noun\n",
    "- IN - subordinating conjunction or preposition"
   ]
  },
  {
   "cell_type": "markdown",
   "metadata": {},
   "source": [
    "# Extracting Noun Phrases"
   ]
  },
  {
   "cell_type": "code",
   "execution_count": 11,
   "metadata": {},
   "outputs": [
    {
     "data": {
      "text/plain": [
       "TextBlob(\"Today is a beautiful day. Tomorrow looks like bad weather\")"
      ]
     },
     "execution_count": 11,
     "metadata": {},
     "output_type": "execute_result"
    }
   ],
   "source": [
    "blob"
   ]
  },
  {
   "cell_type": "code",
   "execution_count": 12,
   "metadata": {},
   "outputs": [
    {
     "data": {
      "text/plain": [
       "WordList(['beautiful day', 'tomorrow', 'bad weather'])"
      ]
     },
     "execution_count": 12,
     "metadata": {},
     "output_type": "execute_result"
    }
   ],
   "source": [
    "blob.noun_phrases"
   ]
  },
  {
   "cell_type": "markdown",
   "metadata": {},
   "source": [
    "# Sentiment Analysis with the TextBlob Default Sentiment Analyzer\n",
    "- Positive, Negative, Neutral - categories for sentiments\n",
    "- Eg the food is not good (-ve), the movie was not bad (+ve but not as +ve), the movie was excellent (+ve)\n",
    "- Deep learning"
   ]
  },
  {
   "cell_type": "code",
   "execution_count": 13,
   "metadata": {},
   "outputs": [
    {
     "data": {
      "text/plain": [
       "TextBlob(\"Today is a beautiful day. Tomorrow looks like bad weather\")"
      ]
     },
     "execution_count": 13,
     "metadata": {},
     "output_type": "execute_result"
    }
   ],
   "source": [
    "blob"
   ]
  },
  {
   "cell_type": "code",
   "execution_count": 14,
   "metadata": {},
   "outputs": [
    {
     "data": {
      "text/plain": [
       "Sentiment(polarity=0.07500000000000007, subjectivity=0.8333333333333333)"
      ]
     },
     "execution_count": 14,
     "metadata": {},
     "output_type": "execute_result"
    }
   ],
   "source": [
    "blob.sentiment"
   ]
  },
  {
   "cell_type": "markdown",
   "metadata": {},
   "source": [
    "- Polarity ranges from -1(-ve), 1.0(+ve), 0.0(neutral)\n",
    "- Subjectivity \n",
    "    - 0.0 - very objective\n",
    "    - 1.0 - very subjective"
   ]
  },
  {
   "cell_type": "code",
   "execution_count": 15,
   "metadata": {},
   "outputs": [],
   "source": [
    "text2 = \"Vote! Vote! Vote!\"\n",
    "blob2 = TextBlob(text2)"
   ]
  },
  {
   "cell_type": "code",
   "execution_count": 16,
   "metadata": {},
   "outputs": [
    {
     "data": {
      "text/plain": [
       "TextBlob(\"Vote! Vote! Vote!\")"
      ]
     },
     "execution_count": 16,
     "metadata": {},
     "output_type": "execute_result"
    }
   ],
   "source": [
    "blob2"
   ]
  },
  {
   "cell_type": "code",
   "execution_count": 17,
   "metadata": {},
   "outputs": [
    {
     "data": {
      "text/plain": [
       "Sentiment(polarity=0.0, subjectivity=0.0)"
      ]
     },
     "execution_count": 17,
     "metadata": {},
     "output_type": "execute_result"
    }
   ],
   "source": [
    "blob2.sentiment"
   ]
  },
  {
   "cell_type": "code",
   "execution_count": 18,
   "metadata": {},
   "outputs": [],
   "source": [
    "text3 = \"I will be making a statement tonight. A Big WIN!\"\n",
    "blob3 = TextBlob(text3)"
   ]
  },
  {
   "cell_type": "code",
   "execution_count": 19,
   "metadata": {},
   "outputs": [
    {
     "data": {
      "text/plain": [
       "TextBlob(\"I will be making a statement tonight. A Big WIN!\")"
      ]
     },
     "execution_count": 19,
     "metadata": {},
     "output_type": "execute_result"
    }
   ],
   "source": [
    "blob3"
   ]
  },
  {
   "cell_type": "code",
   "execution_count": 20,
   "metadata": {},
   "outputs": [
    {
     "data": {
      "text/plain": [
       "Sentiment(polarity=0.5, subjectivity=0.25)"
      ]
     },
     "execution_count": 20,
     "metadata": {},
     "output_type": "execute_result"
    }
   ],
   "source": [
    "blob3.sentiment"
   ]
  },
  {
   "cell_type": "code",
   "execution_count": 21,
   "metadata": {},
   "outputs": [
    {
     "data": {
      "text/plain": [
       "'%.3f'"
      ]
     },
     "execution_count": 21,
     "metadata": {},
     "output_type": "execute_result"
    }
   ],
   "source": [
    "%precision 3  \n",
    "# default precision for standalone float object - lists, tuples, dict"
   ]
  },
  {
   "cell_type": "code",
   "execution_count": 22,
   "metadata": {},
   "outputs": [
    {
     "data": {
      "text/plain": [
       "0.075"
      ]
     },
     "execution_count": 22,
     "metadata": {},
     "output_type": "execute_result"
    }
   ],
   "source": [
    "blob.sentiment.polarity"
   ]
  },
  {
   "cell_type": "code",
   "execution_count": 23,
   "metadata": {},
   "outputs": [
    {
     "data": {
      "text/plain": [
       "0.833"
      ]
     },
     "execution_count": 23,
     "metadata": {},
     "output_type": "execute_result"
    }
   ],
   "source": [
    "blob.sentiment.subjectivity"
   ]
  },
  {
   "cell_type": "code",
   "execution_count": 24,
   "metadata": {},
   "outputs": [
    {
     "data": {
      "text/plain": [
       "TextBlob(\"Today is a beautiful day. Tomorrow looks like bad weather\")"
      ]
     },
     "execution_count": 24,
     "metadata": {},
     "output_type": "execute_result"
    }
   ],
   "source": [
    "blob"
   ]
  },
  {
   "cell_type": "code",
   "execution_count": 25,
   "metadata": {},
   "outputs": [
    {
     "name": "stdout",
     "output_type": "stream",
     "text": [
      "Sentiment(polarity=0.85, subjectivity=1.0)\n",
      "Sentiment(polarity=-0.6999999999999998, subjectivity=0.6666666666666666)\n"
     ]
    }
   ],
   "source": [
    "for sentence in blob.sentences:\n",
    "    print(sentence.sentiment)"
   ]
  },
  {
   "cell_type": "markdown",
   "metadata": {},
   "source": [
    "# Sentiment Analysis with the NaiveBayesAnalyzer"
   ]
  },
  {
   "cell_type": "code",
   "execution_count": 26,
   "metadata": {},
   "outputs": [],
   "source": [
    "from textblob.sentiments import NaiveBayesAnalyzer"
   ]
  },
  {
   "cell_type": "code",
   "execution_count": 27,
   "metadata": {},
   "outputs": [
    {
     "data": {
      "text/plain": [
       "'Today is a beautiful day. Tomorrow looks like bad weather'"
      ]
     },
     "execution_count": 27,
     "metadata": {},
     "output_type": "execute_result"
    }
   ],
   "source": [
    "text"
   ]
  },
  {
   "cell_type": "code",
   "execution_count": 28,
   "metadata": {},
   "outputs": [],
   "source": [
    "blob = TextBlob(text, analyzer=NaiveBayesAnalyzer())"
   ]
  },
  {
   "cell_type": "code",
   "execution_count": 29,
   "metadata": {},
   "outputs": [
    {
     "data": {
      "text/plain": [
       "TextBlob(\"Today is a beautiful day. Tomorrow looks like bad weather\")"
      ]
     },
     "execution_count": 29,
     "metadata": {},
     "output_type": "execute_result"
    }
   ],
   "source": [
    "blob"
   ]
  },
  {
   "cell_type": "code",
   "execution_count": 30,
   "metadata": {},
   "outputs": [
    {
     "data": {
      "text/plain": [
       "Sentiment(classification='neg', p_pos=0.47662917962091056, p_neg=0.5233708203790892)"
      ]
     },
     "execution_count": 30,
     "metadata": {},
     "output_type": "execute_result"
    }
   ],
   "source": [
    "blob.sentiment"
   ]
  },
  {
   "cell_type": "code",
   "execution_count": 31,
   "metadata": {},
   "outputs": [
    {
     "name": "stdout",
     "output_type": "stream",
     "text": [
      "Sentiment(classification='pos', p_pos=0.8117563121751951, p_neg=0.18824368782480477)\n",
      "Sentiment(classification='neg', p_pos=0.174363226578349, p_neg=0.8256367734216521)\n"
     ]
    }
   ],
   "source": [
    "for sentence in blob.sentences:\n",
    "    print(sentence.sentiment)"
   ]
  },
  {
   "cell_type": "markdown",
   "metadata": {},
   "source": [
    "# Language Detection and Translation\n",
    "- Near real-time translation\n",
    "- IBM Watson - inter-language translation"
   ]
  },
  {
   "cell_type": "code",
   "execution_count": 32,
   "metadata": {},
   "outputs": [
    {
     "data": {
      "text/plain": [
       "TextBlob(\"Today is a beautiful day. Tomorrow looks like bad weather\")"
      ]
     },
     "execution_count": 32,
     "metadata": {},
     "output_type": "execute_result"
    }
   ],
   "source": [
    "blob"
   ]
  },
  {
   "cell_type": "code",
   "execution_count": 33,
   "metadata": {},
   "outputs": [
    {
     "data": {
      "text/plain": [
       "'en'"
      ]
     },
     "execution_count": 33,
     "metadata": {},
     "output_type": "execute_result"
    }
   ],
   "source": [
    "blob.detect_language()"
   ]
  },
  {
   "cell_type": "code",
   "execution_count": 34,
   "metadata": {},
   "outputs": [],
   "source": [
    "spanish = blob.translate(to='es')"
   ]
  },
  {
   "cell_type": "code",
   "execution_count": 35,
   "metadata": {},
   "outputs": [
    {
     "data": {
      "text/plain": [
       "TextBlob(\"Hoy es un hermoso dia. Mañana parece mal tiempo\")"
      ]
     },
     "execution_count": 35,
     "metadata": {},
     "output_type": "execute_result"
    }
   ],
   "source": [
    "spanish"
   ]
  },
  {
   "cell_type": "code",
   "execution_count": 36,
   "metadata": {},
   "outputs": [],
   "source": [
    "chinese = blob.translate(to='zh')"
   ]
  },
  {
   "cell_type": "code",
   "execution_count": 37,
   "metadata": {},
   "outputs": [
    {
     "data": {
      "text/plain": [
       "TextBlob(\"今天是美好的一天。明天看起来天气不好\")"
      ]
     },
     "execution_count": 37,
     "metadata": {},
     "output_type": "execute_result"
    }
   ],
   "source": [
    "chinese"
   ]
  },
  {
   "cell_type": "code",
   "execution_count": 38,
   "metadata": {},
   "outputs": [],
   "source": [
    "swahili = blob.translate(to='sw')"
   ]
  },
  {
   "cell_type": "code",
   "execution_count": 39,
   "metadata": {},
   "outputs": [
    {
     "data": {
      "text/plain": [
       "TextBlob(\"Leo ni siku nzuri. Kesho inaonekana kama hali mbaya ya hewa\")"
      ]
     },
     "execution_count": 39,
     "metadata": {},
     "output_type": "execute_result"
    }
   ],
   "source": [
    "swahili"
   ]
  },
  {
   "cell_type": "markdown",
   "metadata": {},
   "source": [
    "# Inflection: Pluralization and Singularization\n",
    "- Inflections are different forms of the same words, such as singular and plural eg person-people, and different verb tenses eg run-ran\n",
    "- Word frequencies - want to convert all inflected words to the same form -- accurate word freq"
   ]
  },
  {
   "cell_type": "code",
   "execution_count": 40,
   "metadata": {},
   "outputs": [],
   "source": [
    "from textblob import Word"
   ]
  },
  {
   "cell_type": "code",
   "execution_count": 41,
   "metadata": {},
   "outputs": [],
   "source": [
    "index = Word('index')"
   ]
  },
  {
   "cell_type": "code",
   "execution_count": 42,
   "metadata": {},
   "outputs": [
    {
     "data": {
      "text/plain": [
       "'index'"
      ]
     },
     "execution_count": 42,
     "metadata": {},
     "output_type": "execute_result"
    }
   ],
   "source": [
    "index"
   ]
  },
  {
   "cell_type": "code",
   "execution_count": 43,
   "metadata": {},
   "outputs": [
    {
     "data": {
      "text/plain": [
       "'indices'"
      ]
     },
     "execution_count": 43,
     "metadata": {},
     "output_type": "execute_result"
    }
   ],
   "source": [
    "index.pluralize()"
   ]
  },
  {
   "cell_type": "code",
   "execution_count": 44,
   "metadata": {},
   "outputs": [],
   "source": [
    "cacti = Word('cacti')"
   ]
  },
  {
   "cell_type": "code",
   "execution_count": 45,
   "metadata": {},
   "outputs": [
    {
     "data": {
      "text/plain": [
       "'cacti'"
      ]
     },
     "execution_count": 45,
     "metadata": {},
     "output_type": "execute_result"
    }
   ],
   "source": [
    "cacti"
   ]
  },
  {
   "cell_type": "code",
   "execution_count": 46,
   "metadata": {},
   "outputs": [
    {
     "data": {
      "text/plain": [
       "'cactus'"
      ]
     },
     "execution_count": 46,
     "metadata": {},
     "output_type": "execute_result"
    }
   ],
   "source": [
    "cacti.singularize()"
   ]
  },
  {
   "cell_type": "markdown",
   "metadata": {},
   "source": [
    "NB: Pluralizing cactus gives cactuss"
   ]
  },
  {
   "cell_type": "code",
   "execution_count": 47,
   "metadata": {},
   "outputs": [],
   "source": [
    "from textblob import TextBlob"
   ]
  },
  {
   "cell_type": "code",
   "execution_count": 48,
   "metadata": {},
   "outputs": [],
   "source": [
    "animals = TextBlob('dog cat fish bird').words"
   ]
  },
  {
   "cell_type": "code",
   "execution_count": 49,
   "metadata": {},
   "outputs": [
    {
     "data": {
      "text/plain": [
       "WordList(['dog', 'cat', 'fish', 'bird'])"
      ]
     },
     "execution_count": 49,
     "metadata": {},
     "output_type": "execute_result"
    }
   ],
   "source": [
    "animals"
   ]
  },
  {
   "cell_type": "code",
   "execution_count": 50,
   "metadata": {},
   "outputs": [
    {
     "data": {
      "text/plain": [
       "WordList(['dogs', 'cats', 'fish', 'birds'])"
      ]
     },
     "execution_count": 50,
     "metadata": {},
     "output_type": "execute_result"
    }
   ],
   "source": [
    "animals.pluralize()"
   ]
  },
  {
   "cell_type": "markdown",
   "metadata": {},
   "source": [
    "# Harvesting Data from Twitter\n",
    "- Tweepy > 3.7\n",
    "- geopy"
   ]
  },
  {
   "cell_type": "code",
   "execution_count": 51,
   "metadata": {},
   "outputs": [],
   "source": [
    "import tweepy \n",
    "# this is the gateway to using Twitter APIS. \n",
    "# You must authenticate with Twitter to be able to use it "
   ]
  },
  {
   "cell_type": "code",
   "execution_count": 52,
   "metadata": {},
   "outputs": [],
   "source": [
    "import keys"
   ]
  },
  {
   "cell_type": "markdown",
   "metadata": {},
   "source": [
    "- We need to create and configure an OAuthHandler to Authenticate with Twitter"
   ]
  },
  {
   "cell_type": "code",
   "execution_count": 53,
   "metadata": {},
   "outputs": [],
   "source": [
    "auth = tweepy.OAuthHandler(keys.consumer_key, keys.consumer_secret)"
   ]
  },
  {
   "cell_type": "code",
   "execution_count": 54,
   "metadata": {},
   "outputs": [],
   "source": [
    "auth.set_access_token(keys.access_token, keys.access_token_secret)"
   ]
  },
  {
   "cell_type": "markdown",
   "metadata": {},
   "source": [
    "- We must take note of two methods:\n",
    "    - 'wait_on_rate_limit=True' -- tweepy waits for 15 mins, gets to the limit to avoid violations of Twitter rules\n",
    "    - 'wait_on_rate_limit_notify=True' -- tweepy displays a command line message when you hit the rate limit "
   ]
  },
  {
   "cell_type": "code",
   "execution_count": 55,
   "metadata": {},
   "outputs": [],
   "source": [
    "api = tweepy.API(auth, wait_on_rate_limit=True, wait_on_rate_limit_notify=True)"
   ]
  },
  {
   "cell_type": "markdown",
   "metadata": {},
   "source": [
    "# Getting information about a Twitter Account"
   ]
  },
  {
   "cell_type": "code",
   "execution_count": 56,
   "metadata": {},
   "outputs": [],
   "source": [
    "trump = api.get_user('realDonaldTrump')"
   ]
  },
  {
   "cell_type": "code",
   "execution_count": 57,
   "metadata": {},
   "outputs": [],
   "source": [
    "nasa = api.get_user('nasa')"
   ]
  },
  {
   "cell_type": "code",
   "execution_count": 58,
   "metadata": {},
   "outputs": [
    {
     "data": {
      "text/plain": [
       "25073877"
      ]
     },
     "execution_count": 58,
     "metadata": {},
     "output_type": "execute_result"
    }
   ],
   "source": [
    "trump.id"
   ]
  },
  {
   "cell_type": "code",
   "execution_count": 59,
   "metadata": {},
   "outputs": [
    {
     "data": {
      "text/plain": [
       "11348282"
      ]
     },
     "execution_count": 59,
     "metadata": {},
     "output_type": "execute_result"
    }
   ],
   "source": [
    "nasa.id"
   ]
  },
  {
   "cell_type": "code",
   "execution_count": 60,
   "metadata": {},
   "outputs": [
    {
     "data": {
      "text/plain": [
       "'Donald J. Trump'"
      ]
     },
     "execution_count": 60,
     "metadata": {},
     "output_type": "execute_result"
    }
   ],
   "source": [
    "trump.name"
   ]
  },
  {
   "cell_type": "code",
   "execution_count": 61,
   "metadata": {},
   "outputs": [
    {
     "data": {
      "text/plain": [
       "'NASA'"
      ]
     },
     "execution_count": 61,
     "metadata": {},
     "output_type": "execute_result"
    }
   ],
   "source": [
    "nasa.name"
   ]
  },
  {
   "cell_type": "code",
   "execution_count": 62,
   "metadata": {},
   "outputs": [
    {
     "data": {
      "text/plain": [
       "'45th President of the United States of America🇺🇸'"
      ]
     },
     "execution_count": 62,
     "metadata": {},
     "output_type": "execute_result"
    }
   ],
   "source": [
    "trump.description"
   ]
  },
  {
   "cell_type": "code",
   "execution_count": 63,
   "metadata": {},
   "outputs": [
    {
     "data": {
      "text/plain": [
       "'🚀 Exploring the universe and our home planet.'"
      ]
     },
     "execution_count": 63,
     "metadata": {},
     "output_type": "execute_result"
    }
   ],
   "source": [
    "nasa.description"
   ]
  },
  {
   "cell_type": "code",
   "execution_count": 64,
   "metadata": {
    "scrolled": true
   },
   "outputs": [
    {
     "data": {
      "text/plain": [
       "'RT @realDonaldTrump: https://t.co/AMIT0WetT1'"
      ]
     },
     "execution_count": 64,
     "metadata": {},
     "output_type": "execute_result"
    }
   ],
   "source": [
    "trump.status.text"
   ]
  },
  {
   "cell_type": "code",
   "execution_count": 65,
   "metadata": {},
   "outputs": [
    {
     "data": {
      "text/plain": [
       "'RT @NASAKennedy: Launch Update 🚀 @NASA and @SpaceX are now targeting Sunday, Dec. 6 at 11:17 a.m. ET for the 21st Commercial Resupply Servi…'"
      ]
     },
     "execution_count": 65,
     "metadata": {},
     "output_type": "execute_result"
    }
   ],
   "source": [
    "nasa.status.text"
   ]
  },
  {
   "cell_type": "code",
   "execution_count": 66,
   "metadata": {},
   "outputs": [
    {
     "data": {
      "text/plain": [
       "42316939"
      ]
     },
     "execution_count": 66,
     "metadata": {},
     "output_type": "execute_result"
    }
   ],
   "source": [
    "nasa.followers_count"
   ]
  },
  {
   "cell_type": "code",
   "execution_count": 67,
   "metadata": {},
   "outputs": [
    {
     "data": {
      "text/plain": [
       "88745171"
      ]
     },
     "execution_count": 67,
     "metadata": {},
     "output_type": "execute_result"
    }
   ],
   "source": [
    "trump.followers_count"
   ]
  },
  {
   "cell_type": "code",
   "execution_count": 68,
   "metadata": {},
   "outputs": [],
   "source": [
    "obama = api.get_user('barackobama')"
   ]
  },
  {
   "cell_type": "code",
   "execution_count": 69,
   "metadata": {},
   "outputs": [
    {
     "data": {
      "text/plain": [
       "'Barack Obama'"
      ]
     },
     "execution_count": 69,
     "metadata": {},
     "output_type": "execute_result"
    }
   ],
   "source": [
    "obama.name"
   ]
  },
  {
   "cell_type": "code",
   "execution_count": 70,
   "metadata": {},
   "outputs": [
    {
     "data": {
      "text/plain": [
       "'Thanks for sharing Marjon. I hope you get something out of A Promised Land – keep up the good work! https://t.co/61xocjGFB5'"
      ]
     },
     "execution_count": 70,
     "metadata": {},
     "output_type": "execute_result"
    }
   ],
   "source": [
    "obama.status.text"
   ]
  },
  {
   "cell_type": "code",
   "execution_count": 71,
   "metadata": {},
   "outputs": [
    {
     "data": {
      "text/plain": [
       "126926633"
      ]
     },
     "execution_count": 71,
     "metadata": {},
     "output_type": "execute_result"
    }
   ],
   "source": [
    "obama.followers_count"
   ]
  },
  {
   "cell_type": "code",
   "execution_count": 72,
   "metadata": {},
   "outputs": [
    {
     "data": {
      "text/plain": [
       "598236"
      ]
     },
     "execution_count": 72,
     "metadata": {},
     "output_type": "execute_result"
    }
   ],
   "source": [
    "obama.friends_count"
   ]
  },
  {
   "cell_type": "code",
   "execution_count": 73,
   "metadata": {},
   "outputs": [],
   "source": [
    "me = api.me()"
   ]
  },
  {
   "cell_type": "code",
   "execution_count": 74,
   "metadata": {},
   "outputs": [
    {
     "data": {
      "text/plain": [
       "'Shreya Panchal'"
      ]
     },
     "execution_count": 74,
     "metadata": {},
     "output_type": "execute_result"
    }
   ],
   "source": [
    "me.name"
   ]
  },
  {
   "cell_type": "code",
   "execution_count": 75,
   "metadata": {},
   "outputs": [
    {
     "data": {
      "text/plain": [
       "0"
      ]
     },
     "execution_count": 75,
     "metadata": {},
     "output_type": "execute_result"
    }
   ],
   "source": [
    "me.friends_count"
   ]
  },
  {
   "cell_type": "code",
   "execution_count": 76,
   "metadata": {},
   "outputs": [
    {
     "data": {
      "text/plain": [
       "0"
      ]
     },
     "execution_count": 76,
     "metadata": {},
     "output_type": "execute_result"
    }
   ],
   "source": [
    "me.followers_count"
   ]
  },
  {
   "cell_type": "markdown",
   "metadata": {},
   "source": [
    "# Spellchecking and Correction"
   ]
  },
  {
   "cell_type": "markdown",
   "metadata": {},
   "source": [
    "- Free of spelling errors\n",
    "- Word's spellcheck method - list of tuples - correct spellings - confidence values\n",
    "- eg theyr for they"
   ]
  },
  {
   "cell_type": "code",
   "execution_count": 77,
   "metadata": {},
   "outputs": [],
   "source": [
    "from textblob import Word"
   ]
  },
  {
   "cell_type": "code",
   "execution_count": 78,
   "metadata": {},
   "outputs": [],
   "source": [
    "word = Word('theyr')"
   ]
  },
  {
   "cell_type": "code",
   "execution_count": 79,
   "metadata": {},
   "outputs": [
    {
     "data": {
      "text/plain": [
       "[('they', 0.571), ('their', 0.429)]"
      ]
     },
     "execution_count": 79,
     "metadata": {},
     "output_type": "execute_result"
    }
   ],
   "source": [
    "word.spellcheck()"
   ]
  },
  {
   "cell_type": "code",
   "execution_count": 80,
   "metadata": {},
   "outputs": [
    {
     "data": {
      "text/plain": [
       "'they'"
      ]
     },
     "execution_count": 80,
     "metadata": {},
     "output_type": "execute_result"
    }
   ],
   "source": [
    "word.correct()"
   ]
  },
  {
   "cell_type": "code",
   "execution_count": 81,
   "metadata": {},
   "outputs": [],
   "source": [
    "from textblob import TextBlob"
   ]
  },
  {
   "cell_type": "code",
   "execution_count": 82,
   "metadata": {},
   "outputs": [],
   "source": [
    "sentence = TextBlob('Ths sntnc ha mspled wrds')"
   ]
  },
  {
   "cell_type": "code",
   "execution_count": 83,
   "metadata": {},
   "outputs": [
    {
     "data": {
      "text/plain": [
       "TextBlob(\"The sntnc ha smiled words\")"
      ]
     },
     "execution_count": 83,
     "metadata": {},
     "output_type": "execute_result"
    }
   ],
   "source": [
    "sentence.correct()"
   ]
  },
  {
   "cell_type": "markdown",
   "metadata": {},
   "source": [
    "# Normalization: Stemming and Lemmatization\n",
    "- Stemming - prefix and suffix - remove - stem - not a real world meaning\n",
    "- Lemmatization - same -- result - real world meaning\n",
    "- Normalization - program, programs, programming"
   ]
  },
  {
   "cell_type": "code",
   "execution_count": 84,
   "metadata": {},
   "outputs": [],
   "source": [
    "from textblob import Word"
   ]
  },
  {
   "cell_type": "code",
   "execution_count": 85,
   "metadata": {},
   "outputs": [],
   "source": [
    "word = Word('varieties')"
   ]
  },
  {
   "cell_type": "code",
   "execution_count": 86,
   "metadata": {},
   "outputs": [
    {
     "data": {
      "text/plain": [
       "'varieti'"
      ]
     },
     "execution_count": 86,
     "metadata": {},
     "output_type": "execute_result"
    }
   ],
   "source": [
    "word.stem()"
   ]
  },
  {
   "cell_type": "code",
   "execution_count": 87,
   "metadata": {},
   "outputs": [
    {
     "data": {
      "text/plain": [
       "'variety'"
      ]
     },
     "execution_count": 87,
     "metadata": {},
     "output_type": "execute_result"
    }
   ],
   "source": [
    "word.lemmatize()"
   ]
  },
  {
   "cell_type": "markdown",
   "metadata": {},
   "source": [
    "# Word Frequencies\n",
    "- For similarity between word documents, we use word frequencies\n",
    "- TextBlob can count the word frequency for you\n",
    "- Path's read_text() reads closes\n"
   ]
  },
  {
   "cell_type": "code",
   "execution_count": 88,
   "metadata": {},
   "outputs": [],
   "source": [
    "from pathlib import Path"
   ]
  },
  {
   "cell_type": "code",
   "execution_count": 89,
   "metadata": {},
   "outputs": [],
   "source": [
    "from textblob import TextBlob "
   ]
  },
  {
   "cell_type": "code",
   "execution_count": 90,
   "metadata": {},
   "outputs": [],
   "source": [
    "blob = TextBlob(Path('RomeoAndJuliet.txt').read_text())"
   ]
  },
  {
   "cell_type": "code",
   "execution_count": 91,
   "metadata": {},
   "outputs": [
    {
     "data": {
      "text/plain": [
       "0"
      ]
     },
     "execution_count": 91,
     "metadata": {},
     "output_type": "execute_result"
    }
   ],
   "source": [
    "blob.word_counts['Juliet'] # sensitive to capitalization"
   ]
  },
  {
   "cell_type": "code",
   "execution_count": 92,
   "metadata": {},
   "outputs": [
    {
     "data": {
      "text/plain": [
       "177"
      ]
     },
     "execution_count": 92,
     "metadata": {},
     "output_type": "execute_result"
    }
   ],
   "source": [
    "blob.words.count('Juliet') # insensitive to capitalization"
   ]
  },
  {
   "cell_type": "code",
   "execution_count": 93,
   "metadata": {},
   "outputs": [
    {
     "data": {
      "text/plain": [
       "46"
      ]
     },
     "execution_count": 93,
     "metadata": {},
     "output_type": "execute_result"
    }
   ],
   "source": [
    "blob.noun_phrases.count('lady capulet')"
   ]
  },
  {
   "cell_type": "markdown",
   "metadata": {},
   "source": [
    "# Getting Definitions, Synonyms and Antonyms from WordNet\n",
    "- Using the WordNet, an English word database from which you can get definitions, synonyms and antonyms"
   ]
  },
  {
   "cell_type": "code",
   "execution_count": 94,
   "metadata": {},
   "outputs": [],
   "source": [
    "from textblob import Word"
   ]
  },
  {
   "cell_type": "code",
   "execution_count": 95,
   "metadata": {},
   "outputs": [],
   "source": [
    "happy = Word('happy')"
   ]
  },
  {
   "cell_type": "code",
   "execution_count": 96,
   "metadata": {},
   "outputs": [
    {
     "data": {
      "text/plain": [
       "['enjoying or showing or marked by joy or pleasure',\n",
       " 'marked by good fortune',\n",
       " 'eagerly disposed to act or to be of service',\n",
       " 'well expressed and to the point']"
      ]
     },
     "execution_count": 96,
     "metadata": {},
     "output_type": "execute_result"
    }
   ],
   "source": [
    "happy.definitions"
   ]
  },
  {
   "cell_type": "code",
   "execution_count": 97,
   "metadata": {},
   "outputs": [
    {
     "data": {
      "text/plain": [
       "[Synset('happy.a.01'),\n",
       " Synset('felicitous.s.02'),\n",
       " Synset('glad.s.02'),\n",
       " Synset('happy.s.04')]"
      ]
     },
     "execution_count": 97,
     "metadata": {},
     "output_type": "execute_result"
    }
   ],
   "source": [
    "happy.synsets"
   ]
  },
  {
   "cell_type": "markdown",
   "metadata": {},
   "source": [
    "- Synset is a group of synonyms\n",
    "- Word's lemmatized form\n",
    "- a-adjective ; n-noun ; v-verb ; r-adverb ; s-adjective satellite"
   ]
  },
  {
   "cell_type": "code",
   "execution_count": 98,
   "metadata": {},
   "outputs": [],
   "source": [
    "synonyms = set()"
   ]
  },
  {
   "cell_type": "code",
   "execution_count": 99,
   "metadata": {},
   "outputs": [],
   "source": [
    "for synset in happy.synsets:\n",
    "    for lemma in synset.lemmas():\n",
    "        synonyms.add(lemma.name())"
   ]
  },
  {
   "cell_type": "code",
   "execution_count": 100,
   "metadata": {},
   "outputs": [
    {
     "data": {
      "text/plain": [
       "{'felicitous', 'glad', 'happy', 'well-chosen'}"
      ]
     },
     "execution_count": 100,
     "metadata": {},
     "output_type": "execute_result"
    }
   ],
   "source": [
    "synonyms"
   ]
  },
  {
   "cell_type": "code",
   "execution_count": 101,
   "metadata": {},
   "outputs": [],
   "source": [
    "lemmas = happy.synsets[0].lemmas()"
   ]
  },
  {
   "cell_type": "code",
   "execution_count": 102,
   "metadata": {},
   "outputs": [
    {
     "data": {
      "text/plain": [
       "[Lemma('happy.a.01.happy')]"
      ]
     },
     "execution_count": 102,
     "metadata": {},
     "output_type": "execute_result"
    }
   ],
   "source": [
    "lemmas"
   ]
  },
  {
   "cell_type": "code",
   "execution_count": 103,
   "metadata": {},
   "outputs": [
    {
     "data": {
      "text/plain": [
       "[Lemma('unhappy.a.01.unhappy')]"
      ]
     },
     "execution_count": 103,
     "metadata": {},
     "output_type": "execute_result"
    }
   ],
   "source": [
    "lemmas[0].antonyms()"
   ]
  },
  {
   "cell_type": "markdown",
   "metadata": {},
   "source": [
    "# Stop Words\n",
    "- Words without much meaning in a statement\n",
    "- Common words that are often removed before analysis which don't provide useful information \n",
    "- nltk - stop words"
   ]
  },
  {
   "cell_type": "code",
   "execution_count": 104,
   "metadata": {},
   "outputs": [],
   "source": [
    "import nltk"
   ]
  },
  {
   "cell_type": "code",
   "execution_count": 105,
   "metadata": {},
   "outputs": [
    {
     "name": "stderr",
     "output_type": "stream",
     "text": [
      "[nltk_data] Downloading package stopwords to\n",
      "[nltk_data]     C:\\Users\\HP\\AppData\\Roaming\\nltk_data...\n",
      "[nltk_data]   Package stopwords is already up-to-date!\n"
     ]
    },
    {
     "data": {
      "text/plain": [
       "True"
      ]
     },
     "execution_count": 105,
     "metadata": {},
     "output_type": "execute_result"
    }
   ],
   "source": [
    "nltk.download('stopwords')"
   ]
  },
  {
   "cell_type": "code",
   "execution_count": 106,
   "metadata": {},
   "outputs": [],
   "source": [
    "from nltk.corpus import stopwords"
   ]
  },
  {
   "cell_type": "code",
   "execution_count": 107,
   "metadata": {},
   "outputs": [],
   "source": [
    "stops = stopwords.words('english')"
   ]
  },
  {
   "cell_type": "code",
   "execution_count": 108,
   "metadata": {},
   "outputs": [
    {
     "data": {
      "text/plain": [
       "['i',\n",
       " 'me',\n",
       " 'my',\n",
       " 'myself',\n",
       " 'we',\n",
       " 'our',\n",
       " 'ours',\n",
       " 'ourselves',\n",
       " 'you',\n",
       " \"you're\",\n",
       " \"you've\",\n",
       " \"you'll\",\n",
       " \"you'd\",\n",
       " 'your',\n",
       " 'yours',\n",
       " 'yourself',\n",
       " 'yourselves',\n",
       " 'he',\n",
       " 'him',\n",
       " 'his',\n",
       " 'himself',\n",
       " 'she',\n",
       " \"she's\",\n",
       " 'her',\n",
       " 'hers',\n",
       " 'herself',\n",
       " 'it',\n",
       " \"it's\",\n",
       " 'its',\n",
       " 'itself',\n",
       " 'they',\n",
       " 'them',\n",
       " 'their',\n",
       " 'theirs',\n",
       " 'themselves',\n",
       " 'what',\n",
       " 'which',\n",
       " 'who',\n",
       " 'whom',\n",
       " 'this',\n",
       " 'that',\n",
       " \"that'll\",\n",
       " 'these',\n",
       " 'those',\n",
       " 'am',\n",
       " 'is',\n",
       " 'are',\n",
       " 'was',\n",
       " 'were',\n",
       " 'be',\n",
       " 'been',\n",
       " 'being',\n",
       " 'have',\n",
       " 'has',\n",
       " 'had',\n",
       " 'having',\n",
       " 'do',\n",
       " 'does',\n",
       " 'did',\n",
       " 'doing',\n",
       " 'a',\n",
       " 'an',\n",
       " 'the',\n",
       " 'and',\n",
       " 'but',\n",
       " 'if',\n",
       " 'or',\n",
       " 'because',\n",
       " 'as',\n",
       " 'until',\n",
       " 'while',\n",
       " 'of',\n",
       " 'at',\n",
       " 'by',\n",
       " 'for',\n",
       " 'with',\n",
       " 'about',\n",
       " 'against',\n",
       " 'between',\n",
       " 'into',\n",
       " 'through',\n",
       " 'during',\n",
       " 'before',\n",
       " 'after',\n",
       " 'above',\n",
       " 'below',\n",
       " 'to',\n",
       " 'from',\n",
       " 'up',\n",
       " 'down',\n",
       " 'in',\n",
       " 'out',\n",
       " 'on',\n",
       " 'off',\n",
       " 'over',\n",
       " 'under',\n",
       " 'again',\n",
       " 'further',\n",
       " 'then',\n",
       " 'once',\n",
       " 'here',\n",
       " 'there',\n",
       " 'when',\n",
       " 'where',\n",
       " 'why',\n",
       " 'how',\n",
       " 'all',\n",
       " 'any',\n",
       " 'both',\n",
       " 'each',\n",
       " 'few',\n",
       " 'more',\n",
       " 'most',\n",
       " 'other',\n",
       " 'some',\n",
       " 'such',\n",
       " 'no',\n",
       " 'nor',\n",
       " 'not',\n",
       " 'only',\n",
       " 'own',\n",
       " 'same',\n",
       " 'so',\n",
       " 'than',\n",
       " 'too',\n",
       " 'very',\n",
       " 's',\n",
       " 't',\n",
       " 'can',\n",
       " 'will',\n",
       " 'just',\n",
       " 'don',\n",
       " \"don't\",\n",
       " 'should',\n",
       " \"should've\",\n",
       " 'now',\n",
       " 'd',\n",
       " 'll',\n",
       " 'm',\n",
       " 'o',\n",
       " 're',\n",
       " 've',\n",
       " 'y',\n",
       " 'ain',\n",
       " 'aren',\n",
       " \"aren't\",\n",
       " 'couldn',\n",
       " \"couldn't\",\n",
       " 'didn',\n",
       " \"didn't\",\n",
       " 'doesn',\n",
       " \"doesn't\",\n",
       " 'hadn',\n",
       " \"hadn't\",\n",
       " 'hasn',\n",
       " \"hasn't\",\n",
       " 'haven',\n",
       " \"haven't\",\n",
       " 'isn',\n",
       " \"isn't\",\n",
       " 'ma',\n",
       " 'mightn',\n",
       " \"mightn't\",\n",
       " 'mustn',\n",
       " \"mustn't\",\n",
       " 'needn',\n",
       " \"needn't\",\n",
       " 'shan',\n",
       " \"shan't\",\n",
       " 'shouldn',\n",
       " \"shouldn't\",\n",
       " 'wasn',\n",
       " \"wasn't\",\n",
       " 'weren',\n",
       " \"weren't\",\n",
       " 'won',\n",
       " \"won't\",\n",
       " 'wouldn',\n",
       " \"wouldn't\"]"
      ]
     },
     "execution_count": 108,
     "metadata": {},
     "output_type": "execute_result"
    }
   ],
   "source": [
    "stops"
   ]
  },
  {
   "cell_type": "code",
   "execution_count": 109,
   "metadata": {},
   "outputs": [],
   "source": [
    "stopsFrench = stopwords.words('french')"
   ]
  },
  {
   "cell_type": "code",
   "execution_count": 110,
   "metadata": {},
   "outputs": [
    {
     "data": {
      "text/plain": [
       "['au',\n",
       " 'aux',\n",
       " 'avec',\n",
       " 'ce',\n",
       " 'ces',\n",
       " 'dans',\n",
       " 'de',\n",
       " 'des',\n",
       " 'du',\n",
       " 'elle',\n",
       " 'en',\n",
       " 'et',\n",
       " 'eux',\n",
       " 'il',\n",
       " 'ils',\n",
       " 'je',\n",
       " 'la',\n",
       " 'le',\n",
       " 'les',\n",
       " 'leur',\n",
       " 'lui',\n",
       " 'ma',\n",
       " 'mais',\n",
       " 'me',\n",
       " 'même',\n",
       " 'mes',\n",
       " 'moi',\n",
       " 'mon',\n",
       " 'ne',\n",
       " 'nos',\n",
       " 'notre',\n",
       " 'nous',\n",
       " 'on',\n",
       " 'ou',\n",
       " 'par',\n",
       " 'pas',\n",
       " 'pour',\n",
       " 'qu',\n",
       " 'que',\n",
       " 'qui',\n",
       " 'sa',\n",
       " 'se',\n",
       " 'ses',\n",
       " 'son',\n",
       " 'sur',\n",
       " 'ta',\n",
       " 'te',\n",
       " 'tes',\n",
       " 'toi',\n",
       " 'ton',\n",
       " 'tu',\n",
       " 'un',\n",
       " 'une',\n",
       " 'vos',\n",
       " 'votre',\n",
       " 'vous',\n",
       " 'c',\n",
       " 'd',\n",
       " 'j',\n",
       " 'l',\n",
       " 'à',\n",
       " 'm',\n",
       " 'n',\n",
       " 's',\n",
       " 't',\n",
       " 'y',\n",
       " 'été',\n",
       " 'étée',\n",
       " 'étées',\n",
       " 'étés',\n",
       " 'étant',\n",
       " 'étante',\n",
       " 'étants',\n",
       " 'étantes',\n",
       " 'suis',\n",
       " 'es',\n",
       " 'est',\n",
       " 'sommes',\n",
       " 'êtes',\n",
       " 'sont',\n",
       " 'serai',\n",
       " 'seras',\n",
       " 'sera',\n",
       " 'serons',\n",
       " 'serez',\n",
       " 'seront',\n",
       " 'serais',\n",
       " 'serait',\n",
       " 'serions',\n",
       " 'seriez',\n",
       " 'seraient',\n",
       " 'étais',\n",
       " 'était',\n",
       " 'étions',\n",
       " 'étiez',\n",
       " 'étaient',\n",
       " 'fus',\n",
       " 'fut',\n",
       " 'fûmes',\n",
       " 'fûtes',\n",
       " 'furent',\n",
       " 'sois',\n",
       " 'soit',\n",
       " 'soyons',\n",
       " 'soyez',\n",
       " 'soient',\n",
       " 'fusse',\n",
       " 'fusses',\n",
       " 'fût',\n",
       " 'fussions',\n",
       " 'fussiez',\n",
       " 'fussent',\n",
       " 'ayant',\n",
       " 'ayante',\n",
       " 'ayantes',\n",
       " 'ayants',\n",
       " 'eu',\n",
       " 'eue',\n",
       " 'eues',\n",
       " 'eus',\n",
       " 'ai',\n",
       " 'as',\n",
       " 'avons',\n",
       " 'avez',\n",
       " 'ont',\n",
       " 'aurai',\n",
       " 'auras',\n",
       " 'aura',\n",
       " 'aurons',\n",
       " 'aurez',\n",
       " 'auront',\n",
       " 'aurais',\n",
       " 'aurait',\n",
       " 'aurions',\n",
       " 'auriez',\n",
       " 'auraient',\n",
       " 'avais',\n",
       " 'avait',\n",
       " 'avions',\n",
       " 'aviez',\n",
       " 'avaient',\n",
       " 'eut',\n",
       " 'eûmes',\n",
       " 'eûtes',\n",
       " 'eurent',\n",
       " 'aie',\n",
       " 'aies',\n",
       " 'ait',\n",
       " 'ayons',\n",
       " 'ayez',\n",
       " 'aient',\n",
       " 'eusse',\n",
       " 'eusses',\n",
       " 'eût',\n",
       " 'eussions',\n",
       " 'eussiez',\n",
       " 'eussent']"
      ]
     },
     "execution_count": 110,
     "metadata": {},
     "output_type": "execute_result"
    }
   ],
   "source": [
    "stopsFrench"
   ]
  },
  {
   "cell_type": "code",
   "execution_count": 111,
   "metadata": {},
   "outputs": [],
   "source": [
    "from textblob import TextBlob"
   ]
  },
  {
   "cell_type": "code",
   "execution_count": 112,
   "metadata": {},
   "outputs": [],
   "source": [
    "blob = TextBlob('Today is a beautiful day.')"
   ]
  },
  {
   "cell_type": "code",
   "execution_count": 113,
   "metadata": {},
   "outputs": [
    {
     "data": {
      "text/plain": [
       "['Today', 'beautiful', 'day']"
      ]
     },
     "execution_count": 113,
     "metadata": {},
     "output_type": "execute_result"
    }
   ],
   "source": [
    "[word for word in blob.words if word not in stops]"
   ]
  },
  {
   "cell_type": "markdown",
   "metadata": {},
   "source": [
    "# n-grams\n",
    "- A sequence of n text items which could be letters in words or words in sentences\n",
    "- It is used to identify letters or words that appear frequently\n",
    "- Uses include:\n",
    "    - Predictive text input\n",
    "    - Speech-to-text conversions\n",
    "    - "
   ]
  },
  {
   "cell_type": "code",
   "execution_count": 114,
   "metadata": {},
   "outputs": [],
   "source": [
    "text = 'Today is a beautiful day. Tomorrow looks like bad weather.'"
   ]
  },
  {
   "cell_type": "code",
   "execution_count": 115,
   "metadata": {},
   "outputs": [],
   "source": [
    "blob = TextBlob(text)"
   ]
  },
  {
   "cell_type": "code",
   "execution_count": 116,
   "metadata": {},
   "outputs": [],
   "source": [
    "# ngrams() n=4 n=6 default is 3"
   ]
  },
  {
   "cell_type": "code",
   "execution_count": 117,
   "metadata": {},
   "outputs": [
    {
     "data": {
      "text/plain": [
       "[WordList(['Today', 'is']),\n",
       " WordList(['is', 'a']),\n",
       " WordList(['a', 'beautiful']),\n",
       " WordList(['beautiful', 'day']),\n",
       " WordList(['day', 'Tomorrow']),\n",
       " WordList(['Tomorrow', 'looks']),\n",
       " WordList(['looks', 'like']),\n",
       " WordList(['like', 'bad']),\n",
       " WordList(['bad', 'weather'])]"
      ]
     },
     "execution_count": 117,
     "metadata": {},
     "output_type": "execute_result"
    }
   ],
   "source": [
    "blob.ngrams(n=2)"
   ]
  },
  {
   "cell_type": "markdown",
   "metadata": {},
   "source": [
    "# Visualizing Word Frequencies with Bar Chart and Word Clouds"
   ]
  },
  {
   "cell_type": "markdown",
   "metadata": {},
   "source": [
    "- top 20 words - remove the stopwords"
   ]
  },
  {
   "cell_type": "code",
   "execution_count": 118,
   "metadata": {},
   "outputs": [],
   "source": [
    "%matplotlib inline"
   ]
  },
  {
   "cell_type": "code",
   "execution_count": 119,
   "metadata": {},
   "outputs": [],
   "source": [
    "#load the data\n",
    "from pathlib import Path"
   ]
  },
  {
   "cell_type": "code",
   "execution_count": 120,
   "metadata": {},
   "outputs": [],
   "source": [
    "from textblob import TextBlob"
   ]
  },
  {
   "cell_type": "code",
   "execution_count": 121,
   "metadata": {},
   "outputs": [],
   "source": [
    "blob = TextBlob(Path('RomeoAndJuliet.txt').read_text())"
   ]
  },
  {
   "cell_type": "code",
   "execution_count": 122,
   "metadata": {},
   "outputs": [],
   "source": [
    "from nltk.corpus import stopwords"
   ]
  },
  {
   "cell_type": "code",
   "execution_count": 123,
   "metadata": {},
   "outputs": [],
   "source": [
    "# getting the frequencies of the words"
   ]
  },
  {
   "cell_type": "code",
   "execution_count": 124,
   "metadata": {},
   "outputs": [],
   "source": [
    "items = blob.word_counts.items()"
   ]
  },
  {
   "cell_type": "code",
   "execution_count": 125,
   "metadata": {},
   "outputs": [],
   "source": [
    "stop_words = stopwords.words('english')"
   ]
  },
  {
   "cell_type": "code",
   "execution_count": 126,
   "metadata": {},
   "outputs": [],
   "source": [
    "# eliminate stop words\n",
    "items =[item for item in items if item[0] not in stop_words]"
   ]
  },
  {
   "cell_type": "code",
   "execution_count": 127,
   "metadata": {},
   "outputs": [
    {
     "data": {
      "text/plain": [
       "[('ï', 1),\n",
       " ('»', 1),\n",
       " ('¿', 1),\n",
       " ('contents', 1),\n",
       " ('prologue', 3),\n",
       " ('act', 13),\n",
       " ('scene', 51),\n",
       " ('public', 5),\n",
       " ('place', 16),\n",
       " ('ii', 12),\n",
       " ('street', 10),\n",
       " ('iii', 12),\n",
       " ('room', 8),\n",
       " ('capuletâ€™s', 22),\n",
       " ('house', 32),\n",
       " ('iv', 10),\n",
       " ('v', 10),\n",
       " ('hall', 8),\n",
       " ('chorus', 6),\n",
       " ('open', 9),\n",
       " ('adjoining', 2),\n",
       " ('garden', 8),\n",
       " ('friar', 104),\n",
       " ('lawrenceâ€™s', 10),\n",
       " ('cell', 22),\n",
       " ('vi', 2),\n",
       " ('gallery', 2),\n",
       " ('julietâ€™s', 11),\n",
       " ('chamber', 13),\n",
       " ('overlooking', 2),\n",
       " ('juliet', 177),\n",
       " ('bed', 25),\n",
       " ('mantua', 15),\n",
       " ('churchyard', 9),\n",
       " ('monument', 11),\n",
       " ('belonging', 3),\n",
       " ('capulets', 8),\n",
       " ('dramatis', 1),\n",
       " ('personã¦', 1),\n",
       " ('escalus', 2),\n",
       " ('prince', 37),\n",
       " ('verona', 13),\n",
       " ('mercutio', 83),\n",
       " ('kinsman', 12),\n",
       " ('friend', 15),\n",
       " ('romeo', 298),\n",
       " ('paris', 58),\n",
       " ('young', 24),\n",
       " ('nobleman', 2),\n",
       " ('page', 12),\n",
       " ('montague', 45),\n",
       " ('head', 16),\n",
       " ('veronese', 2),\n",
       " ('family', 2),\n",
       " ('feud', 2),\n",
       " ('lady', 109),\n",
       " ('wife', 20),\n",
       " ('son', 17),\n",
       " ('benvolio', 79),\n",
       " ('nephew', 3),\n",
       " ('abram', 7),\n",
       " ('servant', 31),\n",
       " ('balthasar', 19),\n",
       " ('capulet', 141),\n",
       " ('montagues', 6),\n",
       " ('daughter', 14),\n",
       " ('tybalt', 70),\n",
       " ('cousin', 19),\n",
       " ('old', 28),\n",
       " ('man', 66),\n",
       " ('nurse', 149),\n",
       " ('peter', 26),\n",
       " ('sampson', 22),\n",
       " ('gregory', 19),\n",
       " ('servants', 7),\n",
       " ('lawrence', 67),\n",
       " ('franciscan', 2),\n",
       " ('john', 10),\n",
       " ('order', 3),\n",
       " ('apothecary', 9),\n",
       " ('three', 8),\n",
       " ('musicians', 9),\n",
       " ('officer', 1),\n",
       " ('citizens', 6),\n",
       " ('several', 1),\n",
       " ('men', 22),\n",
       " ('women', 5),\n",
       " ('relations', 1),\n",
       " ('houses', 5),\n",
       " ('maskers', 3),\n",
       " ('guards', 1),\n",
       " ('watchmen', 1),\n",
       " ('attendants', 4),\n",
       " ('greater', 2),\n",
       " ('part', 24),\n",
       " ('play', 10),\n",
       " ('fifth', 1),\n",
       " ('enter', 75),\n",
       " ('two', 20),\n",
       " ('households', 1),\n",
       " ('alike', 3),\n",
       " ('dignity', 1),\n",
       " ('fair', 44),\n",
       " ('lay', 11),\n",
       " ('ancient', 9),\n",
       " ('grudge', 1),\n",
       " ('break', 5),\n",
       " ('new', 13),\n",
       " ('mutiny', 2),\n",
       " ('civil', 5),\n",
       " ('blood', 17),\n",
       " ('makes', 12),\n",
       " ('hands', 13),\n",
       " ('unclean', 1),\n",
       " ('forth', 12),\n",
       " ('fatal', 4),\n",
       " ('loins', 1),\n",
       " ('foes', 1),\n",
       " ('pair', 2),\n",
       " ('star-crossâ€™d', 1),\n",
       " ('lovers', 3),\n",
       " ('take', 40),\n",
       " ('life', 23),\n",
       " ('whose', 15),\n",
       " ('misadventurâ€™d', 1),\n",
       " ('piteous', 5),\n",
       " ('overthrows', 1),\n",
       " ('doth', 47),\n",
       " ('death', 69),\n",
       " ('bury', 3),\n",
       " ('parentsâ€™', 2),\n",
       " ('strife', 3),\n",
       " ('fearful', 7),\n",
       " ('passage', 1),\n",
       " ('death-markâ€™d', 1),\n",
       " ('love', 137),\n",
       " ('continuance', 1),\n",
       " ('rage', 4),\n",
       " ('childrenâ€™s', 1),\n",
       " ('end', 9),\n",
       " ('nought', 1),\n",
       " ('could', 17),\n",
       " ('remove', 4),\n",
       " ('hoursâ€™', 1),\n",
       " ('traffic', 1),\n",
       " ('stage', 1),\n",
       " ('patient', 3),\n",
       " ('ears', 10),\n",
       " ('attend', 3),\n",
       " ('shall', 110),\n",
       " ('miss', 2),\n",
       " ('toil', 3),\n",
       " ('strive', 1),\n",
       " ('mend', 2),\n",
       " ('exit', 32),\n",
       " ('armed', 1),\n",
       " ('swords', 5),\n",
       " ('bucklers', 1),\n",
       " ('word', 27),\n",
       " ('weâ€™ll', 10),\n",
       " ('carry', 2),\n",
       " ('coals', 1),\n",
       " ('colliers', 1),\n",
       " ('mean', 7),\n",
       " ('choler', 2),\n",
       " ('draw', 11),\n",
       " ('ay', 30),\n",
       " ('live', 19),\n",
       " ('neck', 2),\n",
       " ('oâ€™', 6),\n",
       " ('collar', 1),\n",
       " ('strike', 5),\n",
       " ('quickly', 5),\n",
       " ('moved', 6),\n",
       " ('thou', 277),\n",
       " ('art', 55),\n",
       " ('dog', 5),\n",
       " ('moves', 1),\n",
       " ('move', 9),\n",
       " ('stir', 6),\n",
       " ('valiant', 2),\n",
       " ('stand', 26),\n",
       " ('therefore', 23),\n",
       " ('runnâ€™st', 1),\n",
       " ('away', 23),\n",
       " ('wall', 9),\n",
       " ('maid', 10),\n",
       " ('montagueâ€™s', 2),\n",
       " ('shows', 7),\n",
       " ('thee', 138),\n",
       " ('weak', 4),\n",
       " ('slave', 3),\n",
       " ('weakest', 1),\n",
       " ('goes', 3),\n",
       " ('true', 26),\n",
       " ('weaker', 1),\n",
       " ('vessels', 1),\n",
       " ('ever', 12),\n",
       " ('thrust', 3),\n",
       " ('push', 1),\n",
       " ('maids', 6),\n",
       " ('quarrel', 11),\n",
       " ('masters', 1),\n",
       " ('us', 30),\n",
       " ('â€™tis', 40),\n",
       " ('one', 60),\n",
       " ('show', 11),\n",
       " ('tyrant', 2),\n",
       " ('fought', 4),\n",
       " ('cut', 4),\n",
       " ('heads', 5),\n",
       " ('maidenheads', 1),\n",
       " ('sense', 3),\n",
       " ('wilt', 29),\n",
       " ('must', 40),\n",
       " ('feel', 7),\n",
       " ('able', 2),\n",
       " ('known', 4),\n",
       " ('pretty', 5),\n",
       " ('piece', 2),\n",
       " ('flesh', 7),\n",
       " ('well', 58),\n",
       " ('fish', 2),\n",
       " ('hadst', 6),\n",
       " ('poor', 18),\n",
       " ('thy', 170),\n",
       " ('tool', 1),\n",
       " ('comes', 27),\n",
       " ('naked', 1),\n",
       " ('weapon', 2),\n",
       " ('back', 29),\n",
       " ('turn', 12),\n",
       " ('run', 14),\n",
       " ('fear', 15),\n",
       " ('marry', 22),\n",
       " ('let', 44),\n",
       " ('law', 11),\n",
       " ('sides', 1),\n",
       " ('begin', 4),\n",
       " ('frown', 2),\n",
       " ('pass', 3),\n",
       " ('list', 1),\n",
       " ('nay', 20),\n",
       " ('dare', 5),\n",
       " ('bite', 8),\n",
       " ('thumb', 6),\n",
       " ('disgrace', 1),\n",
       " ('bear', 12),\n",
       " ('sir', 57),\n",
       " ('side', 6),\n",
       " ('say', 52),\n",
       " ('serve', 6),\n",
       " ('good', 81),\n",
       " ('better', 12),\n",
       " ('masterâ€™s', 2),\n",
       " ('kinsmen', 4),\n",
       " ('yes', 2),\n",
       " ('lie', 21),\n",
       " ('remember', 6),\n",
       " ('washing', 1),\n",
       " ('blow', 2),\n",
       " ('fight', 6),\n",
       " ('fools', 2),\n",
       " ('put', 17),\n",
       " ('know', 35),\n",
       " ('beats', 4),\n",
       " ('drawn', 3),\n",
       " ('among', 6),\n",
       " ('heartless', 1),\n",
       " ('hinds', 1),\n",
       " ('look', 31),\n",
       " ('upon', 42),\n",
       " ('keep', 16),\n",
       " ('peace', 19),\n",
       " ('sword', 8),\n",
       " ('manage', 2),\n",
       " ('talk', 12),\n",
       " ('hate', 12),\n",
       " ('hell', 5),\n",
       " ('coward', 1),\n",
       " ('four', 2),\n",
       " ('clubs', 2),\n",
       " ('first', 34),\n",
       " ('citizen', 3),\n",
       " ('bills', 1),\n",
       " ('partisans', 2),\n",
       " ('beat', 4),\n",
       " ('gown', 1),\n",
       " ('noise', 7),\n",
       " ('give', 47),\n",
       " ('long', 16),\n",
       " ('ho', 13),\n",
       " ('crutch', 2),\n",
       " ('call', 23),\n",
       " ('come', 94),\n",
       " ('flourishes', 1),\n",
       " ('blade', 2),\n",
       " ('spite', 4),\n",
       " ('villain', 16),\n",
       " ('hold', 16),\n",
       " ('go', 75),\n",
       " ('shalt', 11),\n",
       " ('foot', 9),\n",
       " ('seek', 4),\n",
       " ('foe', 5),\n",
       " ('rebellious', 1),\n",
       " ('subjects', 1),\n",
       " ('enemies', 2),\n",
       " ('profaners', 1),\n",
       " ('neighbour-stained', 1),\n",
       " ('steel', 4),\n",
       " ('â€', 40),\n",
       " ('”', 65),\n",
       " ('hear', 22),\n",
       " ('beasts', 1),\n",
       " ('quench', 2),\n",
       " ('fire', 7),\n",
       " ('pernicious', 1),\n",
       " ('purple', 1),\n",
       " ('fountains', 1),\n",
       " ('issuing', 1),\n",
       " ('veins', 4),\n",
       " ('pain', 3),\n",
       " ('torture', 4),\n",
       " ('bloody', 7),\n",
       " ('throw', 1),\n",
       " ('mistemperâ€™d', 1),\n",
       " ('weapons', 2),\n",
       " ('ground', 9),\n",
       " ('sentence', 2),\n",
       " ('brawls', 2),\n",
       " ('bred', 1),\n",
       " ('airy', 3),\n",
       " ('thrice', 1),\n",
       " ('disturbâ€™d', 1),\n",
       " ('quiet', 4),\n",
       " ('streets', 4),\n",
       " ('made', 22),\n",
       " ('veronaâ€™s', 2),\n",
       " ('cast', 3),\n",
       " ('grave', 17),\n",
       " ('beseeming', 1),\n",
       " ('ornaments', 2),\n",
       " ('wield', 1),\n",
       " ('cankerâ€™d', 2),\n",
       " ('disturb', 2),\n",
       " ('lives', 14),\n",
       " ('pay', 4),\n",
       " ('forfeit', 2),\n",
       " ('time', 32),\n",
       " ('rest', 16),\n",
       " ('depart', 4),\n",
       " ('along', 4),\n",
       " ('afternoon', 3),\n",
       " ('farther', 2),\n",
       " ('pleasure', 5),\n",
       " ('case', 9),\n",
       " ('free-town', 1),\n",
       " ('common', 2),\n",
       " ('judgement-place', 1),\n",
       " ('exeunt', 33),\n",
       " ('set', 10),\n",
       " ('abroach', 1),\n",
       " ('speak', 28),\n",
       " ('began', 2),\n",
       " ('adversary', 1),\n",
       " ('close', 6),\n",
       " ('fighting', 1),\n",
       " ('ere', 21),\n",
       " ('approach', 3),\n",
       " ('drew', 2),\n",
       " ('instant', 1),\n",
       " ('came', 13),\n",
       " ('fiery', 1),\n",
       " ('preparâ€™d', 1),\n",
       " ('breathâ€™d', 2),\n",
       " ('defiance', 1),\n",
       " ('swung', 1),\n",
       " ('winds', 2),\n",
       " ('nothing', 14),\n",
       " ('hurt', 6),\n",
       " ('withal', 5),\n",
       " ('hissâ€™d', 1),\n",
       " ('scorn', 5),\n",
       " ('interchanging', 1),\n",
       " ('thrusts', 1),\n",
       " ('blows', 3),\n",
       " ('till', 22),\n",
       " ('parted', 1),\n",
       " ('either', 9),\n",
       " ('saw', 10),\n",
       " ('today', 3),\n",
       " ('right', 5),\n",
       " ('glad', 2),\n",
       " ('fray', 4),\n",
       " ('madam', 23),\n",
       " ('hour', 17),\n",
       " ('worshippâ€™d', 1),\n",
       " ('sun', 15),\n",
       " ('peerâ€™d', 1),\n",
       " ('golden', 4),\n",
       " ('window', 4),\n",
       " ('east', 4),\n",
       " ('troubled', 1),\n",
       " ('mind', 8),\n",
       " ('drave', 1),\n",
       " ('walk', 4),\n",
       " ('abroad', 3),\n",
       " ('underneath', 2),\n",
       " ('grove', 1),\n",
       " ('sycamore', 1),\n",
       " ('westward', 1),\n",
       " ('rooteth', 1),\n",
       " ('city', 4),\n",
       " ('early', 16),\n",
       " ('walking', 1),\n",
       " ('see', 36),\n",
       " ('towards', 4),\n",
       " ('ware', 1),\n",
       " ('stole', 1),\n",
       " ('covert', 1),\n",
       " ('wood', 1),\n",
       " ('measuring', 1),\n",
       " ('affections', 2),\n",
       " ('sought', 4),\n",
       " ('might', 6),\n",
       " ('found', 7),\n",
       " ('many', 14),\n",
       " ('weary', 2),\n",
       " ('self', 2),\n",
       " ('pursuâ€™d', 2),\n",
       " ('humour', 3),\n",
       " ('pursuing', 1),\n",
       " ('gladly', 2),\n",
       " ('shunnâ€™d', 1),\n",
       " ('fled', 2),\n",
       " ('morning', 7),\n",
       " ('hath', 64),\n",
       " ('seen', 6),\n",
       " ('tears', 20),\n",
       " ('augmenting', 1),\n",
       " ('fresh', 2),\n",
       " ('morningâ€™s', 4),\n",
       " ('dew', 4),\n",
       " ('adding', 1),\n",
       " ('clouds', 8),\n",
       " ('deep', 6),\n",
       " ('sighs', 5),\n",
       " ('soon', 13),\n",
       " ('all-cheering', 1),\n",
       " ('farthest', 2),\n",
       " ('shady', 1),\n",
       " ('curtains', 1),\n",
       " ('auroraâ€™s', 1),\n",
       " ('light', 30),\n",
       " ('steals', 1),\n",
       " ('home', 6),\n",
       " ('heavy', 10),\n",
       " ('private', 2),\n",
       " ('pens', 1),\n",
       " ('shuts', 2),\n",
       " ('windows', 2),\n",
       " ('locks', 2),\n",
       " ('daylight', 4),\n",
       " ('artificial', 1),\n",
       " ('night', 68),\n",
       " ('black', 10),\n",
       " ('portentous', 1),\n",
       " ('prove', 6),\n",
       " ('unless', 6),\n",
       " ('counsel', 8),\n",
       " ('may', 48),\n",
       " ('cause', 5),\n",
       " ('noble', 8),\n",
       " ('uncle', 4),\n",
       " ('neither', 2),\n",
       " ('learn', 3),\n",
       " ('importunâ€™d', 1),\n",
       " ('means', 9),\n",
       " ('friends', 5),\n",
       " ('affectionsâ€™', 1),\n",
       " ('counsellor', 2),\n",
       " ('himselfâ€', 1),\n",
       " ('trueâ€', 1),\n",
       " ('secret', 4),\n",
       " ('far', 5),\n",
       " ('sounding', 2),\n",
       " ('discovery', 1),\n",
       " ('bud', 2),\n",
       " ('bit', 1),\n",
       " ('envious', 6),\n",
       " ('worm', 2),\n",
       " ('spread', 2),\n",
       " ('sweet', 34),\n",
       " ('leaves', 2),\n",
       " ('air', 7),\n",
       " ('dedicate', 1),\n",
       " ('beauty', 11),\n",
       " ('whence', 2),\n",
       " ('sorrows', 2),\n",
       " ('grow', 3),\n",
       " ('would', 54),\n",
       " ('willingly', 1),\n",
       " ('cure', 3),\n",
       " ('please', 3),\n",
       " ('step', 1),\n",
       " ('aside', 6),\n",
       " ('iâ€™ll', 71),\n",
       " ('grievance', 1),\n",
       " ('much', 37),\n",
       " ('denied', 1),\n",
       " ('wert', 3),\n",
       " ('happy', 12),\n",
       " ('stay', 27),\n",
       " ('shrift', 5),\n",
       " ('letâ€™s', 6),\n",
       " ('morrow', 6),\n",
       " ('day', 45),\n",
       " ('struck', 2),\n",
       " ('nine', 5),\n",
       " ('sad', 5),\n",
       " ('hours', 6),\n",
       " ('seem', 1),\n",
       " ('father', 22),\n",
       " ('went', 1),\n",
       " ('hence', 27),\n",
       " ('fast', 3),\n",
       " ('sadness', 4),\n",
       " ('lengthens', 1),\n",
       " ('romeoâ€™s', 16),\n",
       " ('short', 7),\n",
       " ('favour', 2),\n",
       " ('alas', 8),\n",
       " ('gentle', 12),\n",
       " ('view', 3),\n",
       " ('tyrannous', 1),\n",
       " ('rough', 5),\n",
       " ('proof', 3),\n",
       " ('muffled', 1),\n",
       " ('still', 14),\n",
       " ('without', 13),\n",
       " ('eyes', 28),\n",
       " ('pathways', 1),\n",
       " ('dine', 1),\n",
       " ('yet', 47),\n",
       " ('tell', 44),\n",
       " ('heard', 2),\n",
       " ('hereâ€™s', 10),\n",
       " ('brawling', 1),\n",
       " ('loving', 6),\n",
       " ('anything', 4),\n",
       " ('create', 1),\n",
       " ('lightness', 1),\n",
       " ('serious', 1),\n",
       " ('vanity', 2),\n",
       " ('misshapen', 2),\n",
       " ('chaos', 1),\n",
       " ('well-seeming', 1),\n",
       " ('forms', 1),\n",
       " ('feather', 1),\n",
       " ('lead', 6),\n",
       " ('bright', 5),\n",
       " ('smoke', 2),\n",
       " ('cold', 7),\n",
       " ('sick', 7),\n",
       " ('health', 1),\n",
       " ('still-waking', 1),\n",
       " ('sleep', 12),\n",
       " ('dost', 15),\n",
       " ('laugh', 3),\n",
       " ('coz', 4),\n",
       " ('rather', 4),\n",
       " ('weep', 9),\n",
       " ('heart', 26),\n",
       " ('heartâ€™s', 3),\n",
       " ('oppression', 3),\n",
       " ('loveâ€™s', 11),\n",
       " ('transgression', 1),\n",
       " ('griefs', 4),\n",
       " ('mine', 29),\n",
       " ('breast', 6),\n",
       " ('propagate', 1),\n",
       " ('prest', 1),\n",
       " ('thine', 13),\n",
       " ('hast', 28),\n",
       " ('shown', 2),\n",
       " ('add', 1),\n",
       " ('grief', 12),\n",
       " ('fume', 1),\n",
       " ('purgâ€™d', 2),\n",
       " ('sparkling', 1),\n",
       " ('loversâ€™', 5),\n",
       " ('vexâ€™d', 2),\n",
       " ('sea', 7),\n",
       " ('nourishâ€™d', 1),\n",
       " ('else', 13),\n",
       " ('madness', 1),\n",
       " ('discreet', 1),\n",
       " ('choking', 1),\n",
       " ('gall', 2),\n",
       " ('preserving', 1),\n",
       " ('farewell', 20),\n",
       " ('going', 5),\n",
       " ('soft', 5),\n",
       " ('leave', 13),\n",
       " ('wrong', 2),\n",
       " ('tut', 4),\n",
       " ('lost', 3),\n",
       " ('heâ€™s', 11),\n",
       " ('groan', 2),\n",
       " ('sadly', 1),\n",
       " ('bid', 21),\n",
       " ('make', 40),\n",
       " ('ill', 12),\n",
       " ('urgâ€™d', 3),\n",
       " ('woman', 3),\n",
       " ('aimâ€™d', 1),\n",
       " ('near', 7),\n",
       " ('supposâ€™d', 2),\n",
       " ('lovâ€™d', 3),\n",
       " ('markman', 1),\n",
       " ('sheâ€™s', 12),\n",
       " ('mark', 6),\n",
       " ('soonest', 1),\n",
       " ('hit', 7),\n",
       " ('sheâ€™ll', 2),\n",
       " ('cupidâ€™s', 2),\n",
       " ('arrow', 1),\n",
       " ('dianâ€™s', 1),\n",
       " ('wit', 13),\n",
       " ('strong', 3),\n",
       " ('chastity', 1),\n",
       " ('armâ€™d', 2),\n",
       " ('childish', 1),\n",
       " ('bow', 3),\n",
       " ('uncharmâ€™d', 1),\n",
       " ('siege', 2),\n",
       " ('terms', 1),\n",
       " ('bide', 1),\n",
       " ('thâ€™encounter', 1),\n",
       " ('assailing', 1),\n",
       " ('ope', 2),\n",
       " ('lap', 1),\n",
       " ('saint-seducing', 1),\n",
       " ('gold', 5),\n",
       " ('rich', 10),\n",
       " ('dies', 6),\n",
       " ('store', 2),\n",
       " ('sworn', 3),\n",
       " ('chaste', 1),\n",
       " ('sparing', 1),\n",
       " ('huge', 1),\n",
       " ('waste', 3),\n",
       " ('starvâ€™d', 1),\n",
       " ('severity', 1),\n",
       " ('cuts', 1),\n",
       " ('posterity', 1),\n",
       " ('wise', 5),\n",
       " ('wisely', 5),\n",
       " ('merit', 2),\n",
       " ('bliss', 2),\n",
       " ('making', 3),\n",
       " ('despair', 2),\n",
       " ('forsworn', 4),\n",
       " ('vow', 4),\n",
       " ('dead', 48),\n",
       " ('rulâ€™d', 3),\n",
       " ('forget', 9),\n",
       " ('think', 21),\n",
       " ('teach', 3),\n",
       " ('giving', 2),\n",
       " ('liberty', 3),\n",
       " ('unto', 9),\n",
       " ('examine', 2),\n",
       " ('beauties', 3),\n",
       " ('way', 9),\n",
       " ('exquisite', 1),\n",
       " ('question', 2),\n",
       " ('masks', 1),\n",
       " ('kiss', 10),\n",
       " ('ladiesâ€™', 2),\n",
       " ('brows', 2),\n",
       " ('puts', 1),\n",
       " ('hide', 9),\n",
       " ('strucken', 1),\n",
       " ('blind', 5),\n",
       " ('precious', 3),\n",
       " ('treasure', 1),\n",
       " ('eyesight', 2),\n",
       " ('mistress', 8),\n",
       " ('passing', 2),\n",
       " ('note', 4),\n",
       " ('read', 6),\n",
       " ('passâ€™d', 1),\n",
       " ('canst', 7),\n",
       " ('doctrine', 1),\n",
       " ('die', 23),\n",
       " ('debt', 2),\n",
       " ('bound', 8),\n",
       " ('penalty', 1),\n",
       " ('hard', 3),\n",
       " ('honourable', 5),\n",
       " ('reckoning', 2),\n",
       " ('pity', 2),\n",
       " ('livâ€™d', 1),\n",
       " ('odds', 1),\n",
       " ('lord', 30),\n",
       " ('suit', 3),\n",
       " ('saying', 1),\n",
       " ('oâ€™er', 11),\n",
       " ('said', 14),\n",
       " ('child', 15),\n",
       " ('stranger', 1),\n",
       " ('world', 15),\n",
       " ('change', 5),\n",
       " ('fourteen', 6),\n",
       " ('years', 12),\n",
       " ('summers', 1),\n",
       " ('wither', 1),\n",
       " ('pride', 2),\n",
       " ('ripe', 1),\n",
       " ('bride', 6),\n",
       " ('younger', 2),\n",
       " ('mothers', 2),\n",
       " ('marrâ€™d', 1),\n",
       " ('earth', 19),\n",
       " ('swallowed', 1),\n",
       " ('hopes', 1),\n",
       " ('hopeful', 1),\n",
       " ('woo', 4),\n",
       " ('get', 13),\n",
       " ('consent', 5),\n",
       " ('agree', 1),\n",
       " ('within', 19),\n",
       " ('scope', 1),\n",
       " ('choice', 2),\n",
       " ('lies', 19),\n",
       " ('according', 1),\n",
       " ('voice', 5),\n",
       " ('accustomâ€™d', 1),\n",
       " ('feast', 6),\n",
       " ('whereto', 1),\n",
       " ('invited', 1),\n",
       " ('guest', 2),\n",
       " ('welcome', 8),\n",
       " ('number', 2),\n",
       " ('behold', 7),\n",
       " ('earth-treading', 1),\n",
       " ('stars', 7),\n",
       " ('dark', 7),\n",
       " ('heaven', 29),\n",
       " ('comfort', 10),\n",
       " ('lusty', 2),\n",
       " ('apparellâ€™d', 1),\n",
       " ('april', 1),\n",
       " ('heel', 2),\n",
       " ('limping', 1),\n",
       " ('winter', 1),\n",
       " ('treads', 1),\n",
       " ('even', 12),\n",
       " ('delight', 3),\n",
       " ('female', 1),\n",
       " ('buds', 1),\n",
       " ('inherit', 1),\n",
       " ('like', 38),\n",
       " ('though', 11),\n",
       " ('none', 15),\n",
       " ('sirrah', 6),\n",
       " ('trudge', 2),\n",
       " ('find', 24),\n",
       " ('persons', 2),\n",
       " ('names', 4),\n",
       " ('written', 5),\n",
       " ('gives', 7),\n",
       " ('paper', 3),\n",
       " ('shoemaker', 1),\n",
       " ('meddle', 1),\n",
       " ('yard', 1),\n",
       " ('tailor', 2),\n",
       " ('last', 8),\n",
       " ('fisher', 1),\n",
       " ('pencil', 1),\n",
       " ('painter', 1),\n",
       " ('nets', 1),\n",
       " ('sent', 2),\n",
       " ('writ', 7),\n",
       " ('never', 18),\n",
       " ('writing', 1),\n",
       " ('person', 2),\n",
       " ('learned', 2),\n",
       " ('burns', 1),\n",
       " ('anotherâ€™s', 3),\n",
       " ('burning', 2),\n",
       " ('lessenâ€™d', 1),\n",
       " ('anguish', 1),\n",
       " ('giddy', 1),\n",
       " ('holp', 1),\n",
       " ('backward', 3),\n",
       " ('turning', 2),\n",
       " ('desperate', 10),\n",
       " ('cures', 1),\n",
       " ('languish', 1),\n",
       " ('infection', 2),\n",
       " ('eye', 19),\n",
       " ('rank', 1),\n",
       " ('poison', 14),\n",
       " ('plantain', 1),\n",
       " ('leaf', 1),\n",
       " ('excellent', 2),\n",
       " ('pray', 17),\n",
       " ('broken', 1),\n",
       " ('shin', 1),\n",
       " ('mad', 11),\n",
       " ('madman', 2),\n",
       " ('shut', 4),\n",
       " ('prison', 2),\n",
       " ('kept', 1),\n",
       " ('food', 3),\n",
       " ('whippâ€™d', 1),\n",
       " ('tormented', 1),\n",
       " ('andâ€', 1),\n",
       " ('god-den', 1),\n",
       " ('fellow', 5),\n",
       " ('god', 29),\n",
       " ('giâ€™', 1),\n",
       " ('go-den', 1),\n",
       " ('fortune', 7),\n",
       " ('misery', 2),\n",
       " ('perhaps', 1),\n",
       " ('book', 7),\n",
       " ('letters', 5),\n",
       " ('language', 1),\n",
       " ('ye', 12),\n",
       " ('honestly', 1),\n",
       " ('merry', 8),\n",
       " ('reads', 1),\n",
       " ('letter', 14),\n",
       " ('signior', 4),\n",
       " ('martino', 1),\n",
       " ('daughters', 2),\n",
       " ('county', 16),\n",
       " ('anselmo', 1),\n",
       " ('beauteous', 2),\n",
       " ('sisters', 1),\n",
       " ('widow', 1),\n",
       " ('utruvio', 1),\n",
       " ('placentio', 1),\n",
       " ('lovely', 2),\n",
       " ('nieces', 1),\n",
       " ('brother', 5),\n",
       " ('valentine', 1),\n",
       " ('niece', 1),\n",
       " ('rosaline', 9),\n",
       " ('livia', 1),\n",
       " ('valentio', 1),\n",
       " ('lucio', 1),\n",
       " ('lively', 1),\n",
       " ('helena', 1),\n",
       " ('assembly', 1),\n",
       " ('whither', 2),\n",
       " ('supper', 4),\n",
       " ('indeed', 9),\n",
       " ('askâ€™d', 1),\n",
       " ('asking', 1),\n",
       " ('master', 10),\n",
       " ('great', 9),\n",
       " ('crush', 1),\n",
       " ('cup', 3),\n",
       " ('wine', 1),\n",
       " ('sups', 1),\n",
       " ('lovâ€™st', 1),\n",
       " ('admired', 1),\n",
       " ('thither', 4),\n",
       " ('unattainted', 1),\n",
       " ('compare', 3),\n",
       " ('face', 21),\n",
       " ('swan', 1),\n",
       " ('crow', 3),\n",
       " ('devout', 1),\n",
       " ('religion', 1),\n",
       " ('maintains', 1),\n",
       " ('falsehood', 1),\n",
       " ('often', 2),\n",
       " ('drownâ€™d', 1),\n",
       " ('transparent', 1),\n",
       " ('heretics', 1),\n",
       " ('burnt', 2),\n",
       " ('liars', 1),\n",
       " ('fairer', 2),\n",
       " ('all-seeing', 1),\n",
       " ('neâ€™er', 10),\n",
       " ('match', 4),\n",
       " ('since', 11),\n",
       " ('begun', 1),\n",
       " ('poisâ€™d', 1),\n",
       " ('crystal', 1),\n",
       " ('scales', 1),\n",
       " ('weighâ€™d', 1),\n",
       " ('ladyâ€™s', 8),\n",
       " ('shining', 1),\n",
       " ('scant', 1),\n",
       " ('best', 12),\n",
       " ('sight', 8),\n",
       " ('rejoice', 2),\n",
       " ('splendour', 1),\n",
       " ('whereâ€™s', 6),\n",
       " ('maidenhead', 2),\n",
       " ('twelve', 2),\n",
       " ('year', 3),\n",
       " ('bade', 2),\n",
       " ('lamb', 4),\n",
       " ('ladybird', 1),\n",
       " ('forbid', 3),\n",
       " ('girl', 6),\n",
       " ('calls', 10),\n",
       " ('mother', 15),\n",
       " ('matter', 6),\n",
       " ('awhile', 4),\n",
       " ('rememberâ€™d', 1),\n",
       " ('thouâ€™s', 1),\n",
       " ('knowest', 2),\n",
       " ('daughterâ€™s', 3),\n",
       " ('age', 6),\n",
       " ('faith', 14),\n",
       " ('teeth', 1),\n",
       " ('teen', 1),\n",
       " ('spoken', 1),\n",
       " ('lammas-tide', 1),\n",
       " ('fortnight', 1),\n",
       " ('odd', 2),\n",
       " ('days', 9),\n",
       " ('lammas', 2),\n",
       " ('eve', 2),\n",
       " ('susan', 3),\n",
       " ('christian', 1),\n",
       " ('souls', 2),\n",
       " ('earthquake', 1),\n",
       " ('eleven', 2),\n",
       " ('weanâ€™d', 1),\n",
       " ('itâ€', 1),\n",
       " ('laid', 5),\n",
       " ('wormwood', 2),\n",
       " ('dug', 3),\n",
       " ('sitting', 2),\n",
       " ('dovehouse', 2),\n",
       " ('brain', 3),\n",
       " ('taste', 3),\n",
       " ('nipple', 1),\n",
       " ('felt', 2),\n",
       " ('bitter', 4),\n",
       " ('fool', 6),\n",
       " ('tetchy', 1),\n",
       " ('fall', 14),\n",
       " ('shake', 2),\n",
       " ('quoth', 5),\n",
       " ('â€™twas', 3),\n",
       " ('need', 10),\n",
       " ('trow', 2),\n",
       " ('alone', 15),\n",
       " ('thâ€™rood', 1),\n",
       " ('waddled', 1),\n",
       " ('broke', 2),\n",
       " ('brow', 4),\n",
       " ('husband', 14),\n",
       " ('soul', 14),\n",
       " ('took', 6),\n",
       " ('â€˜yea', 2),\n",
       " ('â€™', 12),\n",
       " ('â€˜dost', 1),\n",
       " ('jule', 3),\n",
       " ('holidame', 1),\n",
       " ('wretch', 3),\n",
       " ('left', 4),\n",
       " ('crying', 2),\n",
       " ('â€˜ayâ€™', 3),\n",
       " ('jest', 6),\n",
       " ('warrant', 11),\n",
       " ('thousand', 7),\n",
       " ('â€˜wilt', 1),\n",
       " ('stinted', 2),\n",
       " ('â€˜ay.â€™', 1),\n",
       " ('enough', 8),\n",
       " ('choose', 3),\n",
       " ('bump', 1),\n",
       " ('big', 2),\n",
       " ('cockerelâ€™s', 1),\n",
       " ('stone', 1),\n",
       " ('perilous', 1),\n",
       " ('knock', 3),\n",
       " ('cried', 1),\n",
       " ('bitterly', 2),\n",
       " ('â€˜fallâ€™st', 1),\n",
       " ('comest', 1),\n",
       " ('stint', 1),\n",
       " ('done', 10),\n",
       " ('grace', 5),\n",
       " ('wast', 6),\n",
       " ('prettiest', 2),\n",
       " ('babe', 1),\n",
       " ('eâ€™er', 2),\n",
       " ...]"
      ]
     },
     "execution_count": 127,
     "metadata": {},
     "output_type": "execute_result"
    }
   ],
   "source": [
    "items"
   ]
  },
  {
   "cell_type": "markdown",
   "metadata": {},
   "source": [
    "# Sorting the Words Frequency\n",
    "- Sorting in descending order\n",
    "- To specify the tuple element we use the item getter function - operator module"
   ]
  },
  {
   "cell_type": "code",
   "execution_count": 128,
   "metadata": {},
   "outputs": [],
   "source": [
    "from operator import itemgetter"
   ]
  },
  {
   "cell_type": "code",
   "execution_count": 129,
   "metadata": {},
   "outputs": [],
   "source": [
    "sorted_items=sorted(items, key=itemgetter(1), reverse=True)"
   ]
  },
  {
   "cell_type": "code",
   "execution_count": 130,
   "metadata": {},
   "outputs": [
    {
     "data": {
      "text/plain": [
       "('punished', 1)"
      ]
     },
     "execution_count": 130,
     "metadata": {},
     "output_type": "execute_result"
    }
   ],
   "source": [
    "sorted_items[len(sorted_items)-1]"
   ]
  },
  {
   "cell_type": "code",
   "execution_count": 131,
   "metadata": {},
   "outputs": [
    {
     "data": {
      "text/plain": [
       "3704"
      ]
     },
     "execution_count": 131,
     "metadata": {},
     "output_type": "execute_result"
    }
   ],
   "source": [
    "len(sorted_items)"
   ]
  },
  {
   "cell_type": "code",
   "execution_count": 132,
   "metadata": {},
   "outputs": [],
   "source": [
    "top20=sorted_items[:21]"
   ]
  },
  {
   "cell_type": "code",
   "execution_count": 133,
   "metadata": {},
   "outputs": [
    {
     "data": {
      "text/plain": [
       "('romeo', 298)"
      ]
     },
     "execution_count": 133,
     "metadata": {},
     "output_type": "execute_result"
    }
   ],
   "source": [
    "sorted_items[0]"
   ]
  },
  {
   "cell_type": "code",
   "execution_count": 134,
   "metadata": {},
   "outputs": [
    {
     "data": {
      "text/plain": [
       "list"
      ]
     },
     "execution_count": 134,
     "metadata": {},
     "output_type": "execute_result"
    }
   ],
   "source": [
    "type(sorted_items)"
   ]
  },
  {
   "cell_type": "code",
   "execution_count": 135,
   "metadata": {
    "scrolled": true
   },
   "outputs": [
    {
     "data": {
      "text/plain": [
       "[('romeo', 298),\n",
       " ('thou', 277),\n",
       " ('juliet', 177),\n",
       " ('thy', 170),\n",
       " ('nurse', 149),\n",
       " ('capulet', 141),\n",
       " ('thee', 138),\n",
       " ('love', 137),\n",
       " ('shall', 110),\n",
       " ('lady', 109),\n",
       " ('friar', 104),\n",
       " ('come', 94),\n",
       " ('mercutio', 83),\n",
       " ('good', 81),\n",
       " ('benvolio', 79),\n",
       " ('enter', 75),\n",
       " ('go', 75),\n",
       " ('iâ€™ll', 71),\n",
       " ('tybalt', 70),\n",
       " ('death', 69),\n",
       " ('night', 68),\n",
       " ('lawrence', 67),\n",
       " ('man', 66),\n",
       " ('”', 65),\n",
       " ('hath', 64),\n",
       " ('one', 60),\n",
       " ('paris', 58),\n",
       " ('well', 58),\n",
       " ('sir', 57),\n",
       " ('art', 55),\n",
       " ('would', 54),\n",
       " ('say', 52),\n",
       " ('scene', 51),\n",
       " ('may', 48),\n",
       " ('dead', 48),\n",
       " ('doth', 47),\n",
       " ('give', 47),\n",
       " ('yet', 47),\n",
       " ('montague', 45),\n",
       " ('day', 45),\n",
       " ('fair', 44),\n",
       " ('let', 44),\n",
       " ('tell', 44),\n",
       " ('upon', 42),\n",
       " ('take', 40),\n",
       " ('â€™tis', 40),\n",
       " ('must', 40),\n",
       " ('â€', 40),\n",
       " ('make', 40),\n",
       " ('like', 38),\n",
       " ('prince', 37),\n",
       " ('much', 37),\n",
       " ('see', 36),\n",
       " ('know', 35),\n",
       " ('first', 34),\n",
       " ('sweet', 34),\n",
       " ('exeunt', 33),\n",
       " ('gone', 33),\n",
       " ('house', 32),\n",
       " ('exit', 32),\n",
       " ('time', 32),\n",
       " ('servant', 31),\n",
       " ('look', 31),\n",
       " ('ay', 30),\n",
       " ('us', 30),\n",
       " ('light', 30),\n",
       " ('lord', 30),\n",
       " ('wilt', 29),\n",
       " ('back', 29),\n",
       " ('mine', 29),\n",
       " ('heaven', 29),\n",
       " ('god', 29),\n",
       " ('old', 28),\n",
       " ('speak', 28),\n",
       " ('eyes', 28),\n",
       " ('hast', 28),\n",
       " ('word', 27),\n",
       " ('comes', 27),\n",
       " ('stay', 27),\n",
       " ('hence', 27),\n",
       " ('peter', 26),\n",
       " ('stand', 26),\n",
       " ('true', 26),\n",
       " ('heart', 26),\n",
       " ('bed', 25),\n",
       " ('hand', 25),\n",
       " ('dear', 25),\n",
       " ('young', 24),\n",
       " ('part', 24),\n",
       " ('find', 24),\n",
       " ('name', 24),\n",
       " ('life', 23),\n",
       " ('therefore', 23),\n",
       " ('away', 23),\n",
       " ('call', 23),\n",
       " ('madam', 23),\n",
       " ('die', 23),\n",
       " ('watch', 23),\n",
       " ('capuletâ€™s', 22),\n",
       " ('cell', 22),\n",
       " ('sampson', 22),\n",
       " ('men', 22),\n",
       " ('marry', 22),\n",
       " ('hear', 22),\n",
       " ('made', 22),\n",
       " ('till', 22),\n",
       " ('father', 22),\n",
       " ('lie', 21),\n",
       " ('ere', 21),\n",
       " ('bid', 21),\n",
       " ('think', 21),\n",
       " ('face', 21),\n",
       " ('holy', 21),\n",
       " ('wife', 20),\n",
       " ('two', 20),\n",
       " ('nay', 20),\n",
       " ('tears', 20),\n",
       " ('farewell', 20),\n",
       " ('balthasar', 19),\n",
       " ('cousin', 19),\n",
       " ('gregory', 19),\n",
       " ('live', 19),\n",
       " ('peace', 19),\n",
       " ('earth', 19),\n",
       " ('within', 19),\n",
       " ('lies', 19),\n",
       " ('eye', 19),\n",
       " ('married', 19),\n",
       " ('poor', 18),\n",
       " ('never', 18),\n",
       " ('help', 18),\n",
       " ('son', 17),\n",
       " ('blood', 17),\n",
       " ('could', 17),\n",
       " ('put', 17),\n",
       " ('grave', 17),\n",
       " ('hour', 17),\n",
       " ('pray', 17),\n",
       " ('lips', 17),\n",
       " ('slain', 17),\n",
       " ('banished', 17),\n",
       " ('place', 16),\n",
       " ('head', 16),\n",
       " ('keep', 16),\n",
       " ('long', 16),\n",
       " ('villain', 16),\n",
       " ('hold', 16),\n",
       " ('rest', 16),\n",
       " ('early', 16),\n",
       " ('romeoâ€™s', 16),\n",
       " ('county', 16),\n",
       " ('second', 16),\n",
       " ('mantua', 15),\n",
       " ('friend', 15),\n",
       " ('whose', 15),\n",
       " ('fear', 15),\n",
       " ('sun', 15),\n",
       " ('dost', 15),\n",
       " ('child', 15),\n",
       " ('world', 15),\n",
       " ('none', 15),\n",
       " ('mother', 15),\n",
       " ('alone', 15),\n",
       " ('tonight', 15),\n",
       " ('ah', 15),\n",
       " ('tomorrow', 15),\n",
       " ('news', 15),\n",
       " ('daughter', 14),\n",
       " ('run', 14),\n",
       " ('lives', 14),\n",
       " ('nothing', 14),\n",
       " ('many', 14),\n",
       " ('still', 14),\n",
       " ('said', 14),\n",
       " ('poison', 14),\n",
       " ('letter', 14),\n",
       " ('faith', 14),\n",
       " ('fall', 14),\n",
       " ('husband', 14),\n",
       " ('soul', 14),\n",
       " ('gentleman', 14),\n",
       " ('use', 14),\n",
       " ('joy', 14),\n",
       " ('breath', 14),\n",
       " ('haste', 14),\n",
       " ('thursday', 14),\n",
       " ('musician', 14),\n",
       " ('act', 13),\n",
       " ('chamber', 13),\n",
       " ('verona', 13),\n",
       " ('new', 13),\n",
       " ('hands', 13),\n",
       " ('ho', 13),\n",
       " ('came', 13),\n",
       " ('soon', 13),\n",
       " ('without', 13),\n",
       " ('thine', 13),\n",
       " ('else', 13),\n",
       " ('leave', 13),\n",
       " ('wit', 13),\n",
       " ('get', 13),\n",
       " ('woe', 13),\n",
       " ('thing', 13),\n",
       " ('little', 13),\n",
       " ('sin', 13),\n",
       " ('send', 13),\n",
       " ('ii', 12),\n",
       " ('iii', 12),\n",
       " ('kinsman', 12),\n",
       " ('page', 12),\n",
       " ('makes', 12),\n",
       " ('forth', 12),\n",
       " ('ever', 12),\n",
       " ('turn', 12),\n",
       " ('bear', 12),\n",
       " ('better', 12),\n",
       " ('talk', 12),\n",
       " ('hate', 12),\n",
       " ('happy', 12),\n",
       " ('gentle', 12),\n",
       " ('sleep', 12),\n",
       " ('grief', 12),\n",
       " ('ill', 12),\n",
       " ('sheâ€™s', 12),\n",
       " ('years', 12),\n",
       " ('even', 12),\n",
       " ('ye', 12),\n",
       " ('best', 12),\n",
       " ('â€™', 12),\n",
       " ('late', 12),\n",
       " ('hither', 12),\n",
       " ('shame', 12),\n",
       " ('julietâ€™s', 11),\n",
       " ('monument', 11),\n",
       " ('lay', 11),\n",
       " ('draw', 11),\n",
       " ('quarrel', 11),\n",
       " ('show', 11),\n",
       " ('law', 11),\n",
       " ('shalt', 11),\n",
       " ('beauty', 11),\n",
       " ('loveâ€™s', 11),\n",
       " ('heâ€™s', 11),\n",
       " ('oâ€™er', 11),\n",
       " ('though', 11),\n",
       " ('mad', 11),\n",
       " ('since', 11),\n",
       " ('warrant', 11),\n",
       " ('marriage', 11),\n",
       " ('pale', 11),\n",
       " ('alack', 11),\n",
       " ('bring', 11),\n",
       " ('street', 10),\n",
       " ('iv', 10),\n",
       " ('v', 10),\n",
       " ('lawrenceâ€™s', 10),\n",
       " ('john', 10),\n",
       " ('play', 10),\n",
       " ('ears', 10),\n",
       " ('weâ€™ll', 10),\n",
       " ('maid', 10),\n",
       " ('set', 10),\n",
       " ('saw', 10),\n",
       " ('heavy', 10),\n",
       " ('black', 10),\n",
       " ('hereâ€™s', 10),\n",
       " ('rich', 10),\n",
       " ('kiss', 10),\n",
       " ('comfort', 10),\n",
       " ('desperate', 10),\n",
       " ('master', 10),\n",
       " ('neâ€™er', 10),\n",
       " ('calls', 10),\n",
       " ('need', 10),\n",
       " ('done', 10),\n",
       " ('dream', 10),\n",
       " ('flower', 10),\n",
       " ('every', 10),\n",
       " ('another', 10),\n",
       " ('straight', 10),\n",
       " ('gentlemen', 10),\n",
       " ('boy', 10),\n",
       " ('twenty', 10),\n",
       " ('kill', 10),\n",
       " ('says', 10),\n",
       " ('answer', 10),\n",
       " ('pardon', 10),\n",
       " ('tongue', 10),\n",
       " ('full', 10),\n",
       " ('church', 10),\n",
       " ('tybaltâ€™s', 10),\n",
       " ('open', 9),\n",
       " ('churchyard', 9),\n",
       " ('apothecary', 9),\n",
       " ('musicians', 9),\n",
       " ('ancient', 9),\n",
       " ('end', 9),\n",
       " ('move', 9),\n",
       " ('wall', 9),\n",
       " ('foot', 9),\n",
       " ('ground', 9),\n",
       " ('case', 9),\n",
       " ('either', 9),\n",
       " ('means', 9),\n",
       " ('weep', 9),\n",
       " ('forget', 9),\n",
       " ('unto', 9),\n",
       " ('way', 9),\n",
       " ('hide', 9),\n",
       " ('rosaline', 9),\n",
       " ('indeed', 9),\n",
       " ('great', 9),\n",
       " ('days', 9),\n",
       " ('thus', 9),\n",
       " ('others', 9),\n",
       " ('whatâ€™s', 9),\n",
       " ('body', 9),\n",
       " ('vault', 9),\n",
       " ('room', 8),\n",
       " ('hall', 8),\n",
       " ('garden', 8),\n",
       " ('capulets', 8),\n",
       " ('three', 8),\n",
       " ('bite', 8),\n",
       " ('sword', 8),\n",
       " ('mind', 8),\n",
       " ('clouds', 8),\n",
       " ('counsel', 8),\n",
       " ('noble', 8),\n",
       " ('alas', 8),\n",
       " ('mistress', 8),\n",
       " ('bound', 8),\n",
       " ('welcome', 8),\n",
       " ('last', 8),\n",
       " ('merry', 8),\n",
       " ('ladyâ€™s', 8),\n",
       " ('sight', 8),\n",
       " ('enough', 8),\n",
       " ('torch', 8),\n",
       " ('thatâ€™s', 8),\n",
       " ('times', 8),\n",
       " ('things', 8),\n",
       " ('menâ€™s', 8),\n",
       " ('vile', 8),\n",
       " ('swear', 8),\n",
       " ('saint', 8),\n",
       " ('meet', 8),\n",
       " ('high', 8),\n",
       " ('sound', 8),\n",
       " ('sorrow', 8),\n",
       " ('woes', 8),\n",
       " ('bones', 8),\n",
       " ('hie', 8),\n",
       " ('thought', 8),\n",
       " ('abram', 7),\n",
       " ('servants', 7),\n",
       " ('fearful', 7),\n",
       " ('mean', 7),\n",
       " ('shows', 7),\n",
       " ('feel', 7),\n",
       " ('flesh', 7),\n",
       " ('noise', 7),\n",
       " ('fire', 7),\n",
       " ('bloody', 7),\n",
       " ('found', 7),\n",
       " ('morning', 7),\n",
       " ('air', 7),\n",
       " ('short', 7),\n",
       " ('cold', 7),\n",
       " ('sick', 7),\n",
       " ('sea', 7),\n",
       " ('near', 7),\n",
       " ('hit', 7),\n",
       " ('canst', 7),\n",
       " ('behold', 7),\n",
       " ('stars', 7),\n",
       " ('dark', 7),\n",
       " ('gives', 7),\n",
       " ('writ', 7),\n",
       " ('fortune', 7),\n",
       " ('book', 7),\n",
       " ('thousand', 7),\n",
       " ('beseech', 7),\n",
       " ('follow', 7),\n",
       " ('measure', 7),\n",
       " ('tender', 7),\n",
       " ('anon', 7),\n",
       " ('ear', 7),\n",
       " ('bosom', 7),\n",
       " ('music', 7),\n",
       " ('hot', 7),\n",
       " ('sit', 7),\n",
       " ('past', 7),\n",
       " ('fetch', 7),\n",
       " ('honest', 7),\n",
       " ('looks', 7),\n",
       " ('thyself', 7),\n",
       " ('words', 7),\n",
       " ('murder', 7),\n",
       " ('silver', 7),\n",
       " ('sudden', 7),\n",
       " ('next', 7),\n",
       " ('tomb', 7),\n",
       " ('killâ€™d', 7),\n",
       " ('corse', 7),\n",
       " ('woeful', 7),\n",
       " ('dagger', 7),\n",
       " ('chorus', 6),\n",
       " ('montagues', 6),\n",
       " ('citizens', 6),\n",
       " ('oâ€™', 6),\n",
       " ('moved', 6),\n",
       " ('stir', 6),\n",
       " ('maids', 6),\n",
       " ('hadst', 6),\n",
       " ('thumb', 6),\n",
       " ('side', 6),\n",
       " ('serve', 6),\n",
       " ('remember', 6),\n",
       " ('fight', 6),\n",
       " ('among', 6),\n",
       " ('close', 6),\n",
       " ('hurt', 6),\n",
       " ('might', 6),\n",
       " ('seen', 6),\n",
       " ('deep', 6),\n",
       " ('home', 6),\n",
       " ('prove', 6),\n",
       " ('unless', 6),\n",
       " ('envious', 6),\n",
       " ('aside', 6),\n",
       " ('letâ€™s', 6),\n",
       " ('morrow', 6),\n",
       " ('hours', 6),\n",
       " ('loving', 6),\n",
       " ('lead', 6),\n",
       " ('breast', 6),\n",
       " ('mark', 6),\n",
       " ('dies', 6),\n",
       " ('read', 6),\n",
       " ('fourteen', 6),\n",
       " ('bride', 6),\n",
       " ('feast', 6),\n",
       " ('sirrah', 6),\n",
       " ('whereâ€™s', 6),\n",
       " ('girl', 6),\n",
       " ('matter', 6),\n",
       " ('age', 6),\n",
       " ('fool', 6),\n",
       " ('took', 6),\n",
       " ('jest', 6),\n",
       " ('wast', 6),\n",
       " ('wish', 6),\n",
       " ('less', 6),\n",
       " ('strength', 6),\n",
       " ('five', 6),\n",
       " ('spoke', 6),\n",
       " ('care', 6),\n",
       " ('tale', 6),\n",
       " ('yonder', 6),\n",
       " ('cheek', 6),\n",
       " ('youth', 6),\n",
       " ('thank', 6),\n",
       " ('enemy', 6),\n",
       " ('strange', 6),\n",
       " ('kind', 6),\n",
       " ('speaks', 6),\n",
       " ('arm', 6),\n",
       " ('stop', 6),\n",
       " ('didst', 6),\n",
       " ('re-enter', 6),\n",
       " ('company', 6),\n",
       " ('flowers', 6),\n",
       " ('cheeks', 6),\n",
       " ('goose', 6),\n",
       " ('cords', 6),\n",
       " ('fie', 6),\n",
       " ('princeâ€™s', 6),\n",
       " ('doom', 6),\n",
       " ('exile', 6),\n",
       " ('banishment', 6),\n",
       " ('lark', 6),\n",
       " ('proud', 6),\n",
       " ('public', 5),\n",
       " ('women', 5),\n",
       " ('houses', 5),\n",
       " ('break', 5),\n",
       " ('civil', 5),\n",
       " ('piteous', 5),\n",
       " ('swords', 5),\n",
       " ('strike', 5),\n",
       " ('quickly', 5),\n",
       " ('dog', 5),\n",
       " ('heads', 5),\n",
       " ('pretty', 5),\n",
       " ('dare', 5),\n",
       " ('hell', 5),\n",
       " ('foe', 5),\n",
       " ('pleasure', 5),\n",
       " ('withal', 5),\n",
       " ('scorn', 5),\n",
       " ('right', 5),\n",
       " ('sighs', 5),\n",
       " ('cause', 5),\n",
       " ('friends', 5),\n",
       " ('far', 5),\n",
       " ('shrift', 5),\n",
       " ('nine', 5),\n",
       " ('sad', 5),\n",
       " ('rough', 5),\n",
       " ('bright', 5),\n",
       " ('loversâ€™', 5),\n",
       " ('going', 5),\n",
       " ('soft', 5),\n",
       " ('gold', 5),\n",
       " ('wise', 5),\n",
       " ('wisely', 5),\n",
       " ('blind', 5),\n",
       " ('honourable', 5),\n",
       " ('change', 5),\n",
       " ('consent', 5),\n",
       " ('voice', 5),\n",
       " ('written', 5),\n",
       " ('fellow', 5),\n",
       " ('letters', 5),\n",
       " ('brother', 5),\n",
       " ('laid', 5),\n",
       " ('quoth', 5),\n",
       " ('grace', 5),\n",
       " ('honour', 5),\n",
       " ('already', 5),\n",
       " ('brief', 5),\n",
       " ('excuse', 5),\n",
       " ('dance', 5),\n",
       " ('wings', 5),\n",
       " ('rude', 5),\n",
       " ('wits', 5),\n",
       " ('ask', 5),\n",
       " ('asleep', 5),\n",
       " ('shape', 5),\n",
       " ('half', 5),\n",
       " ('state', 5),\n",
       " ('fingers', 5),\n",
       " ('dreams', 5),\n",
       " ('nightâ€™s', 5),\n",
       " ('untimely', 5),\n",
       " ('ready', 5),\n",
       " ('longer', 5),\n",
       " ('isâ€™t', 5),\n",
       " ('blessed', 5),\n",
       " ('wherefore', 5),\n",
       " ('patience', 5),\n",
       " ('prepare', 5),\n",
       " ('yond', 5),\n",
       " ('heir', 5),\n",
       " ('wedding', 5),\n",
       " ('power', 5),\n",
       " ('satisfied', 5),\n",
       " ('return', 5),\n",
       " ('tear', 5),\n",
       " ('fain', 5),\n",
       " ('form', 5),\n",
       " ('trust', 5),\n",
       " ('manâ€™s', 5),\n",
       " ('ring', 5),\n",
       " ('thereâ€™s', 5),\n",
       " ('chide', 5),\n",
       " ('sure', 5),\n",
       " ('lamentable', 5),\n",
       " ('hare', 5),\n",
       " ('commend', 5),\n",
       " ('joyful', 5),\n",
       " ('lawrenceâ€™', 5),\n",
       " ('simple', 5),\n",
       " ('reason', 5),\n",
       " ('mercutioâ€™s', 5),\n",
       " ('falls', 5),\n",
       " ('slew', 5),\n",
       " ('slay', 5),\n",
       " ('point', 5),\n",
       " ('mercy', 5),\n",
       " ('living', 5),\n",
       " ('ha', 5),\n",
       " ('hang', 5),\n",
       " ('drink', 5),\n",
       " ('wake', 5),\n",
       " ('attendants', 4),\n",
       " ('fatal', 4),\n",
       " ('rage', 4),\n",
       " ('remove', 4),\n",
       " ('weak', 4),\n",
       " ('fought', 4),\n",
       " ('cut', 4),\n",
       " ('known', 4),\n",
       " ('begin', 4),\n",
       " ('kinsmen', 4),\n",
       " ('beats', 4),\n",
       " ('beat', 4),\n",
       " ('spite', 4),\n",
       " ('seek', 4),\n",
       " ('steel', 4),\n",
       " ('veins', 4),\n",
       " ('torture', 4),\n",
       " ('quiet', 4),\n",
       " ('streets', 4),\n",
       " ('pay', 4),\n",
       " ('depart', 4),\n",
       " ('along', 4),\n",
       " ('fray', 4),\n",
       " ('golden', 4),\n",
       " ('window', 4),\n",
       " ('east', 4),\n",
       " ('walk', 4),\n",
       " ('city', 4),\n",
       " ('towards', 4),\n",
       " ('sought', 4),\n",
       " ('morningâ€™s', 4),\n",
       " ('dew', 4),\n",
       " ('daylight', 4),\n",
       " ('uncle', 4),\n",
       " ('secret', 4),\n",
       " ('sadness', 4),\n",
       " ('anything', 4),\n",
       " ('coz', 4),\n",
       " ('rather', 4),\n",
       " ('griefs', 4),\n",
       " ('tut', 4),\n",
       " ('forsworn', 4),\n",
       " ('vow', 4),\n",
       " ('note', 4),\n",
       " ('woo', 4),\n",
       " ('names', 4),\n",
       " ('shut', 4),\n",
       " ('signior', 4),\n",
       " ('supper', 4),\n",
       " ('thither', 4),\n",
       " ('match', 4),\n",
       " ('lamb', 4),\n",
       " ('awhile', 4),\n",
       " ('bitter', 4),\n",
       " ('brow', 4),\n",
       " ('left', 4),\n",
       " ('stands', 4),\n",
       " ('wisdom', 4),\n",
       " ('count', 4),\n",
       " ('lover', 4),\n",
       " ('fly', 4),\n",
       " ('guests', 4),\n",
       " ('believe', 4),\n",
       " ('mask', 4),\n",
       " ('save', 4),\n",
       " ('empty', 4),\n",
       " ('kisses', 4),\n",
       " ('oft', 4),\n",
       " ('foul', 4),\n",
       " ('course', 4),\n",
       " ('deny', 4),\n",
       " ('worn', 4),\n",
       " ('dares', 4),\n",
       " ('truth', 4),\n",
       " ('town', 4),\n",
       " ('youâ€™ll', 4),\n",
       " ('lest', 4),\n",
       " ('sake', 4),\n",
       " ('door', 4),\n",
       " ('birth', 4),\n",
       " ('ran', 4),\n",
       " ('conjure', 4),\n",
       " ('cry', 4),\n",
       " ('fine', 4),\n",
       " ('anger', 4),\n",
       " ('raise', 4),\n",
       " ('spirit', 4),\n",
       " ('nature', 4),\n",
       " ('tree', 4),\n",
       " ('moon', 4),\n",
       " ('green', 4),\n",
       " ('wear', 4),\n",
       " ('bold', 4),\n",
       " ('hateful', 4),\n",
       " ('lent', 4),\n",
       " ('lightning', 4),\n",
       " ('gave', 4),\n",
       " ('adieu', 4),\n",
       " ('ghostly', 4),\n",
       " ('dry', 4),\n",
       " ('womb', 4),\n",
       " ('keeps', 4),\n",
       " ('met', 4),\n",
       " ('slow', 4),\n",
       " ('wench', 4),\n",
       " ('broad', 4),\n",
       " ('hair', 4),\n",
       " ('gentlewoman', 4),\n",
       " ('fault', 4),\n",
       " ('iâ€™faith', 4),\n",
       " ('something', 4),\n",
       " ('hoar', 4),\n",
       " ('minute', 4),\n",
       " ('knave', 4),\n",
       " ('hark', 4),\n",
       " ('knife', 4),\n",
       " ('warm', 4),\n",
       " ('sour', 4),\n",
       " ('beshrew', 4),\n",
       " ('amen', 4),\n",
       " ('work', 4),\n",
       " ('beg', 4),\n",
       " ('loss', 4),\n",
       " ('slaughterâ€™d', 4),\n",
       " ('damned', 4),\n",
       " ('weeping', 4),\n",
       " ('banishâ€™d', 4),\n",
       " ('knocking', 4),\n",
       " ('search', 4),\n",
       " ('weeps', 4),\n",
       " ('coming', 4),\n",
       " ('doubt', 4),\n",
       " ('nightly', 4),\n",
       " ('hope', 4),\n",
       " ('bridegroom', 4),\n",
       " ('needs', 4),\n",
       " ('buried', 4),\n",
       " ('â€˜heartâ€™s', 4),\n",
       " ('iron', 4),\n",
       " ('soundâ€™', 4),\n",
       " ('sell', 4),\n",
       " ('strew', 4),\n",
       " ('intents', 4),\n",
       " ('prologue', 3),\n",
       " ('belonging', 3),\n",
       " ('nephew', 3),\n",
       " ('order', 3),\n",
       " ('maskers', 3),\n",
       " ('alike', 3),\n",
       " ('lovers', 3),\n",
       " ('bury', 3),\n",
       " ('strife', 3),\n",
       " ('patient', 3),\n",
       " ('attend', 3),\n",
       " ('toil', 3),\n",
       " ('slave', 3),\n",
       " ('goes', 3),\n",
       " ('thrust', 3),\n",
       " ('sense', 3),\n",
       " ('pass', 3),\n",
       " ('drawn', 3),\n",
       " ('citizen', 3),\n",
       " ('pain', 3),\n",
       " ('airy', 3),\n",
       " ('cast', 3),\n",
       " ('afternoon', 3),\n",
       " ('approach', 3),\n",
       " ('blows', 3),\n",
       " ('today', 3),\n",
       " ('abroad', 3),\n",
       " ('humour', 3),\n",
       " ('learn', 3),\n",
       " ('grow', 3),\n",
       " ('cure', 3),\n",
       " ('please', 3),\n",
       " ('wert', 3),\n",
       " ('fast', 3),\n",
       " ('view', 3),\n",
       " ('proof', 3),\n",
       " ('laugh', 3),\n",
       " ('heartâ€™s', 3),\n",
       " ('oppression', 3),\n",
       " ('lost', 3),\n",
       " ('urgâ€™d', 3),\n",
       " ('woman', 3),\n",
       " ('lovâ€™d', 3),\n",
       " ('strong', 3),\n",
       " ('bow', 3),\n",
       " ('sworn', 3),\n",
       " ('waste', 3),\n",
       " ('making', 3),\n",
       " ('rulâ€™d', 3),\n",
       " ('teach', 3),\n",
       " ('liberty', 3),\n",
       " ('beauties', 3),\n",
       " ('precious', 3),\n",
       " ('hard', 3),\n",
       " ('suit', 3),\n",
       " ('delight', 3),\n",
       " ('paper', 3),\n",
       " ('anotherâ€™s', 3),\n",
       " ('backward', 3),\n",
       " ('food', 3),\n",
       " ('cup', 3),\n",
       " ('compare', 3),\n",
       " ('crow', 3),\n",
       " ('year', 3),\n",
       " ('forbid', 3),\n",
       " ('daughterâ€™s', 3),\n",
       " ('susan', 3),\n",
       " ('dug', 3),\n",
       " ('brain', 3),\n",
       " ('taste', 3),\n",
       " ('â€™twas', 3),\n",
       " ('jule', 3),\n",
       " ('wretch', 3),\n",
       " ('â€˜ayâ€™', 3),\n",
       " ('choose', 3),\n",
       " ('knock', 3),\n",
       " ('ladies', 3),\n",
       " ('parisâ€™', 3),\n",
       " ('lends', 3),\n",
       " ('content', 3),\n",
       " ('cursed', 3),\n",
       " ('date', 3),\n",
       " ('cupid', 3),\n",
       " ('burden', 3),\n",
       " ('visor', 3),\n",
       " ('blush', 3),\n",
       " ('mouse', 3),\n",
       " ('burn', 3),\n",
       " ('delay', 3),\n",
       " ('vain', 3),\n",
       " ('meaning', 3),\n",
       " ('dreamt', 3),\n",
       " ('mab', 3),\n",
       " ('knees', 3),\n",
       " ('sometime', 3),\n",
       " ('wakes', 3),\n",
       " ('substance', 3),\n",
       " ('wind', 3),\n",
       " ('closâ€™d', 3),\n",
       " ('loves', 3),\n",
       " ('fellows', 3),\n",
       " ('solemnity', 3),\n",
       " ('virtuous', 3),\n",
       " ('chance', 3),\n",
       " ('contrary', 3),\n",
       " ('hearts', 3),\n",
       " ('withdraw', 3),\n",
       " ('seeming', 3),\n",
       " ('touch', 3),\n",
       " ('saints', 3),\n",
       " ('craves', 3),\n",
       " ('passion', 3),\n",
       " ('appear', 3),\n",
       " ('likeness', 3),\n",
       " ('pronounce', 3),\n",
       " ('mistressâ€™', 3),\n",
       " ('hid', 3),\n",
       " ('wound', 3),\n",
       " ('arise', 3),\n",
       " ('knew', 3),\n",
       " ('business', 3),\n",
       " ('gaze', 3),\n",
       " ('hundred', 3),\n",
       " ('walls', 3),\n",
       " ('washâ€™d', 3),\n",
       " ('dwell', 3),\n",
       " ('mayst', 3),\n",
       " ('fond', 3),\n",
       " ('confess', 3),\n",
       " ('cease', 3),\n",
       " ('faithful', 3),\n",
       " ('purpose', 3),\n",
       " ('worse', 3),\n",
       " ('toward', 3),\n",
       " ('almost', 3),\n",
       " ('morn', 3),\n",
       " ('dayâ€™s', 3),\n",
       " ('turns', 3),\n",
       " ('lo', 3),\n",
       " ('confession', 3),\n",
       " ('truly', 3),\n",
       " ('jesu', 3),\n",
       " ('pure', 3),\n",
       " ('devil', 3),\n",
       " ('fatherâ€™s', 3),\n",
       " ('third', 3),\n",
       " ('immortal', 3),\n",
       " ('flies', 3),\n",
       " ('courtesy', 3),\n",
       " ('courteous', 3),\n",
       " ('faint', 3),\n",
       " ('whole', 3),\n",
       " ('wide', 3),\n",
       " ('wouldst', 3),\n",
       " ('good-den', 3),\n",
       " ('bawd', 3),\n",
       " ('spent', 3),\n",
       " ('sings', 3),\n",
       " ('meat', 3),\n",
       " ('dinner', 3),\n",
       " ('occasion', 3),\n",
       " ('afore', 3),\n",
       " ('told', 3),\n",
       " ('protest', 3),\n",
       " ('devise', 3),\n",
       " ('sayâ€™st', 3),\n",
       " ('sweetest', 3),\n",
       " ('toad', 3),\n",
       " ('rosemary', 3),\n",
       " ('thoughts', 3),\n",
       " ('youthful', 3),\n",
       " ('swift', 3),\n",
       " ('honey', 3),\n",
       " ('bad', 3),\n",
       " ('godâ€™s', 3),\n",
       " ('got', 3),\n",
       " ('heavens', 3),\n",
       " ('powder', 3),\n",
       " ('loathsome', 3),\n",
       " ('thanks', 3),\n",
       " ('lain', 3),\n",
       " ('apt', 3),\n",
       " ('buy', 3),\n",
       " ('consort', 3),\n",
       " ('discords', 3),\n",
       " ('afford', 3),\n",
       " ('knowâ€™st', 3),\n",
       " ('calm', 3),\n",
       " ('plague', 3),\n",
       " ('scratch', 3),\n",
       " ('mortal', 3),\n",
       " ('fury', 3),\n",
       " ('conduct', 3),\n",
       " ('wretched', 3),\n",
       " ('murderer', 3),\n",
       " ('charge', 3),\n",
       " ('deadly', 3),\n",
       " ('cries', 3),\n",
       " ('toâ€™t', 3),\n",
       " ('modesty', 3),\n",
       " ('bare', 3),\n",
       " ('fiend', 3),\n",
       " ('born', 3),\n",
       " ('beast', 3),\n",
       " ('murderâ€™d', 3),\n",
       " ('beguilâ€™d', 3),\n",
       " ('tidings', 3),\n",
       " ('philosophy', 3),\n",
       " ('deathâ€™s', 3),\n",
       " ('wild', 3),\n",
       " ('hollow', 3),\n",
       " ('rouse', 3),\n",
       " ('stayâ€™d', 3),\n",
       " ('wednesday', 3),\n",
       " ('nightingale', 3),\n",
       " ('methinks', 3),\n",
       " ('fickle', 3),\n",
       " ('unaccustomâ€™d', 3),\n",
       " ('cousinâ€™s', 3),\n",
       " ('needy', 3),\n",
       " ('peterâ€™s', 3),\n",
       " ('wed', 3),\n",
       " ('bark', 3),\n",
       " ('joints', 3),\n",
       " ('bridal', 3),\n",
       " ('remedy', 3),\n",
       " ('hearâ€™st', 3),\n",
       " ('presently', 3),\n",
       " ('present', 3),\n",
       " ('shroud', 3),\n",
       " ('meantime', 3),\n",
       " ('waking', 3),\n",
       " ('speed', 3),\n",
       " ('hire', 3),\n",
       " ('lick', 3),\n",
       " ('knows', 3),\n",
       " ('logs', 3),\n",
       " ('cruel', 3),\n",
       " ('aloof', 3),\n",
       " ('retires', 3),\n",
       " ('mattock', 3),\n",
       " ('apprehend', 3),\n",
       " ('adjoining', 2),\n",
       " ('vi', 2),\n",
       " ('gallery', 2),\n",
       " ('overlooking', 2),\n",
       " ('escalus', 2),\n",
       " ('nobleman', 2),\n",
       " ('veronese', 2),\n",
       " ('family', 2),\n",
       " ('feud', 2),\n",
       " ('franciscan', 2),\n",
       " ('greater', 2),\n",
       " ('mutiny', 2),\n",
       " ('pair', 2),\n",
       " ('parentsâ€™', 2),\n",
       " ('miss', 2),\n",
       " ('mend', 2),\n",
       " ('carry', 2),\n",
       " ('choler', 2),\n",
       " ('neck', 2),\n",
       " ('valiant', 2),\n",
       " ('montagueâ€™s', 2),\n",
       " ('tyrant', 2),\n",
       " ('able', 2),\n",
       " ('piece', 2),\n",
       " ('fish', 2),\n",
       " ('weapon', 2),\n",
       " ('frown', 2),\n",
       " ('masterâ€™s', 2),\n",
       " ('yes', 2),\n",
       " ...]"
      ]
     },
     "execution_count": 135,
     "metadata": {},
     "output_type": "execute_result"
    }
   ],
   "source": [
    "sorted_items"
   ]
  },
  {
   "cell_type": "code",
   "execution_count": 136,
   "metadata": {},
   "outputs": [],
   "source": [
    "#convert to dataframe\n",
    "\n",
    "import pandas as pd"
   ]
  },
  {
   "cell_type": "code",
   "execution_count": 137,
   "metadata": {},
   "outputs": [],
   "source": [
    "df=pd.DataFrame(top20, columns=['words','count'])"
   ]
  },
  {
   "cell_type": "code",
   "execution_count": 138,
   "metadata": {},
   "outputs": [
    {
     "data": {
      "text/html": [
       "<div>\n",
       "<style scoped>\n",
       "    .dataframe tbody tr th:only-of-type {\n",
       "        vertical-align: middle;\n",
       "    }\n",
       "\n",
       "    .dataframe tbody tr th {\n",
       "        vertical-align: top;\n",
       "    }\n",
       "\n",
       "    .dataframe thead th {\n",
       "        text-align: right;\n",
       "    }\n",
       "</style>\n",
       "<table border=\"1\" class=\"dataframe\">\n",
       "  <thead>\n",
       "    <tr style=\"text-align: right;\">\n",
       "      <th></th>\n",
       "      <th>words</th>\n",
       "      <th>count</th>\n",
       "    </tr>\n",
       "  </thead>\n",
       "  <tbody>\n",
       "    <tr>\n",
       "      <th>0</th>\n",
       "      <td>romeo</td>\n",
       "      <td>298</td>\n",
       "    </tr>\n",
       "    <tr>\n",
       "      <th>1</th>\n",
       "      <td>thou</td>\n",
       "      <td>277</td>\n",
       "    </tr>\n",
       "    <tr>\n",
       "      <th>2</th>\n",
       "      <td>juliet</td>\n",
       "      <td>177</td>\n",
       "    </tr>\n",
       "    <tr>\n",
       "      <th>3</th>\n",
       "      <td>thy</td>\n",
       "      <td>170</td>\n",
       "    </tr>\n",
       "    <tr>\n",
       "      <th>4</th>\n",
       "      <td>nurse</td>\n",
       "      <td>149</td>\n",
       "    </tr>\n",
       "    <tr>\n",
       "      <th>5</th>\n",
       "      <td>capulet</td>\n",
       "      <td>141</td>\n",
       "    </tr>\n",
       "    <tr>\n",
       "      <th>6</th>\n",
       "      <td>thee</td>\n",
       "      <td>138</td>\n",
       "    </tr>\n",
       "    <tr>\n",
       "      <th>7</th>\n",
       "      <td>love</td>\n",
       "      <td>137</td>\n",
       "    </tr>\n",
       "    <tr>\n",
       "      <th>8</th>\n",
       "      <td>shall</td>\n",
       "      <td>110</td>\n",
       "    </tr>\n",
       "    <tr>\n",
       "      <th>9</th>\n",
       "      <td>lady</td>\n",
       "      <td>109</td>\n",
       "    </tr>\n",
       "    <tr>\n",
       "      <th>10</th>\n",
       "      <td>friar</td>\n",
       "      <td>104</td>\n",
       "    </tr>\n",
       "    <tr>\n",
       "      <th>11</th>\n",
       "      <td>come</td>\n",
       "      <td>94</td>\n",
       "    </tr>\n",
       "    <tr>\n",
       "      <th>12</th>\n",
       "      <td>mercutio</td>\n",
       "      <td>83</td>\n",
       "    </tr>\n",
       "    <tr>\n",
       "      <th>13</th>\n",
       "      <td>good</td>\n",
       "      <td>81</td>\n",
       "    </tr>\n",
       "    <tr>\n",
       "      <th>14</th>\n",
       "      <td>benvolio</td>\n",
       "      <td>79</td>\n",
       "    </tr>\n",
       "    <tr>\n",
       "      <th>15</th>\n",
       "      <td>enter</td>\n",
       "      <td>75</td>\n",
       "    </tr>\n",
       "    <tr>\n",
       "      <th>16</th>\n",
       "      <td>go</td>\n",
       "      <td>75</td>\n",
       "    </tr>\n",
       "    <tr>\n",
       "      <th>17</th>\n",
       "      <td>iâ€™ll</td>\n",
       "      <td>71</td>\n",
       "    </tr>\n",
       "    <tr>\n",
       "      <th>18</th>\n",
       "      <td>tybalt</td>\n",
       "      <td>70</td>\n",
       "    </tr>\n",
       "    <tr>\n",
       "      <th>19</th>\n",
       "      <td>death</td>\n",
       "      <td>69</td>\n",
       "    </tr>\n",
       "    <tr>\n",
       "      <th>20</th>\n",
       "      <td>night</td>\n",
       "      <td>68</td>\n",
       "    </tr>\n",
       "  </tbody>\n",
       "</table>\n",
       "</div>"
      ],
      "text/plain": [
       "       words  count\n",
       "0      romeo    298\n",
       "1       thou    277\n",
       "2     juliet    177\n",
       "3        thy    170\n",
       "4      nurse    149\n",
       "5    capulet    141\n",
       "6       thee    138\n",
       "7       love    137\n",
       "8      shall    110\n",
       "9       lady    109\n",
       "10     friar    104\n",
       "11      come     94\n",
       "12  mercutio     83\n",
       "13      good     81\n",
       "14  benvolio     79\n",
       "15     enter     75\n",
       "16        go     75\n",
       "17    iâ€™ll     71\n",
       "18    tybalt     70\n",
       "19     death     69\n",
       "20     night     68"
      ]
     },
     "execution_count": 138,
     "metadata": {},
     "output_type": "execute_result"
    }
   ],
   "source": [
    "df"
   ]
  },
  {
   "cell_type": "code",
   "execution_count": 139,
   "metadata": {},
   "outputs": [],
   "source": [
    "import matplotlib.pyplot as plt"
   ]
  },
  {
   "cell_type": "code",
   "execution_count": 140,
   "metadata": {},
   "outputs": [
    {
     "data": {
      "image/png": "[encoded data removed]",
      "text/plain": [
       "<Figure size 432x288 with 1 Axes>"
      ]
     },
     "metadata": {
      "needs_background": "light"
     },
     "output_type": "display_data"
    }
   ],
   "source": [
    "axes = df.plot.bar(x='words', y='count', legend=False)"
   ]
  },
  {
   "cell_type": "markdown",
   "metadata": {},
   "source": [
    "assignment 3 - go to project gutenberg, pick 2 books, do an analysis, bar plot of the top 20 words, eg constituions of two different countries, due week 1 maybe wednesday class"
   ]
  },
  {
   "cell_type": "markdown",
   "metadata": {},
   "source": [
    "# Visualizing Word Frequencies with Word Clouds\n",
    "- Open source wordcloud module - WordCloud\n",
    "- Matplotlib for plotting \n"
   ]
  },
  {
   "cell_type": "code",
   "execution_count": 141,
   "metadata": {},
   "outputs": [],
   "source": [
    "# conda install -c conda-forge wordcloud"
   ]
  },
  {
   "cell_type": "markdown",
   "metadata": {},
   "source": [
    "# Loading of the Text"
   ]
  },
  {
   "cell_type": "code",
   "execution_count": 142,
   "metadata": {},
   "outputs": [],
   "source": [
    "from pathlib import Path"
   ]
  },
  {
   "cell_type": "code",
   "execution_count": 143,
   "metadata": {},
   "outputs": [],
   "source": [
    "text = Path('RomeoAndJuliet.txt').read_text()"
   ]
  },
  {
   "cell_type": "code",
   "execution_count": 144,
   "metadata": {},
   "outputs": [
    {
     "data": {
      "text/plain": [
       "'ï»¿\\n\\n\\n\\n\\n\\n\\n\\n\\n\\nContents\\n\\nTHE PROLOGUE.\\n\\nACT I\\nScene I. A public place.\\nScene II. A Street.\\nScene III. Room in Capuletâ€™s House.\\nScene IV. A Street.\\nScene V. A Hall in Capuletâ€™s House.\\n\\n\\nACT II\\nCHORUS.\\nScene I. An open place adjoining Capuletâ€™s Garden.\\nScene II. Capuletâ€™s Garden.\\nScene III. Friar Lawrenceâ€™s Cell.\\nScene IV. A Street.\\nScene V. Capuletâ€™s Garden.\\nScene VI. Friar Lawrenceâ€™s Cell.\\n\\n\\nACT III\\nScene I. A public Place.\\nScene II. A Room in Capuletâ€™s House.\\nScene III. Friar Lawrenceâ€™s cell.\\nScene IV. A Room in Capuletâ€™s House.\\nScene V. An open Gallery to Julietâ€™s Chamber, overlooking the Garden.\\n\\n\\nACT IV\\nScene I. Friar Lawrenceâ€™s Cell.\\nScene II. Hall in Capuletâ€™s House.\\nScene III. Julietâ€™s Chamber.\\nScene IV. Hall in Capuletâ€™s House.\\nScene V. Julietâ€™s Chamber; Juliet on the bed.\\n\\n\\nACT V\\nScene I. Mantua. A Street.\\nScene II. Friar Lawrenceâ€™s Cell.\\nScene III. A churchyard; in it a Monument belonging to the Capulets.\\n\\n\\n\\n\\n Dramatis PersonÃ¦\\n\\nESCALUS, Prince of Verona.\\nMERCUTIO, kinsman to the Prince, and friend to Romeo.\\nPARIS, a young Nobleman, kinsman to the Prince.\\nPage to Paris.\\n\\nMONTAGUE, head of a Veronese family at feud with the Capulets.\\nLADY MONTAGUE, wife to Montague.\\nROMEO, son to Montague.\\nBENVOLIO, nephew to Montague, and friend to Romeo.\\nABRAM, servant to Montague.\\nBALTHASAR, servant to Romeo.\\n\\nCAPULET, head of a Veronese family at feud with the Montagues.\\nLADY CAPULET, wife to Capulet.\\nJULIET, daughter to Capulet.\\nTYBALT, nephew to Lady Capulet.\\nCAPULETâ€™S COUSIN, an old man.\\nNURSE to Juliet.\\nPETER, servant to Julietâ€™s Nurse.\\nSAMPSON, servant to Capulet.\\nGREGORY, servant to Capulet.\\nServants.\\n\\nFRIAR LAWRENCE, a Franciscan.\\nFRIAR JOHN, of the same Order.\\nAn Apothecary.\\nCHORUS.\\nThree Musicians.\\nAn Officer.\\nCitizens of Verona; several Men and Women, relations to both houses;\\nMaskers, Guards, Watchmen and Attendants.\\n\\nSCENE. During the greater part of the Play in Verona; once, in the\\nFifth Act, at Mantua.\\n\\n\\nTHE PROLOGUE\\n\\n Enter Chorus.\\n\\nCHORUS.\\nTwo households, both alike in dignity,\\nIn fair Verona, where we lay our scene,\\nFrom ancient grudge break to new mutiny,\\nWhere civil blood makes civil hands unclean.\\nFrom forth the fatal loins of these two foes\\nA pair of star-crossâ€™d lovers take their life;\\nWhose misadventurâ€™d piteous overthrows\\nDoth with their death bury their parentsâ€™ strife.\\nThe fearful passage of their death-markâ€™d love,\\nAnd the continuance of their parentsâ€™ rage,\\nWhich, but their childrenâ€™s end, nought could remove,\\nIs now the two hoursâ€™ traffic of our stage;\\nThe which, if you with patient ears attend,\\nWhat here shall miss, our toil shall strive to mend.\\n\\n [_Exit._]\\n\\n\\n\\nACT I\\n\\nSCENE I. A public place.\\n\\n Enter Sampson and Gregory armed with swords and bucklers.\\n\\nSAMPSON.\\nGregory, on my word, weâ€™ll not carry coals.\\n\\nGREGORY.\\nNo, for then we should be colliers.\\n\\nSAMPSON.\\nI mean, if we be in choler, weâ€™ll draw.\\n\\nGREGORY.\\nAy, while you live, draw your neck out oâ€™ the collar.\\n\\nSAMPSON.\\nI strike quickly, being moved.\\n\\nGREGORY.\\nBut thou art not quickly moved to strike.\\n\\nSAMPSON.\\nA dog of the house of Montague moves me.\\n\\nGREGORY.\\nTo move is to stir; and to be valiant is to stand: therefore, if thou\\nart moved, thou runnâ€™st away.\\n\\nSAMPSON.\\nA dog of that house shall move me to stand.\\nI will take the wall of any man or maid of Montagueâ€™s.\\n\\nGREGORY.\\nThat shows thee a weak slave, for the weakest goes to the wall.\\n\\nSAMPSON.\\nTrue, and therefore women, being the weaker vessels, are ever thrust to\\nthe wall: therefore I will push Montagueâ€™s men from the wall, and\\nthrust his maids to the wall.\\n\\nGREGORY.\\nThe quarrel is between our masters and us their men.\\n\\nSAMPSON.\\nâ€™Tis all one, I will show myself a tyrant: when I have fought with the\\nmen I will be civil with the maids, I will cut off their heads.\\n\\nGREGORY.\\nThe heads of the maids?\\n\\nSAMPSON.\\nAy, the heads of the maids, or their maidenheads; take it in what sense\\nthou wilt.\\n\\nGREGORY.\\nThey must take it in sense that feel it.\\n\\nSAMPSON.\\nMe they shall feel while I am able to stand: and â€™tis known I am a\\npretty piece of flesh.\\n\\nGREGORY.\\nâ€™Tis well thou art not fish; if thou hadst, thou hadst been poor John.\\nDraw thy tool; here comes of the house of Montagues.\\n\\n Enter Abram and Balthasar.\\n\\nSAMPSON.\\nMy naked weapon is out: quarrel, I will back thee.\\n\\nGREGORY.\\nHow? Turn thy back and run?\\n\\nSAMPSON.\\nFear me not.\\n\\nGREGORY.\\nNo, marry; I fear thee!\\n\\nSAMPSON.\\nLet us take the law of our sides; let them begin.\\n\\nGREGORY.\\nI will frown as I pass by, and let them take it as they list.\\n\\nSAMPSON.\\nNay, as they dare. I will bite my thumb at them, which is disgrace to\\nthem if they bear it.\\n\\nABRAM.\\nDo you bite your thumb at us, sir?\\n\\nSAMPSON.\\nI do bite my thumb, sir.\\n\\nABRAM.\\nDo you bite your thumb at us, sir?\\n\\nSAMPSON.\\nIs the law of our side if I say ay?\\n\\nGREGORY.\\nNo.\\n\\nSAMPSON.\\nNo sir, I do not bite my thumb at you, sir; but I bite my thumb, sir.\\n\\nGREGORY.\\nDo you quarrel, sir?\\n\\nABRAM.\\nQuarrel, sir? No, sir.\\n\\nSAMPSON.\\nBut if you do, sir, am for you. I serve as good a man as you.\\n\\nABRAM.\\nNo better.\\n\\nSAMPSON.\\nWell, sir.\\n\\n Enter Benvolio.\\n\\nGREGORY.\\nSay better; here comes one of my masterâ€™s kinsmen.\\n\\nSAMPSON.\\nYes, better, sir.\\n\\nABRAM.\\nYou lie.\\n\\nSAMPSON.\\nDraw, if you be men. Gregory, remember thy washing blow.\\n\\n [_They fight._]\\n\\nBENVOLIO.\\nPart, fools! put up your swords, you know not what you do.\\n\\n [_Beats down their swords._]\\n\\n Enter Tybalt.\\n\\nTYBALT.\\nWhat, art thou drawn among these heartless hinds?\\nTurn thee Benvolio, look upon thy death.\\n\\nBENVOLIO.\\nI do but keep the peace, put up thy sword,\\nOr manage it to part these men with me.\\n\\nTYBALT.\\nWhat, drawn, and talk of peace? I hate the word\\nAs I hate hell, all Montagues, and thee:\\nHave at thee, coward.\\n\\n [_They fight._]\\n\\n Enter three or four Citizens with clubs.\\n\\nFIRST CITIZEN.\\nClubs, bills and partisans! Strike! Beat them down!\\nDown with the Capulets! Down with the Montagues!\\n\\n Enter Capulet in his gown, and Lady Capulet.\\n\\nCAPULET.\\nWhat noise is this? Give me my long sword, ho!\\n\\nLADY CAPULET.\\nA crutch, a crutch! Why call you for a sword?\\n\\nCAPULET.\\nMy sword, I say! Old Montague is come,\\nAnd flourishes his blade in spite of me.\\n\\n Enter Montague and his Lady Montague.\\n\\nMONTAGUE.\\nThou villain Capulet! Hold me not, let me go.\\n\\nLADY MONTAGUE.\\nThou shalt not stir one foot to seek a foe.\\n\\n Enter Prince Escalus, with Attendants.\\n\\nPRINCE.\\nRebellious subjects, enemies to peace,\\nProfaners of this neighbour-stained steel,â€”\\nWill they not hear? What, ho! You men, you beasts,\\nThat quench the fire of your pernicious rage\\nWith purple fountains issuing from your veins,\\nOn pain of torture, from those bloody hands\\nThrow your mistemperâ€™d weapons to the ground\\nAnd hear the sentence of your moved prince.\\nThree civil brawls, bred of an airy word,\\nBy thee, old Capulet, and Montague,\\nHave thrice disturbâ€™d the quiet of our streets,\\nAnd made Veronaâ€™s ancient citizens\\nCast by their grave beseeming ornaments,\\nTo wield old partisans, in hands as old,\\nCankerâ€™d with peace, to part your cankerâ€™d hate.\\nIf ever you disturb our streets again,\\nYour lives shall pay the forfeit of the peace.\\nFor this time all the rest depart away:\\nYou, Capulet, shall go along with me,\\nAnd Montague, come you this afternoon,\\nTo know our farther pleasure in this case,\\nTo old Free-town, our common judgement-place.\\nOnce more, on pain of death, all men depart.\\n\\n [_Exeunt Prince and Attendants; Capulet, Lady Capulet, Tybalt,\\n Citizens and Servants._]\\n\\nMONTAGUE.\\nWho set this ancient quarrel new abroach?\\nSpeak, nephew, were you by when it began?\\n\\nBENVOLIO.\\nHere were the servants of your adversary\\nAnd yours, close fighting ere I did approach.\\nI drew to part them, in the instant came\\nThe fiery Tybalt, with his sword preparâ€™d,\\nWhich, as he breathâ€™d defiance to my ears,\\nHe swung about his head, and cut the winds,\\nWho nothing hurt withal, hissâ€™d him in scorn.\\nWhile we were interchanging thrusts and blows\\nCame more and more, and fought on part and part,\\nTill the Prince came, who parted either part.\\n\\nLADY MONTAGUE.\\nO where is Romeo, saw you him today?\\nRight glad I am he was not at this fray.\\n\\nBENVOLIO.\\nMadam, an hour before the worshippâ€™d sun\\nPeerâ€™d forth the golden window of the east,\\nA troubled mind drave me to walk abroad,\\nWhere underneath the grove of sycamore\\nThat westward rooteth from this city side,\\nSo early walking did I see your son.\\nTowards him I made, but he was ware of me,\\nAnd stole into the covert of the wood.\\nI, measuring his affections by my own,\\nWhich then most sought where most might not be found,\\nBeing one too many by my weary self,\\nPursuâ€™d my humour, not pursuing his,\\nAnd gladly shunnâ€™d who gladly fled from me.\\n\\nMONTAGUE.\\nMany a morning hath he there been seen,\\nWith tears augmenting the fresh morningâ€™s dew,\\nAdding to clouds more clouds with his deep sighs;\\nBut all so soon as the all-cheering sun\\nShould in the farthest east begin to draw\\nThe shady curtains from Auroraâ€™s bed,\\nAway from light steals home my heavy son,\\nAnd private in his chamber pens himself,\\nShuts up his windows, locks fair daylight out\\nAnd makes himself an artificial night.\\nBlack and portentous must this humour prove,\\nUnless good counsel may the cause remove.\\n\\nBENVOLIO.\\nMy noble uncle, do you know the cause?\\n\\nMONTAGUE.\\nI neither know it nor can learn of him.\\n\\nBENVOLIO.\\nHave you importunâ€™d him by any means?\\n\\nMONTAGUE.\\nBoth by myself and many other friends;\\nBut he, his own affectionsâ€™ counsellor,\\nIs to himselfâ€”I will not say how trueâ€”\\nBut to himself so secret and so close,\\nSo far from sounding and discovery,\\nAs is the bud bit with an envious worm\\nEre he can spread his sweet leaves to the air,\\nOr dedicate his beauty to the sun.\\nCould we but learn from whence his sorrows grow,\\nWe would as willingly give cure as know.\\n\\n Enter Romeo.\\n\\nBENVOLIO.\\nSee, where he comes. So please you step aside;\\nIâ€™ll know his grievance or be much denied.\\n\\nMONTAGUE.\\nI would thou wert so happy by thy stay\\nTo hear true shrift. Come, madam, letâ€™s away,\\n\\n [_Exeunt Montague and Lady Montague._]\\n\\nBENVOLIO.\\nGood morrow, cousin.\\n\\nROMEO.\\nIs the day so young?\\n\\nBENVOLIO.\\nBut new struck nine.\\n\\nROMEO.\\nAy me, sad hours seem long.\\nWas that my father that went hence so fast?\\n\\nBENVOLIO.\\nIt was. What sadness lengthens Romeoâ€™s hours?\\n\\nROMEO.\\nNot having that which, having, makes them short.\\n\\nBENVOLIO.\\nIn love?\\n\\nROMEO.\\nOut.\\n\\nBENVOLIO.\\nOf love?\\n\\nROMEO.\\nOut of her favour where I am in love.\\n\\nBENVOLIO.\\nAlas that love so gentle in his view,\\nShould be so tyrannous and rough in proof.\\n\\nROMEO.\\nAlas that love, whose view is muffled still,\\nShould, without eyes, see pathways to his will!\\nWhere shall we dine? O me! What fray was here?\\nYet tell me not, for I have heard it all.\\nHereâ€™s much to do with hate, but more with love:\\nWhy, then, O brawling love! O loving hate!\\nO anything, of nothing first create!\\nO heavy lightness! serious vanity!\\nMisshapen chaos of well-seeming forms!\\nFeather of lead, bright smoke, cold fire, sick health!\\nStill-waking sleep, that is not what it is!\\nThis love feel I, that feel no love in this.\\nDost thou not laugh?\\n\\nBENVOLIO.\\nNo coz, I rather weep.\\n\\nROMEO.\\nGood heart, at what?\\n\\nBENVOLIO.\\nAt thy good heartâ€™s oppression.\\n\\nROMEO.\\nWhy such is loveâ€™s transgression.\\nGriefs of mine own lie heavy in my breast,\\nWhich thou wilt propagate to have it prest\\nWith more of thine. This love that thou hast shown\\nDoth add more grief to too much of mine own.\\nLove is a smoke made with the fume of sighs;\\nBeing purgâ€™d, a fire sparkling in loversâ€™ eyes;\\nBeing vexâ€™d, a sea nourishâ€™d with loversâ€™ tears:\\nWhat is it else? A madness most discreet,\\nA choking gall, and a preserving sweet.\\nFarewell, my coz.\\n\\n [_Going._]\\n\\nBENVOLIO.\\nSoft! I will go along:\\nAnd if you leave me so, you do me wrong.\\n\\nROMEO.\\nTut! I have lost myself; I am not here.\\nThis is not Romeo, heâ€™s some other where.\\n\\nBENVOLIO.\\nTell me in sadness who is that you love?\\n\\nROMEO.\\nWhat, shall I groan and tell thee?\\n\\nBENVOLIO.\\nGroan! Why, no; but sadly tell me who.\\n\\nROMEO.\\nBid a sick man in sadness make his will,\\nA word ill urgâ€™d to one that is so ill.\\nIn sadness, cousin, I do love a woman.\\n\\nBENVOLIO.\\nI aimâ€™d so near when I supposâ€™d you lovâ€™d.\\n\\nROMEO.\\nA right good markman, and sheâ€™s fair I love.\\n\\nBENVOLIO.\\nA right fair mark, fair coz, is soonest hit.\\n\\nROMEO.\\nWell, in that hit you miss: sheâ€™ll not be hit\\nWith Cupidâ€™s arrow, she hath Dianâ€™s wit;\\nAnd in strong proof of chastity well armâ€™d,\\nFrom loveâ€™s weak childish bow she lives uncharmâ€™d.\\nShe will not stay the siege of loving terms\\nNor bide thâ€™encounter of assailing eyes,\\nNor ope her lap to saint-seducing gold:\\nO sheâ€™s rich in beauty, only poor\\nThat when she dies, with beauty dies her store.\\n\\nBENVOLIO.\\nThen she hath sworn that she will still live chaste?\\n\\nROMEO.\\nShe hath, and in that sparing makes huge waste;\\nFor beauty starvâ€™d with her severity,\\nCuts beauty off from all posterity.\\nShe is too fair, too wise; wisely too fair,\\nTo merit bliss by making me despair.\\nShe hath forsworn to love, and in that vow\\nDo I live dead, that live to tell it now.\\n\\nBENVOLIO.\\nBe rulâ€™d by me, forget to think of her.\\n\\nROMEO.\\nO teach me how I should forget to think.\\n\\nBENVOLIO.\\nBy giving liberty unto thine eyes;\\nExamine other beauties.\\n\\nROMEO.\\nâ€™Tis the way\\nTo call hers, exquisite, in question more.\\nThese happy masks that kiss fair ladiesâ€™ brows,\\nBeing black, puts us in mind they hide the fair;\\nHe that is strucken blind cannot forget\\nThe precious treasure of his eyesight lost.\\nShow me a mistress that is passing fair,\\nWhat doth her beauty serve but as a note\\nWhere I may read who passâ€™d that passing fair?\\nFarewell, thou canst not teach me to forget.\\n\\nBENVOLIO.\\nIâ€™ll pay that doctrine, or else die in debt.\\n\\n [_Exeunt._]\\n\\nSCENE II. A Street.\\n\\n Enter Capulet, Paris and Servant.\\n\\nCAPULET.\\nBut Montague is bound as well as I,\\nIn penalty alike; and â€™tis not hard, I think,\\nFor men so old as we to keep the peace.\\n\\nPARIS.\\nOf honourable reckoning are you both,\\nAnd pity â€™tis you livâ€™d at odds so long.\\nBut now my lord, what say you to my suit?\\n\\nCAPULET.\\nBut saying oâ€™er what I have said before.\\nMy child is yet a stranger in the world,\\nShe hath not seen the change of fourteen years;\\nLet two more summers wither in their pride\\nEre we may think her ripe to be a bride.\\n\\nPARIS.\\nYounger than she are happy mothers made.\\n\\nCAPULET.\\nAnd too soon marrâ€™d are those so early made.\\nThe earth hath swallowed all my hopes but she,\\nShe is the hopeful lady of my earth:\\nBut woo her, gentle Paris, get her heart,\\nMy will to her consent is but a part;\\nAnd she agree, within her scope of choice\\nLies my consent and fair according voice.\\nThis night I hold an old accustomâ€™d feast,\\nWhereto I have invited many a guest,\\nSuch as I love, and you among the store,\\nOne more, most welcome, makes my number more.\\nAt my poor house look to behold this night\\nEarth-treading stars that make dark heaven light:\\nSuch comfort as do lusty young men feel\\nWhen well apparellâ€™d April on the heel\\nOf limping winter treads, even such delight\\nAmong fresh female buds shall you this night\\nInherit at my house. Hear all, all see,\\nAnd like her most whose merit most shall be:\\nWhich, on more view of many, mine, being one,\\nMay stand in number, though in reckoning none.\\nCome, go with me. Go, sirrah, trudge about\\nThrough fair Verona; find those persons out\\nWhose names are written there, [_gives a paper_] and to them say,\\nMy house and welcome on their pleasure stay.\\n\\n [_Exeunt Capulet and Paris._]\\n\\nSERVANT.\\nFind them out whose names are written here! It is written that the\\nshoemaker should meddle with his yard and the tailor with his last, the\\nfisher with his pencil, and the painter with his nets; but I am sent to\\nfind those persons whose names are here writ, and can never find what\\nnames the writing person hath here writ. I must to the learned. In good\\ntime!\\n\\n Enter Benvolio and Romeo.\\n\\nBENVOLIO.\\nTut, man, one fire burns out anotherâ€™s burning,\\nOne pain is lessenâ€™d by anotherâ€™s anguish;\\nTurn giddy, and be holp by backward turning;\\nOne desperate grief cures with anotherâ€™s languish:\\nTake thou some new infection to thy eye,\\nAnd the rank poison of the old will die.\\n\\nROMEO.\\nYour plantain leaf is excellent for that.\\n\\nBENVOLIO.\\nFor what, I pray thee?\\n\\nROMEO.\\nFor your broken shin.\\n\\nBENVOLIO.\\nWhy, Romeo, art thou mad?\\n\\nROMEO.\\nNot mad, but bound more than a madman is:\\nShut up in prison, kept without my food,\\nWhippâ€™d and tormented andâ€”God-den, good fellow.\\n\\nSERVANT.\\nGod giâ€™ go-den. I pray, sir, can you read?\\n\\nROMEO.\\nAy, mine own fortune in my misery.\\n\\nSERVANT.\\nPerhaps you have learned it without book.\\nBut I pray, can you read anything you see?\\n\\nROMEO.\\nAy, If I know the letters and the language.\\n\\nSERVANT.\\nYe say honestly, rest you merry!\\n\\nROMEO.\\nStay, fellow; I can read.\\n\\n [_He reads the letter._]\\n\\n_Signior Martino and his wife and daughters;\\nCounty Anselmo and his beauteous sisters;\\nThe lady widow of Utruvio;\\nSignior Placentio and his lovely nieces;\\nMercutio and his brother Valentine;\\nMine uncle Capulet, his wife, and daughters;\\nMy fair niece Rosaline and Livia;\\nSignior Valentio and his cousin Tybalt;\\nLucio and the lively Helena. _\\n\\n\\nA fair assembly. [_Gives back the paper_] Whither should they come?\\n\\nSERVANT.\\nUp.\\n\\nROMEO.\\nWhither to supper?\\n\\nSERVANT.\\nTo our house.\\n\\nROMEO.\\nWhose house?\\n\\nSERVANT.\\nMy masterâ€™s.\\n\\nROMEO.\\nIndeed I should have askâ€™d you that before.\\n\\nSERVANT.\\nNow Iâ€™ll tell you without asking. My master is the great rich Capulet,\\nand if you be not of the house of Montagues, I pray come and crush a\\ncup of wine. Rest you merry.\\n\\n [_Exit._]\\n\\nBENVOLIO.\\nAt this same ancient feast of Capuletâ€™s\\nSups the fair Rosaline whom thou so lovâ€™st;\\nWith all the admired beauties of Verona.\\nGo thither and with unattainted eye,\\nCompare her face with some that I shall show,\\nAnd I will make thee think thy swan a crow.\\n\\nROMEO.\\nWhen the devout religion of mine eye\\nMaintains such falsehood, then turn tears to fire;\\nAnd these who, often drownâ€™d, could never die,\\nTransparent heretics, be burnt for liars.\\nOne fairer than my love? The all-seeing sun\\nNeâ€™er saw her match since first the world begun.\\n\\nBENVOLIO.\\nTut, you saw her fair, none else being by,\\nHerself poisâ€™d with herself in either eye:\\nBut in that crystal scales let there be weighâ€™d\\nYour ladyâ€™s love against some other maid\\nThat I will show you shining at this feast,\\nAnd she shall scant show well that now shows best.\\n\\nROMEO.\\nIâ€™ll go along, no such sight to be shown,\\nBut to rejoice in splendour of my own.\\n\\n [_Exeunt._]\\n\\nSCENE III. Room in Capuletâ€™s House.\\n\\n Enter Lady Capulet and Nurse.\\n\\nLADY CAPULET.\\nNurse, whereâ€™s my daughter? Call her forth to me.\\n\\nNURSE.\\nNow, by my maidenhead, at twelve year old,\\nI bade her come. What, lamb! What ladybird!\\nGod forbid! Whereâ€™s this girl? What, Juliet!\\n\\n Enter Juliet.\\n\\nJULIET.\\nHow now, who calls?\\n\\nNURSE.\\nYour mother.\\n\\nJULIET.\\nMadam, I am here. What is your will?\\n\\nLADY CAPULET.\\nThis is the matter. Nurse, give leave awhile,\\nWe must talk in secret. Nurse, come back again,\\nI have rememberâ€™d me, thouâ€™s hear our counsel.\\nThou knowest my daughterâ€™s of a pretty age.\\n\\nNURSE.\\nFaith, I can tell her age unto an hour.\\n\\nLADY CAPULET.\\nSheâ€™s not fourteen.\\n\\nNURSE.\\nIâ€™ll lay fourteen of my teeth,\\nAnd yet, to my teen be it spoken, I have but four,\\nShe is not fourteen. How long is it now\\nTo Lammas-tide?\\n\\nLADY CAPULET.\\nA fortnight and odd days.\\n\\nNURSE.\\nEven or odd, of all days in the year,\\nCome Lammas Eve at night shall she be fourteen.\\nSusan and she,â€”God rest all Christian souls!â€”\\nWere of an age. Well, Susan is with God;\\nShe was too good for me. But as I said,\\nOn Lammas Eve at night shall she be fourteen;\\nThat shall she, marry; I remember it well.\\nâ€™Tis since the earthquake now eleven years;\\nAnd she was weanâ€™d,â€”I never shall forget itâ€”,\\nOf all the days of the year, upon that day:\\nFor I had then laid wormwood to my dug,\\nSitting in the sun under the dovehouse wall;\\nMy lord and you were then at Mantua:\\nNay, I do bear a brain. But as I said,\\nWhen it did taste the wormwood on the nipple\\nOf my dug and felt it bitter, pretty fool,\\nTo see it tetchy, and fall out with the dug!\\nShake, quoth the dovehouse: â€™twas no need, I trow,\\nTo bid me trudge.\\nAnd since that time it is eleven years;\\nFor then she could stand alone; nay, by thâ€™rood\\nShe could have run and waddled all about;\\nFor even the day before she broke her brow,\\nAnd then my husband,â€”God be with his soul!\\nA was a merry man,â€”took up the child:\\nâ€˜Yea,â€™ quoth he, â€˜dost thou fall upon thy face?\\nThou wilt fall backward when thou hast more wit;\\nWilt thou not, Jule?â€™ and, by my holidame,\\nThe pretty wretch left crying, and said â€˜Ayâ€™.\\nTo see now how a jest shall come about.\\nI warrant, and I should live a thousand years,\\nI never should forget it. â€˜Wilt thou not, Jule?â€™ quoth he;\\nAnd, pretty fool, it stinted, and said â€˜Ay.â€™\\n\\nLADY CAPULET.\\nEnough of this; I pray thee hold thy peace.\\n\\nNURSE.\\nYes, madam, yet I cannot choose but laugh,\\nTo think it should leave crying, and say â€˜Ayâ€™;\\nAnd yet I warrant it had upon it brow\\nA bump as big as a young cockerelâ€™s stone;\\nA perilous knock, and it cried bitterly.\\nâ€˜Yea,â€™ quoth my husband, â€˜fallâ€™st upon thy face?\\nThou wilt fall backward when thou comest to age;\\nWilt thou not, Jule?â€™ it stinted, and said â€˜Ayâ€™.\\n\\nJULIET.\\nAnd stint thou too, I pray thee, Nurse, say I.\\n\\nNURSE.\\nPeace, I have done. God mark thee to his grace\\nThou wast the prettiest babe that eâ€™er I nursâ€™d:\\nAnd I might live to see thee married once, I have my wish.\\n\\nLADY CAPULET.\\nMarry, that marry is the very theme\\nI came to talk of. Tell me, daughter Juliet,\\nHow stands your disposition to be married?\\n\\nJULIET.\\nIt is an honour that I dream not of.\\n\\nNURSE.\\nAn honour! Were not I thine only nurse,\\nI would say thou hadst suckâ€™d wisdom from thy teat.\\n\\nLADY CAPULET.\\nWell, think of marriage now: younger than you,\\nHere in Verona, ladies of esteem,\\nAre made already mothers. By my count\\nI was your mother much upon these years\\nThat you are now a maid. Thus, then, in brief;\\nThe valiant Paris seeks you for his love.\\n\\nNURSE.\\nA man, young lady! Lady, such a man\\nAs all the worldâ€”why heâ€™s a man of wax.\\n\\nLADY CAPULET.\\nVeronaâ€™s summer hath not such a flower.\\n\\nNURSE.\\nNay, heâ€™s a flower, in faith a very flower.\\n\\nLADY CAPULET.\\nWhat say you, can you love the gentleman?\\nThis night you shall behold him at our feast;\\nRead oâ€™er the volume of young Parisâ€™ face,\\nAnd find delight writ there with beautyâ€™s pen.\\nExamine every married lineament,\\nAnd see how one another lends content;\\nAnd what obscurâ€™d in this fair volume lies,\\nFind written in the margent of his eyes.\\nThis precious book of love, this unbound lover,\\nTo beautify him, only lacks a cover:\\nThe fish lives in the sea; and â€™tis much pride\\nFor fair without the fair within to hide.\\nThat book in manyâ€™s eyes doth share the glory,\\nThat in gold clasps locks in the golden story;\\nSo shall you share all that he doth possess,\\nBy having him, making yourself no less.\\n\\nNURSE.\\nNo less, nay bigger. Women grow by men.\\n\\nLADY CAPULET.\\nSpeak briefly, can you like of Parisâ€™ love?\\n\\nJULIET.\\nIâ€™ll look to like, if looking liking move:\\nBut no more deep will I endart mine eye\\nThan your consent gives strength to make it fly.\\n\\n Enter a Servant.\\n\\nSERVANT.\\nMadam, the guests are come, supper served up, you called, my young lady\\nasked for, the Nurse cursed in the pantry, and everything in extremity.\\nI must hence to wait, I beseech you follow straight.\\n\\nLADY CAPULET.\\nWe follow thee.\\n\\n [_Exit Servant._]\\n\\nJuliet, the County stays.\\n\\nNURSE.\\nGo, girl, seek happy nights to happy days.\\n\\n [_Exeunt._]\\n\\nSCENE IV. A Street.\\n\\n Enter Romeo, Mercutio, Benvolio, with five or six Maskers;\\n Torch-bearers and others.\\n\\nROMEO.\\nWhat, shall this speech be spoke for our excuse?\\nOr shall we on without apology?\\n\\nBENVOLIO.\\nThe date is out of such prolixity:\\nWeâ€™ll have no Cupid hoodwinkâ€™d with a scarf,\\nBearing a Tartarâ€™s painted bow of lath,\\nScaring the ladies like a crow-keeper;\\nNor no without-book prologue, faintly spoke\\nAfter the prompter, for our entrance:\\nBut let them measure us by what they will,\\nWeâ€™ll measure them a measure, and be gone.\\n\\nROMEO.\\nGive me a torch, I am not for this ambling;\\nBeing but heavy I will bear the light.\\n\\nMERCUTIO.\\nNay, gentle Romeo, we must have you dance.\\n\\nROMEO.\\nNot I, believe me, you have dancing shoes,\\nWith nimble soles, I have a soul of lead\\nSo stakes me to the ground I cannot move.\\n\\nMERCUTIO.\\nYou are a lover, borrow Cupidâ€™s wings,\\nAnd soar with them above a common bound.\\n\\nROMEO.\\nI am too sore enpierced with his shaft\\nTo soar with his light feathers, and so bound,\\nI cannot bound a pitch above dull woe.\\nUnder loveâ€™s heavy burden do I sink.\\n\\nMERCUTIO.\\nAnd, to sink in it, should you burden love;\\nToo great oppression for a tender thing.\\n\\nROMEO.\\nIs love a tender thing? It is too rough,\\nToo rude, too boisterous; and it pricks like thorn.\\n\\nMERCUTIO.\\nIf love be rough with you, be rough with love;\\nPrick love for pricking, and you beat love down.\\nGive me a case to put my visage in: [_Putting on a mask._]\\nA visor for a visor. What care I\\nWhat curious eye doth quote deformities?\\nHere are the beetle-brows shall blush for me.\\n\\nBENVOLIO.\\nCome, knock and enter; and no sooner in\\nBut every man betake him to his legs.\\n\\nROMEO.\\nA torch for me: let wantons, light of heart,\\nTickle the senseless rushes with their heels;\\nFor I am proverbâ€™d with a grandsire phrase,\\nIâ€™ll be a candle-holder and look on,\\nThe game was neâ€™er so fair, and I am done.\\n\\nMERCUTIO.\\nTut, dunâ€™s the mouse, the constableâ€™s own word:\\nIf thou art dun, weâ€™ll draw thee from the mire\\nOr save your reverence love, wherein thou stickest\\nUp to the ears. Come, we burn daylight, ho.\\n\\nROMEO.\\nNay, thatâ€™s not so.\\n\\nMERCUTIO.\\nI mean sir, in delay\\nWe waste our lights in vain, light lights by day.\\nTake our good meaning, for our judgment sits\\nFive times in that ere once in our five wits.\\n\\nROMEO.\\nAnd we mean well in going to this mask;\\nBut â€™tis no wit to go.\\n\\nMERCUTIO.\\nWhy, may one ask?\\n\\nROMEO.\\nI dreamt a dream tonight.\\n\\nMERCUTIO.\\nAnd so did I.\\n\\nROMEO.\\nWell what was yours?\\n\\nMERCUTIO.\\nThat dreamers often lie.\\n\\nROMEO.\\nIn bed asleep, while they do dream things true.\\n\\nMERCUTIO.\\nO, then, I see Queen Mab hath been with you.\\nShe is the fairiesâ€™ midwife, and she comes\\nIn shape no bigger than an agate-stone\\nOn the fore-finger of an alderman,\\nDrawn with a team of little atomies\\nOver menâ€™s noses as they lie asleep:\\nHer waggon-spokes made of long spinnersâ€™ legs;\\nThe cover, of the wings of grasshoppers;\\nHer traces, of the smallest spiderâ€™s web;\\nThe collars, of the moonshineâ€™s watery beams;\\nHer whip of cricketâ€™s bone; the lash, of film;\\nHer waggoner, a small grey-coated gnat,\\nNot half so big as a round little worm\\nPrickâ€™d from the lazy finger of a maid:\\nHer chariot is an empty hazelnut,\\nMade by the joiner squirrel or old grub,\\nTime out oâ€™ mind the fairiesâ€™ coachmakers.\\nAnd in this state she gallops night by night\\nThrough loversâ€™ brains, and then they dream of love;\\nOâ€™er courtiersâ€™ knees, that dream on curtsies straight;\\nOâ€™er lawyersâ€™ fingers, who straight dream on fees;\\nOâ€™er ladiesâ€™ lips, who straight on kisses dream,\\nWhich oft the angry Mab with blisters plagues,\\nBecause their breaths with sweetmeats tainted are:\\nSometime she gallops oâ€™er a courtierâ€™s nose,\\nAnd then dreams he of smelling out a suit;\\nAnd sometime comes she with a tithe-pigâ€™s tail,\\nTickling a parsonâ€™s nose as a lies asleep,\\nThen dreams he of another benefice:\\nSometime she driveth oâ€™er a soldierâ€™s neck,\\nAnd then dreams he of cutting foreign throats,\\nOf breaches, ambuscados, Spanish blades,\\nOf healths five fathom deep; and then anon\\nDrums in his ear, at which he starts and wakes;\\nAnd, being thus frighted, swears a prayer or two,\\nAnd sleeps again. This is that very Mab\\nThat plats the manes of horses in the night;\\nAnd bakes the elf-locks in foul sluttish hairs,\\nWhich, once untangled, much misfortune bodes:\\nThis is the hag, when maids lie on their backs,\\nThat presses them, and learns them first to bear,\\nMaking them women of good carriage:\\nThis is she,â€”\\n\\nROMEO.\\nPeace, peace, Mercutio, peace,\\nThou talkâ€™st of nothing.\\n\\nMERCUTIO.\\nTrue, I talk of dreams,\\nWhich are the children of an idle brain,\\nBegot of nothing but vain fantasy,\\nWhich is as thin of substance as the air,\\nAnd more inconstant than the wind, who wooes\\nEven now the frozen bosom of the north,\\nAnd, being angerâ€™d, puffs away from thence,\\nTurning his side to the dew-dropping south.\\n\\nBENVOLIO.\\nThis wind you talk of blows us from ourselves:\\nSupper is done, and we shall come too late.\\n\\nROMEO.\\nI fear too early: for my mind misgives\\nSome consequence yet hanging in the stars,\\nShall bitterly begin his fearful date\\nWith this nightâ€™s revels; and expire the term\\nOf a despised life, closâ€™d in my breast\\nBy some vile forfeit of untimely death.\\nBut he that hath the steerage of my course\\nDirect my suit. On, lusty gentlemen!\\n\\nBENVOLIO.\\nStrike, drum.\\n\\n [_Exeunt._]\\n\\nSCENE V. A Hall in Capuletâ€™s House.\\n\\n Musicians waiting. Enter Servants.\\n\\nFIRST SERVANT.\\nWhereâ€™s Potpan, that he helps not to take away?\\nHe shift a trencher! He scrape a trencher!\\n\\nSECOND SERVANT.\\nWhen good manners shall lie all in one or two menâ€™s hands, and they\\nunwashâ€™d too, â€™tis a foul thing.\\n\\nFIRST SERVANT.\\nAway with the join-stools, remove the court-cupboard, look to the\\nplate. Good thou, save me a piece of marchpane; and as thou loves me,\\nlet the porter let in Susan Grindstone and Nell. Antony and Potpan!\\n\\nSECOND SERVANT.\\nAy, boy, ready.\\n\\nFIRST SERVANT.\\nYou are looked for and called for, asked for and sought for, in the\\ngreat chamber.\\n\\nSECOND SERVANT.\\nWe cannot be here and there too. Cheerly, boys. Be brisk awhile, and\\nthe longer liver take all.\\n\\n [_Exeunt._]\\n\\n Enter Capulet, &c. with the Guests and Gentlewomen to the Maskers.\\n\\nCAPULET.\\nWelcome, gentlemen, ladies that have their toes\\nUnplaguâ€™d with corns will have a bout with you.\\nAh my mistresses, which of you all\\nWill now deny to dance? She that makes dainty,\\nShe Iâ€™ll swear hath corns. Am I come near ye now?\\nWelcome, gentlemen! I have seen the day\\nThat I have worn a visor, and could tell\\nA whispering tale in a fair ladyâ€™s ear,\\nSuch as would please; â€™tis gone, â€™tis gone, â€™tis gone,\\nYou are welcome, gentlemen! Come, musicians, play.\\nA hall, a hall, give room! And foot it, girls.\\n\\n [_Music plays, and they dance._]\\n\\nMore light, you knaves; and turn the tables up,\\nAnd quench the fire, the room is grown too hot.\\nAh sirrah, this unlookâ€™d-for sport comes well.\\nNay sit, nay sit, good cousin Capulet,\\nFor you and I are past our dancing days;\\nHow long isâ€™t now since last yourself and I\\nWere in a mask?\\n\\nCAPULETâ€™S COUSIN.\\nByâ€™r Lady, thirty years.\\n\\nCAPULET.\\nWhat, man, â€™tis not so much, â€™tis not so much:\\nâ€™Tis since the nuptial of Lucentio,\\nCome Pentecost as quickly as it will,\\nSome five and twenty years; and then we maskâ€™d.\\n\\nCAPULETâ€™S COUSIN.\\nâ€™Tis more, â€™tis more, his son is elder, sir;\\nHis son is thirty.\\n\\nCAPULET.\\nWill you tell me that?\\nHis son was but a ward two years ago.\\n\\nROMEO.\\nWhat lady is that, which doth enrich the hand\\nOf yonder knight?\\n\\nSERVANT.\\nI know not, sir.\\n\\nROMEO.\\nO, she doth teach the torches to burn bright!\\nIt seems she hangs upon the cheek of night\\nAs a rich jewel in an Ethiopâ€™s ear;\\nBeauty too rich for use, for earth too dear!\\nSo shows a snowy dove trooping with crows\\nAs yonder lady oâ€™er her fellows shows.\\nThe measure done, Iâ€™ll watch her place of stand,\\nAnd touching hers, make blessed my rude hand.\\nDid my heart love till now? Forswear it, sight!\\nFor I neâ€™er saw true beauty till this night.\\n\\nTYBALT.\\nThis by his voice, should be a Montague.\\nFetch me my rapier, boy. What, dares the slave\\nCome hither, coverâ€™d with an antic face,\\nTo fleer and scorn at our solemnity?\\nNow by the stock and honour of my kin,\\nTo strike him dead I hold it not a sin.\\n\\nCAPULET.\\nWhy how now, kinsman!\\nWherefore storm you so?\\n\\nTYBALT.\\nUncle, this is a Montague, our foe;\\nA villain that is hither come in spite,\\nTo scorn at our solemnity this night.\\n\\nCAPULET.\\nYoung Romeo, is it?\\n\\nTYBALT.\\nâ€™Tis he, that villain Romeo.\\n\\nCAPULET.\\nContent thee, gentle coz, let him alone,\\nA bears him like a portly gentleman;\\nAnd, to say truth, Verona brags of him\\nTo be a virtuous and well-governâ€™d youth.\\nI would not for the wealth of all the town\\nHere in my house do him disparagement.\\nTherefore be patient, take no note of him,\\nIt is my will; the which if thou respect,\\nShow a fair presence and put off these frowns,\\nAn ill-beseeming semblance for a feast.\\n\\nTYBALT.\\nIt fits when such a villain is a guest:\\nIâ€™ll not endure him.\\n\\nCAPULET.\\nHe shall be endurâ€™d.\\nWhat, goodman boy! I say he shall, go to;\\nAm I the master here, or you? Go to.\\nYouâ€™ll not endure him! God shall mend my soul,\\nYouâ€™ll make a mutiny among my guests!\\nYou will set cock-a-hoop, youâ€™ll be the man!\\n\\nTYBALT.\\nWhy, uncle, â€™tis a shame.\\n\\nCAPULET.\\nGo to, go to!\\nYou are a saucy boy. Isâ€™t so, indeed?\\nThis trick may chance to scathe you, I know what.\\nYou must contrary me! Marry, â€™tis time.\\nWell said, my hearts!â€”You are a princox; go:\\nBe quiet, orâ€”More light, more light!â€”For shame!\\nIâ€™ll make you quiet. What, cheerly, my hearts.\\n\\nTYBALT.\\nPatience perforce with wilful choler meeting\\nMakes my flesh tremble in their different greeting.\\nI will withdraw: but this intrusion shall,\\nNow seeming sweet, convert to bitter gall.\\n\\n [_Exit._]\\n\\nROMEO.\\n[_To Juliet._] If I profane with my unworthiest hand\\nThis holy shrine, the gentle sin is this,\\nMy lips, two blushing pilgrims, ready stand\\nTo smooth that rough touch with a tender kiss.\\n\\nJULIET.\\nGood pilgrim, you do wrong your hand too much,\\nWhich mannerly devotion shows in this;\\nFor saints have hands that pilgrimsâ€™ hands do touch,\\nAnd palm to palm is holy palmersâ€™ kiss.\\n\\nROMEO.\\nHave not saints lips, and holy palmers too?\\n\\nJULIET.\\nAy, pilgrim, lips that they must use in prayer.\\n\\nROMEO.\\nO, then, dear saint, let lips do what hands do:\\nThey pray, grant thou, lest faith turn to despair.\\n\\nJULIET.\\nSaints do not move, though grant for prayersâ€™ sake.\\n\\nROMEO.\\nThen move not while my prayerâ€™s effect I take.\\nThus from my lips, by thine my sin is purgâ€™d.\\n[_Kissing her._]\\n\\nJULIET.\\nThen have my lips the sin that they have took.\\n\\nROMEO.\\nSin from my lips? O trespass sweetly urgâ€™d!\\nGive me my sin again.\\n\\nJULIET.\\nYou kiss by the book.\\n\\nNURSE.\\nMadam, your mother craves a word with you.\\n\\nROMEO.\\nWhat is her mother?\\n\\nNURSE.\\nMarry, bachelor,\\nHer mother is the lady of the house,\\nAnd a good lady, and a wise and virtuous.\\nI nursâ€™d her daughter that you talkâ€™d withal.\\nI tell you, he that can lay hold of her\\nShall have the chinks.\\n\\nROMEO.\\nIs she a Capulet?\\nO dear account! My life is my foeâ€™s debt.\\n\\nBENVOLIO.\\nAway, be gone; the sport is at the best.\\n\\nROMEO.\\nAy, so I fear; the more is my unrest.\\n\\nCAPULET.\\nNay, gentlemen, prepare not to be gone,\\nWe have a trifling foolish banquet towards.\\nIs it eâ€™en so? Why then, I thank you all;\\nI thank you, honest gentlemen; good night.\\nMore torches here! Come on then, letâ€™s to bed.\\nAh, sirrah, by my fay, it waxes late,\\nIâ€™ll to my rest.\\n\\n [_Exeunt all but Juliet and Nurse._]\\n\\nJULIET.\\nCome hither, Nurse. What is yond gentleman?\\n\\nNURSE.\\nThe son and heir of old Tiberio.\\n\\nJULIET.\\nWhatâ€™s he that now is going out of door?\\n\\nNURSE.\\nMarry, that I think be young Petruchio.\\n\\nJULIET.\\nWhatâ€™s he that follows here, that would not dance?\\n\\nNURSE.\\nI know not.\\n\\nJULIET.\\nGo ask his name. If he be married,\\nMy grave is like to be my wedding bed.\\n\\nNURSE.\\nHis name is Romeo, and a Montague,\\nThe only son of your great enemy.\\n\\nJULIET.\\nMy only love sprung from my only hate!\\nToo early seen unknown, and known too late!\\nProdigious birth of love it is to me,\\nThat I must love a loathed enemy.\\n\\nNURSE.\\nWhatâ€™s this? Whatâ€™s this?\\n\\nJULIET.\\nA rhyme I learnâ€™d even now\\nOf one I dancâ€™d withal.\\n\\n [_One calls within, â€˜Julietâ€™._]\\n\\nNURSE.\\nAnon, anon!\\nCome letâ€™s away, the strangers all are gone.\\n\\n [_Exeunt._]\\n\\n\\n\\nACT II\\n\\n Enter Chorus.\\n\\nCHORUS.\\nNow old desire doth in his deathbed lie,\\nAnd young affection gapes to be his heir;\\nThat fair for which love groanâ€™d for and would die,\\nWith tender Juliet matchâ€™d, is now not fair.\\nNow Romeo is belovâ€™d, and loves again,\\nAlike bewitched by the charm of looks;\\nBut to his foe supposâ€™d he must complain,\\nAnd she steal loveâ€™s sweet bait from fearful hooks:\\nBeing held a foe, he may not have access\\nTo breathe such vows as lovers use to swear;\\nAnd she as much in love, her means much less\\nTo meet her new beloved anywhere.\\nBut passion lends them power, time means, to meet,\\nTempering extremities with extreme sweet.\\n\\n [_Exit._]\\n\\nSCENE I. An open place adjoining Capuletâ€™s Garden.\\n\\n Enter Romeo.\\n\\nROMEO.\\nCan I go forward when my heart is here?\\nTurn back, dull earth, and find thy centre out.\\n\\n [_He climbs the wall and leaps down within it._]\\n\\n Enter Benvolio and Mercutio.\\n\\nBENVOLIO.\\nRomeo! My cousin Romeo! Romeo!\\n\\nMERCUTIO.\\nHe is wise,\\nAnd on my life hath stolâ€™n him home to bed.\\n\\nBENVOLIO.\\nHe ran this way, and leapâ€™d this orchard wall:\\nCall, good Mercutio.\\n\\nMERCUTIO.\\nNay, Iâ€™ll conjure too.\\nRomeo! Humours! Madman! Passion! Lover!\\nAppear thou in the likeness of a sigh,\\nSpeak but one rhyme, and I am satisfied;\\nCry but â€˜Ah me!â€™ Pronounce but Love and dove;\\nSpeak to my gossip Venus one fair word,\\nOne nickname for her purblind son and heir,\\nYoung Abraham Cupid, he that shot so trim\\nWhen King Cophetua lovâ€™d the beggar-maid.\\nHe heareth not, he stirreth not, he moveth not;\\nThe ape is dead, and I must conjure him.\\nI conjure thee by Rosalineâ€™s bright eyes,\\nBy her high forehead and her scarlet lip,\\nBy her fine foot, straight leg, and quivering thigh,\\nAnd the demesnes that there adjacent lie,\\nThat in thy likeness thou appear to us.\\n\\nBENVOLIO.\\nAn if he hear thee, thou wilt anger him.\\n\\nMERCUTIO.\\nThis cannot anger him. â€™Twould anger him\\nTo raise a spirit in his mistressâ€™ circle,\\nOf some strange nature, letting it there stand\\nTill she had laid it, and conjurâ€™d it down;\\nThat were some spite. My invocation\\nIs fair and honest, and, in his mistressâ€™ name,\\nI conjure only but to raise up him.\\n\\nBENVOLIO.\\nCome, he hath hid himself among these trees\\nTo be consorted with the humorous night.\\nBlind is his love, and best befits the dark.\\n\\nMERCUTIO.\\nIf love be blind, love cannot hit the mark.\\nNow will he sit under a medlar tree,\\nAnd wish his mistress were that kind of fruit\\nAs maids call medlars when they laugh alone.\\nO Romeo, that she were, O that she were\\nAn open-arse and thou a poperin pear!\\nRomeo, good night. Iâ€™ll to my truckle-bed.\\nThis field-bed is too cold for me to sleep.\\nCome, shall we go?\\n\\nBENVOLIO.\\nGo then; for â€™tis in vain\\nTo seek him here that means not to be found.\\n\\n [_Exeunt._]\\n\\nSCENE II. Capuletâ€™s Garden.\\n\\n Enter Romeo.\\n\\nROMEO.\\nHe jests at scars that never felt a wound.\\n\\n Juliet appears above at a window.\\n\\nBut soft, what light through yonder window breaks?\\nIt is the east, and Juliet is the sun!\\nArise fair sun and kill the envious moon,\\nWho is already sick and pale with grief,\\nThat thou her maid art far more fair than she.\\nBe not her maid since she is envious;\\nHer vestal livery is but sick and green,\\nAnd none but fools do wear it; cast it off.\\nIt is my lady, O it is my love!\\nO, that she knew she were!\\nShe speaks, yet she says nothing. What of that?\\nHer eye discourses, I will answer it.\\nI am too bold, â€™tis not to me she speaks.\\nTwo of the fairest stars in all the heaven,\\nHaving some business, do entreat her eyes\\nTo twinkle in their spheres till they return.\\nWhat if her eyes were there, they in her head?\\nThe brightness of her cheek would shame those stars,\\nAs daylight doth a lamp; her eyes in heaven\\nWould through the airy region stream so bright\\nThat birds would sing and think it were not night.\\nSee how she leans her cheek upon her hand.\\nO that I were a glove upon that hand,\\nThat I might touch that cheek.\\n\\nJULIET.\\nAy me.\\n\\nROMEO.\\nShe speaks.\\nO speak again bright angel, for thou art\\nAs glorious to this night, being oâ€™er my head,\\nAs is a winged messenger of heaven\\nUnto the white-upturned wondering eyes\\nOf mortals that fall back to gaze on him\\nWhen he bestrides the lazy-puffing clouds\\nAnd sails upon the bosom of the air.\\n\\nJULIET.\\nO Romeo, Romeo, wherefore art thou Romeo?\\nDeny thy father and refuse thy name.\\nOr if thou wilt not, be but sworn my love,\\nAnd Iâ€™ll no longer be a Capulet.\\n\\nROMEO.\\n[_Aside._] Shall I hear more, or shall I speak at this?\\n\\nJULIET.\\nâ€™Tis but thy name that is my enemy;\\nThou art thyself, though not a Montague.\\nWhatâ€™s Montague? It is nor hand nor foot,\\nNor arm, nor face, nor any other part\\nBelonging to a man. O be some other name.\\nWhatâ€™s in a name? That which we call a rose\\nBy any other name would smell as sweet;\\nSo Romeo would, were he not Romeo callâ€™d,\\nRetain that dear perfection which he owes\\nWithout that title. Romeo, doff thy name,\\nAnd for thy name, which is no part of thee,\\nTake all myself.\\n\\nROMEO.\\nI take thee at thy word.\\nCall me but love, and Iâ€™ll be new baptisâ€™d;\\nHenceforth I never will be Romeo.\\n\\nJULIET.\\nWhat man art thou that, thus bescreenâ€™d in night\\nSo stumblest on my counsel?\\n\\nROMEO.\\nBy a name\\nI know not how to tell thee who I am:\\nMy name, dear saint, is hateful to myself,\\nBecause it is an enemy to thee.\\nHad I it written, I would tear the word.\\n\\nJULIET.\\nMy ears have yet not drunk a hundred words\\nOf thy tongueâ€™s utterance, yet I know the sound.\\nArt thou not Romeo, and a Montague?\\n\\nROMEO.\\nNeither, fair maid, if either thee dislike.\\n\\nJULIET.\\nHow camâ€™st thou hither, tell me, and wherefore?\\nThe orchard walls are high and hard to climb,\\nAnd the place death, considering who thou art,\\nIf any of my kinsmen find thee here.\\n\\nROMEO.\\nWith loveâ€™s light wings did I oâ€™erperch these walls,\\nFor stony limits cannot hold love out,\\nAnd what love can do, that dares love attempt:\\nTherefore thy kinsmen are no stop to me.\\n\\nJULIET.\\nIf they do see thee, they will murder thee.\\n\\nROMEO.\\nAlack, there lies more peril in thine eye\\nThan twenty of their swords. Look thou but sweet,\\nAnd I am proof against their enmity.\\n\\nJULIET.\\nI would not for the world they saw thee here.\\n\\nROMEO.\\nI have nightâ€™s cloak to hide me from their eyes,\\nAnd but thou love me, let them find me here.\\nMy life were better ended by their hate\\nThan death prorogued, wanting of thy love.\\n\\nJULIET.\\nBy whose direction foundâ€™st thou out this place?\\n\\nROMEO.\\nBy love, that first did prompt me to enquire;\\nHe lent me counsel, and I lent him eyes.\\nI am no pilot; yet wert thou as far\\nAs that vast shore washâ€™d with the farthest sea,\\nI should adventure for such merchandise.\\n\\nJULIET.\\nThou knowest the mask of night is on my face,\\nElse would a maiden blush bepaint my cheek\\nFor that which thou hast heard me speak tonight.\\nFain would I dwell on form, fain, fain deny\\nWhat I have spoke; but farewell compliment.\\nDost thou love me? I know thou wilt say Ay,\\nAnd I will take thy word. Yet, if thou swearâ€™st,\\nThou mayst prove false. At loversâ€™ perjuries,\\nThey say Jove laughs. O gentle Romeo,\\nIf thou dost love, pronounce it faithfully.\\nOr if thou thinkest I am too quickly won,\\nIâ€™ll frown and be perverse, and say thee nay,\\nSo thou wilt woo. But else, not for the world.\\nIn truth, fair Montague, I am too fond;\\nAnd therefore thou mayst think my â€™haviour light:\\nBut trust me, gentleman, Iâ€™ll prove more true\\nThan those that have more cunning to be strange.\\nI should have been more strange, I must confess,\\nBut that thou overheardâ€™st, ere I was â€™ware,\\nMy true-love passion; therefore pardon me,\\nAnd not impute this yielding to light love,\\nWhich the dark night hath so discovered.\\n\\nROMEO.\\nLady, by yonder blessed moon I vow,\\nThat tips with silver all these fruit-tree tops,â€”\\n\\nJULIET.\\nO swear not by the moon, thâ€™inconstant moon,\\nThat monthly changes in her circled orb,\\nLest that thy love prove likewise variable.\\n\\nROMEO.\\nWhat shall I swear by?\\n\\nJULIET.\\nDo not swear at all.\\nOr if thou wilt, swear by thy gracious self,\\nWhich is the god of my idolatry,\\nAnd Iâ€™ll believe thee.\\n\\nROMEO.\\nIf my heartâ€™s dear love,â€”\\n\\nJULIET.\\nWell, do not swear. Although I joy in thee,\\nI have no joy of this contract tonight;\\nIt is too rash, too unadvisâ€™d, too sudden,\\nToo like the lightning, which doth cease to be\\nEre one can say It lightens. Sweet, good night.\\nThis bud of love, by summerâ€™s ripening breath,\\nMay prove a beauteous flower when next we meet.\\nGood night, good night. As sweet repose and rest\\nCome to thy heart as that within my breast.\\n\\nROMEO.\\nO wilt thou leave me so unsatisfied?\\n\\nJULIET.\\nWhat satisfaction canst thou have tonight?\\n\\nROMEO.\\nThâ€™exchange of thy loveâ€™s faithful vow for mine.\\n\\nJULIET.\\nI gave thee mine before thou didst request it;\\nAnd yet I would it were to give again.\\n\\nROMEO.\\nWouldâ€™st thou withdraw it? For what purpose, love?\\n\\nJULIET.\\nBut to be frank and give it thee again.\\nAnd yet I wish but for the thing I have;\\nMy bounty is as boundless as the sea,\\nMy love as deep; the more I give to thee,\\nThe more I have, for both are infinite.\\nI hear some noise within. Dear love, adieu.\\n[_Nurse calls within._]\\nAnon, good Nurse!â€”Sweet Montague be true.\\nStay but a little, I will come again.\\n\\n [_Exit._]\\n\\nROMEO.\\nO blessed, blessed night. I am afeard,\\nBeing in night, all this is but a dream,\\nToo flattering sweet to be substantial.\\n\\n Enter Juliet above.\\n\\nJULIET.\\nThree words, dear Romeo, and good night indeed.\\nIf that thy bent of love be honourable,\\nThy purpose marriage, send me word tomorrow,\\nBy one that Iâ€™ll procure to come to thee,\\nWhere and what time thou wilt perform the rite,\\nAnd all my fortunes at thy foot Iâ€™ll lay\\nAnd follow thee my lord throughout the world.\\n\\nNURSE.\\n[_Within._] Madam.\\n\\nJULIET.\\nI come, anon.â€” But if thou meanest not well,\\nI do beseech thee,â€”\\n\\nNURSE.\\n[_Within._] Madam.\\n\\nJULIET.\\nBy and by I comeâ€”\\nTo cease thy strife and leave me to my grief.\\nTomorrow will I send.\\n\\nROMEO.\\nSo thrive my soul,â€”\\n\\nJULIET.\\nA thousand times good night.\\n\\n [_Exit._]\\n\\nROMEO.\\nA thousand times the worse, to want thy light.\\nLove goes toward love as schoolboys from their books,\\nBut love from love, towards school with heavy looks.\\n\\n [_Retiring slowly._]\\n\\n Re-enter Juliet, above.\\n\\nJULIET.\\nHist! Romeo, hist! O for a falconerâ€™s voice\\nTo lure this tassel-gentle back again.\\nBondage is hoarse and may not speak aloud,\\nElse would I tear the cave where Echo lies,\\nAnd make her airy tongue more hoarse than mine\\nWith repetition of my Romeoâ€™s name.\\n\\nROMEO.\\nIt is my soul that calls upon my name.\\nHow silver-sweet sound loversâ€™ tongues by night,\\nLike softest music to attending ears.\\n\\nJULIET.\\nRomeo.\\n\\nROMEO.\\nMy nyas?\\n\\nJULIET.\\nWhat oâ€™clock tomorrow\\nShall I send to thee?\\n\\nROMEO.\\nBy the hour of nine.\\n\\nJULIET.\\nI will not fail. â€™Tis twenty years till then.\\nI have forgot why I did call thee back.\\n\\nROMEO.\\nLet me stand here till thou remember it.\\n\\nJULIET.\\nI shall forget, to have thee still stand there,\\nRemembering how I love thy company.\\n\\nROMEO.\\nAnd Iâ€™ll still stay, to have thee still forget,\\nForgetting any other home but this.\\n\\nJULIET.\\nâ€™Tis almost morning; I would have thee gone,\\nAnd yet no farther than a wantonâ€™s bird,\\nThat lets it hop a little from her hand,\\nLike a poor prisoner in his twisted gyves,\\nAnd with a silk thread plucks it back again,\\nSo loving-jealous of his liberty.\\n\\nROMEO.\\nI would I were thy bird.\\n\\nJULIET.\\nSweet, so would I:\\nYet I should kill thee with much cherishing.\\nGood night, good night. Parting is such sweet sorrow\\nThat I shall say good night till it be morrow.\\n\\n [_Exit._]\\n\\nROMEO.\\nSleep dwell upon thine eyes, peace in thy breast.\\nWould I were sleep and peace, so sweet to rest.\\nThe grey-eyâ€™d morn smiles on the frowning night,\\nChequering the eastern clouds with streaks of light;\\nAnd darkness fleckled like a drunkard reels\\nFrom forth dayâ€™s pathway, made by Titanâ€™s wheels\\nHence will I to my ghostly Sireâ€™s cell,\\nHis help to crave and my dear hap to tell.\\n\\n [_Exit._]\\n\\nSCENE III. Friar Lawrenceâ€™s Cell.\\n\\n Enter Friar Lawrence with a basket.\\n\\nFRIAR LAWRENCE.\\nNow, ere the sun advance his burning eye,\\nThe day to cheer, and nightâ€™s dank dew to dry,\\nI must upfill this osier cage of ours\\nWith baleful weeds and precious-juiced flowers.\\nThe earth thatâ€™s natureâ€™s mother, is her tomb;\\nWhat is her burying grave, that is her womb:\\nAnd from her womb children of divers kind\\nWe sucking on her natural bosom find.\\nMany for many virtues excellent,\\nNone but for some, and yet all different.\\nO, mickle is the powerful grace that lies\\nIn plants, herbs, stones, and their true qualities.\\nFor naught so vile that on the earth doth live\\nBut to the earth some special good doth give;\\nNor aught so good but, strainâ€™d from that fair use,\\nRevolts from true birth, stumbling on abuse.\\nVirtue itself turns vice being misapplied,\\nAnd vice sometimeâ€™s by action dignified.\\n\\n Enter Romeo.\\n\\nWithin the infant rind of this weak flower\\nPoison hath residence, and medicine power:\\nFor this, being smelt, with that part cheers each part;\\nBeing tasted, slays all senses with the heart.\\nTwo such opposed kings encamp them still\\nIn man as well as herbs,â€”grace and rude will;\\nAnd where the worser is predominant,\\nFull soon the canker death eats up that plant.\\n\\nROMEO.\\nGood morrow, father.\\n\\nFRIAR LAWRENCE.\\nBenedicite!\\nWhat early tongue so sweet saluteth me?\\nYoung son, it argues a distemperâ€™d head\\nSo soon to bid good morrow to thy bed.\\nCare keeps his watch in every old manâ€™s eye,\\nAnd where care lodges sleep will never lie;\\nBut where unbruised youth with unstuffâ€™d brain\\nDoth couch his limbs, there golden sleep doth reign.\\nTherefore thy earliness doth me assure\\nThou art uprousâ€™d with some distemperature;\\nOr if not so, then here I hit it right,\\nOur Romeo hath not been in bed tonight.\\n\\nROMEO.\\nThat last is true; the sweeter rest was mine.\\n\\nFRIAR LAWRENCE.\\nGod pardon sin. Wast thou with Rosaline?\\n\\nROMEO.\\nWith Rosaline, my ghostly father? No.\\nI have forgot that name, and that nameâ€™s woe.\\n\\nFRIAR LAWRENCE.\\nThatâ€™s my good son. But where hast thou been then?\\n\\nROMEO.\\nIâ€™ll tell thee ere thou ask it me again.\\nI have been feasting with mine enemy,\\nWhere on a sudden one hath wounded me\\nThatâ€™s by me wounded. Both our remedies\\nWithin thy help and holy physic lies.\\nI bear no hatred, blessed man; for lo,\\nMy intercession likewise steads my foe.\\n\\nFRIAR LAWRENCE.\\nBe plain, good son, and homely in thy drift;\\nRiddling confession finds but riddling shrift.\\n\\nROMEO.\\nThen plainly know my heartâ€™s dear love is set\\nOn the fair daughter of rich Capulet.\\nAs mine on hers, so hers is set on mine;\\nAnd all combinâ€™d, save what thou must combine\\nBy holy marriage. When, and where, and how\\nWe met, we wooâ€™d, and made exchange of vow,\\nIâ€™ll tell thee as we pass; but this I pray,\\nThat thou consent to marry us today.\\n\\nFRIAR LAWRENCE.\\nHoly Saint Francis! What a change is here!\\nIs Rosaline, that thou didst love so dear,\\nSo soon forsaken? Young menâ€™s love then lies\\nNot truly in their hearts, but in their eyes.\\nJesu Maria, what a deal of brine\\nHath washâ€™d thy sallow cheeks for Rosaline!\\nHow much salt water thrown away in waste,\\nTo season love, that of it doth not taste.\\nThe sun not yet thy sighs from heaven clears,\\nThy old groans yet ring in mine ancient ears.\\nLo here upon thy cheek the stain doth sit\\nOf an old tear that is not washâ€™d off yet.\\nIf ere thou wast thyself, and these woes thine,\\nThou and these woes were all for Rosaline,\\nAnd art thou changâ€™d? Pronounce this sentence then,\\nWomen may fall, when thereâ€™s no strength in men.\\n\\nROMEO.\\nThou chiddâ€™st me oft for loving Rosaline.\\n\\nFRIAR LAWRENCE.\\nFor doting, not for loving, pupil mine.\\n\\nROMEO.\\nAnd badâ€™st me bury love.\\n\\nFRIAR LAWRENCE.\\nNot in a grave\\nTo lay one in, another out to have.\\n\\nROMEO.\\nI pray thee chide me not, her I love now\\nDoth grace for grace and love for love allow.\\nThe other did not so.\\n\\nFRIAR LAWRENCE.\\nO, she knew well\\nThy love did read by rote, that could not spell.\\nBut come young waverer, come go with me,\\nIn one respect Iâ€™ll thy assistant be;\\nFor this alliance may so happy prove,\\nTo turn your householdsâ€™ rancour to pure love.\\n\\nROMEO.\\nO let us hence; I stand on sudden haste.\\n\\nFRIAR LAWRENCE.\\nWisely and slow; they stumble that run fast.\\n\\n [_Exeunt._]\\n\\nSCENE IV. A Street.\\n\\n Enter Benvolio and Mercutio.\\n\\nMERCUTIO.\\nWhere the devil should this Romeo be? Came he not home tonight?\\n\\nBENVOLIO.\\nNot to his fatherâ€™s; I spoke with his man.\\n\\nMERCUTIO.\\nWhy, that same pale hard-hearted wench, that Rosaline, torments him so\\nthat he will sure run mad.\\n\\nBENVOLIO.\\nTybalt, the kinsman to old Capulet, hath sent a letter to his fatherâ€™s\\nhouse.\\n\\nMERCUTIO.\\nA challenge, on my life.\\n\\nBENVOLIO.\\nRomeo will answer it.\\n\\nMERCUTIO.\\nAny man that can write may answer a letter.\\n\\nBENVOLIO.\\nNay, he will answer the letterâ€™s master, how he dares, being dared.\\n\\nMERCUTIO.\\nAlas poor Romeo, he is already dead, stabbed with a white wenchâ€™s black\\neye; run through the ear with a love song, the very pin of his heart\\ncleft with the blind bow-boyâ€™s butt-shaft. And is he a man to encounter\\nTybalt?\\n\\nBENVOLIO.\\nWhy, what is Tybalt?\\n\\nMERCUTIO.\\nMore than Prince of cats. O, heâ€™s the courageous captain of\\ncompliments. He fights as you sing prick-song, keeps time, distance,\\nand proportion. He rests his minim rest, one, two, and the third in\\nyour bosom: the very butcher of a silk button, a duellist, a duellist;\\na gentleman of the very first house, of the first and second cause. Ah,\\nthe immortal passado, the punto reverso, the hay.\\n\\nBENVOLIO.\\nThe what?\\n\\nMERCUTIO.\\nThe pox of such antic lisping, affecting phantasies; these new tuners\\nof accent. By Jesu, a very good blade, a very tall man, a very good\\nwhore. Why, is not this a lamentable thing, grandsire, that we should\\nbe thus afflicted with these strange flies, these fashion-mongers,\\nthese pardon-meâ€™s, who stand so much on the new form that they cannot\\nsit at ease on the old bench? O their bones, their bones!\\n\\n Enter Romeo.\\n\\nBENVOLIO.\\nHere comes Romeo, here comes Romeo!\\n\\nMERCUTIO.\\nWithout his roe, like a dried herring. O flesh, flesh, how art thou\\nfishified! Now is he for the numbers that Petrarch flowed in. Laura, to\\nhis lady, was but a kitchen wench,â€”marry, she had a better love to\\nberhyme her: Dido a dowdy; Cleopatra a gypsy; Helen and Hero hildings\\nand harlots; Thisbe a grey eye or so, but not to the purpose. Signior\\nRomeo, bonjour! Thereâ€™s a French salutation to your French slop. You\\ngave us the counterfeit fairly last night.\\n\\nROMEO.\\nGood morrow to you both. What counterfeit did I give you?\\n\\nMERCUTIO.\\nThe slip sir, the slip; can you not conceive?\\n\\nROMEO.\\nPardon, good Mercutio, my business was great, and in such a case as\\nmine a man may strain courtesy.\\n\\nMERCUTIO.\\nThatâ€™s as much as to say, such a case as yours constrains a man to bow\\nin the hams.\\n\\nROMEO.\\nMeaning, to curtsy.\\n\\nMERCUTIO.\\nThou hast most kindly hit it.\\n\\nROMEO.\\nA most courteous exposition.\\n\\nMERCUTIO.\\nNay, I am the very pink of courtesy.\\n\\nROMEO.\\nPink for flower.\\n\\nMERCUTIO.\\nRight.\\n\\nROMEO.\\nWhy, then is my pump well flowered.\\n\\nMERCUTIO.\\nSure wit, follow me this jest now, till thou hast worn out thy pump,\\nthat when the single sole of it is worn, the jest may remain after the\\nwearing, solely singular.\\n\\nROMEO.\\nO single-soled jest, solely singular for the singleness!\\n\\nMERCUTIO.\\nCome between us, good Benvolio; my wits faint.\\n\\nROMEO.\\nSwits and spurs, swits and spurs; or Iâ€™ll cry a match.\\n\\nMERCUTIO.\\nNay, if thy wits run the wild-goose chase, I am done. For thou hast\\nmore of the wild-goose in one of thy wits, than I am sure, I have in my\\nwhole five. Was I with you there for the goose?\\n\\nROMEO.\\nThou wast never with me for anything, when thou wast not there for the\\ngoose.\\n\\nMERCUTIO.\\nI will bite thee by the ear for that jest.\\n\\nROMEO.\\nNay, good goose, bite not.\\n\\nMERCUTIO.\\nThy wit is a very bitter sweeting, it is a most sharp sauce.\\n\\nROMEO.\\nAnd is it not then well served in to a sweet goose?\\n\\nMERCUTIO.\\nO hereâ€™s a wit of cheveril, that stretches from an inch narrow to an\\nell broad.\\n\\nROMEO.\\nI stretch it out for that word broad, which added to the goose, proves\\nthee far and wide a broad goose.\\n\\nMERCUTIO.\\nWhy, is not this better now than groaning for love? Now art thou\\nsociable, now art thou Romeo; not art thou what thou art, by art as\\nwell as by nature. For this drivelling love is like a great natural,\\nthat runs lolling up and down to hide his bauble in a hole.\\n\\nBENVOLIO.\\nStop there, stop there.\\n\\nMERCUTIO.\\nThou desirest me to stop in my tale against the hair.\\n\\nBENVOLIO.\\nThou wouldst else have made thy tale large.\\n\\nMERCUTIO.\\nO, thou art deceived; I would have made it short, for I was come to the\\nwhole depth of my tale, and meant indeed to occupy the argument no\\nlonger.\\n\\n Enter Nurse and Peter.\\n\\nROMEO.\\nHereâ€™s goodly gear!\\nA sail, a sail!\\n\\nMERCUTIO.\\nTwo, two; a shirt and a smock.\\n\\nNURSE.\\nPeter!\\n\\nPETER.\\nAnon.\\n\\nNURSE.\\nMy fan, Peter.\\n\\nMERCUTIO.\\nGood Peter, to hide her face; for her fanâ€™s the fairer face.\\n\\nNURSE.\\nGod ye good morrow, gentlemen.\\n\\nMERCUTIO.\\nGod ye good-den, fair gentlewoman.\\n\\nNURSE.\\nIs it good-den?\\n\\nMERCUTIO.\\nâ€™Tis no less, I tell ye; for the bawdy hand of the dial is now upon the\\nprick of noon.\\n\\nNURSE.\\nOut upon you! What a man are you?\\n\\nROMEO.\\nOne, gentlewoman, that God hath made for himself to mar.\\n\\nNURSE.\\nBy my troth, it is well said; for himself to mar, quoth a? Gentlemen,\\ncan any of you tell me where I may find the young Romeo?\\n\\nROMEO.\\nI can tell you: but young Romeo will be older when you have found him\\nthan he was when you sought him. I am the youngest of that name, for\\nfault of a worse.\\n\\nNURSE.\\nYou say well.\\n\\nMERCUTIO.\\nYea, is the worst well? Very well took, iâ€™faith; wisely, wisely.\\n\\nNURSE.\\nIf you be he, sir, I desire some confidence with you.\\n\\nBENVOLIO.\\nShe will endite him to some supper.\\n\\nMERCUTIO.\\nA bawd, a bawd, a bawd! So ho!\\n\\nROMEO.\\nWhat hast thou found?\\n\\nMERCUTIO.\\nNo hare, sir; unless a hare, sir, in a lenten pie, that is something\\nstale and hoar ere it be spent.\\n[_Sings._]\\n    An old hare hoar,\\n    And an old hare hoar,\\n  Is very good meat in Lent;\\n    But a hare that is hoar\\n    Is too much for a score\\n  When it hoars ere it be spent.\\nRomeo, will you come to your fatherâ€™s? Weâ€™ll to dinner thither.\\n\\nROMEO.\\nI will follow you.\\n\\nMERCUTIO.\\nFarewell, ancient lady; farewell, lady, lady, lady.\\n\\n [_Exeunt Mercutio and Benvolio._]\\n\\nNURSE.\\nI pray you, sir, what saucy merchant was this that was so full of his\\nropery?\\n\\nROMEO.\\nA gentleman, Nurse, that loves to hear himself talk, and will speak\\nmore in a minute than he will stand to in a month.\\n\\nNURSE.\\nAnd a speak anything against me, Iâ€™ll take him down, and a were lustier\\nthan he is, and twenty such Jacks. And if I cannot, Iâ€™ll find those\\nthat shall. Scurvy knave! I am none of his flirt-gills; I am none of\\nhis skains-mates.â€”And thou must stand by too and suffer every knave to\\nuse me at his pleasure!\\n\\nPETER.\\nI saw no man use you at his pleasure; if I had, my weapon should\\nquickly have been out. I warrant you, I dare draw as soon as another\\nman, if I see occasion in a good quarrel, and the law on my side.\\n\\nNURSE.\\nNow, afore God, I am so vexed that every part about me quivers. Scurvy\\nknave. Pray you, sir, a word: and as I told you, my young lady bid me\\nenquire you out; what she bade me say, I will keep to myself. But first\\nlet me tell ye, if ye should lead her in a foolâ€™s paradise, as they\\nsay, it were a very gross kind of behaviour, as they say; for the\\ngentlewoman is young. And therefore, if you should deal double with\\nher, truly it were an ill thing to be offered to any gentlewoman, and\\nvery weak dealing.\\n\\nROMEO. Nurse, commend me to thy lady and mistress. I protest unto\\nthee,â€”\\n\\nNURSE.\\nGood heart, and iâ€™faith I will tell her as much. Lord, Lord, she will\\nbe a joyful woman.\\n\\nROMEO.\\nWhat wilt thou tell her, Nurse? Thou dost not mark me.\\n\\nNURSE.\\nI will tell her, sir, that you do protest, which, as I take it, is a\\ngentlemanlike offer.\\n\\nROMEO.\\nBid her devise\\nSome means to come to shrift this afternoon,\\nAnd there she shall at Friar Lawrenceâ€™ cell\\nBe shrivâ€™d and married. Here is for thy pains.\\n\\nNURSE.\\nNo truly, sir; not a penny.\\n\\nROMEO.\\nGo to; I say you shall.\\n\\nNURSE.\\nThis afternoon, sir? Well, she shall be there.\\n\\nROMEO.\\nAnd stay, good Nurse, behind the abbey wall.\\nWithin this hour my man shall be with thee,\\nAnd bring thee cords made like a tackled stair,\\nWhich to the high topgallant of my joy\\nMust be my convoy in the secret night.\\nFarewell, be trusty, and Iâ€™ll quit thy pains;\\nFarewell; commend me to thy mistress.\\n\\nNURSE.\\nNow God in heaven bless thee. Hark you, sir.\\n\\nROMEO.\\nWhat sayâ€™st thou, my dear Nurse?\\n\\nNURSE.\\nIs your man secret? Did you neâ€™er hear say,\\nTwo may keep counsel, putting one away?\\n\\nROMEO.\\nI warrant thee my manâ€™s as true as steel.\\n\\nNURSE.\\nWell, sir, my mistress is the sweetest lady. Lord, Lord! When â€™twas a\\nlittle prating thing,â€”O, there is a nobleman in town, one Paris, that\\nwould fain lay knife aboard; but she, good soul, had as lief see a\\ntoad, a very toad, as see him. I anger her sometimes, and tell her that\\nParis is the properer man, but Iâ€™ll warrant you, when I say so, she\\nlooks as pale as any clout in the versal world. Doth not rosemary and\\nRomeo begin both with a letter?\\n\\nROMEO.\\nAy, Nurse; what of that? Both with an R.\\n\\nNURSE.\\nAh, mocker! Thatâ€™s the dogâ€™s name. R is for theâ€”no, I know it begins\\nwith some other letter, and she hath the prettiest sententious of it,\\nof you and rosemary, that it would do you good to hear it.\\n\\nROMEO.\\nCommend me to thy lady.\\n\\nNURSE.\\nAy, a thousand times. Peter!\\n\\n [_Exit Romeo._]\\n\\nPETER.\\nAnon.\\n\\nNURSE.\\nBefore and apace.\\n\\n [_Exeunt._]\\n\\nSCENE V. Capuletâ€™s Garden.\\n\\n Enter Juliet.\\n\\nJULIET.\\nThe clock struck nine when I did send the Nurse,\\nIn half an hour she promised to return.\\nPerchance she cannot meet him. Thatâ€™s not so.\\nO, she is lame. Loveâ€™s heralds should be thoughts,\\nWhich ten times faster glides than the sunâ€™s beams,\\nDriving back shadows over lowering hills:\\nTherefore do nimble-pinionâ€™d doves draw love,\\nAnd therefore hath the wind-swift Cupid wings.\\nNow is the sun upon the highmost hill\\nOf this dayâ€™s journey, and from nine till twelve\\nIs three long hours, yet she is not come.\\nHad she affections and warm youthful blood,\\nSheâ€™d be as swift in motion as a ball;\\nMy words would bandy her to my sweet love,\\nAnd his to me.\\nBut old folks, many feign as they were dead;\\nUnwieldy, slow, heavy and pale as lead.\\n\\n Enter Nurse and Peter.\\n\\nO God, she comes. O honey Nurse, what news?\\nHast thou met with him? Send thy man away.\\n\\nNURSE.\\nPeter, stay at the gate.\\n\\n [_Exit Peter._]\\n\\nJULIET.\\nNow, good sweet Nurse,â€”O Lord, why lookâ€™st thou sad?\\nThough news be sad, yet tell them merrily;\\nIf good, thou shamâ€™st the music of sweet news\\nBy playing it to me with so sour a face.\\n\\nNURSE.\\nI am aweary, give me leave awhile;\\nFie, how my bones ache! What a jaunt have I had!\\n\\nJULIET.\\nI would thou hadst my bones, and I thy news:\\nNay come, I pray thee speak; good, good Nurse, speak.\\n\\nNURSE.\\nJesu, what haste? Can you not stay a while? Do you not see that I am\\nout of breath?\\n\\nJULIET.\\nHow art thou out of breath, when thou hast breath\\nTo say to me that thou art out of breath?\\nThe excuse that thou dost make in this delay\\nIs longer than the tale thou dost excuse.\\nIs thy news good or bad? Answer to that;\\nSay either, and Iâ€™ll stay the circumstance.\\nLet me be satisfied, isâ€™t good or bad?\\n\\nNURSE.\\nWell, you have made a simple choice; you know not how to choose a man.\\nRomeo? No, not he. Though his face be better than any manâ€™s, yet his\\nleg excels all menâ€™s, and for a hand and a foot, and a body, though\\nthey be not to be talked on, yet they are past compare. He is not the\\nflower of courtesy, but Iâ€™ll warrant him as gentle as a lamb. Go thy\\nways, wench, serve God. What, have you dined at home?\\n\\nJULIET.\\nNo, no. But all this did I know before.\\nWhat says he of our marriage? What of that?\\n\\nNURSE.\\nLord, how my head aches! What a head have I!\\nIt beats as it would fall in twenty pieces.\\nMy back oâ€™ tâ€™other side,â€”O my back, my back!\\nBeshrew your heart for sending me about\\nTo catch my death with jauncing up and down.\\n\\nJULIET.\\nIâ€™faith, I am sorry that thou art not well.\\nSweet, sweet, sweet Nurse, tell me, what says my love?\\n\\nNURSE.\\nYour love says like an honest gentleman,\\nAnd a courteous, and a kind, and a handsome,\\nAnd I warrant a virtuous,â€”Where is your mother?\\n\\nJULIET.\\nWhere is my mother? Why, she is within.\\nWhere should she be? How oddly thou repliest.\\nâ€˜Your love says, like an honest gentleman,\\nâ€˜Where is your mother?â€™\\n\\nNURSE.\\nO Godâ€™s lady dear,\\nAre you so hot? Marry, come up, I trow.\\nIs this the poultice for my aching bones?\\nHenceforward do your messages yourself.\\n\\nJULIET.\\nHereâ€™s such a coil. Come, what says Romeo?\\n\\nNURSE.\\nHave you got leave to go to shrift today?\\n\\nJULIET.\\nI have.\\n\\nNURSE.\\nThen hie you hence to Friar Lawrenceâ€™ cell;\\nThere stays a husband to make you a wife.\\nNow comes the wanton blood up in your cheeks,\\nTheyâ€™ll be in scarlet straight at any news.\\nHie you to church. I must another way,\\nTo fetch a ladder by the which your love\\nMust climb a birdâ€™s nest soon when it is dark.\\nI am the drudge, and toil in your delight;\\nBut you shall bear the burden soon at night.\\nGo. Iâ€™ll to dinner; hie you to the cell.\\n\\nJULIET.\\nHie to high fortune! Honest Nurse, farewell.\\n\\n [_Exeunt._]\\n\\nSCENE VI. Friar Lawrenceâ€™s Cell.\\n\\n Enter Friar Lawrence and Romeo.\\n\\nFRIAR LAWRENCE.\\nSo smile the heavens upon this holy act\\nThat after-hours with sorrow chide us not.\\n\\nROMEO.\\nAmen, amen, but come what sorrow can,\\nIt cannot countervail the exchange of joy\\nThat one short minute gives me in her sight.\\nDo thou but close our hands with holy words,\\nThen love-devouring death do what he dare,\\nIt is enough I may but call her mine.\\n\\nFRIAR LAWRENCE.\\nThese violent delights have violent ends,\\nAnd in their triumph die; like fire and powder,\\nWhich as they kiss consume. The sweetest honey\\nIs loathsome in his own deliciousness,\\nAnd in the taste confounds the appetite.\\nTherefore love moderately: long love doth so;\\nToo swift arrives as tardy as too slow.\\n\\n Enter Juliet.\\n\\nHere comes the lady. O, so light a foot\\nWill neâ€™er wear out the everlasting flint.\\nA lover may bestride the gossamers\\nThat idles in the wanton summer air\\nAnd yet not fall; so light is vanity.\\n\\nJULIET.\\nGood even to my ghostly confessor.\\n\\nFRIAR LAWRENCE.\\nRomeo shall thank thee, daughter, for us both.\\n\\nJULIET.\\nAs much to him, else is his thanks too much.\\n\\nROMEO.\\nAh, Juliet, if the measure of thy joy\\nBe heapâ€™d like mine, and that thy skill be more\\nTo blazon it, then sweeten with thy breath\\nThis neighbour air, and let rich musicâ€™s tongue\\nUnfold the imaginâ€™d happiness that both\\nReceive in either by this dear encounter.\\n\\nJULIET.\\nConceit more rich in matter than in words,\\nBrags of his substance, not of ornament.\\nThey are but beggars that can count their worth;\\nBut my true love is grown to such excess,\\nI cannot sum up sum of half my wealth.\\n\\nFRIAR LAWRENCE.\\nCome, come with me, and we will make short work,\\nFor, by your leaves, you shall not stay alone\\nTill holy church incorporate two in one.\\n\\n [_Exeunt._]\\n\\n\\n\\nACT III\\n\\nSCENE I. A public Place.\\n\\n Enter Mercutio, Benvolio, Page and Servants.\\n\\nBENVOLIO.\\nI pray thee, good Mercutio, letâ€™s retire:\\nThe day is hot, the Capulets abroad,\\nAnd if we meet, we shall not scape a brawl,\\nFor now these hot days, is the mad blood stirring.\\n\\nMERCUTIO.\\nThou art like one of these fellows that, when he enters the confines of\\na tavern, claps me his sword upon the table, and says â€˜God send me no\\nneed of thee!â€™ and by the operation of the second cup draws him on the\\ndrawer, when indeed there is no need.\\n\\nBENVOLIO.\\nAm I like such a fellow?\\n\\nMERCUTIO.\\nCome, come, thou art as hot a Jack in thy mood as any in Italy; and as\\nsoon moved to be moody, and as soon moody to be moved.\\n\\nBENVOLIO.\\nAnd what to?\\n\\nMERCUTIO.\\nNay, an there were two such, we should have none shortly, for one would\\nkill the other. Thou? Why, thou wilt quarrel with a man that hath a\\nhair more or a hair less in his beard than thou hast. Thou wilt quarrel\\nwith a man for cracking nuts, having no other reason but because thou\\nhast hazel eyes. What eye but such an eye would spy out such a quarrel?\\nThy head is as full of quarrels as an egg is full of meat, and yet thy\\nhead hath been beaten as addle as an egg for quarrelling. Thou hast\\nquarrelled with a man for coughing in the street, because he hath\\nwakened thy dog that hath lain asleep in the sun. Didst thou not fall\\nout with a tailor for wearing his new doublet before Easter? with\\nanother for tying his new shoes with an old riband? And yet thou wilt\\ntutor me from quarrelling!\\n\\nBENVOLIO.\\nAnd I were so apt to quarrel as thou art, any man should buy the fee\\nsimple of my life for an hour and a quarter.\\n\\nMERCUTIO.\\nThe fee simple! O simple!\\n\\n Enter Tybalt and others.\\n\\nBENVOLIO.\\nBy my head, here comes the Capulets.\\n\\nMERCUTIO.\\nBy my heel, I care not.\\n\\nTYBALT.\\nFollow me close, for I will speak to them.\\nGentlemen, good-den: a word with one of you.\\n\\nMERCUTIO.\\nAnd but one word with one of us? Couple it with something; make it a\\nword and a blow.\\n\\nTYBALT.\\nYou shall find me apt enough to that, sir, and you will give me\\noccasion.\\n\\nMERCUTIO.\\nCould you not take some occasion without giving?\\n\\nTYBALT.\\nMercutio, thou consortest with Romeo.\\n\\nMERCUTIO.\\nConsort? What, dost thou make us minstrels? And thou make minstrels of\\nus, look to hear nothing but discords. Hereâ€™s my fiddlestick, hereâ€™s\\nthat shall make you dance. Zounds, consort!\\n\\nBENVOLIO.\\nWe talk here in the public haunt of men.\\nEither withdraw unto some private place,\\nAnd reason coldly of your grievances,\\nOr else depart; here all eyes gaze on us.\\n\\nMERCUTIO.\\nMenâ€™s eyes were made to look, and let them gaze.\\nI will not budge for no manâ€™s pleasure, I.\\n\\n Enter Romeo.\\n\\nTYBALT.\\nWell, peace be with you, sir, here comes my man.\\n\\nMERCUTIO.\\nBut Iâ€™ll be hanged, sir, if he wear your livery.\\nMarry, go before to field, heâ€™ll be your follower;\\nYour worship in that sense may call him man.\\n\\nTYBALT.\\nRomeo, the love I bear thee can afford\\nNo better term than this: Thou art a villain.\\n\\nROMEO.\\nTybalt, the reason that I have to love thee\\nDoth much excuse the appertaining rage\\nTo such a greeting. Villain am I none;\\nTherefore farewell; I see thou knowâ€™st me not.\\n\\nTYBALT.\\nBoy, this shall not excuse the injuries\\nThat thou hast done me, therefore turn and draw.\\n\\nROMEO.\\nI do protest I never injurâ€™d thee,\\nBut love thee better than thou canst devise\\nTill thou shalt know the reason of my love.\\nAnd so good Capulet, which name I tender\\nAs dearly as mine own, be satisfied.\\n\\nMERCUTIO.\\nO calm, dishonourable, vile submission!\\n[_Draws._] Alla stoccata carries it away.\\nTybalt, you rat-catcher, will you walk?\\n\\nTYBALT.\\nWhat wouldst thou have with me?\\n\\nMERCUTIO.\\nGood King of Cats, nothing but one of your nine lives; that I mean to\\nmake bold withal, and, as you shall use me hereafter, dry-beat the rest\\nof the eight. Will you pluck your sword out of his pilcher by the ears?\\nMake haste, lest mine be about your ears ere it be out.\\n\\nTYBALT.\\n[_Drawing._] I am for you.\\n\\nROMEO.\\nGentle Mercutio, put thy rapier up.\\n\\nMERCUTIO.\\nCome, sir, your passado.\\n\\n [_They fight._]\\n\\nROMEO.\\nDraw, Benvolio; beat down their weapons.\\nGentlemen, for shame, forbear this outrage,\\nTybalt, Mercutio, the Prince expressly hath\\nForbid this bandying in Verona streets.\\nHold, Tybalt! Good Mercutio!\\n\\n [_Exeunt Tybalt with his Partizans._]\\n\\nMERCUTIO.\\nI am hurt.\\nA plague oâ€™ both your houses. I am sped.\\nIs he gone, and hath nothing?\\n\\nBENVOLIO.\\nWhat, art thou hurt?\\n\\nMERCUTIO.\\nAy, ay, a scratch, a scratch. Marry, â€™tis enough.\\nWhere is my page? Go villain, fetch a surgeon.\\n\\n [_Exit Page._]\\n\\nROMEO.\\nCourage, man; the hurt cannot be much.\\n\\nMERCUTIO.\\nNo, â€™tis not so deep as a well, nor so wide as a church door, but â€™tis\\nenough, â€™twill serve. Ask for me tomorrow, and you shall find me a\\ngrave man. I am peppered, I warrant, for this world. A plague oâ€™ both\\nyour houses. Zounds, a dog, a rat, a mouse, a cat, to scratch a man to\\ndeath. A braggart, a rogue, a villain, that fights by the book of\\narithmetic!â€”Why the devil came you between us? I was hurt under your\\narm.\\n\\nROMEO.\\nI thought all for the best.\\n\\nMERCUTIO.\\nHelp me into some house, Benvolio,\\nOr I shall faint. A plague oâ€™ both your houses.\\nThey have made wormsâ€™ meat of me.\\nI have it, and soundly too. Your houses!\\n\\n [_Exeunt Mercutio and Benvolio._]\\n\\nROMEO.\\nThis gentleman, the Princeâ€™s near ally,\\nMy very friend, hath got his mortal hurt\\nIn my behalf; my reputation stainâ€™d\\nWith Tybaltâ€™s slander,â€”Tybalt, that an hour\\nHath been my cousin. O sweet Juliet,\\nThy beauty hath made me effeminate\\nAnd in my temper softenâ€™d valourâ€™s steel.\\n\\n Re-enter Benvolio.\\n\\nBENVOLIO.\\nO Romeo, Romeo, brave Mercutioâ€™s dead,\\nThat gallant spirit hath aspirâ€™d the clouds,\\nWhich too untimely here did scorn the earth.\\n\\nROMEO.\\nThis dayâ€™s black fate on mo days doth depend;\\nThis but begins the woe others must end.\\n\\n Re-enter Tybalt.\\n\\nBENVOLIO.\\nHere comes the furious Tybalt back again.\\n\\nROMEO.\\nAgain in triumph, and Mercutio slain?\\nAway to heaven respective lenity,\\nAnd fire-eyâ€™d fury be my conduct now!\\nNow, Tybalt, take the â€˜villainâ€™ back again\\nThat late thou gavâ€™st me, for Mercutioâ€™s soul\\nIs but a little way above our heads,\\nStaying for thine to keep him company.\\nEither thou or I, or both, must go with him.\\n\\nTYBALT.\\nThou wretched boy, that didst consort him here,\\nShalt with him hence.\\n\\nROMEO.\\nThis shall determine that.\\n\\n [_They fight; Tybalt falls._]\\n\\nBENVOLIO.\\nRomeo, away, be gone!\\nThe citizens are up, and Tybalt slain.\\nStand not amazâ€™d. The Prince will doom thee death\\nIf thou art taken. Hence, be gone, away!\\n\\nROMEO.\\nO, I am fortuneâ€™s fool!\\n\\nBENVOLIO.\\nWhy dost thou stay?\\n\\n [_Exit Romeo._]\\n\\n Enter Citizens.\\n\\nFIRST CITIZEN.\\nWhich way ran he that killâ€™d Mercutio?\\nTybalt, that murderer, which way ran he?\\n\\nBENVOLIO.\\nThere lies that Tybalt.\\n\\nFIRST CITIZEN.\\nUp, sir, go with me.\\nI charge thee in the Princeâ€™s name obey.\\n\\n Enter Prince, attended; Montague, Capulet, their Wives and others.\\n\\nPRINCE.\\nWhere are the vile beginners of this fray?\\n\\nBENVOLIO.\\nO noble Prince, I can discover all\\nThe unlucky manage of this fatal brawl.\\nThere lies the man, slain by young Romeo,\\nThat slew thy kinsman, brave Mercutio.\\n\\nLADY CAPULET.\\nTybalt, my cousin! O my brotherâ€™s child!\\nO Prince! O husband! O, the blood is spillâ€™d\\nOf my dear kinsman! Prince, as thou art true,\\nFor blood of ours shed blood of Montague.\\nO cousin, cousin.\\n\\nPRINCE.\\nBenvolio, who began this bloody fray?\\n\\nBENVOLIO.\\nTybalt, here slain, whom Romeoâ€™s hand did slay;\\nRomeo, that spoke him fair, bid him bethink\\nHow nice the quarrel was, and urgâ€™d withal\\nYour high displeasure. All this uttered\\nWith gentle breath, calm look, knees humbly bowâ€™d\\nCould not take truce with the unruly spleen\\nOf Tybalt, deaf to peace, but that he tilts\\nWith piercing steel at bold Mercutioâ€™s breast,\\nWho, all as hot, turns deadly point to point,\\nAnd, with a martial scorn, with one hand beats\\nCold death aside, and with the other sends\\nIt back to Tybalt, whose dexterity\\nRetorts it. Romeo he cries aloud,\\nâ€˜Hold, friends! Friends, part!â€™ and swifter than his tongue,\\nHis agile arm beats down their fatal points,\\nAnd â€™twixt them rushes; underneath whose arm\\nAn envious thrust from Tybalt hit the life\\nOf stout Mercutio, and then Tybalt fled.\\nBut by and by comes back to Romeo,\\nWho had but newly entertainâ€™d revenge,\\nAnd toâ€™t they go like lightning; for, ere I\\nCould draw to part them was stout Tybalt slain;\\nAnd as he fell did Romeo turn and fly.\\nThis is the truth, or let Benvolio die.\\n\\nLADY CAPULET.\\nHe is a kinsman to the Montague.\\nAffection makes him false, he speaks not true.\\nSome twenty of them fought in this black strife,\\nAnd all those twenty could but kill one life.\\nI beg for justice, which thou, Prince, must give;\\nRomeo slew Tybalt, Romeo must not live.\\n\\nPRINCE.\\nRomeo slew him, he slew Mercutio.\\nWho now the price of his dear blood doth owe?\\n\\nMONTAGUE.\\nNot Romeo, Prince, he was Mercutioâ€™s friend;\\nHis fault concludes but what the law should end,\\nThe life of Tybalt.\\n\\nPRINCE.\\nAnd for that offence\\nImmediately we do exile him hence.\\nI have an interest in your hateâ€™s proceeding,\\nMy blood for your rude brawls doth lie a-bleeding.\\nBut Iâ€™ll amerce you with so strong a fine\\nThat you shall all repent the loss of mine.\\nI will be deaf to pleading and excuses;\\nNor tears nor prayers shall purchase out abuses.\\nTherefore use none. Let Romeo hence in haste,\\nElse, when he is found, that hour is his last.\\nBear hence this body, and attend our will.\\nMercy but murders, pardoning those that kill.\\n\\n [_Exeunt._]\\n\\nSCENE II. A Room in Capuletâ€™s House.\\n\\n Enter Juliet.\\n\\nJULIET.\\nGallop apace, you fiery-footed steeds,\\nTowards Phoebusâ€™ lodging. Such a waggoner\\nAs Phaeton would whip you to the west\\nAnd bring in cloudy night immediately.\\nSpread thy close curtain, love-performing night,\\nThat runawayâ€™s eyes may wink, and Romeo\\nLeap to these arms, untalkâ€™d of and unseen.\\nLovers can see to do their amorous rites\\nBy their own beauties: or, if love be blind,\\nIt best agrees with night. Come, civil night,\\nThou sober-suited matron, all in black,\\nAnd learn me how to lose a winning match,\\nPlayâ€™d for a pair of stainless maidenhoods.\\nHood my unmannâ€™d blood, bating in my cheeks,\\nWith thy black mantle, till strange love, grow bold,\\nThink true love acted simple modesty.\\nCome, night, come Romeo; come, thou day in night;\\nFor thou wilt lie upon the wings of night\\nWhiter than new snow upon a ravenâ€™s back.\\nCome gentle night, come loving black-browâ€™d night,\\nGive me my Romeo, and when I shall die,\\nTake him and cut him out in little stars,\\nAnd he will make the face of heaven so fine\\nThat all the world will be in love with night,\\nAnd pay no worship to the garish sun.\\nO, I have bought the mansion of a love,\\nBut not possessâ€™d it; and though I am sold,\\nNot yet enjoyâ€™d. So tedious is this day\\nAs is the night before some festival\\nTo an impatient child that hath new robes\\nAnd may not wear them. O, here comes my Nurse,\\nAnd she brings news, and every tongue that speaks\\nBut Romeoâ€™s name speaks heavenly eloquence.\\n\\n Enter Nurse, with cords.\\n\\nNow, Nurse, what news? What hast thou there?\\nThe cords that Romeo bid thee fetch?\\n\\nNURSE.\\nAy, ay, the cords.\\n\\n [_Throws them down._]\\n\\nJULIET.\\nAy me, what news? Why dost thou wring thy hands?\\n\\nNURSE.\\nAh, well-a-day, heâ€™s dead, heâ€™s dead, heâ€™s dead!\\nWe are undone, lady, we are undone.\\nAlack the day, heâ€™s gone, heâ€™s killâ€™d, heâ€™s dead.\\n\\nJULIET.\\nCan heaven be so envious?\\n\\nNURSE.\\nRomeo can,\\nThough heaven cannot. O Romeo, Romeo.\\nWho ever would have thought it? Romeo!\\n\\nJULIET.\\nWhat devil art thou, that dost torment me thus?\\nThis torture should be roarâ€™d in dismal hell.\\nHath Romeo slain himself? Say thou but Ay,\\nAnd that bare vowel I shall poison more\\nThan the death-darting eye of cockatrice.\\nI am not I if there be such an I;\\nOr those eyes shut that make thee answer Ay.\\nIf he be slain, say Ay; or if not, No.\\nBrief sounds determine of my weal or woe.\\n\\nNURSE.\\nI saw the wound, I saw it with mine eyes,\\nGod save the mark!â€”here on his manly breast.\\nA piteous corse, a bloody piteous corse;\\nPale, pale as ashes, all bedaubâ€™d in blood,\\nAll in gore-blood. I swounded at the sight.\\n\\nJULIET.\\nO, break, my heart. Poor bankrout, break at once.\\nTo prison, eyes; neâ€™er look on liberty.\\nVile earth to earth resign; end motion here,\\nAnd thou and Romeo press one heavy bier.\\n\\nNURSE.\\nO Tybalt, Tybalt, the best friend I had.\\nO courteous Tybalt, honest gentleman!\\nThat ever I should live to see thee dead.\\n\\nJULIET.\\nWhat storm is this that blows so contrary?\\nIs Romeo slaughterâ€™d and is Tybalt dead?\\nMy dearest cousin, and my dearer lord?\\nThen dreadful trumpet sound the general doom,\\nFor who is living, if those two are gone?\\n\\nNURSE.\\nTybalt is gone, and Romeo banished,\\nRomeo that killâ€™d him, he is banished.\\n\\nJULIET.\\nO God! Did Romeoâ€™s hand shed Tybaltâ€™s blood?\\n\\nNURSE.\\nIt did, it did; alas the day, it did.\\n\\nJULIET.\\nO serpent heart, hid with a flowering face!\\nDid ever dragon keep so fair a cave?\\nBeautiful tyrant, fiend angelical,\\nDove-featherâ€™d raven, wolvish-ravening lamb!\\nDespised substance of divinest show!\\nJust opposite to what thou justly seemâ€™st,\\nA damned saint, an honourable villain!\\nO nature, what hadst thou to do in hell\\nWhen thou didst bower the spirit of a fiend\\nIn mortal paradise of such sweet flesh?\\nWas ever book containing such vile matter\\nSo fairly bound? O, that deceit should dwell\\nIn such a gorgeous palace.\\n\\nNURSE.\\nThereâ€™s no trust,\\nNo faith, no honesty in men. All perjurâ€™d,\\nAll forsworn, all naught, all dissemblers.\\nAh, whereâ€™s my man? Give me some aqua vitae.\\nThese griefs, these woes, these sorrows make me old.\\nShame come to Romeo.\\n\\nJULIET.\\nBlisterâ€™d be thy tongue\\nFor such a wish! He was not born to shame.\\nUpon his brow shame is ashamâ€™d to sit;\\nFor â€™tis a throne where honour may be crownâ€™d\\nSole monarch of the universal earth.\\nO, what a beast was I to chide at him!\\n\\nNURSE.\\nWill you speak well of him that killâ€™d your cousin?\\n\\nJULIET.\\nShall I speak ill of him that is my husband?\\nAh, poor my lord, what tongue shall smooth thy name,\\nWhen I thy three-hoursâ€™ wife have mangled it?\\nBut wherefore, villain, didst thou kill my cousin?\\nThat villain cousin would have killâ€™d my husband.\\nBack, foolish tears, back to your native spring,\\nYour tributary drops belong to woe,\\nWhich you mistaking offer up to joy.\\nMy husband lives, that Tybalt would have slain,\\nAnd Tybaltâ€™s dead, that would have slain my husband.\\nAll this is comfort; wherefore weep I then?\\nSome word there was, worser than Tybaltâ€™s death,\\nThat murderâ€™d me. I would forget it fain,\\nBut O, it presses to my memory\\nLike damned guilty deeds to sinnersâ€™ minds.\\nTybalt is dead, and Romeo banished.\\nThat â€˜banished,â€™ that one word â€˜banished,â€™\\nHath slain ten thousand Tybalts. Tybaltâ€™s death\\nWas woe enough, if it had ended there.\\nOr if sour woe delights in fellowship,\\nAnd needly will be rankâ€™d with other griefs,\\nWhy followâ€™d not, when she said Tybaltâ€™s dead,\\nThy father or thy mother, nay or both,\\nWhich modern lamentation might have movâ€™d?\\nBut with a rear-ward following Tybaltâ€™s death,\\nâ€˜Romeo is banishedâ€™â€”to speak that word\\nIs father, mother, Tybalt, Romeo, Juliet,\\nAll slain, all dead. Romeo is banished,\\nThere is no end, no limit, measure, bound,\\nIn that wordâ€™s death, no words can that woe sound.\\nWhere is my father and my mother, Nurse?\\n\\nNURSE.\\nWeeping and wailing over Tybaltâ€™s corse.\\nWill you go to them? I will bring you thither.\\n\\nJULIET.\\nWash they his wounds with tears. Mine shall be spent,\\nWhen theirs are dry, for Romeoâ€™s banishment.\\nTake up those cords. Poor ropes, you are beguilâ€™d,\\nBoth you and I; for Romeo is exilâ€™d.\\nHe made you for a highway to my bed,\\nBut I, a maid, die maiden-widowed.\\nCome cords, come Nurse, Iâ€™ll to my wedding bed,\\nAnd death, not Romeo, take my maidenhead.\\n\\nNURSE.\\nHie to your chamber. Iâ€™ll find Romeo\\nTo comfort you. I wot well where he is.\\nHark ye, your Romeo will be here at night.\\nIâ€™ll to him, he is hid at Lawrenceâ€™ cell.\\n\\nJULIET.\\nO find him, give this ring to my true knight,\\nAnd bid him come to take his last farewell.\\n\\n [_Exeunt._]\\n\\nSCENE III. Friar Lawrenceâ€™s cell.\\n\\n Enter Friar Lawrence.\\n\\nFRIAR LAWRENCE.\\nRomeo, come forth; come forth, thou fearful man.\\nAffliction is enanmourâ€™d of thy parts\\nAnd thou art wedded to calamity.\\n\\n Enter Romeo.\\n\\nROMEO.\\nFather, what news? What is the Princeâ€™s doom?\\nWhat sorrow craves acquaintance at my hand,\\nThat I yet know not?\\n\\nFRIAR LAWRENCE.\\nToo familiar\\nIs my dear son with such sour company.\\nI bring thee tidings of the Princeâ€™s doom.\\n\\nROMEO.\\nWhat less than doomsday is the Princeâ€™s doom?\\n\\nFRIAR LAWRENCE.\\nA gentler judgment vanishâ€™d from his lips,\\nNot bodyâ€™s death, but bodyâ€™s banishment.\\n\\nROMEO.\\nHa, banishment? Be merciful, say death;\\nFor exile hath more terror in his look,\\nMuch more than death. Do not say banishment.\\n\\nFRIAR LAWRENCE.\\nHence from Verona art thou banished.\\nBe patient, for the world is broad and wide.\\n\\nROMEO.\\nThere is no world without Verona walls,\\nBut purgatory, torture, hell itself.\\nHence banished is banishâ€™d from the world,\\nAnd worldâ€™s exile is death. Then banished\\nIs death mistermâ€™d. Calling death banished,\\nThou cuttâ€™st my head off with a golden axe,\\nAnd smilest upon the stroke that murders me.\\n\\nFRIAR LAWRENCE.\\nO deadly sin, O rude unthankfulness!\\nThy fault our law calls death, but the kind Prince,\\nTaking thy part, hath brushâ€™d aside the law,\\nAnd turnâ€™d that black word death to banishment.\\nThis is dear mercy, and thou seeâ€™st it not.\\n\\nROMEO.\\nâ€™Tis torture, and not mercy. Heaven is here\\nWhere Juliet lives, and every cat and dog,\\nAnd little mouse, every unworthy thing,\\nLive here in heaven and may look on her,\\nBut Romeo may not. More validity,\\nMore honourable state, more courtship lives\\nIn carrion flies than Romeo. They may seize\\nOn the white wonder of dear Julietâ€™s hand,\\nAnd steal immortal blessing from her lips,\\nWho, even in pure and vestal modesty\\nStill blush, as thinking their own kisses sin.\\nBut Romeo may not, he is banished.\\nThis may flies do, when I from this must fly.\\nThey are free men but I am banished.\\nAnd sayâ€™st thou yet that exile is not death?\\nHadst thou no poison mixâ€™d, no sharp-ground knife,\\nNo sudden mean of death, though neâ€™er so mean,\\nBut banished to kill me? Banished?\\nO Friar, the damned use that word in hell.\\nHowlings attends it. How hast thou the heart,\\nBeing a divine, a ghostly confessor,\\nA sin-absolver, and my friend professâ€™d,\\nTo mangle me with that word banished?\\n\\nFRIAR LAWRENCE.\\nThou fond mad man, hear me speak a little,\\n\\nROMEO.\\nO, thou wilt speak again of banishment.\\n\\nFRIAR LAWRENCE.\\nIâ€™ll give thee armour to keep off that word,\\nAdversityâ€™s sweet milk, philosophy,\\nTo comfort thee, though thou art banished.\\n\\nROMEO.\\nYet banished? Hang up philosophy.\\nUnless philosophy can make a Juliet,\\nDisplant a town, reverse a Princeâ€™s doom,\\nIt helps not, it prevails not, talk no more.\\n\\nFRIAR LAWRENCE.\\nO, then I see that mad men have no ears.\\n\\nROMEO.\\nHow should they, when that wise men have no eyes?\\n\\nFRIAR LAWRENCE.\\nLet me dispute with thee of thy estate.\\n\\nROMEO.\\nThou canst not speak of that thou dost not feel.\\nWert thou as young as I, Juliet thy love,\\nAn hour but married, Tybalt murdered,\\nDoting like me, and like me banished,\\nThen mightst thou speak, then mightst thou tear thy hair,\\nAnd fall upon the ground as I do now,\\nTaking the measure of an unmade grave.\\n\\n [_Knocking within._]\\n\\nFRIAR LAWRENCE.\\nArise; one knocks. Good Romeo, hide thyself.\\n\\nROMEO.\\nNot I, unless the breath of heartsick groans\\nMist-like infold me from the search of eyes.\\n\\n [_Knocking._]\\n\\nFRIAR LAWRENCE.\\nHark, how they knock!â€”Whoâ€™s there?â€”Romeo, arise,\\nThou wilt be taken.â€”Stay awhile.â€”Stand up.\\n\\n [_Knocking._]\\n\\nRun to my study.â€”By-and-by.â€”Godâ€™s will,\\nWhat simpleness is this.â€”I come, I come.\\n\\n [_Knocking._]\\n\\nWho knocks so hard? Whence come you, whatâ€™s your will?\\n\\nNURSE.\\n[_Within._] Let me come in, and you shall know my errand.\\nI come from Lady Juliet.\\n\\nFRIAR LAWRENCE.\\nWelcome then.\\n\\n Enter Nurse.\\n\\nNURSE.\\nO holy Friar, O, tell me, holy Friar,\\nWhere is my ladyâ€™s lord, whereâ€™s Romeo?\\n\\nFRIAR LAWRENCE.\\nThere on the ground, with his own tears made drunk.\\n\\nNURSE.\\nO, he is even in my mistressâ€™ case.\\nJust in her case! O woeful sympathy!\\nPiteous predicament. Even so lies she,\\nBlubbering and weeping, weeping and blubbering.\\nStand up, stand up; stand, and you be a man.\\nFor Julietâ€™s sake, for her sake, rise and stand.\\nWhy should you fall into so deep an O?\\n\\nROMEO.\\nNurse.\\n\\nNURSE.\\nAh sir, ah sir, deathâ€™s the end of all.\\n\\nROMEO.\\nSpakest thou of Juliet? How is it with her?\\nDoth not she think me an old murderer,\\nNow I have stainâ€™d the childhood of our joy\\nWith blood removâ€™d but little from her own?\\nWhere is she? And how doth she? And what says\\nMy concealâ€™d lady to our cancellâ€™d love?\\n\\nNURSE.\\nO, she says nothing, sir, but weeps and weeps;\\nAnd now falls on her bed, and then starts up,\\nAnd Tybalt calls, and then on Romeo cries,\\nAnd then down falls again.\\n\\nROMEO.\\nAs if that name,\\nShot from the deadly level of a gun,\\nDid murder her, as that nameâ€™s cursed hand\\nMurderâ€™d her kinsman. O, tell me, Friar, tell me,\\nIn what vile part of this anatomy\\nDoth my name lodge? Tell me, that I may sack\\nThe hateful mansion.\\n\\n [_Drawing his sword._]\\n\\nFRIAR LAWRENCE.\\nHold thy desperate hand.\\nArt thou a man? Thy form cries out thou art.\\nThy tears are womanish, thy wild acts denote\\nThe unreasonable fury of a beast.\\nUnseemly woman in a seeming man,\\nAnd ill-beseeming beast in seeming both!\\nThou hast amazâ€™d me. By my holy order,\\nI thought thy disposition better temperâ€™d.\\nHast thou slain Tybalt? Wilt thou slay thyself?\\nAnd slay thy lady, that in thy life lives,\\nBy doing damned hate upon thyself?\\nWhy railâ€™st thou on thy birth, the heaven and earth?\\nSince birth, and heaven and earth, all three do meet\\nIn thee at once; which thou at once wouldst lose.\\nFie, fie, thou shamâ€™st thy shape, thy love, thy wit,\\nWhich, like a usurer, aboundâ€™st in all,\\nAnd usest none in that true use indeed\\nWhich should bedeck thy shape, thy love, thy wit.\\nThy noble shape is but a form of wax,\\nDigressing from the valour of a man;\\nThy dear love sworn but hollow perjury,\\nKilling that love which thou hast vowâ€™d to cherish;\\nThy wit, that ornament to shape and love,\\nMisshapen in the conduct of them both,\\nLike powder in a skilless soldierâ€™s flask,\\nIs set afire by thine own ignorance,\\nAnd thou dismemberâ€™d with thine own defence.\\nWhat, rouse thee, man. Thy Juliet is alive,\\nFor whose dear sake thou wast but lately dead.\\nThere art thou happy. Tybalt would kill thee,\\nBut thou slewâ€™st Tybalt; there art thou happy.\\nThe law that threatenâ€™d death becomes thy friend,\\nAnd turns it to exile; there art thou happy.\\nA pack of blessings light upon thy back;\\nHappiness courts thee in her best array;\\nBut like a misshaped and sullen wench,\\nThou puttâ€™st up thy Fortune and thy love.\\nTake heed, take heed, for such die miserable.\\nGo, get thee to thy love as was decreed,\\nAscend her chamber, hence and comfort her.\\nBut look thou stay not till the watch be set,\\nFor then thou canst not pass to Mantua;\\nWhere thou shalt live till we can find a time\\nTo blaze your marriage, reconcile your friends,\\nBeg pardon of the Prince, and call thee back\\nWith twenty hundred thousand times more joy\\nThan thou wentâ€™st forth in lamentation.\\nGo before, Nurse. Commend me to thy lady,\\nAnd bid her hasten all the house to bed,\\nWhich heavy sorrow makes them apt unto.\\nRomeo is coming.\\n\\nNURSE.\\nO Lord, I could have stayâ€™d here all the night\\nTo hear good counsel. O, what learning is!\\nMy lord, Iâ€™ll tell my lady you will come.\\n\\nROMEO.\\nDo so, and bid my sweet prepare to chide.\\n\\nNURSE.\\nHere sir, a ring she bid me give you, sir.\\nHie you, make haste, for it grows very late.\\n\\n [_Exit._]\\n\\nROMEO.\\nHow well my comfort is revivâ€™d by this.\\n\\nFRIAR LAWRENCE.\\nGo hence, good night, and here stands all your state:\\nEither be gone before the watch be set,\\nOr by the break of day disguisâ€™d from hence.\\nSojourn in Mantua. Iâ€™ll find out your man,\\nAnd he shall signify from time to time\\nEvery good hap to you that chances here.\\nGive me thy hand; â€™tis late; farewell; good night.\\n\\nROMEO.\\nBut that a joy past joy calls out on me,\\nIt were a grief so brief to part with thee.\\nFarewell.\\n\\n [_Exeunt._]\\n\\nSCENE IV. A Room in Capuletâ€™s House.\\n\\n Enter Capulet, Lady Capulet and Paris.\\n\\nCAPULET.\\nThings have fallen out, sir, so unluckily\\nThat we have had no time to move our daughter.\\nLook you, she lovâ€™d her kinsman Tybalt dearly,\\nAnd so did I. Well, we were born to die.\\nâ€™Tis very late; sheâ€™ll not come down tonight.\\nI promise you, but for your company,\\nI would have been abed an hour ago.\\n\\nPARIS.\\nThese times of woe afford no tune to woo.\\nMadam, good night. Commend me to your daughter.\\n\\nLADY CAPULET.\\nI will, and know her mind early tomorrow;\\nTonight sheâ€™s mewâ€™d up to her heaviness.\\n\\nCAPULET.\\nSir Paris, I will make a desperate tender\\nOf my childâ€™s love. I think she will be rulâ€™d\\nIn all respects by me; nay more, I doubt it not.\\nWife, go you to her ere you go to bed,\\nAcquaint her here of my son Parisâ€™ love,\\nAnd bid her, mark you me, on Wednesday next,\\nBut, soft, what day is this?\\n\\nPARIS.\\nMonday, my lord.\\n\\nCAPULET.\\nMonday! Ha, ha! Well, Wednesday is too soon,\\nA Thursday let it be; a Thursday, tell her,\\nShe shall be married to this noble earl.\\nWill you be ready? Do you like this haste?\\nWeâ€™ll keep no great ado,â€”a friend or two,\\nFor, hark you, Tybalt being slain so late,\\nIt may be thought we held him carelessly,\\nBeing our kinsman, if we revel much.\\nTherefore weâ€™ll have some half a dozen friends,\\nAnd there an end. But what say you to Thursday?\\n\\nPARIS.\\nMy lord, I would that Thursday were tomorrow.\\n\\nCAPULET.\\nWell, get you gone. A Thursday be it then.\\nGo you to Juliet ere you go to bed,\\nPrepare her, wife, against this wedding day.\\nFarewell, my lord.â€”Light to my chamber, ho!\\nAfore me, it is so very very late that we\\nMay call it early by and by. Good night.\\n\\n [_Exeunt._]\\n\\nSCENE V. An open Gallery to Julietâ€™s Chamber, overlooking the Garden.\\n\\n Enter Romeo and Juliet.\\n\\nJULIET.\\nWilt thou be gone? It is not yet near day.\\nIt was the nightingale, and not the lark,\\nThat piercâ€™d the fearful hollow of thine ear;\\nNightly she sings on yond pomegranate tree.\\nBelieve me, love, it was the nightingale.\\n\\nROMEO.\\nIt was the lark, the herald of the morn,\\nNo nightingale. Look, love, what envious streaks\\nDo lace the severing clouds in yonder east.\\nNightâ€™s candles are burnt out, and jocund day\\nStands tiptoe on the misty mountain tops.\\nI must be gone and live, or stay and die.\\n\\nJULIET.\\nYond light is not daylight, I know it, I.\\nIt is some meteor that the sun exhales\\nTo be to thee this night a torchbearer\\nAnd light thee on thy way to Mantua.\\nTherefore stay yet, thou needâ€™st not to be gone.\\n\\nROMEO.\\nLet me be taâ€™en, let me be put to death,\\nI am content, so thou wilt have it so.\\nIâ€™ll say yon grey is not the morningâ€™s eye,\\nâ€™Tis but the pale reflex of Cynthiaâ€™s brow.\\nNor that is not the lark whose notes do beat\\nThe vaulty heaven so high above our heads.\\nI have more care to stay than will to go.\\nCome, death, and welcome. Juliet wills it so.\\nHow isâ€™t, my soul? Letâ€™s talk. It is not day.\\n\\nJULIET.\\nIt is, it is! Hie hence, be gone, away.\\nIt is the lark that sings so out of tune,\\nStraining harsh discords and unpleasing sharps.\\nSome say the lark makes sweet division;\\nThis doth not so, for she divideth us.\\nSome say the lark and loathed toad change eyes.\\nO, now I would they had changâ€™d voices too,\\nSince arm from arm that voice doth us affray,\\nHunting thee hence with huntâ€™s-up to the day.\\nO now be gone, more light and light it grows.\\n\\nROMEO.\\nMore light and light, more dark and dark our woes.\\n\\n Enter Nurse.\\n\\nNURSE.\\nMadam.\\n\\nJULIET.\\nNurse?\\n\\nNURSE.\\nYour lady mother is coming to your chamber.\\nThe day is broke, be wary, look about.\\n\\n [_Exit._]\\n\\nJULIET.\\nThen, window, let day in, and let life out.\\n\\nROMEO.\\nFarewell, farewell, one kiss, and Iâ€™ll descend.\\n\\n [_Descends._]\\n\\nJULIET.\\nArt thou gone so? Love, lord, ay husband, friend,\\nI must hear from thee every day in the hour,\\nFor in a minute there are many days.\\nO, by this count I shall be much in years\\nEre I again behold my Romeo.\\n\\nROMEO.\\nFarewell!\\nI will omit no opportunity\\nThat may convey my greetings, love, to thee.\\n\\nJULIET.\\nO thinkest thou we shall ever meet again?\\n\\nROMEO.\\nI doubt it not, and all these woes shall serve\\nFor sweet discourses in our time to come.\\n\\nJULIET.\\nO God! I have an ill-divining soul!\\nMethinks I see thee, now thou art so low,\\nAs one dead in the bottom of a tomb.\\nEither my eyesight fails, or thou lookâ€™st pale.\\n\\nROMEO.\\nAnd trust me, love, in my eye so do you.\\nDry sorrow drinks our blood. Adieu, adieu.\\n\\n [_Exit below._]\\n\\nJULIET.\\nO Fortune, Fortune! All men call thee fickle,\\nIf thou art fickle, what dost thou with him\\nThat is renownâ€™d for faith? Be fickle, Fortune;\\nFor then, I hope thou wilt not keep him long\\nBut send him back.\\n\\nLADY CAPULET.\\n[_Within._] Ho, daughter, are you up?\\n\\nJULIET.\\nWho isâ€™t that calls? Is it my lady mother?\\nIs she not down so late, or up so early?\\nWhat unaccustomâ€™d cause procures her hither?\\n\\n Enter Lady Capulet.\\n\\nLADY CAPULET.\\nWhy, how now, Juliet?\\n\\nJULIET.\\nMadam, I am not well.\\n\\nLADY CAPULET.\\nEvermore weeping for your cousinâ€™s death?\\nWhat, wilt thou wash him from his grave with tears?\\nAnd if thou couldst, thou couldst not make him live.\\nTherefore have done: some grief shows much of love,\\nBut much of grief shows still some want of wit.\\n\\nJULIET.\\nYet let me weep for such a feeling loss.\\n\\nLADY CAPULET.\\nSo shall you feel the loss, but not the friend\\nWhich you weep for.\\n\\nJULIET.\\nFeeling so the loss,\\nI cannot choose but ever weep the friend.\\n\\nLADY CAPULET.\\nWell, girl, thou weepâ€™st not so much for his death\\nAs that the villain lives which slaughterâ€™d him.\\n\\nJULIET.\\nWhat villain, madam?\\n\\nLADY CAPULET.\\nThat same villain Romeo.\\n\\nJULIET.\\nVillain and he be many miles asunder.\\nGod pardon him. I do, with all my heart.\\nAnd yet no man like he doth grieve my heart.\\n\\nLADY CAPULET.\\nThat is because the traitor murderer lives.\\n\\nJULIET.\\nAy madam, from the reach of these my hands.\\nWould none but I might venge my cousinâ€™s death.\\n\\nLADY CAPULET.\\nWe will have vengeance for it, fear thou not.\\nThen weep no more. Iâ€™ll send to one in Mantua,\\nWhere that same banishâ€™d runagate doth live,\\nShall give him such an unaccustomâ€™d dram\\nThat he shall soon keep Tybalt company:\\nAnd then I hope thou wilt be satisfied.\\n\\nJULIET.\\nIndeed I never shall be satisfied\\nWith Romeo till I behold himâ€”deadâ€”\\nIs my poor heart so for a kinsman vexâ€™d.\\nMadam, if you could find out but a man\\nTo bear a poison, I would temper it,\\nThat Romeo should upon receipt thereof,\\nSoon sleep in quiet. O, how my heart abhors\\nTo hear him namâ€™d, and cannot come to him,\\nTo wreak the love I bore my cousin\\nUpon his body that hath slaughterâ€™d him.\\n\\nLADY CAPULET.\\nFind thou the means, and Iâ€™ll find such a man.\\nBut now Iâ€™ll tell thee joyful tidings, girl.\\n\\nJULIET.\\nAnd joy comes well in such a needy time.\\nWhat are they, I beseech your ladyship?\\n\\nLADY CAPULET.\\nWell, well, thou hast a careful father, child;\\nOne who to put thee from thy heaviness,\\nHath sorted out a sudden day of joy,\\nThat thou expects not, nor I lookâ€™d not for.\\n\\nJULIET.\\nMadam, in happy time, what day is that?\\n\\nLADY CAPULET.\\nMarry, my child, early next Thursday morn\\nThe gallant, young, and noble gentleman,\\nThe County Paris, at Saint Peterâ€™s Church,\\nShall happily make thee there a joyful bride.\\n\\nJULIET.\\nNow by Saint Peterâ€™s Church, and Peter too,\\nHe shall not make me there a joyful bride.\\nI wonder at this haste, that I must wed\\nEre he that should be husband comes to woo.\\nI pray you tell my lord and father, madam,\\nI will not marry yet; and when I do, I swear\\nIt shall be Romeo, whom you know I hate,\\nRather than Paris. These are news indeed.\\n\\nLADY CAPULET.\\nHere comes your father, tell him so yourself,\\nAnd see how he will take it at your hands.\\n\\n Enter Capulet and Nurse.\\n\\nCAPULET.\\nWhen the sun sets, the air doth drizzle dew;\\nBut for the sunset of my brotherâ€™s son\\nIt rains downright.\\nHow now? A conduit, girl? What, still in tears?\\nEvermore showering? In one little body\\nThou counterfeits a bark, a sea, a wind.\\nFor still thy eyes, which I may call the sea,\\nDo ebb and flow with tears; the bark thy body is,\\nSailing in this salt flood, the winds, thy sighs,\\nWho raging with thy tears and they with them,\\nWithout a sudden calm will overset\\nThy tempest-tossed body. How now, wife?\\nHave you deliverâ€™d to her our decree?\\n\\nLADY CAPULET.\\nAy, sir; but she will none, she gives you thanks.\\nI would the fool were married to her grave.\\n\\nCAPULET.\\nSoft. Take me with you, take me with you, wife.\\nHow, will she none? Doth she not give us thanks?\\nIs she not proud? Doth she not count her blest,\\nUnworthy as she is, that we have wrought\\nSo worthy a gentleman to be her bridegroom?\\n\\nJULIET.\\nNot proud you have, but thankful that you have.\\nProud can I never be of what I hate;\\nBut thankful even for hate that is meant love.\\n\\nCAPULET.\\nHow now, how now, choppâ€™d logic? What is this?\\nProud, and, I thank you, and I thank you not;\\nAnd yet not proud. Mistress minion you,\\nThank me no thankings, nor proud me no prouds,\\nBut fettle your fine joints â€™gainst Thursday next\\nTo go with Paris to Saint Peterâ€™s Church,\\nOr I will drag thee on a hurdle thither.\\nOut, you green-sickness carrion! Out, you baggage!\\nYou tallow-face!\\n\\nLADY CAPULET.\\nFie, fie! What, are you mad?\\n\\nJULIET.\\nGood father, I beseech you on my knees,\\nHear me with patience but to speak a word.\\n\\nCAPULET.\\nHang thee young baggage, disobedient wretch!\\nI tell thee what,â€”get thee to church a Thursday,\\nOr never after look me in the face.\\nSpeak not, reply not, do not answer me.\\nMy fingers itch. Wife, we scarce thought us blest\\nThat God had lent us but this only child;\\nBut now I see this one is one too much,\\nAnd that we have a curse in having her.\\nOut on her, hilding.\\n\\nNURSE.\\nGod in heaven bless her.\\nYou are to blame, my lord, to rate her so.\\n\\nCAPULET.\\nAnd why, my lady wisdom? Hold your tongue,\\nGood prudence; smatter with your gossips, go.\\n\\nNURSE.\\nI speak no treason.\\n\\nCAPULET.\\nO God ye good-en!\\n\\nNURSE.\\nMay not one speak?\\n\\nCAPULET.\\nPeace, you mumbling fool!\\nUtter your gravity oâ€™er a gossipâ€™s bowl,\\nFor here we need it not.\\n\\nLADY CAPULET.\\nYou are too hot.\\n\\nCAPULET.\\nGodâ€™s bread, it makes me mad!\\nDay, night, hour, ride, time, work, play,\\nAlone, in company, still my care hath been\\nTo have her matchâ€™d, and having now provided\\nA gentleman of noble parentage,\\nOf fair demesnes, youthful, and nobly allied,\\nStuffâ€™d, as they say, with honourable parts,\\nProportionâ€™d as oneâ€™s thought would wish a man,\\nAnd then to have a wretched puling fool,\\nA whining mammet, in her fortuneâ€™s tender,\\nTo answer, â€˜Iâ€™ll not wed, I cannot love,\\nI am too young, I pray you pardon me.â€™\\nBut, and you will not wed, Iâ€™ll pardon you.\\nGraze where you will, you shall not house with me.\\nLook toâ€™t, think onâ€™t, I do not use to jest.\\nThursday is near; lay hand on heart, advise.\\nAnd you be mine, Iâ€™ll give you to my friend;\\nAnd you be not, hang, beg, starve, die in the streets,\\nFor by my soul, Iâ€™ll neâ€™er acknowledge thee,\\nNor what is mine shall never do thee good.\\nTrust toâ€™t, bethink you, Iâ€™ll not be forsworn.\\n\\n [_Exit._]\\n\\nJULIET.\\nIs there no pity sitting in the clouds,\\nThat sees into the bottom of my grief?\\nO sweet my mother, cast me not away,\\nDelay this marriage for a month, a week,\\nOr, if you do not, make the bridal bed\\nIn that dim monument where Tybalt lies.\\n\\nLADY CAPULET.\\nTalk not to me, for Iâ€™ll not speak a word.\\nDo as thou wilt, for I have done with thee.\\n\\n [_Exit._]\\n\\nJULIET.\\nO God! O Nurse, how shall this be prevented?\\nMy husband is on earth, my faith in heaven.\\nHow shall that faith return again to earth,\\nUnless that husband send it me from heaven\\nBy leaving earth? Comfort me, counsel me.\\nAlack, alack, that heaven should practise stratagems\\nUpon so soft a subject as myself.\\nWhat sayâ€™st thou? Hast thou not a word of joy?\\nSome comfort, Nurse.\\n\\nNURSE.\\nFaith, here it is.\\nRomeo is banished; and all the world to nothing\\nThat he dares neâ€™er come back to challenge you.\\nOr if he do, it needs must be by stealth.\\nThen, since the case so stands as now it doth,\\nI think it best you married with the County.\\nO, heâ€™s a lovely gentleman.\\nRomeoâ€™s a dishclout to him. An eagle, madam,\\nHath not so green, so quick, so fair an eye\\nAs Paris hath. Beshrew my very heart,\\nI think you are happy in this second match,\\nFor it excels your first: or if it did not,\\nYour first is dead, or â€™twere as good he were,\\nAs living here and you no use of him.\\n\\nJULIET.\\nSpeakest thou from thy heart?\\n\\nNURSE.\\nAnd from my soul too,\\nOr else beshrew them both.\\n\\nJULIET.\\nAmen.\\n\\nNURSE.\\nWhat?\\n\\nJULIET.\\nWell, thou hast comforted me marvellous much.\\nGo in, and tell my lady I am gone,\\nHaving displeasâ€™d my father, to Lawrenceâ€™ cell,\\nTo make confession and to be absolvâ€™d.\\n\\nNURSE.\\nMarry, I will; and this is wisely done.\\n\\n [_Exit._]\\n\\nJULIET.\\nAncient damnation! O most wicked fiend!\\nIs it more sin to wish me thus forsworn,\\nOr to dispraise my lord with that same tongue\\nWhich she hath praisâ€™d him with above compare\\nSo many thousand times? Go, counsellor.\\nThou and my bosom henceforth shall be twain.\\nIâ€™ll to the Friar to know his remedy.\\nIf all else fail, myself have power to die.\\n\\n [_Exit._]\\n\\n\\n\\nACT IV\\n\\nSCENE I. Friar Lawrenceâ€™s Cell.\\n\\n Enter Friar Lawrence and Paris.\\n\\nFRIAR LAWRENCE.\\nOn Thursday, sir? The time is very short.\\n\\nPARIS.\\nMy father Capulet will have it so;\\nAnd I am nothing slow to slack his haste.\\n\\nFRIAR LAWRENCE.\\nYou say you do not know the ladyâ€™s mind.\\nUneven is the course; I like it not.\\n\\nPARIS.\\nImmoderately she weeps for Tybaltâ€™s death,\\nAnd therefore have I little talkâ€™d of love;\\nFor Venus smiles not in a house of tears.\\nNow, sir, her father counts it dangerous\\nThat she do give her sorrow so much sway;\\nAnd in his wisdom, hastes our marriage,\\nTo stop the inundation of her tears,\\nWhich, too much minded by herself alone,\\nMay be put from her by society.\\nNow do you know the reason of this haste.\\n\\nFRIAR LAWRENCE.\\n[_Aside._] I would I knew not why it should be slowâ€™d.â€”\\nLook, sir, here comes the lady toward my cell.\\n\\n Enter Juliet.\\n\\nPARIS.\\nHappily met, my lady and my wife!\\n\\nJULIET.\\nThat may be, sir, when I may be a wife.\\n\\nPARIS.\\nThat may be, must be, love, on Thursday next.\\n\\nJULIET.\\nWhat must be shall be.\\n\\nFRIAR LAWRENCE.\\nThatâ€™s a certain text.\\n\\nPARIS.\\nCome you to make confession to this father?\\n\\nJULIET.\\nTo answer that, I should confess to you.\\n\\nPARIS.\\nDo not deny to him that you love me.\\n\\nJULIET.\\nI will confess to you that I love him.\\n\\nPARIS.\\nSo will ye, I am sure, that you love me.\\n\\nJULIET.\\nIf I do so, it will be of more price,\\nBeing spoke behind your back than to your face.\\n\\nPARIS.\\nPoor soul, thy face is much abusâ€™d with tears.\\n\\nJULIET.\\nThe tears have got small victory by that;\\nFor it was bad enough before their spite.\\n\\nPARIS.\\nThou wrongâ€™st it more than tears with that report.\\n\\nJULIET.\\nThat is no slander, sir, which is a truth,\\nAnd what I spake, I spake it to my face.\\n\\nPARIS.\\nThy face is mine, and thou hast slanderâ€™d it.\\n\\nJULIET.\\nIt may be so, for it is not mine own.\\nAre you at leisure, holy father, now,\\nOr shall I come to you at evening mass?\\n\\nFRIAR LAWRENCE.\\nMy leisure serves me, pensive daughter, now.â€”\\nMy lord, we must entreat the time alone.\\n\\nPARIS.\\nGod shield I should disturb devotion!â€”\\nJuliet, on Thursday early will I rouse ye,\\nTill then, adieu; and keep this holy kiss.\\n\\n [_Exit._]\\n\\nJULIET.\\nO shut the door, and when thou hast done so,\\nCome weep with me, past hope, past cure, past help!\\n\\nFRIAR LAWRENCE.\\nO Juliet, I already know thy grief;\\nIt strains me past the compass of my wits.\\nI hear thou must, and nothing may prorogue it,\\nOn Thursday next be married to this County.\\n\\nJULIET.\\nTell me not, Friar, that thou hearâ€™st of this,\\nUnless thou tell me how I may prevent it.\\nIf in thy wisdom, thou canst give no help,\\nDo thou but call my resolution wise,\\nAnd with this knife Iâ€™ll help it presently.\\nGod joinâ€™d my heart and Romeoâ€™s, thou our hands;\\nAnd ere this hand, by thee to Romeoâ€™s sealâ€™d,\\nShall be the label to another deed,\\nOr my true heart with treacherous revolt\\nTurn to another, this shall slay them both.\\nTherefore, out of thy long-experiencâ€™d time,\\nGive me some present counsel, or behold\\nâ€™Twixt my extremes and me this bloody knife\\nShall play the empire, arbitrating that\\nWhich the commission of thy years and art\\nCould to no issue of true honour bring.\\nBe not so long to speak. I long to die,\\nIf what thou speakâ€™st speak not of remedy.\\n\\nFRIAR LAWRENCE.\\nHold, daughter. I do spy a kind of hope,\\nWhich craves as desperate an execution\\nAs that is desperate which we would prevent.\\nIf, rather than to marry County Paris\\nThou hast the strength of will to slay thyself,\\nThen is it likely thou wilt undertake\\nA thing like death to chide away this shame,\\nThat copâ€™st with death himself to scape from it.\\nAnd if thou darâ€™st, Iâ€™ll give thee remedy.\\n\\nJULIET.\\nO, bid me leap, rather than marry Paris,\\nFrom off the battlements of yonder tower,\\nOr walk in thievish ways, or bid me lurk\\nWhere serpents are. Chain me with roaring bears;\\nOr hide me nightly in a charnel-house,\\nOâ€™er-coverâ€™d quite with dead menâ€™s rattling bones,\\nWith reeky shanks and yellow chapless skulls.\\nOr bid me go into a new-made grave,\\nAnd hide me with a dead man in his shroud;\\nThings that, to hear them told, have made me tremble,\\nAnd I will do it without fear or doubt,\\nTo live an unstainâ€™d wife to my sweet love.\\n\\nFRIAR LAWRENCE.\\nHold then. Go home, be merry, give consent\\nTo marry Paris. Wednesday is tomorrow;\\nTomorrow night look that thou lie alone,\\nLet not thy Nurse lie with thee in thy chamber.\\nTake thou this vial, being then in bed,\\nAnd this distilled liquor drink thou off,\\nWhen presently through all thy veins shall run\\nA cold and drowsy humour; for no pulse\\nShall keep his native progress, but surcease.\\nNo warmth, no breath shall testify thou livest,\\nThe roses in thy lips and cheeks shall fade\\nTo paly ashes; thy eyesâ€™ windows fall,\\nLike death when he shuts up the day of life.\\nEach part deprivâ€™d of supple government,\\nShall stiff and stark and cold appear like death.\\nAnd in this borrowâ€™d likeness of shrunk death\\nThou shalt continue two and forty hours,\\nAnd then awake as from a pleasant sleep.\\nNow when the bridegroom in the morning comes\\nTo rouse thee from thy bed, there art thou dead.\\nThen as the manner of our country is,\\nIn thy best robes, uncoverâ€™d, on the bier,\\nThou shalt be borne to that same ancient vault\\nWhere all the kindred of the Capulets lie.\\nIn the meantime, against thou shalt awake,\\nShall Romeo by my letters know our drift,\\nAnd hither shall he come, and he and I\\nWill watch thy waking, and that very night\\nShall Romeo bear thee hence to Mantua.\\nAnd this shall free thee from this present shame,\\nIf no inconstant toy nor womanish fear\\nAbate thy valour in the acting it.\\n\\nJULIET.\\nGive me, give me! O tell not me of fear!\\n\\nFRIAR LAWRENCE.\\nHold; get you gone, be strong and prosperous\\nIn this resolve. Iâ€™ll send a friar with speed\\nTo Mantua, with my letters to thy lord.\\n\\nJULIET.\\nLove give me strength, and strength shall help afford.\\nFarewell, dear father.\\n\\n [_Exeunt._]\\n\\nSCENE II. Hall in Capuletâ€™s House.\\n\\n Enter Capulet, Lady Capulet, Nurse and Servants.\\n\\nCAPULET.\\nSo many guests invite as here are writ.\\n\\n [_Exit first Servant._]\\n\\nSirrah, go hire me twenty cunning cooks.\\n\\nSECOND SERVANT.\\nYou shall have none ill, sir; for Iâ€™ll try if they can lick their\\nfingers.\\n\\nCAPULET.\\nHow canst thou try them so?\\n\\nSECOND SERVANT.\\nMarry, sir, â€™tis an ill cook that cannot lick his own fingers;\\ntherefore he that cannot lick his fingers goes not with me.\\n\\nCAPULET.\\nGo, begone.\\n\\n [_Exit second Servant._]\\n\\nWe shall be much unfurnishâ€™d for this time.\\nWhat, is my daughter gone to Friar Lawrence?\\n\\nNURSE.\\nAy, forsooth.\\n\\nCAPULET.\\nWell, he may chance to do some good on her.\\nA peevish self-willâ€™d harlotry it is.\\n\\n Enter Juliet.\\n\\nNURSE.\\nSee where she comes from shrift with merry look.\\n\\nCAPULET.\\nHow now, my headstrong. Where have you been gadding?\\n\\nJULIET.\\nWhere I have learnt me to repent the sin\\nOf disobedient opposition\\nTo you and your behests; and am enjoinâ€™d\\nBy holy Lawrence to fall prostrate here,\\nTo beg your pardon. Pardon, I beseech you.\\nHenceforward I am ever rulâ€™d by you.\\n\\nCAPULET.\\nSend for the County, go tell him of this.\\nIâ€™ll have this knot knit up tomorrow morning.\\n\\nJULIET.\\nI met the youthful lord at Lawrenceâ€™ cell,\\nAnd gave him what becomed love I might,\\nNot stepping oâ€™er the bounds of modesty.\\n\\nCAPULET.\\nWhy, I am glad onâ€™t. This is well. Stand up.\\nThis is asâ€™t should be. Let me see the County.\\nAy, marry. Go, I say, and fetch him hither.\\nNow afore God, this reverend holy Friar,\\nAll our whole city is much bound to him.\\n\\nJULIET.\\nNurse, will you go with me into my closet,\\nTo help me sort such needful ornaments\\nAs you think fit to furnish me tomorrow?\\n\\nLADY CAPULET.\\nNo, not till Thursday. There is time enough.\\n\\nCAPULET.\\nGo, Nurse, go with her. Weâ€™ll to church tomorrow.\\n\\n [_Exeunt Juliet and Nurse._]\\n\\nLADY CAPULET.\\nWe shall be short in our provision,\\nâ€™Tis now near night.\\n\\nCAPULET.\\nTush, I will stir about,\\nAnd all things shall be well, I warrant thee, wife.\\nGo thou to Juliet, help to deck up her.\\nIâ€™ll not to bed tonight, let me alone.\\nIâ€™ll play the housewife for this once.â€”What, ho!â€”\\nThey are all forth: well, I will walk myself\\nTo County Paris, to prepare him up\\nAgainst tomorrow. My heart is wondrous light\\nSince this same wayward girl is so reclaimâ€™d.\\n\\n [_Exeunt._]\\n\\nSCENE III. Julietâ€™s Chamber.\\n\\n Enter Juliet and Nurse.\\n\\nJULIET.\\nAy, those attires are best. But, gentle Nurse,\\nI pray thee leave me to myself tonight;\\nFor I have need of many orisons\\nTo move the heavens to smile upon my state,\\nWhich, well thou knowâ€™st, is cross and full of sin.\\n\\n Enter Lady Capulet.\\n\\nLADY CAPULET.\\nWhat, are you busy, ho? Need you my help?\\n\\nJULIET.\\nNo, madam; we have cullâ€™d such necessaries\\nAs are behoveful for our state tomorrow.\\nSo please you, let me now be left alone,\\nAnd let the nurse this night sit up with you,\\nFor I am sure you have your hands full all\\nIn this so sudden business.\\n\\nLADY CAPULET.\\nGood night.\\nGet thee to bed and rest, for thou hast need.\\n\\n [_Exeunt Lady Capulet and Nurse._]\\n\\nJULIET.\\nFarewell. God knows when we shall meet again.\\nI have a faint cold fear thrills through my veins\\nThat almost freezes up the heat of life.\\nIâ€™ll call them back again to comfort me.\\nNurse!â€”What should she do here?\\nMy dismal scene I needs must act alone.\\nCome, vial.\\nWhat if this mixture do not work at all?\\nShall I be married then tomorrow morning?\\nNo, No! This shall forbid it. Lie thou there.\\n\\n [_Laying down her dagger._]\\n\\nWhat if it be a poison, which the Friar\\nSubtly hath ministerâ€™d to have me dead,\\nLest in this marriage he should be dishonourâ€™d,\\nBecause he married me before to Romeo?\\nI fear it is. And yet methinks it should not,\\nFor he hath still been tried a holy man.\\nHow if, when I am laid into the tomb,\\nI wake before the time that Romeo\\nCome to redeem me? Thereâ€™s a fearful point!\\nShall I not then be stifled in the vault,\\nTo whose foul mouth no healthsome air breathes in,\\nAnd there die strangled ere my Romeo comes?\\nOr, if I live, is it not very like,\\nThe horrible conceit of death and night,\\nTogether with the terror of the place,\\nAs in a vault, an ancient receptacle,\\nWhere for this many hundred years the bones\\nOf all my buried ancestors are packâ€™d,\\nWhere bloody Tybalt, yet but green in earth,\\nLies festering in his shroud; where, as they say,\\nAt some hours in the night spirits resortâ€”\\nAlack, alack, is it not like that I,\\nSo early waking, what with loathsome smells,\\nAnd shrieks like mandrakes torn out of the earth,\\nThat living mortals, hearing them, run mad.\\nO, if I wake, shall I not be distraught,\\nEnvironed with all these hideous fears,\\nAnd madly play with my forefathersâ€™ joints?\\nAnd pluck the mangled Tybalt from his shroud?\\nAnd, in this rage, with some great kinsmanâ€™s bone,\\nAs with a club, dash out my desperate brains?\\nO look, methinks I see my cousinâ€™s ghost\\nSeeking out Romeo that did spit his body\\nUpon a rapierâ€™s point. Stay, Tybalt, stay!\\nRomeo, Romeo, Romeo, hereâ€™s drink! I drink to thee.\\n\\n [_Throws herself on the bed._]\\n\\nSCENE IV. Hall in Capuletâ€™s House.\\n\\n Enter Lady Capulet and Nurse.\\n\\nLADY CAPULET.\\nHold, take these keys and fetch more spices, Nurse.\\n\\nNURSE.\\nThey call for dates and quinces in the pastry.\\n\\n Enter Capulet.\\n\\nCAPULET.\\nCome, stir, stir, stir! The second cock hath crowâ€™d,\\nThe curfew bell hath rung, â€™tis three oâ€™clock.\\nLook to the bakâ€™d meats, good Angelica;\\nSpare not for cost.\\n\\nNURSE.\\nGo, you cot-quean, go,\\nGet you to bed; faith, youâ€™ll be sick tomorrow\\nFor this nightâ€™s watching.\\n\\nCAPULET.\\nNo, not a whit. What! I have watchâ€™d ere now\\nAll night for lesser cause, and neâ€™er been sick.\\n\\nLADY CAPULET.\\nAy, you have been a mouse-hunt in your time;\\nBut I will watch you from such watching now.\\n\\n [_Exeunt Lady Capulet and Nurse._]\\n\\nCAPULET.\\nA jealous-hood, a jealous-hood!\\n\\n Enter Servants, with spits, logs and baskets.\\n\\nNow, fellow, whatâ€™s there?\\n\\nFIRST SERVANT.\\nThings for the cook, sir; but I know not what.\\n\\nCAPULET.\\nMake haste, make haste.\\n\\n [_Exit First Servant._]\\n\\nâ€”Sirrah, fetch drier logs.\\nCall Peter, he will show thee where they are.\\n\\nSECOND SERVANT.\\nI have a head, sir, that will find out logs\\nAnd never trouble Peter for the matter.\\n\\n [_Exit._]\\n\\nCAPULET.\\nMass and well said; a merry whoreson, ha.\\nThou shalt be loggerhead.â€”Good faith, â€™tis day.\\nThe County will be here with music straight,\\nFor so he said he would. I hear him near.\\n\\n [_Play music._]\\n\\nNurse! Wife! What, ho! What, Nurse, I say!\\n\\n Re-enter Nurse.\\n\\nGo waken Juliet, go and trim her up.\\nIâ€™ll go and chat with Paris. Hie, make haste,\\nMake haste; the bridegroom he is come already.\\nMake haste I say.\\n\\n [_Exeunt._]\\n\\nSCENE V. Julietâ€™s Chamber; Juliet on the bed.\\n\\n Enter Nurse.\\n\\nNURSE.\\nMistress! What, mistress! Juliet! Fast, I warrant her, she.\\nWhy, lamb, why, lady, fie, you slug-abed!\\nWhy, love, I say! Madam! Sweetheart! Why, bride!\\nWhat, not a word? You take your pennyworths now.\\nSleep for a week; for the next night, I warrant,\\nThe County Paris hath set up his rest\\nThat you shall rest but little. God forgive me!\\nMarry and amen. How sound is she asleep!\\nI needs must wake her. Madam, madam, madam!\\nAy, let the County take you in your bed,\\nHeâ€™ll fright you up, iâ€™faith. Will it not be?\\nWhat, dressâ€™d, and in your clothes, and down again?\\nI must needs wake you. Lady! Lady! Lady!\\nAlas, alas! Help, help! My ladyâ€™s dead!\\nO, well-a-day that ever I was born.\\nSome aqua vitae, ho! My lord! My lady!\\n\\n Enter Lady Capulet.\\n\\nLADY CAPULET.\\nWhat noise is here?\\n\\nNURSE.\\nO lamentable day!\\n\\nLADY CAPULET.\\nWhat is the matter?\\n\\nNURSE.\\nLook, look! O heavy day!\\n\\nLADY CAPULET.\\nO me, O me! My child, my only life.\\nRevive, look up, or I will die with thee.\\nHelp, help! Call help.\\n\\n Enter Capulet.\\n\\nCAPULET.\\nFor shame, bring Juliet forth, her lord is come.\\n\\nNURSE.\\nSheâ€™s dead, deceasâ€™d, sheâ€™s dead; alack the day!\\n\\nLADY CAPULET.\\nAlack the day, sheâ€™s dead, sheâ€™s dead, sheâ€™s dead!\\n\\nCAPULET.\\nHa! Let me see her. Out alas! Sheâ€™s cold,\\nHer blood is settled and her joints are stiff.\\nLife and these lips have long been separated.\\nDeath lies on her like an untimely frost\\nUpon the sweetest flower of all the field.\\n\\nNURSE.\\nO lamentable day!\\n\\nLADY CAPULET.\\nO woful time!\\n\\nCAPULET.\\nDeath, that hath taâ€™en her hence to make me wail,\\nTies up my tongue and will not let me speak.\\n\\n Enter Friar Lawrence and Paris with Musicians.\\n\\nFRIAR LAWRENCE.\\nCome, is the bride ready to go to church?\\n\\nCAPULET.\\nReady to go, but never to return.\\nO son, the night before thy wedding day\\nHath death lain with thy bride. There she lies,\\nFlower as she was, deflowered by him.\\nDeath is my son-in-law, death is my heir;\\nMy daughter he hath wedded. I will die.\\nAnd leave him all; life, living, all is deathâ€™s.\\n\\nPARIS.\\nHave I thought long to see this morningâ€™s face,\\nAnd doth it give me such a sight as this?\\n\\nLADY CAPULET.\\nAccursâ€™d, unhappy, wretched, hateful day.\\nMost miserable hour that eâ€™er time saw\\nIn lasting labour of his pilgrimage.\\nBut one, poor one, one poor and loving child,\\nBut one thing to rejoice and solace in,\\nAnd cruel death hath catchâ€™d it from my sight.\\n\\nNURSE.\\nO woe! O woeful, woeful, woeful day.\\nMost lamentable day, most woeful day\\nThat ever, ever, I did yet behold!\\nO day, O day, O day, O hateful day.\\nNever was seen so black a day as this.\\nO woeful day, O woeful day.\\n\\nPARIS.\\nBeguilâ€™d, divorced, wronged, spited, slain.\\nMost detestable death, by thee beguilâ€™d,\\nBy cruel, cruel thee quite overthrown.\\nO love! O life! Not life, but love in death!\\n\\nCAPULET.\\nDespisâ€™d, distressed, hated, martyrâ€™d, killâ€™d.\\nUncomfortable time, why camâ€™st thou now\\nTo murder, murder our solemnity?\\nO child! O child! My soul, and not my child,\\nDead art thou. Alack, my child is dead,\\nAnd with my child my joys are buried.\\n\\nFRIAR LAWRENCE.\\nPeace, ho, for shame. Confusionâ€™s cure lives not\\nIn these confusions. Heaven and yourself\\nHad part in this fair maid, now heaven hath all,\\nAnd all the better is it for the maid.\\nYour part in her you could not keep from death,\\nBut heaven keeps his part in eternal life.\\nThe most you sought was her promotion,\\nFor â€™twas your heaven she should be advancâ€™d,\\nAnd weep ye now, seeing she is advancâ€™d\\nAbove the clouds, as high as heaven itself?\\nO, in this love, you love your child so ill\\nThat you run mad, seeing that she is well.\\nSheâ€™s not well married that lives married long,\\nBut sheâ€™s best married that dies married young.\\nDry up your tears, and stick your rosemary\\nOn this fair corse, and, as the custom is,\\nAnd in her best array bear her to church;\\nFor though fond nature bids us all lament,\\nYet natureâ€™s tears are reasonâ€™s merriment.\\n\\nCAPULET.\\nAll things that we ordained festival\\nTurn from their office to black funeral:\\nOur instruments to melancholy bells,\\nOur wedding cheer to a sad burial feast;\\nOur solemn hymns to sullen dirges change;\\nOur bridal flowers serve for a buried corse,\\nAnd all things change them to the contrary.\\n\\nFRIAR LAWRENCE.\\nSir, go you in, and, madam, go with him,\\nAnd go, Sir Paris, everyone prepare\\nTo follow this fair corse unto her grave.\\nThe heavens do lower upon you for some ill;\\nMove them no more by crossing their high will.\\n\\n [_Exeunt Capulet, Lady Capulet, Paris and Friar._]\\n\\nFIRST MUSICIAN.\\nFaith, we may put up our pipes and be gone.\\n\\nNURSE.\\nHonest good fellows, ah, put up, put up,\\nFor well you know this is a pitiful case.\\n\\nFIRST MUSICIAN.\\nAy, by my troth, the case may be amended.\\n\\n [_Exit Nurse._]\\n\\n Enter Peter.\\n\\nPETER.\\nMusicians, O, musicians, â€˜Heartâ€™s ease,â€™ â€˜Heartâ€™s easeâ€™, O, and you\\nwill have me live, play â€˜Heartâ€™s ease.â€™\\n\\nFIRST MUSICIAN.\\nWhy â€˜Heartâ€™s easeâ€™?\\n\\nPETER.\\nO musicians, because my heart itself plays â€˜My heart is fullâ€™. O play\\nme some merry dump to comfort me.\\n\\nFIRST MUSICIAN.\\nNot a dump we, â€™tis no time to play now.\\n\\nPETER.\\nYou will not then?\\n\\nFIRST MUSICIAN.\\nNo.\\n\\nPETER.\\nI will then give it you soundly.\\n\\nFIRST MUSICIAN.\\nWhat will you give us?\\n\\nPETER.\\nNo money, on my faith, but the gleek! I will give you the minstrel.\\n\\nFIRST MUSICIAN.\\nThen will I give you the serving-creature.\\n\\nPETER.\\nThen will I lay the serving-creatureâ€™s dagger on your pate. I will\\ncarry no crotchets. Iâ€™ll re you, Iâ€™ll fa you. Do you note me?\\n\\nFIRST MUSICIAN.\\nAnd you re us and fa us, you note us.\\n\\nSECOND MUSICIAN.\\nPray you put up your dagger, and put out your wit.\\n\\nPETER.\\nThen have at you with my wit. I will dry-beat you with an iron wit, and\\nput up my iron dagger. Answer me like men.\\n    â€˜When griping griefs the heart doth wound,\\n      And doleful dumps the mind oppress,\\n    Then music with her silver soundâ€™â€”\\nWhy â€˜silver soundâ€™? Why â€˜music with her silver soundâ€™? What say you,\\nSimon Catling?\\n\\nFIRST MUSICIAN.\\nMarry, sir, because silver hath a sweet sound.\\n\\nPETER.\\nPrates. What say you, Hugh Rebeck?\\n\\nSECOND MUSICIAN.\\nI say â€˜silver soundâ€™ because musicians sound for silver.\\n\\nPETER.\\nPrates too! What say you, James Soundpost?\\n\\nTHIRD MUSICIAN.\\nFaith, I know not what to say.\\n\\nPETER.\\nO, I cry you mercy, you are the singer. I will say for you. It is\\nâ€˜music with her silver soundâ€™ because musicians have no gold for\\nsounding.\\n      â€˜Then music with her silver sound\\n      With speedy help doth lend redress.â€™\\n\\n [_Exit._]\\n\\nFIRST MUSICIAN.\\nWhat a pestilent knave is this same!\\n\\nSECOND MUSICIAN.\\nHang him, Jack. Come, weâ€™ll in here, tarry for the mourners, and stay\\ndinner.\\n\\n [_Exeunt._]\\n\\n\\n\\nACT V\\n\\nSCENE I. Mantua. A Street.\\n\\n Enter Romeo.\\n\\nROMEO.\\nIf I may trust the flattering eye of sleep,\\nMy dreams presage some joyful news at hand.\\nMy bosomâ€™s lord sits lightly in his throne;\\nAnd all this day an unaccustomâ€™d spirit\\nLifts me above the ground with cheerful thoughts.\\nI dreamt my lady came and found me dead,â€”\\nStrange dream, that gives a dead man leave to think!â€”\\nAnd breathâ€™d such life with kisses in my lips,\\nThat I revivâ€™d, and was an emperor.\\nAh me, how sweet is love itself possessâ€™d,\\nWhen but loveâ€™s shadows are so rich in joy.\\n\\n Enter Balthasar.\\n\\nNews from Verona! How now, Balthasar?\\nDost thou not bring me letters from the Friar?\\nHow doth my lady? Is my father well?\\nHow fares my Juliet? That I ask again;\\nFor nothing can be ill if she be well.\\n\\nBALTHASAR.\\nThen she is well, and nothing can be ill.\\nHer body sleeps in Capelâ€™s monument,\\nAnd her immortal part with angels lives.\\nI saw her laid low in her kindredâ€™s vault,\\nAnd presently took post to tell it you.\\nO pardon me for bringing these ill news,\\nSince you did leave it for my office, sir.\\n\\nROMEO.\\nIs it even so? Then I defy you, stars!\\nThou knowâ€™st my lodging. Get me ink and paper,\\nAnd hire post-horses. I will hence tonight.\\n\\nBALTHASAR.\\nI do beseech you sir, have patience.\\nYour looks are pale and wild, and do import\\nSome misadventure.\\n\\nROMEO.\\nTush, thou art deceivâ€™d.\\nLeave me, and do the thing I bid thee do.\\nHast thou no letters to me from the Friar?\\n\\nBALTHASAR.\\nNo, my good lord.\\n\\nROMEO.\\nNo matter. Get thee gone,\\nAnd hire those horses. Iâ€™ll be with thee straight.\\n\\n [_Exit Balthasar._]\\n\\nWell, Juliet, I will lie with thee tonight.\\nLetâ€™s see for means. O mischief thou art swift\\nTo enter in the thoughts of desperate men.\\nI do remember an apothecary,â€”\\nAnd hereabouts he dwells,â€”which late I noted\\nIn tatterâ€™d weeds, with overwhelming brows,\\nCulling of simples, meagre were his looks,\\nSharp misery had worn him to the bones;\\nAnd in his needy shop a tortoise hung,\\nAn alligator stuffâ€™d, and other skins\\nOf ill-shaped fishes; and about his shelves\\nA beggarly account of empty boxes,\\nGreen earthen pots, bladders, and musty seeds,\\nRemnants of packthread, and old cakes of roses\\nWere thinly scatterâ€™d, to make up a show.\\nNoting this penury, to myself I said,\\nAnd if a man did need a poison now,\\nWhose sale is present death in Mantua,\\nHere lives a caitiff wretch would sell it him.\\nO, this same thought did but forerun my need,\\nAnd this same needy man must sell it me.\\nAs I remember, this should be the house.\\nBeing holiday, the beggarâ€™s shop is shut.\\nWhat, ho! Apothecary!\\n\\n Enter Apothecary.\\n\\nAPOTHECARY.\\nWho calls so loud?\\n\\nROMEO.\\nCome hither, man. I see that thou art poor.\\nHold, there is forty ducats. Let me have\\nA dram of poison, such soon-speeding gear\\nAs will disperse itself through all the veins,\\nThat the life-weary taker may fall dead,\\nAnd that the trunk may be dischargâ€™d of breath\\nAs violently as hasty powder firâ€™d\\nDoth hurry from the fatal cannonâ€™s womb.\\n\\nAPOTHECARY.\\nSuch mortal drugs I have, but Mantuaâ€™s law\\nIs death to any he that utters them.\\n\\nROMEO.\\nArt thou so bare and full of wretchedness,\\nAnd fearâ€™st to die? Famine is in thy cheeks,\\nNeed and oppression starveth in thine eyes,\\nContempt and beggary hangs upon thy back.\\nThe world is not thy friend, nor the worldâ€™s law;\\nThe world affords no law to make thee rich;\\nThen be not poor, but break it and take this.\\n\\nAPOTHECARY.\\nMy poverty, but not my will consents.\\n\\nROMEO.\\nI pay thy poverty, and not thy will.\\n\\nAPOTHECARY.\\nPut this in any liquid thing you will\\nAnd drink it off; and, if you had the strength\\nOf twenty men, it would despatch you straight.\\n\\nROMEO.\\nThere is thy gold, worse poison to menâ€™s souls,\\nDoing more murder in this loathsome world\\nThan these poor compounds that thou mayst not sell.\\nI sell thee poison, thou hast sold me none.\\nFarewell, buy food, and get thyself in flesh.\\nCome, cordial and not poison, go with me\\nTo Julietâ€™s grave, for there must I use thee.\\n\\n [_Exeunt._]\\n\\nSCENE II. Friar Lawrenceâ€™s Cell.\\n\\n Enter Friar John.\\n\\nFRIAR JOHN.\\nHoly Franciscan Friar! Brother, ho!\\n\\n Enter Friar Lawrence.\\n\\nFRIAR LAWRENCE.\\nThis same should be the voice of Friar John.\\nWelcome from Mantua. What says Romeo?\\nOr, if his mind be writ, give me his letter.\\n\\nFRIAR JOHN.\\nGoing to find a barefoot brother out,\\nOne of our order, to associate me,\\nHere in this city visiting the sick,\\nAnd finding him, the searchers of the town,\\nSuspecting that we both were in a house\\nWhere the infectious pestilence did reign,\\nSealâ€™d up the doors, and would not let us forth,\\nSo that my speed to Mantua there was stayâ€™d.\\n\\nFRIAR LAWRENCE.\\nWho bare my letter then to Romeo?\\n\\nFRIAR JOHN.\\nI could not send it,â€”here it is again,â€”\\nNor get a messenger to bring it thee,\\nSo fearful were they of infection.\\n\\nFRIAR LAWRENCE.\\nUnhappy fortune! By my brotherhood,\\nThe letter was not nice, but full of charge,\\nOf dear import, and the neglecting it\\nMay do much danger. Friar John, go hence,\\nGet me an iron crow and bring it straight\\nUnto my cell.\\n\\nFRIAR JOHN.\\nBrother, Iâ€™ll go and bring it thee.\\n\\n [_Exit._]\\n\\nFRIAR LAWRENCE.\\nNow must I to the monument alone.\\nWithin this three hours will fair Juliet wake.\\nShe will beshrew me much that Romeo\\nHath had no notice of these accidents;\\nBut I will write again to Mantua,\\nAnd keep her at my cell till Romeo come.\\nPoor living corse, closâ€™d in a dead manâ€™s tomb.\\n\\n [_Exit._]\\n\\nSCENE III. A churchyard; in it a Monument belonging to the Capulets.\\n\\n Enter Paris, and his Page bearing flowers and a torch.\\n\\nPARIS.\\nGive me thy torch, boy. Hence and stand aloof.\\nYet put it out, for I would not be seen.\\nUnder yond yew tree lay thee all along,\\nHolding thy ear close to the hollow ground;\\nSo shall no foot upon the churchyard tread,\\nBeing loose, unfirm, with digging up of graves,\\nBut thou shalt hear it. Whistle then to me,\\nAs signal that thou hearâ€™st something approach.\\nGive me those flowers. Do as I bid thee, go.\\n\\nPAGE.\\n[_Aside._] I am almost afraid to stand alone\\nHere in the churchyard; yet I will adventure.\\n\\n [_Retires._]\\n\\nPARIS.\\nSweet flower, with flowers thy bridal bed I strew.\\nO woe, thy canopy is dust and stones,\\nWhich with sweet water nightly I will dew,\\nOr wanting that, with tears distillâ€™d by moans.\\nThe obsequies that I for thee will keep,\\nNightly shall be to strew thy grave and weep.\\n\\n [_The Page whistles._]\\n\\nThe boy gives warning something doth approach.\\nWhat cursed foot wanders this way tonight,\\nTo cross my obsequies and true loveâ€™s rite?\\nWhat, with a torch! Muffle me, night, awhile.\\n\\n [_Retires._]\\n\\n Enter Romeo and Balthasar with a torch, mattock, &c.\\n\\nROMEO.\\nGive me that mattock and the wrenching iron.\\nHold, take this letter; early in the morning\\nSee thou deliver it to my lord and father.\\nGive me the light; upon thy life I charge thee,\\nWhateâ€™er thou hearâ€™st or seest, stand all aloof\\nAnd do not interrupt me in my course.\\nWhy I descend into this bed of death\\nIs partly to behold my ladyâ€™s face,\\nBut chiefly to take thence from her dead finger\\nA precious ring, a ring that I must use\\nIn dear employment. Therefore hence, be gone.\\nBut if thou jealous dost return to pry\\nIn what I further shall intend to do,\\nBy heaven I will tear thee joint by joint,\\nAnd strew this hungry churchyard with thy limbs.\\nThe time and my intents are savage-wild;\\nMore fierce and more inexorable far\\nThan empty tigers or the roaring sea.\\n\\nBALTHASAR.\\nI will be gone, sir, and not trouble you.\\n\\nROMEO.\\nSo shalt thou show me friendship. Take thou that.\\nLive, and be prosperous, and farewell, good fellow.\\n\\nBALTHASAR.\\nFor all this same, Iâ€™ll hide me hereabout.\\nHis looks I fear, and his intents I doubt.\\n\\n [_Retires_]\\n\\nROMEO.\\nThou detestable maw, thou womb of death,\\nGorgâ€™d with the dearest morsel of the earth,\\nThus I enforce thy rotten jaws to open,\\n\\n [_Breaking open the door of the monument._]\\n\\nAnd in despite, Iâ€™ll cram thee with more food.\\n\\nPARIS.\\nThis is that banishâ€™d haughty Montague\\nThat murderâ€™d my loveâ€™s cousin,â€”with which grief,\\nIt is supposed, the fair creature died,â€”\\nAnd here is come to do some villanous shame\\nTo the dead bodies. I will apprehend him.\\n\\n [_Advances._]\\n\\nStop thy unhallowâ€™d toil, vile Montague.\\nCan vengeance be pursuâ€™d further than death?\\nCondemned villain, I do apprehend thee.\\nObey, and go with me, for thou must die.\\n\\nROMEO.\\nI must indeed; and therefore came I hither.\\nGood gentle youth, tempt not a desperate man.\\nFly hence and leave me. Think upon these gone;\\nLet them affright thee. I beseech thee, youth,\\nPut not another sin upon my head\\nBy urging me to fury. O be gone.\\nBy heaven I love thee better than myself;\\nFor I come hither armâ€™d against myself.\\nStay not, be gone, live, and hereafter say,\\nA madmanâ€™s mercy bid thee run away.\\n\\nPARIS.\\nI do defy thy conjuration,\\nAnd apprehend thee for a felon here.\\n\\nROMEO.\\nWilt thou provoke me? Then have at thee, boy!\\n\\n [_They fight._]\\n\\nPAGE.\\nO lord, they fight! I will go call the watch.\\n\\n [_Exit._]\\n\\nPARIS.\\nO, I am slain! [_Falls._] If thou be merciful,\\nOpen the tomb, lay me with Juliet.\\n\\n [_Dies._]\\n\\nROMEO.\\nIn faith, I will. Let me peruse this face.\\nMercutioâ€™s kinsman, noble County Paris!\\nWhat said my man, when my betossed soul\\nDid not attend him as we rode? I think\\nHe told me Paris should have married Juliet.\\nSaid he not so? Or did I dream it so?\\nOr am I mad, hearing him talk of Juliet,\\nTo think it was so? O, give me thy hand,\\nOne writ with me in sour misfortuneâ€™s book.\\nIâ€™ll bury thee in a triumphant grave.\\nA grave? O no, a lantern, slaughtâ€™red youth,\\nFor here lies Juliet, and her beauty makes\\nThis vault a feasting presence full of light.\\nDeath, lie thou there, by a dead man interrâ€™d.\\n\\n [_Laying Paris in the monument._]\\n\\nHow oft when men are at the point of death\\nHave they been merry! Which their keepers call\\nA lightning before death. O, how may I\\nCall this a lightning? O my love, my wife,\\nDeath that hath suckâ€™d the honey of thy breath,\\nHath had no power yet upon thy beauty.\\nThou art not conquerâ€™d. Beautyâ€™s ensign yet\\nIs crimson in thy lips and in thy cheeks,\\nAnd deathâ€™s pale flag is not advanced there.\\nTybalt, liest thou there in thy bloody sheet?\\nO, what more favour can I do to thee\\nThan with that hand that cut thy youth in twain\\nTo sunder his that was thine enemy?\\nForgive me, cousin. Ah, dear Juliet,\\nWhy art thou yet so fair? Shall I believe\\nThat unsubstantial death is amorous;\\nAnd that the lean abhorred monster keeps\\nThee here in dark to be his paramour?\\nFor fear of that I still will stay with thee,\\nAnd never from this palace of dim night\\nDepart again. Here, here will I remain\\nWith worms that are thy chambermaids. O, here\\nWill I set up my everlasting rest;\\nAnd shake the yoke of inauspicious stars\\nFrom this world-wearied flesh. Eyes, look your last.\\nArms, take your last embrace! And, lips, O you\\nThe doors of breath, seal with a righteous kiss\\nA dateless bargain to engrossing death.\\nCome, bitter conduct, come, unsavoury guide.\\nThou desperate pilot, now at once run on\\nThe dashing rocks thy sea-sick weary bark.\\nHereâ€™s to my love! [_Drinks._] O true apothecary!\\nThy drugs are quick. Thus with a kiss I die.\\n\\n [_Dies._]\\n\\n Enter, at the other end of the Churchyard, Friar Lawrence, with a\\n lantern, crow, and spade.\\n\\nFRIAR LAWRENCE.\\nSaint Francis be my speed. How oft tonight\\nHave my old feet stumbled at graves? Whoâ€™s there?\\nWho is it that consorts, so late, the dead?\\n\\nBALTHASAR.\\nHereâ€™s one, a friend, and one that knows you well.\\n\\nFRIAR LAWRENCE.\\nBliss be upon you. Tell me, good my friend,\\nWhat torch is yond that vainly lends his light\\nTo grubs and eyeless skulls? As I discern,\\nIt burneth in the Capelsâ€™ monument.\\n\\nBALTHASAR.\\nIt doth so, holy sir, and thereâ€™s my master,\\nOne that you love.\\n\\nFRIAR LAWRENCE.\\nWho is it?\\n\\nBALTHASAR.\\nRomeo.\\n\\nFRIAR LAWRENCE.\\nHow long hath he been there?\\n\\nBALTHASAR.\\nFull half an hour.\\n\\nFRIAR LAWRENCE.\\nGo with me to the vault.\\n\\nBALTHASAR.\\nI dare not, sir;\\nMy master knows not but I am gone hence,\\nAnd fearfully did menace me with death\\nIf I did stay to look on his intents.\\n\\nFRIAR LAWRENCE.\\nStay then, Iâ€™ll go alone. Fear comes upon me.\\nO, much I fear some ill unlucky thing.\\n\\nBALTHASAR.\\nAs I did sleep under this yew tree here,\\nI dreamt my master and another fought,\\nAnd that my master slew him.\\n\\nFRIAR LAWRENCE.\\nRomeo! [_Advances._]\\nAlack, alack, what blood is this which stains\\nThe stony entrance of this sepulchre?\\nWhat mean these masterless and gory swords\\nTo lie discolourâ€™d by this place of peace?\\n\\n [_Enters the monument._]\\n\\nRomeo! O, pale! Who else? What, Paris too?\\nAnd steepâ€™d in blood? Ah what an unkind hour\\nIs guilty of this lamentable chance?\\nThe lady stirs.\\n\\n [_Juliet wakes and stirs._]\\n\\nJULIET.\\nO comfortable Friar, where is my lord?\\nI do remember well where I should be,\\nAnd there I am. Where is my Romeo?\\n\\n [_Noise within._]\\n\\nFRIAR LAWRENCE.\\nI hear some noise. Lady, come from that nest\\nOf death, contagion, and unnatural sleep.\\nA greater power than we can contradict\\nHath thwarted our intents. Come, come away.\\nThy husband in thy bosom there lies dead;\\nAnd Paris too. Come, Iâ€™ll dispose of thee\\nAmong a sisterhood of holy nuns.\\nStay not to question, for the watch is coming.\\nCome, go, good Juliet. I dare no longer stay.\\n\\nJULIET.\\nGo, get thee hence, for I will not away.\\n\\n [_Exit Friar Lawrence._]\\n\\nWhatâ€™s here? A cup closâ€™d in my true loveâ€™s hand?\\nPoison, I see, hath been his timeless end.\\nO churl. Drink all, and left no friendly drop\\nTo help me after? I will kiss thy lips.\\nHaply some poison yet doth hang on them,\\nTo make me die with a restorative.\\n\\n [_Kisses him._]\\n\\nThy lips are warm!\\n\\nFIRST WATCH.\\n[_Within._] Lead, boy. Which way?\\n\\nJULIET.\\nYea, noise? Then Iâ€™ll be brief. O happy dagger.\\n\\n [_Snatching Romeoâ€™s dagger._]\\n\\nThis is thy sheath. [_stabs herself_] There rest, and let me die.\\n\\n [_Falls on Romeoâ€™s body and dies._]\\n\\n Enter Watch with the Page of Paris.\\n\\nPAGE.\\nThis is the place. There, where the torch doth burn.\\n\\nFIRST WATCH.\\nThe ground is bloody. Search about the churchyard.\\nGo, some of you, whoeâ€™er you find attach.\\n\\n [_Exeunt some of the Watch._]\\n\\nPitiful sight! Here lies the County slain,\\nAnd Juliet bleeding, warm, and newly dead,\\nWho here hath lain this two days buried.\\nGo tell the Prince; run to the Capulets.\\nRaise up the Montagues, some others search.\\n\\n [_Exeunt others of the Watch._]\\n\\nWe see the ground whereon these woes do lie,\\nBut the true ground of all these piteous woes\\nWe cannot without circumstance descry.\\n\\n Re-enter some of the Watch with Balthasar.\\n\\nSECOND WATCH.\\nHereâ€™s Romeoâ€™s man. We found him in the churchyard.\\n\\nFIRST WATCH.\\nHold him in safety till the Prince come hither.\\n\\n Re-enter others of the Watch with Friar Lawrence.\\n\\nTHIRD WATCH. Here is a Friar that trembles, sighs, and weeps.\\nWe took this mattock and this spade from him\\nAs he was coming from this churchyard side.\\n\\nFIRST WATCH.\\nA great suspicion. Stay the Friar too.\\n\\n Enter the Prince and Attendants.\\n\\nPRINCE.\\nWhat misadventure is so early up,\\nThat calls our person from our morningâ€™s rest?\\n\\n Enter Capulet, Lady Capulet and others.\\n\\nCAPULET.\\nWhat should it be that they so shriek abroad?\\n\\nLADY CAPULET.\\nO the people in the street cry Romeo,\\nSome Juliet, and some Paris, and all run\\nWith open outcry toward our monument.\\n\\nPRINCE.\\nWhat fear is this which startles in our ears?\\n\\nFIRST WATCH.\\nSovereign, here lies the County Paris slain,\\nAnd Romeo dead, and Juliet, dead before,\\nWarm and new killâ€™d.\\n\\nPRINCE.\\nSearch, seek, and know how this foul murder comes.\\n\\nFIRST WATCH.\\nHere is a Friar, and slaughterâ€™d Romeoâ€™s man,\\nWith instruments upon them fit to open\\nThese dead menâ€™s tombs.\\n\\nCAPULET.\\nO heaven! O wife, look how our daughter bleeds!\\nThis dagger hath mistaâ€™en, for lo, his house\\nIs empty on the back of Montague,\\nAnd it mis-sheathed in my daughterâ€™s bosom.\\n\\nLADY CAPULET.\\nO me! This sight of death is as a bell\\nThat warns my old age to a sepulchre.\\n\\n Enter Montague and others.\\n\\nPRINCE.\\nCome, Montague, for thou art early up,\\nTo see thy son and heir more early down.\\n\\nMONTAGUE.\\nAlas, my liege, my wife is dead tonight.\\nGrief of my sonâ€™s exile hath stoppâ€™d her breath.\\nWhat further woe conspires against mine age?\\n\\nPRINCE.\\nLook, and thou shalt see.\\n\\nMONTAGUE.\\nO thou untaught! What manners is in this,\\nTo press before thy father to a grave?\\n\\nPRINCE.\\nSeal up the mouth of outrage for a while,\\nTill we can clear these ambiguities,\\nAnd know their spring, their head, their true descent,\\nAnd then will I be general of your woes,\\nAnd lead you even to death. Meantime forbear,\\nAnd let mischance be slave to patience.\\nBring forth the parties of suspicion.\\n\\nFRIAR LAWRENCE.\\nI am the greatest, able to do least,\\nYet most suspected, as the time and place\\nDoth make against me, of this direful murder.\\nAnd here I stand, both to impeach and purge\\nMyself condemned and myself excusâ€™d.\\n\\nPRINCE.\\nThen say at once what thou dost know in this.\\n\\nFRIAR LAWRENCE.\\nI will be brief, for my short date of breath\\nIs not so long as is a tedious tale.\\nRomeo, there dead, was husband to that Juliet,\\nAnd she, there dead, that Romeoâ€™s faithful wife.\\nI married them; and their stolâ€™n marriage day\\nWas Tybaltâ€™s doomsday, whose untimely death\\nBanishâ€™d the new-made bridegroom from this city;\\nFor whom, and not for Tybalt, Juliet pinâ€™d.\\nYou, to remove that siege of grief from her,\\nBetrothâ€™d, and would have married her perforce\\nTo County Paris. Then comes she to me,\\nAnd with wild looks, bid me devise some means\\nTo rid her from this second marriage,\\nOr in my cell there would she kill herself.\\nThen gave I her, so tutored by my art,\\nA sleeping potion, which so took effect\\nAs I intended, for it wrought on her\\nThe form of death. Meantime I writ to Romeo\\nThat he should hither come as this dire night\\nTo help to take her from her borrowâ€™d grave,\\nBeing the time the potionâ€™s force should cease.\\nBut he which bore my letter, Friar John,\\nWas stayâ€™d by accident; and yesternight\\nReturnâ€™d my letter back. Then all alone\\nAt the prefixed hour of her waking\\nCame I to take her from her kindredâ€™s vault,\\nMeaning to keep her closely at my cell\\nTill I conveniently could send to Romeo.\\nBut when I came, some minute ere the time\\nOf her awaking, here untimely lay\\nThe noble Paris and true Romeo dead.\\nShe wakes; and I entreated her come forth\\nAnd bear this work of heaven with patience.\\nBut then a noise did scare me from the tomb;\\nAnd she, too desperate, would not go with me,\\nBut, as it seems, did violence on herself.\\nAll this I know; and to the marriage\\nHer Nurse is privy. And if ought in this\\nMiscarried by my fault, let my old life\\nBe sacrificâ€™d, some hour before his time,\\nUnto the rigour of severest law.\\n\\nPRINCE.\\nWe still have known thee for a holy man.\\nWhereâ€™s Romeoâ€™s man? What can he say to this?\\n\\nBALTHASAR.\\nI brought my master news of Julietâ€™s death,\\nAnd then in post he came from Mantua\\nTo this same place, to this same monument.\\nThis letter he early bid me give his father,\\nAnd threatenâ€™d me with death, going in the vault,\\nIf I departed not, and left him there.\\n\\nPRINCE.\\nGive me the letter, I will look on it.\\nWhere is the Countyâ€™s Page that raisâ€™d the watch?\\nSirrah, what made your master in this place?\\n\\nPAGE.\\nHe came with flowers to strew his ladyâ€™s grave,\\nAnd bid me stand aloof, and so I did.\\nAnon comes one with light to ope the tomb,\\nAnd by and by my master drew on him,\\nAnd then I ran away to call the watch.\\n\\nPRINCE.\\nThis letter doth make good the Friarâ€™s words,\\nTheir course of love, the tidings of her death.\\nAnd here he writes that he did buy a poison\\nOf a poor â€™pothecary, and therewithal\\nCame to this vault to die, and lie with Juliet.\\nWhere be these enemies? Capulet, Montague,\\nSee what a scourge is laid upon your hate,\\nThat heaven finds means to kill your joys with love!\\nAnd I, for winking at your discords too,\\nHave lost a brace of kinsmen. All are punishâ€™d.\\n\\nCAPULET.\\nO brother Montague, give me thy hand.\\nThis is my daughterâ€™s jointure, for no more\\nCan I demand.\\n\\nMONTAGUE.\\nBut I can give thee more,\\nFor I will raise her statue in pure gold,\\nThat whiles Verona by that name is known,\\nThere shall no figure at such rate be set\\nAs that of true and faithful Juliet.\\n\\nCAPULET.\\nAs rich shall Romeoâ€™s by his ladyâ€™s lie,\\nPoor sacrifices of our enmity.\\n\\nPRINCE.\\nA glooming peace this morning with it brings;\\nThe sun for sorrow will not show his head.\\nGo hence, to have more talk of these sad things.\\nSome shall be pardonâ€™d, and some punished,\\nFor never was a story of more woe\\nThan this of Juliet and her Romeo.\\n\\n '"
      ]
     },
     "execution_count": 144,
     "metadata": {},
     "output_type": "execute_result"
    }
   ],
   "source": [
    "text"
   ]
  },
  {
   "cell_type": "markdown",
   "metadata": {},
   "source": [
    "- We load the mask image that specifies the word cloud's shape\n",
    "- The WordCloud fills non-white areas of a mask image with the text\n",
    "- We load the mask image using the imread function from the imageio module found in Anaconda"
   ]
  },
  {
   "cell_type": "code",
   "execution_count": 145,
   "metadata": {},
   "outputs": [],
   "source": [
    "import imageio "
   ]
  },
  {
   "cell_type": "code",
   "execution_count": 146,
   "metadata": {},
   "outputs": [],
   "source": [
    "mask_image = imageio.imread('mask_heart.jpg')"
   ]
  },
  {
   "cell_type": "markdown",
   "metadata": {},
   "source": [
    "# Configuring the WordCloud object\n",
    "- 400 pixels by 200 pixels - default image size\n",
    "- Color used is assigned randomly from the color map by Matplotlib"
   ]
  },
  {
   "cell_type": "code",
   "execution_count": 147,
   "metadata": {},
   "outputs": [],
   "source": [
    "from wordcloud import WordCloud"
   ]
  },
  {
   "cell_type": "code",
   "execution_count": 148,
   "metadata": {},
   "outputs": [],
   "source": [
    "wordcloud = WordCloud(width=1000, height=1000, colormap='prism', mask=mask_image, background_color='white')"
   ]
  },
  {
   "cell_type": "markdown",
   "metadata": {},
   "source": [
    "- WordCloud has a method called generate() which receives the text to use in the word cloud as an argument and creates the world cloud"
   ]
  },
  {
   "cell_type": "code",
   "execution_count": 149,
   "metadata": {},
   "outputs": [],
   "source": [
    "wordcloud = wordcloud.generate(text)"
   ]
  },
  {
   "cell_type": "markdown",
   "metadata": {},
   "source": [
    "- Removes the stop words from the text argument using the in-built stopwords list\n",
    "- Calculates the word frequencies for the remaining words\n",
    "- Builds the cloud with maximum 200 by default - max_words"
   ]
  },
  {
   "cell_type": "code",
   "execution_count": 150,
   "metadata": {},
   "outputs": [],
   "source": [
    "# saving the image\n",
    "\n",
    "wordcloud = wordcloud.to_file('RomeoAndJulietHeart.jpg')"
   ]
  },
  {
   "cell_type": "markdown",
   "metadata": {},
   "source": [
    "# Generating a word cloud from a dict\n",
    "- If you have a WordCloud's fit_words method to create a word cloud from it\n",
    "- It does not remove the stop words from the dict"
   ]
  },
  {
   "cell_type": "code",
   "execution_count": 151,
   "metadata": {},
   "outputs": [],
   "source": [
    "%matplotlib inline"
   ]
  },
  {
   "cell_type": "code",
   "execution_count": 152,
   "metadata": {},
   "outputs": [],
   "source": [
    "import matplotlib.pyplot as plt"
   ]
  },
  {
   "cell_type": "code",
   "execution_count": 153,
   "metadata": {},
   "outputs": [
    {
     "data": {
      "text/plain": [
       "<matplotlib.image.AxesImage at 0x1ea4d8104a8>"
      ]
     },
     "execution_count": 153,
     "metadata": {},
     "output_type": "execute_result"
    },
    {
     "data": {
      "image/png": "[encoded data removed]",
      "text/plain": [
       "<Figure size 432x288 with 1 Axes>"
      ]
     },
     "metadata": {
      "needs_background": "light"
     },
     "output_type": "display_data"
    }
   ],
   "source": [
    "plt.imshow(wordcloud)"
   ]
  },
  {
   "cell_type": "markdown",
   "metadata": {},
   "source": [
    "# WordCloud on Twitter"
   ]
  },
  {
   "cell_type": "code",
   "execution_count": 154,
   "metadata": {},
   "outputs": [],
   "source": [
    "import tweepy"
   ]
  },
  {
   "cell_type": "code",
   "execution_count": 155,
   "metadata": {},
   "outputs": [],
   "source": [
    "import keys"
   ]
  },
  {
   "cell_type": "code",
   "execution_count": 156,
   "metadata": {},
   "outputs": [],
   "source": [
    "auth = tweepy.OAuthHandler(keys.consumer_key, keys.consumer_secret)"
   ]
  },
  {
   "cell_type": "code",
   "execution_count": 157,
   "metadata": {},
   "outputs": [],
   "source": [
    "auth.set_access_token(keys.access_token, keys.access_token_secret)"
   ]
  },
  {
   "cell_type": "code",
   "execution_count": 158,
   "metadata": {},
   "outputs": [],
   "source": [
    "api = tweepy.API(auth, wait_on_rate_limit=True, wait_on_rate_limit_notify=True)"
   ]
  },
  {
   "cell_type": "code",
   "execution_count": 159,
   "metadata": {},
   "outputs": [],
   "source": [
    "nasa = api.get_user('nasa')"
   ]
  },
  {
   "cell_type": "code",
   "execution_count": 160,
   "metadata": {},
   "outputs": [
    {
     "data": {
      "text/plain": [
       "'RT @NASAKennedy: Launch Update 🚀 @NASA and @SpaceX are now targeting Sunday, Dec. 6 at 11:17 a.m. ET for the 21st Commercial Resupply Servi…'"
      ]
     },
     "execution_count": 160,
     "metadata": {},
     "output_type": "execute_result"
    }
   ],
   "source": [
    "nasa.status.text"
   ]
  },
  {
   "cell_type": "code",
   "execution_count": 161,
   "metadata": {},
   "outputs": [
    {
     "data": {
      "text/plain": [
       "42316954"
      ]
     },
     "execution_count": 161,
     "metadata": {},
     "output_type": "execute_result"
    }
   ],
   "source": [
    "nasa.followers_count"
   ]
  },
  {
   "cell_type": "code",
   "execution_count": 162,
   "metadata": {},
   "outputs": [
    {
     "data": {
      "text/plain": [
       "209"
      ]
     },
     "execution_count": 162,
     "metadata": {},
     "output_type": "execute_result"
    }
   ],
   "source": [
    "nasa.friends_count"
   ]
  },
  {
   "cell_type": "markdown",
   "metadata": {},
   "source": [
    "# Tweepy `Cursors`: Getting an Account Followers and Friends\n",
    "- Twitter API methods often will return a collection of objects:\n",
    "    - Tweets in your Twitter timelines\n",
    "    - Another account timeline\n",
    "    - Timelines for tweets sent by a user and by the user's friends\n",
    "- Max items to be returned - page of results\n",
    "- JSON - more pages to get - Cursor handles the paging issue\n",
    "- Invokes a method and checks if there is another page of results\n",
    "- API object is configured to wait on rate limits"
   ]
  },
  {
   "cell_type": "markdown",
   "metadata": {},
   "source": [
    "# Determining an Account's Followers\n",
    "- Followers method call Twitter's followers/list method - 20 by default up to 200\n",
    "- Grab 10 followers of NASA"
   ]
  },
  {
   "cell_type": "code",
   "execution_count": 163,
   "metadata": {},
   "outputs": [],
   "source": [
    "# create a cursor\n",
    "\n",
    "followers=[]"
   ]
  },
  {
   "cell_type": "code",
   "execution_count": 164,
   "metadata": {},
   "outputs": [],
   "source": [
    "cursor = tweepy.Cursor(api.followers, screen_name='nasa')"
   ]
  },
  {
   "cell_type": "code",
   "execution_count": 165,
   "metadata": {},
   "outputs": [
    {
     "data": {
      "text/plain": [
       "<tweepy.cursor.Cursor at 0x1ea4d800080>"
      ]
     },
     "execution_count": 165,
     "metadata": {},
     "output_type": "execute_result"
    }
   ],
   "source": [
    "cursor"
   ]
  },
  {
   "cell_type": "code",
   "execution_count": 166,
   "metadata": {},
   "outputs": [],
   "source": [
    "for account in cursor.items(20):\n",
    "    followers.append(account.screen_name)"
   ]
  },
  {
   "cell_type": "code",
   "execution_count": 167,
   "metadata": {},
   "outputs": [
    {
     "name": "stdout",
     "output_type": "stream",
     "text": [
      "Followers:  Black79419513 CalasHector CTrikka DaveSav88827610 DeepakM87179961 DeniSupandi13 DerekDuvall15 GaboYaez3 GaurMehull GrafVrinda kdVB4eNHs64VnZZ kvcsadrnnnkltt leonavsot Mandeep05330340 NurMoha87999354 Nusayba81823830 pritpal31095802 Ria99656114 Sachinj96478975 Tatiana00663495\n"
     ]
    }
   ],
   "source": [
    "print('Followers: ', ' '.join(sorted(followers, key=lambda s: s.lower())))"
   ]
  },
  {
   "cell_type": "markdown",
   "metadata": {},
   "source": [
    "We can only get information about a few followers cause of the rate limit. "
   ]
  },
  {
   "cell_type": "markdown",
   "metadata": {},
   "source": [
    "# Automatic Paging\n",
    "- To get upto 200 followers at a time, create the cursor with the `count` keyword argument\n",
    "- The below takes some time"
   ]
  },
  {
   "cell_type": "code",
   "execution_count": 168,
   "metadata": {},
   "outputs": [],
   "source": [
    "cursor = tweepy.Cursor(api.followers, screen_name='nasa', count=200)"
   ]
  },
  {
   "cell_type": "markdown",
   "metadata": {},
   "source": [
    "# Determining whom an Account follows\n",
    "- The API `friends` method: \n",
    "    - calls the Twitter's friends/list method\n",
    "    - user objects\n",
    "- 20 by default - 200 at a time\n",
    "- 15 times every 15 minutes"
   ]
  },
  {
   "cell_type": "code",
   "execution_count": 169,
   "metadata": {},
   "outputs": [],
   "source": [
    "friends = []"
   ]
  },
  {
   "cell_type": "code",
   "execution_count": 170,
   "metadata": {},
   "outputs": [],
   "source": [
    "cursor = tweepy.Cursor(api.friends, screen_name='nasa')"
   ]
  },
  {
   "cell_type": "code",
   "execution_count": 171,
   "metadata": {},
   "outputs": [],
   "source": [
    "for friend in cursor.items(10):\n",
    "    friends.append(friend.screen_name)"
   ]
  },
  {
   "cell_type": "code",
   "execution_count": 172,
   "metadata": {},
   "outputs": [
    {
     "name": "stdout",
     "output_type": "stream",
     "text": [
      "Friends:  Astro_Megan Astro_SEAL dominickmatthew DoNASAScience KathyLueders MarkKirasich NASA_Marshall NASAPersevere NASARoman uaespaceagency\n"
     ]
    }
   ],
   "source": [
    "print('Friends: ', ' '.join(sorted(friends, key=lambda s: s.lower())))"
   ]
  },
  {
   "cell_type": "markdown",
   "metadata": {},
   "source": [
    "# Getting a User's recent Recent Tweets\n",
    "- API object `user_timeline` gets tweets from an account and account's friends\n",
    "- it calls the status/user_timeline method\n",
    "- It returns up to 20 tweets as Status object - 200\n",
    "- 3200 most recent tweets\n",
    "- 1500 times every 15 minutes"
   ]
  },
  {
   "cell_type": "code",
   "execution_count": 173,
   "metadata": {},
   "outputs": [],
   "source": [
    "nasa_tweets = api.user_timeline(screen_name='nasa', count=3)"
   ]
  },
  {
   "cell_type": "code",
   "execution_count": 174,
   "metadata": {},
   "outputs": [
    {
     "name": "stdout",
     "output_type": "stream",
     "text": [
      "NASA: RT @NASAKennedy: Launch Update 🚀 @NASA and @SpaceX are now targeting Sunday, Dec. 6 at 11:17 a.m. ET for the 21st Commercial Resupply Servi…\n",
      "\n",
      "NASA: 🚀 The @SpaceX resupply mission launching Sat., Dec. 5 will make history for many firsts, including the first time 2… https://t.co/V7aoqiUzqs\n",
      "\n",
      "NASA: Project Scientist Bob Pappalardo of @NASAJPL discusses our upcoming @EuropaClipper mission as well as the possibili… https://t.co/f4f1T57vjh\n",
      "\n"
     ]
    }
   ],
   "source": [
    "for tweet in nasa_tweets:\n",
    "    print(f'{tweet.user.screen_name}: {tweet.text}\\n')"
   ]
  },
  {
   "cell_type": "code",
   "execution_count": 175,
   "metadata": {},
   "outputs": [
    {
     "data": {
      "text/plain": [
       "[]"
      ]
     },
     "execution_count": 175,
     "metadata": {},
     "output_type": "execute_result"
    }
   ],
   "source": [
    "api.home_timeline()"
   ]
  },
  {
   "cell_type": "markdown",
   "metadata": {},
   "source": [
    "# Searching Recent Tweets\n",
    "- Via API method `search` - it matches query string\n",
    "- Returns previous 7 days tweets\n",
    "- Doesn't guarantee return all matching tweets\n",
    "- Returns 15 tweets at a time by default and go upto 100"
   ]
  },
  {
   "cell_type": "code",
   "execution_count": 176,
   "metadata": {},
   "outputs": [],
   "source": [
    "from textblob import TextBlob"
   ]
  },
  {
   "cell_type": "code",
   "execution_count": 177,
   "metadata": {},
   "outputs": [],
   "source": [
    "def print_tweets(tweets):\n",
    "    \"\"\"For each Tweepy Status object in tweets, display the user's screen_name and tweet text.\n",
    "    If the language is not English, translate text with TextBlob.\"\"\"\n",
    "    for tweet in tweets:\n",
    "        print(f'{tweet.user.screen_name}:', end=' ')\n",
    "        if 'en' in tweet.lang:\n",
    "            print(f'{tweet.text}\\n')\n",
    "        elif 'und' not in tweet.lang:\n",
    "            print(f'\\n ORIGINAL: {tweet.text}')\n",
    "            print(f'TRANSLATED: {TextBlob(tweet.text).translate()}\\n')"
   ]
  },
  {
   "cell_type": "code",
   "execution_count": 178,
   "metadata": {},
   "outputs": [],
   "source": [
    "tweets = api.search(q='Mars Rover', count=6)"
   ]
  },
  {
   "cell_type": "code",
   "execution_count": 179,
   "metadata": {},
   "outputs": [
    {
     "name": "stdout",
     "output_type": "stream",
     "text": [
      "JorgePlaGarcia: \n",
      " ORIGINAL: RT @anajuliabanlei: El pequeño rover Sojourner descendió de la Mars Pathfinder, renombrada Carl Sagan Memorial Station, en honor del astrón…\n",
      "TRANSLATED: RT @anajuliabanlei: The small rover Sojourner descended from the Mars Pathfinder, renamed Carl Sagan Memorial Station, in honor of the astronomer ...\n",
      "\n",
      "amboy00: RT @oldmanebro: He is an engineer.\n",
      "He invented the hydraulic resonance suppressor tube on Boeing 747 airplanes .... and developed sundials…\n",
      "\n",
      "Ikkeebattle: Mars rover.  Did not know it was this big. #space #marsrover #spacex https://t.co/xtwpzDeYWx\n",
      "\n",
      "RDJnotRobDownJr: @Bret_Sears He invented the hydraulic resonance suppressor tube on Boeing 747 airplanes and developed sundials for… https://t.co/lVyeOMW8e3\n",
      "\n",
      "marsboy: Curiosity Mars Rover: Marching Forward\n",
      "\n",
      "https://t.co/bXNG5EwzW3 https://t.co/xbUmsZizZH\n",
      "\n",
      "TooAuthentic: RT @oldmanebro: He is an engineer.\n",
      "He invented the hydraulic resonance suppressor tube on Boeing 747 airplanes .... and developed sundials…\n",
      "\n"
     ]
    }
   ],
   "source": [
    "print_tweets(tweets)"
   ]
  },
  {
   "cell_type": "code",
   "execution_count": 180,
   "metadata": {},
   "outputs": [],
   "source": [
    "tweets = api.search(q='die mannschaft', count=10)"
   ]
  },
  {
   "cell_type": "code",
   "execution_count": 181,
   "metadata": {},
   "outputs": [
    {
     "name": "stdout",
     "output_type": "stream",
     "text": [
      "HSV: \n",
      " ORIGINAL: 🎙 | 2️⃣ Weiter führt der Coach aus: „Es tut mir sehr leid für die Mannschaft, dass sie sich nicht mit dem Ausgleich… https://t.co/bY1yQ8kbqU\n",
      "TRANSLATED: 🎙 | 2️⃣ The coach continues: “I am very sorry for the team that they did not come to terms with the equalization… https://t.co/bY1yQ8kbqU\n",
      "\n",
      "Saboruffy11: \n",
      " ORIGINAL: @Jan1900FCB @Mo_1893 @GamerBr0ski kommt auf auslosung an. z.b. tottenham war nie die 2. beste mannschaft in europa.… https://t.co/YTqaAQUL8I\n",
      "TRANSLATED: @ Jan1900FCB @ Mo_1893 @ GamerBr0ski depends on the draw. e.g. tottenham was never the 2nd best team in europe.… https://t.co/YTqaAQUL8I\n",
      "\n",
      "OnkelFester93: \n",
      " ORIGINAL: Selten hat mir ein 0:0 die Pulsader dermaßen anschwillen lassen. Egal ob es die eigene Mannschaft war, der Schiedsr… https://t.co/cyNI6XTMI5\n",
      "TRANSLATED: Seldom has a 0-0 draw swollen my wrists so much. Regardless of whether it was your own team, the referee ... https://t.co/cyNI6XTMI5\n",
      "\n",
      "Senfrock: \n",
      " ORIGINAL: Ich verstehe Dortmunds „Pressing-Konzept“ nicht, oder es ist nicht vorhanden. Da gibt es immer mal „Individual-Pres… https://t.co/Dwbf7Q8bLF\n",
      "TRANSLATED: I don't understand Dortmund's “pressing concept” or it doesn't exist. There is always “Individual Pres… https://t.co/Dwbf7Q8bLF\n",
      "\n",
      "Pa1n09: \n",
      " ORIGINAL: @KLDZTM Die Mannschaft vom besten Trainer der Welt hatte in Frankfurt genau eine Torchance.\n",
      "TRANSLATED: @KLDZTM The team of the best coach in the world had exactly one chance to score in Frankfurt.\n",
      "\n",
      "NiciZero: \n",
      " ORIGINAL: @ShuKzNorris @iTz_IKEV_Xz @MFaimz Finde es einfach sehr lächerlich zu sagen Jo ohne Haaland ist die Mannschaft nur Durchschnittlich\n",
      "TRANSLATED: @ShuKzNorris @iTz_IKEV_Xz @MFaimz Just find it very ridiculous to say Jo without Haaland the team is just average\n",
      "\n",
      "ShuKzNorris: \n",
      " ORIGINAL: @iTz_IKEV_Xz @NiciZero @MFaimz Ja ohne Lewa ist Bayern auch krass aber halt net DIE beste Mannschaft der Welt imo\n",
      "TRANSLATED: @iTz_IKEV_Xz @NiciZero @MFaimz Yes, without Lewa, Bavaria is also awesome but the best team in the world imo\n",
      "\n",
      "SchnaitmannT: \n",
      " ORIGINAL: @luca_fcb Als Fan kann man sich über den Sieg freuen, aber als offizieller Account von Hannover hätte ich es besser… https://t.co/y3wgUJyEJr\n",
      "TRANSLATED: @luca_fcb As a fan you can be happy about the victory, but as an official Hanover account I would have it better ... https://t.co/y3wgUJyEJr\n",
      "\n",
      "NiciZero: \n",
      " ORIGINAL: @dieserkingphil @MFaimz Klar brauchst du einen der Tore macht aber zu sagen das die Mannschaft von Haaland zur durc… https://t.co/i3mJkyNkBO\n",
      "TRANSLATED: @dieserkingphil @MFaimz Sure you need one of the goals but to say that the Haaland team to durc… https://t.co/i3mJkyNkBO\n",
      "\n",
      "hashtagbetze: \n",
      " ORIGINAL: RT @simonju94: Zufrieden bin ich nicht, aber Respekt an die Mannschaft, SO zurückzukommen! #Betze\n",
      "TRANSLATED: RT @ simonju94: I'm not satisfied, but respect to the team, SO come back! #Betze\n",
      "\n"
     ]
    }
   ],
   "source": [
    "print_tweets(tweets)"
   ]
  },
  {
   "cell_type": "code",
   "execution_count": 182,
   "metadata": {},
   "outputs": [],
   "source": [
    "tweets_specific_search=api.search(q='from:nasa since:2020-11-13', count =15)"
   ]
  },
  {
   "cell_type": "code",
   "execution_count": 183,
   "metadata": {},
   "outputs": [
    {
     "name": "stdout",
     "output_type": "stream",
     "text": [
      "NASA: RT @NASAKennedy: Launch Update 🚀 @NASA and @SpaceX are now targeting Sunday, Dec. 6 at 11:17 a.m. ET for the 21st Commercial Resupply Servi…\n",
      "\n",
      "NASA: 🚀 The @SpaceX resupply mission launching Sat., Dec. 5 will make history for many firsts, including the first time 2… https://t.co/V7aoqiUzqs\n",
      "\n",
      "NASA: Project Scientist Bob Pappalardo of @NASAJPL discusses our upcoming @EuropaClipper mission as well as the possibili… https://t.co/f4f1T57vjh\n",
      "\n",
      "NASA: What investigations &amp; science activities will be part of #Artemis III, which will land @NASA_Astronauts on the luna… https://t.co/vjcwA4vl8u\n",
      "\n",
      "NASA: ☁️ Weather is 50% GO for launch tomorrow. \n",
      "\n",
      "Melody Lovin, launch weather officer for the @45thSpaceWing describes i… https://t.co/y9qDzGf2L9\n",
      "\n",
      "NASA: 🛰️ Stays on @Space_Station for 75 days \n",
      "🧪Double the amount of powered cargo (good for life sciences) \n",
      "✔️Certified f… https://t.co/pRwrMf61fO\n",
      "\n",
      "NASA: ❓ Fun fact: If the weather holds on Saturday, this will be the third year in a row that @SpaceX launches a commerci… https://t.co/BQ42U57hbT\n",
      "\n",
      "NASA: 🤔 Wondering what’s flying on board the upgraded Cargo Dragon? \n",
      "\n",
      "Take a behind-the-scenes look at how some of our re… https://t.co/sA3qP7O0jX\n",
      "\n",
      "NASA: “The @Space_Station is receiving its first  @SpaceX upgraded Cargo 2 vehicle.” \n",
      "\n",
      "\n",
      "\n",
      "Learn about out all the new capa… https://t.co/JvsGFzpY73\n",
      "\n",
      "NASA: “It’s the first time we will have a couple of Dragons on board – a Crew Dragon and a Cargo Dragon.” \n",
      "\n",
      "\n",
      "\n",
      "Hear about… https://t.co/4I1u9GNbjW\n",
      "\n",
      "NASA: 🔴LIVE FROM @NASAKennedy: Experts discuss tomorrow’s @SpaceX resupply mission to the @Space_Station – the first laun… https://t.co/zF2H3RMY8v\n",
      "\n",
      "NASA: ⏳ In 30 minutes, experts will preview tomorrow’s SpaceX resupply mission set to send ~6,400 pounds of cargo to the… https://t.co/tBWzIM7t0V\n",
      "\n",
      "NASA: 🔥 Engine tests continue for our @NASA_SLS rocket, with systems powering up in a rehearsal of the final stage: a hot… https://t.co/BPEizqZenP\n",
      "\n",
      "NASA: RT @JimBridenstine: NEWS: @NASA teams at @NASAStennis have given the “go” to start the seventh test of the Green Run test series. During we…\n",
      "\n",
      "NASA: RT @NASAKennedy: ✔️ The launch readiness review for the 21st Commercial Resupply Services mission to the @Space_Station has concluded!\n",
      "\n",
      "@NA…\n",
      "\n"
     ]
    }
   ],
   "source": [
    "print_tweets(tweets_specific_search)"
   ]
  },
  {
   "cell_type": "markdown",
   "metadata": {},
   "source": [
    "# Searching for Hashtags (#)\n",
    "- Hashtags indicated by `#` indicates an important or trending topic"
   ]
  },
  {
   "cell_type": "code",
   "execution_count": 184,
   "metadata": {},
   "outputs": [],
   "source": [
    "tweet_hashtag=api.search(q = '#mpigs', count=5)"
   ]
  },
  {
   "cell_type": "code",
   "execution_count": 185,
   "metadata": {},
   "outputs": [
    {
     "name": "stdout",
     "output_type": "stream",
     "text": [
      "itsWanzalaPeter: RT @comradefyat: See beyond your imagination with  good Hi-Tech Screen TV DM @merakielec_ke for price and more info. Call/ WhatsApp 0768855…\n",
      "\n",
      "Allkeyan: \n",
      " ORIGINAL: Na hii njaa yote, kwani Kenya tumefika mahali ya kulipa 640 #mpigs  na #senators #EpukaBBI\n",
      "TRANSLATED: And all this hunger, as in Kenya we have come to the point of paying 640 #mpigs and #senators #EpukaBBI\n",
      "\n",
      "nathanrobe: @robinnjogu @TreasuryKe @BaloziYatani one day, I hope those #MPigs will come out and confess of their misdeeds like… https://t.co/PVd4b3xAzU\n",
      "\n",
      "xyzshow: RT @EvelyneWambui: XYZ, am I seeing pigs?..... #Mpigs... Help ourselves LOL!  Good one @ntvkenya @xyzshow\n",
      "\n",
      "EvelyneWambui: XYZ, am I seeing pigs?..... #Mpigs... Help ourselves LOL!  Good one @ntvkenya @xyzshow\n",
      "\n"
     ]
    }
   ],
   "source": [
    "print_tweets(tweet_hashtag)"
   ]
  },
  {
   "cell_type": "markdown",
   "metadata": {},
   "source": [
    "# Spotting Trends with Twitter Trends API\n",
    "- Issues that go viral\n",
    "- Maintains a list of trending topics worldwide\n",
    "- Twitter Trends API returns a list of trending topic loctions and the top 50 trending topics"
   ]
  },
  {
   "cell_type": "code",
   "execution_count": 186,
   "metadata": {},
   "outputs": [],
   "source": [
    "# Places with Trending Topics"
   ]
  },
  {
   "cell_type": "code",
   "execution_count": 187,
   "metadata": {},
   "outputs": [],
   "source": [
    "trends_available = api.trends_available()"
   ]
  },
  {
   "cell_type": "code",
   "execution_count": 188,
   "metadata": {},
   "outputs": [
    {
     "data": {
      "text/plain": [
       "467"
      ]
     },
     "execution_count": 188,
     "metadata": {},
     "output_type": "execute_result"
    }
   ],
   "source": [
    "len(trends_available)"
   ]
  },
  {
   "cell_type": "code",
   "execution_count": 189,
   "metadata": {},
   "outputs": [
    {
     "data": {
      "text/plain": [
       "{'name': 'Swansea',\n",
       " 'placeType': {'code': 7, 'name': 'Town'},\n",
       " 'url': 'http://where.yahooapis.com/v1/place/36758',\n",
       " 'parentid': 23424975,\n",
       " 'country': 'United Kingdom',\n",
       " 'woeid': 36758,\n",
       " 'countryCode': 'GB'}"
      ]
     },
     "execution_count": 189,
     "metadata": {},
     "output_type": "execute_result"
    }
   ],
   "source": [
    "trends_available[32]"
   ]
  },
  {
   "cell_type": "code",
   "execution_count": 190,
   "metadata": {},
   "outputs": [],
   "source": [
    "# Getting a list of trending topics"
   ]
  },
  {
   "cell_type": "code",
   "execution_count": 191,
   "metadata": {},
   "outputs": [],
   "source": [
    "world_trends = api.trends_place(id=1)"
   ]
  },
  {
   "cell_type": "code",
   "execution_count": 192,
   "metadata": {},
   "outputs": [],
   "source": [
    "trends_list = world_trends[0] ['trends']"
   ]
  },
  {
   "cell_type": "code",
   "execution_count": 193,
   "metadata": {},
   "outputs": [
    {
     "data": {
      "text/plain": [
       "{'name': '#BTSxMMA',\n",
       " 'url': 'http://twitter.com/search?q=%23BTSxMMA',\n",
       " 'promoted_content': None,\n",
       " 'query': '%23BTSxMMA',\n",
       " 'tweet_volume': 332838}"
      ]
     },
     "execution_count": 193,
     "metadata": {},
     "output_type": "execute_result"
    }
   ],
   "source": [
    "trends_list[0]"
   ]
  },
  {
   "cell_type": "markdown",
   "metadata": {},
   "source": [
    "# Getting today's worldwide Trending Topics\n",
    "- For trends with more than 10,000 tweets, the tweet_volume is the number of tweets;  otherwise it's none\n",
    "- Filter the list so that it contains only trends with more than 10,000 tweets"
   ]
  },
  {
   "cell_type": "code",
   "execution_count": 194,
   "metadata": {},
   "outputs": [],
   "source": [
    "trends_list = [t for t in trends_list if t['tweet_volume']]"
   ]
  },
  {
   "cell_type": "code",
   "execution_count": 195,
   "metadata": {},
   "outputs": [],
   "source": [
    "# sort the trends in descending order by use of tweet_volume"
   ]
  },
  {
   "cell_type": "code",
   "execution_count": 196,
   "metadata": {},
   "outputs": [],
   "source": [
    "from operator import itemgetter"
   ]
  },
  {
   "cell_type": "code",
   "execution_count": 197,
   "metadata": {},
   "outputs": [],
   "source": [
    "trends_list.sort(key=itemgetter('tweet_volume'), reverse=True)"
   ]
  },
  {
   "cell_type": "code",
   "execution_count": 198,
   "metadata": {},
   "outputs": [
    {
     "name": "stdout",
     "output_type": "stream",
     "text": [
      "#MMA2020\n",
      "artist of the year\n",
      "Black Swan\n",
      "song of the year\n",
      "#JIMIM\n",
      "#BTSxMMA\n",
      "Bangtan\n",
      "hoseok\n",
      "jikook\n",
      "#nhkらじらー\n"
     ]
    }
   ],
   "source": [
    "for trend in trends_list[:10]:\n",
    "    print(trend['name'])"
   ]
  },
  {
   "cell_type": "markdown",
   "metadata": {},
   "source": [
    "# Trending Topics (WOEID=23424863)"
   ]
  },
  {
   "cell_type": "code",
   "execution_count": 199,
   "metadata": {},
   "outputs": [],
   "source": [
    "kenya_trends = api.trends_place(id=23424863) # Kenya WOEID"
   ]
  },
  {
   "cell_type": "code",
   "execution_count": 200,
   "metadata": {},
   "outputs": [],
   "source": [
    "kenya_list = kenya_trends[0] ['trends']"
   ]
  },
  {
   "cell_type": "code",
   "execution_count": 201,
   "metadata": {},
   "outputs": [],
   "source": [
    "kenya_list = [t for t in kenya_list if t['tweet_volume']]"
   ]
  },
  {
   "cell_type": "code",
   "execution_count": 202,
   "metadata": {},
   "outputs": [],
   "source": [
    "kenya_list.sort(key=itemgetter('tweet_volume'), reverse=True)"
   ]
  },
  {
   "cell_type": "code",
   "execution_count": 203,
   "metadata": {
    "scrolled": true
   },
   "outputs": [
    {
     "name": "stdout",
     "output_type": "stream",
     "text": [
      "Google\n",
      "King\n",
      "Paper\n",
      "Study\n",
      "Premium\n",
      "Israel\n",
      "Chelsea\n",
      "Liverpool\n",
      "Messi\n",
      "Arsenal\n"
     ]
    }
   ],
   "source": [
    "for trend in kenya_list[:10]:\n",
    "    print(trend['name'])"
   ]
  },
  {
   "cell_type": "markdown",
   "metadata": {},
   "source": [
    "# Create a WordCloud for Trending Topics\n",
    "- Visualize Kenya's trending topics with more than 10,000 tweets each"
   ]
  },
  {
   "cell_type": "code",
   "execution_count": 204,
   "metadata": {},
   "outputs": [],
   "source": [
    "topics = {} # dict to store trend names and volume"
   ]
  },
  {
   "cell_type": "code",
   "execution_count": 205,
   "metadata": {},
   "outputs": [],
   "source": [
    "for trend in kenya_list:\n",
    "    topics[trend['name']] = trend['tweet_volume']"
   ]
  },
  {
   "cell_type": "code",
   "execution_count": 206,
   "metadata": {},
   "outputs": [
    {
     "data": {
      "text/plain": [
       "{'Google': 543205,\n",
       " 'King': 480627,\n",
       " 'Paper': 187473,\n",
       " 'Study': 127818,\n",
       " 'Premium': 106701,\n",
       " 'Israel': 64941,\n",
       " 'Chelsea': 56142,\n",
       " 'Liverpool': 51518,\n",
       " 'Messi': 49661,\n",
       " 'Arsenal': 45288,\n",
       " 'Somalia': 39035,\n",
       " 'Leeds': 33936,\n",
       " 'Mr. President': 31771,\n",
       " 'Everton': 31482,\n",
       " 'Ghana': 29952,\n",
       " 'Premier League': 26956,\n",
       " 'Kane': 23462,\n",
       " 'CCTV': 22717,\n",
       " 'Ethiopia': 22461,\n",
       " 'Check DM': 19696,\n",
       " 'Manchester United': 14817,\n",
       " 'Westham': 13896,\n",
       " 'Burnley': 13756,\n",
       " 'Christianity': 12683,\n",
       " 'Bishop': 12502,\n",
       " 'Werner': 12267,\n",
       " 'Tottenham': 11770}"
      ]
     },
     "execution_count": 206,
     "metadata": {},
     "output_type": "execute_result"
    }
   ],
   "source": [
    "topics"
   ]
  },
  {
   "cell_type": "code",
   "execution_count": 207,
   "metadata": {},
   "outputs": [],
   "source": [
    "from wordcloud import WordCloud"
   ]
  },
  {
   "cell_type": "code",
   "execution_count": 208,
   "metadata": {},
   "outputs": [],
   "source": [
    "wordcloud = WordCloud(width=1600, height=900, prefer_horizontal=0.5, min_font_size=10, colormap='prism', background_color='white')"
   ]
  },
  {
   "cell_type": "code",
   "execution_count": 209,
   "metadata": {},
   "outputs": [],
   "source": [
    "wordcloud = wordcloud.fit_words(topics)"
   ]
  },
  {
   "cell_type": "code",
   "execution_count": 210,
   "metadata": {},
   "outputs": [],
   "source": [
    "wordcloud = wordcloud.to_file('TrendingTwitter.png')"
   ]
  },
  {
   "cell_type": "code",
   "execution_count": 211,
   "metadata": {},
   "outputs": [],
   "source": [
    "%matplotlib inline"
   ]
  },
  {
   "cell_type": "code",
   "execution_count": 212,
   "metadata": {},
   "outputs": [],
   "source": [
    "import matplotlib.pyplot as plt"
   ]
  },
  {
   "cell_type": "code",
   "execution_count": 213,
   "metadata": {},
   "outputs": [
    {
     "data": {
      "text/plain": [
       "<matplotlib.image.AxesImage at 0x1ea4d4d17b8>"
      ]
     },
     "execution_count": 213,
     "metadata": {},
     "output_type": "execute_result"
    },
    {
     "data": {
      "image/png": "[encoded data removed]",
      "text/plain": [
       "<Figure size 432x288 with 1 Axes>"
      ]
     },
     "metadata": {
      "needs_background": "light"
     },
     "output_type": "display_data"
    }
   ],
   "source": [
    "plt.imshow(wordcloud)"
   ]
  },
  {
   "cell_type": "markdown",
   "metadata": {},
   "source": [
    "# Cleaning/Preprocessing Tweets for Analysis\n",
    "- Data Cleaning is one of the common tasks in machine learning, particularly for data science\n",
    "- Some NLP tasks for normalizing tweets\n",
    "    - All text to same case\n",
    "    - Remove hashtags, @mentions, duplicate hashtags, excessive white spaces, punctuation, stop words, URLs, RT, FAV\n",
    "    - Perform stemming and lemmatization\n",
    "    - Tokenization - Turning information into meaningless string of characters \n",
    "\n",
    "\n",
    "    "
   ]
  },
  {
   "cell_type": "markdown",
   "metadata": {},
   "source": [
    "# tweet_preprocessor \n",
    "- Library and TextBlob Utility Functions \n",
    "- URL, emojis(smileys)\n",
    "- Numbers"
   ]
  },
  {
   "cell_type": "code",
   "execution_count": 214,
   "metadata": {},
   "outputs": [],
   "source": [
    "import preprocessor as p"
   ]
  },
  {
   "cell_type": "markdown",
   "metadata": {},
   "source": [
    "- You can remove: \n",
    "    - OPT.MENTION @NASA\n",
    "    - OPT.EMOJI\n",
    "    - OPT.HASHTAG\n",
    "    - OPT.URL\n",
    "    - OPT.SMILEY"
   ]
  },
  {
   "cell_type": "code",
   "execution_count": 215,
   "metadata": {},
   "outputs": [],
   "source": [
    "p.set_options(p.OPT.URL, p.OPT.RESERVED, p.OPT.SMILEY, p.OPT.NUMBER, p.OPT.HASHTAG)"
   ]
  },
  {
   "cell_type": "code",
   "execution_count": 216,
   "metadata": {},
   "outputs": [],
   "source": [
    "tweet_text = 'RT Good morning? Make your orders with us on any covid19 kits. We provide affordable&certified http://kits.Call or whatsapp us on 0711855039. We do countrywide delivery&reduced prices on #bulk purchase.'"
   ]
  },
  {
   "cell_type": "code",
   "execution_count": 217,
   "metadata": {},
   "outputs": [
    {
     "data": {
      "text/plain": [
       "'Good morning? Make your orders with us on any covid19 kits. We provide affordable&certified or whatsapp us on . We do countrywide delivery&reduced prices on purchase.'"
      ]
     },
     "execution_count": 217,
     "metadata": {},
     "output_type": "execute_result"
    }
   ],
   "source": [
    "p.clean(tweet_text)"
   ]
  },
  {
   "cell_type": "markdown",
   "metadata": {},
   "source": [
    "# Twitter Streaming API\n",
    "- Streams randomly selected live tweets\n",
    "- Maximum of 1% of the tweets per day from over 85000 tweets per second, 750 million tweets per day\n",
    "- 1% of 750 million tweets = 7.5 million tweets a day"
   ]
  },
  {
   "cell_type": "markdown",
   "metadata": {},
   "source": [
    "# StreamListener subclass\n",
    "- A stream uses a persistent connection to push the tweets to the app\n",
    "- Streaming rate varies heavily based on the search criteria\n",
    "- StreamListener is a subclass of the Tweepy which notifies when new tweets (or other Twitter messages) arrives\n",
    "- Each message results in a call to StreamListener method\n",
    "- We need to override the methods that we need eg:\n",
    "    - on_connect(self)\n",
    "    - on_status(self, status) - called when a tweet arrives\n",
    "    - on_limit(self, track) - called when a limit notice arrives\n",
    "    - on_error(self, status_code) - error codes from Twitter\n",
    "    - on_timeout(self) - Twitter server not responding\n",
    "    - on_warning(self, notice) - disconnect warnings to indicate that the connection might be closed"
   ]
  },
  {
   "cell_type": "code",
   "execution_count": 218,
   "metadata": {},
   "outputs": [],
   "source": [
    "import tweepy\n",
    "from textblob import TextBlob\n",
    "\n",
    "class TweetListener(tweepy.StreamListener):\n",
    "    \"\"\"Handles incoming Tweet stream.\"\"\"\n",
    "    \n",
    "    def __init__(self, api, limit=10):\n",
    "        \"\"\"Create instance variables for tracking number of tweets.\"\"\"\n",
    "        self.tweet_count=0\n",
    "        self.TWEET_LIMIT=limit\n",
    "        super().__init__(api) # call to the superclass's init\n",
    "        \n",
    "    def on_connect(self):\n",
    "        \"\"\"Called when your connection attempt is successful, enabling \n",
    "        you to perform appropriate application tasks a that point\"\"\"\n",
    "        print('Connection successful \\n')\n",
    "        \n",
    "    def on_status(self, status):\n",
    "        \"\"\"Called when Twitter pushes a new tweet to you.\"\"\"\n",
    "        # get the tweet text\n",
    "        try:\n",
    "            tweet_text=status.extended_tweet.full_text\n",
    "        except:\n",
    "            tweet_text=status.text\n",
    "        print(f' Screen name: {status.user.screen_name}:')\n",
    "        print(f'    Language: {status.lang}')\n",
    "        print(f'      Status: {tweet_text}')\n",
    "        \n",
    "        if status.lang != 'en':\n",
    "            print(f' Translated: {TextBlob(tweet_text).translate()}')\n",
    "            \n",
    "        print()\n",
    "        self.tweet_count +=1  # keep track of the tweets processed\n",
    "        \n",
    "    # if TWEET_LIMIT is reached, return False to terminate streaming\n",
    "        return self.tweet_count <= self.TWEET_LIMIT\n"
   ]
  },
  {
   "cell_type": "code",
   "execution_count": 219,
   "metadata": {},
   "outputs": [],
   "source": [
    "import keys"
   ]
  },
  {
   "cell_type": "code",
   "execution_count": 220,
   "metadata": {},
   "outputs": [],
   "source": [
    "api = tweepy.OAuthHandler(keys.consumer_key, keys.consumer_secret)"
   ]
  },
  {
   "cell_type": "code",
   "execution_count": 221,
   "metadata": {},
   "outputs": [],
   "source": [
    "auth.set_access_token(keys.access_token, keys.access_token_secret)"
   ]
  },
  {
   "cell_type": "code",
   "execution_count": 222,
   "metadata": {},
   "outputs": [],
   "source": [
    "api = tweepy.API(auth, wait_on_rate_limit=True, wait_on_rate_limit_notify=True)"
   ]
  },
  {
   "cell_type": "markdown",
   "metadata": {},
   "source": [
    "# TweetListener Object Creation\n",
    "- Used for initializing the api object\n",
    "- 10 tweets will stream"
   ]
  },
  {
   "cell_type": "code",
   "execution_count": 223,
   "metadata": {},
   "outputs": [],
   "source": [
    "tweet_listener = TweetListener(api)"
   ]
  },
  {
   "cell_type": "code",
   "execution_count": 224,
   "metadata": {},
   "outputs": [],
   "source": [
    "# We create a Stream object to manage the connection to the Twitter stream\n",
    "\n",
    "tweet_stream = tweepy.Stream(auth=api.auth, listener=tweet_listener)"
   ]
  },
  {
   "cell_type": "code",
   "execution_count": 225,
   "metadata": {
    "scrolled": true
   },
   "outputs": [
    {
     "name": "stdout",
     "output_type": "stream",
     "text": [
      "Connection successful \n",
      "\n",
      " Screen name: UcheOfili4:\n",
      "    Language: en\n",
      "      Status: RT @footballdaily: 🗣\"Ozil has to play, don't worry about his wages or running around, if you ask Mourinho tomorrow he would rather Ozil not…\n",
      "\n",
      " Screen name: Gunner12True:\n",
      "    Language: en\n",
      "      Status: Ain’t a big fan of ozil but it’s a joke that he’s not playing he should play at least play in all the home games.\n",
      "O… https://t.co/oGscf9GLYc\n",
      "\n",
      " Screen name: SpArKsMaN_SA:\n",
      "    Language: en\n",
      "      Status: RT @Iam_MBoss: Arsenal &amp; 0.5 🤣🤣🤣🤣😭😭😭😭\n",
      "\n",
      " Screen name: 10Simmer10:\n",
      "    Language: en\n",
      "      Status: @AFC_Carys @datguysadz What's next, evaluation of Arsenal v 12 year Olds.\n",
      "\n",
      " Screen name: Eliel_rz:\n",
      "    Language: es\n",
      "      Status: RT @Jovenesfutmx: ¡VICTORIA Y DOS ASISTENCIAS! 👊\n",
      "\n",
      "Marcelo Flores(17) jugó los 90 minutos en la victoria del Arsenal sub-18 2-1 frente a su…\n",
      " Translated: RT @Jovenesfutmx: VICTORIA AND TWO ASSISTANTS! 👊\n",
      "\n",
      "Marcelo Flores (17) played the 90 minutes in Arsenal's 2-1 victory against his ...\n",
      "\n",
      " Screen name: donceelogy:\n",
      "    Language: en\n",
      "      Status: RT @OzilThings: @TheAFCBeII TheAFCBell is more reliable than Arsenal for Partey injury news...\n",
      "\n",
      " Screen name: Aguus_Gaviraghi:\n",
      "    Language: es\n",
      "      Status: @DonLuisSpahn Lo bueno es que si perdemos 28 a 0 pero Arsenal no gana se festeja igual y se sigue escabiando\n",
      " Translated: @DonLuisSpahn The good thing is that if we lose 28 to 0 but Arsenal does not win, it is celebrated the same and it continues to escape\n",
      "\n",
      " Screen name: adilavc24878215:\n",
      "    Language: tr\n",
      "      Status: RT @Piabettv: Tottenham - Arsenal karşılaşmasının skorunu doğru tahmin eden 2️⃣5️⃣ Kişiye  2️⃣0️⃣ ₺ Freebet Hediye 🎁 🤩\n",
      "\n",
      "📌  #piabet etiketiy…\n",
      " Translated: RT @Piabettv: Predicts the score of Tottenham - Arsenal match correctly 2️⃣5️⃣ Free 2️⃣0️⃣ ₺ Freebet Gift for Person 🎁 🤩\n",
      "\n",
      "📌 #piabet hashtag ...\n",
      "\n",
      " Screen name: TMCountryman:\n",
      "    Language: en\n",
      "      Status: RT @DarylGKimball: It is inappropriate for @US_Stratcom which is responsible for delivering the U.S. arsenal of some 3,800 nuclear weapons,…\n",
      "\n",
      " Screen name: Lifematician:\n",
      "    Language: en\n",
      "      Status: RT @BagOfNuts_: Calvert-Lewin has scored more goals in the PL for Everton (11) than Arsenal FC have managed as a whole (10) https://t.co/zv…\n",
      "\n",
      " Screen name: sambarlow_98:\n",
      "    Language: en\n",
      "      Status: What a stupid question 🤣🤣\n",
      "\n"
     ]
    }
   ],
   "source": [
    "tweet_stream.filter(track=['arsenal'])"
   ]
  },
  {
   "cell_type": "code",
   "execution_count": 226,
   "metadata": {
    "scrolled": true
   },
   "outputs": [
    {
     "name": "stdout",
     "output_type": "stream",
     "text": [
      "Connection successful \n",
      "\n",
      " Screen name: CrumpetsGino:\n",
      "    Language: fr\n",
      "      Status: @ASExprime @Milady_Oscar @TributDuSujet Non, moi non plus... je le remets tel quel 😅\n",
      "(Mais je n'ai pas non plus 37… https://t.co/rgFO7hhLLp\n",
      " Translated: @ASExprime @Milady_Oscar @TributDuSujet No, me neither ... I put it back as is 😅\n",
      "(But I don't have 37 either… https://t.co/rgFO7hhLLp\n",
      "\n"
     ]
    }
   ],
   "source": [
    "tweet_stream.filter(track=['AI'])"
   ]
  },
  {
   "cell_type": "code",
   "execution_count": 227,
   "metadata": {
    "scrolled": true
   },
   "outputs": [
    {
     "name": "stdout",
     "output_type": "stream",
     "text": [
      "Connection successful \n",
      "\n",
      " Screen name: AhmedMahmood6:\n",
      "    Language: en\n",
      "      Status: RT @footballdaily: 🗣\"Ozil has to play, don't worry about his wages or running around, if you ask Mourinho tomorrow he would rather Ozil not…\n",
      "\n"
     ]
    }
   ],
   "source": [
    "tweet_stream.filter(track=['Ozil'])"
   ]
  },
  {
   "cell_type": "code",
   "execution_count": 228,
   "metadata": {},
   "outputs": [],
   "source": [
    "import requests"
   ]
  },
  {
   "cell_type": "code",
   "execution_count": 229,
   "metadata": {},
   "outputs": [],
   "source": [
    "response = requests.get('https://www.bbc.com/')"
   ]
  },
  {
   "cell_type": "code",
   "execution_count": 230,
   "metadata": {},
   "outputs": [
    {
     "data": {
      "text/plain": [
       "b'    <!DOCTYPE html>\\n<html class=\"b-header--black--white b-pw-1280 b-reith-sans-font\">\\n\\n    <head>\\n        <meta http-equiv=\"Content-Type\" content=\"text/html; charset=UTF-8\">\\n        <meta name=\"description\" content=\"Breaking news, sport, TV, radio and a whole lot more.\\n        The BBC informs, educates and entertains - wherever you are, whatever your age.\">\\n        <meta name=\"keywords\" content=\"BBC, bbc.co.uk, bbc.com, Search, British Broadcasting Corporation, BBC iPlayer, BBCi\">\\n        <title>BBC - Homepage</title>\\n\\n        <script>\\n            window.orb_fig_blocking = true;\\n            window.bbcredirection = {geo: true};\\n        </script>\\n\\n        <!-- WWHPv: 20201127-1201-aa50947fd69d781e60677b1680b344ea5bd4e542 -->\\n        <!-- Webapp: WWHP international homepage -->\\n        <meta property=\"fb:page_id\" content=\"228735667216\" />\\n        <meta property=\"fb:admins\" content=\"297814326937641\" />\\n        <meta property=\"fb:app_id\" content=\"187214818032936\" />\\n        <meta property=\"og:title\" content=\"BBC - Homepage\" />\\n        <meta property=\"og:type\" content=\"website\" />\\n        <meta property=\"og:url\" content=\"https://www.bbc.com/\" />\\n        <meta name=\"msvalidate.01\" content=\"A09EF0BF1FC5CDBB37D921CBC3776943\" />\\n        <meta property=\"wwhp-edition\" content=\"africa\" />\\n        <meta name=\"viewport\" content=\"width=device-width, initial-scale=1.0\">\\n\\n        <!-- Start Facebook Instant Articles Ownership Verification -->\\n        <meta property=\"fb:pages\" content=\"228735667216\" />\\n        <!-- End Facebook Instant Articles Ownership Verification -->\\n\\n        \\n        <link rel=\"apple-touch-icon\" href=\"https://gn-web-assets.api.bbc.com/wwhp/20201127-1201-aa50947fd69d781e60677b1680b344ea5bd4e542/responsive/img/apple-touch/apple-touch-180.jpg\">\\n\\n        <script src=\"https://nav.files.bbci.co.uk/orbit/ece9cb048f668bbc4cc6214737a6cdb6/js/require.min.js\"></script>\\n\\n<link rel=\"stylesheet\" href=\"https://nav.files.bbci.co.uk/orbit/ece9cb048f668bbc4cc6214737a6cdb6/css/orb-ltr.min.css\">\\n\\n<!-- Orbit [forge-free]: 3.0.0-1299.8c9e6e27 -->\\n<!-- Environment: live -->\\n<meta name=\"viewport\" content=\"width=device-width, initial-scale=1.0\">\\n\\n<script>\\n    // nav-orbit-pollyfills\\n    // Promise polyfill from https://github.com/bramstein/promis\\n    (function(){\\'use strict\\';var f,g=[];function l(a){g.push(a);1==g.length&&f()}function m(){for(;g.length;)g[0](),g.shift()}f=function(){setTimeout(m)};function n(a){this.a=p;this.b=void 0;this.f=[];var b=this;try{a(function(a){q(b,a)},function(a){r(b,a)})}catch(c){r(b,c)}}var p=2;function t(a){return new n(function(b,c){c(a)})}function u(a){return new n(function(b){b(a)})}function q(a,b){if(a.a==p){if(b==a)throw new TypeError;var c=!1;try{var d=b&&b.then;if(null!=b&&\"object\"==typeof b&&\"function\"==typeof d){d.call(b,function(b){c||q(a,b);c=!0},function(b){c||r(a,b);c=!0});return}}catch(e){c||r(a,e);return}a.a=0;a.b=b;v(a)}} function r(a,b){if(a.a==p){if(b==a)throw new TypeError;a.a=1;a.b=b;v(a)}}function v(a){l(function(){if(a.a!=p)for(;a.f.length;){var b=a.f.shift(),c=b[0],d=b[1],e=b[2],b=b[3];try{0==a.a?\"function\"==typeof c?e(c.call(void 0,a.b)):e(a.b):1==a.a&&(\"function\"==typeof d?e(d.call(void 0,a.b)):b(a.b))}catch(h){b(h)}}})}n.prototype.g=function(a){return this.c(void 0,a)};n.prototype.c=function(a,b){var c=this;return new n(function(d,e){c.f.push([a,b,d,e]);v(c)})}; function w(a){return new n(function(b,c){function d(c){return function(d){h[c]=d;e+=1;e==a.length&&b(h)}}var e=0,h=[];0==a.length&&b(h);for(var k=0;k<a.length;k+=1)u(a[k]).c(d(k),c)})}function x(a){return new n(function(b,c){for(var d=0;d<a.length;d+=1)u(a[d]).c(b,c)})};window.Promise||(window.Promise=n,window.Promise.resolve=u,window.Promise.reject=t,window.Promise.race=x,window.Promise.all=w,window.Promise.prototype.then=n.prototype.c,window.Promise.prototype[\"catch\"]=n.prototype.g);}());\\n\\n\\n    // Polyfill Event constructor for IE ref: https://jira.dev.bbc.co.uk/browse/ORBITEN-919\\n    // see: https://stackoverflow.com/questions/26596123\\n    (function () {\\n      if (typeof window.CustomEvent === \"function\") {\\n        return false;\\n      }\\n      function CustomEvent(event, params) {\\n        params = params || { bubbles: false, cancelable: false, detail: undefined };\\n        var evt = document.createEvent(\\'CustomEvent\\');\\n        evt.initCustomEvent(event, params.bubbles, params.cancelable, params.detail);\\n        return evt;\\n      }\\n      CustomEvent.prototype = window.Event.prototype;\\n      window.Event = CustomEvent;\\n    })();\\n\\n\\n    //Element.prototype.matches polyfill\\n    //from https://developer.mozilla.org/en-US/docs/Web/API/Element/matches#Polyfill\\n    if (!Element.prototype.matches) {\\n      Element.prototype.matches = Element.prototype.msMatchesSelector ||\\n                                  Element.prototype.webkitMatchesSelector;\\n    }\\n    //NodeList.forEach Polyfill\\n    //from https://developer.mozilla.org/en-US/docs/Web/API/NodeList/forEach#Polyfill\\n    if (window.NodeList && !NodeList.prototype.forEach) {\\n      NodeList.prototype.forEach = Array.prototype.forEach;\\n    }\\n\\n    // Object.assign polyfill from https://developer.mozilla.org/en-US/docs/Web/JavaScript/Reference/Global_Objects/Object/assign#Polyfill\\n    if (typeof Object.assign != \\'function\\') {\\n      // Must be writable: true, enumerable: false, configurable: true\\n      Object.defineProperty(Object, \"assign\", {\\n        value: function assign(target, varArgs) { // .length of function is 2\\n          \\'use strict\\';\\n          if (target == null) { // TypeError if undefined or null\\n            throw new TypeError(\\'Cannot convert undefined or null to object\\');\\n          }\\n\\n          var to = Object(target);\\n\\n          for (var index = 1; index < arguments.length; index++) {\\n            var nextSource = arguments[index];\\n\\n            if (nextSource != null) { // Skip over if undefined or null\\n              for (var nextKey in nextSource) {\\n                // Avoid bugs when hasOwnProperty is shadowed\\n                if (Object.prototype.hasOwnProperty.call(nextSource, nextKey)) {\\n                  to[nextKey] = nextSource[nextKey];\\n                }\\n              }\\n            }\\n          }\\n          return to;\\n        },\\n        writable: true,\\n        configurable: true\\n      });\\n    }\\n\\n    // window.fetch polyfill https://github.com/github/fetch/blob/v0.11.0/fetch.js - chosen for IE9 compatibility\\n    if(typeof window.fetch !== \\'function\\') {\\n      (function(self){\"use strict\";if(self.fetch){return}function normalizeName(name){if(typeof name!==\"string\"){name=String(name)}if(/[^a-z0-9\\\\-#$%&\\'*+.\\\\^_`|~]/i.test(name)){throw new TypeError(\"Invalid character in header field name\")}return name.toLowerCase()}function normalizeValue(value){if(typeof value!==\"string\"){value=String(value)}return value}function Headers(headers){this.map={};if(headers instanceof Headers){headers.forEach(function(value,name){this.append(name,value)},this)}else if(headers){Object.getOwnPropertyNames(headers).forEach(function(name){this.append(name,headers[name])},this)}}Headers.prototype.append=function(name,value){name=normalizeName(name);value=normalizeValue(value);var list=this.map[name];if(!list){list=[];this.map[name]=list}list.push(value)};Headers.prototype[\"delete\"]=function(name){delete this.map[normalizeName(name)]};Headers.prototype.get=function(name){var values=this.map[normalizeName(name)];return values?values[0]:null};Headers.prototype.getAll=function(name){return this.map[normalizeName(name)]||[]};Headers.prototype.has=function(name){return this.map.hasOwnProperty(normalizeName(name))};Headers.prototype.set=function(name,value){this.map[normalizeName(name)]=[normalizeValue(value)]};Headers.prototype.forEach=function(callback,thisArg){Object.getOwnPropertyNames(this.map).forEach(function(name){this.map[name].forEach(function(value){callback.call(thisArg,value,name,this)},this)},this)};function consumed(body){if(body.bodyUsed){return Promise.reject(new TypeError(\"Already read\"))}body.bodyUsed=true}function fileReaderReady(reader){return new Promise(function(resolve,reject){reader.onload=function(){resolve(reader.result)};reader.onerror=function(){reject(reader.error)}})}function readBlobAsArrayBuffer(blob){var reader=new FileReader;reader.readAsArrayBuffer(blob);return fileReaderReady(reader)}function readBlobAsText(blob){var reader=new FileReader;reader.readAsText(blob);return fileReaderReady(reader)}var support={blob:\"FileReader\"in self&&\"Blob\"in self&&function(){try{new Blob;return true}catch(e){return false}}(),formData:\"FormData\"in self,arrayBuffer:\"ArrayBuffer\"in self};function Body(){this.bodyUsed=false;this._initBody=function(body){this._bodyInit=body;if(typeof body===\"string\"){this._bodyText=body}else if(support.blob&&Blob.prototype.isPrototypeOf(body)){this._bodyBlob=body}else if(support.formData&&FormData.prototype.isPrototypeOf(body)){this._bodyFormData=body}else if(!body){this._bodyText=\"\"}else if(support.arrayBuffer&&ArrayBuffer.prototype.isPrototypeOf(body)){}else{throw new Error(\"unsupported BodyInit type\")}if(!this.headers.get(\"content-type\")){if(typeof body===\"string\"){this.headers.set(\"content-type\",\"text/plain;charset=UTF-8\")}else if(this._bodyBlob&&this._bodyBlob.type){this.headers.set(\"content-type\",this._bodyBlob.type)}}};if(support.blob){this.blob=function(){var rejected=consumed(this);if(rejected){return rejected}if(this._bodyBlob){return Promise.resolve(this._bodyBlob)}else if(this._bodyFormData){throw new Error(\"could not read FormData body as blob\")}else{return Promise.resolve(new Blob([this._bodyText]))}};this.arrayBuffer=function(){return this.blob().then(readBlobAsArrayBuffer)};this.text=function(){var rejected=consumed(this);if(rejected){return rejected}if(this._bodyBlob){return readBlobAsText(this._bodyBlob)}else if(this._bodyFormData){throw new Error(\"could not read FormData body as text\")}else{return Promise.resolve(this._bodyText)}}}else{this.text=function(){var rejected=consumed(this);return rejected?rejected:Promise.resolve(this._bodyText)}}if(support.formData){this.formData=function(){return this.text().then(decode)}}this.json=function(){return this.text().then(JSON.parse)};return this}var methods=[\"DELETE\",\"GET\",\"HEAD\",\"OPTIONS\",\"POST\",\"PUT\"];function normalizeMethod(method){var upcased=method.toUpperCase();return methods.indexOf(upcased)>-1?upcased:method}function Request(input,options){options=options||{};var body=options.body;if(Request.prototype.isPrototypeOf(input)){if(input.bodyUsed){throw new TypeError(\"Already read\")}this.url=input.url;this.credentials=input.credentials;if(!options.headers){this.headers=new Headers(input.headers)}this.method=input.method;this.mode=input.mode;if(!body){body=input._bodyInit;input.bodyUsed=true}}else{this.url=input}this.credentials=options.credentials||this.credentials||\"omit\";if(options.headers||!this.headers){this.headers=new Headers(options.headers)}this.method=normalizeMethod(options.method||this.method||\"GET\");this.mode=options.mode||this.mode||null;this.referrer=null;if((this.method===\"GET\"||this.method===\"HEAD\")&&body){throw new TypeError(\"Body not allowed for GET or HEAD requests\")}this._initBody(body)}Request.prototype.clone=function(){return new Request(this)};function decode(body){var form=new FormData;body.trim().split(\"&\").forEach(function(bytes){if(bytes){var split=bytes.split(\"=\");var name=split.shift().replace(/\\\\+/g,\" \");var value=split.join(\"=\").replace(/\\\\+/g,\" \");form.append(decodeURIComponent(name),decodeURIComponent(value))}});return form}function headers(xhr){var head=new Headers;var pairs=xhr.getAllResponseHeaders().trim().split(\"\\\\n\");pairs.forEach(function(header){var split=header.trim().split(\":\");var key=split.shift().trim();var value=split.join(\":\").trim();head.append(key,value)});return head}Body.call(Request.prototype);function Response(bodyInit,options){if(!options){options={}}this.type=\"default\";this.status=options.status;this.ok=this.status>=200&&this.status<300;this.statusText=options.statusText;this.headers=options.headers instanceof Headers?options.headers:new Headers(options.headers);this.url=options.url||\"\";this._initBody(bodyInit)}Body.call(Response.prototype);Response.prototype.clone=function(){return new Response(this._bodyInit,{status:this.status,statusText:this.statusText,headers:new Headers(this.headers),url:this.url})};Response.error=function(){var response=new Response(null,{status:0,statusText:\"\"});response.type=\"error\";return response};var redirectStatuses=[301,302,303,307,308];Response.redirect=function(url,status){if(redirectStatuses.indexOf(status)===-1){throw new RangeError(\"Invalid status code\")}return new Response(null,{status:status,headers:{location:url}})};self.Headers=Headers;self.Request=Request;self.Response=Response;self.fetch=function(input,init){return new Promise(function(resolve,reject){var request;if(Request.prototype.isPrototypeOf(input)&&!init){request=input}else{request=new Request(input,init)}var xhr=new XMLHttpRequest;function responseURL(){if(\"responseURL\"in xhr){return xhr.responseURL}if(/^X-Request-URL:/m.test(xhr.getAllResponseHeaders())){return xhr.getResponseHeader(\"X-Request-URL\")}return}xhr.onload=function(){var status=xhr.status===1223?204:xhr.status;if(status<100||status>599){reject(new TypeError(\"Network request failed\"));return}var options={status:status,statusText:xhr.statusText,headers:headers(xhr),url:responseURL()};var body=\"response\"in xhr?xhr.response:xhr.responseText;resolve(new Response(body,options))};xhr.onerror=function(){reject(new TypeError(\"Network request failed\"))};xhr.open(request.method,request.url,true);if(request.credentials===\"include\"){xhr.withCredentials=true}if(\"responseType\"in xhr&&support.blob){xhr.responseType=\"blob\"}request.headers.forEach(function(value,name){xhr.setRequestHeader(name,value)});xhr.send(typeof request._bodyInit===\"undefined\"?null:request._bodyInit)})};self.fetch.polyfill=true})(typeof self!==\"undefined\"?self:this);\\n    }\\n\\n    if (typeof window.CustomEvent !== \\'function\\') {\\n\\n      function CustomEvent(event, params) {\\n        params = params || { bubbles: false, cancelable: false, detail: null };\\n        var evt = document.createEvent(\\'CustomEvent\\');\\n        evt.initCustomEvent(event, params.bubbles, params.cancelable, params.detail);\\n        return evt;\\n      }\\n\\n      CustomEvent.prototype = window.Event.prototype;\\n\\n      window.CustomEvent = CustomEvent;\\n\\n    }\\n</script>\\n\\n<script>\\n    if(\"live\" !== \"live\"){\\n      console.log(\"%cYou\\'re using Orbit without Forge dependencies!\", \"color: red; font-size: x-large\");\\n      console.log(\"%cWe are in the process of transitioning Orbit off Forge. If something is\\\\n\" +\\n                  \"broken or behaving unexpectedly in the interim, please see see our migration docs https://github.com/bbc/nav-orbit/blob/master/docs/forge-free.md or let us know in the #help-orbit channel\", \"color: red; font-size: medium \");\\n      console.log(\"%cNote that during the transition, there may be times when your personal dev certificate is in a different Forge vs. Forge-free group than your product\\'s dev/live certificate.\", \"color: red; font-size: medium \");\\n\\n    }\\n\\n    window.orbitData = {};\\n\\n    var additionalPageProperties = {};\\n        additionalPageProperties[\\'custom_var_1\\'] = \\'africa\\';\\n        additionalPageProperties[\\'custom_var_9\\'] = \\'1\\';\\n\\n    window.orbitData.partialCookieOvenUrl = \\'https://cookie-oven.api.bbc\\';\\n    window.orbitData.language = \\'en\\';\\n    window.orbitData.language = \\'en\\';\\n\\n    window.orbitData.userProfileUrl = \"https://www.bbc.co.uk/userprofile\";\\n\\n    window.orbitData.modal = false;\\n\\n    function generateCountername() {\\n        if (window.location.protocol === \\'file:\\') {\\n            return \\'local.file\\';\\n        }\\n        var pathName = window.location.pathname\\n                .replace(/\\\\/$/, \"\")\\n                .replace(/^\\\\//, \"\")\\n                .replace(/\\\\//g, \\'.\\');\\n        return pathName + \\'.page\\';\\n    }\\n\\n    window.orbitData.page = {\\n        name: \\'home.page\\' || generateCountername(),\\n        destination: \\'HOMEPAGE_GNL\\' || null,\\n        producer: \\'GNL_HOMEPAGE\\' || null,\\n        section: \\'\\' || null,\\n        site: \\'\\' || null,\\n        contentId: \\'\\' || null,\\n        contentType: \\'Index-home\\' || null,\\n        edition: \\'\\' || null,\\n        additionalProperties: additionalPageProperties\\n    };\\n\\n\\n       window.orb = {\\n         worldwideNavlinks: \\'<li class=\"orb-nav-homedotcom\"><a href=\"https://www.bbc.com/\">Home</a></li><li class=\"orb-nav-newsdotcom\"><a href=\"https://www.bbc.com/news\">News</a></li><li class=\"orb-nav-sport\"><a href=\"https://www.bbc.com/sport\">Sport</a></li><li class=\"orb-nav-reeldotcom\"><a href=\"https://www.bbc.com/reel\">Reel</a></li><li class=\"orb-nav-worklife\"><a href=\"https://www.bbc.com/worklife\">Worklife</a></li><li class=\"orb-nav-traveldotcom\"><a href=\"https://www.bbc.com/travel\">Travel</a></li><li class=\"orb-nav-future\"><a href=\"https://www.bbc.com/future\">Future</a></li><li class=\"orb-nav-culture\"><a href=\"https://www.bbc.com/culture\">Culture</a></li><li class=\"orb-nav-music\"><a href=\"https://www.bbc.com/culture/music\">Music</a></li><li class=\"orb-nav-tv\"><a href=\"https://www.bbc.co.uk/schedules/p00fzl9m\">TV</a></li><li class=\"orb-nav-weather\"><a href=\"https://www.bbc.com/weather\">Weather</a></li><li class=\"orb-nav-sounds\"><a href=\"https://www.bbc.co.uk/sounds\">Sounds</a></li>\\',\\n       }\\n\\n\\n    function updatePageData(newData) {\\n        window.orbitData.page = Object.assign(window.orbitData.page, newData);\\n    }\\n\\n    document.addEventListener(\\'bbc-page-reset\\', function(event) {\\n        if (event.detail && event.detail.page) {\\n            updatePageData(event.detail.page);\\n        }\\n        document.dispatchEvent(new Event(\\'bbc-page-updated\\'));\\n    });\\n</script>\\n\\n<script type=\\'text/javascript\\'>!function(){var t={1391:function(t){var r={getName:function(){return Promise.resolve(window.orbitData.page.name)},getLanguage:function(){return Promise.resolve(window.orbitData.language)},getDestination:function(){return Promise.resolve(window.orbitData.page.destination)},getProducer:function(){return Promise.resolve(window.orbitData.page.producer)},getSection:function(){return Promise.resolve(window.orbitData.page.section)},getContentType:function(){return Promise.resolve(window.orbitData.page.contentType)},getContentId:function(){return Promise.resolve(window.orbitData.page.contentId)},getReferrer:function(){return Promise.resolve(window.orb&&null!==window.orb.referrer&&void 0!==window.orb.referrer?window.orb.referrer:document.referrer)},getAdditionalProperties:function(){return Promise.resolve(window.orbitData.page.additionalProperties)},loadCSS:function(t){return new Promise((function(r,e){var n=document.createElement(\"link\");n.type=\"text/css\",n.rel=\"stylesheet\",n.onload=function(){r()},n.href=t,document.getElementsByTagName(\"head\")[0].appendChild(n)}))},isModal:function(){return Promise.resolve(window.orbitData.modal)}};window.bbcpage=r,t.exports={bbcpage:r}},9135:function(t){function r(t){return(r=\"function\"==typeof Symbol&&\"symbol\"==typeof Symbol.iterator?function(t){return typeof t}:function(t){return t&&\"function\"==typeof Symbol&&t.constructor===Symbol&&t!==Symbol.prototype?\"symbol\":typeof t})(t)}function e(t,r){if(!(t instanceof r))throw new TypeError(\"Cannot call a class as a function\")}function n(t,e){return!e||\"object\"!==r(e)&&\"function\"!=typeof e?function(t){if(void 0===t)throw new ReferenceError(\"this hasn\\'t been initialised - super() hasn\\'t been called\");return t}(t):e}function o(t){var r=\"function\"==typeof Map?new Map:void 0;return(o=function(t){if(null===t||(e=t,-1===Function.toString.call(e).indexOf(\"[native code]\")))return t;var e;if(\"function\"!=typeof t)throw new TypeError(\"Super expression must either be null or a function\");if(void 0!==r){if(r.has(t))return r.get(t);r.set(t,n)}function n(){return i(t,arguments,c(this).constructor)}return n.prototype=Object.create(t.prototype,{constructor:{value:n,enumerable:!1,writable:!0,configurable:!0}}),a(n,t)})(t)}function i(t,r,e){return(i=u()?Reflect.construct:function(t,r,e){var n=[null];n.push.apply(n,r);var o=new(Function.bind.apply(t,n));return e&&a(o,e.prototype),o}).apply(null,arguments)}function u(){if(\"undefined\"==typeof Reflect||!Reflect.construct)return!1;if(Reflect.construct.sham)return!1;if(\"function\"==typeof Proxy)return!0;try{return Date.prototype.toString.call(Reflect.construct(Date,[],(function(){}))),!0}catch(t){return!1}}function a(t,r){return(a=Object.setPrototypeOf||function(t,r){return t.__proto__=r,t})(t,r)}function c(t){return(c=Object.setPrototypeOf?Object.getPrototypeOf:function(t){return t.__proto__||Object.getPrototypeOf(t)})(t)}var s=function(t){!function(t,r){if(\"function\"!=typeof r&&null!==r)throw new TypeError(\"Super expression must either be null or a function\");t.prototype=Object.create(r&&r.prototype,{constructor:{value:t,writable:!0,configurable:!0}}),r&&a(t,r)}(s,t);var r,o,i=(r=s,o=u(),function(){var t,e=c(r);if(o){var i=c(this).constructor;t=Reflect.construct(e,arguments,i)}else t=e.apply(this,arguments);return n(this,t)});function s(){return e(this,s),i.apply(this,arguments)}return s}(o(Error));function f(t){return new Promise((function(r,e){window.require(t,(function(){r.apply(this,arguments)}),(function(t){e(t)}))}))}var l,p=null;function h(){if(window.orbitData&&window.orbitData.user&&[\"X-Country\",\"X-Ip_is_advertise_combined\",\"X-Ip_is_uk_combined\"].every((function(t){return!!window.orbitData.user[t]})))return Promise.resolve(window.orbitData.user);if(!p){var t=window.location.hostname.endsWith(\".com\")?\"com\":\"co.uk\";p=fetch(\"https://www.bbc.\".concat(t,\"/userinfo\")).then((function(t){return t.json()}))}return p}function d(t){if(t.status>=200&&t.status<300)return t;var r=new Error(t.statusText);throw r.response=t,r}function v(t){return t.json()}function y(){if(window.orbitData.user&&window.orbitData.user.ageBand)return Promise.resolve(window.orbitData.user);if(!l){if(\"undefined\"==typeof XMLHttpRequest||!(\"withCredentials\"in new XMLHttpRequest))return Promise.resolve(window.orbitData.user);l=f([\"idcta-v2/idcta-1\"]).then((function(t){return t.initiateTokenRefresh().then((function(){return window.fetch(window.orbitData.userProfileUrl,{credentials:\"include\"}).then(d).then(v).then((function(t){return void 0===window.orbitData.user?window.orbitData.user=t:Object.assign(window.orbitData.user,t),window.orbitData.user}))}))}))}return l}var g={getHashedId:function(){return f([\"idcta-v2/idcta-1\"]).then((function(t){return t.getCookieInstance().getHidFromCookie()}))},isSignedIn:function(){return f([\"idcta-v2/idcta-1\"]).then((function(t){return t&&t.getCookieInstance().hasCookie()}))},getCountry:function(){return h().then((function(t){return t[\"X-Country\"]||\"gb\"}))},isUKCombined:function(){return h().then((function(t){if(!t[\"X-Ip_is_uk_combined\"])throw new s(\"missing isUKCombined from userinfo response\");return\"yes\"===t[\"X-Ip_is_uk_combined\"].toLowerCase()}))},canSeeAdverts:function(){return h().then((function(t){if(!t[\"X-Ip_is_advertise_combined\"])throw new s(\"missing canSeeAdverts from userinfo response\");return\"yes\"===t[\"X-Ip_is_advertise_combined\"].toLowerCase()}))},getAgeBand:function(){return h().then((function(t){return t[\"X-Age-Band\"]?Promise.resolve(t[\"X-Age-Band\"]):g.isSignedIn().then((function(r){return r?y().then((function(r){return t[\"X-Age-Band\"]=r[\"X-Age-Band\"],t[\"X-Age-Band\"]||void 0})).catch((function(r){return t[\"X-Age-Band\"]||void 0})):void 0}))}))},allowsPerformanceCookies:function(){return f([\"orb/cookies\"]).then((function(t){return!!t.cookiesEnabled()&&!!t.readPolicy(\"performance\")}))},allowsFunctionalCookies:function(){return f([\"orb/cookies\"]).then((function(t){return!!t.cookiesEnabled()&&!!t.readPolicy(\"personalisation\")}))},getCookieValue:function(t){return f([\"orb/cookies\"]).then((function(r){return r.get(t)}))}};window.bbcuser=g,t.exports={bbcuser:g,BBCUserError:s}},7633:function(t,r,e){e(1539),e(8783),e(3948),e(8674),e(7922),e(7727);var n=e(857);t.exports=n.Promise},1111:function(t,r,e){e(4916),e(4953),e(8992),e(9841),e(7852),e(2023),e(4723),e(6373),e(6528),e(3112),e(2481),e(5306),e(4765),e(3123),e(3157),e(3210),e(5674),e(8702),e(8783),e(5218),e(4475),e(7929),e(915),e(9253),e(2125),e(8830),e(8734),e(9254),e(7268),e(7397),e(86),e(623);var n=e(857);t.exports=n.String},3099:function(t){t.exports=function(t){if(\"function\"!=typeof t)throw TypeError(String(t)+\" is not a function\");return t}},6077:function(t,r,e){var n=e(111);t.exports=function(t){if(!n(t)&&null!==t)throw TypeError(\"Can\\'t set \"+String(t)+\" as a prototype\");return t}},1223:function(t,r,e){var n=e(5112),o=e(30),i=e(3070),u=n(\"unscopables\"),a=Array.prototype;null==a[u]&&i.f(a,u,{configurable:!0,value:o(null)}),t.exports=function(t){a[u][t]=!0}},1530:function(t,r,e){\"use strict\";var n=e(8710).charAt;t.exports=function(t,r,e){return r+(e?n(t,r).length:1)}},5787:function(t){t.exports=function(t,r,e){if(!(t instanceof r))throw TypeError(\"Incorrect \"+(e?e+\" \":\"\")+\"invocation\");return t}},9670:function(t,r,e){var n=e(111);t.exports=function(t){if(!n(t))throw TypeError(String(t)+\" is not an object\");return t}},1318:function(t,r,e){var n=e(5656),o=e(7466),i=e(1400),u=function(t){return function(r,e,u){var a,c=n(r),s=o(c.length),f=i(u,s);if(t&&e!=e){for(;s>f;)if((a=c[f++])!=a)return!0}else for(;s>f;f++)if((t||f in c)&&c[f]===e)return t||f||0;return!t&&-1}};t.exports={includes:u(!0),indexOf:u(!1)}},3411:function(t,r,e){var n=e(9670);t.exports=function(t,r,e,o){try{return o?r(n(e)[0],e[1]):r(e)}catch(r){var i=t.return;throw void 0!==i&&n(i.call(t)),r}}},7072:function(t,r,e){var n=e(5112)(\"iterator\"),o=!1;try{var i=0,u={next:function(){return{done:!!i++}},return:function(){o=!0}};u[n]=function(){return this},Array.from(u,(function(){throw 2}))}catch(t){}t.exports=function(t,r){if(!r&&!o)return!1;var e=!1;try{var i={};i[n]=function(){return{next:function(){return{done:e=!0}}}},t(i)}catch(t){}return e}},4326:function(t){var r={}.toString;t.exports=function(t){return r.call(t).slice(8,-1)}},648:function(t,r,e){var n=e(1694),o=e(4326),i=e(5112)(\"toStringTag\"),u=\"Arguments\"==o(function(){return arguments}());t.exports=n?o:function(t){var r,e,n;return void 0===t?\"Undefined\":null===t?\"Null\":\"string\"==typeof(e=function(t,r){try{return t[r]}catch(t){}}(r=Object(t),i))?e:u?o(r):\"Object\"==(n=o(r))&&\"function\"==typeof r.callee?\"Arguments\":n}},9920:function(t,r,e){var n=e(6656),o=e(3887),i=e(1236),u=e(3070);t.exports=function(t,r){for(var e=o(r),a=u.f,c=i.f,s=0;s<e.length;s++){var f=e[s];n(t,f)||a(t,f,c(r,f))}}},4964:function(t,r,e){var n=e(5112)(\"match\");t.exports=function(t){var r=/./;try{\"/./\"[t](r)}catch(e){try{return r[n]=!1,\"/./\"[t](r)}catch(t){}}return!1}},8544:function(t,r,e){var n=e(7293);t.exports=!n((function(){function t(){}return t.prototype.constructor=null,Object.getPrototypeOf(new t)!==t.prototype}))},4230:function(t,r,e){var n=e(4488),o=/\"/g;t.exports=function(t,r,e,i){var u=String(n(t)),a=\"<\"+r;return\"\"!==e&&(a+=\" \"+e+\\'=\"\\'+String(i).replace(o,\"&quot;\")+\\'\"\\'),a+\">\"+u+\"</\"+r+\">\"}},4994:function(t,r,e){\"use strict\";var n=e(3383).IteratorPrototype,o=e(30),i=e(9114),u=e(8003),a=e(7497),c=function(){return this};t.exports=function(t,r,e){var s=r+\" Iterator\";return t.prototype=o(n,{next:i(1,e)}),u(t,s,!1,!0),a[s]=c,t}},8880:function(t,r,e){var n=e(9781),o=e(3070),i=e(9114);t.exports=n?function(t,r,e){return o.f(t,r,i(1,e))}:function(t,r,e){return t[r]=e,t}},9114:function(t){t.exports=function(t,r){return{enumerable:!(1&t),configurable:!(2&t),writable:!(4&t),value:r}}},654:function(t,r,e){\"use strict\";var n=e(2109),o=e(4994),i=e(9518),u=e(7674),a=e(8003),c=e(8880),s=e(1320),f=e(5112),l=e(1913),p=e(7497),h=e(3383),d=h.IteratorPrototype,v=h.BUGGY_SAFARI_ITERATORS,y=f(\"iterator\"),g=\"keys\",b=\"values\",m=\"entries\",w=function(){return this};t.exports=function(t,r,e,f,h,x,S){o(e,r,f);var E,_,O,T=function(t){if(t===h&&R)return R;if(!v&&t in A)return A[t];switch(t){case g:case b:case m:return function(){return new e(this,t)}}return function(){return new e(this)}},P=r+\" Iterator\",j=!1,A=t.prototype,I=A[y]||A[\"@@iterator\"]||h&&A[h],R=!v&&I||T(h),L=\"Array\"==r&&A.entries||I;if(L&&(E=i(L.call(new t)),d!==Object.prototype&&E.next&&(l||i(E)===d||(u?u(E,d):\"function\"!=typeof E[y]&&c(E,y,w)),a(E,P,!0,!0),l&&(p[P]=w))),h==b&&I&&I.name!==b&&(j=!0,R=function(){return I.call(this)}),l&&!S||A[y]===R||c(A,y,R),p[r]=R,h)if(_={values:T(b),keys:x?R:T(g),entries:T(m)},S)for(O in _)(v||j||!(O in A))&&s(A,O,_[O]);else n({target:r,proto:!0,forced:v||j},_);return _}},9781:function(t,r,e){var n=e(7293);t.exports=!n((function(){return 7!=Object.defineProperty({},1,{get:function(){return 7}})[1]}))},317:function(t,r,e){var n=e(7854),o=e(111),i=n.document,u=o(i)&&o(i.createElement);t.exports=function(t){return u?i.createElement(t):{}}},8324:function(t){t.exports={CSSRuleList:0,CSSStyleDeclaration:0,CSSValueList:0,ClientRectList:0,DOMRectList:0,DOMStringList:0,DOMTokenList:1,DataTransferItemList:0,FileList:0,HTMLAllCollection:0,HTMLCollection:0,HTMLFormElement:0,HTMLSelectElement:0,MediaList:0,MimeTypeArray:0,NamedNodeMap:0,NodeList:1,PaintRequestList:0,Plugin:0,PluginArray:0,SVGLengthList:0,SVGNumberList:0,SVGPathSegList:0,SVGPointList:0,SVGStringList:0,SVGTransformList:0,SourceBufferList:0,StyleSheetList:0,TextTrackCueList:0,TextTrackList:0,TouchList:0}},6833:function(t,r,e){var n=e(8113);t.exports=/(iphone|ipod|ipad).*applewebkit/i.test(n)},8113:function(t,r,e){var n=e(5005);t.exports=n(\"navigator\",\"userAgent\")||\"\"},7392:function(t,r,e){var n,o,i=e(7854),u=e(8113),a=i.process,c=a&&a.versions,s=c&&c.v8;s?o=(n=s.split(\".\"))[0]+n[1]:u&&(!(n=u.match(/Edge\\\\/(\\\\d+)/))||n[1]>=74)&&(n=u.match(/Chrome\\\\/(\\\\d+)/))&&(o=n[1]),t.exports=o&&+o},748:function(t){t.exports=[\"constructor\",\"hasOwnProperty\",\"isPrototypeOf\",\"propertyIsEnumerable\",\"toLocaleString\",\"toString\",\"valueOf\"]},2109:function(t,r,e){var n=e(7854),o=e(1236).f,i=e(8880),u=e(1320),a=e(3505),c=e(9920),s=e(4705);t.exports=function(t,r){var e,f,l,p,h,d=t.target,v=t.global,y=t.stat;if(e=v?n:y?n[d]||a(d,{}):(n[d]||{}).prototype)for(f in r){if(p=r[f],l=t.noTargetGet?(h=o(e,f))&&h.value:e[f],!s(v?f:d+(y?\".\":\"#\")+f,t.forced)&&void 0!==l){if(typeof p==typeof l)continue;c(p,l)}(t.sham||l&&l.sham)&&i(p,\"sham\",!0),u(e,f,p,t)}}},7293:function(t){t.exports=function(t){try{return!!t()}catch(t){return!0}}},7007:function(t,r,e){\"use strict\";e(4916);var n=e(1320),o=e(7293),i=e(5112),u=e(2261),a=e(8880),c=i(\"species\"),s=!o((function(){var t=/./;return t.exec=function(){var t=[];return t.groups={a:\"7\"},t},\"7\"!==\"\".replace(t,\"$<a>\")})),f=\"$0\"===\"a\".replace(/./,\"$0\"),l=i(\"replace\"),p=!!/./[l]&&\"\"===/./[l](\"a\",\"$0\"),h=!o((function(){var t=/(?:)/,r=t.exec;t.exec=function(){return r.apply(this,arguments)};var e=\"ab\".split(t);return 2!==e.length||\"a\"!==e[0]||\"b\"!==e[1]}));t.exports=function(t,r,e,l){var d=i(t),v=!o((function(){var r={};return r[d]=function(){return 7},7!=\"\"[t](r)})),y=v&&!o((function(){var r=!1,e=/a/;return\"split\"===t&&((e={}).constructor={},e.constructor[c]=function(){return e},e.flags=\"\",e[d]=/./[d]),e.exec=function(){return r=!0,null},e[d](\"\"),!r}));if(!v||!y||\"replace\"===t&&(!s||!f||p)||\"split\"===t&&!h){var g=/./[d],b=e(d,\"\"[t],(function(t,r,e,n,o){return r.exec===u?v&&!o?{done:!0,value:g.call(r,e,n)}:{done:!0,value:t.call(e,r,n)}:{done:!1}}),{REPLACE_KEEPS_$0:f,REGEXP_REPLACE_SUBSTITUTES_UNDEFINED_CAPTURE:p}),m=b[0],w=b[1];n(String.prototype,t,m),n(RegExp.prototype,d,2==r?function(t,r){return w.call(t,this,r)}:function(t){return w.call(t,this)})}l&&a(RegExp.prototype[d],\"sham\",!0)}},9974:function(t,r,e){var n=e(3099);t.exports=function(t,r,e){if(n(t),void 0===r)return t;switch(e){case 0:return function(){return t.call(r)};case 1:return function(e){return t.call(r,e)};case 2:return function(e,n){return t.call(r,e,n)};case 3:return function(e,n,o){return t.call(r,e,n,o)}}return function(){return t.apply(r,arguments)}}},5005:function(t,r,e){var n=e(857),o=e(7854),i=function(t){return\"function\"==typeof t?t:void 0};t.exports=function(t,r){return arguments.length<2?i(n[t])||i(o[t]):n[t]&&n[t][r]||o[t]&&o[t][r]}},1246:function(t,r,e){var n=e(648),o=e(7497),i=e(5112)(\"iterator\");t.exports=function(t){if(null!=t)return t[i]||t[\"@@iterator\"]||o[n(t)]}},7854:function(t,r,e){var n=function(t){return t&&t.Math==Math&&t};t.exports=n(\"object\"==typeof globalThis&&globalThis)||n(\"object\"==typeof window&&window)||n(\"object\"==typeof self&&self)||n(\"object\"==typeof e.g&&e.g)||Function(\"return this\")()},6656:function(t){var r={}.hasOwnProperty;t.exports=function(t,e){return r.call(t,e)}},3501:function(t){t.exports={}},842:function(t,r,e){var n=e(7854);t.exports=function(t,r){var e=n.console;e&&e.error&&(1===arguments.length?e.error(t):e.error(t,r))}},490:function(t,r,e){var n=e(5005);t.exports=n(\"document\",\"documentElement\")},4664:function(t,r,e){var n=e(9781),o=e(7293),i=e(317);t.exports=!n&&!o((function(){return 7!=Object.defineProperty(i(\"div\"),\"a\",{get:function(){return 7}}).a}))},8361:function(t,r,e){var n=e(7293),o=e(4326),i=\"\".split;t.exports=n((function(){return!Object(\"z\").propertyIsEnumerable(0)}))?function(t){return\"String\"==o(t)?i.call(t,\"\"):Object(t)}:Object},2788:function(t,r,e){var n=e(5465),o=Function.toString;\"function\"!=typeof n.inspectSource&&(n.inspectSource=function(t){return o.call(t)}),t.exports=n.inspectSource},9909:function(t,r,e){var n,o,i,u=e(8536),a=e(7854),c=e(111),s=e(8880),f=e(6656),l=e(6200),p=e(3501),h=a.WeakMap;if(u){var d=new h,v=d.get,y=d.has,g=d.set;n=function(t,r){return g.call(d,t,r),r},o=function(t){return v.call(d,t)||{}},i=function(t){return y.call(d,t)}}else{var b=l(\"state\");p[b]=!0,n=function(t,r){return s(t,b,r),r},o=function(t){return f(t,b)?t[b]:{}},i=function(t){return f(t,b)}}t.exports={set:n,get:o,has:i,enforce:function(t){return i(t)?o(t):n(t,{})},getterFor:function(t){return function(r){var e;if(!c(r)||(e=o(r)).type!==t)throw TypeError(\"Incompatible receiver, \"+t+\" required\");return e}}}},7659:function(t,r,e){var n=e(5112),o=e(7497),i=n(\"iterator\"),u=Array.prototype;t.exports=function(t){return void 0!==t&&(o.Array===t||u[i]===t)}},4705:function(t,r,e){var n=e(7293),o=/#|\\\\.prototype\\\\./,i=function(t,r){var e=a[u(t)];return e==s||e!=c&&(\"function\"==typeof r?n(r):!!r)},u=i.normalize=function(t){return String(t).replace(o,\".\").toLowerCase()},a=i.data={},c=i.NATIVE=\"N\",s=i.POLYFILL=\"P\";t.exports=i},111:function(t){t.exports=function(t){return\"object\"==typeof t?null!==t:\"function\"==typeof t}},1913:function(t){t.exports=!1},7850:function(t,r,e){var n=e(111),o=e(4326),i=e(5112)(\"match\");t.exports=function(t){var r;return n(t)&&(void 0!==(r=t[i])?!!r:\"RegExp\"==o(t))}},408:function(t,r,e){var n=e(9670),o=e(7659),i=e(7466),u=e(9974),a=e(1246),c=e(3411),s=function(t,r){this.stopped=t,this.result=r};(t.exports=function(t,r,e,f,l){var p,h,d,v,y,g,b,m=u(r,e,f?2:1);if(l)p=t;else{if(\"function\"!=typeof(h=a(t)))throw TypeError(\"Target is not iterable\");if(o(h)){for(d=0,v=i(t.length);v>d;d++)if((y=f?m(n(b=t[d])[0],b[1]):m(t[d]))&&y instanceof s)return y;return new s(!1)}p=h.call(t)}for(g=p.next;!(b=g.call(p)).done;)if(\"object\"==typeof(y=c(p,m,b.value,f))&&y&&y instanceof s)return y;return new s(!1)}).stop=function(t){return new s(!0,t)}},3383:function(t,r,e){\"use strict\";var n,o,i,u=e(9518),a=e(8880),c=e(6656),s=e(5112),f=e(1913),l=s(\"iterator\"),p=!1;[].keys&&(\"next\"in(i=[].keys())?(o=u(u(i)))!==Object.prototype&&(n=o):p=!0),null==n&&(n={}),f||c(n,l)||a(n,l,(function(){return this})),t.exports={IteratorPrototype:n,BUGGY_SAFARI_ITERATORS:p}},7497:function(t){t.exports={}},5948:function(t,r,e){var n,o,i,u,a,c,s,f,l=e(7854),p=e(1236).f,h=e(4326),d=e(261).set,v=e(6833),y=l.MutationObserver||l.WebKitMutationObserver,g=l.process,b=l.Promise,m=\"process\"==h(g),w=p(l,\"queueMicrotask\"),x=w&&w.value;x||(n=function(){var t,r;for(m&&(t=g.domain)&&t.exit();o;){r=o.fn,o=o.next;try{r()}catch(t){throw o?u():i=void 0,t}}i=void 0,t&&t.enter()},m?u=function(){g.nextTick(n)}:y&&!v?(a=!0,c=document.createTextNode(\"\"),new y(n).observe(c,{characterData:!0}),u=function(){c.data=a=!a}):b&&b.resolve?(s=b.resolve(void 0),f=s.then,u=function(){f.call(s,n)}):u=function(){d.call(l,n)}),t.exports=x||function(t){var r={fn:t,next:void 0};i&&(i.next=r),o||(o=r,u()),i=r}},3366:function(t,r,e){var n=e(7854);t.exports=n.Promise},133:function(t,r,e){var n=e(7293);t.exports=!!Object.getOwnPropertySymbols&&!n((function(){return!String(Symbol())}))},8536:function(t,r,e){var n=e(7854),o=e(2788),i=n.WeakMap;t.exports=\"function\"==typeof i&&/native code/.test(o(i))},8523:function(t,r,e){\"use strict\";var n=e(3099),o=function(t){var r,e;this.promise=new t((function(t,n){if(void 0!==r||void 0!==e)throw TypeError(\"Bad Promise constructor\");r=t,e=n})),this.resolve=n(r),this.reject=n(e)};t.exports.f=function(t){return new o(t)}},3929:function(t,r,e){var n=e(7850);t.exports=function(t){if(n(t))throw TypeError(\"The method doesn\\'t accept regular expressions\");return t}},30:function(t,r,e){var n,o=e(9670),i=e(6048),u=e(748),a=e(3501),c=e(490),s=e(317),f=e(6200),l=f(\"IE_PROTO\"),p=function(){},h=function(t){return\"<script>\"+t+\"</\"+\"script>\"},d=function(){try{n=document.domain&&new ActiveXObject(\"htmlfile\")}catch(t){}var t,r;d=n?function(t){t.write(h(\"\")),t.close();var r=t.parentWindow.Object;return t=null,r}(n):((r=s(\"iframe\")).style.display=\"none\",c.appendChild(r),r.src=String(\"javascript:\"),(t=r.contentWindow.document).open(),t.write(h(\"document.F=Object\")),t.close(),t.F);for(var e=u.length;e--;)delete d.prototype[u[e]];return d()};a[l]=!0,t.exports=Object.create||function(t,r){var e;return null!==t?(p.prototype=o(t),e=new p,p.prototype=null,e[l]=t):e=d(),void 0===r?e:i(e,r)}},6048:function(t,r,e){var n=e(9781),o=e(3070),i=e(9670),u=e(1956);t.exports=n?Object.defineProperties:function(t,r){i(t);for(var e,n=u(r),a=n.length,c=0;a>c;)o.f(t,e=n[c++],r[e]);return t}},3070:function(t,r,e){var n=e(9781),o=e(4664),i=e(9670),u=e(7593),a=Object.defineProperty;r.f=n?a:function(t,r,e){if(i(t),r=u(r,!0),i(e),o)try{return a(t,r,e)}catch(t){}if(\"get\"in e||\"set\"in e)throw TypeError(\"Accessors not supported\");return\"value\"in e&&(t[r]=e.value),t}},1236:function(t,r,e){var n=e(9781),o=e(5296),i=e(9114),u=e(5656),a=e(7593),c=e(6656),s=e(4664),f=Object.getOwnPropertyDescriptor;r.f=n?f:function(t,r){if(t=u(t),r=a(r,!0),s)try{return f(t,r)}catch(t){}if(c(t,r))return i(!o.f.call(t,r),t[r])}},8006:function(t,r,e){var n=e(6324),o=e(748).concat(\"length\",\"prototype\");r.f=Object.getOwnPropertyNames||function(t){return n(t,o)}},5181:function(t,r){r.f=Object.getOwnPropertySymbols},9518:function(t,r,e){var n=e(6656),o=e(7908),i=e(6200),u=e(8544),a=i(\"IE_PROTO\"),c=Object.prototype;t.exports=u?Object.getPrototypeOf:function(t){return t=o(t),n(t,a)?t[a]:\"function\"==typeof t.constructor&&t instanceof t.constructor?t.constructor.prototype:t instanceof Object?c:null}},6324:function(t,r,e){var n=e(6656),o=e(5656),i=e(1318).indexOf,u=e(3501);t.exports=function(t,r){var e,a=o(t),c=0,s=[];for(e in a)!n(u,e)&&n(a,e)&&s.push(e);for(;r.length>c;)n(a,e=r[c++])&&(~i(s,e)||s.push(e));return s}},1956:function(t,r,e){var n=e(6324),o=e(748);t.exports=Object.keys||function(t){return n(t,o)}},5296:function(t,r){\"use strict\";var e={}.propertyIsEnumerable,n=Object.getOwnPropertyDescriptor,o=n&&!e.call({1:2},1);r.f=o?function(t){var r=n(this,t);return!!r&&r.enumerable}:e},7674:function(t,r,e){var n=e(9670),o=e(6077);t.exports=Object.setPrototypeOf||(\"__proto__\"in{}?function(){var t,r=!1,e={};try{(t=Object.getOwnPropertyDescriptor(Object.prototype,\"__proto__\").set).call(e,[]),r=e instanceof Array}catch(t){}return function(e,i){return n(e),o(i),r?t.call(e,i):e.__proto__=i,e}}():void 0)},288:function(t,r,e){\"use strict\";var n=e(1694),o=e(648);t.exports=n?{}.toString:function(){return\"[object \"+o(this)+\"]\"}},3887:function(t,r,e){var n=e(5005),o=e(8006),i=e(5181),u=e(9670);t.exports=n(\"Reflect\",\"ownKeys\")||function(t){var r=o.f(u(t)),e=i.f;return e?r.concat(e(t)):r}},857:function(t,r,e){var n=e(7854);t.exports=n},2534:function(t){t.exports=function(t){try{return{error:!1,value:t()}}catch(t){return{error:!0,value:t}}}},9478:function(t,r,e){var n=e(9670),o=e(111),i=e(8523);t.exports=function(t,r){if(n(t),o(r)&&r.constructor===t)return r;var e=i.f(t);return(0,e.resolve)(r),e.promise}},2248:function(t,r,e){var n=e(1320);t.exports=function(t,r,e){for(var o in r)n(t,o,r[o],e);return t}},1320:function(t,r,e){var n=e(7854),o=e(8880),i=e(6656),u=e(3505),a=e(2788),c=e(9909),s=c.get,f=c.enforce,l=String(String).split(\"String\");(t.exports=function(t,r,e,a){var c=!!a&&!!a.unsafe,s=!!a&&!!a.enumerable,p=!!a&&!!a.noTargetGet;\"function\"==typeof e&&(\"string\"!=typeof r||i(e,\"name\")||o(e,\"name\",r),f(e).source=l.join(\"string\"==typeof r?r:\"\")),t!==n?(c?!p&&t[r]&&(s=!0):delete t[r],s?t[r]=e:o(t,r,e)):s?t[r]=e:u(r,e)})(Function.prototype,\"toString\",(function(){return\"function\"==typeof this&&s(this).source||a(this)}))},7651:function(t,r,e){var n=e(4326),o=e(2261);t.exports=function(t,r){var e=t.exec;if(\"function\"==typeof e){var i=e.call(t,r);if(\"object\"!=typeof i)throw TypeError(\"RegExp exec method returned something other than an Object or null\");return i}if(\"RegExp\"!==n(t))throw TypeError(\"RegExp#exec called on incompatible receiver\");return o.call(t,r)}},2261:function(t,r,e){\"use strict\";var n,o,i=e(7066),u=e(2999),a=RegExp.prototype.exec,c=String.prototype.replace,s=a,f=(n=/a/,o=/b*/g,a.call(n,\"a\"),a.call(o,\"a\"),0!==n.lastIndex||0!==o.lastIndex),l=u.UNSUPPORTED_Y||u.BROKEN_CARET,p=void 0!==/()??/.exec(\"\")[1];(f||p||l)&&(s=function(t){var r,e,n,o,u=this,s=l&&u.sticky,h=i.call(u),d=u.source,v=0,y=t;return s&&(-1===(h=h.replace(\"y\",\"\")).indexOf(\"g\")&&(h+=\"g\"),y=String(t).slice(u.lastIndex),u.lastIndex>0&&(!u.multiline||u.multiline&&\"\\\\n\"!==t[u.lastIndex-1])&&(d=\"(?: \"+d+\")\",y=\" \"+y,v++),e=new RegExp(\"^(?:\"+d+\")\",h)),p&&(e=new RegExp(\"^\"+d+\"$(?!\\\\\\\\s)\",h)),f&&(r=u.lastIndex),n=a.call(s?e:u,y),s?n?(n.input=n.input.slice(v),n[0]=n[0].slice(v),n.index=u.lastIndex,u.lastIndex+=n[0].length):u.lastIndex=0:f&&n&&(u.lastIndex=u.global?n.index+n[0].length:r),p&&n&&n.length>1&&c.call(n[0],e,(function(){for(o=1;o<arguments.length-2;o++)void 0===arguments[o]&&(n[o]=void 0)})),n}),t.exports=s},7066:function(t,r,e){\"use strict\";var n=e(9670);t.exports=function(){var t=n(this),r=\"\";return t.global&&(r+=\"g\"),t.ignoreCase&&(r+=\"i\"),t.multiline&&(r+=\"m\"),t.dotAll&&(r+=\"s\"),t.unicode&&(r+=\"u\"),t.sticky&&(r+=\"y\"),r}},2999:function(t,r,e){\"use strict\";var n=e(7293);function o(t,r){return RegExp(t,r)}r.UNSUPPORTED_Y=n((function(){var t=o(\"a\",\"y\");return t.lastIndex=2,null!=t.exec(\"abcd\")})),r.BROKEN_CARET=n((function(){var t=o(\"^r\",\"gy\");return t.lastIndex=2,null!=t.exec(\"str\")}))},4488:function(t){t.exports=function(t){if(null==t)throw TypeError(\"Can\\'t call method on \"+t);return t}},6029:function(t){t.exports=Object.is||function(t,r){return t===r?0!==t||1/t==1/r:t!=t&&r!=r}},3505:function(t,r,e){var n=e(7854),o=e(8880);t.exports=function(t,r){try{o(n,t,r)}catch(e){n[t]=r}return r}},6340:function(t,r,e){\"use strict\";var n=e(5005),o=e(3070),i=e(5112),u=e(9781),a=i(\"species\");t.exports=function(t){var r=n(t),e=o.f;u&&r&&!r[a]&&e(r,a,{configurable:!0,get:function(){return this}})}},8003:function(t,r,e){var n=e(3070).f,o=e(6656),i=e(5112)(\"toStringTag\");t.exports=function(t,r,e){t&&!o(t=e?t:t.prototype,i)&&n(t,i,{configurable:!0,value:r})}},6200:function(t,r,e){var n=e(2309),o=e(9711),i=n(\"keys\");t.exports=function(t){return i[t]||(i[t]=o(t))}},5465:function(t,r,e){var n=e(7854),o=e(3505),i=\"__core-js_shared__\",u=n[i]||o(i,{});t.exports=u},2309:function(t,r,e){var n=e(1913),o=e(5465);(t.exports=function(t,r){return o[t]||(o[t]=void 0!==r?r:{})})(\"versions\",[]).push({version:\"3.6.5\",mode:n?\"pure\":\"global\",copyright:\"\\xc2\\xa9 2020 Denis Pushkarev (zloirock.ru)\"})},6707:function(t,r,e){var n=e(9670),o=e(3099),i=e(5112)(\"species\");t.exports=function(t,r){var e,u=n(t).constructor;return void 0===u||null==(e=n(u)[i])?r:o(e)}},3429:function(t,r,e){var n=e(7293);t.exports=function(t){return n((function(){var r=\"\"[t](\\'\"\\');return r!==r.toLowerCase()||r.split(\\'\"\\').length>3}))}},8710:function(t,r,e){var n=e(9958),o=e(4488),i=function(t){return function(r,e){var i,u,a=String(o(r)),c=n(e),s=a.length;return c<0||c>=s?t?\"\":void 0:(i=a.charCodeAt(c))<55296||i>56319||c+1===s||(u=a.charCodeAt(c+1))<56320||u>57343?t?a.charAt(c):i:t?a.slice(c,c+2):u-56320+(i-55296<<10)+65536}};t.exports={codeAt:i(!1),charAt:i(!0)}},4986:function(t,r,e){var n=e(8113);t.exports=/Version\\\\/10\\\\.\\\\d+(\\\\.\\\\d+)?( Mobile\\\\/\\\\w+)? Safari\\\\//.test(n)},6650:function(t,r,e){var n=e(7466),o=e(8415),i=e(4488),u=Math.ceil,a=function(t){return function(r,e,a){var c,s,f=String(i(r)),l=f.length,p=void 0===a?\" \":String(a),h=n(e);return h<=l||\"\"==p?f:(c=h-l,(s=o.call(p,u(c/p.length))).length>c&&(s=s.slice(0,c)),t?f+s:s+f)}};t.exports={start:a(!1),end:a(!0)}},8415:function(t,r,e){\"use strict\";var n=e(9958),o=e(4488);t.exports=\"\".repeat||function(t){var r=String(o(this)),e=\"\",i=n(t);if(i<0||i==1/0)throw RangeError(\"Wrong number of repetitions\");for(;i>0;(i>>>=1)&&(r+=r))1&i&&(e+=r);return e}},6091:function(t,r,e){var n=e(7293),o=e(1361);t.exports=function(t){return n((function(){return!!o[t]()||\"\\xe2\\x80\\x8b\\xc2\\x85\\xe1\\xa0\\x8e\"!=\"\\xe2\\x80\\x8b\\xc2\\x85\\xe1\\xa0\\x8e\"[t]()||o[t].name!==t}))}},3111:function(t,r,e){var n=e(4488),o=\"[\"+e(1361)+\"]\",i=RegExp(\"^\"+o+o+\"*\"),u=RegExp(o+o+\"*$\"),a=function(t){return function(r){var e=String(n(r));return 1&t&&(e=e.replace(i,\"\")),2&t&&(e=e.replace(u,\"\")),e}};t.exports={start:a(1),end:a(2),trim:a(3)}},261:function(t,r,e){var n,o,i,u=e(7854),a=e(7293),c=e(4326),s=e(9974),f=e(490),l=e(317),p=e(6833),h=u.location,d=u.setImmediate,v=u.clearImmediate,y=u.process,g=u.MessageChannel,b=u.Dispatch,m=0,w={},x=\"onreadystatechange\",S=function(t){if(w.hasOwnProperty(t)){var r=w[t];delete w[t],r()}},E=function(t){return function(){S(t)}},_=function(t){S(t.data)},O=function(t){u.postMessage(t+\"\",h.protocol+\"//\"+h.host)};d&&v||(d=function(t){for(var r=[],e=1;arguments.length>e;)r.push(arguments[e++]);return w[++m]=function(){(\"function\"==typeof t?t:Function(t)).apply(void 0,r)},n(m),m},v=function(t){delete w[t]},\"process\"==c(y)?n=function(t){y.nextTick(E(t))}:b&&b.now?n=function(t){b.now(E(t))}:g&&!p?(i=(o=new g).port2,o.port1.onmessage=_,n=s(i.postMessage,i,1)):!u.addEventListener||\"function\"!=typeof postMessage||u.importScripts||a(O)||\"file:\"===h.protocol?n=x in l(\"script\")?function(t){f.appendChild(l(\"script\")).onreadystatechange=function(){f.removeChild(this),S(t)}}:function(t){setTimeout(E(t),0)}:(n=O,u.addEventListener(\"message\",_,!1))),t.exports={set:d,clear:v}},1400:function(t,r,e){var n=e(9958),o=Math.max,i=Math.min;t.exports=function(t,r){var e=n(t);return e<0?o(e+r,0):i(e,r)}},5656:function(t,r,e){var n=e(8361),o=e(4488);t.exports=function(t){return n(o(t))}},9958:function(t){var r=Math.ceil,e=Math.floor;t.exports=function(t){return isNaN(t=+t)?0:(t>0?e:r)(t)}},7466:function(t,r,e){var n=e(9958),o=Math.min;t.exports=function(t){return t>0?o(n(t),9007199254740991):0}},7908:function(t,r,e){var n=e(4488);t.exports=function(t){return Object(n(t))}},7593:function(t,r,e){var n=e(111);t.exports=function(t,r){if(!n(t))return t;var e,o;if(r&&\"function\"==typeof(e=t.toString)&&!n(o=e.call(t)))return o;if(\"function\"==typeof(e=t.valueOf)&&!n(o=e.call(t)))return o;if(!r&&\"function\"==typeof(e=t.toString)&&!n(o=e.call(t)))return o;throw TypeError(\"Can\\'t convert object to primitive value\")}},1694:function(t,r,e){var n={};n[e(5112)(\"toStringTag\")]=\"z\",t.exports=\"[object z]\"===String(n)},9711:function(t){var r=0,e=Math.random();t.exports=function(t){return\"Symbol(\"+String(void 0===t?\"\":t)+\")_\"+(++r+e).toString(36)}},3307:function(t,r,e){var n=e(133);t.exports=n&&!Symbol.sham&&\"symbol\"==typeof Symbol.iterator},5112:function(t,r,e){var n=e(7854),o=e(2309),i=e(6656),u=e(9711),a=e(133),c=e(3307),s=o(\"wks\"),f=n.Symbol,l=c?f:f&&f.withoutSetter||u;t.exports=function(t){return i(s,t)||(a&&i(f,t)?s[t]=f[t]:s[t]=l(\"Symbol.\"+t)),s[t]}},1361:function(t){t.exports=\"\\\\t\\\\n\\\\v\\\\f\\\\r \\xc2\\xa0\\xe1\\x9a\\x80\\xe2\\x80\\x80\\xe2\\x80\\x81\\xe2\\x80\\x82\\xe2\\x80\\x83\\xe2\\x80\\x84\\xe2\\x80\\x85\\xe2\\x80\\x86\\xe2\\x80\\x87\\xe2\\x80\\x88\\xe2\\x80\\x89\\xe2\\x80\\x8a\\xe2\\x80\\xaf\\xe2\\x81\\x9f\\xe3\\x80\\x80\\\\u2028\\\\u2029\\\\ufeff\"},6992:function(t,r,e){\"use strict\";var n=e(5656),o=e(1223),i=e(7497),u=e(9909),a=e(654),c=\"Array Iterator\",s=u.set,f=u.getterFor(c);t.exports=a(Array,\"Array\",(function(t,r){s(this,{type:c,target:n(t),index:0,kind:r})}),(function(){var t=f(this),r=t.target,e=t.kind,n=t.index++;return!r||n>=r.length?(t.target=void 0,{value:void 0,done:!0}):\"keys\"==e?{value:n,done:!1}:\"values\"==e?{value:r[n],done:!1}:{value:[n,r[n]],done:!1}}),\"values\"),i.Arguments=i.Array,o(\"keys\"),o(\"values\"),o(\"entries\")},1539:function(t,r,e){var n=e(1694),o=e(1320),i=e(288);n||o(Object.prototype,\"toString\",i,{unsafe:!0})},7922:function(t,r,e){\"use strict\";var n=e(2109),o=e(3099),i=e(8523),u=e(2534),a=e(408);n({target:\"Promise\",stat:!0},{allSettled:function(t){var r=this,e=i.f(r),n=e.resolve,c=e.reject,s=u((function(){var e=o(r.resolve),i=[],u=0,c=1;a(t,(function(t){var o=u++,a=!1;i.push(void 0),c++,e.call(r,t).then((function(t){a||(a=!0,i[o]={status:\"fulfilled\",value:t},--c||n(i))}),(function(t){a||(a=!0,i[o]={status:\"rejected\",reason:t},--c||n(i))}))})),--c||n(i)}));return s.error&&c(s.value),e.promise}})},7727:function(t,r,e){\"use strict\";var n=e(2109),o=e(1913),i=e(3366),u=e(7293),a=e(5005),c=e(6707),s=e(9478),f=e(1320);n({target:\"Promise\",proto:!0,real:!0,forced:!!i&&u((function(){i.prototype.finally.call({then:function(){}},(function(){}))}))},{finally:function(t){var r=c(this,a(\"Promise\")),e=\"function\"==typeof t;return this.then(e?function(e){return s(r,t()).then((function(){return e}))}:t,e?function(e){return s(r,t()).then((function(){throw e}))}:t)}}),o||\"function\"!=typeof i||i.prototype.finally||f(i.prototype,\"finally\",a(\"Promise\").prototype.finally)},8674:function(t,r,e){\"use strict\";var n,o,i,u,a=e(2109),c=e(1913),s=e(7854),f=e(5005),l=e(3366),p=e(1320),h=e(2248),d=e(8003),v=e(6340),y=e(111),g=e(3099),b=e(5787),m=e(4326),w=e(2788),x=e(408),S=e(7072),E=e(6707),_=e(261).set,O=e(5948),T=e(9478),P=e(842),j=e(8523),A=e(2534),I=e(9909),R=e(4705),L=e(5112),k=e(7392),C=L(\"species\"),D=\"Promise\",B=I.get,U=I.set,F=I.getterFor(D),M=l,N=s.TypeError,G=s.document,X=s.process,H=f(\"fetch\"),$=j.f,q=$,W=\"process\"==m(X),V=!!(G&&G.createEvent&&s.dispatchEvent),z=\"unhandledrejection\",K=R(D,(function(){if(!(w(M)!==String(M))){if(66===k)return!0;if(!W&&\"function\"!=typeof PromiseRejectionEvent)return!0}if(c&&!M.prototype.finally)return!0;if(k>=51&&/native code/.test(M))return!1;var t=M.resolve(1),r=function(t){t((function(){}),(function(){}))};return(t.constructor={})[C]=r,!(t.then((function(){}))instanceof r)})),Y=K||!S((function(t){M.all(t).catch((function(){}))})),J=function(t){var r;return!(!y(t)||\"function\"!=typeof(r=t.then))&&r},Q=function(t,r,e){if(!r.notified){r.notified=!0;var n=r.reactions;O((function(){for(var o=r.value,i=1==r.state,u=0;n.length>u;){var a,c,s,f=n[u++],l=i?f.ok:f.fail,p=f.resolve,h=f.reject,d=f.domain;try{l?(i||(2===r.rejection&&et(t,r),r.rejection=1),!0===l?a=o:(d&&d.enter(),a=l(o),d&&(d.exit(),s=!0)),a===f.promise?h(N(\"Promise-chain cycle\")):(c=J(a))?c.call(a,p,h):p(a)):h(o)}catch(t){d&&!s&&d.exit(),h(t)}}r.reactions=[],r.notified=!1,e&&!r.rejection&&tt(t,r)}))}},Z=function(t,r,e){var n,o;V?((n=G.createEvent(\"Event\")).promise=r,n.reason=e,n.initEvent(t,!1,!0),s.dispatchEvent(n)):n={promise:r,reason:e},(o=s[\"on\"+t])?o(n):t===z&&P(\"Unhandled promise rejection\",e)},tt=function(t,r){_.call(s,(function(){var e,n=r.value;if(rt(r)&&(e=A((function(){W?X.emit(\"unhandledRejection\",n,t):Z(z,t,n)})),r.rejection=W||rt(r)?2:1,e.error))throw e.value}))},rt=function(t){return 1!==t.rejection&&!t.parent},et=function(t,r){_.call(s,(function(){W?X.emit(\"rejectionHandled\",t):Z(\"rejectionhandled\",t,r.value)}))},nt=function(t,r,e,n){return function(o){t(r,e,o,n)}},ot=function(t,r,e,n){r.done||(r.done=!0,n&&(r=n),r.value=e,r.state=2,Q(t,r,!0))},it=function(t,r,e,n){if(!r.done){r.done=!0,n&&(r=n);try{if(t===e)throw N(\"Promise can\\'t be resolved itself\");var o=J(e);o?O((function(){var n={done:!1};try{o.call(e,nt(it,t,n,r),nt(ot,t,n,r))}catch(e){ot(t,n,e,r)}})):(r.value=e,r.state=1,Q(t,r,!1))}catch(e){ot(t,{done:!1},e,r)}}};K&&(M=function(t){b(this,M,D),g(t),n.call(this);var r=B(this);try{t(nt(it,this,r),nt(ot,this,r))}catch(t){ot(this,r,t)}},(n=function(t){U(this,{type:D,done:!1,notified:!1,parent:!1,reactions:[],rejection:!1,state:0,value:void 0})}).prototype=h(M.prototype,{then:function(t,r){var e=F(this),n=$(E(this,M));return n.ok=\"function\"!=typeof t||t,n.fail=\"function\"==typeof r&&r,n.domain=W?X.domain:void 0,e.parent=!0,e.reactions.push(n),0!=e.state&&Q(this,e,!1),n.promise},catch:function(t){return this.then(void 0,t)}}),o=function(){var t=new n,r=B(t);this.promise=t,this.resolve=nt(it,t,r),this.reject=nt(ot,t,r)},j.f=$=function(t){return t===M||t===i?new o(t):q(t)},c||\"function\"!=typeof l||(u=l.prototype.then,p(l.prototype,\"then\",(function(t,r){var e=this;return new M((function(t,r){u.call(e,t,r)})).then(t,r)}),{unsafe:!0}),\"function\"==typeof H&&a({global:!0,enumerable:!0,forced:!0},{fetch:function(t){return T(M,H.apply(s,arguments))}}))),a({global:!0,wrap:!0,forced:K},{Promise:M}),d(M,D,!1,!0),v(D),i=f(D),a({target:D,stat:!0,forced:K},{reject:function(t){var r=$(this);return r.reject.call(void 0,t),r.promise}}),a({target:D,stat:!0,forced:c||K},{resolve:function(t){return T(c&&this===i?M:this,t)}}),a({target:D,stat:!0,forced:Y},{all:function(t){var r=this,e=$(r),n=e.resolve,o=e.reject,i=A((function(){var e=g(r.resolve),i=[],u=0,a=1;x(t,(function(t){var c=u++,s=!1;i.push(void 0),a++,e.call(r,t).then((function(t){s||(s=!0,i[c]=t,--a||n(i))}),o)})),--a||n(i)}));return i.error&&o(i.value),e.promise},race:function(t){var r=this,e=$(r),n=e.reject,o=A((function(){var o=g(r.resolve);x(t,(function(t){o.call(r,t).then(e.resolve,n)}))}));return o.error&&n(o.value),e.promise}})},4916:function(t,r,e){\"use strict\";var n=e(2109),o=e(2261);n({target:\"RegExp\",proto:!0,forced:/./.exec!==o},{exec:o})},5218:function(t,r,e){\"use strict\";var n=e(2109),o=e(4230);n({target:\"String\",proto:!0,forced:e(3429)(\"anchor\")},{anchor:function(t){return o(this,\"a\",\"name\",t)}})},4475:function(t,r,e){\"use strict\";var n=e(2109),o=e(4230);n({target:\"String\",proto:!0,forced:e(3429)(\"big\")},{big:function(){return o(this,\"big\",\"\",\"\")}})},7929:function(t,r,e){\"use strict\";var n=e(2109),o=e(4230);n({target:\"String\",proto:!0,forced:e(3429)(\"blink\")},{blink:function(){return o(this,\"blink\",\"\",\"\")}})},915:function(t,r,e){\"use strict\";var n=e(2109),o=e(4230);n({target:\"String\",proto:!0,forced:e(3429)(\"bold\")},{bold:function(){return o(this,\"b\",\"\",\"\")}})},9841:function(t,r,e){\"use strict\";var n=e(2109),o=e(8710).codeAt;n({target:\"String\",proto:!0},{codePointAt:function(t){return o(this,t)}})},7852:function(t,r,e){\"use strict\";var n,o=e(2109),i=e(1236).f,u=e(7466),a=e(3929),c=e(4488),s=e(4964),f=e(1913),l=\"\".endsWith,p=Math.min,h=s(\"endsWith\");o({target:\"String\",proto:!0,forced:!!(f||h||(n=i(String.prototype,\"endsWith\"),!n||n.writable))&&!h},{endsWith:function(t){var r=String(c(this));a(t);var e=arguments.length>1?arguments[1]:void 0,n=u(r.length),o=void 0===e?n:p(u(e),n),i=String(t);return l?l.call(r,i,o):r.slice(o-i.length,o)===i}})},9253:function(t,r,e){\"use strict\";var n=e(2109),o=e(4230);n({target:\"String\",proto:!0,forced:e(3429)(\"fixed\")},{fixed:function(){return o(this,\"tt\",\"\",\"\")}})},2125:function(t,r,e){\"use strict\";var n=e(2109),o=e(4230);n({target:\"String\",proto:!0,forced:e(3429)(\"fontcolor\")},{fontcolor:function(t){return o(this,\"font\",\"color\",t)}})},8830:function(t,r,e){\"use strict\";var n=e(2109),o=e(4230);n({target:\"String\",proto:!0,forced:e(3429)(\"fontsize\")},{fontsize:function(t){return o(this,\"font\",\"size\",t)}})},4953:function(t,r,e){var n=e(2109),o=e(1400),i=String.fromCharCode,u=String.fromCodePoint;n({target:\"String\",stat:!0,forced:!!u&&1!=u.length},{fromCodePoint:function(t){for(var r,e=[],n=arguments.length,u=0;n>u;){if(r=+arguments[u++],o(r,1114111)!==r)throw RangeError(r+\" is not a valid code point\");e.push(r<65536?i(r):i(55296+((r-=65536)>>10),r%1024+56320))}return e.join(\"\")}})},2023:function(t,r,e){\"use strict\";var n=e(2109),o=e(3929),i=e(4488);n({target:\"String\",proto:!0,forced:!e(4964)(\"includes\")},{includes:function(t){return!!~String(i(this)).indexOf(o(t),arguments.length>1?arguments[1]:void 0)}})},8734:function(t,r,e){\"use strict\";var n=e(2109),o=e(4230);n({target:\"String\",proto:!0,forced:e(3429)(\"italics\")},{italics:function(){return o(this,\"i\",\"\",\"\")}})},8783:function(t,r,e){\"use strict\";var n=e(8710).charAt,o=e(9909),i=e(654),u=\"String Iterator\",a=o.set,c=o.getterFor(u);i(String,\"String\",(function(t){a(this,{type:u,string:String(t),index:0})}),(function(){var t,r=c(this),e=r.string,o=r.index;return o>=e.length?{value:void 0,done:!0}:(t=n(e,o),r.index+=t.length,{value:t,done:!1})}))},9254:function(t,r,e){\"use strict\";var n=e(2109),o=e(4230);n({target:\"String\",proto:!0,forced:e(3429)(\"link\")},{link:function(t){return o(this,\"a\",\"href\",t)}})},6373:function(t,r,e){\"use strict\";var n=e(2109),o=e(4994),i=e(4488),u=e(7466),a=e(3099),c=e(9670),s=e(4326),f=e(7850),l=e(7066),p=e(8880),h=e(7293),d=e(5112),v=e(6707),y=e(1530),g=e(9909),b=e(1913),m=d(\"matchAll\"),w=\"RegExp String\",x=\"RegExp String Iterator\",S=g.set,E=g.getterFor(x),_=RegExp.prototype,O=_.exec,T=\"\".matchAll,P=!!T&&!h((function(){\"a\".matchAll(/./)})),j=o((function(t,r,e,n){S(this,{type:x,regexp:t,string:r,global:e,unicode:n,done:!1})}),w,(function(){var t=E(this);if(t.done)return{value:void 0,done:!0};var r=t.regexp,e=t.string,n=function(t,r){var e,n=t.exec;if(\"function\"==typeof n){if(\"object\"!=typeof(e=n.call(t,r)))throw TypeError(\"Incorrect exec result\");return e}return O.call(t,r)}(r,e);return null===n?{value:void 0,done:t.done=!0}:t.global?(\"\"==String(n[0])&&(r.lastIndex=y(e,u(r.lastIndex),t.unicode)),{value:n,done:!1}):(t.done=!0,{value:n,done:!1})})),A=function(t){var r,e,n,o,i,a,s=c(this),f=String(t);return r=v(s,RegExp),void 0===(e=s.flags)&&s instanceof RegExp&&!(\"flags\"in _)&&(e=l.call(s)),n=void 0===e?\"\":String(e),o=new r(r===RegExp?s.source:s,n),i=!!~n.indexOf(\"g\"),a=!!~n.indexOf(\"u\"),o.lastIndex=u(s.lastIndex),new j(o,f,i,a)};n({target:\"String\",proto:!0,forced:P},{matchAll:function(t){var r,e,n,o=i(this);if(null!=t){if(f(t)&&!~String(i(\"flags\"in _?t.flags:l.call(t))).indexOf(\"g\"))throw TypeError(\"`.matchAll` does not allow non-global regexes\");if(P)return T.apply(o,arguments);if(void 0===(e=t[m])&&b&&\"RegExp\"==s(t)&&(e=A),null!=e)return a(e).call(t,o)}else if(P)return T.apply(o,arguments);return r=String(o),n=new RegExp(t,\"g\"),b?A.call(n,r):n[m](r)}}),b||m in _||p(_,m,A)},4723:function(t,r,e){\"use strict\";var n=e(7007),o=e(9670),i=e(7466),u=e(4488),a=e(1530),c=e(7651);n(\"match\",1,(function(t,r,e){return[function(r){var e=u(this),n=null==r?void 0:r[t];return void 0!==n?n.call(r,e):new RegExp(r)[t](String(e))},function(t){var n=e(r,t,this);if(n.done)return n.value;var u=o(t),s=String(this);if(!u.global)return c(u,s);var f=u.unicode;u.lastIndex=0;for(var l,p=[],h=0;null!==(l=c(u,s));){var d=String(l[0]);p[h]=d,\"\"===d&&(u.lastIndex=a(s,i(u.lastIndex),f)),h++}return 0===h?null:p}]}))},6528:function(t,r,e){\"use strict\";var n=e(2109),o=e(6650).end;n({target:\"String\",proto:!0,forced:e(4986)},{padEnd:function(t){return o(this,t,arguments.length>1?arguments[1]:void 0)}})},3112:function(t,r,e){\"use strict\";var n=e(2109),o=e(6650).start;n({target:\"String\",proto:!0,forced:e(4986)},{padStart:function(t){return o(this,t,arguments.length>1?arguments[1]:void 0)}})},8992:function(t,r,e){var n=e(2109),o=e(5656),i=e(7466);n({target:\"String\",stat:!0},{raw:function(t){for(var r=o(t.raw),e=i(r.length),n=arguments.length,u=[],a=0;e>a;)u.push(String(r[a++])),a<n&&u.push(String(arguments[a]));return u.join(\"\")}})},2481:function(t,r,e){e(2109)({target:\"String\",proto:!0},{repeat:e(8415)})},5306:function(t,r,e){\"use strict\";var n=e(7007),o=e(9670),i=e(7908),u=e(7466),a=e(9958),c=e(4488),s=e(1530),f=e(7651),l=Math.max,p=Math.min,h=Math.floor,d=/\\\\$([$&\\'`]|\\\\d\\\\d?|<[^>]*>)/g,v=/\\\\$([$&\\'`]|\\\\d\\\\d?)/g;n(\"replace\",2,(function(t,r,e,n){var y=n.REGEXP_REPLACE_SUBSTITUTES_UNDEFINED_CAPTURE,g=n.REPLACE_KEEPS_$0,b=y?\"$\":\"$0\";return[function(e,n){var o=c(this),i=null==e?void 0:e[t];return void 0!==i?i.call(e,o,n):r.call(String(o),e,n)},function(t,n){if(!y&&g||\"string\"==typeof n&&-1===n.indexOf(b)){var i=e(r,t,this,n);if(i.done)return i.value}var c=o(t),h=String(this),d=\"function\"==typeof n;d||(n=String(n));var v=c.global;if(v){var w=c.unicode;c.lastIndex=0}for(var x=[];;){var S=f(c,h);if(null===S)break;if(x.push(S),!v)break;\"\"===String(S[0])&&(c.lastIndex=s(h,u(c.lastIndex),w))}for(var E,_=\"\",O=0,T=0;T<x.length;T++){S=x[T];for(var P=String(S[0]),j=l(p(a(S.index),h.length),0),A=[],I=1;I<S.length;I++)A.push(void 0===(E=S[I])?E:String(E));var R=S.groups;if(d){var L=[P].concat(A,j,h);void 0!==R&&L.push(R);var k=String(n.apply(void 0,L))}else k=m(P,h,j,A,R,n);j>=O&&(_+=h.slice(O,j)+k,O=j+P.length)}return _+h.slice(O)}];function m(t,e,n,o,u,a){var c=n+t.length,s=o.length,f=v;return void 0!==u&&(u=i(u),f=d),r.call(a,f,(function(r,i){var a;switch(i.charAt(0)){case\"$\":return\"$\";case\"&\":return t;case\"`\":return e.slice(0,n);case\"\\'\":return e.slice(c);case\"<\":a=u[i.slice(1,-1)];break;default:var f=+i;if(0===f)return r;if(f>s){var l=h(f/10);return 0===l?r:l<=s?void 0===o[l-1]?i.charAt(1):o[l-1]+i.charAt(1):r}a=o[f-1]}return void 0===a?\"\":a}))}}))},4765:function(t,r,e){\"use strict\";var n=e(7007),o=e(9670),i=e(4488),u=e(6029),a=e(7651);n(\"search\",1,(function(t,r,e){return[function(r){var e=i(this),n=null==r?void 0:r[t];return void 0!==n?n.call(r,e):new RegExp(r)[t](String(e))},function(t){var n=e(r,t,this);if(n.done)return n.value;var i=o(t),c=String(this),s=i.lastIndex;u(s,0)||(i.lastIndex=0);var f=a(i,c);return u(i.lastIndex,s)||(i.lastIndex=s),null===f?-1:f.index}]}))},7268:function(t,r,e){\"use strict\";var n=e(2109),o=e(4230);n({target:\"String\",proto:!0,forced:e(3429)(\"small\")},{small:function(){return o(this,\"small\",\"\",\"\")}})},3123:function(t,r,e){\"use strict\";var n=e(7007),o=e(7850),i=e(9670),u=e(4488),a=e(6707),c=e(1530),s=e(7466),f=e(7651),l=e(2261),p=e(7293),h=[].push,d=Math.min,v=4294967295,y=!p((function(){return!RegExp(v,\"y\")}));n(\"split\",2,(function(t,r,e){var n;return n=\"c\"==\"abbc\".split(/(b)*/)[1]||4!=\"test\".split(/(?:)/,-1).length||2!=\"ab\".split(/(?:ab)*/).length||4!=\".\".split(/(.?)(.?)/).length||\".\".split(/()()/).length>1||\"\".split(/.?/).length?function(t,e){var n=String(u(this)),i=void 0===e?v:e>>>0;if(0===i)return[];if(void 0===t)return[n];if(!o(t))return r.call(n,t,i);for(var a,c,s,f=[],p=(t.ignoreCase?\"i\":\"\")+(t.multiline?\"m\":\"\")+(t.unicode?\"u\":\"\")+(t.sticky?\"y\":\"\"),d=0,y=new RegExp(t.source,p+\"g\");(a=l.call(y,n))&&!((c=y.lastIndex)>d&&(f.push(n.slice(d,a.index)),a.length>1&&a.index<n.length&&h.apply(f,a.slice(1)),s=a[0].length,d=c,f.length>=i));)y.lastIndex===a.index&&y.lastIndex++;return d===n.length?!s&&y.test(\"\")||f.push(\"\"):f.push(n.slice(d)),f.length>i?f.slice(0,i):f}:\"0\".split(void 0,0).length?function(t,e){return void 0===t&&0===e?[]:r.call(this,t,e)}:r,[function(r,e){var o=u(this),i=null==r?void 0:r[t];return void 0!==i?i.call(r,o,e):n.call(String(o),r,e)},function(t,o){var u=e(n,t,this,o,n!==r);if(u.done)return u.value;var l=i(t),p=String(this),h=a(l,RegExp),g=l.unicode,b=(l.ignoreCase?\"i\":\"\")+(l.multiline?\"m\":\"\")+(l.unicode?\"u\":\"\")+(y?\"y\":\"g\"),m=new h(y?l:\"^(?:\"+l.source+\")\",b),w=void 0===o?v:o>>>0;if(0===w)return[];if(0===p.length)return null===f(m,p)?[p]:[];for(var x=0,S=0,E=[];S<p.length;){m.lastIndex=y?S:0;var _,O=f(m,y?p:p.slice(S));if(null===O||(_=d(s(m.lastIndex+(y?0:S)),p.length))===x)S=c(p,S,g);else{if(E.push(p.slice(x,S)),E.length===w)return E;for(var T=1;T<=O.length-1;T++)if(E.push(O[T]),E.length===w)return E;S=x=_}}return E.push(p.slice(x)),E}]}),!y)},3157:function(t,r,e){\"use strict\";var n,o=e(2109),i=e(1236).f,u=e(7466),a=e(3929),c=e(4488),s=e(4964),f=e(1913),l=\"\".startsWith,p=Math.min,h=s(\"startsWith\");o({target:\"String\",proto:!0,forced:!!(f||h||(n=i(String.prototype,\"startsWith\"),!n||n.writable))&&!h},{startsWith:function(t){var r=String(c(this));a(t);var e=u(p(arguments.length>1?arguments[1]:void 0,r.length)),n=String(t);return l?l.call(r,n,e):r.slice(e,e+n.length)===n}})},7397:function(t,r,e){\"use strict\";var n=e(2109),o=e(4230);n({target:\"String\",proto:!0,forced:e(3429)(\"strike\")},{strike:function(){return o(this,\"strike\",\"\",\"\")}})},86:function(t,r,e){\"use strict\";var n=e(2109),o=e(4230);n({target:\"String\",proto:!0,forced:e(3429)(\"sub\")},{sub:function(){return o(this,\"sub\",\"\",\"\")}})},623:function(t,r,e){\"use strict\";var n=e(2109),o=e(4230);n({target:\"String\",proto:!0,forced:e(3429)(\"sup\")},{sup:function(){return o(this,\"sup\",\"\",\"\")}})},8702:function(t,r,e){\"use strict\";var n=e(2109),o=e(3111).end,i=e(6091)(\"trimEnd\"),u=i?function(){return o(this)}:\"\".trimEnd;n({target:\"String\",proto:!0,forced:i},{trimEnd:u,trimRight:u})},5674:function(t,r,e){\"use strict\";var n=e(2109),o=e(3111).start,i=e(6091)(\"trimStart\"),u=i?function(){return o(this)}:\"\".trimStart;n({target:\"String\",proto:!0,forced:i},{trimStart:u,trimLeft:u})},3210:function(t,r,e){\"use strict\";var n=e(2109),o=e(3111).trim;n({target:\"String\",proto:!0,forced:e(6091)(\"trim\")},{trim:function(){return o(this)}})},3948:function(t,r,e){var n=e(7854),o=e(8324),i=e(6992),u=e(8880),a=e(5112),c=a(\"iterator\"),s=a(\"toStringTag\"),f=i.values;for(var l in o){var p=n[l],h=p&&p.prototype;if(h){if(h[c]!==f)try{u(h,c,f)}catch(t){h[c]=f}if(h[s]||u(h,s,l),o[l])for(var d in i)if(h[d]!==i[d])try{u(h,d,i[d])}catch(t){h[d]=i[d]}}}},1150:function(t,r,e){var n=e(7633);t.exports=n},9712:function(t,r,e){var n=e(1111);t.exports=n},5666:function(t){var r=function(t){\"use strict\";var r,e=Object.prototype,n=e.hasOwnProperty,o=\"function\"==typeof Symbol?Symbol:{},i=o.iterator||\"@@iterator\",u=o.asyncIterator||\"@@asyncIterator\",a=o.toStringTag||\"@@toStringTag\";function c(t,r,e){return Object.defineProperty(t,r,{value:e,enumerable:!0,configurable:!0,writable:!0}),t[r]}try{c({},\"\")}catch(t){c=function(t,r,e){return t[r]=e}}function s(t,r,e,n){var o=r&&r.prototype instanceof y?r:y,i=Object.create(o.prototype),u=new j(n||[]);return i._invoke=function(t,r,e){var n=l;return function(o,i){if(n===h)throw new Error(\"Generator is already running\");if(n===d){if(\"throw\"===o)throw i;return I()}for(e.method=o,e.arg=i;;){var u=e.delegate;if(u){var a=O(u,e);if(a){if(a===v)continue;return a}}if(\"next\"===e.method)e.sent=e._sent=e.arg;else if(\"throw\"===e.method){if(n===l)throw n=d,e.arg;e.dispatchException(e.arg)}else\"return\"===e.method&&e.abrupt(\"return\",e.arg);n=h;var c=f(t,r,e);if(\"normal\"===c.type){if(n=e.done?d:p,c.arg===v)continue;return{value:c.arg,done:e.done}}\"throw\"===c.type&&(n=d,e.method=\"throw\",e.arg=c.arg)}}}(t,e,u),i}function f(t,r,e){try{return{type:\"normal\",arg:t.call(r,e)}}catch(t){return{type:\"throw\",arg:t}}}t.wrap=s;var l=\"suspendedStart\",p=\"suspendedYield\",h=\"executing\",d=\"completed\",v={};function y(){}function g(){}function b(){}var m={};m[i]=function(){return this};var w=Object.getPrototypeOf,x=w&&w(w(A([])));x&&x!==e&&n.call(x,i)&&(m=x);var S=b.prototype=y.prototype=Object.create(m);function E(t){[\"next\",\"throw\",\"return\"].forEach((function(r){c(t,r,(function(t){return this._invoke(r,t)}))}))}function _(t,r){function e(o,i,u,a){var c=f(t[o],t,i);if(\"throw\"!==c.type){var s=c.arg,l=s.value;return l&&\"object\"==typeof l&&n.call(l,\"__await\")?r.resolve(l.__await).then((function(t){e(\"next\",t,u,a)}),(function(t){e(\"throw\",t,u,a)})):r.resolve(l).then((function(t){s.value=t,u(s)}),(function(t){return e(\"throw\",t,u,a)}))}a(c.arg)}var o;this._invoke=function(t,n){function i(){return new r((function(r,o){e(t,n,r,o)}))}return o=o?o.then(i,i):i()}}function O(t,e){var n=t.iterator[e.method];if(n===r){if(e.delegate=null,\"throw\"===e.method){if(t.iterator.return&&(e.method=\"return\",e.arg=r,O(t,e),\"throw\"===e.method))return v;e.method=\"throw\",e.arg=new TypeError(\"The iterator does not provide a \\'throw\\' method\")}return v}var o=f(n,t.iterator,e.arg);if(\"throw\"===o.type)return e.method=\"throw\",e.arg=o.arg,e.delegate=null,v;var i=o.arg;return i?i.done?(e[t.resultName]=i.value,e.next=t.nextLoc,\"return\"!==e.method&&(e.method=\"next\",e.arg=r),e.delegate=null,v):i:(e.method=\"throw\",e.arg=new TypeError(\"iterator result is not an object\"),e.delegate=null,v)}function T(t){var r={tryLoc:t[0]};1 in t&&(r.catchLoc=t[1]),2 in t&&(r.finallyLoc=t[2],r.afterLoc=t[3]),this.tryEntries.push(r)}function P(t){var r=t.completion||{};r.type=\"normal\",delete r.arg,t.completion=r}function j(t){this.tryEntries=[{tryLoc:\"root\"}],t.forEach(T,this),this.reset(!0)}function A(t){if(t){var e=t[i];if(e)return e.call(t);if(\"function\"==typeof t.next)return t;if(!isNaN(t.length)){var o=-1,u=function e(){for(;++o<t.length;)if(n.call(t,o))return e.value=t[o],e.done=!1,e;return e.value=r,e.done=!0,e};return u.next=u}}return{next:I}}function I(){return{value:r,done:!0}}return g.prototype=S.constructor=b,b.constructor=g,g.displayName=c(b,a,\"GeneratorFunction\"),t.isGeneratorFunction=function(t){var r=\"function\"==typeof t&&t.constructor;return!!r&&(r===g||\"GeneratorFunction\"===(r.displayName||r.name))},t.mark=function(t){return Object.setPrototypeOf?Object.setPrototypeOf(t,b):(t.__proto__=b,c(t,a,\"GeneratorFunction\")),t.prototype=Object.create(S),t},t.awrap=function(t){return{__await:t}},E(_.prototype),_.prototype[u]=function(){return this},t.AsyncIterator=_,t.async=function(r,e,n,o,i){void 0===i&&(i=Promise);var u=new _(s(r,e,n,o),i);return t.isGeneratorFunction(e)?u:u.next().then((function(t){return t.done?t.value:u.next()}))},E(S),c(S,a,\"Generator\"),S[i]=function(){return this},S.toString=function(){return\"[object Generator]\"},t.keys=function(t){var r=[];for(var e in t)r.push(e);return r.reverse(),function e(){for(;r.length;){var n=r.pop();if(n in t)return e.value=n,e.done=!1,e}return e.done=!0,e}},t.values=A,j.prototype={constructor:j,reset:function(t){if(this.prev=0,this.next=0,this.sent=this._sent=r,this.done=!1,this.delegate=null,this.method=\"next\",this.arg=r,this.tryEntries.forEach(P),!t)for(var e in this)\"t\"===e.charAt(0)&&n.call(this,e)&&!isNaN(+e.slice(1))&&(this[e]=r)},stop:function(){this.done=!0;var t=this.tryEntries[0].completion;if(\"throw\"===t.type)throw t.arg;return this.rval},dispatchException:function(t){if(this.done)throw t;var e=this;function o(n,o){return a.type=\"throw\",a.arg=t,e.next=n,o&&(e.method=\"next\",e.arg=r),!!o}for(var i=this.tryEntries.length-1;i>=0;--i){var u=this.tryEntries[i],a=u.completion;if(\"root\"===u.tryLoc)return o(\"end\");if(u.tryLoc<=this.prev){var c=n.call(u,\"catchLoc\"),s=n.call(u,\"finallyLoc\");if(c&&s){if(this.prev<u.catchLoc)return o(u.catchLoc,!0);if(this.prev<u.finallyLoc)return o(u.finallyLoc)}else if(c){if(this.prev<u.catchLoc)return o(u.catchLoc,!0)}else{if(!s)throw new Error(\"try statement without catch or finally\");if(this.prev<u.finallyLoc)return o(u.finallyLoc)}}}},abrupt:function(t,r){for(var e=this.tryEntries.length-1;e>=0;--e){var o=this.tryEntries[e];if(o.tryLoc<=this.prev&&n.call(o,\"finallyLoc\")&&this.prev<o.finallyLoc){var i=o;break}}i&&(\"break\"===t||\"continue\"===t)&&i.tryLoc<=r&&r<=i.finallyLoc&&(i=null);var u=i?i.completion:{};return u.type=t,u.arg=r,i?(this.method=\"next\",this.next=i.finallyLoc,v):this.complete(u)},complete:function(t,r){if(\"throw\"===t.type)throw t.arg;return\"break\"===t.type||\"continue\"===t.type?this.next=t.arg:\"return\"===t.type?(this.rval=this.arg=t.arg,this.method=\"return\",this.next=\"end\"):\"normal\"===t.type&&r&&(this.next=r),v},finish:function(t){for(var r=this.tryEntries.length-1;r>=0;--r){var e=this.tryEntries[r];if(e.finallyLoc===t)return this.complete(e.completion,e.afterLoc),P(e),v}},catch:function(t){for(var r=this.tryEntries.length-1;r>=0;--r){var e=this.tryEntries[r];if(e.tryLoc===t){var n=e.completion;if(\"throw\"===n.type){var o=n.arg;P(e)}return o}}throw new Error(\"illegal catch attempt\")},delegateYield:function(t,e,n){return this.delegate={iterator:A(t),resultName:e,nextLoc:n},\"next\"===this.method&&(this.arg=r),v}},t}(t.exports);try{regeneratorRuntime=r}catch(t){Function(\"r\",\"regeneratorRuntime = r\")(r)}},7147:function(t,r,e){\"use strict\";var n=\"undefined\"!=typeof globalThis&&globalThis||\"undefined\"!=typeof self&&self||void 0!==n&&n,o=\"URLSearchParams\"in n,i=\"Symbol\"in n&&\"iterator\"in Symbol,u=\"FileReader\"in n&&\"Blob\"in n&&function(){try{return new Blob,!0}catch(t){return!1}}(),a=\"FormData\"in n,c=\"ArrayBuffer\"in n;if(c)var s=[\"[object Int8Array]\",\"[object Uint8Array]\",\"[object Uint8ClampedArray]\",\"[object Int16Array]\",\"[object Uint16Array]\",\"[object Int32Array]\",\"[object Uint32Array]\",\"[object Float32Array]\",\"[object Float64Array]\"],f=ArrayBuffer.isView||function(t){return t&&s.indexOf(Object.prototype.toString.call(t))>-1};function l(t){if(\"string\"!=typeof t&&(t=String(t)),/[^a-z0-9\\\\-#$%&\\'*+.^_`|~!]/i.test(t)||\"\"===t)throw new TypeError(\"Invalid character in header field name\");return t.toLowerCase()}function p(t){return\"string\"!=typeof t&&(t=String(t)),t}function h(t){var r={next:function(){var r=t.shift();return{done:void 0===r,value:r}}};return i&&(r[Symbol.iterator]=function(){return r}),r}function d(t){this.map={},t instanceof d?t.forEach((function(t,r){this.append(r,t)}),this):Array.isArray(t)?t.forEach((function(t){this.append(t[0],t[1])}),this):t&&Object.getOwnPropertyNames(t).forEach((function(r){this.append(r,t[r])}),this)}function v(t){if(t.bodyUsed)return Promise.reject(new TypeError(\"Already read\"));t.bodyUsed=!0}function y(t){return new Promise((function(r,e){t.onload=function(){r(t.result)},t.onerror=function(){e(t.error)}}))}function g(t){var r=new FileReader,e=y(r);return r.readAsArrayBuffer(t),e}function b(t){if(t.slice)return t.slice(0);var r=new Uint8Array(t.byteLength);return r.set(new Uint8Array(t)),r.buffer}function m(){return this.bodyUsed=!1,this._initBody=function(t){var r;this.bodyUsed=this.bodyUsed,this._bodyInit=t,t?\"string\"==typeof t?this._bodyText=t:u&&Blob.prototype.isPrototypeOf(t)?this._bodyBlob=t:a&&FormData.prototype.isPrototypeOf(t)?this._bodyFormData=t:o&&URLSearchParams.prototype.isPrototypeOf(t)?this._bodyText=t.toString():c&&u&&((r=t)&&DataView.prototype.isPrototypeOf(r))?(this._bodyArrayBuffer=b(t.buffer),this._bodyInit=new Blob([this._bodyArrayBuffer])):c&&(ArrayBuffer.prototype.isPrototypeOf(t)||f(t))?this._bodyArrayBuffer=b(t):this._bodyText=t=Object.prototype.toString.call(t):this._bodyText=\"\",this.headers.get(\"content-type\")||(\"string\"==typeof t?this.headers.set(\"content-type\",\"text/plain;charset=UTF-8\"):this._bodyBlob&&this._bodyBlob.type?this.headers.set(\"content-type\",this._bodyBlob.type):o&&URLSearchParams.prototype.isPrototypeOf(t)&&this.headers.set(\"content-type\",\"application/x-www-form-urlencoded;charset=UTF-8\"))},u&&(this.blob=function(){var t=v(this);if(t)return t;if(this._bodyBlob)return Promise.resolve(this._bodyBlob);if(this._bodyArrayBuffer)return Promise.resolve(new Blob([this._bodyArrayBuffer]));if(this._bodyFormData)throw new Error(\"could not read FormData body as blob\");return Promise.resolve(new Blob([this._bodyText]))},this.arrayBuffer=function(){if(this._bodyArrayBuffer){var t=v(this);return t||(ArrayBuffer.isView(this._bodyArrayBuffer)?Promise.resolve(this._bodyArrayBuffer.buffer.slice(this._bodyArrayBuffer.byteOffset,this._bodyArrayBuffer.byteOffset+this._bodyArrayBuffer.byteLength)):Promise.resolve(this._bodyArrayBuffer))}return this.blob().then(g)}),this.text=function(){var t,r,e,n=v(this);if(n)return n;if(this._bodyBlob)return t=this._bodyBlob,r=new FileReader,e=y(r),r.readAsText(t),e;if(this._bodyArrayBuffer)return Promise.resolve(function(t){for(var r=new Uint8Array(t),e=new Array(r.length),n=0;n<r.length;n++)e[n]=String.fromCharCode(r[n]);return e.join(\"\")}(this._bodyArrayBuffer));if(this._bodyFormData)throw new Error(\"could not read FormData body as text\");return Promise.resolve(this._bodyText)},a&&(this.formData=function(){return this.text().then(S)}),this.json=function(){return this.text().then(JSON.parse)},this}d.prototype.append=function(t,r){t=l(t),r=p(r);var e=this.map[t];this.map[t]=e?e+\", \"+r:r},d.prototype.delete=function(t){delete this.map[l(t)]},d.prototype.get=function(t){return t=l(t),this.has(t)?this.map[t]:null},d.prototype.has=function(t){return this.map.hasOwnProperty(l(t))},d.prototype.set=function(t,r){this.map[l(t)]=p(r)},d.prototype.forEach=function(t,r){for(var e in this.map)this.map.hasOwnProperty(e)&&t.call(r,this.map[e],e,this)},d.prototype.keys=function(){var t=[];return this.forEach((function(r,e){t.push(e)})),h(t)},d.prototype.values=function(){var t=[];return this.forEach((function(r){t.push(r)})),h(t)},d.prototype.entries=function(){var t=[];return this.forEach((function(r,e){t.push([e,r])})),h(t)},i&&(d.prototype[Symbol.iterator]=d.prototype.entries);var w=[\"DELETE\",\"GET\",\"HEAD\",\"OPTIONS\",\"POST\",\"PUT\"];function x(t,r){if(!(this instanceof x))throw new TypeError(\\'Please use the \"new\" operator, this DOM object constructor cannot be called as a function.\\');var e,n,o=(r=r||{}).body;if(t instanceof x){if(t.bodyUsed)throw new TypeError(\"Already read\");this.url=t.url,this.credentials=t.credentials,r.headers||(this.headers=new d(t.headers)),this.method=t.method,this.mode=t.mode,this.signal=t.signal,o||null==t._bodyInit||(o=t._bodyInit,t.bodyUsed=!0)}else this.url=String(t);if(this.credentials=r.credentials||this.credentials||\"same-origin\",!r.headers&&this.headers||(this.headers=new d(r.headers)),this.method=(e=r.method||this.method||\"GET\",n=e.toUpperCase(),w.indexOf(n)>-1?n:e),this.mode=r.mode||this.mode||null,this.signal=r.signal||this.signal,this.referrer=null,(\"GET\"===this.method||\"HEAD\"===this.method)&&o)throw new TypeError(\"Body not allowed for GET or HEAD requests\");if(this._initBody(o),!(\"GET\"!==this.method&&\"HEAD\"!==this.method||\"no-store\"!==r.cache&&\"no-cache\"!==r.cache)){var i=/([?&])_=[^&]*/;if(i.test(this.url))this.url=this.url.replace(i,\"$1_=\"+(new Date).getTime());else{this.url+=(/\\\\?/.test(this.url)?\"&\":\"?\")+\"_=\"+(new Date).getTime()}}}function S(t){var r=new FormData;return t.trim().split(\"&\").forEach((function(t){if(t){var e=t.split(\"=\"),n=e.shift().replace(/\\\\+/g,\" \"),o=e.join(\"=\").replace(/\\\\+/g,\" \");r.append(decodeURIComponent(n),decodeURIComponent(o))}})),r}function E(t,r){if(!(this instanceof E))throw new TypeError(\\'Please use the \"new\" operator, this DOM object constructor cannot be called as a function.\\');r||(r={}),this.type=\"default\",this.status=void 0===r.status?200:r.status,this.ok=this.status>=200&&this.status<300,this.statusText=\"statusText\"in r?r.statusText:\"\",this.headers=new d(r.headers),this.url=r.url||\"\",this._initBody(t)}x.prototype.clone=function(){return new x(this,{body:this._bodyInit})},m.call(x.prototype),m.call(E.prototype),E.prototype.clone=function(){return new E(this._bodyInit,{status:this.status,statusText:this.statusText,headers:new d(this.headers),url:this.url})},E.error=function(){var t=new E(null,{status:0,statusText:\"\"});return t.type=\"error\",t};var _=[301,302,303,307,308];E.redirect=function(t,r){if(-1===_.indexOf(r))throw new RangeError(\"Invalid status code\");return new E(null,{status:r,headers:{location:t}})};var O=n.DOMException;try{new O}catch(t){(O=function(t,r){this.message=t,this.name=r;var e=Error(t);this.stack=e.stack}).prototype=Object.create(Error.prototype),O.prototype.constructor=O}function T(t,r){return new Promise((function(e,o){var i=new x(t,r);if(i.signal&&i.signal.aborted)return o(new O(\"Aborted\",\"AbortError\"));var a=new XMLHttpRequest;function s(){a.abort()}a.onload=function(){var t,r,n={status:a.status,statusText:a.statusText,headers:(t=a.getAllResponseHeaders()||\"\",r=new d,t.replace(/\\\\r?\\\\n[\\\\t ]+/g,\" \").split(/\\\\r?\\\\n/).forEach((function(t){var e=t.split(\":\"),n=e.shift().trim();if(n){var o=e.join(\":\").trim();r.append(n,o)}})),r)};n.url=\"responseURL\"in a?a.responseURL:n.headers.get(\"X-Request-URL\");var o=\"response\"in a?a.response:a.responseText;setTimeout((function(){e(new E(o,n))}),0)},a.onerror=function(){setTimeout((function(){o(new TypeError(\"Network request failed\"))}),0)},a.ontimeout=function(){setTimeout((function(){o(new TypeError(\"Network request failed\"))}),0)},a.onabort=function(){setTimeout((function(){o(new O(\"Aborted\",\"AbortError\"))}),0)},a.open(i.method,function(t){try{return\"\"===t&&n.location.href?n.location.href:t}catch(r){return t}}(i.url),!0),\"include\"===i.credentials?a.withCredentials=!0:\"omit\"===i.credentials&&(a.withCredentials=!1),\"responseType\"in a&&(u?a.responseType=\"blob\":c&&i.headers.get(\"Content-Type\")&&-1!==i.headers.get(\"Content-Type\").indexOf(\"application/octet-stream\")&&(a.responseType=\"arraybuffer\")),!r||\"object\"!=typeof r.headers||r.headers instanceof d?i.headers.forEach((function(t,r){a.setRequestHeader(r,t)})):Object.getOwnPropertyNames(r.headers).forEach((function(t){a.setRequestHeader(t,p(r.headers[t]))})),i.signal&&(i.signal.addEventListener(\"abort\",s),a.onreadystatechange=function(){4===a.readyState&&i.signal.removeEventListener(\"abort\",s)}),a.send(void 0===i._bodyInit?null:i._bodyInit)}))}T.polyfill=!0,n.fetch||(n.fetch=T,n.Headers=d,n.Request=x,n.Response=E)}},r={};function e(n){if(r[n])return r[n].exports;var o=r[n]={exports:{}};return t[n](o,o.exports,e),o.exports}e.d=function(t,r){for(var n in r)e.o(r,n)&&!e.o(t,n)&&Object.defineProperty(t,n,{enumerable:!0,get:r[n]})},e.g=function(){if(\"object\"==typeof globalThis)return globalThis;try{return this||new Function(\"return this\")()}catch(t){if(\"object\"==typeof window)return window}}(),e.o=function(t,r){return Object.prototype.hasOwnProperty.call(t,r)},e(5666),e(1150),e(9712),e(7147),e(1391),e(9135)}();</script>\\n\\n    <link rel=\"preload\" href=\"https://nav.files.bbci.co.uk/orbit/ece9cb048f668bbc4cc6214737a6cdb6/font/BBCReithSans_W_Rg.woff2\" as=\"font\" type=\"font/woff2\" crossorigin>\\n    <link rel=\"preload\" href=\"https://nav.files.bbci.co.uk/orbit/ece9cb048f668bbc4cc6214737a6cdb6/font/BBCReithSerif_W_Rg.woff2\" as=\"font\" type=\"font/woff2\" crossorigin>\\n    <link rel=\"preload\" href=\"https://nav.files.bbci.co.uk/orbit/ece9cb048f668bbc4cc6214737a6cdb6/font/BBCReithSans_W_It.woff2\" as=\"font\" type=\"font/woff2\" crossorigin>\\n    <link rel=\"preload\" href=\"https://nav.files.bbci.co.uk/orbit/ece9cb048f668bbc4cc6214737a6cdb6/font/BBCReithSerif_W_It.woff2\" as=\"font\" type=\"font/woff2\" crossorigin>\\n    <link rel=\"preload\" href=\"https://nav.files.bbci.co.uk/orbit/ece9cb048f668bbc4cc6214737a6cdb6/font/BBCReithSans_W_Bd.woff2\" as=\"font\" type=\"font/woff2\" crossorigin>\\n    <link rel=\"preload\" href=\"https://nav.files.bbci.co.uk/orbit/ece9cb048f668bbc4cc6214737a6cdb6/font/BBCReithSerif_W_Bd.woff2\" as=\"font\" type=\"font/woff2\" crossorigin>\\n    <link rel=\"preload\" href=\"https://nav.files.bbci.co.uk/orbit/ece9cb048f668bbc4cc6214737a6cdb6/font/BBCReithSans_W_BdIt.woff2\" as=\"font\" type=\"font/woff2\" crossorigin>\\n    <link rel=\"preload\" href=\"https://nav.files.bbci.co.uk/orbit/ece9cb048f668bbc4cc6214737a6cdb6/font/BBCReithSerif_W_BdIt.woff2\" as=\"font\" type=\"font/woff2\" crossorigin>\\n    <link rel=\"preload\" href=\"https://nav.files.bbci.co.uk/orbit/ece9cb048f668bbc4cc6214737a6cdb6/font/BBCReithSans_W_Lt.woff2\" as=\"font\" type=\"font/woff2\" crossorigin>\\n    <link rel=\"preload\" href=\"https://nav.files.bbci.co.uk/orbit/ece9cb048f668bbc4cc6214737a6cdb6/font/BBCReithSerif_W_Lt.woff2\" as=\"font\" type=\"font/woff2\" crossorigin>\\n    <link rel=\"preload\" href=\"https://nav.files.bbci.co.uk/orbit/ece9cb048f668bbc4cc6214737a6cdb6/font/BBCReithSans_W_LtIt.woff2\" as=\"font\" type=\"font/woff2\" crossorigin>\\n    <link rel=\"preload\" href=\"https://nav.files.bbci.co.uk/orbit/ece9cb048f668bbc4cc6214737a6cdb6/font/BBCReithSerif_W_LtIt.woff2\" as=\"font\" type=\"font/woff2\" crossorigin>\\n    <link rel=\"preload\" href=\"https://nav.files.bbci.co.uk/orbit/ece9cb048f668bbc4cc6214737a6cdb6/font/BBCReithSans_W_ExBd.woff2\" as=\"font\" type=\"font/woff2\" crossorigin>\\n    <link rel=\"preload\" href=\"https://nav.files.bbci.co.uk/orbit/ece9cb048f668bbc4cc6214737a6cdb6/font/BBCReithSerif_W_ExBd.woff2\" as=\"font\" type=\"font/woff2\" crossorigin>\\n    <link rel=\"preload\" href=\"https://nav.files.bbci.co.uk/orbit/ece9cb048f668bbc4cc6214737a6cdb6/font/BBCReithSans_W_ExBdIt.woff2\" as=\"font\" type=\"font/woff2\" crossorigin>\\n    <link rel=\"preload\" href=\"https://nav.files.bbci.co.uk/orbit/ece9cb048f668bbc4cc6214737a6cdb6/font/BBCReithSerif_W_ExBdIt.woff2\" as=\"font\" type=\"font/woff2\" crossorigin>\\n    <link rel=\"preload\" href=\"https://nav.files.bbci.co.uk/orbit/ece9cb048f668bbc4cc6214737a6cdb6/font/BBCReithSans_W_Md.woff2\" as=\"font\" type=\"font/woff2\" crossorigin>\\n    <link rel=\"preload\" href=\"https://nav.files.bbci.co.uk/orbit/ece9cb048f668bbc4cc6214737a6cdb6/font/BBCReithSerif_W_Md.woff2\" as=\"font\" type=\"font/woff2\" crossorigin>\\n    <link rel=\"preload\" href=\"https://nav.files.bbci.co.uk/orbit/ece9cb048f668bbc4cc6214737a6cdb6/font/BBCReithSans_W_MdIt.woff2\" as=\"font\" type=\"font/woff2\" crossorigin>\\n    <link rel=\"preload\" href=\"https://nav.files.bbci.co.uk/orbit/ece9cb048f668bbc4cc6214737a6cdb6/font/BBCReithSerif_W_MdIt.woff2\" as=\"font\" type=\"font/woff2\" crossorigin>\\n\\n<link rel=\"stylesheet\" href=\"https://nav.files.bbci.co.uk/orbit/ece9cb048f668bbc4cc6214737a6cdb6/css/orb-ltr.min.css\">\\n\\n<script src=\"https://nav.files.bbci.co.uk/orbit/ece9cb048f668bbc4cc6214737a6cdb6/js/api-forge-free.min.js\"></script>\\n\\n    \\n    <!-- navid Web Module: 0.2.0-40.c81e15f -->\\n    \\n    \\n    <!-- searchbox Web Module: 3.0.0-207.7d7a8c2 -->\\n    \\n    \\n    <!-- navpromo Web Module: 3.0.0-174.1602592 -->\\n    \\n    \\n    <!-- cookiebanner Web Module: 0.0.2-556.7ef1b51 -->\\n    \\n    \\n    <!-- useractivityhelper Web Module: 1.0.0-103.fe25334 -->\\n    \\n    \\n    <!-- reverb Web Module: 1.6.1 -->\\n    \\n    <!-- ads Web Module: 20201130-134636-4d8ddd997-4.10.0 -->\\n\\n    \\n    <link rel=\"stylesheet\" href=\"https://static.files.bbci.co.uk/account/id-cta/1.53.0/style/id-cta.css\" /><!--[if IE 8]><link href=\"https://static.files.bbci.co.uk/account/id-cta/1.53.0/style/ie8.css\" rel=\"stylesheet\"/> <![endif]--><script type=\"text/javascript\">(function() {if (!window.require) {throw new Error(\\'idcta: could not find require module\\');}if (typeof(map) == \\'undefined\\') {var map = {};}if (!!document.createElementNS && !!document.createElementNS(\\'http://www.w3.org/2000/svg\\', \\'svg\\').createSVGRect) {document.documentElement.className += \\' id-svg\\';}var ptrt = new RegExp(\"[\\\\\\\\?&]ptrt=([^&]*)\").exec(document.location.href);var ENDPOINT_URL = \\'https://idcta.api.bbc.co.uk\\';var ENDPOINT_CONFIG = (\\'/idcta/config?callback=&ptrt=\\' + encodeURIComponent((ptrt ? ptrt[1] : document.location.href))).replace(/\\\\&amp;/g, \\'&\\');var ENDPOINT_TRANSLATIONS = \\'/idcta/translations?callback=\\';function hasPromise() {var P = window.Promise;var promiseToString = null;if (P) {try {promiseToString = Object.prototype.toString.call(P.resolve());} catch(e) {/*silently ignored*/}}return (promiseToString === \\'[object Promise]\\' && !P.cast);}if (hasPromise()) {define(\\'idcta/es6-promise\\', function() {return window.Promise;});define(\\'idcta-v2/es6-promise\\', function() {return window.Promise;});}map[\\'idcta-v2\\'] = \\'https://static.files.bbci.co.uk/account/id-cta/1.53.0/modules/idcta-v2\\';map[\\'idcta-v2/config\\'] = ENDPOINT_URL + ENDPOINT_CONFIG;map[\\'idcta-v2/translations\\'] = ENDPOINT_URL + ENDPOINT_TRANSLATIONS;map[\\'idcta\\'] = \\'https://static.files.bbci.co.uk/account/id-cta/1.8.2/modules/idcta\\';map[\\'idcta-v2/idcta-1\\'] = \\'https://static.files.bbci.co.uk/account/id-cta/1.53.0/modules/idcta-v2/dist/idcta-1.min\\';map[\\'idcta-v2/experiment-snippet\\'] = \\'https://cdn.optimizely.com/public/4621041136/s/idcta_live\\';const idctaShim = {deps: [\\'idcta-v2/idcta-1\\'],};require({shim: {\\'idcta-v2/statusbar\\': idctaShim,\\'idcta-v2/id-config\\': idctaShim},map: {\\'*\\': {\\'idcta/idcta-1\\': \\'idcta-v2/idcta-1\\',\\'idcta\\': \\'idcta-v2\\',}},paths: map});window.idctaBaseUrl = ENDPOINT_URL;define(\\'idcta/config\\', [\\'idcta-v2/config\\'], function(data) {return data;});define(\\'idcta/translations\\', [\\'idcta-v2/translations\\'], function(data) {return data;});})();</script>\\n\\n    \\n    \\n<script type=\"text/javascript\">\\n  // Globally available search context\\n  window.SEARCHBOX={\"variant\":\"default\",\"locale\":\"en\",\"feature\":\"forge-free\",\"navSearchboxStaticPrefix\":\"https://nav.files.bbci.co.uk/searchbox/f8f1f2fe025bd744351a195a6b0840ee/\",\"searchboxAppStaticPrefix\":\"https://nav.files.bbci.co.uk/searchbox/f8f1f2fe025bd744351a195a6b0840ee/drawer\",\"searchFormHtml\":\"<div tabindex=\\\\\"-1\\\\\"><div><section class=\\\\\"se-searchbox-panel\\\\\"><div class=\\\\\"se-g-wrap\\\\\"><div class=\\\\\"se-g-layout\\\\\"><div class=\\\\\"se-g-layout__item se-searchbox-title\\\\\" aria-hidden=\\\\\"true\\\\\">search</div><div class=\\\\\"se-g-layout__item se-searchbox\\\\\"><form accept-charset=\\\\\"utf-8\\\\\" id=\\\\\"searchboxDrawerForm\\\\\" method=\\\\\"get\\\\\" action=\\\\\"https://search.bbc.co.uk/search\\\\\"><label class=\\\\\"se-searchbox__input\\\\\" for=\\\\\"se-searchbox-input-field\\\\\"><span class=\\\\\"se-sr-only\\\\\">Search Term</span><div><input type=\\\\\"text\\\\\" name=\\\\\"q\\\\\" value=\\\\\"\\\\\" id=\\\\\"se-searchbox-input-field\\\\\" class=\\\\\"se-searchbox__input__field\\\\\" maxLength=\\\\\"100\\\\\" autoComplete=\\\\\"off\\\\\" autoCorrect=\\\\\"off\\\\\" autoCapitalize=\\\\\"off\\\\\" spellcheck=\\\\\"false\\\\\" tabindex=\\\\\"0\\\\\"/></div></label><input type=\\\\\"hidden\\\\\" name=\\\\\"scope\\\\\" value=\\\\\"\\\\\"/><button type=\\\\\"submit\\\\\" class=\\\\\"se-searchbox__submit\\\\\" tabindex=\\\\\"0\\\\\" data-bbc-container=\\\\\"se-searchbox-panel\\\\\" data-bbc-title=\\\\\"search-icon\\\\\" data-bbc-metadata=\\\\\"{&quot;PAR&quot;:&quot;form::1&quot;,&quot;CHD&quot;:&quot;button::1&quot;}\\\\\" data-bbc-personalisation=\\\\\"{&quot;QRY&quot;:&quot;&quot;}\\\\\">Search</button><button type=\\\\\"button\\\\\" class=\\\\\"se-searchbox__clear se-searchbox__clear--visible\\\\\" tabindex=\\\\\"0\\\\\" data-bbc-container=\\\\\"se-searchbox-panel\\\\\" data-bbc-title=\\\\\"clear-icon\\\\\" data-bbc-metadata=\\\\\"{&quot;PAR&quot;:&quot;form::1&quot;,&quot;CHD&quot;:&quot;button::2&quot;}\\\\\" data-bbc-personalisation=\\\\\"{&quot;QRY&quot;:&quot;&quot;}\\\\\">Close</button></form></div></div></div></section><div aria-live=\\\\\"polite\\\\\" aria-atomic=\\\\\"true\\\\\" class=\\\\\"se-suggestions-container\\\\\"><section class=\\\\\"se-g-wrap\\\\\"></section></div></div></div>\",\"searchScopePlaceholder\":\"\",\"searchScopeParam\":\"\",\"searchScopeTemplate\":\"\",\"searchPlaceholderWrapperStart\":\"\",\"searchPlaceholderWrapperEnd\":\"\"};\\n  window.SEARCHBOX.searchScope = SEARCHBOX.searchScopeTemplate.split(\\'-\\')[0];\\n</script>\\n<link rel=\"stylesheet\" href=\"https://nav.files.bbci.co.uk/searchbox/f8f1f2fe025bd744351a195a6b0840ee/css/main.css\">\\n<!--[if IE 8]>\\n  <script type=\"text/javascript\" src=\"https://nav.files.bbci.co.uk/searchbox/f8f1f2fe025bd744351a195a6b0840ee/script/html5shiv.min.js\"></script>\\n  <script type=\"text/javascript\">window[\\'searchboxIEVersion\\'] = 8;</script>\\n  <link rel=\"stylesheet\" href=\"https://nav.files.bbci.co.uk/searchbox/f8f1f2fe025bd744351a195a6b0840ee/css/ie8.css\">\\n<![endif]-->\\n<!--[if IE 9]>\\n  <script type=\"text/javascript\">window[\\'searchboxIEVersion\\'] = 9;</script>\\n<![endif]-->\\n\\n\\n    \\n    \\n    \\n    \\n    \\n         <script src=\\'https://nav.files.bbci.co.uk/orbit-webmodules/0.0.2-556.7ef1b51/cookie-banner/cookie-library.min.js\\'></script><script type=\\'text/javascript\\'>if (window.define !==  undefined) {\\n        define(\\'orb/cookies\\', function() {\\n          return window.bbccookies;\\n        });\\n      }</script>  \\n    \\n    \\n    <script type=\\'text/javascript\\'>window.__detectview={clickManagementEnabled:false};</script>\\n    \\n    \\n    <script type=\"text/javascript\">\"use strict\";!function(){window.__reverbStaticLocation=\"https://mybbc-analytics.files.bbci.co.uk/reverb-client-js/\",window.__smarttagVersion=\"5.22.0\",window.__reverb={},window.__reverb.__reverbLoadedPromise=new Promise(function(e,n){window.__reverb.__resolveReverbLoaded=e,window.__reverb.__rejectReverbLoaded=n}),window.__reverb.__reverbTimeout=setTimeout(function(){window.__reverb.__rejectReverbLoaded()},5e3);var n=function(r,d){window.__reverb.__reverbLoadedPromise.then(function(e){if(r&&r.detail){var n=r.detail.label,t=r.detail.type,i=r.detail.elem,o=r.detail.originalEvent;r.detail.isClick&&(d=r.detail.isClick),e.userActionEvent(t,n,r.detail,i,o,d)}},function(){console.log(\"Reverb failed to load. Event not sent\")})};document.addEventListener(\"bbc-user-event\",function(e){n(e,!1)}),document.addEventListener(\"bbc-user-click\",function(e){n(e,!0)}),document.addEventListener(\"bbc-page-updated\",function(){window.__reverb.__reverbLoadedPromise.then(function(e){e.initialise().then(function(){return e.viewEvent()})},function(){console.log(\"Reverb failed to load. Event not sent\")})})}();</script><script type=\\'text/javascript\\' src=\\'https://mybbc-analytics.files.bbci.co.uk/reverb-client-js/reverb-1.6.1.js\\' async></script>\\n    \\n    <script type=\"text/javascript\">const adsDebug=/[?|&]ads-debug/.test(window.location.href);var bbcdotcomForgeAsync=!0,googletag=googletag||{};googletag.cmd=googletag.cmd||[],bbcdotcomScripts=[],tp=window.tp||[],_comscore=window._comscore||[];var bbcdotcom={test:/test/.test(window.location.hostname),adverts:{keyValues:{},breakpoints:{}},advert:{write:function(){},show:function(){},isActive:function(){return!1},layout:function(){return{reset:function(){}}}},config:{init:function(){},isAvailable:function(){return new Promise(function(t){bbcdotcom.resolves?bbcdotcom.resolves.isAvailable.push(t):t(!1)})},isAdsEnabledAsync:function(){return new Promise(function(t){bbcdotcom.resolves?bbcdotcom.resolves.adsEnabled.push(t):t(!1)})},isAnalyticsEnabledAsync:function(){return new Promise(function(t){bbcdotcom.resolves?bbcdotcom.resolves.analyticsEnabled.push(t):t(!1)})},setSections:function(){},setAdsEnabled:function(){},setAnalyticsEnabled:function(){},setAssetPrefix:function(){},setFlagpoles:function(){},setVersion:function(){},setJsPrefix:function(){},setSwfPrefix:function(){},setCssPrefix:function(){},setConfig:function(){},getAssetPrefix:function(){},getJsPrefix:function(){},getSwfPrefix:function(){},getCssPrefix:function(){},isOptimizelyEnabled:function(){},isThirdPartyDisabled:function(){},isThirdPartyDisabledEU:function(){},setEU:function(){}},survey:{init:function(){return!1}},data:{},init:function(){},objects:function(t){return!1},locale:{set:function(){},get:function(){}},setAdKeyValue:function(){},utils:{addEvent:function(){},addHtmlTagClass:function(){},log:function(){}},addLoadEvent:function(){},resolves:{isAvailable:[],adsEnabled:[],analyticsEnabled:[]},resolvePromises:function(){if(bbcdotcom.resolves){for(var t=0;t<bbcdotcom.resolves.isAvailable.length;t++)bbcdotcom.resolves.isAvailable[t](!1);delete bbcdotcom.resolves}},flag:{a:!1,s:!1},asyncCmd:[],isSportApp:function(){var t=window.location.pathname;return void 0!==t&&-1!==t.indexOf(\".app\")&&0===t.indexOf(\"/sport\")},init:function(t){bbcdotcom.asyncCmd.push(function(){bbcdotcom.init(t)})},slotAsync:function(t,n,o,e){bbcdotcom.asyncCmd.push(function(){bbcdotcom.slotAsync(t,n,o,e)})}};bbcdotcom.adverts.slotAsync=function(t,n,o){bbcdotcom.asyncCmd.push(function(){bbcdotcom.adverts.slotAsync(t,n,o)})},bbcdotcom.config.isAdsEnabled=function(){var t=window.location.pathname;return void 0===t||0!==t.indexOf(\"/sport\")||-1===t.indexOf(\".app\")},bbcdotcom.config.isActive=function(){var t=window.location.pathname;return void 0===t||0!==t.indexOf(\"/sport\")||-1===t.indexOf(\".app\")},bbcdotcom.config.isAnalyticsEnabled=function(){return!0},bbcdotcom.registerAd=function(t,n,o){bbcdotcom.asyncCmd.push(function(){bbcdotcom.registerAd(t,n,o)})},bbcdotcom.setAdUnit=function(t){bbcdotcom.asyncCmd.push(function(){bbcdotcom.setAdUnit(t)})},bbcdotcom.adverts.adUnit={},bbcdotcom.adverts.adUnit.setUid=function(t){bbcdotcom.asyncCmd.push(function(){bbcdotcom.adverts.adUnit.setUid(t)})},bbcdotcom.setConfig=function(t){bbcdotcom.asyncCmd.push(function(){bbcdotcom.setConfig(t)})},bbcdotcom.setAdKeyValue=function(t,n){bbcdotcom.asyncCmd.push(function(){bbcdotcom.setAdKeyValue(t,n)})},bbcdotcom.getFeature=function(){return{isEnabled:function(){return!0}}},bbcdotcom.setAdKeyValue=function(t,n){bbcdotcom.asyncCmd.push(function(){bbcdotcom.adverts.keyValues.set(t,n)})},bbcdotcom.adverts.keyValues.set=function(t,n){bbcdotcom.asyncCmd.push(function(){bbcdotcom.adverts.keyValues.set(t,n)})},bbcdotcom.adverts.keyValues.unset=function(t){bbcdotcom.asyncCmd.push(function(){bbcdotcom.adverts.keyValues.unset(t)})},bbcdotcom.pubsub={},bbcdotcom.pubsub.on=function(t,n){bbcdotcom.asyncCmd.push(function(){bbcdotcom.pubsub.on(t,n)})},bbcdotcom.pubsub.off=function(t,n){bbcdotcom.asyncCmd.push(function(){bbcdotcom.pubsub.off(t,n)})},bbcdotcom.analytics={},bbcdotcom.analytics.page=function(t){bbcdotcom.asyncCmd.push(function(){bbcdotcom.analytics.page(t)})},bbcdotcom.av={emp:{adverts:\"\"}},bbcdotcom.config.isContinuousPlayPage=function(){return!1},bbcdotcom.config.isSportApp=function(){var t=window.location.pathname;return void 0!==t&&-1!==t.indexOf(\".app\")&&0===t.indexOf(\"/sport\")},bbcdotcom.adverts.breakpoints.setGroupStart=function(t,n){bbcdotcom.asyncCmd.push(function(){bbcdotcom.adverts.breakpoints.setGroupStart(t,n)})},\"undefined\"!=typeof require&&require({paths:{bbcdotcom:\"https://gn-web-assets.api.bbc.com/bbcdotcom/assets/20201130-134636-4d8ddd997-4.10.0/script\"}}),window.bbcdotcom&&bbcdotcom.isSportApp&&!bbcdotcom.isSportApp()&&window.bbcuser.isUKCombined().then(function(t){return t&&!adsDebug?(adsDebug&&console.log(\"UK location, not ads debug mode, don\\'t load flags, don\\'t load ads.\"),(t=window.bbcdotcom||{}).config.isAdsEnabled=function(){return!1},t.config.isActive=function(){return!1},t.config.isAnalyticsEnabled=function(){return!1},t.getFeature=function(){return{isEnabled:function(){return!1}}},void t.resolvePromises()):void window.bbcuser.canSeeAdverts().then(function(t){if(!t&&!adsDebug)return adsDebug&&console.log(\"canSeeAdverts false, not ads debug mode, don\\'t load ads.\"),(n=window.bbcdotcom||{}).config.isAdsEnabled=function(){return!1},n.config.isActive=function(){return!1},n.config.isAnalyticsEnabled=function(){return!1},n.getFeature=function(){return{isEnabled:function(){return!1}}},void n.resolvePromises();var n=/test/.test(window.location.hostname)?\"https://static.test.files.bbci.co.uk/gn-flagpoles/gnlops\":\"https://static.files.bbci.co.uk/gn-flagpoles/gnlops\",c=new XMLHttpRequest;c.open(\"GET\",n),c.onload=function(){var n,t,o=JSON.parse(c.responseText),e=window.bbcdotcom||{};e.flag.a=\"true\"===o.adverts?1:0,e.flag.s=\"true\"===o.analytics?1:0,e.flag.a||e.flag.s?(t=/test/.test(window.location.hostname)?\"https://static.test.files.bbci.co.uk/gn-flagpoles/bbcdotcom\":\"https://static.files.bbci.co.uk/gn-flagpoles/bbcdotcom\",(n=new XMLHttpRequest).open(\"GET\",t),n.onload=function(){var e=JSON.parse(n.responseText),c=window.bbcdotcom||{};[{tp:\"thirdPartyEEA\"},{o:\"outbrain\"},{d:\"adsense\"},{asa:\"adsportapp\"},{l:\"lotame\"},{p:\"platinum\"},{g:\"grapeshot\"},{sh:\"sherlock\"},{pe:\"permutive\"},{si:\"signin\"},{sis:\"signinSport\"},{sin:\"signinNews\"},{siw:\"signinWWHP\"}].forEach(function(t,n){for(var o in t)c.flag[o]=\"true\"===e[t[o]]?1:0}),c.data={ads:c.flag.a,stats:c.flag.s,statsProvider:\"\",country:\"\"},function(){const t=document.createElement(\"link\");t.href=\"https://gn-web-assets.api.bbc.com/bbcdotcom/assets/20201130-134636-4d8ddd997-4.10.0/style/bbcdotcom-async.css\",t.rel=\"stylesheet\",t.type=\"text/css\",document.head.appendChild(t)}();var t=document.createElement(\"script\"),s=document.head||document.getElementsByTagName(\"head\")[0];t.type=\"text/javascript\",t.async=!0,t.src=\"https://gn-web-assets.api.bbc.com/bbcdotcom/assets/20201130-134636-4d8ddd997-4.10.0/script/bbcdotcom.js\",t.onload=function(){c.assetPrefix=\"https://gn-web-assets.api.bbc.com/bbcdotcom/assets/20201130-134636-4d8ddd997-4.10.0/\",bbcdotcomConfig={assetPrefix:\"https://gn-web-assets.api.bbc.com/bbcdotcom/assets/20201130-134636-4d8ddd997-4.10.0/\",staticVersion:\"20201130-134636-4d8ddd997-4.10.0\",staticPrefix:\"https://gn-web-assets.api.bbc.com/bbcdotcom/assets/20201130-134636-4d8ddd997-4.10.0/\"},c.config.init(bbcdotcomConfig,c.data,window.location,window.document),c.config.setAssetPrefix(bbcdotcomConfig.assetPrefix),c.config.setVersion(bbcdotcomConfig.staticVersion),c.config.setFlagpoles(c.flag);var o=[\"AT\",\"BE\",\"BG\",\"HR\",\"CY\",\"CZ\",\"DK\",\"EE\",\"FI\",\"FR\",\"DE\",\"GR\",\"HU\",\"IE\",\"IT\",\"LV\",\"LT\",\"LU\",\"MT\",\"NL\",\"PL\",\"PT\",\"RO\",\"SK\",\"SI\",\"ES\",\"SE\",\"IS\",\"LI\",\"NO\",\"CH\"];window.bbcuser.getCountry().then(function(t){var n=!!t&&-1!==o.indexOf(t.toUpperCase());c.config.setEU(n),c.data.country=t});function t(t){var n=document.createElement(\"link\"),o=document.head||document.getElementsByTagName(\"head\")[0];n.href=t,n.rel=\"dns-prefetch\",o.appendChild(n)}var n,e;if(c.flag.s&&(t(\"//secure-us.imrworldwide.com/\"),t(\"//me-cdn.effectivemeasure.net/\"),t(\"//ssc.api.bbc.com/\")),c.flag.a&&(t(\"//www.googletagservices.com/\"),t(\"//bbc.gscontxt.net/\"),t(\"//tags.crwdcntrl.net/\"),t(\"//ad.crwdcntrl.net/\"),(n=document.createElement(\"meta\")).setAttribute(\"name\",\"google-site-verification\"),n.setAttribute(\"content\",\"auTeTTwSt_KBY_4iDoR00Lwb7-qzx1IgzJy6ztaWgEI\"),s.appendChild(n)),c.flag.s||c.flag.a)for(c.config.isPermutiveEnabled()&&!c.config.isWorldService()&&(function(o){if(!o){o=o||{},(window.permutive=o).q=[],o.config={consentRequired:!0},o.config.projectId=\"e488cdb0-e7cb-4d91-9648-60d437d8e491\",o.config.apiKey=\"1bb84885-9325-4fef-adda-a208032b2715\",o.config.environment=o.config.environment||\"production\";for(var t=[\"addon\",\"identify\",\"track\",\"trigger\",\"query\",\"segment\",\"segments\",\"ready\",\"on\",\"once\",\"user\",\"consent\"],n=0;n<t.length;n++){var e=t[n];o[e]=function(n){return function(){var t=Array.prototype.slice.call(arguments,0);o.q.push({functionName:n,arguments:t})}}(e)}}}((document,window.permutive)),bbcdotcomScripts.push({src:\"https://cdn.permutive.com/e488cdb0-e7cb-4d91-9648-60d437d8e491-web.js\"})),c.config.isGrapeshotEnabled()&&!c.config.isWorldService()&&(e=window.location.href.split(\"?\")[0],bbcdotcomScripts.push({src:\"https://bbc.gscontxt.net/?url=\"+encodeURIComponent(e)})),c.config.isLotameActive()&&c.config.isLotameEnabled()&&(n=c.config.isWorldService&&c.config.isWorldService()?\"10826\":\"10816\",e=\"https://tags.crwdcntrl.net/c/\"+n+\"/cc.js?ns=\"+n,bbcdotcomScripts.push({src:e,id:\"LOTCC\"+n}),bbcdotcomScripts.push({src:\"https://ad.crwdcntrl.net/5/c=10815/pe=y/var=ccauds\"})),bbcdotcomScripts.push({src:\"https://securepubads.g.doubleclick.net/tag/js/gpt.js\"}),c.config.isThirdPartyDisabledEU()||bbcdotcomScripts.forEach(function(t){var n=document.createElement(\"script\");n.async=!1,t.id&&(n.id=t.id),n.src=t.src,s.appendChild(n)});0<window.bbcdotcom.asyncCmd.length;)window.bbcdotcom.asyncCmd.shift()();window.adsDebug&&adsDebug&&console.log(\"bbcdotcom up and running...\")},s.appendChild(t)},n.onerror=function(){var t;(t=window.bbcdotcom||{}).config.isAdsEnabled=function(){return!1},t.config.isActive=function(){return!1},t.config.isAnalyticsEnabled=function(){return!1},t.getFeature=function(){return{isEnabled:function(){return!1}}},t.resolvePromises()},n.send()):((t=window.bbcdotcom||{}).config.isAdsEnabled=function(){return!1},t.config.isActive=function(){return!1},t.config.isAnalyticsEnabled=function(){return!1},t.getFeature=function(){return{isEnabled:function(){return!1}}},t.resolvePromises())},c.onerror=function(){var t;(t=window.bbcdotcom||{}).config.isAdsEnabled=function(){return!1},t.config.isActive=function(){return!1},t.config.isAnalyticsEnabled=function(){return!1},t.getFeature=function(){return{isEnabled:function(){return!1}}},t.resolvePromises()},c.send()})});</script>\\n\\n        <!--[if (gt IE 8) | (IEMobile)]><!-->\\r\\n<link href=\"https://gn-web-assets.api.bbc.com/wwhp/20201127-1201-aa50947fd69d781e60677b1680b344ea5bd4e542/responsive/css/wwhp.min.css\" rel=\"stylesheet\" />\\r\\n<!--<![endif]-->\\r\\n<!--[if (lt IE 9) & (!IEMobile)]>\\r\\n<link href=\"https://gn-web-assets.api.bbc.com/wwhp/20201127-1201-aa50947fd69d781e60677b1680b344ea5bd4e542/responsive/css/old-ie.min.css\" rel=\"stylesheet\" />\\r\\n<![endif]-->        <script src=\"https://gn-web-assets.api.bbc.com/wwhp/20201127-1201-aa50947fd69d781e60677b1680b344ea5bd4e542/modules/vendor/bower/modernizr/modernizr.js\"></script>\\n        <script>\\n            (function () {\\n              require.config({\\n                    baseUrl: \\'https://gn-web-assets.api.bbc.com/wwhp/20201127-1201-aa50947fd69d781e60677b1680b344ea5bd4e542/modules\\',\\n                    paths: {\\n                        \\'bump-3\\': \\'https://emp.bbci.co.uk/emp/bump-3/bump-3\\',\\n                        \\'domReady\\': \\'vendor/require/domReady\\',\\n                        \\'jquery-1.9\\': \\'vendor/jquery/jquery\\'\\n                    },\\n                    map: {\\n                        \\'*\\': {\\n                            jquery: \\'jquery-1.9\\'\\n                        }\\n                    },\\n                    shim: {\\n                        \\'vendor/bower/underscore/underscore\\': {\\n                            exports: \\'_\\'\\n                        },\\n                        \\'vendor/bower/js-breakpoints/breakpoints\\': {\\n                            exports: \\'Breakpoints\\'\\n                        },\\n                        \\'vendor/bower/cookie-monster/cookie-monster\\': {\\n                            exports: \\'monster\\'\\n                        }\\n                    }\\n                });\\n\\n                // FIXME: Should be in ads.js, however some devices return ads before ads is able to register to event.\\n                if (window.bbcdotcom && bbcdotcom.pubsub) {\\n                      var stickyOptions = {\\n                      \"leaderboard\": {\\n                          \"offset\": {\\n                              \"from\": [\\'.module--leaderboard\\'],\\n                              \"to\": [\\'.module--promo\\', \\'bottom\\']\\n                          },\\n                          \"applyTo\": \"parent\",\\n                          \"heightLimit\": 150,  //don\\'t add sticky if ad is taller than this number\\n                          \"offsetType\": \"include\",\\n                          \"parallax\": false\\n                        },\\n                      \"mpu\": {\\n                          \"offset\": {\\n                              \"from\": [\\'.content--block--modules section:first-child .module__content\\'],\\n                              \"to\": [\\'.content--block--modules section:last-child\\', \\'bottom\\']\\n                          },\\n                          \"offsetType\": \"include\",\\n                      },\\n                      /*\\n                      \"mpu_bottom\": {\\n                        \"offset\": {\\n                            \"from\": [\\'.module--editors-picks .runway--wrapper\\'],\\n                            \"to\": [\\'.module--editors-picks .runway--wrapper\\', \\'bottom\\']\\n                        },\\n                        \"offsetType\": \"include\"\\n                      }\\n                      */\\n                    };\\n\\n                    bbcdotcom.pubsub.on(\\'ad:done\\', function(id) {\\n                        if(stickyOptions[id]) {\\n                            bbcdotcom.stickyAdvert().add(id, document.getElementById(\\'bbccom_\\'+id), stickyOptions[id]);\\n                        }\\n                    });\\n                }\\n\\n                if (window.bbcdotcom) {\\n                    bbcdotcom.init({ adsToDisplay: [\"parallax\",\"leaderboard\",\"native\",\"mpu\",\"platinum\",\"infeed\",\"module_feature-1\",\"module_feature-2\",\"mpu_bottom\"] });\\n\\n                    require([\"domReady\",\"compiled\"], function (domReady) {\\n                        domReady(function () {\\n                            require([\\'app\\'], function (app) {\\n                                app.init(window, {\\n                                  staticPrefix: \\'https://gn-web-assets.api.bbc.com/wwhp/20201127-1201-aa50947fd69d781e60677b1680b344ea5bd4e542/\\',\\n                                  continuousPlayEnabled: true,\\n                                  counterName: \\'home.page\\',\\n                                  producer: \\'GNL_HOMEPAGE\\',\\n                                  destination: \\'HOMEPAGE_GNL\\'\\n                                });\\n                            });\\n                        });\\n                    });\\n                }\\n\\n            }());\\n        </script>\\n\\n    </head>\\n    <body class=\"wwhp-edition-africa\">\\n         <div id=\"cookiePrompt\"></div> <noscript><p style=\"position: absolute; top: -999em\"><img src=\"https://a1.api.bbc.co.uk/hit.xiti?&col=1&from=p&ptag=js&s=598253&p=home.page&x2=[responsive]&x3=[bbc_website]&x4=[en]&x7=[Index-home]&x8=[reverb-1.6.1-nojs]&x11=[HOMEPAGE_GNL]&x12=[GNL_HOMEPAGE]\" height=\"1\" width=\"1\" alt=\"\"></p></noscript><div id=\"bbccom_interstitial_ad\" class=\"bbccom_display_none\"></div><div id=\"bbccom_interstitial\" class=\"bbccom_display_none\"></div><div id=\"bbccom_wallpaper_ad\" class=\"bbccom_display_none\"></div><div id=\"bbccom_wallpaper\" class=\"bbccom_display_none\"></div>  <header id=\"orb-banner\" role=\"banner\" aria-label=\"BBC\"><div id=\"orb-header\" class=\"orb-nav-pri orb-nav-pri-white orb-nav-empty\" dir=\"ltr\"><div class=\"orb-nav-pri-container b-r b-g-p\"><div class=\"orb-nav-section orb-nav-blocks\"><a href=\"https://www.bbc.co.uk\">Homepage</a></div><section><div class=\"orb-skip-links\"><h2>Accessibility links</h2><ul><li><a href=\"#orb-modules\">Skip to content</a></li><li><a id=\"orb-accessibility-help\" href=\"https://www.bbc.co.uk/accessibility/\">Accessibility Help</a></li></ul></div></section><div id=\"mybbc-wrapper\" class=\"orb-nav-section orb-nav-id orb-nav-focus orb-nav-id-default\">  <div id=\"idcta-statusbar\" class=\"orb-nav-section orb-nav-focus\" data-bbc-container=\"id-cta\" data-bbc-event-type=\"click\" data-bbc-ignore-views=\"1\" data-bbc-metadata=\"{&quot;id-cta-type&quot;: &quot;statusbar-orb&quot;}\" data-bbc-source=\"responsive_web\" data-bbc-title=\"id-cta-sign-in\"><a id=\"idcta-link\" href=\"https://account.bbc.com/account\"><span id=\"idcta-username\">BBC Account</span></a></div><script type=\"text/javascript\">require([\\'idcta/statusbar\\'], function (statusbar) {new statusbar.Statusbar({id: \\'idcta-statusbar\\', publiclyCacheable: true});});</script><!-- Because we are now loading the notification bell CSS asynchronously, we need this inline style hack to ensure that the notification div \\n\\t\\t is hidden by default, and shown only if and when the bell code is loaded from notification-ui --><a id=\"notification-link\" class=\"js-notification-link animated three\" href=\"#\" style=\"display: none\"><span class=\"hidden-span\">Notifications</span><div class=\"notification-link--triangle\"></div><div class=\"notification-link--triangle\"></div><span id=\"not-num\"></span></a>   </div><nav role=\"navigation\" aria-label=\"BBC\" class=\"orb-nav\"><div class=\"orb-nav-section orb-nav-links orb-nav-focus\" id=\"orb-nav-links\"><ul><li class=\"orb-nav-home\"><a href=\"https://www.bbc.co.uk\">Home</a></li><li class=\"orb-nav-news\"><a href=\"https://www.bbc.co.uk/news\">News</a></li><li class=\"orb-nav-sport\"><a href=\"https://www.bbc.co.uk/sport\">Sport</a></li><li class=\"orb-nav-weather\"><a href=\"https://www.bbc.co.uk/weather\">Weather</a></li><li class=\"orb-nav-iplayer\"><a href=\"https://www.bbc.co.uk/iplayer\">iPlayer</a></li><li class=\"orb-nav-sounds\"><a href=\"https://www.bbc.co.uk/sounds\">Sounds</a></li><li class=\"orb-nav-cbbc\"><a href=\"https://www.bbc.co.uk/cbbc\">CBBC</a></li><li class=\"orb-nav-cbeebies\"><a href=\"https://www.bbc.co.uk/cbeebies\">CBeebies</a></li><li class=\"orb-nav-food\"><a href=\"https://www.bbc.co.uk/food\">Food</a></li><li class=\"orb-nav-bitesize\"><a href=\"https://www.bbc.co.uk/bitesize\">Bitesize</a></li><li class=\"orb-nav-arts\"><a href=\"https://www.bbc.co.uk/arts\">Arts</a></li><li class=\"orb-nav-taster\"><a href=\"https://www.bbc.co.uk/taster\">Taster</a></li><li class=\"orb-nav-local\"><a href=\"https://www.bbc.co.uk/news/localnews\">Local</a></li><li class=\"orb-nav-three\"><a href=\"https://www.bbc.co.uk/bbcthree\">Three</a></li><li id=\"orb-nav-more\" style=\"width: 88px\" aria-controls=\"orb-panel-more\"><a href=\"#orb-footer\" data-alt=\"More\" class=\"istats-notrack\">Menu<span class=\"orb-icon orb-icon-arrow\"></span></a></li></ul></div></nav><div class=\"orb-nav-section orb-nav-search\">  <a class=\"orb-search__button\" href=\"https://search.bbc.co.uk/search\" title=\"Search the BBC\">Search</a><form class=\"b-f\" id=\"orb-search-form\" role=\"search\" method=\"get\" action=\"https://search.bbc.co.uk/search\" accept-charset=\"utf-8\"><div><label for=\"orb-search-q\">Search the BBC</label><input id=\"orb-search-q\" type=\"text\" autocomplete=\"off\" autocorrect=\"off\" autocapitalize=\"off\" spellcheck=\"false\" maxlength=\"100\" name=\"q\" placeholder=\"Search\"><button id=\"orb-search-button\" class=\"orb-search__button\">Search the BBC</button><input type=\"hidden\" name=\"suggid\" id=\"orb-search-suggid\"></div></form> </div></div><div id=\"orb-panels\"></div></div></header>  <!-- Styling hook for shared modules only -->\\n<div id=\"orb-modules\">\\n\\n        <!--[if lt IE 9]>\\n        <div class=\"browser-notify\">\\n            <p class=\"browser-notify__message\">This site is optimised for modern web browsers, and does not fully support your version of Internet Explorer.</p>\\n        </div>\\n        <![endif]-->\\n\\n        <h1 id=\"page-title\">BBC Homepage</h1>\\n        <div id=\"page\" role=\"main\" class=\"content\" data-wwhp-module=\"images, media\">\\n                <section class=\"module module--leaderboard module--highlight\">\\n        <div class=\"advert advert--leaderboard\"><!-- BBCDOTCOM slot leaderboard --><div id=\"bbccom_leaderboard_1_2_3_4\" class=\"bbccom_slot\" aria-hidden=\"true\"><div class=\"bbccom_advert\"><script type=\"text/javascript\">/*<![CDATA[*/(function() {if (window.bbcdotcom && bbcdotcom.slotAsync) {bbcdotcom.slotAsync(\"leaderboard\", [1,2,3,4]);}})();/*]]>*/</script></div></div></div>    </section>\\n    \\n<section class=\"module module--header\" data-wwhp-module=\"header\">\\n    <h2 class=\"module__title\">&nbsp;</h2>\\n</section>      <section class=\"module module--promo\"> <div class=\"module__content\"> <ul class=\"media-list\">     \\n        <li class=\"media-list__item media-list__item--1\">\\n            <div\\n               class=\"media media--hero media--primary media--overlay block-link\"\\n               data-bbc-container=\"hero\"\\n               data-bbc-title=\"Johnson and EU chief seek to break Brexit deadlock\"\\n               data-bbc-source=\"UK Politics\"\\n               data-bbc-metadata=\\'{\"CHD\": \"card::1\" }\\'\\n                              >\\n                <div class=\"media__image\">\\n                    <div class=\"responsive-image\"><div class=\"delayed-image-load\" data-src=\"https://ichef.bbc.co.uk/wwhp/{width}/cpsprodpb/9AD8/production/_115804693_vdljohnson.jpg\" data-alt=\"Ursula Von Der Leyen\"><img src=\"https://ichef.bbc.co.uk/wwhp/144/cpsprodpb/9AD8/production/_115804693_vdljohnson.jpg\" alt=\"Ursula Von Der Leyen\" /></div></div>                </div>\\n\\n                \\n                <div class=\"media__content\">\\n\\n                                            <h3 class=\"media__title\">\\n                            <a class=\"media__link\" href=\"/news/uk-politics-55191436\"\\n                                      rev=\"hero1|headline\" >\\n                                                                    Johnson and EU chief seek to break Brexit deadlock                                                            </a>\\n                        </h3>\\n                    \\n                                            <p class=\"media__summary\">\\n                                                            EU and UK negotiators call in leaders in last ditch effort to secure a trade deal.                                                    </p>\\n                    \\n                                            <a class=\"media__tag tag tag--news\" href=\"/news/politics\"\\n                                  rev=\"hero1|source\" >UK Politics</a>\\n                    \\n                    \\n                </div>\\n\\n                <a class=\"block-link__overlay-link\"\\n                   href=\"/news/uk-politics-55191436\"\\n                          rev=\"hero1|overlay\"                    tabindex=\"-1\"\\n                   aria-hidden=\"true\"\\n                   >\\n                    Johnson and EU chief seek to break Brexit deadlock                </a>\\n\\n            </div>\\n\\n        </li>\\n            \\n        <li class=\"media-list__item media-list__item--2\">\\n            <div\\n               class=\"media media--overlay block-link\"\\n               data-bbc-container=\"hero\"\\n               data-bbc-title=\"Cutting through Ethiopia\\'s information blackout\"\\n               data-bbc-source=\"Africa\"\\n               data-bbc-metadata=\\'{\"CHD\": \"card::2\" }\\'\\n                              >\\n                <div class=\"media__image\">\\n                    <div class=\"responsive-image\"><div class=\"delayed-image-load\" data-src=\"https://ichef.bbc.co.uk/wwhp/{width}/cpsprodpb/7593/production/_115799003_whatsappimage2020-12-04at10.32.09.jpg\" data-alt=\"A ruined house\"><img src=\"https://ichef.bbc.co.uk/wwhp/144/cpsprodpb/7593/production/_115799003_whatsappimage2020-12-04at10.32.09.jpg\" alt=\"A ruined house\" /></div></div>                </div>\\n\\n                \\n                <div class=\"media__content\">\\n\\n                                            <h3 class=\"media__title\">\\n                            <a class=\"media__link\" href=\"/news/world-africa-55189607\"\\n                                      rev=\"hero2|headline\" >\\n                                                                    Cutting through Ethiopia\\'s information blackout                                                            </a>\\n                        </h3>\\n                    \\n                    \\n                                            <a class=\"media__tag tag tag--african-news\" href=\"/news/world/africa\"\\n                                  rev=\"hero2|source\" >Africa</a>\\n                    \\n                    \\n                </div>\\n\\n                <a class=\"block-link__overlay-link\"\\n                   href=\"/news/world-africa-55189607\"\\n                          rev=\"hero2|overlay\"                    tabindex=\"-1\"\\n                   aria-hidden=\"true\"\\n                   >\\n                    Cutting through Ethiopia\\'s information blackout                </a>\\n\\n            </div>\\n\\n        </li>\\n        \\n        <li class=\"media-list__item media-list__item--3\">\\n            <div\\n               class=\"media media--overlay block-link\"\\n               data-bbc-container=\"hero\"\\n               data-bbc-title=\"Trump orders US troop withdrawal from Somalia\"\\n               data-bbc-source=\"US &amp; Canada\"\\n               data-bbc-metadata=\\'{\"CHD\": \"card::3\" }\\'\\n                              >\\n                <div class=\"media__image\">\\n                    <div class=\"responsive-image\"><div class=\"delayed-image-load\" data-src=\"https://ichef.bbc.co.uk/wwhp/{width}/cpsprodpb/12656/production/_115805357_gettyimages-51350988.jpg\" data-alt=\"US marines take part in the US-Kenyan joint military exercises near the Somali border in Lamu, Kenya, 12 February 2002\"><img src=\"https://ichef.bbc.co.uk/wwhp/144/cpsprodpb/12656/production/_115805357_gettyimages-51350988.jpg\" alt=\"US marines take part in the US-Kenyan joint military exercises near the Somali border in Lamu, Kenya, 12 February 2002\" /></div></div>                </div>\\n\\n                \\n                <div class=\"media__content\">\\n\\n                                            <h3 class=\"media__title\">\\n                            <a class=\"media__link\" href=\"/news/world-us-canada-55196130\"\\n                                      rev=\"hero3|headline\" >\\n                                                                    Trump orders US troop withdrawal from Somalia                                                            </a>\\n                        </h3>\\n                    \\n                    \\n                                            <a class=\"media__tag tag tag--african-news\" href=\"/news/world/us_and_canada\"\\n                                  rev=\"hero3|source\" >US &amp; Canada</a>\\n                    \\n                    \\n                </div>\\n\\n                <a class=\"block-link__overlay-link\"\\n                   href=\"/news/world-us-canada-55196130\"\\n                          rev=\"hero3|overlay\"                    tabindex=\"-1\"\\n                   aria-hidden=\"true\"\\n                   >\\n                    Trump orders US troop withdrawal from Somalia                </a>\\n\\n            </div>\\n\\n        </li>\\n        \\n        <li class=\"media-list__item media-list__item--4\">\\n            <div\\n               class=\"media media--overlay block-link\"\\n               data-bbc-container=\"hero\"\\n               data-bbc-title=\"Premier League: Build-up to Man City v Fulham after Everton draw at Burnley\"\\n               data-bbc-source=\"Football\"\\n               data-bbc-metadata=\\'{\"CHD\": \"card::4\" }\\'\\n                              >\\n                <div class=\"media__image\">\\n                    <div class=\"responsive-image\"><div class=\"delayed-image-load\" data-src=\"https://ichef.bbc.co.uk/wwhp/{width}/cpsprodpb/132D/production/_115790940_riyad_mahrez_index_getty.jpg\" data-alt=\"Riyad Mahrez\"><img src=\"https://ichef.bbc.co.uk/wwhp/144/cpsprodpb/132D/production/_115790940_riyad_mahrez_index_getty.jpg\" alt=\"Riyad Mahrez\" /></div></div>                </div>\\n\\n                \\n                <div class=\"media__content\">\\n\\n                                            <h3 class=\"media__title\">\\n                            <a class=\"media__link\" href=\"/sport/live/football/55093584\"\\n                                      rev=\"hero4|headline\" >\\n                                                                    Premier League: Build-up to Man City v Fulham after Everton draw at Burnley                                                            </a>\\n                        </h3>\\n                    \\n                    \\n                                            <a class=\"media__tag tag tag--sport\" href=\"/sport/football\"\\n                                  rev=\"hero4|source\" >Football</a>\\n                    \\n                    \\n                </div>\\n\\n                <a class=\"block-link__overlay-link\"\\n                   href=\"/sport/live/football/55093584\"\\n                          rev=\"hero4|overlay\"                    tabindex=\"-1\"\\n                   aria-hidden=\"true\"\\n                   >\\n                    Premier League: Build-up to Man City v Fulham after Everton draw at Burnley                </a>\\n\\n            </div>\\n\\n        </li>\\n        \\n        <li class=\"media-list__item media-list__item--5\">\\n            <div\\n               class=\"media media--overlay block-link\"\\n               data-bbc-container=\"hero\"\\n               data-bbc-title=\"Africa\\'s top shots: Moonlight and carousels\"\\n               data-bbc-source=\"Africa\"\\n               data-bbc-metadata=\\'{\"CHD\": \"card::5\" }\\'\\n                              >\\n                <div class=\"media__image\">\\n                    <div class=\"responsive-image\"><div class=\"delayed-image-load\" data-src=\"https://ichef.bbc.co.uk/wwhp/{width}/cpsprodpb/D48A/production/_115801445_gettyimages-1229897900.jpg\" data-alt=\"A man\\'s silhouette is seen against a bright, full moon.\"><img src=\"https://ichef.bbc.co.uk/wwhp/144/cpsprodpb/D48A/production/_115801445_gettyimages-1229897900.jpg\" alt=\"A man\\'s silhouette is seen against a bright, full moon.\" /></div></div>                </div>\\n\\n                \\n                <div class=\"media__content\">\\n\\n                                            <h3 class=\"media__title\">\\n                            <a class=\"media__link\" href=\"https://www.bbc.co.uk/news/world-africa-55173312\"\\n                                      rev=\"hero5|headline\" >\\n                                                                    Africa\\'s top shots: Moonlight and carousels                                                            </a>\\n                        </h3>\\n                    \\n                    \\n                                            <a class=\"media__tag tag tag--african-features\" href=\"http://www.bbc.com/news/world/africa\"\\n                                  rev=\"hero5|source\" >Africa</a>\\n                    \\n                    \\n                </div>\\n\\n                <a class=\"block-link__overlay-link\"\\n                   href=\"https://www.bbc.co.uk/news/world-africa-55173312\"\\n                          rev=\"hero5|overlay\"                    tabindex=\"-1\"\\n                   aria-hidden=\"true\"\\n                   >\\n                    Africa\\'s top shots: Moonlight and carousels                </a>\\n\\n            </div>\\n\\n        </li>\\n     </ul> </div> </section>      <section class=\"module module--content-block\"> <div class=\"module__content\"> <div class=\"container module--compound\"> <div class=\"module--column module--mpu\"> <div class=\"runway--wrapper\"> <div class=\"runway--mpu\"> <div class=\"advert advert--mpu\"><!-- BBCDOTCOM slot mpu --><div id=\"bbccom_mpu_1_2_3_4\" class=\"bbccom_slot\" aria-hidden=\"true\"><div class=\"bbccom_advert\"><script type=\"text/javascript\">/*<![CDATA[*/(function() {if (window.bbcdotcom && bbcdotcom.slotAsync) {bbcdotcom.slotAsync(\"mpu\", [1,2,3,4]);}})();/*]]>*/</script></div></div></div> </div> </div> </div> <div class=\"module--column\"> <div class=\"content--block--modules\">  <section class=\"module module--news   module--collapse-images\">             <h2 class=\"module__title\">\\n                            <a class=\"module__title__link tag tag--news\" href=\"/news\"\\n                      rev=\"news|header\"                     >News</a>\\n                    </h2>\\n     <div class=\"module__content\"> <ul class=\"media-list media-list--fixed-height\">         \\n        <li class=\"media-list__item media-list__item--1\">\\n            <div\\n               class=\"media  block-link\"\\n               data-bbc-container=\"news\"\\n               data-bbc-title=\"Will a vaccine give us our old lives back?\"\\n               data-bbc-source=\"News\"\\n               data-bbc-metadata=\\'{\"CHD\": \"card::1\" }\\'\\n                              >\\n                <div class=\"media__image\">\\n                    <div class=\"responsive-image\"><div class=\"delayed-image-load\" data-src=\"https://ichef.bbc.co.uk/wwhp/{width}/cpsprodpb/146E/production/_115803250_vaccines_promo_976.jpg\" data-alt=\"Illustration of a woman and her community\"><img src=\"data:image/gif;base64,R0lGODlhEAAJAIAAAP///wAAACH5BAEAAAAALAAAAAAQAAkAAAIKhI+py+0Po5yUFQA7\" alt=\"Illustration of a woman and her community\" /></div></div>                </div>\\n\\n                \\n                <div class=\"media__content\">\\n\\n                                            <h3 class=\"media__title\">\\n                            <a class=\"media__link\" href=\"https://www.bbc.co.uk/news/resources/idt-b6360f40-84f9-469b-b6a3-a4568e161c4f\"\\n                                      rev=\"news|headline\" >\\n                                                                    Will a vaccine give us our old lives back?                                                            </a>\\n                        </h3>\\n                    \\n                                            <p class=\"media__summary\">\\n                                                            Why vaccines need to reach a huge number of people before we can safely ditch our face masks.                                                    </p>\\n                    \\n                                            <a class=\"media__tag tag tag--news\" href=\"http://www.bbc.com/news\"\\n                                  rev=\"news|source\" >News</a>\\n                    \\n                    \\n                </div>\\n\\n                <a class=\"block-link__overlay-link\"\\n                   href=\"https://www.bbc.co.uk/news/resources/idt-b6360f40-84f9-469b-b6a3-a4568e161c4f\"\\n                          rev=\"news|overlay\"                    tabindex=\"-1\"\\n                   aria-hidden=\"true\"\\n                   >\\n                    Will a vaccine give us our old lives back?                </a>\\n\\n            </div>\\n\\n        </li>\\n        \\n        <li class=\"media-list__item media-list__item--2\">\\n            <div\\n               class=\"media  block-link\"\\n               data-bbc-container=\"news\"\\n               data-bbc-title=\"Russia begins Covid vaccinations in Moscow\"\\n               data-bbc-source=\"Europe\"\\n               data-bbc-metadata=\\'{\"CHD\": \"card::2\" }\\'\\n                              >\\n                <div class=\"media__image\">\\n                    <div class=\"responsive-image\"><div class=\"delayed-image-load\" data-src=\"https://ichef.bbc.co.uk/wwhp/{width}/cpsprodpb/D016/production/_115807235_064652696-1.jpg\" data-alt=\"Man receives vaccine at Moscow polyclinic - 5 December - Moscow News Agency handout photo\"><img src=\"data:image/gif;base64,R0lGODlhEAAJAIAAAP///wAAACH5BAEAAAAALAAAAAAQAAkAAAIKhI+py+0Po5yUFQA7\" alt=\"Man receives vaccine at Moscow polyclinic - 5 December - Moscow News Agency handout photo\" /></div></div>                </div>\\n\\n                \\n                <div class=\"media__content\">\\n\\n                                            <h3 class=\"media__title\">\\n                            <a class=\"media__link\" href=\"/news/world-europe-55198166\"\\n                                      rev=\"news|headline\" >\\n                                                                    Russia begins Covid vaccinations in Moscow                                                            </a>\\n                        </h3>\\n                    \\n                                            <p class=\"media__summary\">\\n                                                            The home-grown Sputnik V vaccine, which is still undergoing mass testing, is being used.                                                    </p>\\n                    \\n                                            <a class=\"media__tag tag tag--news\" href=\"/news/world/europe\"\\n                                  rev=\"news|source\" >Europe</a>\\n                    \\n                    \\n                </div>\\n\\n                <a class=\"block-link__overlay-link\"\\n                   href=\"/news/world-europe-55198166\"\\n                          rev=\"news|overlay\"                    tabindex=\"-1\"\\n                   aria-hidden=\"true\"\\n                   >\\n                    Russia begins Covid vaccinations in Moscow                </a>\\n\\n            </div>\\n\\n        </li>\\n        \\n        <li class=\"media-list__item media-list__item--3\">\\n            <div\\n               class=\"media media--icon block-link\"\\n               data-bbc-container=\"news\"\\n               data-bbc-title=\"Beirut blast: The ship of \\xe2\\x80\\x98lost lives and dreams\\xe2\\x80\\x99\"\\n               data-bbc-source=\"World\"\\n               data-bbc-metadata=\\'{\"CHD\": \"card::3\" }\\'\\n                              >\\n                <div class=\"media__image\">\\n                    <div class=\"responsive-image\"><div class=\"delayed-image-load\" data-src=\"https://ichef.bbc.co.uk/wwhp/{width}/cpsprodpb/13F4C/production/_115804718_p090jhv8.jpg\" data-alt=\"The Orient Queen vessel on its side\"><img src=\"data:image/gif;base64,R0lGODlhEAAJAIAAAP///wAAACH5BAEAAAAALAAAAAAQAAkAAAIKhI+py+0Po5yUFQA7\" alt=\"The Orient Queen vessel on its side\" /></div></div>                </div>\\n\\n                                    <span class=\"media__icon icon icon--video\" aria-hidden=\"true\"></span>\\n                \\n                <div class=\"media__content\">\\n\\n                                            <h3 class=\"media__title\">\\n                            <a class=\"media__link\" href=\"/news/world-55193262\"\\n                                      rev=\"news|headline\" >\\n                                                                    Beirut blast: The ship of \\xe2\\x80\\x98lost lives and dreams\\xe2\\x80\\x99                                                            </a>\\n                        </h3>\\n                    \\n                                            <p class=\"media__summary\">\\n                                                            This is what happened to Lebanon\\'s only cruise ship, which was docked in the explosion\\'s epicentre.                                                    </p>\\n                    \\n                                            <a class=\"media__tag tag tag--news\" href=\"/news/world\"\\n                                  rev=\"news|source\" >World</a>\\n                    \\n                    \\n                </div>\\n\\n                <a class=\"block-link__overlay-link\"\\n                   href=\"/news/world-55193262\"\\n                          rev=\"news|overlay\"                    tabindex=\"-1\"\\n                   aria-hidden=\"true\"\\n                   >\\n                    Beirut blast: The ship of \\xe2\\x80\\x98lost lives and dreams\\xe2\\x80\\x99                </a>\\n\\n            </div>\\n\\n        </li>\\n     </ul> </div> </section>  <section class=\"module module--sport   module--collapse-images\">             <h2 class=\"module__title\">\\n                            <a class=\"module__title__link tag tag--sport\" href=\"/sport\"\\n                      rev=\"sport|header\"                     >Sport</a>\\n                    </h2>\\n     <div class=\"module__content\"> <ul class=\"media-list media-list--fixed-height\">         \\n        <li class=\"media-list__item media-list__item--1\">\\n            <div\\n               class=\"media  block-link\"\\n               data-bbc-container=\"sport\"\\n               data-bbc-title=\"Sakhir Grand Prix: third practice and qualifying - radio &amp; text\"\\n               data-bbc-source=\"Formula 1\"\\n               data-bbc-metadata=\\'{\"CHD\": \"card::1\" }\\'\\n                              >\\n                <div class=\"media__image\">\\n                    <div class=\"responsive-image\"><div class=\"delayed-image-load\" data-src=\"https://ichef.bbc.co.uk/wwhp/{width}/cpsprodpb/9272/production/_115809473_saniz.jpg\" data-alt=\"Carlos Sainz\"><img src=\"data:image/gif;base64,R0lGODlhEAAJAIAAAP///wAAACH5BAEAAAAALAAAAAAQAAkAAAIKhI+py+0Po5yUFQA7\" alt=\"Carlos Sainz\" /></div></div>                </div>\\n\\n                \\n                <div class=\"media__content\">\\n\\n                                            <h3 class=\"media__title\">\\n                            <a class=\"media__link\" href=\"/sport/live/formula1/53912910\"\\n                                      rev=\"sport|headline\" >\\n                                                                    Sakhir Grand Prix: third practice and qualifying - radio &amp; text                                                            </a>\\n                        </h3>\\n                    \\n                                            <p class=\"media__summary\">\\n                                                            Follow BBC Radio 5 Live Sports Extra online commentary and live text updates of third practice and qualifying for the Sakhir Grand Prix.                                                    </p>\\n                    \\n                                            <a class=\"media__tag tag tag--sport\" href=\"/sport/formula1\"\\n                                  rev=\"sport|source\" >Formula 1</a>\\n                    \\n                    \\n                </div>\\n\\n                <a class=\"block-link__overlay-link\"\\n                   href=\"/sport/live/formula1/53912910\"\\n                          rev=\"sport|overlay\"                    tabindex=\"-1\"\\n                   aria-hidden=\"true\"\\n                   >\\n                    Sakhir Grand Prix: third practice and qualifying - radio &amp; text                </a>\\n\\n            </div>\\n\\n        </li>\\n        \\n        <li class=\"media-list__item media-list__item--2\">\\n            <div\\n               class=\"media  block-link\"\\n               data-bbc-container=\"sport\"\\n               data-bbc-title=\"Autumn Nations Cup: Ireland 3-9 Scotland - Scots on front foot in tense start\"\\n               data-bbc-source=\"Rugby Union\"\\n               data-bbc-metadata=\\'{\"CHD\": \"card::2\" }\\'\\n                              >\\n                <div class=\"media__image\">\\n                    <div class=\"responsive-image\"><div class=\"delayed-image-load\" data-src=\"https://ichef.bbc.co.uk/wwhp/{width}/cpsprodpb/95F6/production/_115809383_mediaitem115809092.jpg\" data-alt=\"Ireland v Scotland\"><img src=\"data:image/gif;base64,R0lGODlhEAAJAIAAAP///wAAACH5BAEAAAAALAAAAAAQAAkAAAIKhI+py+0Po5yUFQA7\" alt=\"Ireland v Scotland\" /></div></div>                </div>\\n\\n                \\n                <div class=\"media__content\">\\n\\n                                            <h3 class=\"media__title\">\\n                            <a class=\"media__link\" href=\"/sport/live/rugby-union/54134851\"\\n                                      rev=\"sport|headline\" >\\n                                                                    Autumn Nations Cup: Ireland 3-9 Scotland - Scots on front foot in tense start                                                            </a>\\n                        </h3>\\n                    \\n                                            <p class=\"media__summary\">\\n                                                            Follow live text and BBC commentary as Ireland face Scotland in the Autumn Nations Cup.                                                    </p>\\n                    \\n                                            <a class=\"media__tag tag tag--sport\" href=\"/sport/rugby-union\"\\n                                  rev=\"sport|source\" >Rugby Union</a>\\n                    \\n                    \\n                </div>\\n\\n                <a class=\"block-link__overlay-link\"\\n                   href=\"/sport/live/rugby-union/54134851\"\\n                          rev=\"sport|overlay\"                    tabindex=\"-1\"\\n                   aria-hidden=\"true\"\\n                   >\\n                    Autumn Nations Cup: Ireland 3-9 Scotland - Scots on front foot in tense start                </a>\\n\\n            </div>\\n\\n        </li>\\n        \\n        <li class=\"media-list__item media-list__item--3\">\\n            <div\\n               class=\"media  block-link\"\\n               data-bbc-container=\"sport\"\\n               data-bbc-title=\"Koeman criticises Barca president\"\\n               data-bbc-source=\"European Football\"\\n               data-bbc-metadata=\\'{\"CHD\": \"card::3\" }\\'\\n                              >\\n                <div class=\"media__image\">\\n                    <div class=\"responsive-image\"><div class=\"delayed-image-load\" data-src=\"https://ichef.bbc.co.uk/wwhp/{width}/cpsprodpb/E2DF/production/_115797085_gettyimages-1229872089.jpg\" data-alt=\"Lionel Messi playing for Barcelona\"><img src=\"data:image/gif;base64,R0lGODlhEAAJAIAAAP///wAAACH5BAEAAAAALAAAAAAQAAkAAAIKhI+py+0Po5yUFQA7\" alt=\"Lionel Messi playing for Barcelona\" /></div></div>                </div>\\n\\n                \\n                <div class=\"media__content\">\\n\\n                                            <h3 class=\"media__title\">\\n                            <a class=\"media__link\" href=\"/sport/football/55189302\"\\n                                      rev=\"sport|headline\" >\\n                                                                    Koeman criticises Barca president                                                            </a>\\n                        </h3>\\n                    \\n                                            <p class=\"media__summary\">\\n                                                            Barcelona manager Ronald Koeman criticises interim president Carlos Tusquets after he said the club should have sold Lionel Messi in the summer.                                                    </p>\\n                    \\n                                            <a class=\"media__tag tag tag--football\" href=\"/sport/football/european\"\\n                                  rev=\"sport|source\" >European Football</a>\\n                    \\n                    \\n                </div>\\n\\n                <a class=\"block-link__overlay-link\"\\n                   href=\"/sport/football/55189302\"\\n                          rev=\"sport|overlay\"                    tabindex=\"-1\"\\n                   aria-hidden=\"true\"\\n                   >\\n                    Koeman criticises Barca president                </a>\\n\\n            </div>\\n\\n        </li>\\n     </ul> </div> </section> <!-- Error: (FeaturesAndEvents) Module does not have enough items (1/3) -->\\r\\n  <section class=\"module module--weather\" data-wwhp-module=\"weather\"> <div class=\"weather--content\"> <div class=\"weather\"> <div class=\"weather--head\"> <div class=\"weather--location\"> <h2>Lagos Weather</h2> <a class=\"weather--edit\" role=\"link\" href=\"#\">Edit</a> </div> <form class=\"weather--form\" action=\"/wwhp\"> <div class=\"weather--form--search\"> <input class=\"weather--form--input\" placeholder=\"Enter city, town or region\" name=\"location_term\" autocomplete=\"off\"> <button class=\"weather--form--submit\" type=\"submit\" value=\"\"> <span class=\"icon icon--search\"></span> </button> </div> </form> <p class=\"weather--error\"></p> <ul class=\"weather--results\"></ul> </div> <div class=\"weather--forecasts\"> <ul class=\"weather--forecast--list\">  <li class=\"forecast--1 forecast\"> <a class=\"forecast--link\" href=\"/weather/2332459?day=0\"   rev=\"weather|link\" > <img class=\"forecast--image\" src=\"https://static.bbci.co.uk/weather/0.5.284/images/icons/individual_56_icons/en_on_light_bg/3.gif\" alt=\"Sunny Intervals\"> <h3 class=\"forecast--day\">Sat</h3>  <p class=\"forecast--high\">33&deg;C</p>  <p class=\"forecast--low\">23&deg;C</p> </a> </li>  <li class=\"forecast--2 forecast\"> <a class=\"forecast--link\" href=\"/weather/2332459?day=1\"   rev=\"weather|link\" > <img class=\"forecast--image\" src=\"https://static.bbci.co.uk/weather/0.5.284/images/icons/individual_56_icons/en_on_light_bg/3.gif\" alt=\"Sunny Intervals\"> <h3 class=\"forecast--day\">Sun</h3>  <p class=\"forecast--high\">33&deg;C</p>  <p class=\"forecast--low\">23&deg;C</p> </a> </li>  <li class=\"forecast--3 forecast\"> <a class=\"forecast--link\" href=\"/weather/2332459?day=2\"   rev=\"weather|link\" > <img class=\"forecast--image\" src=\"https://static.bbci.co.uk/weather/0.5.284/images/icons/individual_56_icons/en_on_light_bg/3.gif\" alt=\"Sunny Intervals\"> <h3 class=\"forecast--day\">Mon</h3>  <p class=\"forecast--high\">33&deg;C</p>  <p class=\"forecast--low\">23&deg;C</p> </a> </li>  <li class=\"forecast--4 forecast\"> <a class=\"forecast--link\" href=\"/weather/2332459?day=3\"   rev=\"weather|link\" > <img class=\"forecast--image\" src=\"https://static.bbci.co.uk/weather/0.5.284/images/icons/individual_56_icons/en_on_light_bg/3.gif\" alt=\"Sunny Intervals\"> <h3 class=\"forecast--day\">Tue</h3>  <p class=\"forecast--high\">33&deg;C</p>  <p class=\"forecast--low\">23&deg;C</p> </a> </li>  </ul> </div> </div> </div> </section>  </div> </div> </div> </div> </section>       <section class=\"module module--reel\"> <div class=\"module__content\"> <div> <a href=\"/reel\" class=\"reel--link\"> <div> <div class=\"reel--logos-container\"> <div class=\"reel--reellogo-container\"> <svg viewBox=\"0 0 52.7 15.8\" class=\"reel--reellogo\"> <path d=\"M2.8,9.7v6H0V0h5.4c2,0,3.6,0.4,4.7,1.3c1.1,0.8,1.6,2,1.6,3.6c0,1-0.3,1.9-0.8,2.7c-0.5,0.7-1.3,1.3-2.3,1.7 c0.7,1.1,1.4,2.1,2.1,3.2c0.7,1.1,1.3,2.2,2,3.3H9.5c-0.6-1-1.2-2-1.8-3c-0.6-1-1.2-2-1.8-3c-0.2,0-0.4,0-0.6,0H2.8z M2.8,2.2v5.3 h2.5c1.2,0,2.1-0.2,2.8-0.6c0.6-0.4,0.9-1.1,0.9-2c0-0.9-0.3-1.6-0.9-2C7.4,2.4,6.5,2.2,5.3,2.2H2.8z\" /> <path d=\"M14.9,0h10.6v2.4h-7.7v4.1h6.9v2.4h-6.9v4.6h8.2v2.4h-11V0z\" /> <path d=\"M28.5,0H39v2.4h-7.7v4.1h6.9v2.4h-6.9v4.6h8.2v2.4h-11V0z\" /> <path d=\"M42.1,0h2.8v13.4h7.8v2.4H42.1V0z\" /> </svg> </div> </div> <div class=\"reel--button-container\"> <div class=\"reel--button\"> <div class=\"reel--button-title\">Visit Reel</div> <div class=\"reel--button-icon\"> <svg width=\"24\" height=\"24\" viewBox=\"0 0 24 24\" fill=\"none\" stroke=\"#BBB\" stroke-width=\"2\" stroke-linecap=\"round\" stroke-linejoin=\"round\"> <line x1=\"4\" y1=\"12\" x2=\"20\" y2=\"12\"/> <polyline points=\"14 6 20 12 14 18\"/> </svg> </div> </div> </div> </div> </a> </div> <p>The most amazing videos from the BBC</p> <ul class=\"media-list media-list--fixed-height\">  <li class=\"media-list__item media-list__item--1\"> <div class=\"media block-link\" data-bbc-container=\"reel\" data-bbc-title=\"Why millennials are ditching traditional life milestones\" data-bbc-source=\"reel\" data-bbc-metadata=\\'{\"CHD\": \"card::1\" }\\' > <a class=\"reel__link\" href=\"/reel/video/p090dqrf/why-do-we-fail-to-reach-big-milestones-\"> <div class=\"media__image\"> <div class=\"responsive-image\"> <div class=\"delayed-image-load-reel\" data-src=\"https://ychef.files.bbci.co.uk/{width}/p090hj59.jpg\" data-alt=\"Why millennials are ditching traditional life milestones\"> <img src=\"data:image/gif;base64,R0lGODlhEAAJAIAAAP///wAAACH5BAEAAAAALAAAAAAQAAkAAAIKhI+py+0Po5yUFQA7\" alt=\"Why millennials are ditching traditional life milestones\" /> </div> </div> </div> <div class=\"media__content\"> <h3>Why millennials are ditching traditional life milestones</h3> </div> </a> </div> </li>  <li class=\"media-list__item media-list__item--2\"> <div class=\"media block-link\" data-bbc-container=\"reel\" data-bbc-title=\"How a simple breathing trick can change your life\" data-bbc-source=\"reel\" data-bbc-metadata=\\'{\"CHD\": \"card::2\" }\\' > <a class=\"reel__link\" href=\"/reel/video/p08bl6tl/how-a-simple-breathing-trick-can-change-your-life\"> <div class=\"media__image\"> <div class=\"responsive-image\"> <div class=\"delayed-image-load-reel\" data-src=\"https://ychef.files.bbci.co.uk/{width}/p08bzzd4.jpg\" data-alt=\"How a simple breathing trick can change your life\"> <img src=\"data:image/gif;base64,R0lGODlhEAAJAIAAAP///wAAACH5BAEAAAAALAAAAAAQAAkAAAIKhI+py+0Po5yUFQA7\" alt=\"How a simple breathing trick can change your life\" /> </div> </div> </div> <div class=\"media__content\"> <h3>How a simple breathing trick can change your life</h3> </div> </a> </div> </li>  <li class=\"media-list__item media-list__item--3\"> <div class=\"media block-link\" data-bbc-container=\"reel\" data-bbc-title=\"A different side to prostitution that\\'s rarely seen\" data-bbc-source=\"reel\" data-bbc-metadata=\\'{\"CHD\": \"card::3\" }\\' > <a class=\"reel__link\" href=\"/reel/video/p07td3v5/the-secret-side-to-prostitution-that-s-rarely-seen\"> <div class=\"media__image\"> <div class=\"responsive-image\"> <div class=\"delayed-image-load-reel\" data-src=\"https://ychef.files.bbci.co.uk/{width}/p07tctw0.jpg\" data-alt=\"A different side to prostitution that\\'s rarely seen\"> <img src=\"data:image/gif;base64,R0lGODlhEAAJAIAAAP///wAAACH5BAEAAAAALAAAAAAQAAkAAAIKhI+py+0Po5yUFQA7\" alt=\"A different side to prostitution that\\'s rarely seen\" /> </div> </div> </div> <div class=\"media__content\"> <h3>A different side to prostitution that\\'s rarely seen</h3> </div> </a> </div> </li>  </ul> </div> <div class=\"reel--background\"> <div class=\"delayed-image-load-reel \" data-src=\"https://ychef.files.bbci.co.uk/{width}/p08h02kk.jpg\"></div> </div> </section> <div class=\"advert advert--platinum\"><!-- BBCDOTCOM slot platinum --><div id=\"bbccom_platinum_1_2_3_4\" class=\"bbccom_slot\" aria-hidden=\"true\"><div class=\"bbccom_advert\"><script type=\"text/javascript\">/*<![CDATA[*/(function() {if (window.bbcdotcom && bbcdotcom.slotAsync) {bbcdotcom.slotAsync(\"platinum\", [1,2,3,4]);}})();/*]]>*/</script></div></div></div>      <section class=\"module module--regional-news   module--collapse-images\">             <h2 class=\"module__title\">\\n                            <a class=\"module__title__link tag tag--news\" href=\"/news/world/africa\"\\n                      rev=\"regional-news|header\"                     >Africa News</a>\\n                    </h2>\\n     <div class=\"module__content\"> <ul class=\"media-list media-list--fixed-height\">         \\n        <li class=\"media-list__item media-list__item--1\">\\n            <div\\n               class=\"media  block-link\"\\n               data-bbc-container=\"regional-news\"\\n               data-bbc-title=\"Senegal mourns football hero Papa Bouba Diop\"\\n               data-bbc-source=\"Africa\"\\n               data-bbc-metadata=\\'{\"CHD\": \"card::1\" }\\'\\n                              >\\n                <div class=\"media__image\">\\n                    <div class=\"responsive-image\"><div class=\"delayed-image-load\" data-src=\"https://ichef.bbc.co.uk/wwhp/{width}/cpsprodpb/236E/production/_115807090_diop3.jpg\" data-alt=\"Pape Bouba Diop playing for Senegal against France, 2002\"><img src=\"data:image/gif;base64,R0lGODlhEAAJAIAAAP///wAAACH5BAEAAAAALAAAAAAQAAkAAAIKhI+py+0Po5yUFQA7\" alt=\"Pape Bouba Diop playing for Senegal against France, 2002\" /></div></div>                </div>\\n\\n                \\n                <div class=\"media__content\">\\n\\n                                            <h3 class=\"media__title\">\\n                            <a class=\"media__link\" href=\"/news/world-africa-55198929\"\\n                                      rev=\"regional-news|headline\" >\\n                                                                    Senegal mourns football hero Papa Bouba Diop                                                            </a>\\n                        </h3>\\n                    \\n                                            <p class=\"media__summary\">\\n                                                            President Sall leads tributes to the player who scored the goal that beat France in the 2002 World Cup.                                                    </p>\\n                    \\n                                            <a class=\"media__tag tag tag--african-news\" href=\"/news/world/africa\"\\n                                  rev=\"regional-news|source\" >Africa</a>\\n                    \\n                    \\n                </div>\\n\\n                <a class=\"block-link__overlay-link\"\\n                   href=\"/news/world-africa-55198929\"\\n                          rev=\"regional-news|overlay\"                    tabindex=\"-1\"\\n                   aria-hidden=\"true\"\\n                   >\\n                    Senegal mourns football hero Papa Bouba Diop                </a>\\n\\n            </div>\\n\\n        </li>\\n        \\n        <li class=\"media-list__item media-list__item--2\">\\n            <div\\n               class=\"media  block-link\"\\n               data-bbc-container=\"regional-news\"\\n               data-bbc-title=\"Ethiopia aid delayed amid ongoing fighting - UN\"\\n               data-bbc-source=\"Africa\"\\n               data-bbc-metadata=\\'{\"CHD\": \"card::2\" }\\'\\n                              >\\n                <div class=\"media__image\">\\n                    <div class=\"responsive-image\"><div class=\"delayed-image-load\" data-src=\"https://ichef.bbc.co.uk/wwhp/{width}/cpsprodpb/49BF/production/_115797881_tigray-gettyimages-1229926846.jpg\" data-alt=\"Ethiopian refugees who fled the Tigray conflict, rest in a makeshift shelter at Um Raquba reception camp in Sudan\\'s eastern Gedaref state, on 3 December 2020\"><img src=\"data:image/gif;base64,R0lGODlhEAAJAIAAAP///wAAACH5BAEAAAAALAAAAAAQAAkAAAIKhI+py+0Po5yUFQA7\" alt=\"Ethiopian refugees who fled the Tigray conflict, rest in a makeshift shelter at Um Raquba reception camp in Sudan\\'s eastern Gedaref state, on 3 December 2020\" /></div></div>                </div>\\n\\n                \\n                <div class=\"media__content\">\\n\\n                                            <h3 class=\"media__title\">\\n                            <a class=\"media__link\" href=\"/news/world-africa-55184096\"\\n                                      rev=\"regional-news|headline\" >\\n                                                                    Ethiopia aid delayed amid ongoing fighting - UN                                                            </a>\\n                        </h3>\\n                    \\n                                            <p class=\"media__summary\">\\n                                                            Clashes in many parts of the Tigray region mean there is still no access, UN officials say.                                                    </p>\\n                    \\n                                            <a class=\"media__tag tag tag--african-news\" href=\"/news/world/africa\"\\n                                  rev=\"regional-news|source\" >Africa</a>\\n                    \\n                    \\n                </div>\\n\\n                <a class=\"block-link__overlay-link\"\\n                   href=\"/news/world-africa-55184096\"\\n                          rev=\"regional-news|overlay\"                    tabindex=\"-1\"\\n                   aria-hidden=\"true\"\\n                   >\\n                    Ethiopia aid delayed amid ongoing fighting - UN                </a>\\n\\n            </div>\\n\\n        </li>\\n        \\n        <li class=\"media-list__item media-list__item--3\">\\n            <div\\n               class=\"media  block-link\"\\n               data-bbc-container=\"regional-news\"\\n               data-bbc-title=\"Covid-19 story wins BBC writing competition\"\\n               data-bbc-source=\"Africa\"\\n               data-bbc-metadata=\\'{\"CHD\": \"card::3\" }\\'\\n                              >\\n                <div class=\"media__image\">\\n                    <div class=\"responsive-image\"><div class=\"delayed-image-load\" data-src=\"https://ichef.bbc.co.uk/wwhp/{width}/cpsprodpb/94B6/production/_115807083_maryamumarhikayatacopy-002.jpg\" data-alt=\"Maryam Umar\"><img src=\"data:image/gif;base64,R0lGODlhEAAJAIAAAP///wAAACH5BAEAAAAALAAAAAAQAAkAAAIKhI+py+0Po5yUFQA7\" alt=\"Maryam Umar\" /></div></div>                </div>\\n\\n                \\n                <div class=\"media__content\">\\n\\n                                            <h3 class=\"media__title\">\\n                            <a class=\"media__link\" href=\"https://www.bbc.co.uk/news/live/world-africa-47639452?ns_mchannel=social&amp;ns_source=twitter&amp;ns_campaign=bbc_live&amp;ns_linkname=5fcb49e065be0302b81c5745%26Covid-19%20story%20wins%20BBC%20writing%20competition%262020-12-05T09%3A00%3A50.769Z&amp;ns_fee=0&amp;pinned_post_locator=urn:asset:1f6d841a-8acd-4a67-bc2c-933f94b821de&amp;pinned_post_asset_id=5fcb49e065be0302b81c5745&amp;pinned_post_type=share\"\\n                                      rev=\"regional-news|headline\" >\\n                                                                    Covid-19 story wins BBC writing competition                                                            </a>\\n                        </h3>\\n                    \\n                                            <p class=\"media__summary\">\\n                                                            Rai da Cuta (Life &amp; Sickness) is by Maryam Umar, a 20-year-old law student at Usman Danfodio University, Sokoto.                                                    </p>\\n                    \\n                                            <a class=\"media__tag tag tag--african-news\" href=\"http://www.bbc.com/news/world/africa\"\\n                                  rev=\"regional-news|source\" >Africa</a>\\n                    \\n                    \\n                </div>\\n\\n                <a class=\"block-link__overlay-link\"\\n                   href=\"https://www.bbc.co.uk/news/live/world-africa-47639452?ns_mchannel=social&amp;ns_source=twitter&amp;ns_campaign=bbc_live&amp;ns_linkname=5fcb49e065be0302b81c5745%26Covid-19%20story%20wins%20BBC%20writing%20competition%262020-12-05T09%3A00%3A50.769Z&amp;ns_fee=0&amp;pinned_post_locator=urn:asset:1f6d841a-8acd-4a67-bc2c-933f94b821de&amp;pinned_post_asset_id=5fcb49e065be0302b81c5745&amp;pinned_post_type=share\"\\n                          rev=\"regional-news|overlay\"                    tabindex=\"-1\"\\n                   aria-hidden=\"true\"\\n                   >\\n                    Covid-19 story wins BBC writing competition                </a>\\n\\n            </div>\\n\\n        </li>\\n        \\n        <li class=\"media-list__item media-list__item--4\">\\n            <div\\n               class=\"media  block-link\"\\n               data-bbc-container=\"regional-news\"\\n               data-bbc-title=\"The hidden story of African-Irish children\"\\n               data-bbc-source=\"Europe\"\\n               data-bbc-metadata=\\'{\"CHD\": \"card::4\" }\\'\\n                              >\\n                <div class=\"media__image\">\\n                    <div class=\"responsive-image\"><div class=\"delayed-image-load\" data-src=\"https://ichef.bbc.co.uk/wwhp/{width}/cpsprodpb/A0E1/production/_115758114_1400-promo-trio1.jpg\" data-alt=\"Jude Hughes, Marguerite Penrose and Conrad Bryan\"><img src=\"data:image/gif;base64,R0lGODlhEAAJAIAAAP///wAAACH5BAEAAAAALAAAAAAQAAkAAAIKhI+py+0Po5yUFQA7\" alt=\"Jude Hughes, Marguerite Penrose and Conrad Bryan\" /></div></div>                </div>\\n\\n                \\n                <div class=\"media__content\">\\n\\n                                            <h3 class=\"media__title\">\\n                            <a class=\"media__link\" href=\"/news/world-europe-55145873\"\\n                                      rev=\"regional-news|headline\" >\\n                                                                    The hidden story of African-Irish children                                                            </a>\\n                        </h3>\\n                    \\n                                            <p class=\"media__summary\">\\n                                                            The mixed-race Irish people searching for their African roots.                                                    </p>\\n                    \\n                                            <a class=\"media__tag tag tag--african-features\" href=\"/news/world/europe\"\\n                                  rev=\"regional-news|source\" >Europe</a>\\n                    \\n                    \\n                </div>\\n\\n                <a class=\"block-link__overlay-link\"\\n                   href=\"/news/world-europe-55145873\"\\n                          rev=\"regional-news|overlay\"                    tabindex=\"-1\"\\n                   aria-hidden=\"true\"\\n                   >\\n                    The hidden story of African-Irish children                </a>\\n\\n            </div>\\n\\n        </li>\\n     </ul> </div> </section>        <section class=\"module module--collapse-images module--collapse-images module--highlight module--editors-picks\">             <h2 class=\"module__title\">\\n                            <span class=\"module__title__link tag tag--feature\">Editor\\xe2\\x80\\x99s Picks</span>\\n                    </h2>\\n     <div class=\"module__content\"> <div class=\"container\"> <div class=\"editors-picks \"> <ul class=\"media-list media-list--fixed-height layout--featured\">         \\n        <li class=\"media-list__item media-list__item--1\">\\n            <div\\n               class=\"media media--padded media--primary block-link\"\\n               data-bbc-container=\"editors-picks\"\\n               data-bbc-title=\"The most striking images of 2020\"\\n               data-bbc-source=\"Culture\"\\n               data-bbc-metadata=\\'{\"CHD\": \"card::1\" }\\'\\n                              >\\n                <div class=\"media__image\">\\n                    <div class=\"responsive-image\"><div class=\"delayed-image-load\" data-src=\"https://ychef.files.bbci.co.uk/width/790/p090dtcp.jpg\" data-alt=\"A breaching shark, a volcanic eruption and wildfires\"><img src=\"data:image/gif;base64,R0lGODlhEAAJAIAAAP///wAAACH5BAEAAAAALAAAAAAQAAkAAAIKhI+py+0Po5yUFQA7\" alt=\"A breaching shark, a volcanic eruption and wildfires\" /></div></div>                </div>\\n\\n                \\n                <div class=\"media__content\">\\n\\n                                            <h3 class=\"media__title\">\\n                            <a class=\"media__link\" href=\"https://www.bbc.com/culture/article/20201203-the-most-striking-images-of-2020\"\\n                                      rev=\"editors-picks|headline\" >\\n                                                                    The most striking images of 2020                                                            </a>\\n                        </h3>\\n                    \\n                                            <p class=\"media__summary\">\\n                                                            A breaching shark, a volcanic eruption and wildfires                                                    </p>\\n                    \\n                                            <a class=\"media__tag tag tag--culture\" href=\"http://www.bbc.com/culture\"\\n                                  rev=\"editors-picks|source\" >Culture</a>\\n                    \\n                    \\n                </div>\\n\\n                <a class=\"block-link__overlay-link\"\\n                   href=\"https://www.bbc.com/culture/article/20201203-the-most-striking-images-of-2020\"\\n                          rev=\"editors-picks|overlay\"                    tabindex=\"-1\"\\n                   aria-hidden=\"true\"\\n                   >\\n                    The most striking images of 2020                </a>\\n\\n            </div>\\n\\n        </li>\\n        \\n        <li class=\"media-list__item media-list__item--2\">\\n            <div\\n               class=\"media media--padded block-link\"\\n               data-bbc-container=\"editors-picks\"\\n               data-bbc-title=\"Why you feel like your days drag on\"\\n               data-bbc-source=\"Worklife\"\\n               data-bbc-metadata=\\'{\"CHD\": \"card::2\" }\\'\\n                              >\\n                <div class=\"media__image\">\\n                    <div class=\"responsive-image\"><div class=\"delayed-image-load\" data-src=\"https://ychef.files.bbci.co.uk/width/790/p090f075.jpg\" data-alt=\"A theory that helps us understand why a minute can feel like an hour\"><img src=\"data:image/gif;base64,R0lGODlhEAAJAIAAAP///wAAACH5BAEAAAAALAAAAAAQAAkAAAIKhI+py+0Po5yUFQA7\" alt=\"A theory that helps us understand why a minute can feel like an hour\" /></div></div>                </div>\\n\\n                \\n                <div class=\"media__content\">\\n\\n                                            <h3 class=\"media__title\">\\n                            <a class=\"media__link\" href=\"https://www.bbc.com/worklife/article/20201203-why-time-seems-to-be-moving-so-slowly-during-the-pandemic\"\\n                                      rev=\"editors-picks|headline\" >\\n                                                                    Why you feel like your days drag on                                                            </a>\\n                        </h3>\\n                    \\n                                            <p class=\"media__summary\">\\n                                                            A theory that helps us understand why a minute can feel like an hour                                                    </p>\\n                    \\n                                            <a class=\"media__tag tag tag--worklife\" href=\"http://www.bbc.com/worklife\"\\n                                  rev=\"editors-picks|source\" >Worklife</a>\\n                    \\n                    \\n                </div>\\n\\n                <a class=\"block-link__overlay-link\"\\n                   href=\"https://www.bbc.com/worklife/article/20201203-why-time-seems-to-be-moving-so-slowly-during-the-pandemic\"\\n                          rev=\"editors-picks|overlay\"                    tabindex=\"-1\"\\n                   aria-hidden=\"true\"\\n                   >\\n                    Why you feel like your days drag on                </a>\\n\\n            </div>\\n\\n        </li>\\n        \\n        <li class=\"media-list__item media-list__item--3\">\\n            <div\\n               class=\"media media--padded block-link\"\\n               data-bbc-container=\"editors-picks\"\\n               data-bbc-title=\"The nation learning to embrace flooding\"\\n               data-bbc-source=\"Future\"\\n               data-bbc-metadata=\\'{\"CHD\": \"card::3\" }\\'\\n                              >\\n                <div class=\"media__image\">\\n                    <div class=\"responsive-image\"><div class=\"delayed-image-load\" data-src=\"https://ychef.files.bbci.co.uk/width/790/p0904r7w.jpg\" data-alt=\"The floods are as vital as they are dangerous\"><img src=\"data:image/gif;base64,R0lGODlhEAAJAIAAAP///wAAACH5BAEAAAAALAAAAAAQAAkAAAIKhI+py+0Po5yUFQA7\" alt=\"The floods are as vital as they are dangerous\" /></div></div>                </div>\\n\\n                \\n                <div class=\"media__content\">\\n\\n                                            <h3 class=\"media__title\">\\n                            <a class=\"media__link\" href=\"https://www.bbc.com/future/article/20201201-bangladesh-the-devastating-floods-essential-for-life\"\\n                                      rev=\"editors-picks|headline\" >\\n                                                                    The nation learning to embrace flooding                                                            </a>\\n                        </h3>\\n                    \\n                                            <p class=\"media__summary\">\\n                                                            The floods are as vital as they are dangerous                                                    </p>\\n                    \\n                                            <a class=\"media__tag tag tag--future\" href=\"http://www.bbc.com/future\"\\n                                  rev=\"editors-picks|source\" >Future</a>\\n                    \\n                    \\n                </div>\\n\\n                <a class=\"block-link__overlay-link\"\\n                   href=\"https://www.bbc.com/future/article/20201201-bangladesh-the-devastating-floods-essential-for-life\"\\n                          rev=\"editors-picks|overlay\"                    tabindex=\"-1\"\\n                   aria-hidden=\"true\"\\n                   >\\n                    The nation learning to embrace flooding                </a>\\n\\n            </div>\\n\\n        </li>\\n        \\n        <li class=\"media-list__item media-list__item--4\">\\n            <div\\n               class=\"media media--padded block-link\"\\n               data-bbc-container=\"editors-picks\"\\n               data-bbc-title=\"Why Swedes don\\xe2\\x80\\x99t like chit-chat\"\\n               data-bbc-source=\"Travel\"\\n               data-bbc-metadata=\\'{\"CHD\": \"card::4\" }\\'\\n                              >\\n                <div class=\"media__image\">\\n                    <div class=\"responsive-image\"><div class=\"delayed-image-load\" data-src=\"https://ychef.files.bbci.co.uk/width/790/p08yn6by.jpg\" data-alt=\"Their reserved character is hundreds of years in the making\"><img src=\"data:image/gif;base64,R0lGODlhEAAJAIAAAP///wAAACH5BAEAAAAALAAAAAAQAAkAAAIKhI+py+0Po5yUFQA7\" alt=\"Their reserved character is hundreds of years in the making\" /></div></div>                </div>\\n\\n                \\n                <div class=\"media__content\">\\n\\n                                            <h3 class=\"media__title\">\\n                            <a class=\"media__link\" href=\"https://www.bbc.com/travel/story/20201203-why-swedes-dont-speak-to-strangers\"\\n                                      rev=\"editors-picks|headline\" >\\n                                                                    Why Swedes don\\xe2\\x80\\x99t like chit-chat                                                            </a>\\n                        </h3>\\n                    \\n                                            <p class=\"media__summary\">\\n                                                            Their reserved character is hundreds of years in the making                                                    </p>\\n                    \\n                                            <a class=\"media__tag tag tag--travel\" href=\"http://www.bbc.com/travel\"\\n                                  rev=\"editors-picks|source\" >Travel</a>\\n                    \\n                    \\n                </div>\\n\\n                <a class=\"block-link__overlay-link\"\\n                   href=\"https://www.bbc.com/travel/story/20201203-why-swedes-dont-speak-to-strangers\"\\n                          rev=\"editors-picks|overlay\"                    tabindex=\"-1\"\\n                   aria-hidden=\"true\"\\n                   >\\n                    Why Swedes don\\xe2\\x80\\x99t like chit-chat                </a>\\n\\n            </div>\\n\\n        </li>\\n        \\n        <li class=\"media-list__item media-list__item--5\">\\n            <div\\n               class=\"media media--padded block-link\"\\n               data-bbc-container=\"editors-picks\"\\n               data-bbc-title=\"News quiz: How does George Clooney keep his hair trim?\"\\n               data-bbc-source=\"World\"\\n               data-bbc-metadata=\\'{\"CHD\": \"card::5\" }\\'\\n                              >\\n                <div class=\"media__image\">\\n                    <div class=\"responsive-image\"><div class=\"delayed-image-load\" data-src=\"https://ichef.bbc.co.uk/wwhp/{width}/cpsprodpb/13F83/production/_115759718_clooney_reu.jpg\" data-alt=\"George Clooney\\'s hair\"><img src=\"data:image/gif;base64,R0lGODlhEAAJAIAAAP///wAAACH5BAEAAAAALAAAAAAQAAkAAAIKhI+py+0Po5yUFQA7\" alt=\"George Clooney\\'s hair\" /></div></div>                </div>\\n\\n                \\n                <div class=\"media__content\">\\n\\n                                            <h3 class=\"media__title\">\\n                            <a class=\"media__link\" href=\"https://www.bbc.com/news/world-55153006\"\\n                                      rev=\"editors-picks|headline\" >\\n                                                                    News quiz: How does George Clooney keep his hair trim?                                                            </a>\\n                        </h3>\\n                    \\n                                            <p class=\"media__summary\">\\n                                                            How closely have you been paying attention to what\\'s been going on during the past seven days?                                                    </p>\\n                    \\n                                            <a class=\"media__tag tag tag--world\" href=\"/news/world\"\\n                                  rev=\"editors-picks|source\" >World</a>\\n                    \\n                    \\n                </div>\\n\\n                <a class=\"block-link__overlay-link\"\\n                   href=\"https://www.bbc.com/news/world-55153006\"\\n                          rev=\"editors-picks|overlay\"                    tabindex=\"-1\"\\n                   aria-hidden=\"true\"\\n                   >\\n                    News quiz: How does George Clooney keep his hair trim?                </a>\\n\\n            </div>\\n\\n        </li>\\n        \\n        <li class=\"media-list__item media-list__item--6\">\\n            <div\\n               class=\"media media--padded block-link\"\\n               data-bbc-container=\"editors-picks\"\\n               data-bbc-title=\"10 key beliefs from Jeff Bezos\"\\n               data-bbc-source=\"BBC FOUR\"\\n               data-bbc-metadata=\\'{\"CHD\": \"card::6\" }\\'\\n                              >\\n                <div class=\"media__image\">\\n                    <div class=\"responsive-image\"><div class=\"delayed-image-load\" data-src=\"https://ichef.bbc.co.uk/wwhp/{width}/ibroadcast/images/live/p0/8y/z7/p08yz7x7.jpg\" data-alt=\"Amazon founder and richest man in the world Jeff Bezos\"><img src=\"data:image/gif;base64,R0lGODlhEAAJAIAAAP///wAAACH5BAEAAAAALAAAAAAQAAkAAAIKhI+py+0Po5yUFQA7\" alt=\"Amazon founder and richest man in the world Jeff Bezos\" /></div></div>                </div>\\n\\n                \\n                <div class=\"media__content\">\\n\\n                                            <h3 class=\"media__title\">\\n                            <a class=\"media__link\" href=\"https://www.bbc.co.uk/programmes/articles/4PgD8P4CMW5PRMrPQVMKqvW/10-key-beliefs-from-the-brain-of-jeff-bezos\"\\n                                      rev=\"editors-picks|headline\" >\\n                                                                    10 key beliefs from Jeff Bezos                                                            </a>\\n                        </h3>\\n                    \\n                                            <p class=\"media__summary\">\\n                                                            A mindset for risk, tactics, ambition and innovation that goes above and beyond                                                    </p>\\n                    \\n                                            <a class=\"media__tag tag tag--bbc-four\" href=\"https://www.bbc.co.uk/programmes/articles/3xvMJ3QVHl4fx6tCtrcwHCZ/4-minute-reads\"\\n                                  rev=\"editors-picks|source\" >BBC FOUR</a>\\n                    \\n                    \\n                </div>\\n\\n                <a class=\"block-link__overlay-link\"\\n                   href=\"https://www.bbc.co.uk/programmes/articles/4PgD8P4CMW5PRMrPQVMKqvW/10-key-beliefs-from-the-brain-of-jeff-bezos\"\\n                          rev=\"editors-picks|overlay\"                    tabindex=\"-1\"\\n                   aria-hidden=\"true\"\\n                   >\\n                    10 key beliefs from Jeff Bezos                </a>\\n\\n            </div>\\n\\n        </li>\\n        \\n        <li class=\"media-list__item media-list__item--7\">\\n            <div\\n               class=\"media media--padded block-link\"\\n               data-bbc-container=\"editors-picks\"\\n               data-bbc-title=\"How to make easy Christmas cake decorations\"\\n               data-bbc-source=\"FOOD\"\\n               data-bbc-metadata=\\'{\"CHD\": \"card::7\" }\\'\\n                              >\\n                <div class=\"media__image\">\\n                    <div class=\"responsive-image\"><div class=\"delayed-image-load\" data-src=\"https://ichef.bbc.co.uk/wwhp/{width}/ibroadcast/images/live/p0/8z/30/p08z30f6.jpg\" data-alt=\"Fondant penguin, bird, snowman and Christmas tree\"><img src=\"data:image/gif;base64,R0lGODlhEAAJAIAAAP///wAAACH5BAEAAAAALAAAAAAQAAkAAAIKhI+py+0Po5yUFQA7\" alt=\"Fondant penguin, bird, snowman and Christmas tree\" /></div></div>                </div>\\n\\n                \\n                <div class=\"media__content\">\\n\\n                                            <h3 class=\"media__title\">\\n                            <a class=\"media__link\" href=\"https://www.bbc.co.uk/food/articles/kids_christmas_decorations\"\\n                                      rev=\"editors-picks|headline\" >\\n                                                                    How to make easy Christmas cake decorations                                                            </a>\\n                        </h3>\\n                    \\n                                            <p class=\"media__summary\">\\n                                                            Even if you\\xe2\\x80\\x99re a first-time baker, all you need is some fondant, a rolling pin and a small...                                                    </p>\\n                    \\n                                            <a class=\"media__tag tag tag--food\" href=\"https://www.bbc.co.uk/food\"\\n                                  rev=\"editors-picks|source\" >FOOD</a>\\n                    \\n                    \\n                </div>\\n\\n                <a class=\"block-link__overlay-link\"\\n                   href=\"https://www.bbc.co.uk/food/articles/kids_christmas_decorations\"\\n                          rev=\"editors-picks|overlay\"                    tabindex=\"-1\"\\n                   aria-hidden=\"true\"\\n                   >\\n                    How to make easy Christmas cake decorations                </a>\\n\\n            </div>\\n\\n        </li>\\n     </ul> </div>   <div class=\"most-popular\"> <div class=\"top-list\"> <h2 class=\"top-list__heading\">Latest Business News</h2> <ul class=\"top-list__list\">  <li class=\"top-list-item top-list-item__1 top-list-item--ranked top-list-item--odd\" data-bbc-container=\"most-popular\" data-bbc-title=\"Job growth slows in US as virus cases surge\" data-bbc-source=\"Latest Business News\" data-bbc-metadata=\\'{\"CHD\": \"card::1\" }\\' > <a class=\"top-list-item__link\" href=\"/news/business-55190637\"   rev=\"most-popular|link\" > <span class=\"top-list-item__bullet\">1</span> <h3 class=\"top-list-item__headline\">Job growth slows in US as virus cases surge</h3> </a> </li>  <li class=\"top-list-item top-list-item__2 top-list-item--ranked top-list-item--even\" data-bbc-container=\"most-popular\" data-bbc-title=\"Former Austrian finance minister jailed\" data-bbc-source=\"Latest Business News\" data-bbc-metadata=\\'{\"CHD\": \"card::2\" }\\' > <a class=\"top-list-item__link\" href=\"/news/world-europe-55195397\"   rev=\"most-popular|link\" > <span class=\"top-list-item__bullet\">2</span> <h3 class=\"top-list-item__headline\">Former Austrian finance minister jailed</h3> </a> </li>  <li class=\"top-list-item top-list-item__3 top-list-item--ranked top-list-item--odd\" data-bbc-container=\"most-popular\" data-bbc-title=\"BA in PR headache as bread basket sale goes stale\" data-bbc-source=\"Latest Business News\" data-bbc-metadata=\\'{\"CHD\": \"card::3\" }\\' > <a class=\"top-list-item__link\" href=\"/news/business-55160584\"   rev=\"most-popular|link\" > <span class=\"top-list-item__bullet\">3</span> <h3 class=\"top-list-item__headline\">BA in PR headache as bread basket sale goes stale</h3> </a> </li>  <li class=\"top-list-item top-list-item__4 top-list-item--ranked top-list-item--even\" data-bbc-container=\"most-popular\" data-bbc-title=\"Denmark set to end all new oil and gas exploration\" data-bbc-source=\"Latest Business News\" data-bbc-metadata=\\'{\"CHD\": \"card::4\" }\\' > <a class=\"top-list-item__link\" href=\"/news/business-55184580\"   rev=\"most-popular|link\" > <span class=\"top-list-item__bullet\">4</span> <h3 class=\"top-list-item__headline\">Denmark set to end all new oil and gas exploration</h3> </a> </li>  </ul> </div> </div>  <div class=\"advert advert--native\"><!-- BBCDOTCOM slot native --><div id=\"bbccom_native_1_2_3_4\" class=\"bbccom_slot\" aria-hidden=\"true\"><div class=\"bbccom_advert\"><script type=\"text/javascript\">/*<![CDATA[*/(function() {if (window.bbcdotcom && bbcdotcom.slotAsync) {bbcdotcom.slotAsync(\"native\", [1,2,3,4]);}})();/*]]>*/</script></div></div></div> </div> </div> </section>       <section class=\"module module--reel module--planet\"> <div class=\"module__content\"> <div> <a href=\"/future/future-planet\" class=\"reel--link\"> <div> <div class=\"reel--logos-container\"> <span class=\"planet--title\">Future Planet</span> </div> <div class=\"reel--button-container planet--button-container\"> <div class=\"reel--button planet--button\"> <div class=\"reel--button-title planet--button-title\"></div> <div class=\"reel--button-icon planet--button-icon\"> <svg width=\"24\" height=\"24\" viewBox=\"0 0 24 24\" fill=\"none\" stroke=\"#BBB\" stroke-width=\"2\" stroke-linecap=\"round\" stroke-linejoin=\"round\"> <line x1=\"4\" y1=\"12\" x2=\"20\" y2=\"12\"/> <polyline points=\"14 6 20 12 14 18\"/> </svg> </div> </div> </div> </div> </a> </div> <p>Solutions for a sustainable world</p> <ul class=\"media-list media-list--fixed-height\">  <li class=\"media-list__item media-list__item--1\"> <div class=\"media block-link\" data-bbc-container=\"future-planet\" data-bbc-title=\"The end of a fuel worse than coal\" data-bbc-source=\"future\" data-bbc-metadata=\\'{\"CHD\": \"card::1\" }\\' > <a class=\"reel__link\" href=\"/future/article/20201203-peat-the-decline-of-the-worlds-dirtiest-fuel\"> <div class=\"media__image\"> <div class=\"responsive-image\"> <div class=\"delayed-image-load-planet\" data-src=\"https://ychef.files.bbci.co.uk/{width}/p090dnsq.jpg\" data-alt=\"The end of a fuel worse than coal\"> <img src=\"data:image/gif;base64,R0lGODlhEAAJAIAAAP///wAAACH5BAEAAAAALAAAAAAQAAkAAAIKhI+py+0Po5yUFQA7\" alt=\"The end of a fuel worse than coal\" /> </div> </div> </div> <div class=\"media__content\"> <h3>The end of a fuel worse than coal</h3> </div> </a> </div> </li>  <li class=\"media-list__item media-list__item--2\"> <div class=\"media block-link\" data-bbc-container=\"future-planet\" data-bbc-title=\"The solar discs that could power Earth\" data-bbc-source=\"future\" data-bbc-metadata=\\'{\"CHD\": \"card::2\" }\\' > <a class=\"reel__link\" href=\"/future/article/20201126-the-solar-discs-that-could-beam-power-from-space\"> <div class=\"media__image\"> <div class=\"responsive-image\"> <div class=\"delayed-image-load-planet\" data-src=\"https://ychef.files.bbci.co.uk/{width}/p08zqj9p.png\" data-alt=\"The solar discs that could power Earth\"> <img src=\"data:image/gif;base64,R0lGODlhEAAJAIAAAP///wAAACH5BAEAAAAALAAAAAAQAAkAAAIKhI+py+0Po5yUFQA7\" alt=\"The solar discs that could power Earth\" /> </div> </div> </div> <div class=\"media__content\"> <h3>The solar discs that could power Earth</h3> </div> </a> </div> </li>  <li class=\"media-list__item media-list__item--3\"> <div class=\"media block-link\" data-bbc-container=\"future-planet\" data-bbc-title=\"The new \\'gold rush\\' for green lithium\" data-bbc-source=\"future\" data-bbc-metadata=\\'{\"CHD\": \"card::3\" }\\' > <a class=\"reel__link\" href=\"/future/article/20201124-how-geothermal-lithium-could-revolutionise-green-energy\"> <div class=\"media__image\"> <div class=\"responsive-image\"> <div class=\"delayed-image-load-planet\" data-src=\"https://ychef.files.bbci.co.uk/{width}/p08zhk9b.jpg\" data-alt=\"The new \\'gold rush\\' for green lithium\"> <img src=\"data:image/gif;base64,R0lGODlhEAAJAIAAAP///wAAACH5BAEAAAAALAAAAAAQAAkAAAIKhI+py+0Po5yUFQA7\" alt=\"The new \\'gold rush\\' for green lithium\" /> </div> </div> </div> <div class=\"media__content\"> <h3>The new \\'gold rush\\' for green lithium</h3> </div> </a> </div> </li>  </ul> </div> <div class=\"reel--background\"> <div class=\"delayed-image-load-planet\" data-src=\"https://ychef.files.bbci.co.uk/976x549/p0836dcl.jpg\"></div> </div> </section>      <section class=\"module module--collapse-images module--special-features module--primary-special-features\"> <div class=\"module__content\"> <ul class=\"features\">   <li class=\"feature feature--1\"> <div class=\"feature__wrapper\"> <h2 class=\"feature__title\"> <a class=\"feature__link\" href=\"https://www.bbc.com/news/business-11428889\"   rev=\"primary-special-features|header\" > Technology of Business </a> </h2> <div class=\"feature__content\">     \\n        \\n            <div\\n               class=\"media media--primary block-link\"\\n               data-bbc-container=\"primary-special-features\"\\n               data-bbc-title=\"Why Covid may mean more facial recognition tech\"\\n               data-bbc-source=\"Business\"\\n               data-bbc-metadata=\\'{\"CHD\": \"card::1\" }\\'\\n                              >\\n                <div class=\"media__image\">\\n                    <div class=\"responsive-image\"><div class=\"delayed-image-load\" data-src=\"https://ichef.bbc.co.uk/wwhp/{width}/cpsprodpb/161D/production/_115516650_nistexperiment-credit-bhayesandnist.png\" data-alt=\"NIST facial recognition software\"><img src=\"data:image/gif;base64,R0lGODlhEAAJAIAAAP///wAAACH5BAEAAAAALAAAAAAQAAkAAAIKhI+py+0Po5yUFQA7\" alt=\"NIST facial recognition software\" /></div></div>                </div>\\n\\n                \\n                <div class=\"media__content\">\\n\\n                    \\n                    \\n                                            <a class=\"media__tag tag tag--business\" href=\"/news/business\"\\n                                  rev=\"primary-special-features|source\" >Business</a>\\n                    \\n                                            <h3 class=\"media__title\">\\n                            <a class=\"media__link\" href=\"https://www.bbc.com/news/business-54959193\"\\n                                      rev=\"primary-special-features|headline\" >\\n                                                                    Why Covid may mean more facial recognition tech                                                            </a>\\n                        </h3>\\n                    \\n                </div>\\n\\n                <a class=\"block-link__overlay-link\"\\n                   href=\"https://www.bbc.com/news/business-54959193\"\\n                          rev=\"primary-special-features|overlay\"                    tabindex=\"-1\"\\n                   aria-hidden=\"true\"\\n                   >\\n                    Why Covid may mean more facial recognition tech                </a>\\n\\n            </div>\\n\\n        \\n     </div>  <div class=\"feature__ad\"> <div class=\"advert advert--module_feature-1 advert--sponsor\"><!-- BBCDOTCOM slot module_feature-1 --><div id=\"bbccom_module_feature-1_1_2_3_4\" class=\"bbccom_slot\" aria-hidden=\"true\"><div class=\"bbccom_advert\"><script type=\"text/javascript\">/*<![CDATA[*/(function() {if (window.bbcdotcom && bbcdotcom.slotAsync) {bbcdotcom.slotAsync(\"module_feature-1\", [1,2,3,4]);}})();/*]]>*/</script></div></div></div> </div>  </div> </li>  <li class=\"feature-ad\">  <div class=\"feature__wrapper\"> <h2 class=\"feature__title\">  ADVERTISEMENT  </h2> <div class=\"advert advert--infeed\"><!-- BBCDOTCOM slot infeed --><div id=\"bbccom_infeed_1_2_3_4\" class=\"bbccom_slot\" aria-hidden=\"true\"><div class=\"bbccom_advert\"><script type=\"text/javascript\">/*<![CDATA[*/(function() {if (window.bbcdotcom && bbcdotcom.slotAsync) {bbcdotcom.slotAsync(\"infeed\", [1,2,3,4]);}})();/*]]>*/</script></div></div></div> </div>  </li>   <li class=\"feature feature--2\"> <div class=\"feature__wrapper\"> <h2 class=\"feature__title\"> <a class=\"feature__link\" href=\"https://www.bbc.com/worklife/the-life-project\"   rev=\"primary-special-features|header\" > The Life Project </a> </h2> <div class=\"feature__content\">     \\n        \\n            <div\\n               class=\"media media--primary block-link\"\\n               data-bbc-container=\"primary-special-features\"\\n               data-bbc-title=\"How Indian weddings are defying Covid-19\"\\n               data-bbc-source=\"Worklife\"\\n               data-bbc-metadata=\\'{\"CHD\": \"card::2\" }\\'\\n                              >\\n                <div class=\"media__image\">\\n                    <div class=\"responsive-image\"><div class=\"delayed-image-load\" data-src=\"https://ichef.bbc.co.uk/wwhp/{width}/ibroadcast/images/live/p0/8z/z2/p08zz2xz.jpg\" data-alt=\"Bride with mask\"><img src=\"data:image/gif;base64,R0lGODlhEAAJAIAAAP///wAAACH5BAEAAAAALAAAAAAQAAkAAAIKhI+py+0Po5yUFQA7\" alt=\"Bride with mask\" /></div></div>                </div>\\n\\n                \\n                <div class=\"media__content\">\\n\\n                    \\n                    \\n                                            <a class=\"media__tag tag tag--worklife\" href=\"http://www.bbc.com/worklife\"\\n                                  rev=\"primary-special-features|source\" >Worklife</a>\\n                    \\n                                            <h3 class=\"media__title\">\\n                            <a class=\"media__link\" href=\"https://www.bbc.com/worklife/article/20201130-why-indian-wedding-traditions-are-powerful-than-the-pandemic\"\\n                                      rev=\"primary-special-features|headline\" >\\n                                                                    How Indian weddings are defying Covid-19                                                            </a>\\n                        </h3>\\n                    \\n                </div>\\n\\n                <a class=\"block-link__overlay-link\"\\n                   href=\"https://www.bbc.com/worklife/article/20201130-why-indian-wedding-traditions-are-powerful-than-the-pandemic\"\\n                          rev=\"primary-special-features|overlay\"                    tabindex=\"-1\"\\n                   aria-hidden=\"true\"\\n                   >\\n                    How Indian weddings are defying Covid-19                </a>\\n\\n            </div>\\n\\n        \\n     </div>  <div class=\"feature__ad\"> <div class=\"advert advert--module_feature-2 advert--sponsor\"><!-- BBCDOTCOM slot module_feature-2 --><div id=\"bbccom_module_feature-2_1_2_3_4\" class=\"bbccom_slot\" aria-hidden=\"true\"><div class=\"bbccom_advert\"><script type=\"text/javascript\">/*<![CDATA[*/(function() {if (window.bbcdotcom && bbcdotcom.slotAsync) {bbcdotcom.slotAsync(\"module_feature-2\", [1,2,3,4]);}})();/*]]>*/</script></div></div></div> </div>  </div> </li>  </ul> </div> </section>       <section class=\"module module--collapse-images module--video module--highlight\">             <h2 class=\"module__title\">\\n                            <span class=\"module__title__link tag tag--default\">Featured video</span>\\n                    </h2>\\n     <div class=\"module__content\"> <div class=\"video video--noslick\" id=\"video\" data-wwhp-module=\"video\"> <div class=\"video__player\"> <div id=\"player\" class=\"video__smp\"></div>     \\n        \\n            <div\\n               class=\"media media--primary media--overlay block-link--no-filter media--icon block-link\"\\n               data-bbc-container=\"video\"\\n               data-bbc-title=\"Moscow clinics begins Covid-19 jabs\"\\n               data-bbc-source=\"Europe\"\\n               data-bbc-metadata=\\'{\"CHD\": \"card::1\" }\\'\\n               data-bbc-client-routed               >\\n                <div class=\"media__image\">\\n                    <div class=\"responsive-image\"><div class=\"delayed-image-load\" data-src=\"https://ichef.bbc.co.uk/wwhp/{width}/cpsprodpb/17624/production/_115808759_p090l65y.jpg\" data-alt=\"Woman holding a vial\"><img src=\"data:image/gif;base64,R0lGODlhEAAJAIAAAP///wAAACH5BAEAAAAALAAAAAAQAAkAAAIKhI+py+0Po5yUFQA7\" alt=\"Woman holding a vial\" /></div></div>                </div>\\n\\n                                    <span class=\"media__icon icon icon--video\" aria-hidden=\"true\"></span>\\n                \\n                <div class=\"media__content\">\\n\\n                                            <h3 class=\"media__title\">\\n                            <a class=\"media__link\" href=\"/news/world-europe-55198172\"\\n                                      rev=\"video|headline\" >\\n                                                                    Moscow clinics begins Covid-19 jabs                                                            </a>\\n                        </h3>\\n                    \\n                                            <p class=\"media__summary\">\\n                                                            Russia starts the rollout of its Sputnik V coronavirus vaccine for high-risk groups in its capital city.                                                    </p>\\n                    \\n                                            <a class=\"media__tag tag tag--videos\" href=\"/news/world/europe\"\\n                                  rev=\"video|source\" >Europe</a>\\n                    \\n                    \\n                </div>\\n\\n                <a class=\"block-link__overlay-link\"\\n                   href=\"/news/world-europe-55198172\"\\n                          rev=\"video|overlay\"                    tabindex=\"-1\"\\n                   aria-hidden=\"true\"\\n                   >\\n                    Moscow clinics begins Covid-19 jabs                </a>\\n\\n            </div>\\n\\n        \\n     </div> <div class=\"video__content\"> <ul class=\"video__tabs\">  <li class=\"video__tab\"> <a class=\"video__tab__link\" role=\"link\" data-category=\"recommended\" href=\"#\"> Recommended </a> </li>  <li class=\"video__tab\"> <a class=\"video__tab__link\" role=\"link\" data-category=\"most-watched\" href=\"#\"> Most Watched </a> </li>  <li class=\"video__tab\"> <a class=\"video__tab__link\" role=\"link\" data-category=\"latest\" href=\"#\"> Latest </a> </li>  </ul> <div class=\"video__viewport\"> <ul class=\"video__items\">  <li class=\"video__item video__item video__item--0 video__item--recommended\" data-category=\"recommended\" data-index=\"0\" data-category-index=\"0\" data-video=\"{&quot;contenttype&quot;:&quot;video&quot;,&quot;num&quot;:&quot;10&quot;,&quot;type&quot;:&quot;MAP&quot;,&quot;title&quot;:&quot;Moscow clinics begins Covid-19 jabs&quot;,&quot;url&quot;:&quot;\\\\/news\\\\/world-europe-55198172&quot;,&quot;summary&quot;:&quot;Russia starts the rollout of its Sputnik V coronavirus vaccine for high-risk groups in its capital city.&quot;,&quot;img&quot;:&quot;https:\\\\/\\\\/ichef.bbc.co.uk\\\\/wwhp\\\\/800\\\\/cpsprodpb\\\\/17624\\\\/production\\\\/_115808759_p090l65y.jpg&quot;,&quot;imgalttext&quot;:&quot;Woman holding a vial&quot;,&quot;pid&quot;:&quot;p090l5nx&quot;,&quot;pidtype&quot;:&quot;Version&quot;,&quot;sourcename&quot;:&quot;Europe&quot;,&quot;sourceurl&quot;:&quot;\\\\/news\\\\/world\\\\/europe&quot;,&quot;created&quot;:&quot;2020-12-05T12:42:57+00:00&quot;,&quot;updated&quot;:&quot;2020-12-05T13:07:18+00:00&quot;,&quot;origincode&quot;:&quot;cpsprodpb&quot;,&quot;gelicon&quot;:&quot;video&quot;,&quot;sourceid&quot;:&quot;videos&quot;,&quot;itemtype&quot;:&quot;feed&quot;,&quot;allowadvertising&quot;:true,&quot;clippid&quot;:&quot;p090l3lk&quot;,&quot;duration&quot;:&quot;PT2M8S&quot;}\">     \\n        \\n            <div\\n               class=\"media media--video media--horizontal media--primary media--icon block-link\"\\n               data-bbc-container=\"video\"\\n               data-bbc-title=\"Moscow clinics begins Covid-19 jabs\"\\n               data-bbc-source=\"Europe\"\\n               data-bbc-metadata=\\'{\"CHD\": \"card::1\" }\\'\\n               data-bbc-client-routed               >\\n                <div class=\"media__image\">\\n                    <div class=\"responsive-image\"><div class=\"delayed-image-load\" data-src=\"https://ichef.bbc.co.uk/wwhp/{width}/cpsprodpb/17624/production/_115808759_p090l65y.jpg\" data-alt=\"Woman holding a vial\"><img src=\"data:image/gif;base64,R0lGODlhEAAJAIAAAP///wAAACH5BAEAAAAALAAAAAAQAAkAAAIKhI+py+0Po5yUFQA7\" alt=\"Woman holding a vial\" /></div></div>                </div>\\n\\n                                    <span class=\"media__icon icon icon--video\" aria-hidden=\"true\"></span>\\n                \\n                <div class=\"media__content\">\\n\\n                                            <h3 class=\"media__title\">\\n                            <a class=\"media__link\" href=\"/news/world-europe-55198172\"\\n                                      rev=\"video|headline\" >\\n                                                                    Moscow clinics begins Covid-19 jabs                                                            </a>\\n                        </h3>\\n                    \\n                    \\n                                            <a class=\"media__tag tag tag--videos\" href=\"/news/world/europe\"\\n                                  rev=\"video|source\" >Europe</a>\\n                    \\n                    \\n                </div>\\n\\n                <a class=\"block-link__overlay-link\"\\n                   href=\"/news/world-europe-55198172\"\\n                          rev=\"video|overlay\"                    tabindex=\"-1\"\\n                   aria-hidden=\"true\"\\n                   >\\n                    Moscow clinics begins Covid-19 jabs                </a>\\n\\n            </div>\\n\\n        \\n     </li>  <li class=\"video__item video__item video__item--1 video__item--recommended\" data-category=\"recommended\" data-index=\"1\" data-category-index=\"1\" data-video=\"{&quot;contenttype&quot;:&quot;video&quot;,&quot;num&quot;:&quot;10&quot;,&quot;type&quot;:&quot;MAP&quot;,&quot;title&quot;:&quot;The teen fighting global air pollution&quot;,&quot;url&quot;:&quot;\\\\/news\\\\/science-environment-55193232&quot;,&quot;summary&quot;:&quot;Nineteen-year-old Abhiir Bhalla has campaigned against air pollution in Delhi most of his life.&quot;,&quot;img&quot;:&quot;https:\\\\/\\\\/ichef.bbc.co.uk\\\\/wwhp\\\\/800\\\\/cpsprodpb\\\\/31C4\\\\/production\\\\/_115804721_p090j823.jpg&quot;,&quot;imgalttext&quot;:&quot;Abhiir Bhalla&quot;,&quot;pid&quot;:&quot;p090j42d&quot;,&quot;pidtype&quot;:&quot;Version&quot;,&quot;sourcename&quot;:&quot;Science &amp;amp; Environment&quot;,&quot;sourceurl&quot;:&quot;\\\\/news\\\\/science_and_environment&quot;,&quot;created&quot;:&quot;2020-12-05T00:07:37+00:00&quot;,&quot;updated&quot;:&quot;2020-12-05T00:07:37+00:00&quot;,&quot;origincode&quot;:&quot;cpsprodpb&quot;,&quot;gelicon&quot;:&quot;video&quot;,&quot;sourceid&quot;:&quot;videos-must-see&quot;,&quot;itemtype&quot;:&quot;feed&quot;,&quot;allowadvertising&quot;:true,&quot;clippid&quot;:&quot;p090j424&quot;,&quot;duration&quot;:&quot;PT3M1S&quot;}\">     \\n        \\n            <div\\n               class=\"media media--video media--horizontal media--icon block-link\"\\n               data-bbc-container=\"video\"\\n               data-bbc-title=\"The teen fighting global air pollution\"\\n               data-bbc-source=\"Science &amp; Environment\"\\n               data-bbc-metadata=\\'{\"CHD\": \"card::2\" }\\'\\n               data-bbc-client-routed               >\\n                <div class=\"media__image\">\\n                    <div class=\"responsive-image\"><div class=\"delayed-image-load\" data-src=\"https://ichef.bbc.co.uk/wwhp/{width}/cpsprodpb/31C4/production/_115804721_p090j823.jpg\" data-alt=\"Abhiir Bhalla\"><img src=\"data:image/gif;base64,R0lGODlhEAAJAIAAAP///wAAACH5BAEAAAAALAAAAAAQAAkAAAIKhI+py+0Po5yUFQA7\" alt=\"Abhiir Bhalla\" /></div></div>                </div>\\n\\n                                    <span class=\"media__icon icon icon--video\" aria-hidden=\"true\"></span>\\n                \\n                <div class=\"media__content\">\\n\\n                                            <h3 class=\"media__title\">\\n                            <a class=\"media__link\" href=\"/news/science-environment-55193232\"\\n                                      rev=\"video|headline\" >\\n                                                                    The teen fighting global air pollution                                                            </a>\\n                        </h3>\\n                    \\n                    \\n                                            <a class=\"media__tag tag tag--videos-must-see\" href=\"/news/science_and_environment\"\\n                                  rev=\"video|source\" >Science &amp; Environment</a>\\n                    \\n                    \\n                </div>\\n\\n                <a class=\"block-link__overlay-link\"\\n                   href=\"/news/science-environment-55193232\"\\n                          rev=\"video|overlay\"                    tabindex=\"-1\"\\n                   aria-hidden=\"true\"\\n                   >\\n                    The teen fighting global air pollution                </a>\\n\\n            </div>\\n\\n        \\n     </li>  <li class=\"video__item video__item video__item--2 video__item--recommended\" data-category=\"recommended\" data-index=\"2\" data-category-index=\"2\" data-video=\"{&quot;contenttype&quot;:&quot;video&quot;,&quot;num&quot;:&quot;10&quot;,&quot;type&quot;:&quot;MAP&quot;,&quot;title&quot;:&quot;School during Covid: \\'Got to work twice as hard\\'&quot;,&quot;url&quot;:&quot;\\\\/news\\\\/education-55163201&quot;,&quot;summary&quot;:&quot;Students in Hartlepool talk about what it\\'s like going to school during a pandemic.&quot;,&quot;img&quot;:&quot;https:\\\\/\\\\/ichef.bbc.co.uk\\\\/wwhp\\\\/800\\\\/cpsprodpb\\\\/61FF\\\\/production\\\\/_115778052_p0909vmn.jpg&quot;,&quot;imgalttext&quot;:&quot;Lewin and Nina&quot;,&quot;pid&quot;:&quot;p09095g6&quot;,&quot;pidtype&quot;:&quot;Version&quot;,&quot;sourcename&quot;:&quot;Family &amp;amp; Education&quot;,&quot;sourceurl&quot;:&quot;\\\\/news\\\\/education&quot;,&quot;created&quot;:&quot;2020-12-03T00:27:15+00:00&quot;,&quot;updated&quot;:&quot;2020-12-05T00:04:04+00:00&quot;,&quot;origincode&quot;:&quot;cpsprodpb&quot;,&quot;gelicon&quot;:&quot;video&quot;,&quot;sourceid&quot;:&quot;videos-must-see&quot;,&quot;itemtype&quot;:&quot;feed&quot;,&quot;allowadvertising&quot;:true,&quot;clippid&quot;:&quot;p09095g4&quot;,&quot;duration&quot;:&quot;PT1M54S&quot;}\">     \\n        \\n            <div\\n               class=\"media media--video media--horizontal media--icon block-link\"\\n               data-bbc-container=\"video\"\\n               data-bbc-title=\"School during Covid: \\'Got to work twice as hard\\'\"\\n               data-bbc-source=\"Family &amp; Education\"\\n               data-bbc-metadata=\\'{\"CHD\": \"card::3\" }\\'\\n               data-bbc-client-routed               >\\n                <div class=\"media__image\">\\n                    <div class=\"responsive-image\"><div class=\"delayed-image-load\" data-src=\"https://ichef.bbc.co.uk/wwhp/{width}/cpsprodpb/61FF/production/_115778052_p0909vmn.jpg\" data-alt=\"Lewin and Nina\"><img src=\"data:image/gif;base64,R0lGODlhEAAJAIAAAP///wAAACH5BAEAAAAALAAAAAAQAAkAAAIKhI+py+0Po5yUFQA7\" alt=\"Lewin and Nina\" /></div></div>                </div>\\n\\n                                    <span class=\"media__icon icon icon--video\" aria-hidden=\"true\"></span>\\n                \\n                <div class=\"media__content\">\\n\\n                                            <h3 class=\"media__title\">\\n                            <a class=\"media__link\" href=\"/news/education-55163201\"\\n                                      rev=\"video|headline\" >\\n                                                                    School during Covid: \\'Got to work twice as...                                                            </a>\\n                        </h3>\\n                    \\n                    \\n                                            <a class=\"media__tag tag tag--videos-must-see\" href=\"/news/education\"\\n                                  rev=\"video|source\" >Family &amp; Education</a>\\n                    \\n                    \\n                </div>\\n\\n                <a class=\"block-link__overlay-link\"\\n                   href=\"/news/education-55163201\"\\n                          rev=\"video|overlay\"                    tabindex=\"-1\"\\n                   aria-hidden=\"true\"\\n                   >\\n                    School during Covid: \\'Got to work twice as hard\\'                </a>\\n\\n            </div>\\n\\n        \\n     </li>  <li class=\"video__item video__item video__item--3 video__item--recommended\" data-category=\"recommended\" data-index=\"3\" data-category-index=\"3\" data-video=\"{&quot;contenttype&quot;:&quot;video&quot;,&quot;num&quot;:&quot;10&quot;,&quot;type&quot;:&quot;MAP&quot;,&quot;title&quot;:&quot;Moment plane lands on highway&quot;,&quot;url&quot;:&quot;\\\\/news\\\\/world-us-canada-55184326&quot;,&quot;summary&quot;:&quot;A light aircraft is forced to make an emergency landing on an interstate in Minnesota, but no injuries are reported.&quot;,&quot;img&quot;:&quot;https:\\\\/\\\\/ichef.bbc.co.uk\\\\/wwhp\\\\/800\\\\/cpsprodpb\\\\/5DBF\\\\/production\\\\/_115799932_p090hmqs.jpg&quot;,&quot;imgalttext&quot;:&quot;Plane on highway&quot;,&quot;pid&quot;:&quot;p090hrdn&quot;,&quot;pidtype&quot;:&quot;Version&quot;,&quot;sourcename&quot;:&quot;US &amp;amp; Canada&quot;,&quot;sourceurl&quot;:&quot;\\\\/news\\\\/world\\\\/us_and_canada&quot;,&quot;created&quot;:&quot;2020-12-04T14:01:43+00:00&quot;,&quot;updated&quot;:&quot;2020-12-04T14:01:43+00:00&quot;,&quot;origincode&quot;:&quot;cpsprodpb&quot;,&quot;gelicon&quot;:&quot;video&quot;,&quot;sourceid&quot;:&quot;videos&quot;,&quot;itemtype&quot;:&quot;feed&quot;,&quot;allowadvertising&quot;:true,&quot;clippid&quot;:&quot;p090hm8y&quot;,&quot;duration&quot;:&quot;PT44S&quot;}\">     \\n        \\n            <div\\n               class=\"media media--video media--horizontal media--icon block-link\"\\n               data-bbc-container=\"video\"\\n               data-bbc-title=\"Moment plane lands on highway\"\\n               data-bbc-source=\"US &amp; Canada\"\\n               data-bbc-metadata=\\'{\"CHD\": \"card::4\" }\\'\\n               data-bbc-client-routed               >\\n                <div class=\"media__image\">\\n                    <div class=\"responsive-image\"><div class=\"delayed-image-load\" data-src=\"https://ichef.bbc.co.uk/wwhp/{width}/cpsprodpb/5DBF/production/_115799932_p090hmqs.jpg\" data-alt=\"Plane on highway\"><img src=\"data:image/gif;base64,R0lGODlhEAAJAIAAAP///wAAACH5BAEAAAAALAAAAAAQAAkAAAIKhI+py+0Po5yUFQA7\" alt=\"Plane on highway\" /></div></div>                </div>\\n\\n                                    <span class=\"media__icon icon icon--video\" aria-hidden=\"true\"></span>\\n                \\n                <div class=\"media__content\">\\n\\n                                            <h3 class=\"media__title\">\\n                            <a class=\"media__link\" href=\"/news/world-us-canada-55184326\"\\n                                      rev=\"video|headline\" >\\n                                                                    Moment plane lands on highway                                                            </a>\\n                        </h3>\\n                    \\n                    \\n                                            <a class=\"media__tag tag tag--videos\" href=\"/news/world/us_and_canada\"\\n                                  rev=\"video|source\" >US &amp; Canada</a>\\n                    \\n                    \\n                </div>\\n\\n                <a class=\"block-link__overlay-link\"\\n                   href=\"/news/world-us-canada-55184326\"\\n                          rev=\"video|overlay\"                    tabindex=\"-1\"\\n                   aria-hidden=\"true\"\\n                   >\\n                    Moment plane lands on highway                </a>\\n\\n            </div>\\n\\n        \\n     </li>  <li class=\"video__item video__item video__item--4 video__item--recommended\" data-category=\"recommended\" data-index=\"4\" data-category-index=\"4\" data-video=\"{&quot;contenttype&quot;:&quot;video&quot;,&quot;num&quot;:&quot;10&quot;,&quot;type&quot;:&quot;MAP&quot;,&quot;title&quot;:&quot;Biden: \\'I don\\'t think Covid vaccine should be mandatory\\'&quot;,&quot;url&quot;:&quot;\\\\/news\\\\/world-us-canada-55195831&quot;,&quot;summary&quot;:&quot;The US president-elect says he\\'ll do \\\\&quot;everything in my power... to encourage people to do the right thing\\\\&quot;.&quot;,&quot;img&quot;:&quot;https:\\\\/\\\\/ichef.bbc.co.uk\\\\/wwhp\\\\/800\\\\/cpsprodpb\\\\/CC7E\\\\/production\\\\/_115805325_p090k6bt.jpg&quot;,&quot;imgalttext&quot;:&quot;US President-elect Joe Biden&quot;,&quot;pid&quot;:&quot;p090k40m&quot;,&quot;pidtype&quot;:&quot;Version&quot;,&quot;sourcename&quot;:&quot;US &amp;amp; Canada&quot;,&quot;sourceurl&quot;:&quot;\\\\/news\\\\/world\\\\/us_and_canada&quot;,&quot;created&quot;:&quot;2020-12-04T23:57:38+00:00&quot;,&quot;updated&quot;:&quot;2020-12-04T23:57:38+00:00&quot;,&quot;origincode&quot;:&quot;cpsprodpb&quot;,&quot;gelicon&quot;:&quot;video&quot;,&quot;sourceid&quot;:&quot;videos&quot;,&quot;itemtype&quot;:&quot;feed&quot;,&quot;allowadvertising&quot;:true,&quot;clippid&quot;:&quot;p090k40k&quot;,&quot;duration&quot;:&quot;PT25S&quot;}\">     \\n        \\n            <div\\n               class=\"media media--video media--horizontal media--icon block-link\"\\n               data-bbc-container=\"video\"\\n               data-bbc-title=\"Biden: \\'I don\\'t think Covid vaccine should be mandatory\\'\"\\n               data-bbc-source=\"US &amp; Canada\"\\n               data-bbc-metadata=\\'{\"CHD\": \"card::5\" }\\'\\n               data-bbc-client-routed               >\\n                <div class=\"media__image\">\\n                    <div class=\"responsive-image\"><div class=\"delayed-image-load\" data-src=\"https://ichef.bbc.co.uk/wwhp/{width}/cpsprodpb/CC7E/production/_115805325_p090k6bt.jpg\" data-alt=\"US President-elect Joe Biden\"><img src=\"data:image/gif;base64,R0lGODlhEAAJAIAAAP///wAAACH5BAEAAAAALAAAAAAQAAkAAAIKhI+py+0Po5yUFQA7\" alt=\"US President-elect Joe Biden\" /></div></div>                </div>\\n\\n                                    <span class=\"media__icon icon icon--video\" aria-hidden=\"true\"></span>\\n                \\n                <div class=\"media__content\">\\n\\n                                            <h3 class=\"media__title\">\\n                            <a class=\"media__link\" href=\"/news/world-us-canada-55195831\"\\n                                      rev=\"video|headline\" >\\n                                                                    Biden: \\'I don\\'t think Covid vaccine should be...                                                            </a>\\n                        </h3>\\n                    \\n                    \\n                                            <a class=\"media__tag tag tag--videos\" href=\"/news/world/us_and_canada\"\\n                                  rev=\"video|source\" >US &amp; Canada</a>\\n                    \\n                    \\n                </div>\\n\\n                <a class=\"block-link__overlay-link\"\\n                   href=\"/news/world-us-canada-55195831\"\\n                          rev=\"video|overlay\"                    tabindex=\"-1\"\\n                   aria-hidden=\"true\"\\n                   >\\n                    Biden: \\'I don\\'t think Covid vaccine should be mandatory\\'                </a>\\n\\n            </div>\\n\\n        \\n     </li>  <li class=\"video__item video__item video__item--5 video__item--most-watched\" data-category=\"most-watched\" data-index=\"5\" data-category-index=\"0\" data-video=\"{&quot;contenttype&quot;:&quot;video&quot;,&quot;num&quot;:&quot;10&quot;,&quot;title&quot;:&quot;Boris Johnson struggles in interview&quot;,&quot;url&quot;:&quot;\\\\/news\\\\/uk-40358825&quot;,&quot;img&quot;:&quot;https:\\\\/\\\\/ichef.bbc.co.uk\\\\/wwhp\\\\/800\\\\/cpsprodpb\\\\/13914\\\\/production\\\\/_96584108_p056l3xn.jpg&quot;,&quot;pid&quot;:&quot;p05q0xdr&quot;,&quot;pidtype&quot;:&quot;Version&quot;,&quot;sourcename&quot;:&quot;UK&quot;,&quot;sourceurl&quot;:&quot;\\\\/news\\\\/uk&quot;,&quot;summary&quot;:&quot;The foreign secretary struggled to explain how the PM would tackle \\\\&quot;burning injustices\\\\&quot;.&quot;,&quot;imgalttext&quot;:&quot;The foreign secretary struggled to explain the PM would tackle \\\\&quot;burning injustices\\\\&quot; in the criminal justice system and in education.&quot;,&quot;origincode&quot;:&quot;cpsprodpb&quot;,&quot;allowadvertising&quot;:true,&quot;clippid&quot;:&quot;p056l396&quot;,&quot;duration&quot;:&quot;PT9M38S&quot;}\">     \\n        \\n            <div\\n               class=\"media media--video media--horizontal media--icon block-link\"\\n               data-bbc-container=\"video\"\\n               data-bbc-title=\"Boris Johnson struggles in interview\"\\n               data-bbc-source=\"UK\"\\n               data-bbc-metadata=\\'{\"CHD\": \"card::6\" }\\'\\n               data-bbc-client-routed               >\\n                <div class=\"media__image\">\\n                    <div class=\"responsive-image\"><div class=\"delayed-image-load\" data-src=\"https://ichef.bbc.co.uk/wwhp/{width}/cpsprodpb/13914/production/_96584108_p056l3xn.jpg\" data-alt=\"The foreign secretary struggled to explain the PM would tackle &quot;burning injustices&quot; in the criminal justice system and in education.\"><img src=\"data:image/gif;base64,R0lGODlhEAAJAIAAAP///wAAACH5BAEAAAAALAAAAAAQAAkAAAIKhI+py+0Po5yUFQA7\" alt=\"The foreign secretary struggled to explain the PM would tackle &quot;burning injustices&quot; in the criminal justice system and in education.\" /></div></div>                </div>\\n\\n                                    <span class=\"media__icon icon icon--video\" aria-hidden=\"true\"></span>\\n                \\n                <div class=\"media__content\">\\n\\n                                            <h3 class=\"media__title\">\\n                            <a class=\"media__link\" href=\"/news/uk-40358825\"\\n                                      rev=\"video|headline\" >\\n                                                                    Boris Johnson struggles in interview                                                            </a>\\n                        </h3>\\n                    \\n                    \\n                                            <a class=\"media__tag tag tag--\" href=\"/news/uk\"\\n                                  rev=\"video|source\" >UK</a>\\n                    \\n                    \\n                </div>\\n\\n                <a class=\"block-link__overlay-link\"\\n                   href=\"/news/uk-40358825\"\\n                          rev=\"video|overlay\"                    tabindex=\"-1\"\\n                   aria-hidden=\"true\"\\n                   >\\n                    Boris Johnson struggles in interview                </a>\\n\\n            </div>\\n\\n        \\n     </li>  <li class=\"video__item video__item video__item--6 video__item--most-watched\" data-category=\"most-watched\" data-index=\"6\" data-category-index=\"1\" data-video=\"{&quot;contenttype&quot;:&quot;video&quot;,&quot;num&quot;:&quot;10&quot;,&quot;title&quot;:&quot;Ready for the total solar eclipse?&quot;,&quot;url&quot;:&quot;\\\\/news\\\\/world-us-canada-40362067&quot;,&quot;img&quot;:&quot;https:\\\\/\\\\/ichef.bbc.co.uk\\\\/wwhp\\\\/800\\\\/cpsprodpb\\\\/5EBA\\\\/production\\\\/_96505242_p056l5st.jpg&quot;,&quot;pid&quot;:&quot;p056l52f&quot;,&quot;pidtype&quot;:&quot;Version&quot;,&quot;sourcename&quot;:&quot;US &amp;amp; Canada&quot;,&quot;sourceurl&quot;:&quot;\\\\/news\\\\/world\\\\/us_and_canada&quot;,&quot;summary&quot;:&quot;Nasa scientists are very excited about the eclipse happening in the United States later this summer.&quot;,&quot;imgalttext&quot;:&quot;Solar eclipse to cross North America&quot;,&quot;origincode&quot;:&quot;cpsprodpb&quot;,&quot;allowadvertising&quot;:true,&quot;clippid&quot;:&quot;p056l52c&quot;,&quot;duration&quot;:&quot;PT1M5S&quot;}\">     \\n        \\n            <div\\n               class=\"media media--video media--horizontal media--icon block-link\"\\n               data-bbc-container=\"video\"\\n               data-bbc-title=\"Ready for the total solar eclipse?\"\\n               data-bbc-source=\"US &amp; Canada\"\\n               data-bbc-metadata=\\'{\"CHD\": \"card::7\" }\\'\\n               data-bbc-client-routed               >\\n                <div class=\"media__image\">\\n                    <div class=\"responsive-image\"><div class=\"delayed-image-load\" data-src=\"https://ichef.bbc.co.uk/wwhp/{width}/cpsprodpb/5EBA/production/_96505242_p056l5st.jpg\" data-alt=\"Solar eclipse to cross North America\"><img src=\"data:image/gif;base64,R0lGODlhEAAJAIAAAP///wAAACH5BAEAAAAALAAAAAAQAAkAAAIKhI+py+0Po5yUFQA7\" alt=\"Solar eclipse to cross North America\" /></div></div>                </div>\\n\\n                                    <span class=\"media__icon icon icon--video\" aria-hidden=\"true\"></span>\\n                \\n                <div class=\"media__content\">\\n\\n                                            <h3 class=\"media__title\">\\n                            <a class=\"media__link\" href=\"/news/world-us-canada-40362067\"\\n                                      rev=\"video|headline\" >\\n                                                                    Ready for the total solar eclipse?                                                            </a>\\n                        </h3>\\n                    \\n                    \\n                                            <a class=\"media__tag tag tag--\" href=\"/news/world/us_and_canada\"\\n                                  rev=\"video|source\" >US &amp; Canada</a>\\n                    \\n                    \\n                </div>\\n\\n                <a class=\"block-link__overlay-link\"\\n                   href=\"/news/world-us-canada-40362067\"\\n                          rev=\"video|overlay\"                    tabindex=\"-1\"\\n                   aria-hidden=\"true\"\\n                   >\\n                    Ready for the total solar eclipse?                </a>\\n\\n            </div>\\n\\n        \\n     </li>  <li class=\"video__item video__item video__item--7 video__item--most-watched\" data-category=\"most-watched\" data-index=\"7\" data-category-index=\"2\" data-video=\"{&quot;contenttype&quot;:&quot;video&quot;,&quot;num&quot;:&quot;10&quot;,&quot;title&quot;:&quot;Koalas \\'face extinction\\' in parts of Australia&quot;,&quot;url&quot;:&quot;\\\\/news\\\\/world-australia-40365981&quot;,&quot;img&quot;:&quot;https:\\\\/\\\\/ichef.bbc.co.uk\\\\/wwhp\\\\/800\\\\/cpsprodpb\\\\/11A11\\\\/production\\\\/_96590227_p056m0y4.jpg&quot;,&quot;pid&quot;:&quot;p056lx4x&quot;,&quot;pidtype&quot;:&quot;Version&quot;,&quot;sourcename&quot;:&quot;Australia&quot;,&quot;sourceurl&quot;:&quot;\\\\/news\\\\/world\\\\/australia&quot;,&quot;summary&quot;:&quot;The conservation group WWF is warning that koalas could be wiped out in some Australian states amid deforestation and increasing attacks by livestock.&quot;,&quot;imgalttext&quot;:&quot;Koala&quot;,&quot;origincode&quot;:&quot;cpsprodpb&quot;,&quot;allowadvertising&quot;:true,&quot;clippid&quot;:&quot;p056lx4s&quot;,&quot;duration&quot;:&quot;PT1M29S&quot;}\">     \\n        \\n            <div\\n               class=\"media media--video media--horizontal media--icon block-link\"\\n               data-bbc-container=\"video\"\\n               data-bbc-title=\"Koalas \\'face extinction\\' in parts of Australia\"\\n               data-bbc-source=\"Australia\"\\n               data-bbc-metadata=\\'{\"CHD\": \"card::8\" }\\'\\n               data-bbc-client-routed               >\\n                <div class=\"media__image\">\\n                    <div class=\"responsive-image\"><div class=\"delayed-image-load\" data-src=\"https://ichef.bbc.co.uk/wwhp/{width}/cpsprodpb/11A11/production/_96590227_p056m0y4.jpg\" data-alt=\"Koala\"><img src=\"data:image/gif;base64,R0lGODlhEAAJAIAAAP///wAAACH5BAEAAAAALAAAAAAQAAkAAAIKhI+py+0Po5yUFQA7\" alt=\"Koala\" /></div></div>                </div>\\n\\n                                    <span class=\"media__icon icon icon--video\" aria-hidden=\"true\"></span>\\n                \\n                <div class=\"media__content\">\\n\\n                                            <h3 class=\"media__title\">\\n                            <a class=\"media__link\" href=\"/news/world-australia-40365981\"\\n                                      rev=\"video|headline\" >\\n                                                                    Koalas \\'face extinction\\' in parts of...                                                            </a>\\n                        </h3>\\n                    \\n                    \\n                                            <a class=\"media__tag tag tag--\" href=\"/news/world/australia\"\\n                                  rev=\"video|source\" >Australia</a>\\n                    \\n                    \\n                </div>\\n\\n                <a class=\"block-link__overlay-link\"\\n                   href=\"/news/world-australia-40365981\"\\n                          rev=\"video|overlay\"                    tabindex=\"-1\"\\n                   aria-hidden=\"true\"\\n                   >\\n                    Koalas \\'face extinction\\' in parts of Australia                </a>\\n\\n            </div>\\n\\n        \\n     </li>  <li class=\"video__item video__item video__item--8 video__item--most-watched\" data-category=\"most-watched\" data-index=\"8\" data-category-index=\"3\" data-video=\"{&quot;contenttype&quot;:&quot;video&quot;,&quot;num&quot;:&quot;10&quot;,&quot;title&quot;:&quot;Video \\'shows Mosul mosque\\'s destruction\\'&quot;,&quot;url&quot;:&quot;\\\\/news\\\\/world-middle-east-40366136&quot;,&quot;img&quot;:&quot;https:\\\\/\\\\/ichef.bbc.co.uk\\\\/wwhp\\\\/800\\\\/cpsprodpb\\\\/4C2A\\\\/production\\\\/_96589491_p056m4gs.jpg&quot;,&quot;pid&quot;:&quot;p056lwqx&quot;,&quot;pidtype&quot;:&quot;Version&quot;,&quot;sourcename&quot;:&quot;Middle East&quot;,&quot;sourceurl&quot;:&quot;\\\\/news\\\\/world\\\\/middle_east&quot;,&quot;summary&quot;:&quot;A video purportedly shows the destruction of Mosul\\'s Great Mosque of al-Nuri and its minaret.&quot;,&quot;imgalttext&quot;:&quot;File image of Mosul\\'s Great Mosque of al-Nuri and video purportedly showing it being blown up on 21 June 2017&quot;,&quot;origincode&quot;:&quot;cpsprodpb&quot;,&quot;allowadvertising&quot;:true,&quot;clippid&quot;:&quot;p056lwqv&quot;,&quot;duration&quot;:&quot;PT7S&quot;}\">     \\n        \\n            <div\\n               class=\"media media--video media--horizontal media--icon block-link\"\\n               data-bbc-container=\"video\"\\n               data-bbc-title=\"Video \\'shows Mosul mosque\\'s destruction\\'\"\\n               data-bbc-source=\"Middle East\"\\n               data-bbc-metadata=\\'{\"CHD\": \"card::9\" }\\'\\n               data-bbc-client-routed               >\\n                <div class=\"media__image\">\\n                    <div class=\"responsive-image\"><div class=\"delayed-image-load\" data-src=\"https://ichef.bbc.co.uk/wwhp/{width}/cpsprodpb/4C2A/production/_96589491_p056m4gs.jpg\" data-alt=\"File image of Mosul\\'s Great Mosque of al-Nuri and video purportedly showing it being blown up on 21 June 2017\"><img src=\"data:image/gif;base64,R0lGODlhEAAJAIAAAP///wAAACH5BAEAAAAALAAAAAAQAAkAAAIKhI+py+0Po5yUFQA7\" alt=\"File image of Mosul\\'s Great Mosque of al-Nuri and video purportedly showing it being blown up on 21 June 2017\" /></div></div>                </div>\\n\\n                                    <span class=\"media__icon icon icon--video\" aria-hidden=\"true\"></span>\\n                \\n                <div class=\"media__content\">\\n\\n                                            <h3 class=\"media__title\">\\n                            <a class=\"media__link\" href=\"/news/world-middle-east-40366136\"\\n                                      rev=\"video|headline\" >\\n                                                                    Video \\'shows Mosul mosque\\'s destruction\\'                                                            </a>\\n                        </h3>\\n                    \\n                    \\n                                            <a class=\"media__tag tag tag--\" href=\"/news/world/middle_east\"\\n                                  rev=\"video|source\" >Middle East</a>\\n                    \\n                    \\n                </div>\\n\\n                <a class=\"block-link__overlay-link\"\\n                   href=\"/news/world-middle-east-40366136\"\\n                          rev=\"video|overlay\"                    tabindex=\"-1\"\\n                   aria-hidden=\"true\"\\n                   >\\n                    Video \\'shows Mosul mosque\\'s destruction\\'                </a>\\n\\n            </div>\\n\\n        \\n     </li>  <li class=\"video__item video__item video__item--9 video__item--most-watched\" data-category=\"most-watched\" data-index=\"9\" data-category-index=\"4\" data-video=\"{&quot;contenttype&quot;:&quot;video&quot;,&quot;num&quot;:&quot;10&quot;,&quot;title&quot;:&quot;Indonesia\\'s female \\'devil wheel\\' riders&quot;,&quot;url&quot;:&quot;\\\\/news\\\\/world-asia-40360168&quot;,&quot;img&quot;:&quot;https:\\\\/\\\\/ichef.bbc.co.uk\\\\/wwhp\\\\/800\\\\/cpsprodpb\\\\/A5C6\\\\/production\\\\/_96583424_p056kgt9.jpg&quot;,&quot;pid&quot;:&quot;p056k1w7&quot;,&quot;pidtype&quot;:&quot;Version&quot;,&quot;sourcename&quot;:&quot;Asia&quot;,&quot;sourceurl&quot;:&quot;\\\\/news\\\\/world\\\\/asia&quot;,&quot;summary&quot;:&quot;How a girl from Sumatra came to be riding motorbikes around a vertical wall in a travelling show.&quot;,&quot;imgalttext&quot;:&quot;Karmila Purba&quot;,&quot;origincode&quot;:&quot;cpsprodpb&quot;,&quot;allowadvertising&quot;:true,&quot;clippid&quot;:&quot;p056k1vv&quot;,&quot;duration&quot;:&quot;PT3M9S&quot;}\">     \\n        \\n            <div\\n               class=\"media media--video media--horizontal media--icon block-link\"\\n               data-bbc-container=\"video\"\\n               data-bbc-title=\"Indonesia\\'s female \\'devil wheel\\' riders\"\\n               data-bbc-source=\"Asia\"\\n               data-bbc-metadata=\\'{\"CHD\": \"card::10\" }\\'\\n               data-bbc-client-routed               >\\n                <div class=\"media__image\">\\n                    <div class=\"responsive-image\"><div class=\"delayed-image-load\" data-src=\"https://ichef.bbc.co.uk/wwhp/{width}/cpsprodpb/A5C6/production/_96583424_p056kgt9.jpg\" data-alt=\"Karmila Purba\"><img src=\"data:image/gif;base64,R0lGODlhEAAJAIAAAP///wAAACH5BAEAAAAALAAAAAAQAAkAAAIKhI+py+0Po5yUFQA7\" alt=\"Karmila Purba\" /></div></div>                </div>\\n\\n                                    <span class=\"media__icon icon icon--video\" aria-hidden=\"true\"></span>\\n                \\n                <div class=\"media__content\">\\n\\n                                            <h3 class=\"media__title\">\\n                            <a class=\"media__link\" href=\"/news/world-asia-40360168\"\\n                                      rev=\"video|headline\" >\\n                                                                    Indonesia\\'s female \\'devil wheel\\' riders                                                            </a>\\n                        </h3>\\n                    \\n                    \\n                                            <a class=\"media__tag tag tag--\" href=\"/news/world/asia\"\\n                                  rev=\"video|source\" >Asia</a>\\n                    \\n                    \\n                </div>\\n\\n                <a class=\"block-link__overlay-link\"\\n                   href=\"/news/world-asia-40360168\"\\n                          rev=\"video|overlay\"                    tabindex=\"-1\"\\n                   aria-hidden=\"true\"\\n                   >\\n                    Indonesia\\'s female \\'devil wheel\\' riders                </a>\\n\\n            </div>\\n\\n        \\n     </li>  <li class=\"video__item video__item video__item--10 video__item--latest\" data-category=\"latest\" data-index=\"10\" data-category-index=\"0\" data-video=\"{&quot;contenttype&quot;:&quot;video&quot;,&quot;num&quot;:&quot;10&quot;,&quot;type&quot;:&quot;MAP&quot;,&quot;title&quot;:&quot;One-minute World News&quot;,&quot;url&quot;:&quot;\\\\/news\\\\/10462520&quot;,&quot;summary&quot;:&quot;Watch the latest news summary from BBC World News. International news updated 24 hours a day.&quot;,&quot;img&quot;:&quot;https:\\\\/\\\\/ichef.bbc.co.uk\\\\/wwhp\\\\/800\\\\/cpsprodpb\\\\/15C7E\\\\/production\\\\/_90041298_p01tlf61.jpg&quot;,&quot;imgalttext&quot;:&quot;BBC News&quot;,&quot;pid&quot;:&quot;p090l8b1&quot;,&quot;duration&quot;:&quot;PT59S&quot;,&quot;pidtype&quot;:&quot;Version&quot;,&quot;sourcename&quot;:&quot;Video&quot;,&quot;sourceurl&quot;:&quot;\\\\/news\\\\/video_and_audio&quot;,&quot;created&quot;:&quot;2010-07-09T07:56:06+00:00&quot;,&quot;updated&quot;:&quot;2020-12-05T13:51:58+00:00&quot;,&quot;origincode&quot;:&quot;cpsprodpb&quot;,&quot;gelicon&quot;:&quot;video&quot;,&quot;allowadvertising&quot;:true}\">     \\n        \\n            <div\\n               class=\"media media--video media--horizontal media--icon block-link\"\\n               data-bbc-container=\"video\"\\n               data-bbc-title=\"One-minute World News\"\\n               data-bbc-source=\"Video\"\\n               data-bbc-metadata=\\'{\"CHD\": \"card::11\" }\\'\\n               data-bbc-client-routed               >\\n                <div class=\"media__image\">\\n                    <div class=\"responsive-image\"><div class=\"delayed-image-load\" data-src=\"https://ichef.bbc.co.uk/wwhp/{width}/cpsprodpb/15C7E/production/_90041298_p01tlf61.jpg\" data-alt=\"BBC News\"><img src=\"data:image/gif;base64,R0lGODlhEAAJAIAAAP///wAAACH5BAEAAAAALAAAAAAQAAkAAAIKhI+py+0Po5yUFQA7\" alt=\"BBC News\" /></div></div>                </div>\\n\\n                                    <span class=\"media__icon icon icon--video\" aria-hidden=\"true\"></span>\\n                \\n                <div class=\"media__content\">\\n\\n                                            <h3 class=\"media__title\">\\n                            <a class=\"media__link\" href=\"/news/10462520\"\\n                                      rev=\"video|headline\" >\\n                                                                    One-minute World News                                                            </a>\\n                        </h3>\\n                    \\n                    \\n                                            <a class=\"media__tag tag tag--\" href=\"/news/video_and_audio\"\\n                                  rev=\"video|source\" >Video</a>\\n                    \\n                    \\n                </div>\\n\\n                <a class=\"block-link__overlay-link\"\\n                   href=\"/news/10462520\"\\n                          rev=\"video|overlay\"                    tabindex=\"-1\"\\n                   aria-hidden=\"true\"\\n                   >\\n                    One-minute World News                </a>\\n\\n            </div>\\n\\n        \\n     </li>  <li class=\"video__item video__item video__item--11 video__item--latest\" data-category=\"latest\" data-index=\"11\" data-category-index=\"1\" data-video=\"{&quot;contenttype&quot;:&quot;video&quot;,&quot;num&quot;:&quot;10&quot;,&quot;type&quot;:&quot;MAP&quot;,&quot;title&quot;:&quot;Saint takes to sky in Italy after procession ban&quot;,&quot;url&quot;:&quot;\\\\/news\\\\/world-europe-55189340&quot;,&quot;summary&quot;:&quot;Firefighters take Saint Barbara\\'s statue in a helicopter so she can be seen on the annual feast day.&quot;,&quot;img&quot;:&quot;https:\\\\/\\\\/ichef.bbc.co.uk\\\\/wwhp\\\\/800\\\\/cpsprodpb\\\\/17501\\\\/production\\\\/_115798459_p090hgcn.jpg&quot;,&quot;imgalttext&quot;:&quot;Saint Barbara statue over town of Rieti&quot;,&quot;pid&quot;:&quot;p090h9y4&quot;,&quot;pidtype&quot;:&quot;Version&quot;,&quot;sourcename&quot;:&quot;Europe&quot;,&quot;sourceurl&quot;:&quot;\\\\/news\\\\/world\\\\/europe&quot;,&quot;created&quot;:&quot;2020-12-04T12:44:12+00:00&quot;,&quot;updated&quot;:&quot;2020-12-04T12:44:12+00:00&quot;,&quot;origincode&quot;:&quot;cpsprodpb&quot;,&quot;gelicon&quot;:&quot;video&quot;,&quot;allowadvertising&quot;:true,&quot;clippid&quot;:&quot;p090h9y1&quot;,&quot;duration&quot;:&quot;PT27S&quot;}\">     \\n        \\n            <div\\n               class=\"media media--video media--horizontal media--icon block-link\"\\n               data-bbc-container=\"video\"\\n               data-bbc-title=\"Saint takes to sky in Italy after procession ban\"\\n               data-bbc-source=\"Europe\"\\n               data-bbc-metadata=\\'{\"CHD\": \"card::12\" }\\'\\n               data-bbc-client-routed               >\\n                <div class=\"media__image\">\\n                    <div class=\"responsive-image\"><div class=\"delayed-image-load\" data-src=\"https://ichef.bbc.co.uk/wwhp/{width}/cpsprodpb/17501/production/_115798459_p090hgcn.jpg\" data-alt=\"Saint Barbara statue over town of Rieti\"><img src=\"data:image/gif;base64,R0lGODlhEAAJAIAAAP///wAAACH5BAEAAAAALAAAAAAQAAkAAAIKhI+py+0Po5yUFQA7\" alt=\"Saint Barbara statue over town of Rieti\" /></div></div>                </div>\\n\\n                                    <span class=\"media__icon icon icon--video\" aria-hidden=\"true\"></span>\\n                \\n                <div class=\"media__content\">\\n\\n                                            <h3 class=\"media__title\">\\n                            <a class=\"media__link\" href=\"/news/world-europe-55189340\"\\n                                      rev=\"video|headline\" >\\n                                                                    Saint takes to sky in Italy after procession...                                                            </a>\\n                        </h3>\\n                    \\n                    \\n                                            <a class=\"media__tag tag tag--\" href=\"/news/world/europe\"\\n                                  rev=\"video|source\" >Europe</a>\\n                    \\n                    \\n                </div>\\n\\n                <a class=\"block-link__overlay-link\"\\n                   href=\"/news/world-europe-55189340\"\\n                          rev=\"video|overlay\"                    tabindex=\"-1\"\\n                   aria-hidden=\"true\"\\n                   >\\n                    Saint takes to sky in Italy after procession ban                </a>\\n\\n            </div>\\n\\n        \\n     </li>  <li class=\"video__item video__item video__item--12 video__item--latest\" data-category=\"latest\" data-index=\"12\" data-category-index=\"2\" data-video=\"{&quot;contenttype&quot;:&quot;video&quot;,&quot;num&quot;:&quot;10&quot;,&quot;type&quot;:&quot;MAP&quot;,&quot;title&quot;:&quot;The moment the huge Arecibo radio telescope collapsed&quot;,&quot;url&quot;:&quot;\\\\/news\\\\/world-us-canada-55181448&quot;,&quot;summary&quot;:&quot;Video shows one of the world\\'s largest telescopes at Puerto Rico\\'s Arecibo Observatory crashing down.&quot;,&quot;img&quot;:&quot;https:\\\\/\\\\/ichef.bbc.co.uk\\\\/wwhp\\\\/800\\\\/cpsprodpb\\\\/2BD3\\\\/production\\\\/_115791211_p090fr05.jpg&quot;,&quot;imgalttext&quot;:&quot;Arecibo telescope collapse&quot;,&quot;pid&quot;:&quot;p090g61j&quot;,&quot;pidtype&quot;:&quot;Version&quot;,&quot;sourcename&quot;:&quot;US &amp;amp; Canada&quot;,&quot;sourceurl&quot;:&quot;\\\\/news\\\\/world\\\\/us_and_canada&quot;,&quot;created&quot;:&quot;2020-12-03T20:13:22+00:00&quot;,&quot;updated&quot;:&quot;2020-12-03T20:13:22+00:00&quot;,&quot;origincode&quot;:&quot;cpsprodpb&quot;,&quot;gelicon&quot;:&quot;video&quot;,&quot;allowadvertising&quot;:true,&quot;clippid&quot;:&quot;p090fp88&quot;,&quot;duration&quot;:&quot;PT1M11S&quot;}\">     \\n        \\n            <div\\n               class=\"media media--video media--horizontal media--icon block-link\"\\n               data-bbc-container=\"video\"\\n               data-bbc-title=\"The moment the huge Arecibo radio telescope collapsed\"\\n               data-bbc-source=\"US &amp; Canada\"\\n               data-bbc-metadata=\\'{\"CHD\": \"card::13\" }\\'\\n               data-bbc-client-routed               >\\n                <div class=\"media__image\">\\n                    <div class=\"responsive-image\"><div class=\"delayed-image-load\" data-src=\"https://ichef.bbc.co.uk/wwhp/{width}/cpsprodpb/2BD3/production/_115791211_p090fr05.jpg\" data-alt=\"Arecibo telescope collapse\"><img src=\"data:image/gif;base64,R0lGODlhEAAJAIAAAP///wAAACH5BAEAAAAALAAAAAAQAAkAAAIKhI+py+0Po5yUFQA7\" alt=\"Arecibo telescope collapse\" /></div></div>                </div>\\n\\n                                    <span class=\"media__icon icon icon--video\" aria-hidden=\"true\"></span>\\n                \\n                <div class=\"media__content\">\\n\\n                                            <h3 class=\"media__title\">\\n                            <a class=\"media__link\" href=\"/news/world-us-canada-55181448\"\\n                                      rev=\"video|headline\" >\\n                                                                    The moment the huge Arecibo radio telescope...                                                            </a>\\n                        </h3>\\n                    \\n                    \\n                                            <a class=\"media__tag tag tag--\" href=\"/news/world/us_and_canada\"\\n                                  rev=\"video|source\" >US &amp; Canada</a>\\n                    \\n                    \\n                </div>\\n\\n                <a class=\"block-link__overlay-link\"\\n                   href=\"/news/world-us-canada-55181448\"\\n                          rev=\"video|overlay\"                    tabindex=\"-1\"\\n                   aria-hidden=\"true\"\\n                   >\\n                    The moment the huge Arecibo radio telescope collapsed                </a>\\n\\n            </div>\\n\\n        \\n     </li>  </ul> </div> </div> </div> </div> </section>  <!-- Error: (ChannelsAfrica) Fewer than 2 channels found -->\\r\\n      <section class=\"module module--world-service\"> <div class=\"module__content\"> <div class=\"wsradio\"> <h2 class=\"wsradio__title\"> <a class=\"wsradio__title__link\" href=\"http://www.bbc.co.uk/worldserviceradio/\"   rev=\"world-service|header\" >BBC World Service </a> </h2> <div class=\"wsradio__content\"> <i class=\"wsradio__icon icon icon--audio\" aria-hidden=\"true\"></i> <a class=\"wsradio__programme\" href=\"http://www.bbc.co.uk/programmes/p002w5vq\"   rev=\"world-service|link\" > <span class=\"wsradio__programme__onair\">On Air:</span> <span class=\"wsradio__programme__title\">Sportsworld</span> </a> </div> </div> </div> </section>     <div class=\"advert advert--parallax\"><!-- BBCDOTCOM slot parallax --><div id=\"bbccom_parallax_1_2_3_4\" class=\"bbccom_slot\" aria-hidden=\"true\"><div class=\"bbccom_advert\"><script type=\"text/javascript\">/*<![CDATA[*/(function() {if (window.bbcdotcom && bbcdotcom.slotAsync) {bbcdotcom.slotAsync(\"parallax\", [1,2,3,4]);}})();/*]]>*/</script></div></div></div>  <section class=\"module module--collapse-images module--highlight module--more-bbc\">             <h2 class=\"module__title\">\\n                            <span class=\"module__title__link tag tag--feature\">More around the BBC</span>\\n                    </h2>\\n     <div class=\"module__content\"> <div class=\"container\"> <div class=\"more-bbc \"> <ul class=\"media-list media-list--fixed-height layout--featured\">         \\n        <li class=\"media-list__item media-list__item--1\">\\n            <div\\n               class=\"media media--padded media--primary block-link\"\\n               data-bbc-container=\"more-bbc\"\\n               data-bbc-title=\"Why did Quibi go so wrong?\"\\n               data-bbc-source=\"Technology\"\\n               data-bbc-metadata=\\'{\"CHD\": \"card::1\" }\\'\\n                              >\\n                <div class=\"media__image\">\\n                    <div class=\"responsive-image\"><div class=\"delayed-image-load\" data-src=\"https://ichef.bbc.co.uk/wwhp/{width}/cpsprodpb/15C52/production/_115807198_qui.jpg\" data-alt=\"Quibi app\"><img src=\"data:image/gif;base64,R0lGODlhEAAJAIAAAP///wAAACH5BAEAAAAALAAAAAAQAAkAAAIKhI+py+0Po5yUFQA7\" alt=\"Quibi app\" /></div></div>                </div>\\n\\n                \\n                <div class=\"media__content\">\\n\\n                                            <h3 class=\"media__title\">\\n                            <a class=\"media__link\" href=\"/news/technology-55154808\"\\n                                      rev=\"more-bbc|headline\" >\\n                                                                    Why did Quibi go so wrong?                                                            </a>\\n                        </h3>\\n                    \\n                                            <p class=\"media__summary\">\\n                                                            The BBC speaks to three Quibi content creators on the rapid rise and fall of the Netflix rival.                                                    </p>\\n                    \\n                                            <a class=\"media__tag tag tag--technology\" href=\"/news/technology\"\\n                                  rev=\"more-bbc|source\" >Technology</a>\\n                    \\n                    \\n                </div>\\n\\n                <a class=\"block-link__overlay-link\"\\n                   href=\"/news/technology-55154808\"\\n                          rev=\"more-bbc|overlay\"                    tabindex=\"-1\"\\n                   aria-hidden=\"true\"\\n                   >\\n                    Why did Quibi go so wrong?                </a>\\n\\n            </div>\\n\\n        </li>\\n        \\n        <li class=\"media-list__item media-list__item--2\">\\n            <div\\n               class=\"media media--padded block-link\"\\n               data-bbc-container=\"more-bbc\"\\n               data-bbc-title=\"Fauci apologises for saying UK \\'rushed\\' vaccine\"\\n               data-bbc-source=\"US &amp; Canada\"\\n               data-bbc-metadata=\\'{\"CHD\": \"card::2\" }\\'\\n                              >\\n                <div class=\"media__image\">\\n                    <div class=\"responsive-image\"><div class=\"delayed-image-load\" data-src=\"https://ichef.bbc.co.uk/wwhp/{width}/cpsprodpb/4A05/production/_115794981_gettyimages-1286586661.jpg\" data-alt=\"Dr Anthony Fauci\"><img src=\"data:image/gif;base64,R0lGODlhEAAJAIAAAP///wAAACH5BAEAAAAALAAAAAAQAAkAAAIKhI+py+0Po5yUFQA7\" alt=\"Dr Anthony Fauci\" /></div></div>                </div>\\n\\n                \\n                <div class=\"media__content\">\\n\\n                                            <h3 class=\"media__title\">\\n                            <a class=\"media__link\" href=\"/news/world-us-canada-55177948\"\\n                                      rev=\"more-bbc|headline\" >\\n                                                                    Fauci apologises for saying UK \\'rushed\\' vaccine                                                            </a>\\n                        </h3>\\n                    \\n                    \\n                                            <a class=\"media__tag tag tag--health\" href=\"/news/world/us_and_canada\"\\n                                  rev=\"more-bbc|source\" >US &amp; Canada</a>\\n                    \\n                    \\n                </div>\\n\\n                <a class=\"block-link__overlay-link\"\\n                   href=\"/news/world-us-canada-55177948\"\\n                          rev=\"more-bbc|overlay\"                    tabindex=\"-1\"\\n                   aria-hidden=\"true\"\\n                   >\\n                    Fauci apologises for saying UK \\'rushed\\' vaccine                </a>\\n\\n            </div>\\n\\n        </li>\\n        \\n        <li class=\"media-list__item media-list__item--3\">\\n            <div\\n               class=\"media media--padded block-link\"\\n               data-bbc-container=\"more-bbc\"\\n               data-bbc-title=\"I\\'m A Celebrity crowns its 2020 winner\"\\n               data-bbc-source=\"Entertainment &amp; Arts\"\\n               data-bbc-metadata=\\'{\"CHD\": \"card::3\" }\\'\\n                              >\\n                <div class=\"media__image\">\\n                    <div class=\"responsive-image\"><div class=\"delayed-image-load\" data-src=\"https://ichef.bbc.co.uk/wwhp/{width}/cpsprodpb/16A7/production/_115799750_celebfinalcomp.jpg\" data-alt=\"I\\'m A Celebrity contestants Jordan North, Giovanna Fletcher and Vernon Kay\"><img src=\"data:image/gif;base64,R0lGODlhEAAJAIAAAP///wAAACH5BAEAAAAALAAAAAAQAAkAAAIKhI+py+0Po5yUFQA7\" alt=\"I\\'m A Celebrity contestants Jordan North, Giovanna Fletcher and Vernon Kay\" /></div></div>                </div>\\n\\n                \\n                <div class=\"media__content\">\\n\\n                                            <h3 class=\"media__title\">\\n                            <a class=\"media__link\" href=\"/news/entertainment-arts-55190364\"\\n                                      rev=\"more-bbc|headline\" >\\n                                                                    I\\'m A Celebrity crowns its 2020 winner                                                            </a>\\n                        </h3>\\n                    \\n                    \\n                                            <a class=\"media__tag tag tag--entertainment\" href=\"/news/entertainment_and_arts\"\\n                                  rev=\"more-bbc|source\" >Entertainment &amp; Arts</a>\\n                    \\n                    \\n                </div>\\n\\n                <a class=\"block-link__overlay-link\"\\n                   href=\"/news/entertainment-arts-55190364\"\\n                          rev=\"more-bbc|overlay\"                    tabindex=\"-1\"\\n                   aria-hidden=\"true\"\\n                   >\\n                    I\\'m A Celebrity crowns its 2020 winner                </a>\\n\\n            </div>\\n\\n        </li>\\n        \\n        <li class=\"media-list__item media-list__item--4\">\\n            <div\\n               class=\"media media--padded block-link\"\\n               data-bbc-container=\"more-bbc\"\\n               data-bbc-title=\"Rocks from an asteroid set for delivery to Earth\"\\n               data-bbc-source=\"Science &amp; Environment\"\\n               data-bbc-metadata=\\'{\"CHD\": \"card::4\" }\\'\\n                              >\\n                <div class=\"media__image\">\\n                    <div class=\"responsive-image\"><div class=\"delayed-image-load\" data-src=\"https://ichef.bbc.co.uk/wwhp/{width}/cpsprodpb/E568/production/_115782785_41361769882_cbdad8608b_k.jpg\" data-alt=\"Hayabusa 2\"><img src=\"data:image/gif;base64,R0lGODlhEAAJAIAAAP///wAAACH5BAEAAAAALAAAAAAQAAkAAAIKhI+py+0Po5yUFQA7\" alt=\"Hayabusa 2\" /></div></div>                </div>\\n\\n                \\n                <div class=\"media__content\">\\n\\n                                            <h3 class=\"media__title\">\\n                            <a class=\"media__link\" href=\"/news/science-environment-55161582\"\\n                                      rev=\"more-bbc|headline\" >\\n                                                                    Rocks from an asteroid set for delivery to Earth                                                            </a>\\n                        </h3>\\n                    \\n                    \\n                                            <a class=\"media__tag tag tag--science\" href=\"/news/science_and_environment\"\\n                                  rev=\"more-bbc|source\" >Science &amp; Environment</a>\\n                    \\n                    \\n                </div>\\n\\n                <a class=\"block-link__overlay-link\"\\n                   href=\"/news/science-environment-55161582\"\\n                          rev=\"more-bbc|overlay\"                    tabindex=\"-1\"\\n                   aria-hidden=\"true\"\\n                   >\\n                    Rocks from an asteroid set for delivery to Earth                </a>\\n\\n            </div>\\n\\n        </li>\\n        \\n        <li class=\"media-list__item media-list__item--5\">\\n            <div\\n               class=\"media media--padded block-link\"\\n               data-bbc-container=\"more-bbc\"\\n               data-bbc-title=\"Unemployed in the US: \\'I don\\xe2\\x80\\x99t know what to do\\'\"\\n               data-bbc-source=\"Business\"\\n               data-bbc-metadata=\\'{\"CHD\": \"card::5\" }\\'\\n                              >\\n                <div class=\"media__image\">\\n                    <div class=\"responsive-image\"><div class=\"delayed-image-load\" data-src=\"https://ichef.bbc.co.uk/wwhp/{width}/cpsprodpb/2791/production/_115792101_gettyimages-1229696034.jpg\" data-alt=\"People stand in line at a food distribution event ahead of the Thanksgiving holiday\"><img src=\"data:image/gif;base64,R0lGODlhEAAJAIAAAP///wAAACH5BAEAAAAALAAAAAAQAAkAAAIKhI+py+0Po5yUFQA7\" alt=\"People stand in line at a food distribution event ahead of the Thanksgiving holiday\" /></div></div>                </div>\\n\\n                \\n                <div class=\"media__content\">\\n\\n                                            <h3 class=\"media__title\">\\n                            <a class=\"media__link\" href=\"/news/business-55177848\"\\n                                      rev=\"more-bbc|headline\" >\\n                                                                    Unemployed in the US: \\'I don\\xe2\\x80\\x99t know what to do\\'                                                            </a>\\n                        </h3>\\n                    \\n                    \\n                                            <a class=\"media__tag tag tag--business\" href=\"/news/business\"\\n                                  rev=\"more-bbc|source\" >Business</a>\\n                    \\n                    \\n                </div>\\n\\n                <a class=\"block-link__overlay-link\"\\n                   href=\"/news/business-55177848\"\\n                          rev=\"more-bbc|overlay\"                    tabindex=\"-1\"\\n                   aria-hidden=\"true\"\\n                   >\\n                    Unemployed in the US: \\'I don\\xe2\\x80\\x99t know what to do\\'                </a>\\n\\n            </div>\\n\\n        </li>\\n        \\n        <li class=\"media-list__item media-list__item--6\">\\n            <div\\n               class=\"media media--padded block-link\"\\n               data-bbc-container=\"more-bbc\"\\n               data-bbc-title=\"RAF cameras capture world\\'s biggest iceberg\"\\n               data-bbc-source=\"Science &amp; Environment\"\\n               data-bbc-metadata=\\'{\"CHD\": \"card::6\" }\\'\\n                              >\\n                <div class=\"media__image\">\\n                    <div class=\"responsive-image\"><div class=\"delayed-image-load\" data-src=\"https://ichef.bbc.co.uk/wwhp/{width}/cpsprodpb/5172/production/_115805802_4.jpg\" data-alt=\"A68a\"><img src=\"data:image/gif;base64,R0lGODlhEAAJAIAAAP///wAAACH5BAEAAAAALAAAAAAQAAkAAAIKhI+py+0Po5yUFQA7\" alt=\"A68a\" /></div></div>                </div>\\n\\n                \\n                <div class=\"media__content\">\\n\\n                                            <h3 class=\"media__title\">\\n                            <a class=\"media__link\" href=\"/news/science-environment-55196220\"\\n                                      rev=\"more-bbc|headline\" >\\n                                                                    RAF cameras capture world\\'s biggest iceberg                                                            </a>\\n                        </h3>\\n                    \\n                    \\n                                            <a class=\"media__tag tag tag--science\" href=\"/news/science_and_environment\"\\n                                  rev=\"more-bbc|source\" >Science &amp; Environment</a>\\n                    \\n                    \\n                </div>\\n\\n                <a class=\"block-link__overlay-link\"\\n                   href=\"/news/science-environment-55196220\"\\n                          rev=\"more-bbc|overlay\"                    tabindex=\"-1\"\\n                   aria-hidden=\"true\"\\n                   >\\n                    RAF cameras capture world\\'s biggest iceberg                </a>\\n\\n            </div>\\n\\n        </li>\\n        \\n        <li class=\"media-list__item media-list__item--7\">\\n            <div\\n               class=\"media media--padded block-link\"\\n               data-bbc-container=\"more-bbc\"\\n               data-bbc-title=\"Google staff rally behind fired AI researcher\"\\n               data-bbc-source=\"Technology\"\\n               data-bbc-metadata=\\'{\"CHD\": \"card::7\" }\\'\\n                              >\\n                <div class=\"media__image\">\\n                    <div class=\"responsive-image\"><div class=\"delayed-image-load\" data-src=\"https://ichef.bbc.co.uk/wwhp/{width}/cpsprodpb/18299/production/_115796989_gettyimages-1028811892.jpg\" data-alt=\"Google AI Research Scientist Timnit Gebru speaks onstage at a 2018 conference\"><img src=\"data:image/gif;base64,R0lGODlhEAAJAIAAAP///wAAACH5BAEAAAAALAAAAAAQAAkAAAIKhI+py+0Po5yUFQA7\" alt=\"Google AI Research Scientist Timnit Gebru speaks onstage at a 2018 conference\" /></div></div>                </div>\\n\\n                \\n                <div class=\"media__content\">\\n\\n                                            <h3 class=\"media__title\">\\n                            <a class=\"media__link\" href=\"/news/technology-55187611\"\\n                                      rev=\"more-bbc|headline\" >\\n                                                                    Google staff rally behind fired AI researcher                                                            </a>\\n                        </h3>\\n                    \\n                    \\n                                            <a class=\"media__tag tag tag--technology\" href=\"/news/technology\"\\n                                  rev=\"more-bbc|source\" >Technology</a>\\n                    \\n                    \\n                </div>\\n\\n                <a class=\"block-link__overlay-link\"\\n                   href=\"/news/technology-55187611\"\\n                          rev=\"more-bbc|overlay\"                    tabindex=\"-1\"\\n                   aria-hidden=\"true\"\\n                   >\\n                    Google staff rally behind fired AI researcher                </a>\\n\\n            </div>\\n\\n        </li>\\n     </ul> </div>   <div class=\"correspondent-headlines\"> <div class=\"top-list\"> <h2 class=\"top-list__heading\"><span class=\"top-list__heading__intro\">From Our </span>Correspondents</h2> <ul class=\"top-list__list\">  <li class=\"top-list-item top-list-item__1 top-list-item--avatar top-list-item--odd\"> <a class=\"top-list-item__link\" href=\"https://www.bbc.com/news/uk-scotland-55169978\"   rev=\"correspondents|link\"  data-bbc-container=\"correspondent-headlines\" data-bbc-title=\"The greening of black gold\" data-bbc-source=\"Douglas Fraser\" data-bbc-metadata=\\'{\"CHD\": \"card::1\" }\\' >  <div class=\"top-list-item__bullet\"> <div class=\"responsive-image\"><div class=\"delayed-image-load\" data-src=\"https://ichef.bbc.co.uk/wwhp/{width}/ibroadcast/images/live/p0/6j/0b/p06j0bb3.jpg\" data-alt=\"\"><img src=\"data:image/gif;base64,R0lGODlhEAAJAIAAAP///wAAACH5BAEAAAAALAAAAAAQAAkAAAIKhI+py+0Po5yUFQA7\" alt=\"\" /></div></div> </div>  <h3 class=\"top-list-item__headline\"> The greening of black gold  <span class=\"top-list-item__byline\">By Douglas Fraser</span>  </h3> </a> </li>  <li class=\"top-list-item top-list-item__2 top-list-item--avatar top-list-item--even\"> <a class=\"top-list-item__link\" href=\"https://www.bbc.com/news/business-55016573\"   rev=\"correspondents|link\"  data-bbc-container=\"correspondent-headlines\" data-bbc-title=\"\\'I turned my office into a cafe for cyclists\\'\" data-bbc-source=\"Dougal Shaw\" data-bbc-metadata=\\'{\"CHD\": \"card::2\" }\\' >  <div class=\"top-list-item__bullet\"> <div class=\"responsive-image\"><div class=\"delayed-image-load\" data-src=\"https://ichef.bbc.co.uk/wwhp/{width}/ibroadcast/images/live/p0/7z/bx/p07zbxkn.jpg\" data-alt=\"\"><img src=\"data:image/gif;base64,R0lGODlhEAAJAIAAAP///wAAACH5BAEAAAAALAAAAAAQAAkAAAIKhI+py+0Po5yUFQA7\" alt=\"\" /></div></div> </div>  <h3 class=\"top-list-item__headline\"> \\'I turned my office into a cafe for cyclists\\'  <span class=\"top-list-item__byline\">By Dougal Shaw</span>  </h3> </a> </li>  <li class=\"top-list-item top-list-item__3 top-list-item--avatar top-list-item--odd\"> <a class=\"top-list-item__link\" href=\"https://www.bbc.com/news/business-55161094\"   rev=\"correspondents|link\"  data-bbc-container=\"correspondent-headlines\" data-bbc-title=\"Will vaccines save the UK economy?\" data-bbc-source=\"Faisal Islam\" data-bbc-metadata=\\'{\"CHD\": \"card::3\" }\\' >  <div class=\"top-list-item__bullet\"> <div class=\"responsive-image\"><div class=\"delayed-image-load\" data-src=\"https://ichef.bbc.co.uk/wwhp/{width}/ibroadcast/images/live/p0/81/0t/p0810t8r.jpg\" data-alt=\"\"><img src=\"data:image/gif;base64,R0lGODlhEAAJAIAAAP///wAAACH5BAEAAAAALAAAAAAQAAkAAAIKhI+py+0Po5yUFQA7\" alt=\"\" /></div></div> </div>  <h3 class=\"top-list-item__headline\"> Will vaccines save the UK economy?  <span class=\"top-list-item__byline\">By Faisal Islam</span>  </h3> </a> </li>  <li class=\"top-list-item top-list-item__4 top-list-item--avatar top-list-item--even\"> <a class=\"top-list-item__link\" href=\"https://www.bbc.com/news/science-environment-55160768\"   rev=\"correspondents|link\"  data-bbc-container=\"correspondent-headlines\" data-bbc-title=\"China\\'s Moon mission returns colour pictures\" data-bbc-source=\"Jonathan Amos\" data-bbc-metadata=\\'{\"CHD\": \"card::4\" }\\' >  <div class=\"top-list-item__bullet\"> <div class=\"responsive-image\"><div class=\"delayed-image-load\" data-src=\"https://ichef.bbc.co.uk/wwhp/{width}/ibroadcast/images/live/p0/2x/w2/p02xw2hl.jpg\" data-alt=\"\"><img src=\"data:image/gif;base64,R0lGODlhEAAJAIAAAP///wAAACH5BAEAAAAALAAAAAAQAAkAAAIKhI+py+0Po5yUFQA7\" alt=\"\" /></div></div> </div>  <h3 class=\"top-list-item__headline\"> China\\'s Moon mission returns colour pictures  <span class=\"top-list-item__byline\">By Jonathan Amos</span>  </h3> </a> </li>  <li class=\"top-list-item top-list-item__5 top-list-item--avatar top-list-item--odd\"> <a class=\"top-list-item__link\" href=\"https://www.bbc.com/news/uk-politics-55153462\"   rev=\"correspondents|link\"  data-bbc-container=\"correspondent-headlines\" data-bbc-title=\"Why it feels like a government without a majority\" data-bbc-source=\"Laura Kuenssberg\" data-bbc-metadata=\\'{\"CHD\": \"card::5\" }\\' >  <div class=\"top-list-item__bullet\"> <div class=\"responsive-image\"><div class=\"delayed-image-load\" data-src=\"https://ichef.bbc.co.uk/wwhp/{width}/ibroadcast/images/live/p0/3y/k1/p03yk16f.jpg\" data-alt=\"\"><img src=\"data:image/gif;base64,R0lGODlhEAAJAIAAAP///wAAACH5BAEAAAAALAAAAAAQAAkAAAIKhI+py+0Po5yUFQA7\" alt=\"\" /></div></div> </div>  <h3 class=\"top-list-item__headline\"> Why it feels like a government without a majority  <span class=\"top-list-item__byline\">By Laura Kuenssberg</span>  </h3> </a> </li>  <li class=\"top-list-item top-list-item__6 top-list-item--avatar top-list-item--even\"> <a class=\"top-list-item__link\" href=\"https://www.bbc.com/news/science-environment-55150482\"   rev=\"correspondents|link\"  data-bbc-container=\"correspondent-headlines\" data-bbc-title=\"Small waters \\'can help address biodiversity crisis\\'\" data-bbc-source=\"Helen Briggs\" data-bbc-metadata=\\'{\"CHD\": \"card::6\" }\\' >  <div class=\"top-list-item__bullet\"> <div class=\"responsive-image\"><div class=\"delayed-image-load\" data-src=\"https://ichef.bbc.co.uk/wwhp/{width}/ibroadcast/images/live/p0/6j/0s/p06j0skd.jpg\" data-alt=\"\"><img src=\"data:image/gif;base64,R0lGODlhEAAJAIAAAP///wAAACH5BAEAAAAALAAAAAAQAAkAAAIKhI+py+0Po5yUFQA7\" alt=\"\" /></div></div> </div>  <h3 class=\"top-list-item__headline\"> Small waters \\'can help address biodiversity crisis\\'  <span class=\"top-list-item__byline\">By Helen Briggs</span>  </h3> </a> </li>  <li class=\"top-list-item top-list-item__7 top-list-item--avatar top-list-item--odd\"> <a class=\"top-list-item__link\" href=\"https://www.bbc.com/news/world-asia-india-55048925\"   rev=\"correspondents|link\"  data-bbc-container=\"correspondent-headlines\" data-bbc-title=\"How do you vaccinate a billion people?\" data-bbc-source=\"Soutik Biswas\" data-bbc-metadata=\\'{\"CHD\": \"card::7\" }\\' >  <div class=\"top-list-item__bullet\"> <div class=\"responsive-image\"><div class=\"delayed-image-load\" data-src=\"https://ichef.bbc.co.uk/wwhp/{width}/ibroadcast/images/live/p0/2y/wf/p02ywfpm.jpg\" data-alt=\"\"><img src=\"data:image/gif;base64,R0lGODlhEAAJAIAAAP///wAAACH5BAEAAAAALAAAAAAQAAkAAAIKhI+py+0Po5yUFQA7\" alt=\"\" /></div></div> </div>  <h3 class=\"top-list-item__headline\"> How do you vaccinate a billion people?  <span class=\"top-list-item__byline\">By Soutik Biswas</span>  </h3> </a> </li>  <li class=\"top-list-item top-list-item__8 top-list-item--avatar top-list-item--even\"> <a class=\"top-list-item__link\" href=\"https://www.bbc.com/news/world-us-canada-54984196\"   rev=\"correspondents|link\"  data-bbc-container=\"correspondent-headlines\" data-bbc-title=\"Refuting Trump cost cyber-security official his job\" data-bbc-source=\"Gordon Corera\" data-bbc-metadata=\\'{\"CHD\": \"card::8\" }\\' >  <div class=\"top-list-item__bullet\"> <div class=\"responsive-image\"><div class=\"delayed-image-load\" data-src=\"https://ichef.bbc.co.uk/wwhp/{width}/ibroadcast/images/live/p0/8y/qb/p08yqbdx.jpg\" data-alt=\"\"><img src=\"data:image/gif;base64,R0lGODlhEAAJAIAAAP///wAAACH5BAEAAAAALAAAAAAQAAkAAAIKhI+py+0Po5yUFQA7\" alt=\"\" /></div></div> </div>  <h3 class=\"top-list-item__headline\"> Refuting Trump cost cyber-security official his job  <span class=\"top-list-item__byline\">By Gordon Corera</span>  </h3> </a> </li>  </ul> </div> </div>  </div> </div> </section>      <section class=\"module module--collapse-images module--special-features module--secondary-special-features\"> <div class=\"module__content\"> <ul class=\"features\">   <li class=\"feature feature--1\"> <div class=\"feature__wrapper\"> <h2 class=\"feature__title\"> <a class=\"feature__link\" href=\"https://www.bbc.com/future/bespoke/made-on-earth/\"   rev=\"secondary-special-features|header\" > Made on Earth </a> </h2> <div class=\"feature__content\">     \\n        \\n            <div\\n               class=\"media media--overlay media--primary block-link\"\\n               data-bbc-container=\"secondary-special-features\"\\n               data-bbc-title=\"The return of luxury handbags\"\\n               data-bbc-source=\"Future\"\\n               data-bbc-metadata=\\'{\"CHD\": \"card::1\" }\\'\\n                              >\\n                <div class=\"media__image\">\\n                    <div class=\"responsive-image\"><div class=\"delayed-image-load\" data-src=\"https://www.bbc.com/future/bespoke/made-on-earth/static/media/handbags_open_graph.f9c5e7ff.jpg\" data-alt=\"pink handbag\"><img src=\"data:image/gif;base64,R0lGODlhEAAJAIAAAP///wAAACH5BAEAAAAALAAAAAAQAAkAAAIKhI+py+0Po5yUFQA7\" alt=\"pink handbag\" /></div></div>                </div>\\n\\n                \\n                <div class=\"media__content\">\\n\\n                                            <h3 class=\"media__title\">\\n                            <a class=\"media__link\" href=\"https://www.bbc.com/future/bespoke/made-on-earth/the-return-of-luxury-handbags.html\"\\n                                      rev=\"secondary-special-features|headline\" >\\n                                                                    The return of luxury handbags                                                            </a>\\n                        </h3>\\n                    \\n                    \\n                                            <a class=\"media__tag tag tag--future\" href=\"http://www.bbc.com/future\"\\n                                  rev=\"secondary-special-features|source\" >Future</a>\\n                    \\n                    \\n                </div>\\n\\n                <a class=\"block-link__overlay-link\"\\n                   href=\"https://www.bbc.com/future/bespoke/made-on-earth/the-return-of-luxury-handbags.html\"\\n                          rev=\"secondary-special-features|overlay\"                    tabindex=\"-1\"\\n                   aria-hidden=\"true\"\\n                   >\\n                    The return of luxury handbags                </a>\\n\\n            </div>\\n\\n        \\n     </div>  </div> </li>  <li class=\"feature-ad\">  <div class=\"advert advert--mpu_bottom\"><!-- BBCDOTCOM slot mpu_bottom --><div id=\"bbccom_mpu_bottom_1_2_3_4\" class=\"bbccom_slot\" aria-hidden=\"true\"><div class=\"bbccom_advert\"><script type=\"text/javascript\">/*<![CDATA[*/(function() {if (window.bbcdotcom && bbcdotcom.slotAsync) {bbcdotcom.slotAsync(\"mpu_bottom\", [1,2,3,4]);}})();/*]]>*/</script></div></div></div>  </li>   <li class=\"feature feature--2\"> <div class=\"feature__wrapper\"> <h2 class=\"feature__title\"> <a class=\"feature__link\" href=\"https://www.bbc.com/news/business-11428889\"   rev=\"secondary-special-features|header\" > Technology of Business </a> </h2> <div class=\"feature__content\">     \\n        \\n            <div\\n               class=\"media media--overlay media--primary block-link\"\\n               data-bbc-container=\"secondary-special-features\"\\n               data-bbc-title=\"Why shops are going over to the \\'dark\\' side\"\\n               data-bbc-source=\"Business\"\\n               data-bbc-metadata=\\'{\"CHD\": \"card::2\" }\\'\\n                              >\\n                <div class=\"media__image\">\\n                    <div class=\"responsive-image\"><div class=\"delayed-image-load\" data-src=\"https://ichef.bbc.co.uk/wwhp/{width}/cpsprodpb/107A3/production/_115519476_lushstore_rachaelcoxartist.com.jpg\" data-alt=\"Courier at a Lush store\"><img src=\"data:image/gif;base64,R0lGODlhEAAJAIAAAP///wAAACH5BAEAAAAALAAAAAAQAAkAAAIKhI+py+0Po5yUFQA7\" alt=\"Courier at a Lush store\" /></div></div>                </div>\\n\\n                \\n                <div class=\"media__content\">\\n\\n                                            <h3 class=\"media__title\">\\n                            <a class=\"media__link\" href=\"https://www.bbc.com/news/business-54935326\"\\n                                      rev=\"secondary-special-features|headline\" >\\n                                                                    Why shops are going over to the \\'dark\\' side                                                            </a>\\n                        </h3>\\n                    \\n                    \\n                                            <a class=\"media__tag tag tag--business\" href=\"/news/business\"\\n                                  rev=\"secondary-special-features|source\" >Business</a>\\n                    \\n                    \\n                </div>\\n\\n                <a class=\"block-link__overlay-link\"\\n                   href=\"https://www.bbc.com/news/business-54935326\"\\n                          rev=\"secondary-special-features|overlay\"                    tabindex=\"-1\"\\n                   aria-hidden=\"true\"\\n                   >\\n                    Why shops are going over to the \\'dark\\' side                </a>\\n\\n            </div>\\n\\n        \\n     </div>  </div> </li>  </ul> </div> </section>  <section class=\"module module--world-in-pictures module--highlight\"> <div class=\"module__title__container\"> <div class=\"module__ad\">  </div>             <h2 class=\"module__title\">\\n                            <a class=\"module__title__link tag tag--feature\" href=\"/news/in_pictures\"\\n                      rev=\"world-in-pictures|header\"                     >World in pictures</a>\\n                    </h2>\\n     </div> <div class=\"module__content\"> <ul class=\"media-list media-list--fixed-height\">         \\n        <li class=\"media-list__item media-list__item--1\">\\n            <div\\n               class=\"media media--padded media--primary media--icon block-link\"\\n               data-bbc-container=\"world-in-pictures\"\\n               data-bbc-title=\"In pictures: Snowy scenes in many parts of UK\"\\n               data-bbc-source=\"UK\"\\n               data-bbc-metadata=\\'{\"CHD\": \"card::1\" }\\'\\n                              >\\n                <div class=\"media__image\">\\n                    <div class=\"responsive-image\"><div class=\"delayed-image-load\" data-src=\"https://ichef.bbc.co.uk/wwhp/{width}/cpsprodpb/161E7/production/_115799509_greatleighsaitch1.jpg\" data-alt=\"Snow in Great Leighs\"><img src=\"https://ichef.bbc.co.uk/wwhp/144/cpsprodpb/161E7/production/_115799509_greatleighsaitch1.jpg\" alt=\"Snow in Great Leighs\" /></div></div>                </div>\\n\\n                                    <span class=\"media__icon icon icon--gallery\" aria-hidden=\"true\"></span>\\n                \\n                <div class=\"media__content\">\\n\\n                                            <h3 class=\"media__title\">\\n                            <a class=\"media__link\" href=\"/news/uk-55188928\"\\n                                      rev=\"world-in-pictures1|headline\" >\\n                                                                    In pictures: Snowy scenes in many parts of UK                                                            </a>\\n                        </h3>\\n                    \\n                    \\n                                            <a class=\"media__tag tag tag--in-pictures\" href=\"/news/uk\"\\n                                  rev=\"world-in-pictures1|source\" >UK</a>\\n                    \\n                    \\n                </div>\\n\\n                <a class=\"block-link__overlay-link\"\\n                   href=\"/news/uk-55188928\"\\n                          rev=\"world-in-pictures1|overlay\"                    tabindex=\"-1\"\\n                   aria-hidden=\"true\"\\n                   >\\n                    In pictures: Snowy scenes in many parts of UK                </a>\\n\\n            </div>\\n\\n        </li>\\n        \\n        <li class=\"media-list__item media-list__item--2\">\\n            <div\\n               class=\"media media--padded media--icon block-link\"\\n               data-bbc-container=\"world-in-pictures\"\\n               data-bbc-title=\"Fans return to football matches\"\\n               data-bbc-source=\"In Pictures\"\\n               data-bbc-metadata=\\'{\"CHD\": \"card::2\" }\\'\\n                              >\\n                <div class=\"media__image\">\\n                    <div class=\"responsive-image\"><div class=\"delayed-image-load\" data-src=\"https://ichef.bbc.co.uk/wwhp/{width}/cpsprodpb/8E56/production/_115783463_pa-56907089.jpg\" data-alt=\"Luton Town fans pose with a banner prior to the Sky Bet Championship match at Kenilworth Road, Luton\"><img src=\"https://ichef.bbc.co.uk/wwhp/144/cpsprodpb/8E56/production/_115783463_pa-56907089.jpg\" alt=\"Luton Town fans pose with a banner prior to the Sky Bet Championship match at Kenilworth Road, Luton\" /></div></div>                </div>\\n\\n                                    <span class=\"media__icon icon icon--gallery\" aria-hidden=\"true\"></span>\\n                \\n                <div class=\"media__content\">\\n\\n                                            <h3 class=\"media__title\">\\n                            <a class=\"media__link\" href=\"/news/in-pictures-55172266\"\\n                                      rev=\"world-in-pictures2|headline\" >\\n                                                                    Fans return to football matches                                                            </a>\\n                        </h3>\\n                    \\n                    \\n                                            <a class=\"media__tag tag tag--in-pictures\" href=\"/news/in_pictures\"\\n                                  rev=\"world-in-pictures2|source\" >In Pictures</a>\\n                    \\n                    \\n                </div>\\n\\n                <a class=\"block-link__overlay-link\"\\n                   href=\"/news/in-pictures-55172266\"\\n                          rev=\"world-in-pictures2|overlay\"                    tabindex=\"-1\"\\n                   aria-hidden=\"true\"\\n                   >\\n                    Fans return to football matches                </a>\\n\\n            </div>\\n\\n        </li>\\n        \\n        <li class=\"media-list__item media-list__item--3\">\\n            <div\\n               class=\"media media--padded media--icon block-link\"\\n               data-bbc-container=\"world-in-pictures\"\\n               data-bbc-title=\"\\'Biggest show yet\\' for South African artist in London\"\\n               data-bbc-source=\"Africa\"\\n               data-bbc-metadata=\\'{\"CHD\": \"card::3\" }\\'\\n                              >\\n                <div class=\"media__image\">\\n                    <div class=\"responsive-image\"><div class=\"delayed-image-load\" data-src=\"https://ichef.bbc.co.uk/wwhp/{width}/cpsprodpb/16EBD/production/_115658839_789f3fbd-dd14-4978-bf5c-bd10c03789a5.jpg\" data-alt=\"Portrait\"><img src=\"https://ichef.bbc.co.uk/wwhp/144/cpsprodpb/16EBD/production/_115658839_789f3fbd-dd14-4978-bf5c-bd10c03789a5.jpg\" alt=\"Portrait\" /></div></div>                </div>\\n\\n                                    <span class=\"media__icon icon icon--gallery\" aria-hidden=\"true\"></span>\\n                \\n                <div class=\"media__content\">\\n\\n                                            <h3 class=\"media__title\">\\n                            <a class=\"media__link\" href=\"/news/world-africa-55089620\"\\n                                      rev=\"world-in-pictures3|headline\" >\\n                                                                    \\'Biggest show yet\\' for South African artist in London                                                            </a>\\n                        </h3>\\n                    \\n                    \\n                                            <a class=\"media__tag tag tag--in-pictures\" href=\"/news/world/africa\"\\n                                  rev=\"world-in-pictures3|source\" >Africa</a>\\n                    \\n                    \\n                </div>\\n\\n                <a class=\"block-link__overlay-link\"\\n                   href=\"/news/world-africa-55089620\"\\n                          rev=\"world-in-pictures3|overlay\"                    tabindex=\"-1\"\\n                   aria-hidden=\"true\"\\n                   >\\n                    \\'Biggest show yet\\' for South African artist in London                </a>\\n\\n            </div>\\n\\n        </li>\\n        \\n        <li class=\"media-list__item media-list__item--4\">\\n            <div\\n               class=\"media media--padded media--icon block-link\"\\n               data-bbc-container=\"world-in-pictures\"\\n               data-bbc-title=\"Debenhams pictured through the years\"\\n               data-bbc-source=\"In Pictures\"\\n               data-bbc-metadata=\\'{\"CHD\": \"card::4\" }\\'\\n                              >\\n                <div class=\"media__image\">\\n                    <div class=\"responsive-image\"><div class=\"delayed-image-load\" data-src=\"https://ichef.bbc.co.uk/wwhp/{width}/cpsprodpb/1352A/production/_115764197_shutterstock_editorial_1627110a.jpg\" data-alt=\"A lady has her blown by a man with a hairdryer as she queues outside a Debenhams store\"><img src=\"https://ichef.bbc.co.uk/wwhp/144/cpsprodpb/1352A/production/_115764197_shutterstock_editorial_1627110a.jpg\" alt=\"A lady has her blown by a man with a hairdryer as she queues outside a Debenhams store\" /></div></div>                </div>\\n\\n                                    <span class=\"media__icon icon icon--gallery\" aria-hidden=\"true\"></span>\\n                \\n                <div class=\"media__content\">\\n\\n                                            <h3 class=\"media__title\">\\n                            <a class=\"media__link\" href=\"/news/in-pictures-55147787\"\\n                                      rev=\"world-in-pictures4|headline\" >\\n                                                                    Debenhams pictured through the years                                                            </a>\\n                        </h3>\\n                    \\n                    \\n                                            <a class=\"media__tag tag tag--in-pictures\" href=\"/news/in_pictures\"\\n                                  rev=\"world-in-pictures4|source\" >In Pictures</a>\\n                    \\n                    \\n                </div>\\n\\n                <a class=\"block-link__overlay-link\"\\n                   href=\"/news/in-pictures-55147787\"\\n                          rev=\"world-in-pictures4|overlay\"                    tabindex=\"-1\"\\n                   aria-hidden=\"true\"\\n                   >\\n                    Debenhams pictured through the years                </a>\\n\\n            </div>\\n\\n        </li>\\n        \\n        <li class=\"media-list__item media-list__item--5\">\\n            <div\\n               class=\"media media--padded media--icon block-link\"\\n               data-bbc-container=\"world-in-pictures\"\\n               data-bbc-title=\"Hurricanes leave Hondurans homeless and destitute\"\\n               data-bbc-source=\"Latin America &amp; Caribbean\"\\n               data-bbc-metadata=\\'{\"CHD\": \"card::5\" }\\'\\n                              >\\n                <div class=\"media__image\">\\n                    <div class=\"responsive-image\"><div class=\"delayed-image-load\" data-src=\"https://ichef.bbc.co.uk/wwhp/{width}/cpsprodpb/174BF/production/_115632459_06_epg5470.jpg\" data-alt=\"Digno Osorto faces extreme poverty\"><img src=\"https://ichef.bbc.co.uk/wwhp/144/cpsprodpb/174BF/production/_115632459_06_epg5470.jpg\" alt=\"Digno Osorto faces extreme poverty\" /></div></div>                </div>\\n\\n                                    <span class=\"media__icon icon icon--gallery\" aria-hidden=\"true\"></span>\\n                \\n                <div class=\"media__content\">\\n\\n                                            <h3 class=\"media__title\">\\n                            <a class=\"media__link\" href=\"/news/world-latin-america-55064560\"\\n                                      rev=\"world-in-pictures5|headline\" >\\n                                                                    Hurricanes leave Hondurans homeless and destitute                                                            </a>\\n                        </h3>\\n                    \\n                    \\n                                            <a class=\"media__tag tag tag--in-pictures\" href=\"/news/world/latin_america\"\\n                                  rev=\"world-in-pictures5|source\" >Latin America &amp; Caribbean</a>\\n                    \\n                    \\n                </div>\\n\\n                <a class=\"block-link__overlay-link\"\\n                   href=\"/news/world-latin-america-55064560\"\\n                          rev=\"world-in-pictures5|overlay\"                    tabindex=\"-1\"\\n                   aria-hidden=\"true\"\\n                   >\\n                    Hurricanes leave Hondurans homeless and destitute                </a>\\n\\n            </div>\\n\\n        </li>\\n     </ul> </div> </section>       <section class=\"module module--highlight module--languages\">             <h2 class=\"module__title\">\\n                            <a class=\"module__title__link\" href=\"/worldserviceradio\"\\n                      rev=\"languages|header\"                     >BBC in other languages</a>\\n                    </h2>\\n     <div class=\"module__content\"> <div class=\"ws\">  <div class=\"ws-headlines\"> <ul class=\"ws-headlines__list\">  <li class=\"ws-headline ws-headline--hausa\"> <h3 class=\"ws-headline__language\"> <a class=\"ws-headline__language-link\" title=\"Hausa\" href=\"/hausa/\"   rev=\"languages|link\" > Hausa </a> </h3> <p class=\"ws-headline__title\" dir=\"ltr\"> <a class=\"ws-headline__title-link\" title=\"Gwarzuwar Hikayata ta biyu ta 2020 ta samu tallafin karatu\" href=\"/hausa/labarai-55198606\"   rev=\"languages|headline\" > Gwarzuwar Hikayata ta biyu ta 2020 ta samu tallafin karatu </a> </p> </li>  <li class=\"ws-headline ws-headline--arabic\"> <h3 class=\"ws-headline__language\"> <a class=\"ws-headline__language-link\" title=\"Arabic\" href=\"/arabic/\"   rev=\"languages|link\" > Arabic </a> </h3> <p class=\"ws-headline__title\" dir=\"rtl\"> <a class=\"ws-headline__title-link\" title=\"\\xd8\\xb1\\xd9\\x88\\xd8\\xb3\\xd9\\x8a\\xd8\\xa7 \\xd8\\xaa\\xd8\\xa8\\xd8\\xaf\\xd8\\xa3 \\xd8\\xa8\\xd8\\xa7\\xd8\\xb3\\xd8\\xaa\\xd8\\xae\\xd8\\xaf\\xd8\\xa7\\xd9\\x85 \\xd9\\x84\\xd9\\x82\\xd8\\xa7\\xd8\\xad \\xd9\\x81\\xd9\\x8a\\xd8\\xb1\\xd9\\x88\\xd8\\xb3 \\xd9\\x83\\xd9\\x88\\xd8\\xb1\\xd9\\x88\\xd9\\x86\\xd8\\xa7 \\xd9\\x81\\xd9\\x8a \\xd9\\x85\\xd9\\x88\\xd8\\xb3\\xd9\\x83\\xd9\\x88\" href=\"/arabic/science-and-tech-55198875\"   rev=\"languages|headline\" > \\xd8\\xb1\\xd9\\x88\\xd8\\xb3\\xd9\\x8a\\xd8\\xa7 \\xd8\\xaa\\xd8\\xa8\\xd8\\xaf\\xd8\\xa3 \\xd8\\xa8\\xd8\\xa7\\xd8\\xb3\\xd8\\xaa\\xd8\\xae\\xd8\\xaf\\xd8\\xa7\\xd9\\x85 \\xd9\\x84\\xd9\\x82\\xd8\\xa7\\xd8\\xad \\xd9\\x81\\xd9\\x8a\\xd8\\xb1\\xd9\\x88\\xd8\\xb3 \\xd9\\x83\\xd9\\x88\\xd8\\xb1\\xd9\\x88\\xd9\\x86\\xd8\\xa7 \\xd9\\x81\\xd9\\x8a \\xd9\\x85\\xd9\\x88\\xd8\\xb3\\xd9\\x83\\xd9\\x88 </a> </p> </li>  <li class=\"ws-headline ws-headline--swahili\"> <h3 class=\"ws-headline__language\"> <a class=\"ws-headline__language-link\" title=\"Swahili\" href=\"/swahili/\"   rev=\"languages|link\" > Swahili </a> </h3> <p class=\"ws-headline__title\" dir=\"ltr\"> <a class=\"ws-headline__title-link\" title=\"Rais Magufuli akamilisha uteuzi wa Baraza la Mawaziri\" href=\"/swahili/habari-55201622\"   rev=\"languages|headline\" > Rais Magufuli akamilisha uteuzi wa Baraza la Mawaziri </a> </p> </li>  <li class=\"ws-headline ws-headline--somali\"> <h3 class=\"ws-headline__language\"> <a class=\"ws-headline__language-link\" title=\"Somali\" href=\"/somali/\"   rev=\"languages|link\" > Somali </a> </h3> <p class=\"ws-headline__title\" dir=\"ltr\"> <a class=\"ws-headline__title-link\" title=\"Trump oo amray in Soomaaliya laga soo saaro ciidamada Mareykanka ka hor xil wareejintiisa\" href=\"/somali/war-55197775\"   rev=\"languages|headline\" > Trump oo amray in Soomaaliya laga soo saaro ciidamada Mareykanka ka hor xil wareejintiisa </a> </p> </li>  </ul> </div>   <div class=\"ws-languages\"> <h2 class=\"ws-languages__title\"> <a href=\"/ws/languages\" class=\"ws-languages__link\"   rev=\"languages|header\" > More Languages </a> </h2> <ul class=\"ws-languages__list\">  <li class=\"ws-language ws-language--ar\"> <a class=\"ws-language__link\" href=\"/arabic/\" title=\"Arabic service\"   rev=\"languages|link\" > <span class=\"ws-language__english\">Arabic</span> <span class=\"ws-language__native\"> \\xd8\\xb9\\xd8\\xb1\\xd8\\xa8\\xd9\\x8a </span> </a> </li>  <li class=\"ws-language ws-language--as\"> <a class=\"ws-language__link\" href=\"/azeri/\" title=\"Azeri service\"   rev=\"languages|link\" > <span class=\"ws-language__english\">Azeri</span> <span class=\"ws-language__native\"> AZ\\xc6\\x8fRBAYCAN </span> </a> </li>  <li class=\"ws-language ws-language--bn\"> <a class=\"ws-language__link\" href=\"/bengali/\" title=\"Bangla service\"   rev=\"languages|link\" > <span class=\"ws-language__english\">Bangla</span> <span class=\"ws-language__native\"> \\xe0\\xa6\\xac\\xe0\\xa6\\xbe\\xe0\\xa6\\x82\\xe0\\xa6\\xb2\\xe0\\xa6\\xbe </span> </a> </li>  <li class=\"ws-language ws-language--my\"> <a class=\"ws-language__link\" href=\"/burmese/\" title=\"Burmese service\"   rev=\"languages|link\" > <span class=\"ws-language__english\">Burmese</span> <span class=\"ws-language__native\"> \\xe1\\x80\\x99\\xe1\\x80\\xbc\\xe1\\x80\\x94\\xe1\\x80\\xba\\xe1\\x80\\x99\\xe1\\x80\\xac </span> </a> </li>  <li class=\"ws-language ws-language--zh\"> <a class=\"ws-language__link\" href=\"/zhongwen/simp/\" title=\"Chinese service\"   rev=\"languages|link\" > <span class=\"ws-language__english\">Chinese</span> <span class=\"ws-language__native\"> \\xe4\\xb8\\xad\\xe6\\x96\\x87\\xe7\\xbd\\x91 </span> </a> </li>  <li class=\"ws-language ws-language--fr\"> <a class=\"ws-language__link\" href=\"/afrique/\" title=\"French (for Africa) service\"   rev=\"languages|link\" > <span class=\"ws-language__english\">French</span> <span class=\"ws-language__native\"> AFRIQUE </span> </a> </li>  <li class=\"ws-language ws-language--ha\"> <a class=\"ws-language__link\" href=\"/hausa/\" title=\"Hausa service\"   rev=\"languages|link\" > <span class=\"ws-language__english\">Hausa</span> <span class=\"ws-language__native\"> HAUSA </span> </a> </li>  <li class=\"ws-language ws-language--hi\"> <a class=\"ws-language__link\" href=\"/hindi/\" title=\"Hindi service\"   rev=\"languages|link\" > <span class=\"ws-language__english\">Hindi</span> <span class=\"ws-language__native\"> \\xe0\\xa4\\xb9\\xe0\\xa4\\xbf\\xe0\\xa4\\xa8\\xe0\\xa5\\x8d\\xe0\\xa4\\xa6\\xe0\\xa5\\x80 </span> </a> </li>  <li class=\"ws-language ws-language--id\"> <a class=\"ws-language__link\" href=\"/indonesia/\" title=\"Indonesian service\"   rev=\"languages|link\" > <span class=\"ws-language__english\">Indonesian</span> <span class=\"ws-language__native\"> INDONESIA </span> </a> </li>  <li class=\"ws-language ws-language--jp\"> <a class=\"ws-language__link\" href=\"/japanese/\" title=\"Japanese service\"   rev=\"languages|link\" > <span class=\"ws-language__english\">Japanese</span> <span class=\"ws-language__native\"> \\xe6\\x97\\xa5\\xe6\\x9c\\xac\\xe8\\xaa\\x9e </span> </a> </li>  <li class=\"ws-language ws-language--rw\"> <a class=\"ws-language__link\" href=\"/gahuza/\" title=\"Kirundi service\"   rev=\"languages|link\" > <span class=\"ws-language__english\">Kinyarwanda</span> <span class=\"ws-language__native\"> GAHUZA </span> </a> </li>  <li class=\"ws-language ws-language--rn\"> <a class=\"ws-language__link\" href=\"/gahuza/\" title=\"Kirundi service\"   rev=\"languages|link\" > <span class=\"ws-language__english\">Kirundi</span> <span class=\"ws-language__native\"> KIRUNDI </span> </a> </li>  <li class=\"ws-language ws-language--ky\"> <a class=\"ws-language__link\" href=\"/kyrgyz/\" title=\"Kyrgyz service\"   rev=\"languages|link\" > <span class=\"ws-language__english\">Kyrgyz</span> <span class=\"ws-language__native\"> \\xd0\\x9a\\xd1\\x8b\\xd1\\x80\\xd0\\xb3\\xd1\\x8b\\xd0\\xb7 </span> </a> </li>  <li class=\"ws-language ws-language--mr\"> <a class=\"ws-language__link\" href=\"/marathi/\" title=\"Marathi service\"   rev=\"languages|link\" > <span class=\"ws-language__english\">Marathi</span> <span class=\"ws-language__native\"> \\xe0\\xa4\\xae\\xe0\\xa4\\xb0\\xe0\\xa4\\xbe\\xe0\\xa4\\xa0\\xe0\\xa5\\x80 </span> </a> </li>  <li class=\"ws-language ws-language--ne\"> <a class=\"ws-language__link\" href=\"/nepali/\" title=\"Nepali service\"   rev=\"languages|link\" > <span class=\"ws-language__english\">Nepali</span> <span class=\"ws-language__native\"> \\xe0\\xa4\\xa8\\xe0\\xa5\\x87\\xe0\\xa4\\xaa\\xe0\\xa4\\xbe\\xe0\\xa4\\xb2\\xe0\\xa5\\x80 </span> </a> </li>  <li class=\"ws-language ws-language--ps\"> <a class=\"ws-language__link\" href=\"/pashto/\" title=\"Pashto service\"   rev=\"languages|link\" > <span class=\"ws-language__english\">Pashto</span> <span class=\"ws-language__native\"> \\xd9\\xbe\\xda\\x9a\\xd8\\xaa\\xd9\\x88 </span> </a> </li>  <li class=\"ws-language ws-language--fa\"> <a class=\"ws-language__link\" href=\"/persian/\" title=\"Persian service\"   rev=\"languages|link\" > <span class=\"ws-language__english\">Persian</span> <span class=\"ws-language__native\"> \\xd9\\x81\\xd8\\xa7\\xd8\\xb1\\xd8\\xb3\\xdb\\x8c </span> </a> </li>  <li class=\"ws-language ws-language--pt-BR\"> <a class=\"ws-language__link\" href=\"/portuguese/\" title=\"Portuguese (for Brazil) service\"   rev=\"languages|link\" > <span class=\"ws-language__english\">Portuguese</span> <span class=\"ws-language__native\"> BRASIL </span> </a> </li>  <li class=\"ws-language ws-language--ru\"> <a class=\"ws-language__link\" href=\"/russian/\" title=\"Russian service\"   rev=\"languages|link\" > <span class=\"ws-language__english\">Russian</span> <span class=\"ws-language__native\"> \\xd0\\x9d\\xd0\\x90 \\xd0\\xa0\\xd0\\xa3\\xd0\\xa1\\xd0\\xa1\\xd0\\x9a\\xd0\\x9e\\xd0\\x9c </span> </a> </li>  <li class=\"ws-language ws-language--si\"> <a class=\"ws-language__link\" href=\"/sinhala/\" title=\"Sinhala service\"   rev=\"languages|link\" > <span class=\"ws-language__english\">Sinhala</span> <span class=\"ws-language__native\"> \\xe0\\xb7\\x83\\xe0\\xb7\\x92\\xe0\\xb6\\x82\\xe0\\xb7\\x84\\xe0\\xb6\\xbd </span> </a> </li>  <li class=\"ws-language ws-language--so\"> <a class=\"ws-language__link\" href=\"/somali/\" title=\"Somali service\"   rev=\"languages|link\" > <span class=\"ws-language__english\">Somali</span> <span class=\"ws-language__native\"> SOMALI </span> </a> </li>  <li class=\"ws-language ws-language--es\"> <a class=\"ws-language__link\" href=\"/mundo/\" title=\"Spanish service\"   rev=\"languages|link\" > <span class=\"ws-language__english\">Spanish</span> <span class=\"ws-language__native\"> MUNDO </span> </a> </li>  <li class=\"ws-language ws-language--sw\"> <a class=\"ws-language__link\" href=\"/swahili/\" title=\"Swahili service\"   rev=\"languages|link\" > <span class=\"ws-language__english\">Swahili</span> <span class=\"ws-language__native\"> SWAHILI </span> </a> </li>  <li class=\"ws-language ws-language--ta\"> <a class=\"ws-language__link\" href=\"/tamil/\" title=\"Tamil service\"   rev=\"languages|link\" > <span class=\"ws-language__english\">Tamil</span> <span class=\"ws-language__native\"> \\xe0\\xae\\xa4\\xe0\\xae\\xae\\xe0\\xae\\xbf\\xe0\\xae\\xb4\\xe0\\xaf\\x8d </span> </a> </li>  <li class=\"ws-language ws-language--tr\"> <a class=\"ws-language__link\" href=\"/turkce/\" title=\"Turkish service\"   rev=\"languages|link\" > <span class=\"ws-language__english\">Turkish</span> <span class=\"ws-language__native\"> T\\xc3\\x9cRK\\xc3\\x87E </span> </a> </li>  <li class=\"ws-language ws-language--uk\"> <a class=\"ws-language__link\" href=\"/ukrainian/\" title=\"Ukrainian service\"   rev=\"languages|link\" > <span class=\"ws-language__english\">Ukrainian</span> <span class=\"ws-language__native\"> \\xd0\\xa3\\xd0\\x9a\\xd0\\xa0\\xd0\\x90\\xd0\\x87\\xd0\\x9d\\xd0\\xa1\\xd0\\xac\\xd0\\x9aA </span> </a> </li>  <li class=\"ws-language ws-language--ur\"> <a class=\"ws-language__link\" href=\"/urdu/\" title=\"Urdu service\"   rev=\"languages|link\" > <span class=\"ws-language__english\">Urdu</span> <span class=\"ws-language__native\"> \\xd8\\xa7\\xd8\\xb1\\xd8\\xaf\\xd9\\x88 </span> </a> </li>  <li class=\"ws-language ws-language--uz\"> <a class=\"ws-language__link\" href=\"/uzbek/\" title=\"Uzbek service\"   rev=\"languages|link\" > <span class=\"ws-language__english\">Uzbek</span> <span class=\"ws-language__native\"> O\\'ZBEK </span> </a> </li>  <li class=\"ws-language ws-language--vi\"> <a class=\"ws-language__link\" href=\"/vietnamese/\" title=\"Vietnamese service\"   rev=\"languages|link\" > <span class=\"ws-language__english\">Vietnamese</span> <span class=\"ws-language__native\"> TI\\xe1\\xba\\xbeNG VI\\xe1\\xbb\\x86T </span> </a> </li>  </ul> </div>  </div> </div> </section>         </div>\\n\\n        </div>\\n<script id=\"orb-js-script\" data-assetpath=\"https://nav.files.bbci.co.uk/orbit/ece9cb048f668bbc4cc6214737a6cdb6/\" src=\"https://nav.files.bbci.co.uk/orbit/ece9cb048f668bbc4cc6214737a6cdb6/js/orb.min.js\"></script><div id=\"orb-footer\" class=\"orb-footer\" dir=\"ltr\"> <div id=\"navp-orb-footer-promo\"></div><script type=\"text/javascript\">/*<![CDATA[*/\\n        require([\\'orb/nav\\'], function(nav) {\\n            window.bbcuser.isUKCombined().then(function(isUK) {\\n                if (isUK) {\\n                    nav.loadJs(\\'https://nav.files.bbci.co.uk/orbit/ece9cb048f668bbc4cc6214737a6cdb6/js/edr.min.js\\');\\n                }\\n            });\\n        });\\n        /*]]>*/</script> <aside role=\"complementary\"><div id=\"orb-aside\" class=\"orb-nav-sec b-r b-g-p\"><div class=\"orb-footer-inner\" role=\"navigation\" aria-label=\"BBC\"><h2 class=\"orb-footer-lead\">Explore the BBC</h2><div class=\"orb-footer-primary-links\"><ul><li class=\"orb-nav-home\"><a href=\"https://www.bbc.co.uk\">Home</a></li><li class=\"orb-nav-news\"><a href=\"https://www.bbc.co.uk/news\">News</a></li><li class=\"orb-nav-sport\"><a href=\"https://www.bbc.co.uk/sport\">Sport</a></li><li class=\"orb-nav-weather\"><a href=\"https://www.bbc.co.uk/weather\">Weather</a></li><li class=\"orb-nav-iplayer\"><a href=\"https://www.bbc.co.uk/iplayer\">iPlayer</a></li><li class=\"orb-nav-sounds\"><a href=\"https://www.bbc.co.uk/sounds\">Sounds</a></li><li class=\"orb-nav-cbbc\"><a href=\"https://www.bbc.co.uk/cbbc\">CBBC</a></li><li class=\"orb-nav-cbeebies\"><a href=\"https://www.bbc.co.uk/cbeebies\">CBeebies</a></li><li class=\"orb-nav-food\"><a href=\"https://www.bbc.co.uk/food\">Food</a></li><li class=\"orb-nav-bitesize\"><a href=\"https://www.bbc.co.uk/bitesize\">Bitesize</a></li><li class=\"orb-nav-arts\"><a href=\"https://www.bbc.co.uk/arts\">Arts</a></li><li class=\"orb-nav-taster\"><a href=\"https://www.bbc.co.uk/taster\">Taster</a></li><li class=\"orb-nav-local\"><a href=\"https://www.bbc.co.uk/news/localnews\">Local</a></li><li class=\"orb-nav-three\"><a href=\"https://www.bbc.co.uk/bbcthree\">Three</a></li></ul></div></div></div></aside><footer role=\"contentinfo\"><div id=\"orb-contentinfo\" class=\"orb-nav-sec b-r b-g-p\"><script>window.orb.worldwideFooterlinks = \\'<li class=\"orb-footer-ads\"><a href=\"https://www.bbcglobalnews.com/\">Advertise with us<\\' + \\'/a><\\' + \\'/li><li class=\"orb-footer-adchoices\"><a href=\"https://www.bbc.com/usingthebbc/cookies/how-can-i-change-my-bbc-cookie-settings/\">AdChoices / Do Not Sell My Info<\\' + \\'/a><\\' + \\'/li>\\';</script><div class=\"orb-footer-inner\"><div><ul><li class=\"orb-footer-terms\"><a href=\"https://www.bbc.co.uk/usingthebbc/terms/\">Terms of Use</a></li><li class=\"orb-footer-about\"><a href=\"https://www.bbc.co.uk/aboutthebbc\">About the BBC</a></li><li class=\"orb-footer-privacy\"><a href=\"https://www.bbc.co.uk/usingthebbc/privacy/\">Privacy Policy</a></li><li class=\"orb-footer-cookies\"><a href=\"https://www.bbc.co.uk/usingthebbc/cookies/\">Cookies</a></li><li class=\"orb-footer-accessibility\"><a href=\"https://www.bbc.co.uk/accessibility/\">Accessibility Help</a></li><li class=\"orb-footer-parental\"><a href=\"https://www.bbc.co.uk/guidance\">Parental Guidance</a></li><li class=\"orb-footer-contact\"><a href=\"https://www.bbc.co.uk/contact\">Contact the BBC</a></li><li class=\"orb-footer-newsletter\"><a href=\"https://www.bbc.co.uk/bbcnewsletter\">Get Personalised Newsletters</a></li></ul><small><em class=\"orb-hilight\">Copyright &copy; 2020 BBC.</em> The BBC is not responsible for the content of external sites. <span class=\"orb-footer-links\"><a href=\"https://www.bbc.co.uk/help/web/links/\" class=\"orb-hilight\">Read about our approach to external linking.</a></span></small></div></div></div></footer></div><script src=\"https://nav.files.bbci.co.uk/orbit/ece9cb048f668bbc4cc6214737a6cdb6/js/nav.min.js\"></script><script type=\"text/javascript\" src=\"https://nav.files.bbci.co.uk/orbit/ece9cb048f668bbc4cc6214737a6cdb6/js/redirect.bundle.js\"></script>  <script type=\"text/javascript\">require.config({\\n            paths: {\\n                \"mybbc/templates\": \\'//mybbc.files.bbci.co.uk/notification-ui/4.2.7/templates\\',\\n                \"mybbc/notifications\": \\'//mybbc.files.bbci.co.uk/notification-ui/4.2.7/js\\'\\n            }\\n        });\\n\\n        require([\\'mybbc/notifications/NotificationsMain\\', \\'idcta/idcta-1\\'], function (NotificationsMain, idcta) {\\n\\n            var loadNotifications = function (isUK) {\\n                if (isUK) {\\n                    window.bbcpage.loadCSS(\\'//mybbc.files.bbci.co.uk/notification-ui/4.2.7/css/main.min.css\\').then(function() {\\n                        NotificationsMain.run(idcta, \\'//mybbc.files.bbci.co.uk/notification-ui/4.2.7/\\');\\n                    });\\n                }\\n            };\\n            \\n            window.bbcuser.isUKCombined().then(function(isUK) {\\n                loadNotifications(isUK);\\n            });\\n        });</script>     <script type=\"text/javascript\">if (window.SEARCHBOX.locale) {\\n    require.config({\\n      paths: {\\n        \"search/searchbox\": window.SEARCHBOX.searchboxAppStaticPrefix,\\n      }\\n    });\\n\\n    if (bbcuser && bbcuser.isUKCombined) {\\n        bbcuser.isUKCombined().then(function (isUK) {\\n            if (isUK) {\\n                require([\\'search/searchbox/searchboxDrawer\\'], function (SearchboxDrawer) {\\n                  SearchboxDrawer.run(window.SEARCHBOX);\\n                });\\n            }\\n        });\\n    }\\n\\n  }</script>     <script type=\"text/javascript\">require.config({\\n    \"paths\": {\\n        \"orb/async/_footerpromo\": \\'https://nav.files.bbci.co.uk/navpromo/540f3f6dbf28b119bbe06e61544e3f22/js/async/_footerpromo\\'\\n    }\\n});\\n(function() {\\n\\n\\n    document.addEventListener(\"DOMContentLoaded\", function(event) {\\n      initialiseFooter();\\n    });\\n\\n    var scrollCheckTimer;\\n    var didScroll;\\n    var previousPosition = 0;\\n    var delta = 5;\\n    var PROMO_SHOW_BREAKPOINT = 1500;\\n    var pageLength = 0;\\n\\n    function getCookie(key) {\\n        if (!key) {\\n            return document.cookie;\\n        }\\n        return decodeURIComponent(document.cookie.replace(new RegExp(\"(?:(?:^|.*;)\\\\\\\\s*\" + encodeURIComponent(key).replace(/[\\\\-\\\\.\\\\+\\\\*]/g, \"\\\\\\\\$&\") + \"\\\\\\\\s*\\\\\\\\=\\\\\\\\s*([^;]*).*$)|^.*$\"), \"$1\")) || null;\\n    }\\n\\n    function initialiseFooter() {\\n        // Suppress this feature on browsers we no longer test\\n        var myNav = navigator.userAgent.toLowerCase();\\n        var oldIE = (myNav.indexOf(\\'msie\\') !== -1) && parseInt(myNav.split(\\'msie\\')[1], 10) <= 10;\\n        if (!oldIE) {\\n            var disabledByCookie = (parseInt(getCookie(\\'ckns_nav_promofail\\')) || 0) >= 3;\\n            if (!disabledByCookie) {\\n                window.bbcpage.getLanguage().then(function(language) {\\n                    if (language === \\'en\\') {\\n                        window.bbcuser.isUKCombined().then(function(isUK) {\\n                            if (isUK) {\\n                                setUpLazyLoading();\\n                            }\\n                        });\\n                    }\\n                });\\n            }\\n        }\\n    }\\n\\n    function setUpLazyLoading() {\\n        // offsetHeight is expensive to calculate, only do it once.\\n        pageLength = Math.abs(document.body.offsetHeight);\\n\\n        if (pageLength < getViewportHeight() + 300 || pageLength - getCurrentPosition() < PROMO_SHOW_BREAKPOINT) {\\n            loadPromo();\\n\\n        } else {\\n            window.onscroll = function () {\\n                didScroll = true;\\n            };\\n\\n            scrollCheckTimer = setInterval(function () {\\n                if (didScroll) {\\n                    hasScrolled();\\n                    didScroll = false;\\n                }\\n            }, 250);\\n        }\\n    }\\n\\n    function loadPromo() {\\n        clearInterval(scrollCheckTimer);\\n\\n        require([\\'orb/async/_footerpromo\\'], function(promo) {\\n            promo.init(\\'https://navpromo.api.bbci.co.uk\\', \\'\\');\\n        });\\n    }\\n\\n    function getViewportHeight() {\\n        return window.innerHeight;\\n    }\\n\\n    function getCurrentPosition() {\\n        return Math.abs(window.scrollY || document.body.scrollTop || document.documentElement.scrollTop);\\n    }\\n\\n    function hasScrolled() {\\n        var currentPosition = getCurrentPosition();\\n\\n        if (Math.abs(previousPosition - currentPosition) <= delta) {\\n            return;\\n        }\\n        if (currentPosition > previousPosition) {\\n            if ((pageLength - currentPosition) <= PROMO_SHOW_BREAKPOINT) {\\n                loadPromo();\\n            }\\n        }\\n        previousPosition = currentPosition;\\n    }\\n})();</script>    <script type=\"text/javascript\">window.COOKIES_STATIC_HOST = \\'https://nav.files.bbci.co.uk/orbit-webmodules/0.0.2-556.7ef1b51/cookie-banner/cookie-prompt/\\';</script><script src=\"https://nav.files.bbci.co.uk/orbit-webmodules/0.0.2-556.7ef1b51/cookie-banner/cookie-banners.bundle.js\" async=\"\"></script>  <script src=\"https://nav.files.bbci.co.uk//user-activity-helper/41aaabb9da9bc658ad8712a30f57b4fe/js/detectview.bundle.js\" async=\"\"></script><script type=\"text/javascript\">\"use strict\";window.__reverb.__reverbLoadedPromise.then(function(e){return e.initialise().then(function(){return e.viewEvent()})},function(){console.log(\"Failed to load reverb. No event sent\")});</script><noscript><img src=\"https://sb.scorecardresearch.com/p?c1=2&c2=17986528&cs_ucfr=0&cv=2.0&cj=1\"></noscript>     </body>\\n</html>\\n\\n\\n\\n\\n\\n\\n\\n\\n\\n\\n\\n\\n\\n\\n\\n\\n\\n\\n\\n\\n\\n\\n '"
      ]
     },
     "execution_count": 230,
     "metadata": {},
     "output_type": "execute_result"
    }
   ],
   "source": [
    "response.content #gives html page"
   ]
  },
  {
   "cell_type": "code",
   "execution_count": 231,
   "metadata": {},
   "outputs": [],
   "source": [
    "from bs4 import BeautifulSoup"
   ]
  },
  {
   "cell_type": "code",
   "execution_count": 232,
   "metadata": {},
   "outputs": [],
   "source": [
    "soup = BeautifulSoup(response.content, 'html5lib')"
   ]
  },
  {
   "cell_type": "code",
   "execution_count": 233,
   "metadata": {},
   "outputs": [],
   "source": [
    "text = soup.get_text(strip=True)"
   ]
  },
  {
   "cell_type": "code",
   "execution_count": 234,
   "metadata": {},
   "outputs": [
    {
     "data": {
      "text/plain": [
       "'BBC - Homepagewindow.orb_fig_blocking = true;\\n            window.bbcredirection = {geo: true};// nav-orbit-pollyfills\\n    // Promise polyfill from https://github.com/bramstein/promis\\n    (function(){\\'use strict\\';var f,g=[];function l(a){g.push(a);1==g.length&&f()}function m(){for(;g.length;)g[0](),g.shift()}f=function(){setTimeout(m)};function n(a){this.a=p;this.b=void 0;this.f=[];var b=this;try{a(function(a){q(b,a)},function(a){r(b,a)})}catch(c){r(b,c)}}var p=2;function t(a){return new n(function(b,c){c(a)})}function u(a){return new n(function(b){b(a)})}function q(a,b){if(a.a==p){if(b==a)throw new TypeError;var c=!1;try{var d=b&&b.then;if(null!=b&&\"object\"==typeof b&&\"function\"==typeof d){d.call(b,function(b){c||q(a,b);c=!0},function(b){c||r(a,b);c=!0});return}}catch(e){c||r(a,e);return}a.a=0;a.b=b;v(a)}} function r(a,b){if(a.a==p){if(b==a)throw new TypeError;a.a=1;a.b=b;v(a)}}function v(a){l(function(){if(a.a!=p)for(;a.f.length;){var b=a.f.shift(),c=b[0],d=b[1],e=b[2],b=b[3];try{0==a.a?\"function\"==typeof c?e(c.call(void 0,a.b)):e(a.b):1==a.a&&(\"function\"==typeof d?e(d.call(void 0,a.b)):b(a.b))}catch(h){b(h)}}})}n.prototype.g=function(a){return this.c(void 0,a)};n.prototype.c=function(a,b){var c=this;return new n(function(d,e){c.f.push([a,b,d,e]);v(c)})}; function w(a){return new n(function(b,c){function d(c){return function(d){h[c]=d;e+=1;e==a.length&&b(h)}}var e=0,h=[];0==a.length&&b(h);for(var k=0;k<a.length;k+=1)u(a[k]).c(d(k),c)})}function x(a){return new n(function(b,c){for(var d=0;d<a.length;d+=1)u(a[d]).c(b,c)})};window.Promise||(window.Promise=n,window.Promise.resolve=u,window.Promise.reject=t,window.Promise.race=x,window.Promise.all=w,window.Promise.prototype.then=n.prototype.c,window.Promise.prototype[\"catch\"]=n.prototype.g);}());\\n\\n\\n    // Polyfill Event constructor for IE ref: https://jira.dev.bbc.co.uk/browse/ORBITEN-919\\n    // see: https://stackoverflow.com/questions/26596123\\n    (function () {\\n      if (typeof window.CustomEvent === \"function\") {\\n        return false;\\n      }\\n      function CustomEvent(event, params) {\\n        params = params || { bubbles: false, cancelable: false, detail: undefined };\\n        var evt = document.createEvent(\\'CustomEvent\\');\\n        evt.initCustomEvent(event, params.bubbles, params.cancelable, params.detail);\\n        return evt;\\n      }\\n      CustomEvent.prototype = window.Event.prototype;\\n      window.Event = CustomEvent;\\n    })();\\n\\n\\n    //Element.prototype.matches polyfill\\n    //from https://developer.mozilla.org/en-US/docs/Web/API/Element/matches#Polyfill\\n    if (!Element.prototype.matches) {\\n      Element.prototype.matches = Element.prototype.msMatchesSelector ||\\n                                  Element.prototype.webkitMatchesSelector;\\n    }\\n    //NodeList.forEach Polyfill\\n    //from https://developer.mozilla.org/en-US/docs/Web/API/NodeList/forEach#Polyfill\\n    if (window.NodeList && !NodeList.prototype.forEach) {\\n      NodeList.prototype.forEach = Array.prototype.forEach;\\n    }\\n\\n    // Object.assign polyfill from https://developer.mozilla.org/en-US/docs/Web/JavaScript/Reference/Global_Objects/Object/assign#Polyfill\\n    if (typeof Object.assign != \\'function\\') {\\n      // Must be writable: true, enumerable: false, configurable: true\\n      Object.defineProperty(Object, \"assign\", {\\n        value: function assign(target, varArgs) { // .length of function is 2\\n          \\'use strict\\';\\n          if (target == null) { // TypeError if undefined or null\\n            throw new TypeError(\\'Cannot convert undefined or null to object\\');\\n          }\\n\\n          var to = Object(target);\\n\\n          for (var index = 1; index < arguments.length; index++) {\\n            var nextSource = arguments[index];\\n\\n            if (nextSource != null) { // Skip over if undefined or null\\n              for (var nextKey in nextSource) {\\n                // Avoid bugs when hasOwnProperty is shadowed\\n                if (Object.prototype.hasOwnProperty.call(nextSource, nextKey)) {\\n                  to[nextKey] = nextSource[nextKey];\\n                }\\n              }\\n            }\\n          }\\n          return to;\\n        },\\n        writable: true,\\n        configurable: true\\n      });\\n    }\\n\\n    // window.fetch polyfill https://github.com/github/fetch/blob/v0.11.0/fetch.js - chosen for IE9 compatibility\\n    if(typeof window.fetch !== \\'function\\') {\\n      (function(self){\"use strict\";if(self.fetch){return}function normalizeName(name){if(typeof name!==\"string\"){name=String(name)}if(/[^a-z0-9\\\\-#$%&\\'*+.\\\\^_`|~]/i.test(name)){throw new TypeError(\"Invalid character in header field name\")}return name.toLowerCase()}function normalizeValue(value){if(typeof value!==\"string\"){value=String(value)}return value}function Headers(headers){this.map={};if(headers instanceof Headers){headers.forEach(function(value,name){this.append(name,value)},this)}else if(headers){Object.getOwnPropertyNames(headers).forEach(function(name){this.append(name,headers[name])},this)}}Headers.prototype.append=function(name,value){name=normalizeName(name);value=normalizeValue(value);var list=this.map[name];if(!list){list=[];this.map[name]=list}list.push(value)};Headers.prototype[\"delete\"]=function(name){delete this.map[normalizeName(name)]};Headers.prototype.get=function(name){var values=this.map[normalizeName(name)];return values?values[0]:null};Headers.prototype.getAll=function(name){return this.map[normalizeName(name)]||[]};Headers.prototype.has=function(name){return this.map.hasOwnProperty(normalizeName(name))};Headers.prototype.set=function(name,value){this.map[normalizeName(name)]=[normalizeValue(value)]};Headers.prototype.forEach=function(callback,thisArg){Object.getOwnPropertyNames(this.map).forEach(function(name){this.map[name].forEach(function(value){callback.call(thisArg,value,name,this)},this)},this)};function consumed(body){if(body.bodyUsed){return Promise.reject(new TypeError(\"Already read\"))}body.bodyUsed=true}function fileReaderReady(reader){return new Promise(function(resolve,reject){reader.onload=function(){resolve(reader.result)};reader.onerror=function(){reject(reader.error)}})}function readBlobAsArrayBuffer(blob){var reader=new FileReader;reader.readAsArrayBuffer(blob);return fileReaderReady(reader)}function readBlobAsText(blob){var reader=new FileReader;reader.readAsText(blob);return fileReaderReady(reader)}var support={blob:\"FileReader\"in self&&\"Blob\"in self&&function(){try{new Blob;return true}catch(e){return false}}(),formData:\"FormData\"in self,arrayBuffer:\"ArrayBuffer\"in self};function Body(){this.bodyUsed=false;this._initBody=function(body){this._bodyInit=body;if(typeof body===\"string\"){this._bodyText=body}else if(support.blob&&Blob.prototype.isPrototypeOf(body)){this._bodyBlob=body}else if(support.formData&&FormData.prototype.isPrototypeOf(body)){this._bodyFormData=body}else if(!body){this._bodyText=\"\"}else if(support.arrayBuffer&&ArrayBuffer.prototype.isPrototypeOf(body)){}else{throw new Error(\"unsupported BodyInit type\")}if(!this.headers.get(\"content-type\")){if(typeof body===\"string\"){this.headers.set(\"content-type\",\"text/plain;charset=UTF-8\")}else if(this._bodyBlob&&this._bodyBlob.type){this.headers.set(\"content-type\",this._bodyBlob.type)}}};if(support.blob){this.blob=function(){var rejected=consumed(this);if(rejected){return rejected}if(this._bodyBlob){return Promise.resolve(this._bodyBlob)}else if(this._bodyFormData){throw new Error(\"could not read FormData body as blob\")}else{return Promise.resolve(new Blob([this._bodyText]))}};this.arrayBuffer=function(){return this.blob().then(readBlobAsArrayBuffer)};this.text=function(){var rejected=consumed(this);if(rejected){return rejected}if(this._bodyBlob){return readBlobAsText(this._bodyBlob)}else if(this._bodyFormData){throw new Error(\"could not read FormData body as text\")}else{return Promise.resolve(this._bodyText)}}}else{this.text=function(){var rejected=consumed(this);return rejected?rejected:Promise.resolve(this._bodyText)}}if(support.formData){this.formData=function(){return this.text().then(decode)}}this.json=function(){return this.text().then(JSON.parse)};return this}var methods=[\"DELETE\",\"GET\",\"HEAD\",\"OPTIONS\",\"POST\",\"PUT\"];function normalizeMethod(method){var upcased=method.toUpperCase();return methods.indexOf(upcased)>-1?upcased:method}function Request(input,options){options=options||{};var body=options.body;if(Request.prototype.isPrototypeOf(input)){if(input.bodyUsed){throw new TypeError(\"Already read\")}this.url=input.url;this.credentials=input.credentials;if(!options.headers){this.headers=new Headers(input.headers)}this.method=input.method;this.mode=input.mode;if(!body){body=input._bodyInit;input.bodyUsed=true}}else{this.url=input}this.credentials=options.credentials||this.credentials||\"omit\";if(options.headers||!this.headers){this.headers=new Headers(options.headers)}this.method=normalizeMethod(options.method||this.method||\"GET\");this.mode=options.mode||this.mode||null;this.referrer=null;if((this.method===\"GET\"||this.method===\"HEAD\")&&body){throw new TypeError(\"Body not allowed for GET or HEAD requests\")}this._initBody(body)}Request.prototype.clone=function(){return new Request(this)};function decode(body){var form=new FormData;body.trim().split(\"&\").forEach(function(bytes){if(bytes){var split=bytes.split(\"=\");var name=split.shift().replace(/\\\\+/g,\" \");var value=split.join(\"=\").replace(/\\\\+/g,\" \");form.append(decodeURIComponent(name),decodeURIComponent(value))}});return form}function headers(xhr){var head=new Headers;var pairs=xhr.getAllResponseHeaders().trim().split(\"\\\\n\");pairs.forEach(function(header){var split=header.trim().split(\":\");var key=split.shift().trim();var value=split.join(\":\").trim();head.append(key,value)});return head}Body.call(Request.prototype);function Response(bodyInit,options){if(!options){options={}}this.type=\"default\";this.status=options.status;this.ok=this.status>=200&&this.status<300;this.statusText=options.statusText;this.headers=options.headers instanceof Headers?options.headers:new Headers(options.headers);this.url=options.url||\"\";this._initBody(bodyInit)}Body.call(Response.prototype);Response.prototype.clone=function(){return new Response(this._bodyInit,{status:this.status,statusText:this.statusText,headers:new Headers(this.headers),url:this.url})};Response.error=function(){var response=new Response(null,{status:0,statusText:\"\"});response.type=\"error\";return response};var redirectStatuses=[301,302,303,307,308];Response.redirect=function(url,status){if(redirectStatuses.indexOf(status)===-1){throw new RangeError(\"Invalid status code\")}return new Response(null,{status:status,headers:{location:url}})};self.Headers=Headers;self.Request=Request;self.Response=Response;self.fetch=function(input,init){return new Promise(function(resolve,reject){var request;if(Request.prototype.isPrototypeOf(input)&&!init){request=input}else{request=new Request(input,init)}var xhr=new XMLHttpRequest;function responseURL(){if(\"responseURL\"in xhr){return xhr.responseURL}if(/^X-Request-URL:/m.test(xhr.getAllResponseHeaders())){return xhr.getResponseHeader(\"X-Request-URL\")}return}xhr.onload=function(){var status=xhr.status===1223?204:xhr.status;if(status<100||status>599){reject(new TypeError(\"Network request failed\"));return}var options={status:status,statusText:xhr.statusText,headers:headers(xhr),url:responseURL()};var body=\"response\"in xhr?xhr.response:xhr.responseText;resolve(new Response(body,options))};xhr.onerror=function(){reject(new TypeError(\"Network request failed\"))};xhr.open(request.method,request.url,true);if(request.credentials===\"include\"){xhr.withCredentials=true}if(\"responseType\"in xhr&&support.blob){xhr.responseType=\"blob\"}request.headers.forEach(function(value,name){xhr.setRequestHeader(name,value)});xhr.send(typeof request._bodyInit===\"undefined\"?null:request._bodyInit)})};self.fetch.polyfill=true})(typeof self!==\"undefined\"?self:this);\\n    }\\n\\n    if (typeof window.CustomEvent !== \\'function\\') {\\n\\n      function CustomEvent(event, params) {\\n        params = params || { bubbles: false, cancelable: false, detail: null };\\n        var evt = document.createEvent(\\'CustomEvent\\');\\n        evt.initCustomEvent(event, params.bubbles, params.cancelable, params.detail);\\n        return evt;\\n      }\\n\\n      CustomEvent.prototype = window.Event.prototype;\\n\\n      window.CustomEvent = CustomEvent;\\n\\n    }if(\"live\" !== \"live\"){\\n      console.log(\"%cYou\\'re using Orbit without Forge dependencies!\", \"color: red; font-size: x-large\");\\n      console.log(\"%cWe are in the process of transitioning Orbit off Forge. If something is\\\\n\" +\\n                  \"broken or behaving unexpectedly in the interim, please see see our migration docs https://github.com/bbc/nav-orbit/blob/master/docs/forge-free.md or let us know in the #help-orbit channel\", \"color: red; font-size: medium \");\\n      console.log(\"%cNote that during the transition, there may be times when your personal dev certificate is in a different Forge vs. Forge-free group than your product\\'s dev/live certificate.\", \"color: red; font-size: medium \");\\n\\n    }\\n\\n    window.orbitData = {};\\n\\n    var additionalPageProperties = {};\\n        additionalPageProperties[\\'custom_var_1\\'] = \\'africa\\';\\n        additionalPageProperties[\\'custom_var_9\\'] = \\'1\\';\\n\\n    window.orbitData.partialCookieOvenUrl = \\'https://cookie-oven.api.bbc\\';\\n    window.orbitData.language = \\'en\\';\\n    window.orbitData.language = \\'en\\';\\n\\n    window.orbitData.userProfileUrl = \"https://www.bbc.co.uk/userprofile\";\\n\\n    window.orbitData.modal = false;\\n\\n    function generateCountername() {\\n        if (window.location.protocol === \\'file:\\') {\\n            return \\'local.file\\';\\n        }\\n        var pathName = window.location.pathname\\n                .replace(/\\\\/$/, \"\")\\n                .replace(/^\\\\//, \"\")\\n                .replace(/\\\\//g, \\'.\\');\\n        return pathName + \\'.page\\';\\n    }\\n\\n    window.orbitData.page = {\\n        name: \\'home.page\\' || generateCountername(),\\n        destination: \\'HOMEPAGE_GNL\\' || null,\\n        producer: \\'GNL_HOMEPAGE\\' || null,\\n        section: \\'\\' || null,\\n        site: \\'\\' || null,\\n        contentId: \\'\\' || null,\\n        contentType: \\'Index-home\\' || null,\\n        edition: \\'\\' || null,\\n        additionalProperties: additionalPageProperties\\n    };\\n\\n\\n       window.orb = {\\n         worldwideNavlinks: \\'<li class=\"orb-nav-homedotcom\"><a href=\"https://www.bbc.com/\">Home</a></li><li class=\"orb-nav-newsdotcom\"><a href=\"https://www.bbc.com/news\">News</a></li><li class=\"orb-nav-sport\"><a href=\"https://www.bbc.com/sport\">Sport</a></li><li class=\"orb-nav-reeldotcom\"><a href=\"https://www.bbc.com/reel\">Reel</a></li><li class=\"orb-nav-worklife\"><a href=\"https://www.bbc.com/worklife\">Worklife</a></li><li class=\"orb-nav-traveldotcom\"><a href=\"https://www.bbc.com/travel\">Travel</a></li><li class=\"orb-nav-future\"><a href=\"https://www.bbc.com/future\">Future</a></li><li class=\"orb-nav-culture\"><a href=\"https://www.bbc.com/culture\">Culture</a></li><li class=\"orb-nav-music\"><a href=\"https://www.bbc.com/culture/music\">Music</a></li><li class=\"orb-nav-tv\"><a href=\"https://www.bbc.co.uk/schedules/p00fzl9m\">TV</a></li><li class=\"orb-nav-weather\"><a href=\"https://www.bbc.com/weather\">Weather</a></li><li class=\"orb-nav-sounds\"><a href=\"https://www.bbc.co.uk/sounds\">Sounds</a></li>\\',\\n       }\\n\\n\\n    function updatePageData(newData) {\\n        window.orbitData.page = Object.assign(window.orbitData.page, newData);\\n    }\\n\\n    document.addEventListener(\\'bbc-page-reset\\', function(event) {\\n        if (event.detail && event.detail.page) {\\n            updatePageData(event.detail.page);\\n        }\\n        document.dispatchEvent(new Event(\\'bbc-page-updated\\'));\\n    });!function(){var t={1391:function(t){var r={getName:function(){return Promise.resolve(window.orbitData.page.name)},getLanguage:function(){return Promise.resolve(window.orbitData.language)},getDestination:function(){return Promise.resolve(window.orbitData.page.destination)},getProducer:function(){return Promise.resolve(window.orbitData.page.producer)},getSection:function(){return Promise.resolve(window.orbitData.page.section)},getContentType:function(){return Promise.resolve(window.orbitData.page.contentType)},getContentId:function(){return Promise.resolve(window.orbitData.page.contentId)},getReferrer:function(){return Promise.resolve(window.orb&&null!==window.orb.referrer&&void 0!==window.orb.referrer?window.orb.referrer:document.referrer)},getAdditionalProperties:function(){return Promise.resolve(window.orbitData.page.additionalProperties)},loadCSS:function(t){return new Promise((function(r,e){var n=document.createElement(\"link\");n.type=\"text/css\",n.rel=\"stylesheet\",n.onload=function(){r()},n.href=t,document.getElementsByTagName(\"head\")[0].appendChild(n)}))},isModal:function(){return Promise.resolve(window.orbitData.modal)}};window.bbcpage=r,t.exports={bbcpage:r}},9135:function(t){function r(t){return(r=\"function\"==typeof Symbol&&\"symbol\"==typeof Symbol.iterator?function(t){return typeof t}:function(t){return t&&\"function\"==typeof Symbol&&t.constructor===Symbol&&t!==Symbol.prototype?\"symbol\":typeof t})(t)}function e(t,r){if(!(t instanceof r))throw new TypeError(\"Cannot call a class as a function\")}function n(t,e){return!e||\"object\"!==r(e)&&\"function\"!=typeof e?function(t){if(void 0===t)throw new ReferenceError(\"this hasn\\'t been initialised - super() hasn\\'t been called\");return t}(t):e}function o(t){var r=\"function\"==typeof Map?new Map:void 0;return(o=function(t){if(null===t||(e=t,-1===Function.toString.call(e).indexOf(\"[native code]\")))return t;var e;if(\"function\"!=typeof t)throw new TypeError(\"Super expression must either be null or a function\");if(void 0!==r){if(r.has(t))return r.get(t);r.set(t,n)}function n(){return i(t,arguments,c(this).constructor)}return n.prototype=Object.create(t.prototype,{constructor:{value:n,enumerable:!1,writable:!0,configurable:!0}}),a(n,t)})(t)}function i(t,r,e){return(i=u()?Reflect.construct:function(t,r,e){var n=[null];n.push.apply(n,r);var o=new(Function.bind.apply(t,n));return e&&a(o,e.prototype),o}).apply(null,arguments)}function u(){if(\"undefined\"==typeof Reflect||!Reflect.construct)return!1;if(Reflect.construct.sham)return!1;if(\"function\"==typeof Proxy)return!0;try{return Date.prototype.toString.call(Reflect.construct(Date,[],(function(){}))),!0}catch(t){return!1}}function a(t,r){return(a=Object.setPrototypeOf||function(t,r){return t.__proto__=r,t})(t,r)}function c(t){return(c=Object.setPrototypeOf?Object.getPrototypeOf:function(t){return t.__proto__||Object.getPrototypeOf(t)})(t)}var s=function(t){!function(t,r){if(\"function\"!=typeof r&&null!==r)throw new TypeError(\"Super expression must either be null or a function\");t.prototype=Object.create(r&&r.prototype,{constructor:{value:t,writable:!0,configurable:!0}}),r&&a(t,r)}(s,t);var r,o,i=(r=s,o=u(),function(){var t,e=c(r);if(o){var i=c(this).constructor;t=Reflect.construct(e,arguments,i)}else t=e.apply(this,arguments);return n(this,t)});function s(){return e(this,s),i.apply(this,arguments)}return s}(o(Error));function f(t){return new Promise((function(r,e){window.require(t,(function(){r.apply(this,arguments)}),(function(t){e(t)}))}))}var l,p=null;function h(){if(window.orbitData&&window.orbitData.user&&[\"X-Country\",\"X-Ip_is_advertise_combined\",\"X-Ip_is_uk_combined\"].every((function(t){return!!window.orbitData.user[t]})))return Promise.resolve(window.orbitData.user);if(!p){var t=window.location.hostname.endsWith(\".com\")?\"com\":\"co.uk\";p=fetch(\"https://www.bbc.\".concat(t,\"/userinfo\")).then((function(t){return t.json()}))}return p}function d(t){if(t.status>=200&&t.status<300)return t;var r=new Error(t.statusText);throw r.response=t,r}function v(t){return t.json()}function y(){if(window.orbitData.user&&window.orbitData.user.ageBand)return Promise.resolve(window.orbitData.user);if(!l){if(\"undefined\"==typeof XMLHttpRequest||!(\"withCredentials\"in new XMLHttpRequest))return Promise.resolve(window.orbitData.user);l=f([\"idcta-v2/idcta-1\"]).then((function(t){return t.initiateTokenRefresh().then((function(){return window.fetch(window.orbitData.userProfileUrl,{credentials:\"include\"}).then(d).then(v).then((function(t){return void 0===window.orbitData.user?window.orbitData.user=t:Object.assign(window.orbitData.user,t),window.orbitData.user}))}))}))}return l}var g={getHashedId:function(){return f([\"idcta-v2/idcta-1\"]).then((function(t){return t.getCookieInstance().getHidFromCookie()}))},isSignedIn:function(){return f([\"idcta-v2/idcta-1\"]).then((function(t){return t&&t.getCookieInstance().hasCookie()}))},getCountry:function(){return h().then((function(t){return t[\"X-Country\"]||\"gb\"}))},isUKCombined:function(){return h().then((function(t){if(!t[\"X-Ip_is_uk_combined\"])throw new s(\"missing isUKCombined from userinfo response\");return\"yes\"===t[\"X-Ip_is_uk_combined\"].toLowerCase()}))},canSeeAdverts:function(){return h().then((function(t){if(!t[\"X-Ip_is_advertise_combined\"])throw new s(\"missing canSeeAdverts from userinfo response\");return\"yes\"===t[\"X-Ip_is_advertise_combined\"].toLowerCase()}))},getAgeBand:function(){return h().then((function(t){return t[\"X-Age-Band\"]?Promise.resolve(t[\"X-Age-Band\"]):g.isSignedIn().then((function(r){return r?y().then((function(r){return t[\"X-Age-Band\"]=r[\"X-Age-Band\"],t[\"X-Age-Band\"]||void 0})).catch((function(r){return t[\"X-Age-Band\"]||void 0})):void 0}))}))},allowsPerformanceCookies:function(){return f([\"orb/cookies\"]).then((function(t){return!!t.cookiesEnabled()&&!!t.readPolicy(\"performance\")}))},allowsFunctionalCookies:function(){return f([\"orb/cookies\"]).then((function(t){return!!t.cookiesEnabled()&&!!t.readPolicy(\"personalisation\")}))},getCookieValue:function(t){return f([\"orb/cookies\"]).then((function(r){return r.get(t)}))}};window.bbcuser=g,t.exports={bbcuser:g,BBCUserError:s}},7633:function(t,r,e){e(1539),e(8783),e(3948),e(8674),e(7922),e(7727);var n=e(857);t.exports=n.Promise},1111:function(t,r,e){e(4916),e(4953),e(8992),e(9841),e(7852),e(2023),e(4723),e(6373),e(6528),e(3112),e(2481),e(5306),e(4765),e(3123),e(3157),e(3210),e(5674),e(8702),e(8783),e(5218),e(4475),e(7929),e(915),e(9253),e(2125),e(8830),e(8734),e(9254),e(7268),e(7397),e(86),e(623);var n=e(857);t.exports=n.String},3099:function(t){t.exports=function(t){if(\"function\"!=typeof t)throw TypeError(String(t)+\" is not a function\");return t}},6077:function(t,r,e){var n=e(111);t.exports=function(t){if(!n(t)&&null!==t)throw TypeError(\"Can\\'t set \"+String(t)+\" as a prototype\");return t}},1223:function(t,r,e){var n=e(5112),o=e(30),i=e(3070),u=n(\"unscopables\"),a=Array.prototype;null==a[u]&&i.f(a,u,{configurable:!0,value:o(null)}),t.exports=function(t){a[u][t]=!0}},1530:function(t,r,e){\"use strict\";var n=e(8710).charAt;t.exports=function(t,r,e){return r+(e?n(t,r).length:1)}},5787:function(t){t.exports=function(t,r,e){if(!(t instanceof r))throw TypeError(\"Incorrect \"+(e?e+\" \":\"\")+\"invocation\");return t}},9670:function(t,r,e){var n=e(111);t.exports=function(t){if(!n(t))throw TypeError(String(t)+\" is not an object\");return t}},1318:function(t,r,e){var n=e(5656),o=e(7466),i=e(1400),u=function(t){return function(r,e,u){var a,c=n(r),s=o(c.length),f=i(u,s);if(t&&e!=e){for(;s>f;)if((a=c[f++])!=a)return!0}else for(;s>f;f++)if((t||f in c)&&c[f]===e)return t||f||0;return!t&&-1}};t.exports={includes:u(!0),indexOf:u(!1)}},3411:function(t,r,e){var n=e(9670);t.exports=function(t,r,e,o){try{return o?r(n(e)[0],e[1]):r(e)}catch(r){var i=t.return;throw void 0!==i&&n(i.call(t)),r}}},7072:function(t,r,e){var n=e(5112)(\"iterator\"),o=!1;try{var i=0,u={next:function(){return{done:!!i++}},return:function(){o=!0}};u[n]=function(){return this},Array.from(u,(function(){throw 2}))}catch(t){}t.exports=function(t,r){if(!r&&!o)return!1;var e=!1;try{var i={};i[n]=function(){return{next:function(){return{done:e=!0}}}},t(i)}catch(t){}return e}},4326:function(t){var r={}.toString;t.exports=function(t){return r.call(t).slice(8,-1)}},648:function(t,r,e){var n=e(1694),o=e(4326),i=e(5112)(\"toStringTag\"),u=\"Arguments\"==o(function(){return arguments}());t.exports=n?o:function(t){var r,e,n;return void 0===t?\"Undefined\":null===t?\"Null\":\"string\"==typeof(e=function(t,r){try{return t[r]}catch(t){}}(r=Object(t),i))?e:u?o(r):\"Object\"==(n=o(r))&&\"function\"==typeof r.callee?\"Arguments\":n}},9920:function(t,r,e){var n=e(6656),o=e(3887),i=e(1236),u=e(3070);t.exports=function(t,r){for(var e=o(r),a=u.f,c=i.f,s=0;s<e.length;s++){var f=e[s];n(t,f)||a(t,f,c(r,f))}}},4964:function(t,r,e){var n=e(5112)(\"match\");t.exports=function(t){var r=/./;try{\"/./\"[t](r)}catch(e){try{return r[n]=!1,\"/./\"[t](r)}catch(t){}}return!1}},8544:function(t,r,e){var n=e(7293);t.exports=!n((function(){function t(){}return t.prototype.constructor=null,Object.getPrototypeOf(new t)!==t.prototype}))},4230:function(t,r,e){var n=e(4488),o=/\"/g;t.exports=function(t,r,e,i){var u=String(n(t)),a=\"<\"+r;return\"\"!==e&&(a+=\" \"+e+\\'=\"\\'+String(i).replace(o,\"&quot;\")+\\'\"\\'),a+\">\"+u+\"</\"+r+\">\"}},4994:function(t,r,e){\"use strict\";var n=e(3383).IteratorPrototype,o=e(30),i=e(9114),u=e(8003),a=e(7497),c=function(){return this};t.exports=function(t,r,e){var s=r+\" Iterator\";return t.prototype=o(n,{next:i(1,e)}),u(t,s,!1,!0),a[s]=c,t}},8880:function(t,r,e){var n=e(9781),o=e(3070),i=e(9114);t.exports=n?function(t,r,e){return o.f(t,r,i(1,e))}:function(t,r,e){return t[r]=e,t}},9114:function(t){t.exports=function(t,r){return{enumerable:!(1&t),configurable:!(2&t),writable:!(4&t),value:r}}},654:function(t,r,e){\"use strict\";var n=e(2109),o=e(4994),i=e(9518),u=e(7674),a=e(8003),c=e(8880),s=e(1320),f=e(5112),l=e(1913),p=e(7497),h=e(3383),d=h.IteratorPrototype,v=h.BUGGY_SAFARI_ITERATORS,y=f(\"iterator\"),g=\"keys\",b=\"values\",m=\"entries\",w=function(){return this};t.exports=function(t,r,e,f,h,x,S){o(e,r,f);var E,_,O,T=function(t){if(t===h&&R)return R;if(!v&&t in A)return A[t];switch(t){case g:case b:case m:return function(){return new e(this,t)}}return function(){return new e(this)}},P=r+\" Iterator\",j=!1,A=t.prototype,I=A[y]||A[\"@@iterator\"]||h&&A[h],R=!v&&I||T(h),L=\"Array\"==r&&A.entries||I;if(L&&(E=i(L.call(new t)),d!==Object.prototype&&E.next&&(l||i(E)===d||(u?u(E,d):\"function\"!=typeof E[y]&&c(E,y,w)),a(E,P,!0,!0),l&&(p[P]=w))),h==b&&I&&I.name!==b&&(j=!0,R=function(){return I.call(this)}),l&&!S||A[y]===R||c(A,y,R),p[r]=R,h)if(_={values:T(b),keys:x?R:T(g),entries:T(m)},S)for(O in _)(v||j||!(O in A))&&s(A,O,_[O]);else n({target:r,proto:!0,forced:v||j},_);return _}},9781:function(t,r,e){var n=e(7293);t.exports=!n((function(){return 7!=Object.defineProperty({},1,{get:function(){return 7}})[1]}))},317:function(t,r,e){var n=e(7854),o=e(111),i=n.document,u=o(i)&&o(i.createElement);t.exports=function(t){return u?i.createElement(t):{}}},8324:function(t){t.exports={CSSRuleList:0,CSSStyleDeclaration:0,CSSValueList:0,ClientRectList:0,DOMRectList:0,DOMStringList:0,DOMTokenList:1,DataTransferItemList:0,FileList:0,HTMLAllCollection:0,HTMLCollection:0,HTMLFormElement:0,HTMLSelectElement:0,MediaList:0,MimeTypeArray:0,NamedNodeMap:0,NodeList:1,PaintRequestList:0,Plugin:0,PluginArray:0,SVGLengthList:0,SVGNumberList:0,SVGPathSegList:0,SVGPointList:0,SVGStringList:0,SVGTransformList:0,SourceBufferList:0,StyleSheetList:0,TextTrackCueList:0,TextTrackList:0,TouchList:0}},6833:function(t,r,e){var n=e(8113);t.exports=/(iphone|ipod|ipad).*applewebkit/i.test(n)},8113:function(t,r,e){var n=e(5005);t.exports=n(\"navigator\",\"userAgent\")||\"\"},7392:function(t,r,e){var n,o,i=e(7854),u=e(8113),a=i.process,c=a&&a.versions,s=c&&c.v8;s?o=(n=s.split(\".\"))[0]+n[1]:u&&(!(n=u.match(/Edge\\\\/(\\\\d+)/))||n[1]>=74)&&(n=u.match(/Chrome\\\\/(\\\\d+)/))&&(o=n[1]),t.exports=o&&+o},748:function(t){t.exports=[\"constructor\",\"hasOwnProperty\",\"isPrototypeOf\",\"propertyIsEnumerable\",\"toLocaleString\",\"toString\",\"valueOf\"]},2109:function(t,r,e){var n=e(7854),o=e(1236).f,i=e(8880),u=e(1320),a=e(3505),c=e(9920),s=e(4705);t.exports=function(t,r){var e,f,l,p,h,d=t.target,v=t.global,y=t.stat;if(e=v?n:y?n[d]||a(d,{}):(n[d]||{}).prototype)for(f in r){if(p=r[f],l=t.noTargetGet?(h=o(e,f))&&h.value:e[f],!s(v?f:d+(y?\".\":\"#\")+f,t.forced)&&void 0!==l){if(typeof p==typeof l)continue;c(p,l)}(t.sham||l&&l.sham)&&i(p,\"sham\",!0),u(e,f,p,t)}}},7293:function(t){t.exports=function(t){try{return!!t()}catch(t){return!0}}},7007:function(t,r,e){\"use strict\";e(4916);var n=e(1320),o=e(7293),i=e(5112),u=e(2261),a=e(8880),c=i(\"species\"),s=!o((function(){var t=/./;return t.exec=function(){var t=[];return t.groups={a:\"7\"},t},\"7\"!==\"\".replace(t,\"$<a>\")})),f=\"$0\"===\"a\".replace(/./,\"$0\"),l=i(\"replace\"),p=!!/./[l]&&\"\"===/./[l](\"a\",\"$0\"),h=!o((function(){var t=/(?:)/,r=t.exec;t.exec=function(){return r.apply(this,arguments)};var e=\"ab\".split(t);return 2!==e.length||\"a\"!==e[0]||\"b\"!==e[1]}));t.exports=function(t,r,e,l){var d=i(t),v=!o((function(){var r={};return r[d]=function(){return 7},7!=\"\"[t](r)})),y=v&&!o((function(){var r=!1,e=/a/;return\"split\"===t&&((e={}).constructor={},e.constructor[c]=function(){return e},e.flags=\"\",e[d]=/./[d]),e.exec=function(){return r=!0,null},e[d](\"\"),!r}));if(!v||!y||\"replace\"===t&&(!s||!f||p)||\"split\"===t&&!h){var g=/./[d],b=e(d,\"\"[t],(function(t,r,e,n,o){return r.exec===u?v&&!o?{done:!0,value:g.call(r,e,n)}:{done:!0,value:t.call(e,r,n)}:{done:!1}}),{REPLACE_KEEPS_$0:f,REGEXP_REPLACE_SUBSTITUTES_UNDEFINED_CAPTURE:p}),m=b[0],w=b[1];n(String.prototype,t,m),n(RegExp.prototype,d,2==r?function(t,r){return w.call(t,this,r)}:function(t){return w.call(t,this)})}l&&a(RegExp.prototype[d],\"sham\",!0)}},9974:function(t,r,e){var n=e(3099);t.exports=function(t,r,e){if(n(t),void 0===r)return t;switch(e){case 0:return function(){return t.call(r)};case 1:return function(e){return t.call(r,e)};case 2:return function(e,n){return t.call(r,e,n)};case 3:return function(e,n,o){return t.call(r,e,n,o)}}return function(){return t.apply(r,arguments)}}},5005:function(t,r,e){var n=e(857),o=e(7854),i=function(t){return\"function\"==typeof t?t:void 0};t.exports=function(t,r){return arguments.length<2?i(n[t])||i(o[t]):n[t]&&n[t][r]||o[t]&&o[t][r]}},1246:function(t,r,e){var n=e(648),o=e(7497),i=e(5112)(\"iterator\");t.exports=function(t){if(null!=t)return t[i]||t[\"@@iterator\"]||o[n(t)]}},7854:function(t,r,e){var n=function(t){return t&&t.Math==Math&&t};t.exports=n(\"object\"==typeof globalThis&&globalThis)||n(\"object\"==typeof window&&window)||n(\"object\"==typeof self&&self)||n(\"object\"==typeof e.g&&e.g)||Function(\"return this\")()},6656:function(t){var r={}.hasOwnProperty;t.exports=function(t,e){return r.call(t,e)}},3501:function(t){t.exports={}},842:function(t,r,e){var n=e(7854);t.exports=function(t,r){var e=n.console;e&&e.error&&(1===arguments.length?e.error(t):e.error(t,r))}},490:function(t,r,e){var n=e(5005);t.exports=n(\"document\",\"documentElement\")},4664:function(t,r,e){var n=e(9781),o=e(7293),i=e(317);t.exports=!n&&!o((function(){return 7!=Object.defineProperty(i(\"div\"),\"a\",{get:function(){return 7}}).a}))},8361:function(t,r,e){var n=e(7293),o=e(4326),i=\"\".split;t.exports=n((function(){return!Object(\"z\").propertyIsEnumerable(0)}))?function(t){return\"String\"==o(t)?i.call(t,\"\"):Object(t)}:Object},2788:function(t,r,e){var n=e(5465),o=Function.toString;\"function\"!=typeof n.inspectSource&&(n.inspectSource=function(t){return o.call(t)}),t.exports=n.inspectSource},9909:function(t,r,e){var n,o,i,u=e(8536),a=e(7854),c=e(111),s=e(8880),f=e(6656),l=e(6200),p=e(3501),h=a.WeakMap;if(u){var d=new h,v=d.get,y=d.has,g=d.set;n=function(t,r){return g.call(d,t,r),r},o=function(t){return v.call(d,t)||{}},i=function(t){return y.call(d,t)}}else{var b=l(\"state\");p[b]=!0,n=function(t,r){return s(t,b,r),r},o=function(t){return f(t,b)?t[b]:{}},i=function(t){return f(t,b)}}t.exports={set:n,get:o,has:i,enforce:function(t){return i(t)?o(t):n(t,{})},getterFor:function(t){return function(r){var e;if(!c(r)||(e=o(r)).type!==t)throw TypeError(\"Incompatible receiver, \"+t+\" required\");return e}}}},7659:function(t,r,e){var n=e(5112),o=e(7497),i=n(\"iterator\"),u=Array.prototype;t.exports=function(t){return void 0!==t&&(o.Array===t||u[i]===t)}},4705:function(t,r,e){var n=e(7293),o=/#|\\\\.prototype\\\\./,i=function(t,r){var e=a[u(t)];return e==s||e!=c&&(\"function\"==typeof r?n(r):!!r)},u=i.normalize=function(t){return String(t).replace(o,\".\").toLowerCase()},a=i.data={},c=i.NATIVE=\"N\",s=i.POLYFILL=\"P\";t.exports=i},111:function(t){t.exports=function(t){return\"object\"==typeof t?null!==t:\"function\"==typeof t}},1913:function(t){t.exports=!1},7850:function(t,r,e){var n=e(111),o=e(4326),i=e(5112)(\"match\");t.exports=function(t){var r;return n(t)&&(void 0!==(r=t[i])?!!r:\"RegExp\"==o(t))}},408:function(t,r,e){var n=e(9670),o=e(7659),i=e(7466),u=e(9974),a=e(1246),c=e(3411),s=function(t,r){this.stopped=t,this.result=r};(t.exports=function(t,r,e,f,l){var p,h,d,v,y,g,b,m=u(r,e,f?2:1);if(l)p=t;else{if(\"function\"!=typeof(h=a(t)))throw TypeError(\"Target is not iterable\");if(o(h)){for(d=0,v=i(t.length);v>d;d++)if((y=f?m(n(b=t[d])[0],b[1]):m(t[d]))&&y instanceof s)return y;return new s(!1)}p=h.call(t)}for(g=p.next;!(b=g.call(p)).done;)if(\"object\"==typeof(y=c(p,m,b.value,f))&&y&&y instanceof s)return y;return new s(!1)}).stop=function(t){return new s(!0,t)}},3383:function(t,r,e){\"use strict\";var n,o,i,u=e(9518),a=e(8880),c=e(6656),s=e(5112),f=e(1913),l=s(\"iterator\"),p=!1;[].keys&&(\"next\"in(i=[].keys())?(o=u(u(i)))!==Object.prototype&&(n=o):p=!0),null==n&&(n={}),f||c(n,l)||a(n,l,(function(){return this})),t.exports={IteratorPrototype:n,BUGGY_SAFARI_ITERATORS:p}},7497:function(t){t.exports={}},5948:function(t,r,e){var n,o,i,u,a,c,s,f,l=e(7854),p=e(1236).f,h=e(4326),d=e(261).set,v=e(6833),y=l.MutationObserver||l.WebKitMutationObserver,g=l.process,b=l.Promise,m=\"process\"==h(g),w=p(l,\"queueMicrotask\"),x=w&&w.value;x||(n=function(){var t,r;for(m&&(t=g.domain)&&t.exit();o;){r=o.fn,o=o.next;try{r()}catch(t){throw o?u():i=void 0,t}}i=void 0,t&&t.enter()},m?u=function(){g.nextTick(n)}:y&&!v?(a=!0,c=document.createTextNode(\"\"),new y(n).observe(c,{characterData:!0}),u=function(){c.data=a=!a}):b&&b.resolve?(s=b.resolve(void 0),f=s.then,u=function(){f.call(s,n)}):u=function(){d.call(l,n)}),t.exports=x||function(t){var r={fn:t,next:void 0};i&&(i.next=r),o||(o=r,u()),i=r}},3366:function(t,r,e){var n=e(7854);t.exports=n.Promise},133:function(t,r,e){var n=e(7293);t.exports=!!Object.getOwnPropertySymbols&&!n((function(){return!String(Symbol())}))},8536:function(t,r,e){var n=e(7854),o=e(2788),i=n.WeakMap;t.exports=\"function\"==typeof i&&/native code/.test(o(i))},8523:function(t,r,e){\"use strict\";var n=e(3099),o=function(t){var r,e;this.promise=new t((function(t,n){if(void 0!==r||void 0!==e)throw TypeError(\"Bad Promise constructor\");r=t,e=n})),this.resolve=n(r),this.reject=n(e)};t.exports.f=function(t){return new o(t)}},3929:function(t,r,e){var n=e(7850);t.exports=function(t){if(n(t))throw TypeError(\"The method doesn\\'t accept regular expressions\");return t}},30:function(t,r,e){var n,o=e(9670),i=e(6048),u=e(748),a=e(3501),c=e(490),s=e(317),f=e(6200),l=f(\"IE_PROTO\"),p=function(){},h=function(t){return\"<script>\"+t+\"</\"+\"script>\"},d=function(){try{n=document.domain&&new ActiveXObject(\"htmlfile\")}catch(t){}var t,r;d=n?function(t){t.write(h(\"\")),t.close();var r=t.parentWindow.Object;return t=null,r}(n):((r=s(\"iframe\")).style.display=\"none\",c.appendChild(r),r.src=String(\"javascript:\"),(t=r.contentWindow.document).open(),t.write(h(\"document.F=Object\")),t.close(),t.F);for(var e=u.length;e--;)delete d.prototype[u[e]];return d()};a[l]=!0,t.exports=Object.create||function(t,r){var e;return null!==t?(p.prototype=o(t),e=new p,p.prototype=null,e[l]=t):e=d(),void 0===r?e:i(e,r)}},6048:function(t,r,e){var n=e(9781),o=e(3070),i=e(9670),u=e(1956);t.exports=n?Object.defineProperties:function(t,r){i(t);for(var e,n=u(r),a=n.length,c=0;a>c;)o.f(t,e=n[c++],r[e]);return t}},3070:function(t,r,e){var n=e(9781),o=e(4664),i=e(9670),u=e(7593),a=Object.defineProperty;r.f=n?a:function(t,r,e){if(i(t),r=u(r,!0),i(e),o)try{return a(t,r,e)}catch(t){}if(\"get\"in e||\"set\"in e)throw TypeError(\"Accessors not supported\");return\"value\"in e&&(t[r]=e.value),t}},1236:function(t,r,e){var n=e(9781),o=e(5296),i=e(9114),u=e(5656),a=e(7593),c=e(6656),s=e(4664),f=Object.getOwnPropertyDescriptor;r.f=n?f:function(t,r){if(t=u(t),r=a(r,!0),s)try{return f(t,r)}catch(t){}if(c(t,r))return i(!o.f.call(t,r),t[r])}},8006:function(t,r,e){var n=e(6324),o=e(748).concat(\"length\",\"prototype\");r.f=Object.getOwnPropertyNames||function(t){return n(t,o)}},5181:function(t,r){r.f=Object.getOwnPropertySymbols},9518:function(t,r,e){var n=e(6656),o=e(7908),i=e(6200),u=e(8544),a=i(\"IE_PROTO\"),c=Object.prototype;t.exports=u?Object.getPrototypeOf:function(t){return t=o(t),n(t,a)?t[a]:\"function\"==typeof t.constructor&&t instanceof t.constructor?t.constructor.prototype:t instanceof Object?c:null}},6324:function(t,r,e){var n=e(6656),o=e(5656),i=e(1318).indexOf,u=e(3501);t.exports=function(t,r){var e,a=o(t),c=0,s=[];for(e in a)!n(u,e)&&n(a,e)&&s.push(e);for(;r.length>c;)n(a,e=r[c++])&&(~i(s,e)||s.push(e));return s}},1956:function(t,r,e){var n=e(6324),o=e(748);t.exports=Object.keys||function(t){return n(t,o)}},5296:function(t,r){\"use strict\";var e={}.propertyIsEnumerable,n=Object.getOwnPropertyDescriptor,o=n&&!e.call({1:2},1);r.f=o?function(t){var r=n(this,t);return!!r&&r.enumerable}:e},7674:function(t,r,e){var n=e(9670),o=e(6077);t.exports=Object.setPrototypeOf||(\"__proto__\"in{}?function(){var t,r=!1,e={};try{(t=Object.getOwnPropertyDescriptor(Object.prototype,\"__proto__\").set).call(e,[]),r=e instanceof Array}catch(t){}return function(e,i){return n(e),o(i),r?t.call(e,i):e.__proto__=i,e}}():void 0)},288:function(t,r,e){\"use strict\";var n=e(1694),o=e(648);t.exports=n?{}.toString:function(){return\"[object \"+o(this)+\"]\"}},3887:function(t,r,e){var n=e(5005),o=e(8006),i=e(5181),u=e(9670);t.exports=n(\"Reflect\",\"ownKeys\")||function(t){var r=o.f(u(t)),e=i.f;return e?r.concat(e(t)):r}},857:function(t,r,e){var n=e(7854);t.exports=n},2534:function(t){t.exports=function(t){try{return{error:!1,value:t()}}catch(t){return{error:!0,value:t}}}},9478:function(t,r,e){var n=e(9670),o=e(111),i=e(8523);t.exports=function(t,r){if(n(t),o(r)&&r.constructor===t)return r;var e=i.f(t);return(0,e.resolve)(r),e.promise}},2248:function(t,r,e){var n=e(1320);t.exports=function(t,r,e){for(var o in r)n(t,o,r[o],e);return t}},1320:function(t,r,e){var n=e(7854),o=e(8880),i=e(6656),u=e(3505),a=e(2788),c=e(9909),s=c.get,f=c.enforce,l=String(String).split(\"String\");(t.exports=function(t,r,e,a){var c=!!a&&!!a.unsafe,s=!!a&&!!a.enumerable,p=!!a&&!!a.noTargetGet;\"function\"==typeof e&&(\"string\"!=typeof r||i(e,\"name\")||o(e,\"name\",r),f(e).source=l.join(\"string\"==typeof r?r:\"\")),t!==n?(c?!p&&t[r]&&(s=!0):delete t[r],s?t[r]=e:o(t,r,e)):s?t[r]=e:u(r,e)})(Function.prototype,\"toString\",(function(){return\"function\"==typeof this&&s(this).source||a(this)}))},7651:function(t,r,e){var n=e(4326),o=e(2261);t.exports=function(t,r){var e=t.exec;if(\"function\"==typeof e){var i=e.call(t,r);if(\"object\"!=typeof i)throw TypeError(\"RegExp exec method returned something other than an Object or null\");return i}if(\"RegExp\"!==n(t))throw TypeError(\"RegExp#exec called on incompatible receiver\");return o.call(t,r)}},2261:function(t,r,e){\"use strict\";var n,o,i=e(7066),u=e(2999),a=RegExp.prototype.exec,c=String.prototype.replace,s=a,f=(n=/a/,o=/b*/g,a.call(n,\"a\"),a.call(o,\"a\"),0!==n.lastIndex||0!==o.lastIndex),l=u.UNSUPPORTED_Y||u.BROKEN_CARET,p=void 0!==/()??/.exec(\"\")[1];(f||p||l)&&(s=function(t){var r,e,n,o,u=this,s=l&&u.sticky,h=i.call(u),d=u.source,v=0,y=t;return s&&(-1===(h=h.replace(\"y\",\"\")).indexOf(\"g\")&&(h+=\"g\"),y=String(t).slice(u.lastIndex),u.lastIndex>0&&(!u.multiline||u.multiline&&\"\\\\n\"!==t[u.lastIndex-1])&&(d=\"(?: \"+d+\")\",y=\" \"+y,v++),e=new RegExp(\"^(?:\"+d+\")\",h)),p&&(e=new RegExp(\"^\"+d+\"$(?!\\\\\\\\s)\",h)),f&&(r=u.lastIndex),n=a.call(s?e:u,y),s?n?(n.input=n.input.slice(v),n[0]=n[0].slice(v),n.index=u.lastIndex,u.lastIndex+=n[0].length):u.lastIndex=0:f&&n&&(u.lastIndex=u.global?n.index+n[0].length:r),p&&n&&n.length>1&&c.call(n[0],e,(function(){for(o=1;o<arguments.length-2;o++)void 0===arguments[o]&&(n[o]=void 0)})),n}),t.exports=s},7066:function(t,r,e){\"use strict\";var n=e(9670);t.exports=function(){var t=n(this),r=\"\";return t.global&&(r+=\"g\"),t.ignoreCase&&(r+=\"i\"),t.multiline&&(r+=\"m\"),t.dotAll&&(r+=\"s\"),t.unicode&&(r+=\"u\"),t.sticky&&(r+=\"y\"),r}},2999:function(t,r,e){\"use strict\";var n=e(7293);function o(t,r){return RegExp(t,r)}r.UNSUPPORTED_Y=n((function(){var t=o(\"a\",\"y\");return t.lastIndex=2,null!=t.exec(\"abcd\")})),r.BROKEN_CARET=n((function(){var t=o(\"^r\",\"gy\");return t.lastIndex=2,null!=t.exec(\"str\")}))},4488:function(t){t.exports=function(t){if(null==t)throw TypeError(\"Can\\'t call method on \"+t);return t}},6029:function(t){t.exports=Object.is||function(t,r){return t===r?0!==t||1/t==1/r:t!=t&&r!=r}},3505:function(t,r,e){var n=e(7854),o=e(8880);t.exports=function(t,r){try{o(n,t,r)}catch(e){n[t]=r}return r}},6340:function(t,r,e){\"use strict\";var n=e(5005),o=e(3070),i=e(5112),u=e(9781),a=i(\"species\");t.exports=function(t){var r=n(t),e=o.f;u&&r&&!r[a]&&e(r,a,{configurable:!0,get:function(){return this}})}},8003:function(t,r,e){var n=e(3070).f,o=e(6656),i=e(5112)(\"toStringTag\");t.exports=function(t,r,e){t&&!o(t=e?t:t.prototype,i)&&n(t,i,{configurable:!0,value:r})}},6200:function(t,r,e){var n=e(2309),o=e(9711),i=n(\"keys\");t.exports=function(t){return i[t]||(i[t]=o(t))}},5465:function(t,r,e){var n=e(7854),o=e(3505),i=\"__core-js_shared__\",u=n[i]||o(i,{});t.exports=u},2309:function(t,r,e){var n=e(1913),o=e(5465);(t.exports=function(t,r){return o[t]||(o[t]=void 0!==r?r:{})})(\"versions\",[]).push({version:\"3.6.5\",mode:n?\"pure\":\"global\",copyright:\"© 2020 Denis Pushkarev (zloirock.ru)\"})},6707:function(t,r,e){var n=e(9670),o=e(3099),i=e(5112)(\"species\");t.exports=function(t,r){var e,u=n(t).constructor;return void 0===u||null==(e=n(u)[i])?r:o(e)}},3429:function(t,r,e){var n=e(7293);t.exports=function(t){return n((function(){var r=\"\"[t](\\'\"\\');return r!==r.toLowerCase()||r.split(\\'\"\\').length>3}))}},8710:function(t,r,e){var n=e(9958),o=e(4488),i=function(t){return function(r,e){var i,u,a=String(o(r)),c=n(e),s=a.length;return c<0||c>=s?t?\"\":void 0:(i=a.charCodeAt(c))<55296||i>56319||c+1===s||(u=a.charCodeAt(c+1))<56320||u>57343?t?a.charAt(c):i:t?a.slice(c,c+2):u-56320+(i-55296<<10)+65536}};t.exports={codeAt:i(!1),charAt:i(!0)}},4986:function(t,r,e){var n=e(8113);t.exports=/Version\\\\/10\\\\.\\\\d+(\\\\.\\\\d+)?( Mobile\\\\/\\\\w+)? Safari\\\\//.test(n)},6650:function(t,r,e){var n=e(7466),o=e(8415),i=e(4488),u=Math.ceil,a=function(t){return function(r,e,a){var c,s,f=String(i(r)),l=f.length,p=void 0===a?\" \":String(a),h=n(e);return h<=l||\"\"==p?f:(c=h-l,(s=o.call(p,u(c/p.length))).length>c&&(s=s.slice(0,c)),t?f+s:s+f)}};t.exports={start:a(!1),end:a(!0)}},8415:function(t,r,e){\"use strict\";var n=e(9958),o=e(4488);t.exports=\"\".repeat||function(t){var r=String(o(this)),e=\"\",i=n(t);if(i<0||i==1/0)throw RangeError(\"Wrong number of repetitions\");for(;i>0;(i>>>=1)&&(r+=r))1&i&&(e+=r);return e}},6091:function(t,r,e){var n=e(7293),o=e(1361);t.exports=function(t){return n((function(){return!!o[t]()||\"\\u200b\\x85\\u180e\"!=\"\\u200b\\x85\\u180e\"[t]()||o[t].name!==t}))}},3111:function(t,r,e){var n=e(4488),o=\"[\"+e(1361)+\"]\",i=RegExp(\"^\"+o+o+\"*\"),u=RegExp(o+o+\"*$\"),a=function(t){return function(r){var e=String(n(r));return 1&t&&(e=e.replace(i,\"\")),2&t&&(e=e.replace(u,\"\")),e}};t.exports={start:a(1),end:a(2),trim:a(3)}},261:function(t,r,e){var n,o,i,u=e(7854),a=e(7293),c=e(4326),s=e(9974),f=e(490),l=e(317),p=e(6833),h=u.location,d=u.setImmediate,v=u.clearImmediate,y=u.process,g=u.MessageChannel,b=u.Dispatch,m=0,w={},x=\"onreadystatechange\",S=function(t){if(w.hasOwnProperty(t)){var r=w[t];delete w[t],r()}},E=function(t){return function(){S(t)}},_=function(t){S(t.data)},O=function(t){u.postMessage(t+\"\",h.protocol+\"//\"+h.host)};d&&v||(d=function(t){for(var r=[],e=1;arguments.length>e;)r.push(arguments[e++]);return w[++m]=function(){(\"function\"==typeof t?t:Function(t)).apply(void 0,r)},n(m),m},v=function(t){delete w[t]},\"process\"==c(y)?n=function(t){y.nextTick(E(t))}:b&&b.now?n=function(t){b.now(E(t))}:g&&!p?(i=(o=new g).port2,o.port1.onmessage=_,n=s(i.postMessage,i,1)):!u.addEventListener||\"function\"!=typeof postMessage||u.importScripts||a(O)||\"file:\"===h.protocol?n=x in l(\"script\")?function(t){f.appendChild(l(\"script\")).onreadystatechange=function(){f.removeChild(this),S(t)}}:function(t){setTimeout(E(t),0)}:(n=O,u.addEventListener(\"message\",_,!1))),t.exports={set:d,clear:v}},1400:function(t,r,e){var n=e(9958),o=Math.max,i=Math.min;t.exports=function(t,r){var e=n(t);return e<0?o(e+r,0):i(e,r)}},5656:function(t,r,e){var n=e(8361),o=e(4488);t.exports=function(t){return n(o(t))}},9958:function(t){var r=Math.ceil,e=Math.floor;t.exports=function(t){return isNaN(t=+t)?0:(t>0?e:r)(t)}},7466:function(t,r,e){var n=e(9958),o=Math.min;t.exports=function(t){return t>0?o(n(t),9007199254740991):0}},7908:function(t,r,e){var n=e(4488);t.exports=function(t){return Object(n(t))}},7593:function(t,r,e){var n=e(111);t.exports=function(t,r){if(!n(t))return t;var e,o;if(r&&\"function\"==typeof(e=t.toString)&&!n(o=e.call(t)))return o;if(\"function\"==typeof(e=t.valueOf)&&!n(o=e.call(t)))return o;if(!r&&\"function\"==typeof(e=t.toString)&&!n(o=e.call(t)))return o;throw TypeError(\"Can\\'t convert object to primitive value\")}},1694:function(t,r,e){var n={};n[e(5112)(\"toStringTag\")]=\"z\",t.exports=\"[object z]\"===String(n)},9711:function(t){var r=0,e=Math.random();t.exports=function(t){return\"Symbol(\"+String(void 0===t?\"\":t)+\")_\"+(++r+e).toString(36)}},3307:function(t,r,e){var n=e(133);t.exports=n&&!Symbol.sham&&\"symbol\"==typeof Symbol.iterator},5112:function(t,r,e){var n=e(7854),o=e(2309),i=e(6656),u=e(9711),a=e(133),c=e(3307),s=o(\"wks\"),f=n.Symbol,l=c?f:f&&f.withoutSetter||u;t.exports=function(t){return i(s,t)||(a&&i(f,t)?s[t]=f[t]:s[t]=l(\"Symbol.\"+t)),s[t]}},1361:function(t){t.exports=\"\\\\t\\\\n\\\\v\\\\f\\\\r \\xa0\\u1680\\u2000\\u2001\\u2002\\u2003\\u2004\\u2005\\u2006\\u2007\\u2008\\u2009\\u200a\\u202f\\u205f\\u3000\\\\u2028\\\\u2029\\\\ufeff\"},6992:function(t,r,e){\"use strict\";var n=e(5656),o=e(1223),i=e(7497),u=e(9909),a=e(654),c=\"Array Iterator\",s=u.set,f=u.getterFor(c);t.exports=a(Array,\"Array\",(function(t,r){s(this,{type:c,target:n(t),index:0,kind:r})}),(function(){var t=f(this),r=t.target,e=t.kind,n=t.index++;return!r||n>=r.length?(t.target=void 0,{value:void 0,done:!0}):\"keys\"==e?{value:n,done:!1}:\"values\"==e?{value:r[n],done:!1}:{value:[n,r[n]],done:!1}}),\"values\"),i.Arguments=i.Array,o(\"keys\"),o(\"values\"),o(\"entries\")},1539:function(t,r,e){var n=e(1694),o=e(1320),i=e(288);n||o(Object.prototype,\"toString\",i,{unsafe:!0})},7922:function(t,r,e){\"use strict\";var n=e(2109),o=e(3099),i=e(8523),u=e(2534),a=e(408);n({target:\"Promise\",stat:!0},{allSettled:function(t){var r=this,e=i.f(r),n=e.resolve,c=e.reject,s=u((function(){var e=o(r.resolve),i=[],u=0,c=1;a(t,(function(t){var o=u++,a=!1;i.push(void 0),c++,e.call(r,t).then((function(t){a||(a=!0,i[o]={status:\"fulfilled\",value:t},--c||n(i))}),(function(t){a||(a=!0,i[o]={status:\"rejected\",reason:t},--c||n(i))}))})),--c||n(i)}));return s.error&&c(s.value),e.promise}})},7727:function(t,r,e){\"use strict\";var n=e(2109),o=e(1913),i=e(3366),u=e(7293),a=e(5005),c=e(6707),s=e(9478),f=e(1320);n({target:\"Promise\",proto:!0,real:!0,forced:!!i&&u((function(){i.prototype.finally.call({then:function(){}},(function(){}))}))},{finally:function(t){var r=c(this,a(\"Promise\")),e=\"function\"==typeof t;return this.then(e?function(e){return s(r,t()).then((function(){return e}))}:t,e?function(e){return s(r,t()).then((function(){throw e}))}:t)}}),o||\"function\"!=typeof i||i.prototype.finally||f(i.prototype,\"finally\",a(\"Promise\").prototype.finally)},8674:function(t,r,e){\"use strict\";var n,o,i,u,a=e(2109),c=e(1913),s=e(7854),f=e(5005),l=e(3366),p=e(1320),h=e(2248),d=e(8003),v=e(6340),y=e(111),g=e(3099),b=e(5787),m=e(4326),w=e(2788),x=e(408),S=e(7072),E=e(6707),_=e(261).set,O=e(5948),T=e(9478),P=e(842),j=e(8523),A=e(2534),I=e(9909),R=e(4705),L=e(5112),k=e(7392),C=L(\"species\"),D=\"Promise\",B=I.get,U=I.set,F=I.getterFor(D),M=l,N=s.TypeError,G=s.document,X=s.process,H=f(\"fetch\"),$=j.f,q=$,W=\"process\"==m(X),V=!!(G&&G.createEvent&&s.dispatchEvent),z=\"unhandledrejection\",K=R(D,(function(){if(!(w(M)!==String(M))){if(66===k)return!0;if(!W&&\"function\"!=typeof PromiseRejectionEvent)return!0}if(c&&!M.prototype.finally)return!0;if(k>=51&&/native code/.test(M))return!1;var t=M.resolve(1),r=function(t){t((function(){}),(function(){}))};return(t.constructor={})[C]=r,!(t.then((function(){}))instanceof r)})),Y=K||!S((function(t){M.all(t).catch((function(){}))})),J=function(t){var r;return!(!y(t)||\"function\"!=typeof(r=t.then))&&r},Q=function(t,r,e){if(!r.notified){r.notified=!0;var n=r.reactions;O((function(){for(var o=r.value,i=1==r.state,u=0;n.length>u;){var a,c,s,f=n[u++],l=i?f.ok:f.fail,p=f.resolve,h=f.reject,d=f.domain;try{l?(i||(2===r.rejection&&et(t,r),r.rejection=1),!0===l?a=o:(d&&d.enter(),a=l(o),d&&(d.exit(),s=!0)),a===f.promise?h(N(\"Promise-chain cycle\")):(c=J(a))?c.call(a,p,h):p(a)):h(o)}catch(t){d&&!s&&d.exit(),h(t)}}r.reactions=[],r.notified=!1,e&&!r.rejection&&tt(t,r)}))}},Z=function(t,r,e){var n,o;V?((n=G.createEvent(\"Event\")).promise=r,n.reason=e,n.initEvent(t,!1,!0),s.dispatchEvent(n)):n={promise:r,reason:e},(o=s[\"on\"+t])?o(n):t===z&&P(\"Unhandled promise rejection\",e)},tt=function(t,r){_.call(s,(function(){var e,n=r.value;if(rt(r)&&(e=A((function(){W?X.emit(\"unhandledRejection\",n,t):Z(z,t,n)})),r.rejection=W||rt(r)?2:1,e.error))throw e.value}))},rt=function(t){return 1!==t.rejection&&!t.parent},et=function(t,r){_.call(s,(function(){W?X.emit(\"rejectionHandled\",t):Z(\"rejectionhandled\",t,r.value)}))},nt=function(t,r,e,n){return function(o){t(r,e,o,n)}},ot=function(t,r,e,n){r.done||(r.done=!0,n&&(r=n),r.value=e,r.state=2,Q(t,r,!0))},it=function(t,r,e,n){if(!r.done){r.done=!0,n&&(r=n);try{if(t===e)throw N(\"Promise can\\'t be resolved itself\");var o=J(e);o?O((function(){var n={done:!1};try{o.call(e,nt(it,t,n,r),nt(ot,t,n,r))}catch(e){ot(t,n,e,r)}})):(r.value=e,r.state=1,Q(t,r,!1))}catch(e){ot(t,{done:!1},e,r)}}};K&&(M=function(t){b(this,M,D),g(t),n.call(this);var r=B(this);try{t(nt(it,this,r),nt(ot,this,r))}catch(t){ot(this,r,t)}},(n=function(t){U(this,{type:D,done:!1,notified:!1,parent:!1,reactions:[],rejection:!1,state:0,value:void 0})}).prototype=h(M.prototype,{then:function(t,r){var e=F(this),n=$(E(this,M));return n.ok=\"function\"!=typeof t||t,n.fail=\"function\"==typeof r&&r,n.domain=W?X.domain:void 0,e.parent=!0,e.reactions.push(n),0!=e.state&&Q(this,e,!1),n.promise},catch:function(t){return this.then(void 0,t)}}),o=function(){var t=new n,r=B(t);this.promise=t,this.resolve=nt(it,t,r),this.reject=nt(ot,t,r)},j.f=$=function(t){return t===M||t===i?new o(t):q(t)},c||\"function\"!=typeof l||(u=l.prototype.then,p(l.prototype,\"then\",(function(t,r){var e=this;return new M((function(t,r){u.call(e,t,r)})).then(t,r)}),{unsafe:!0}),\"function\"==typeof H&&a({global:!0,enumerable:!0,forced:!0},{fetch:function(t){return T(M,H.apply(s,arguments))}}))),a({global:!0,wrap:!0,forced:K},{Promise:M}),d(M,D,!1,!0),v(D),i=f(D),a({target:D,stat:!0,forced:K},{reject:function(t){var r=$(this);return r.reject.call(void 0,t),r.promise}}),a({target:D,stat:!0,forced:c||K},{resolve:function(t){return T(c&&this===i?M:this,t)}}),a({target:D,stat:!0,forced:Y},{all:function(t){var r=this,e=$(r),n=e.resolve,o=e.reject,i=A((function(){var e=g(r.resolve),i=[],u=0,a=1;x(t,(function(t){var c=u++,s=!1;i.push(void 0),a++,e.call(r,t).then((function(t){s||(s=!0,i[c]=t,--a||n(i))}),o)})),--a||n(i)}));return i.error&&o(i.value),e.promise},race:function(t){var r=this,e=$(r),n=e.reject,o=A((function(){var o=g(r.resolve);x(t,(function(t){o.call(r,t).then(e.resolve,n)}))}));return o.error&&n(o.value),e.promise}})},4916:function(t,r,e){\"use strict\";var n=e(2109),o=e(2261);n({target:\"RegExp\",proto:!0,forced:/./.exec!==o},{exec:o})},5218:function(t,r,e){\"use strict\";var n=e(2109),o=e(4230);n({target:\"String\",proto:!0,forced:e(3429)(\"anchor\")},{anchor:function(t){return o(this,\"a\",\"name\",t)}})},4475:function(t,r,e){\"use strict\";var n=e(2109),o=e(4230);n({target:\"String\",proto:!0,forced:e(3429)(\"big\")},{big:function(){return o(this,\"big\",\"\",\"\")}})},7929:function(t,r,e){\"use strict\";var n=e(2109),o=e(4230);n({target:\"String\",proto:!0,forced:e(3429)(\"blink\")},{blink:function(){return o(this,\"blink\",\"\",\"\")}})},915:function(t,r,e){\"use strict\";var n=e(2109),o=e(4230);n({target:\"String\",proto:!0,forced:e(3429)(\"bold\")},{bold:function(){return o(this,\"b\",\"\",\"\")}})},9841:function(t,r,e){\"use strict\";var n=e(2109),o=e(8710).codeAt;n({target:\"String\",proto:!0},{codePointAt:function(t){return o(this,t)}})},7852:function(t,r,e){\"use strict\";var n,o=e(2109),i=e(1236).f,u=e(7466),a=e(3929),c=e(4488),s=e(4964),f=e(1913),l=\"\".endsWith,p=Math.min,h=s(\"endsWith\");o({target:\"String\",proto:!0,forced:!!(f||h||(n=i(String.prototype,\"endsWith\"),!n||n.writable))&&!h},{endsWith:function(t){var r=String(c(this));a(t);var e=arguments.length>1?arguments[1]:void 0,n=u(r.length),o=void 0===e?n:p(u(e),n),i=String(t);return l?l.call(r,i,o):r.slice(o-i.length,o)===i}})},9253:function(t,r,e){\"use strict\";var n=e(2109),o=e(4230);n({target:\"String\",proto:!0,forced:e(3429)(\"fixed\")},{fixed:function(){return o(this,\"tt\",\"\",\"\")}})},2125:function(t,r,e){\"use strict\";var n=e(2109),o=e(4230);n({target:\"String\",proto:!0,forced:e(3429)(\"fontcolor\")},{fontcolor:function(t){return o(this,\"font\",\"color\",t)}})},8830:function(t,r,e){\"use strict\";var n=e(2109),o=e(4230);n({target:\"String\",proto:!0,forced:e(3429)(\"fontsize\")},{fontsize:function(t){return o(this,\"font\",\"size\",t)}})},4953:function(t,r,e){var n=e(2109),o=e(1400),i=String.fromCharCode,u=String.fromCodePoint;n({target:\"String\",stat:!0,forced:!!u&&1!=u.length},{fromCodePoint:function(t){for(var r,e=[],n=arguments.length,u=0;n>u;){if(r=+arguments[u++],o(r,1114111)!==r)throw RangeError(r+\" is not a valid code point\");e.push(r<65536?i(r):i(55296+((r-=65536)>>10),r%1024+56320))}return e.join(\"\")}})},2023:function(t,r,e){\"use strict\";var n=e(2109),o=e(3929),i=e(4488);n({target:\"String\",proto:!0,forced:!e(4964)(\"includes\")},{includes:function(t){return!!~String(i(this)).indexOf(o(t),arguments.length>1?arguments[1]:void 0)}})},8734:function(t,r,e){\"use strict\";var n=e(2109),o=e(4230);n({target:\"String\",proto:!0,forced:e(3429)(\"italics\")},{italics:function(){return o(this,\"i\",\"\",\"\")}})},8783:function(t,r,e){\"use strict\";var n=e(8710).charAt,o=e(9909),i=e(654),u=\"String Iterator\",a=o.set,c=o.getterFor(u);i(String,\"String\",(function(t){a(this,{type:u,string:String(t),index:0})}),(function(){var t,r=c(this),e=r.string,o=r.index;return o>=e.length?{value:void 0,done:!0}:(t=n(e,o),r.index+=t.length,{value:t,done:!1})}))},9254:function(t,r,e){\"use strict\";var n=e(2109),o=e(4230);n({target:\"String\",proto:!0,forced:e(3429)(\"link\")},{link:function(t){return o(this,\"a\",\"href\",t)}})},6373:function(t,r,e){\"use strict\";var n=e(2109),o=e(4994),i=e(4488),u=e(7466),a=e(3099),c=e(9670),s=e(4326),f=e(7850),l=e(7066),p=e(8880),h=e(7293),d=e(5112),v=e(6707),y=e(1530),g=e(9909),b=e(1913),m=d(\"matchAll\"),w=\"RegExp String\",x=\"RegExp String Iterator\",S=g.set,E=g.getterFor(x),_=RegExp.prototype,O=_.exec,T=\"\".matchAll,P=!!T&&!h((function(){\"a\".matchAll(/./)})),j=o((function(t,r,e,n){S(this,{type:x,regexp:t,string:r,global:e,unicode:n,done:!1})}),w,(function(){var t=E(this);if(t.done)return{value:void 0,done:!0};var r=t.regexp,e=t.string,n=function(t,r){var e,n=t.exec;if(\"function\"==typeof n){if(\"object\"!=typeof(e=n.call(t,r)))throw TypeError(\"Incorrect exec result\");return e}return O.call(t,r)}(r,e);return null===n?{value:void 0,done:t.done=!0}:t.global?(\"\"==String(n[0])&&(r.lastIndex=y(e,u(r.lastIndex),t.unicode)),{value:n,done:!1}):(t.done=!0,{value:n,done:!1})})),A=function(t){var r,e,n,o,i,a,s=c(this),f=String(t);return r=v(s,RegExp),void 0===(e=s.flags)&&s instanceof RegExp&&!(\"flags\"in _)&&(e=l.call(s)),n=void 0===e?\"\":String(e),o=new r(r===RegExp?s.source:s,n),i=!!~n.indexOf(\"g\"),a=!!~n.indexOf(\"u\"),o.lastIndex=u(s.lastIndex),new j(o,f,i,a)};n({target:\"String\",proto:!0,forced:P},{matchAll:function(t){var r,e,n,o=i(this);if(null!=t){if(f(t)&&!~String(i(\"flags\"in _?t.flags:l.call(t))).indexOf(\"g\"))throw TypeError(\"`.matchAll` does not allow non-global regexes\");if(P)return T.apply(o,arguments);if(void 0===(e=t[m])&&b&&\"RegExp\"==s(t)&&(e=A),null!=e)return a(e).call(t,o)}else if(P)return T.apply(o,arguments);return r=String(o),n=new RegExp(t,\"g\"),b?A.call(n,r):n[m](r)}}),b||m in _||p(_,m,A)},4723:function(t,r,e){\"use strict\";var n=e(7007),o=e(9670),i=e(7466),u=e(4488),a=e(1530),c=e(7651);n(\"match\",1,(function(t,r,e){return[function(r){var e=u(this),n=null==r?void 0:r[t];return void 0!==n?n.call(r,e):new RegExp(r)[t](String(e))},function(t){var n=e(r,t,this);if(n.done)return n.value;var u=o(t),s=String(this);if(!u.global)return c(u,s);var f=u.unicode;u.lastIndex=0;for(var l,p=[],h=0;null!==(l=c(u,s));){var d=String(l[0]);p[h]=d,\"\"===d&&(u.lastIndex=a(s,i(u.lastIndex),f)),h++}return 0===h?null:p}]}))},6528:function(t,r,e){\"use strict\";var n=e(2109),o=e(6650).end;n({target:\"String\",proto:!0,forced:e(4986)},{padEnd:function(t){return o(this,t,arguments.length>1?arguments[1]:void 0)}})},3112:function(t,r,e){\"use strict\";var n=e(2109),o=e(6650).start;n({target:\"String\",proto:!0,forced:e(4986)},{padStart:function(t){return o(this,t,arguments.length>1?arguments[1]:void 0)}})},8992:function(t,r,e){var n=e(2109),o=e(5656),i=e(7466);n({target:\"String\",stat:!0},{raw:function(t){for(var r=o(t.raw),e=i(r.length),n=arguments.length,u=[],a=0;e>a;)u.push(String(r[a++])),a<n&&u.push(String(arguments[a]));return u.join(\"\")}})},2481:function(t,r,e){e(2109)({target:\"String\",proto:!0},{repeat:e(8415)})},5306:function(t,r,e){\"use strict\";var n=e(7007),o=e(9670),i=e(7908),u=e(7466),a=e(9958),c=e(4488),s=e(1530),f=e(7651),l=Math.max,p=Math.min,h=Math.floor,d=/\\\\$([$&\\'`]|\\\\d\\\\d?|<[^>]*>)/g,v=/\\\\$([$&\\'`]|\\\\d\\\\d?)/g;n(\"replace\",2,(function(t,r,e,n){var y=n.REGEXP_REPLACE_SUBSTITUTES_UNDEFINED_CAPTURE,g=n.REPLACE_KEEPS_$0,b=y?\"$\":\"$0\";return[function(e,n){var o=c(this),i=null==e?void 0:e[t];return void 0!==i?i.call(e,o,n):r.call(String(o),e,n)},function(t,n){if(!y&&g||\"string\"==typeof n&&-1===n.indexOf(b)){var i=e(r,t,this,n);if(i.done)return i.value}var c=o(t),h=String(this),d=\"function\"==typeof n;d||(n=String(n));var v=c.global;if(v){var w=c.unicode;c.lastIndex=0}for(var x=[];;){var S=f(c,h);if(null===S)break;if(x.push(S),!v)break;\"\"===String(S[0])&&(c.lastIndex=s(h,u(c.lastIndex),w))}for(var E,_=\"\",O=0,T=0;T<x.length;T++){S=x[T];for(var P=String(S[0]),j=l(p(a(S.index),h.length),0),A=[],I=1;I<S.length;I++)A.push(void 0===(E=S[I])?E:String(E));var R=S.groups;if(d){var L=[P].concat(A,j,h);void 0!==R&&L.push(R);var k=String(n.apply(void 0,L))}else k=m(P,h,j,A,R,n);j>=O&&(_+=h.slice(O,j)+k,O=j+P.length)}return _+h.slice(O)}];function m(t,e,n,o,u,a){var c=n+t.length,s=o.length,f=v;return void 0!==u&&(u=i(u),f=d),r.call(a,f,(function(r,i){var a;switch(i.charAt(0)){case\"$\":return\"$\";case\"&\":return t;case\"`\":return e.slice(0,n);case\"\\'\":return e.slice(c);case\"<\":a=u[i.slice(1,-1)];break;default:var f=+i;if(0===f)return r;if(f>s){var l=h(f/10);return 0===l?r:l<=s?void 0===o[l-1]?i.charAt(1):o[l-1]+i.charAt(1):r}a=o[f-1]}return void 0===a?\"\":a}))}}))},4765:function(t,r,e){\"use strict\";var n=e(7007),o=e(9670),i=e(4488),u=e(6029),a=e(7651);n(\"search\",1,(function(t,r,e){return[function(r){var e=i(this),n=null==r?void 0:r[t];return void 0!==n?n.call(r,e):new RegExp(r)[t](String(e))},function(t){var n=e(r,t,this);if(n.done)return n.value;var i=o(t),c=String(this),s=i.lastIndex;u(s,0)||(i.lastIndex=0);var f=a(i,c);return u(i.lastIndex,s)||(i.lastIndex=s),null===f?-1:f.index}]}))},7268:function(t,r,e){\"use strict\";var n=e(2109),o=e(4230);n({target:\"String\",proto:!0,forced:e(3429)(\"small\")},{small:function(){return o(this,\"small\",\"\",\"\")}})},3123:function(t,r,e){\"use strict\";var n=e(7007),o=e(7850),i=e(9670),u=e(4488),a=e(6707),c=e(1530),s=e(7466),f=e(7651),l=e(2261),p=e(7293),h=[].push,d=Math.min,v=4294967295,y=!p((function(){return!RegExp(v,\"y\")}));n(\"split\",2,(function(t,r,e){var n;return n=\"c\"==\"abbc\".split(/(b)*/)[1]||4!=\"test\".split(/(?:)/,-1).length||2!=\"ab\".split(/(?:ab)*/).length||4!=\".\".split(/(.?)(.?)/).length||\".\".split(/()()/).length>1||\"\".split(/.?/).length?function(t,e){var n=String(u(this)),i=void 0===e?v:e>>>0;if(0===i)return[];if(void 0===t)return[n];if(!o(t))return r.call(n,t,i);for(var a,c,s,f=[],p=(t.ignoreCase?\"i\":\"\")+(t.multiline?\"m\":\"\")+(t.unicode?\"u\":\"\")+(t.sticky?\"y\":\"\"),d=0,y=new RegExp(t.source,p+\"g\");(a=l.call(y,n))&&!((c=y.lastIndex)>d&&(f.push(n.slice(d,a.index)),a.length>1&&a.index<n.length&&h.apply(f,a.slice(1)),s=a[0].length,d=c,f.length>=i));)y.lastIndex===a.index&&y.lastIndex++;return d===n.length?!s&&y.test(\"\")||f.push(\"\"):f.push(n.slice(d)),f.length>i?f.slice(0,i):f}:\"0\".split(void 0,0).length?function(t,e){return void 0===t&&0===e?[]:r.call(this,t,e)}:r,[function(r,e){var o=u(this),i=null==r?void 0:r[t];return void 0!==i?i.call(r,o,e):n.call(String(o),r,e)},function(t,o){var u=e(n,t,this,o,n!==r);if(u.done)return u.value;var l=i(t),p=String(this),h=a(l,RegExp),g=l.unicode,b=(l.ignoreCase?\"i\":\"\")+(l.multiline?\"m\":\"\")+(l.unicode?\"u\":\"\")+(y?\"y\":\"g\"),m=new h(y?l:\"^(?:\"+l.source+\")\",b),w=void 0===o?v:o>>>0;if(0===w)return[];if(0===p.length)return null===f(m,p)?[p]:[];for(var x=0,S=0,E=[];S<p.length;){m.lastIndex=y?S:0;var _,O=f(m,y?p:p.slice(S));if(null===O||(_=d(s(m.lastIndex+(y?0:S)),p.length))===x)S=c(p,S,g);else{if(E.push(p.slice(x,S)),E.length===w)return E;for(var T=1;T<=O.length-1;T++)if(E.push(O[T]),E.length===w)return E;S=x=_}}return E.push(p.slice(x)),E}]}),!y)},3157:function(t,r,e){\"use strict\";var n,o=e(2109),i=e(1236).f,u=e(7466),a=e(3929),c=e(4488),s=e(4964),f=e(1913),l=\"\".startsWith,p=Math.min,h=s(\"startsWith\");o({target:\"String\",proto:!0,forced:!!(f||h||(n=i(String.prototype,\"startsWith\"),!n||n.writable))&&!h},{startsWith:function(t){var r=String(c(this));a(t);var e=u(p(arguments.length>1?arguments[1]:void 0,r.length)),n=String(t);return l?l.call(r,n,e):r.slice(e,e+n.length)===n}})},7397:function(t,r,e){\"use strict\";var n=e(2109),o=e(4230);n({target:\"String\",proto:!0,forced:e(3429)(\"strike\")},{strike:function(){return o(this,\"strike\",\"\",\"\")}})},86:function(t,r,e){\"use strict\";var n=e(2109),o=e(4230);n({target:\"String\",proto:!0,forced:e(3429)(\"sub\")},{sub:function(){return o(this,\"sub\",\"\",\"\")}})},623:function(t,r,e){\"use strict\";var n=e(2109),o=e(4230);n({target:\"String\",proto:!0,forced:e(3429)(\"sup\")},{sup:function(){return o(this,\"sup\",\"\",\"\")}})},8702:function(t,r,e){\"use strict\";var n=e(2109),o=e(3111).end,i=e(6091)(\"trimEnd\"),u=i?function(){return o(this)}:\"\".trimEnd;n({target:\"String\",proto:!0,forced:i},{trimEnd:u,trimRight:u})},5674:function(t,r,e){\"use strict\";var n=e(2109),o=e(3111).start,i=e(6091)(\"trimStart\"),u=i?function(){return o(this)}:\"\".trimStart;n({target:\"String\",proto:!0,forced:i},{trimStart:u,trimLeft:u})},3210:function(t,r,e){\"use strict\";var n=e(2109),o=e(3111).trim;n({target:\"String\",proto:!0,forced:e(6091)(\"trim\")},{trim:function(){return o(this)}})},3948:function(t,r,e){var n=e(7854),o=e(8324),i=e(6992),u=e(8880),a=e(5112),c=a(\"iterator\"),s=a(\"toStringTag\"),f=i.values;for(var l in o){var p=n[l],h=p&&p.prototype;if(h){if(h[c]!==f)try{u(h,c,f)}catch(t){h[c]=f}if(h[s]||u(h,s,l),o[l])for(var d in i)if(h[d]!==i[d])try{u(h,d,i[d])}catch(t){h[d]=i[d]}}}},1150:function(t,r,e){var n=e(7633);t.exports=n},9712:function(t,r,e){var n=e(1111);t.exports=n},5666:function(t){var r=function(t){\"use strict\";var r,e=Object.prototype,n=e.hasOwnProperty,o=\"function\"==typeof Symbol?Symbol:{},i=o.iterator||\"@@iterator\",u=o.asyncIterator||\"@@asyncIterator\",a=o.toStringTag||\"@@toStringTag\";function c(t,r,e){return Object.defineProperty(t,r,{value:e,enumerable:!0,configurable:!0,writable:!0}),t[r]}try{c({},\"\")}catch(t){c=function(t,r,e){return t[r]=e}}function s(t,r,e,n){var o=r&&r.prototype instanceof y?r:y,i=Object.create(o.prototype),u=new j(n||[]);return i._invoke=function(t,r,e){var n=l;return function(o,i){if(n===h)throw new Error(\"Generator is already running\");if(n===d){if(\"throw\"===o)throw i;return I()}for(e.method=o,e.arg=i;;){var u=e.delegate;if(u){var a=O(u,e);if(a){if(a===v)continue;return a}}if(\"next\"===e.method)e.sent=e._sent=e.arg;else if(\"throw\"===e.method){if(n===l)throw n=d,e.arg;e.dispatchException(e.arg)}else\"return\"===e.method&&e.abrupt(\"return\",e.arg);n=h;var c=f(t,r,e);if(\"normal\"===c.type){if(n=e.done?d:p,c.arg===v)continue;return{value:c.arg,done:e.done}}\"throw\"===c.type&&(n=d,e.method=\"throw\",e.arg=c.arg)}}}(t,e,u),i}function f(t,r,e){try{return{type:\"normal\",arg:t.call(r,e)}}catch(t){return{type:\"throw\",arg:t}}}t.wrap=s;var l=\"suspendedStart\",p=\"suspendedYield\",h=\"executing\",d=\"completed\",v={};function y(){}function g(){}function b(){}var m={};m[i]=function(){return this};var w=Object.getPrototypeOf,x=w&&w(w(A([])));x&&x!==e&&n.call(x,i)&&(m=x);var S=b.prototype=y.prototype=Object.create(m);function E(t){[\"next\",\"throw\",\"return\"].forEach((function(r){c(t,r,(function(t){return this._invoke(r,t)}))}))}function _(t,r){function e(o,i,u,a){var c=f(t[o],t,i);if(\"throw\"!==c.type){var s=c.arg,l=s.value;return l&&\"object\"==typeof l&&n.call(l,\"__await\")?r.resolve(l.__await).then((function(t){e(\"next\",t,u,a)}),(function(t){e(\"throw\",t,u,a)})):r.resolve(l).then((function(t){s.value=t,u(s)}),(function(t){return e(\"throw\",t,u,a)}))}a(c.arg)}var o;this._invoke=function(t,n){function i(){return new r((function(r,o){e(t,n,r,o)}))}return o=o?o.then(i,i):i()}}function O(t,e){var n=t.iterator[e.method];if(n===r){if(e.delegate=null,\"throw\"===e.method){if(t.iterator.return&&(e.method=\"return\",e.arg=r,O(t,e),\"throw\"===e.method))return v;e.method=\"throw\",e.arg=new TypeError(\"The iterator does not provide a \\'throw\\' method\")}return v}var o=f(n,t.iterator,e.arg);if(\"throw\"===o.type)return e.method=\"throw\",e.arg=o.arg,e.delegate=null,v;var i=o.arg;return i?i.done?(e[t.resultName]=i.value,e.next=t.nextLoc,\"return\"!==e.method&&(e.method=\"next\",e.arg=r),e.delegate=null,v):i:(e.method=\"throw\",e.arg=new TypeError(\"iterator result is not an object\"),e.delegate=null,v)}function T(t){var r={tryLoc:t[0]};1 in t&&(r.catchLoc=t[1]),2 in t&&(r.finallyLoc=t[2],r.afterLoc=t[3]),this.tryEntries.push(r)}function P(t){var r=t.completion||{};r.type=\"normal\",delete r.arg,t.completion=r}function j(t){this.tryEntries=[{tryLoc:\"root\"}],t.forEach(T,this),this.reset(!0)}function A(t){if(t){var e=t[i];if(e)return e.call(t);if(\"function\"==typeof t.next)return t;if(!isNaN(t.length)){var o=-1,u=function e(){for(;++o<t.length;)if(n.call(t,o))return e.value=t[o],e.done=!1,e;return e.value=r,e.done=!0,e};return u.next=u}}return{next:I}}function I(){return{value:r,done:!0}}return g.prototype=S.constructor=b,b.constructor=g,g.displayName=c(b,a,\"GeneratorFunction\"),t.isGeneratorFunction=function(t){var r=\"function\"==typeof t&&t.constructor;return!!r&&(r===g||\"GeneratorFunction\"===(r.displayName||r.name))},t.mark=function(t){return Object.setPrototypeOf?Object.setPrototypeOf(t,b):(t.__proto__=b,c(t,a,\"GeneratorFunction\")),t.prototype=Object.create(S),t},t.awrap=function(t){return{__await:t}},E(_.prototype),_.prototype[u]=function(){return this},t.AsyncIterator=_,t.async=function(r,e,n,o,i){void 0===i&&(i=Promise);var u=new _(s(r,e,n,o),i);return t.isGeneratorFunction(e)?u:u.next().then((function(t){return t.done?t.value:u.next()}))},E(S),c(S,a,\"Generator\"),S[i]=function(){return this},S.toString=function(){return\"[object Generator]\"},t.keys=function(t){var r=[];for(var e in t)r.push(e);return r.reverse(),function e(){for(;r.length;){var n=r.pop();if(n in t)return e.value=n,e.done=!1,e}return e.done=!0,e}},t.values=A,j.prototype={constructor:j,reset:function(t){if(this.prev=0,this.next=0,this.sent=this._sent=r,this.done=!1,this.delegate=null,this.method=\"next\",this.arg=r,this.tryEntries.forEach(P),!t)for(var e in this)\"t\"===e.charAt(0)&&n.call(this,e)&&!isNaN(+e.slice(1))&&(this[e]=r)},stop:function(){this.done=!0;var t=this.tryEntries[0].completion;if(\"throw\"===t.type)throw t.arg;return this.rval},dispatchException:function(t){if(this.done)throw t;var e=this;function o(n,o){return a.type=\"throw\",a.arg=t,e.next=n,o&&(e.method=\"next\",e.arg=r),!!o}for(var i=this.tryEntries.length-1;i>=0;--i){var u=this.tryEntries[i],a=u.completion;if(\"root\"===u.tryLoc)return o(\"end\");if(u.tryLoc<=this.prev){var c=n.call(u,\"catchLoc\"),s=n.call(u,\"finallyLoc\");if(c&&s){if(this.prev<u.catchLoc)return o(u.catchLoc,!0);if(this.prev<u.finallyLoc)return o(u.finallyLoc)}else if(c){if(this.prev<u.catchLoc)return o(u.catchLoc,!0)}else{if(!s)throw new Error(\"try statement without catch or finally\");if(this.prev<u.finallyLoc)return o(u.finallyLoc)}}}},abrupt:function(t,r){for(var e=this.tryEntries.length-1;e>=0;--e){var o=this.tryEntries[e];if(o.tryLoc<=this.prev&&n.call(o,\"finallyLoc\")&&this.prev<o.finallyLoc){var i=o;break}}i&&(\"break\"===t||\"continue\"===t)&&i.tryLoc<=r&&r<=i.finallyLoc&&(i=null);var u=i?i.completion:{};return u.type=t,u.arg=r,i?(this.method=\"next\",this.next=i.finallyLoc,v):this.complete(u)},complete:function(t,r){if(\"throw\"===t.type)throw t.arg;return\"break\"===t.type||\"continue\"===t.type?this.next=t.arg:\"return\"===t.type?(this.rval=this.arg=t.arg,this.method=\"return\",this.next=\"end\"):\"normal\"===t.type&&r&&(this.next=r),v},finish:function(t){for(var r=this.tryEntries.length-1;r>=0;--r){var e=this.tryEntries[r];if(e.finallyLoc===t)return this.complete(e.completion,e.afterLoc),P(e),v}},catch:function(t){for(var r=this.tryEntries.length-1;r>=0;--r){var e=this.tryEntries[r];if(e.tryLoc===t){var n=e.completion;if(\"throw\"===n.type){var o=n.arg;P(e)}return o}}throw new Error(\"illegal catch attempt\")},delegateYield:function(t,e,n){return this.delegate={iterator:A(t),resultName:e,nextLoc:n},\"next\"===this.method&&(this.arg=r),v}},t}(t.exports);try{regeneratorRuntime=r}catch(t){Function(\"r\",\"regeneratorRuntime = r\")(r)}},7147:function(t,r,e){\"use strict\";var n=\"undefined\"!=typeof globalThis&&globalThis||\"undefined\"!=typeof self&&self||void 0!==n&&n,o=\"URLSearchParams\"in n,i=\"Symbol\"in n&&\"iterator\"in Symbol,u=\"FileReader\"in n&&\"Blob\"in n&&function(){try{return new Blob,!0}catch(t){return!1}}(),a=\"FormData\"in n,c=\"ArrayBuffer\"in n;if(c)var s=[\"[object Int8Array]\",\"[object Uint8Array]\",\"[object Uint8ClampedArray]\",\"[object Int16Array]\",\"[object Uint16Array]\",\"[object Int32Array]\",\"[object Uint32Array]\",\"[object Float32Array]\",\"[object Float64Array]\"],f=ArrayBuffer.isView||function(t){return t&&s.indexOf(Object.prototype.toString.call(t))>-1};function l(t){if(\"string\"!=typeof t&&(t=String(t)),/[^a-z0-9\\\\-#$%&\\'*+.^_`|~!]/i.test(t)||\"\"===t)throw new TypeError(\"Invalid character in header field name\");return t.toLowerCase()}function p(t){return\"string\"!=typeof t&&(t=String(t)),t}function h(t){var r={next:function(){var r=t.shift();return{done:void 0===r,value:r}}};return i&&(r[Symbol.iterator]=function(){return r}),r}function d(t){this.map={},t instanceof d?t.forEach((function(t,r){this.append(r,t)}),this):Array.isArray(t)?t.forEach((function(t){this.append(t[0],t[1])}),this):t&&Object.getOwnPropertyNames(t).forEach((function(r){this.append(r,t[r])}),this)}function v(t){if(t.bodyUsed)return Promise.reject(new TypeError(\"Already read\"));t.bodyUsed=!0}function y(t){return new Promise((function(r,e){t.onload=function(){r(t.result)},t.onerror=function(){e(t.error)}}))}function g(t){var r=new FileReader,e=y(r);return r.readAsArrayBuffer(t),e}function b(t){if(t.slice)return t.slice(0);var r=new Uint8Array(t.byteLength);return r.set(new Uint8Array(t)),r.buffer}function m(){return this.bodyUsed=!1,this._initBody=function(t){var r;this.bodyUsed=this.bodyUsed,this._bodyInit=t,t?\"string\"==typeof t?this._bodyText=t:u&&Blob.prototype.isPrototypeOf(t)?this._bodyBlob=t:a&&FormData.prototype.isPrototypeOf(t)?this._bodyFormData=t:o&&URLSearchParams.prototype.isPrototypeOf(t)?this._bodyText=t.toString():c&&u&&((r=t)&&DataView.prototype.isPrototypeOf(r))?(this._bodyArrayBuffer=b(t.buffer),this._bodyInit=new Blob([this._bodyArrayBuffer])):c&&(ArrayBuffer.prototype.isPrototypeOf(t)||f(t))?this._bodyArrayBuffer=b(t):this._bodyText=t=Object.prototype.toString.call(t):this._bodyText=\"\",this.headers.get(\"content-type\")||(\"string\"==typeof t?this.headers.set(\"content-type\",\"text/plain;charset=UTF-8\"):this._bodyBlob&&this._bodyBlob.type?this.headers.set(\"content-type\",this._bodyBlob.type):o&&URLSearchParams.prototype.isPrototypeOf(t)&&this.headers.set(\"content-type\",\"application/x-www-form-urlencoded;charset=UTF-8\"))},u&&(this.blob=function(){var t=v(this);if(t)return t;if(this._bodyBlob)return Promise.resolve(this._bodyBlob);if(this._bodyArrayBuffer)return Promise.resolve(new Blob([this._bodyArrayBuffer]));if(this._bodyFormData)throw new Error(\"could not read FormData body as blob\");return Promise.resolve(new Blob([this._bodyText]))},this.arrayBuffer=function(){if(this._bodyArrayBuffer){var t=v(this);return t||(ArrayBuffer.isView(this._bodyArrayBuffer)?Promise.resolve(this._bodyArrayBuffer.buffer.slice(this._bodyArrayBuffer.byteOffset,this._bodyArrayBuffer.byteOffset+this._bodyArrayBuffer.byteLength)):Promise.resolve(this._bodyArrayBuffer))}return this.blob().then(g)}),this.text=function(){var t,r,e,n=v(this);if(n)return n;if(this._bodyBlob)return t=this._bodyBlob,r=new FileReader,e=y(r),r.readAsText(t),e;if(this._bodyArrayBuffer)return Promise.resolve(function(t){for(var r=new Uint8Array(t),e=new Array(r.length),n=0;n<r.length;n++)e[n]=String.fromCharCode(r[n]);return e.join(\"\")}(this._bodyArrayBuffer));if(this._bodyFormData)throw new Error(\"could not read FormData body as text\");return Promise.resolve(this._bodyText)},a&&(this.formData=function(){return this.text().then(S)}),this.json=function(){return this.text().then(JSON.parse)},this}d.prototype.append=function(t,r){t=l(t),r=p(r);var e=this.map[t];this.map[t]=e?e+\", \"+r:r},d.prototype.delete=function(t){delete this.map[l(t)]},d.prototype.get=function(t){return t=l(t),this.has(t)?this.map[t]:null},d.prototype.has=function(t){return this.map.hasOwnProperty(l(t))},d.prototype.set=function(t,r){this.map[l(t)]=p(r)},d.prototype.forEach=function(t,r){for(var e in this.map)this.map.hasOwnProperty(e)&&t.call(r,this.map[e],e,this)},d.prototype.keys=function(){var t=[];return this.forEach((function(r,e){t.push(e)})),h(t)},d.prototype.values=function(){var t=[];return this.forEach((function(r){t.push(r)})),h(t)},d.prototype.entries=function(){var t=[];return this.forEach((function(r,e){t.push([e,r])})),h(t)},i&&(d.prototype[Symbol.iterator]=d.prototype.entries);var w=[\"DELETE\",\"GET\",\"HEAD\",\"OPTIONS\",\"POST\",\"PUT\"];function x(t,r){if(!(this instanceof x))throw new TypeError(\\'Please use the \"new\" operator, this DOM object constructor cannot be called as a function.\\');var e,n,o=(r=r||{}).body;if(t instanceof x){if(t.bodyUsed)throw new TypeError(\"Already read\");this.url=t.url,this.credentials=t.credentials,r.headers||(this.headers=new d(t.headers)),this.method=t.method,this.mode=t.mode,this.signal=t.signal,o||null==t._bodyInit||(o=t._bodyInit,t.bodyUsed=!0)}else this.url=String(t);if(this.credentials=r.credentials||this.credentials||\"same-origin\",!r.headers&&this.headers||(this.headers=new d(r.headers)),this.method=(e=r.method||this.method||\"GET\",n=e.toUpperCase(),w.indexOf(n)>-1?n:e),this.mode=r.mode||this.mode||null,this.signal=r.signal||this.signal,this.referrer=null,(\"GET\"===this.method||\"HEAD\"===this.method)&&o)throw new TypeError(\"Body not allowed for GET or HEAD requests\");if(this._initBody(o),!(\"GET\"!==this.method&&\"HEAD\"!==this.method||\"no-store\"!==r.cache&&\"no-cache\"!==r.cache)){var i=/([?&])_=[^&]*/;if(i.test(this.url))this.url=this.url.replace(i,\"$1_=\"+(new Date).getTime());else{this.url+=(/\\\\?/.test(this.url)?\"&\":\"?\")+\"_=\"+(new Date).getTime()}}}function S(t){var r=new FormData;return t.trim().split(\"&\").forEach((function(t){if(t){var e=t.split(\"=\"),n=e.shift().replace(/\\\\+/g,\" \"),o=e.join(\"=\").replace(/\\\\+/g,\" \");r.append(decodeURIComponent(n),decodeURIComponent(o))}})),r}function E(t,r){if(!(this instanceof E))throw new TypeError(\\'Please use the \"new\" operator, this DOM object constructor cannot be called as a function.\\');r||(r={}),this.type=\"default\",this.status=void 0===r.status?200:r.status,this.ok=this.status>=200&&this.status<300,this.statusText=\"statusText\"in r?r.statusText:\"\",this.headers=new d(r.headers),this.url=r.url||\"\",this._initBody(t)}x.prototype.clone=function(){return new x(this,{body:this._bodyInit})},m.call(x.prototype),m.call(E.prototype),E.prototype.clone=function(){return new E(this._bodyInit,{status:this.status,statusText:this.statusText,headers:new d(this.headers),url:this.url})},E.error=function(){var t=new E(null,{status:0,statusText:\"\"});return t.type=\"error\",t};var _=[301,302,303,307,308];E.redirect=function(t,r){if(-1===_.indexOf(r))throw new RangeError(\"Invalid status code\");return new E(null,{status:r,headers:{location:t}})};var O=n.DOMException;try{new O}catch(t){(O=function(t,r){this.message=t,this.name=r;var e=Error(t);this.stack=e.stack}).prototype=Object.create(Error.prototype),O.prototype.constructor=O}function T(t,r){return new Promise((function(e,o){var i=new x(t,r);if(i.signal&&i.signal.aborted)return o(new O(\"Aborted\",\"AbortError\"));var a=new XMLHttpRequest;function s(){a.abort()}a.onload=function(){var t,r,n={status:a.status,statusText:a.statusText,headers:(t=a.getAllResponseHeaders()||\"\",r=new d,t.replace(/\\\\r?\\\\n[\\\\t ]+/g,\" \").split(/\\\\r?\\\\n/).forEach((function(t){var e=t.split(\":\"),n=e.shift().trim();if(n){var o=e.join(\":\").trim();r.append(n,o)}})),r)};n.url=\"responseURL\"in a?a.responseURL:n.headers.get(\"X-Request-URL\");var o=\"response\"in a?a.response:a.responseText;setTimeout((function(){e(new E(o,n))}),0)},a.onerror=function(){setTimeout((function(){o(new TypeError(\"Network request failed\"))}),0)},a.ontimeout=function(){setTimeout((function(){o(new TypeError(\"Network request failed\"))}),0)},a.onabort=function(){setTimeout((function(){o(new O(\"Aborted\",\"AbortError\"))}),0)},a.open(i.method,function(t){try{return\"\"===t&&n.location.href?n.location.href:t}catch(r){return t}}(i.url),!0),\"include\"===i.credentials?a.withCredentials=!0:\"omit\"===i.credentials&&(a.withCredentials=!1),\"responseType\"in a&&(u?a.responseType=\"blob\":c&&i.headers.get(\"Content-Type\")&&-1!==i.headers.get(\"Content-Type\").indexOf(\"application/octet-stream\")&&(a.responseType=\"arraybuffer\")),!r||\"object\"!=typeof r.headers||r.headers instanceof d?i.headers.forEach((function(t,r){a.setRequestHeader(r,t)})):Object.getOwnPropertyNames(r.headers).forEach((function(t){a.setRequestHeader(t,p(r.headers[t]))})),i.signal&&(i.signal.addEventListener(\"abort\",s),a.onreadystatechange=function(){4===a.readyState&&i.signal.removeEventListener(\"abort\",s)}),a.send(void 0===i._bodyInit?null:i._bodyInit)}))}T.polyfill=!0,n.fetch||(n.fetch=T,n.Headers=d,n.Request=x,n.Response=E)}},r={};function e(n){if(r[n])return r[n].exports;var o=r[n]={exports:{}};return t[n](o,o.exports,e),o.exports}e.d=function(t,r){for(var n in r)e.o(r,n)&&!e.o(t,n)&&Object.defineProperty(t,n,{enumerable:!0,get:r[n]})},e.g=function(){if(\"object\"==typeof globalThis)return globalThis;try{return this||new Function(\"return this\")()}catch(t){if(\"object\"==typeof window)return window}}(),e.o=function(t,r){return Object.prototype.hasOwnProperty.call(t,r)},e(5666),e(1150),e(9712),e(7147),e(1391),e(9135)}();(function() {if (!window.require) {throw new Error(\\'idcta: could not find require module\\');}if (typeof(map) == \\'undefined\\') {var map = {};}if (!!document.createElementNS && !!document.createElementNS(\\'http://www.w3.org/2000/svg\\', \\'svg\\').createSVGRect) {document.documentElement.className += \\' id-svg\\';}var ptrt = new RegExp(\"[\\\\\\\\?&]ptrt=([^&]*)\").exec(document.location.href);var ENDPOINT_URL = \\'https://idcta.api.bbc.co.uk\\';var ENDPOINT_CONFIG = (\\'/idcta/config?callback=&ptrt=\\' + encodeURIComponent((ptrt ? ptrt[1] : document.location.href))).replace(/\\\\&amp;/g, \\'&\\');var ENDPOINT_TRANSLATIONS = \\'/idcta/translations?callback=\\';function hasPromise() {var P = window.Promise;var promiseToString = null;if (P) {try {promiseToString = Object.prototype.toString.call(P.resolve());} catch(e) {/*silently ignored*/}}return (promiseToString === \\'[object Promise]\\' && !P.cast);}if (hasPromise()) {define(\\'idcta/es6-promise\\', function() {return window.Promise;});define(\\'idcta-v2/es6-promise\\', function() {return window.Promise;});}map[\\'idcta-v2\\'] = \\'https://static.files.bbci.co.uk/account/id-cta/1.53.0/modules/idcta-v2\\';map[\\'idcta-v2/config\\'] = ENDPOINT_URL + ENDPOINT_CONFIG;map[\\'idcta-v2/translations\\'] = ENDPOINT_URL + ENDPOINT_TRANSLATIONS;map[\\'idcta\\'] = \\'https://static.files.bbci.co.uk/account/id-cta/1.8.2/modules/idcta\\';map[\\'idcta-v2/idcta-1\\'] = \\'https://static.files.bbci.co.uk/account/id-cta/1.53.0/modules/idcta-v2/dist/idcta-1.min\\';map[\\'idcta-v2/experiment-snippet\\'] = \\'https://cdn.optimizely.com/public/4621041136/s/idcta_live\\';const idctaShim = {deps: [\\'idcta-v2/idcta-1\\'],};require({shim: {\\'idcta-v2/statusbar\\': idctaShim,\\'idcta-v2/id-config\\': idctaShim},map: {\\'*\\': {\\'idcta/idcta-1\\': \\'idcta-v2/idcta-1\\',\\'idcta\\': \\'idcta-v2\\',}},paths: map});window.idctaBaseUrl = ENDPOINT_URL;define(\\'idcta/config\\', [\\'idcta-v2/config\\'], function(data) {return data;});define(\\'idcta/translations\\', [\\'idcta-v2/translations\\'], function(data) {return data;});})();// Globally available search context\\n  window.SEARCHBOX={\"variant\":\"default\",\"locale\":\"en\",\"feature\":\"forge-free\",\"navSearchboxStaticPrefix\":\"https://nav.files.bbci.co.uk/searchbox/f8f1f2fe025bd744351a195a6b0840ee/\",\"searchboxAppStaticPrefix\":\"https://nav.files.bbci.co.uk/searchbox/f8f1f2fe025bd744351a195a6b0840ee/drawer\",\"searchFormHtml\":\"<div tabindex=\\\\\"-1\\\\\"><div><section class=\\\\\"se-searchbox-panel\\\\\"><div class=\\\\\"se-g-wrap\\\\\"><div class=\\\\\"se-g-layout\\\\\"><div class=\\\\\"se-g-layout__item se-searchbox-title\\\\\" aria-hidden=\\\\\"true\\\\\">search</div><div class=\\\\\"se-g-layout__item se-searchbox\\\\\"><form accept-charset=\\\\\"utf-8\\\\\" id=\\\\\"searchboxDrawerForm\\\\\" method=\\\\\"get\\\\\" action=\\\\\"https://search.bbc.co.uk/search\\\\\"><label class=\\\\\"se-searchbox__input\\\\\" for=\\\\\"se-searchbox-input-field\\\\\"><span class=\\\\\"se-sr-only\\\\\">Search Term</span><div><input type=\\\\\"text\\\\\" name=\\\\\"q\\\\\" value=\\\\\"\\\\\" id=\\\\\"se-searchbox-input-field\\\\\" class=\\\\\"se-searchbox__input__field\\\\\" maxLength=\\\\\"100\\\\\" autoComplete=\\\\\"off\\\\\" autoCorrect=\\\\\"off\\\\\" autoCapitalize=\\\\\"off\\\\\" spellcheck=\\\\\"false\\\\\" tabindex=\\\\\"0\\\\\"/></div></label><input type=\\\\\"hidden\\\\\" name=\\\\\"scope\\\\\" value=\\\\\"\\\\\"/><button type=\\\\\"submit\\\\\" class=\\\\\"se-searchbox__submit\\\\\" tabindex=\\\\\"0\\\\\" data-bbc-container=\\\\\"se-searchbox-panel\\\\\" data-bbc-title=\\\\\"search-icon\\\\\" data-bbc-metadata=\\\\\"{&quot;PAR&quot;:&quot;form::1&quot;,&quot;CHD&quot;:&quot;button::1&quot;}\\\\\" data-bbc-personalisation=\\\\\"{&quot;QRY&quot;:&quot;&quot;}\\\\\">Search</button><button type=\\\\\"button\\\\\" class=\\\\\"se-searchbox__clear se-searchbox__clear--visible\\\\\" tabindex=\\\\\"0\\\\\" data-bbc-container=\\\\\"se-searchbox-panel\\\\\" data-bbc-title=\\\\\"clear-icon\\\\\" data-bbc-metadata=\\\\\"{&quot;PAR&quot;:&quot;form::1&quot;,&quot;CHD&quot;:&quot;button::2&quot;}\\\\\" data-bbc-personalisation=\\\\\"{&quot;QRY&quot;:&quot;&quot;}\\\\\">Close</button></form></div></div></div></section><div aria-live=\\\\\"polite\\\\\" aria-atomic=\\\\\"true\\\\\" class=\\\\\"se-suggestions-container\\\\\"><section class=\\\\\"se-g-wrap\\\\\"></section></div></div></div>\",\"searchScopePlaceholder\":\"\",\"searchScopeParam\":\"\",\"searchScopeTemplate\":\"\",\"searchPlaceholderWrapperStart\":\"\",\"searchPlaceholderWrapperEnd\":\"\"};\\n  window.SEARCHBOX.searchScope = SEARCHBOX.searchScopeTemplate.split(\\'-\\')[0];if (window.define !==  undefined) {\\n        define(\\'orb/cookies\\', function() {\\n          return window.bbccookies;\\n        });\\n      }window.__detectview={clickManagementEnabled:false};\"use strict\";!function(){window.__reverbStaticLocation=\"https://mybbc-analytics.files.bbci.co.uk/reverb-client-js/\",window.__smarttagVersion=\"5.22.0\",window.__reverb={},window.__reverb.__reverbLoadedPromise=new Promise(function(e,n){window.__reverb.__resolveReverbLoaded=e,window.__reverb.__rejectReverbLoaded=n}),window.__reverb.__reverbTimeout=setTimeout(function(){window.__reverb.__rejectReverbLoaded()},5e3);var n=function(r,d){window.__reverb.__reverbLoadedPromise.then(function(e){if(r&&r.detail){var n=r.detail.label,t=r.detail.type,i=r.detail.elem,o=r.detail.originalEvent;r.detail.isClick&&(d=r.detail.isClick),e.userActionEvent(t,n,r.detail,i,o,d)}},function(){console.log(\"Reverb failed to load. Event not sent\")})};document.addEventListener(\"bbc-user-event\",function(e){n(e,!1)}),document.addEventListener(\"bbc-user-click\",function(e){n(e,!0)}),document.addEventListener(\"bbc-page-updated\",function(){window.__reverb.__reverbLoadedPromise.then(function(e){e.initialise().then(function(){return e.viewEvent()})},function(){console.log(\"Reverb failed to load. Event not sent\")})})}();const adsDebug=/[?|&]ads-debug/.test(window.location.href);var bbcdotcomForgeAsync=!0,googletag=googletag||{};googletag.cmd=googletag.cmd||[],bbcdotcomScripts=[],tp=window.tp||[],_comscore=window._comscore||[];var bbcdotcom={test:/test/.test(window.location.hostname),adverts:{keyValues:{},breakpoints:{}},advert:{write:function(){},show:function(){},isActive:function(){return!1},layout:function(){return{reset:function(){}}}},config:{init:function(){},isAvailable:function(){return new Promise(function(t){bbcdotcom.resolves?bbcdotcom.resolves.isAvailable.push(t):t(!1)})},isAdsEnabledAsync:function(){return new Promise(function(t){bbcdotcom.resolves?bbcdotcom.resolves.adsEnabled.push(t):t(!1)})},isAnalyticsEnabledAsync:function(){return new Promise(function(t){bbcdotcom.resolves?bbcdotcom.resolves.analyticsEnabled.push(t):t(!1)})},setSections:function(){},setAdsEnabled:function(){},setAnalyticsEnabled:function(){},setAssetPrefix:function(){},setFlagpoles:function(){},setVersion:function(){},setJsPrefix:function(){},setSwfPrefix:function(){},setCssPrefix:function(){},setConfig:function(){},getAssetPrefix:function(){},getJsPrefix:function(){},getSwfPrefix:function(){},getCssPrefix:function(){},isOptimizelyEnabled:function(){},isThirdPartyDisabled:function(){},isThirdPartyDisabledEU:function(){},setEU:function(){}},survey:{init:function(){return!1}},data:{},init:function(){},objects:function(t){return!1},locale:{set:function(){},get:function(){}},setAdKeyValue:function(){},utils:{addEvent:function(){},addHtmlTagClass:function(){},log:function(){}},addLoadEvent:function(){},resolves:{isAvailable:[],adsEnabled:[],analyticsEnabled:[]},resolvePromises:function(){if(bbcdotcom.resolves){for(var t=0;t<bbcdotcom.resolves.isAvailable.length;t++)bbcdotcom.resolves.isAvailable[t](!1);delete bbcdotcom.resolves}},flag:{a:!1,s:!1},asyncCmd:[],isSportApp:function(){var t=window.location.pathname;return void 0!==t&&-1!==t.indexOf(\".app\")&&0===t.indexOf(\"/sport\")},init:function(t){bbcdotcom.asyncCmd.push(function(){bbcdotcom.init(t)})},slotAsync:function(t,n,o,e){bbcdotcom.asyncCmd.push(function(){bbcdotcom.slotAsync(t,n,o,e)})}};bbcdotcom.adverts.slotAsync=function(t,n,o){bbcdotcom.asyncCmd.push(function(){bbcdotcom.adverts.slotAsync(t,n,o)})},bbcdotcom.config.isAdsEnabled=function(){var t=window.location.pathname;return void 0===t||0!==t.indexOf(\"/sport\")||-1===t.indexOf(\".app\")},bbcdotcom.config.isActive=function(){var t=window.location.pathname;return void 0===t||0!==t.indexOf(\"/sport\")||-1===t.indexOf(\".app\")},bbcdotcom.config.isAnalyticsEnabled=function(){return!0},bbcdotcom.registerAd=function(t,n,o){bbcdotcom.asyncCmd.push(function(){bbcdotcom.registerAd(t,n,o)})},bbcdotcom.setAdUnit=function(t){bbcdotcom.asyncCmd.push(function(){bbcdotcom.setAdUnit(t)})},bbcdotcom.adverts.adUnit={},bbcdotcom.adverts.adUnit.setUid=function(t){bbcdotcom.asyncCmd.push(function(){bbcdotcom.adverts.adUnit.setUid(t)})},bbcdotcom.setConfig=function(t){bbcdotcom.asyncCmd.push(function(){bbcdotcom.setConfig(t)})},bbcdotcom.setAdKeyValue=function(t,n){bbcdotcom.asyncCmd.push(function(){bbcdotcom.setAdKeyValue(t,n)})},bbcdotcom.getFeature=function(){return{isEnabled:function(){return!0}}},bbcdotcom.setAdKeyValue=function(t,n){bbcdotcom.asyncCmd.push(function(){bbcdotcom.adverts.keyValues.set(t,n)})},bbcdotcom.adverts.keyValues.set=function(t,n){bbcdotcom.asyncCmd.push(function(){bbcdotcom.adverts.keyValues.set(t,n)})},bbcdotcom.adverts.keyValues.unset=function(t){bbcdotcom.asyncCmd.push(function(){bbcdotcom.adverts.keyValues.unset(t)})},bbcdotcom.pubsub={},bbcdotcom.pubsub.on=function(t,n){bbcdotcom.asyncCmd.push(function(){bbcdotcom.pubsub.on(t,n)})},bbcdotcom.pubsub.off=function(t,n){bbcdotcom.asyncCmd.push(function(){bbcdotcom.pubsub.off(t,n)})},bbcdotcom.analytics={},bbcdotcom.analytics.page=function(t){bbcdotcom.asyncCmd.push(function(){bbcdotcom.analytics.page(t)})},bbcdotcom.av={emp:{adverts:\"\"}},bbcdotcom.config.isContinuousPlayPage=function(){return!1},bbcdotcom.config.isSportApp=function(){var t=window.location.pathname;return void 0!==t&&-1!==t.indexOf(\".app\")&&0===t.indexOf(\"/sport\")},bbcdotcom.adverts.breakpoints.setGroupStart=function(t,n){bbcdotcom.asyncCmd.push(function(){bbcdotcom.adverts.breakpoints.setGroupStart(t,n)})},\"undefined\"!=typeof require&&require({paths:{bbcdotcom:\"https://gn-web-assets.api.bbc.com/bbcdotcom/assets/20201130-134636-4d8ddd997-4.10.0/script\"}}),window.bbcdotcom&&bbcdotcom.isSportApp&&!bbcdotcom.isSportApp()&&window.bbcuser.isUKCombined().then(function(t){return t&&!adsDebug?(adsDebug&&console.log(\"UK location, not ads debug mode, don\\'t load flags, don\\'t load ads.\"),(t=window.bbcdotcom||{}).config.isAdsEnabled=function(){return!1},t.config.isActive=function(){return!1},t.config.isAnalyticsEnabled=function(){return!1},t.getFeature=function(){return{isEnabled:function(){return!1}}},void t.resolvePromises()):void window.bbcuser.canSeeAdverts().then(function(t){if(!t&&!adsDebug)return adsDebug&&console.log(\"canSeeAdverts false, not ads debug mode, don\\'t load ads.\"),(n=window.bbcdotcom||{}).config.isAdsEnabled=function(){return!1},n.config.isActive=function(){return!1},n.config.isAnalyticsEnabled=function(){return!1},n.getFeature=function(){return{isEnabled:function(){return!1}}},void n.resolvePromises();var n=/test/.test(window.location.hostname)?\"https://static.test.files.bbci.co.uk/gn-flagpoles/gnlops\":\"https://static.files.bbci.co.uk/gn-flagpoles/gnlops\",c=new XMLHttpRequest;c.open(\"GET\",n),c.onload=function(){var n,t,o=JSON.parse(c.responseText),e=window.bbcdotcom||{};e.flag.a=\"true\"===o.adverts?1:0,e.flag.s=\"true\"===o.analytics?1:0,e.flag.a||e.flag.s?(t=/test/.test(window.location.hostname)?\"https://static.test.files.bbci.co.uk/gn-flagpoles/bbcdotcom\":\"https://static.files.bbci.co.uk/gn-flagpoles/bbcdotcom\",(n=new XMLHttpRequest).open(\"GET\",t),n.onload=function(){var e=JSON.parse(n.responseText),c=window.bbcdotcom||{};[{tp:\"thirdPartyEEA\"},{o:\"outbrain\"},{d:\"adsense\"},{asa:\"adsportapp\"},{l:\"lotame\"},{p:\"platinum\"},{g:\"grapeshot\"},{sh:\"sherlock\"},{pe:\"permutive\"},{si:\"signin\"},{sis:\"signinSport\"},{sin:\"signinNews\"},{siw:\"signinWWHP\"}].forEach(function(t,n){for(var o in t)c.flag[o]=\"true\"===e[t[o]]?1:0}),c.data={ads:c.flag.a,stats:c.flag.s,statsProvider:\"\",country:\"\"},function(){const t=document.createElement(\"link\");t.href=\"https://gn-web-assets.api.bbc.com/bbcdotcom/assets/20201130-134636-4d8ddd997-4.10.0/style/bbcdotcom-async.css\",t.rel=\"stylesheet\",t.type=\"text/css\",document.head.appendChild(t)}();var t=document.createElement(\"script\"),s=document.head||document.getElementsByTagName(\"head\")[0];t.type=\"text/javascript\",t.async=!0,t.src=\"https://gn-web-assets.api.bbc.com/bbcdotcom/assets/20201130-134636-4d8ddd997-4.10.0/script/bbcdotcom.js\",t.onload=function(){c.assetPrefix=\"https://gn-web-assets.api.bbc.com/bbcdotcom/assets/20201130-134636-4d8ddd997-4.10.0/\",bbcdotcomConfig={assetPrefix:\"https://gn-web-assets.api.bbc.com/bbcdotcom/assets/20201130-134636-4d8ddd997-4.10.0/\",staticVersion:\"20201130-134636-4d8ddd997-4.10.0\",staticPrefix:\"https://gn-web-assets.api.bbc.com/bbcdotcom/assets/20201130-134636-4d8ddd997-4.10.0/\"},c.config.init(bbcdotcomConfig,c.data,window.location,window.document),c.config.setAssetPrefix(bbcdotcomConfig.assetPrefix),c.config.setVersion(bbcdotcomConfig.staticVersion),c.config.setFlagpoles(c.flag);var o=[\"AT\",\"BE\",\"BG\",\"HR\",\"CY\",\"CZ\",\"DK\",\"EE\",\"FI\",\"FR\",\"DE\",\"GR\",\"HU\",\"IE\",\"IT\",\"LV\",\"LT\",\"LU\",\"MT\",\"NL\",\"PL\",\"PT\",\"RO\",\"SK\",\"SI\",\"ES\",\"SE\",\"IS\",\"LI\",\"NO\",\"CH\"];window.bbcuser.getCountry().then(function(t){var n=!!t&&-1!==o.indexOf(t.toUpperCase());c.config.setEU(n),c.data.country=t});function t(t){var n=document.createElement(\"link\"),o=document.head||document.getElementsByTagName(\"head\")[0];n.href=t,n.rel=\"dns-prefetch\",o.appendChild(n)}var n,e;if(c.flag.s&&(t(\"//secure-us.imrworldwide.com/\"),t(\"//me-cdn.effectivemeasure.net/\"),t(\"//ssc.api.bbc.com/\")),c.flag.a&&(t(\"//www.googletagservices.com/\"),t(\"//bbc.gscontxt.net/\"),t(\"//tags.crwdcntrl.net/\"),t(\"//ad.crwdcntrl.net/\"),(n=document.createElement(\"meta\")).setAttribute(\"name\",\"google-site-verification\"),n.setAttribute(\"content\",\"auTeTTwSt_KBY_4iDoR00Lwb7-qzx1IgzJy6ztaWgEI\"),s.appendChild(n)),c.flag.s||c.flag.a)for(c.config.isPermutiveEnabled()&&!c.config.isWorldService()&&(function(o){if(!o){o=o||{},(window.permutive=o).q=[],o.config={consentRequired:!0},o.config.projectId=\"e488cdb0-e7cb-4d91-9648-60d437d8e491\",o.config.apiKey=\"1bb84885-9325-4fef-adda-a208032b2715\",o.config.environment=o.config.environment||\"production\";for(var t=[\"addon\",\"identify\",\"track\",\"trigger\",\"query\",\"segment\",\"segments\",\"ready\",\"on\",\"once\",\"user\",\"consent\"],n=0;n<t.length;n++){var e=t[n];o[e]=function(n){return function(){var t=Array.prototype.slice.call(arguments,0);o.q.push({functionName:n,arguments:t})}}(e)}}}((document,window.permutive)),bbcdotcomScripts.push({src:\"https://cdn.permutive.com/e488cdb0-e7cb-4d91-9648-60d437d8e491-web.js\"})),c.config.isGrapeshotEnabled()&&!c.config.isWorldService()&&(e=window.location.href.split(\"?\")[0],bbcdotcomScripts.push({src:\"https://bbc.gscontxt.net/?url=\"+encodeURIComponent(e)})),c.config.isLotameActive()&&c.config.isLotameEnabled()&&(n=c.config.isWorldService&&c.config.isWorldService()?\"10826\":\"10816\",e=\"https://tags.crwdcntrl.net/c/\"+n+\"/cc.js?ns=\"+n,bbcdotcomScripts.push({src:e,id:\"LOTCC\"+n}),bbcdotcomScripts.push({src:\"https://ad.crwdcntrl.net/5/c=10815/pe=y/var=ccauds\"})),bbcdotcomScripts.push({src:\"https://securepubads.g.doubleclick.net/tag/js/gpt.js\"}),c.config.isThirdPartyDisabledEU()||bbcdotcomScripts.forEach(function(t){var n=document.createElement(\"script\");n.async=!1,t.id&&(n.id=t.id),n.src=t.src,s.appendChild(n)});0<window.bbcdotcom.asyncCmd.length;)window.bbcdotcom.asyncCmd.shift()();window.adsDebug&&adsDebug&&console.log(\"bbcdotcom up and running...\")},s.appendChild(t)},n.onerror=function(){var t;(t=window.bbcdotcom||{}).config.isAdsEnabled=function(){return!1},t.config.isActive=function(){return!1},t.config.isAnalyticsEnabled=function(){return!1},t.getFeature=function(){return{isEnabled:function(){return!1}}},t.resolvePromises()},n.send()):((t=window.bbcdotcom||{}).config.isAdsEnabled=function(){return!1},t.config.isActive=function(){return!1},t.config.isAnalyticsEnabled=function(){return!1},t.getFeature=function(){return{isEnabled:function(){return!1}}},t.resolvePromises())},c.onerror=function(){var t;(t=window.bbcdotcom||{}).config.isAdsEnabled=function(){return!1},t.config.isActive=function(){return!1},t.config.isAnalyticsEnabled=function(){return!1},t.getFeature=function(){return{isEnabled:function(){return!1}}},t.resolvePromises()},c.send()})});(function () {\\n              require.config({\\n                    baseUrl: \\'https://gn-web-assets.api.bbc.com/wwhp/20201127-1201-aa50947fd69d781e60677b1680b344ea5bd4e542/modules\\',\\n                    paths: {\\n                        \\'bump-3\\': \\'https://emp.bbci.co.uk/emp/bump-3/bump-3\\',\\n                        \\'domReady\\': \\'vendor/require/domReady\\',\\n                        \\'jquery-1.9\\': \\'vendor/jquery/jquery\\'\\n                    },\\n                    map: {\\n                        \\'*\\': {\\n                            jquery: \\'jquery-1.9\\'\\n                        }\\n                    },\\n                    shim: {\\n                        \\'vendor/bower/underscore/underscore\\': {\\n                            exports: \\'_\\'\\n                        },\\n                        \\'vendor/bower/js-breakpoints/breakpoints\\': {\\n                            exports: \\'Breakpoints\\'\\n                        },\\n                        \\'vendor/bower/cookie-monster/cookie-monster\\': {\\n                            exports: \\'monster\\'\\n                        }\\n                    }\\n                });\\n\\n                // FIXME: Should be in ads.js, however some devices return ads before ads is able to register to event.\\n                if (window.bbcdotcom && bbcdotcom.pubsub) {\\n                      var stickyOptions = {\\n                      \"leaderboard\": {\\n                          \"offset\": {\\n                              \"from\": [\\'.module--leaderboard\\'],\\n                              \"to\": [\\'.module--promo\\', \\'bottom\\']\\n                          },\\n                          \"applyTo\": \"parent\",\\n                          \"heightLimit\": 150,  //don\\'t add sticky if ad is taller than this number\\n                          \"offsetType\": \"include\",\\n                          \"parallax\": false\\n                        },\\n                      \"mpu\": {\\n                          \"offset\": {\\n                              \"from\": [\\'.content--block--modules section:first-child .module__content\\'],\\n                              \"to\": [\\'.content--block--modules section:last-child\\', \\'bottom\\']\\n                          },\\n                          \"offsetType\": \"include\",\\n                      },\\n                      /*\\n                      \"mpu_bottom\": {\\n                        \"offset\": {\\n                            \"from\": [\\'.module--editors-picks .runway--wrapper\\'],\\n                            \"to\": [\\'.module--editors-picks .runway--wrapper\\', \\'bottom\\']\\n                        },\\n                        \"offsetType\": \"include\"\\n                      }\\n                      */\\n                    };\\n\\n                    bbcdotcom.pubsub.on(\\'ad:done\\', function(id) {\\n                        if(stickyOptions[id]) {\\n                            bbcdotcom.stickyAdvert().add(id, document.getElementById(\\'bbccom_\\'+id), stickyOptions[id]);\\n                        }\\n                    });\\n                }\\n\\n                if (window.bbcdotcom) {\\n                    bbcdotcom.init({ adsToDisplay: [\"parallax\",\"leaderboard\",\"native\",\"mpu\",\"platinum\",\"infeed\",\"module_feature-1\",\"module_feature-2\",\"mpu_bottom\"] });\\n\\n                    require([\"domReady\",\"compiled\"], function (domReady) {\\n                        domReady(function () {\\n                            require([\\'app\\'], function (app) {\\n                                app.init(window, {\\n                                  staticPrefix: \\'https://gn-web-assets.api.bbc.com/wwhp/20201127-1201-aa50947fd69d781e60677b1680b344ea5bd4e542/\\',\\n                                  continuousPlayEnabled: true,\\n                                  counterName: \\'home.page\\',\\n                                  producer: \\'GNL_HOMEPAGE\\',\\n                                  destination: \\'HOMEPAGE_GNL\\'\\n                                });\\n                            });\\n                        });\\n                    });\\n                }\\n\\n            }());HomepageAccessibility linksSkip to contentAccessibility HelpBBC Accountrequire([\\'idcta/statusbar\\'], function (statusbar) {new statusbar.Statusbar({id: \\'idcta-statusbar\\', publiclyCacheable: true});});NotificationsHomeNewsSportWeatheriPlayerSoundsCBBCCBeebiesFoodBitesizeArtsTasterLocalThreeMenuSearchSearch the BBCSearch the BBCBBC Homepage/*<![CDATA[*/(function() {if (window.bbcdotcom && bbcdotcom.slotAsync) {bbcdotcom.slotAsync(\"leaderboard\", [1,2,3,4]);}})();/*]]>*/Johnson and EU chief seek to break Brexit deadlockEU and UK negotiators call in leaders in last ditch effort to secure a trade deal.UK PoliticsJohnson and EU chief seek to break Brexit deadlockCutting through Ethiopia\\'s information blackoutAfricaCutting through Ethiopia\\'s information blackoutTrump orders US troop withdrawal from SomaliaUS & CanadaTrump orders US troop withdrawal from SomaliaPremier League: Build-up to Man City v Fulham after Everton draw at BurnleyFootballPremier League: Build-up to Man City v Fulham after Everton draw at BurnleyAfrica\\'s top shots: Moonlight and carouselsAfricaAfrica\\'s top shots: Moonlight and carousels/*<![CDATA[*/(function() {if (window.bbcdotcom && bbcdotcom.slotAsync) {bbcdotcom.slotAsync(\"mpu\", [1,2,3,4]);}})();/*]]>*/NewsWill a vaccine give us our old lives back?Why vaccines need to reach a huge number of people before we can safely ditch our face masks.NewsWill a vaccine give us our old lives back?Russia begins Covid vaccinations in MoscowThe home-grown Sputnik V vaccine, which is still undergoing mass testing, is being used.EuropeRussia begins Covid vaccinations in MoscowBeirut blast: The ship of ‘lost lives and dreams’This is what happened to Lebanon\\'s only cruise ship, which was docked in the explosion\\'s epicentre.WorldBeirut blast: The ship of ‘lost lives and dreams’SportSakhir Grand Prix: third practice and qualifying - radio & textFollow BBC Radio 5 Live Sports Extra online commentary and live text updates of third practice and qualifying for the Sakhir Grand Prix.Formula 1Sakhir Grand Prix: third practice and qualifying - radio & textAutumn Nations Cup: Ireland 3-9 Scotland - Scots on front foot in tense startFollow live text and BBC commentary as Ireland face Scotland in the Autumn Nations Cup.Rugby UnionAutumn Nations Cup: Ireland 3-9 Scotland - Scots on front foot in tense startKoeman criticises Barca presidentBarcelona manager Ronald Koeman criticises interim president Carlos Tusquets after he said the club should have sold Lionel Messi in the summer.European FootballKoeman criticises Barca presidentLagos WeatherEditSat33°C23°CSun33°C23°CMon33°C23°CTue33°C23°CVisit ReelThe most amazing videos from the BBCWhy millennials are ditching traditional life milestonesHow a simple breathing trick can change your lifeA different side to prostitution that\\'s rarely seen/*<![CDATA[*/(function() {if (window.bbcdotcom && bbcdotcom.slotAsync) {bbcdotcom.slotAsync(\"platinum\", [1,2,3,4]);}})();/*]]>*/Africa NewsSenegal mourns football hero Papa Bouba DiopPresident Sall leads tributes to the player who scored the goal that beat France in the 2002 World Cup.AfricaSenegal mourns football hero Papa Bouba DiopEthiopia aid delayed amid ongoing fighting - UNClashes in many parts of the Tigray region mean there is still no access, UN officials say.AfricaEthiopia aid delayed amid ongoing fighting - UNCovid-19 story wins BBC writing competitionRai da Cuta (Life & Sickness) is by Maryam Umar, a 20-year-old law student at Usman Danfodio University, Sokoto.AfricaCovid-19 story wins BBC writing competitionThe hidden story of African-Irish childrenThe mixed-race Irish people searching for their African roots.EuropeThe hidden story of African-Irish childrenEditor’s PicksThe most striking images of 2020A breaching shark, a volcanic eruption and wildfiresCultureThe most striking images of 2020Why you feel like your days drag onA theory that helps us understand why a minute can feel like an hourWorklifeWhy you feel like your days drag onThe nation learning to embrace floodingThe floods are as vital as they are dangerousFutureThe nation learning to embrace floodingWhy Swedes don’t like chit-chatTheir reserved character is hundreds of years in the makingTravelWhy Swedes don’t like chit-chatNews quiz: How does George Clooney keep his hair trim?How closely have you been paying attention to what\\'s been going on during the past seven days?WorldNews quiz: How does George Clooney keep his hair trim?10 key beliefs from Jeff BezosA mindset for risk, tactics, ambition and innovation that goes above and beyondBBC FOUR10 key beliefs from Jeff BezosHow to make easy Christmas cake decorationsEven if you’re a first-time baker, all you need is some fondant, a rolling pin and a small...FOODHow to make easy Christmas cake decorationsLatest Business News1Job growth slows in US as virus cases surge2Former Austrian finance minister jailed3BA in PR headache as bread basket sale goes stale4Denmark set to end all new oil and gas exploration/*<![CDATA[*/(function() {if (window.bbcdotcom && bbcdotcom.slotAsync) {bbcdotcom.slotAsync(\"native\", [1,2,3,4]);}})();/*]]>*/Future PlanetSolutions for a sustainable worldThe end of a fuel worse than coalThe solar discs that could power EarthThe new \\'gold rush\\' for green lithiumTechnology of BusinessBusinessWhy Covid may mean more facial recognition techWhy Covid may mean more facial recognition tech/*<![CDATA[*/(function() {if (window.bbcdotcom && bbcdotcom.slotAsync) {bbcdotcom.slotAsync(\"module_feature-1\", [1,2,3,4]);}})();/*]]>*/ADVERTISEMENT/*<![CDATA[*/(function() {if (window.bbcdotcom && bbcdotcom.slotAsync) {bbcdotcom.slotAsync(\"infeed\", [1,2,3,4]);}})();/*]]>*/The Life ProjectWorklifeHow Indian weddings are defying Covid-19How Indian weddings are defying Covid-19/*<![CDATA[*/(function() {if (window.bbcdotcom && bbcdotcom.slotAsync) {bbcdotcom.slotAsync(\"module_feature-2\", [1,2,3,4]);}})();/*]]>*/Featured videoMoscow clinics begins Covid-19 jabsRussia starts the rollout of its Sputnik V coronavirus vaccine for high-risk groups in its capital city.EuropeMoscow clinics begins Covid-19 jabsRecommendedMost WatchedLatestMoscow clinics begins Covid-19 jabsEuropeMoscow clinics begins Covid-19 jabsThe teen fighting global air pollutionScience & EnvironmentThe teen fighting global air pollutionSchool during Covid: \\'Got to work twice as...Family & EducationSchool during Covid: \\'Got to work twice as hard\\'Moment plane lands on highwayUS & CanadaMoment plane lands on highwayBiden: \\'I don\\'t think Covid vaccine should be...US & CanadaBiden: \\'I don\\'t think Covid vaccine should be mandatory\\'Boris Johnson struggles in interviewUKBoris Johnson struggles in interviewReady for the total solar eclipse?US & CanadaReady for the total solar eclipse?Koalas \\'face extinction\\' in parts of...AustraliaKoalas \\'face extinction\\' in parts of AustraliaVideo \\'shows Mosul mosque\\'s destruction\\'Middle EastVideo \\'shows Mosul mosque\\'s destruction\\'Indonesia\\'s female \\'devil wheel\\' ridersAsiaIndonesia\\'s female \\'devil wheel\\' ridersOne-minute World NewsVideoOne-minute World NewsSaint takes to sky in Italy after procession...EuropeSaint takes to sky in Italy after procession banThe moment the huge Arecibo radio telescope...US & CanadaThe moment the huge Arecibo radio telescope collapsedBBC World ServiceOn Air:Sportsworld/*<![CDATA[*/(function() {if (window.bbcdotcom && bbcdotcom.slotAsync) {bbcdotcom.slotAsync(\"parallax\", [1,2,3,4]);}})();/*]]>*/More around the BBCWhy did Quibi go so wrong?The BBC speaks to three Quibi content creators on the rapid rise and fall of the Netflix rival.TechnologyWhy did Quibi go so wrong?Fauci apologises for saying UK \\'rushed\\' vaccineUS & CanadaFauci apologises for saying UK \\'rushed\\' vaccineI\\'m A Celebrity crowns its 2020 winnerEntertainment & ArtsI\\'m A Celebrity crowns its 2020 winnerRocks from an asteroid set for delivery to EarthScience & EnvironmentRocks from an asteroid set for delivery to EarthUnemployed in the US: \\'I don’t know what to do\\'BusinessUnemployed in the US: \\'I don’t know what to do\\'RAF cameras capture world\\'s biggest icebergScience & EnvironmentRAF cameras capture world\\'s biggest icebergGoogle staff rally behind fired AI researcherTechnologyGoogle staff rally behind fired AI researcherFrom OurCorrespondentsThe greening of black goldBy Douglas Fraser\\'I turned my office into a cafe for cyclists\\'By Dougal ShawWill vaccines save the UK economy?By Faisal IslamChina\\'s Moon mission returns colour picturesBy Jonathan AmosWhy it feels like a government without a majorityBy Laura KuenssbergSmall waters \\'can help address biodiversity crisis\\'By Helen BriggsHow do you vaccinate a billion people?By Soutik BiswasRefuting Trump cost cyber-security official his jobBy Gordon CoreraMade on EarthThe return of luxury handbagsFutureThe return of luxury handbags/*<![CDATA[*/(function() {if (window.bbcdotcom && bbcdotcom.slotAsync) {bbcdotcom.slotAsync(\"mpu_bottom\", [1,2,3,4]);}})();/*]]>*/Technology of BusinessWhy shops are going over to the \\'dark\\' sideBusinessWhy shops are going over to the \\'dark\\' sideWorld in picturesIn pictures: Snowy scenes in many parts of UKUKIn pictures: Snowy scenes in many parts of UKFans return to football matchesIn PicturesFans return to football matches\\'Biggest show yet\\' for South African artist in LondonAfrica\\'Biggest show yet\\' for South African artist in LondonDebenhams pictured through the yearsIn PicturesDebenhams pictured through the yearsHurricanes leave Hondurans homeless and destituteLatin America & CaribbeanHurricanes leave Hondurans homeless and destituteBBC in other languagesHausaGwarzuwar Hikayata ta biyu ta 2020 ta samu tallafin karatuArabicروسيا تبدأ باستخدام لقاح فيروس كورونا في موسكوSwahiliRais Magufuli akamilisha uteuzi wa Baraza la MawaziriSomaliTrump oo amray in Soomaaliya laga soo saaro ciidamada Mareykanka ka hor xil wareejintiisaMore LanguagesArabicعربيAzeriAZƏRBAYCANBanglaবাংলাBurmeseမြန်မာChinese中文网FrenchAFRIQUEHausaHAUSAHindiहिन्दीIndonesianINDONESIAJapanese日本語KinyarwandaGAHUZAKirundiKIRUNDIKyrgyzКыргызMarathiमराठीNepaliनेपालीPashtoپښتوPersianفارسیPortugueseBRASILRussianНА РУССКОМSinhalaසිංහලSomaliSOMALISpanishMUNDOSwahiliSWAHILITamilதமிழ்TurkishTÜRKÇEUkrainianУКРАЇНСЬКAUrduاردوUzbekO\\'ZBEKVietnameseTIẾNG VIỆT/*<![CDATA[*/\\n        require([\\'orb/nav\\'], function(nav) {\\n            window.bbcuser.isUKCombined().then(function(isUK) {\\n                if (isUK) {\\n                    nav.loadJs(\\'https://nav.files.bbci.co.uk/orbit/ece9cb048f668bbc4cc6214737a6cdb6/js/edr.min.js\\');\\n                }\\n            });\\n        });\\n        /*]]>*/Explore the BBCHomeNewsSportWeatheriPlayerSoundsCBBCCBeebiesFoodBitesizeArtsTasterLocalThreewindow.orb.worldwideFooterlinks = \\'<li class=\"orb-footer-ads\"><a href=\"https://www.bbcglobalnews.com/\">Advertise with us<\\' + \\'/a><\\' + \\'/li><li class=\"orb-footer-adchoices\"><a href=\"https://www.bbc.com/usingthebbc/cookies/how-can-i-change-my-bbc-cookie-settings/\">AdChoices / Do Not Sell My Info<\\' + \\'/a><\\' + \\'/li>\\';Terms of UseAbout the BBCPrivacy PolicyCookiesAccessibility HelpParental GuidanceContact the BBCGet Personalised NewslettersCopyright © 2020 BBC.The BBC is not responsible for the content of external sites.Read about our approach to external linking.require.config({\\n            paths: {\\n                \"mybbc/templates\": \\'//mybbc.files.bbci.co.uk/notification-ui/4.2.7/templates\\',\\n                \"mybbc/notifications\": \\'//mybbc.files.bbci.co.uk/notification-ui/4.2.7/js\\'\\n            }\\n        });\\n\\n        require([\\'mybbc/notifications/NotificationsMain\\', \\'idcta/idcta-1\\'], function (NotificationsMain, idcta) {\\n\\n            var loadNotifications = function (isUK) {\\n                if (isUK) {\\n                    window.bbcpage.loadCSS(\\'//mybbc.files.bbci.co.uk/notification-ui/4.2.7/css/main.min.css\\').then(function() {\\n                        NotificationsMain.run(idcta, \\'//mybbc.files.bbci.co.uk/notification-ui/4.2.7/\\');\\n                    });\\n                }\\n            };\\n            \\n            window.bbcuser.isUKCombined().then(function(isUK) {\\n                loadNotifications(isUK);\\n            });\\n        });if (window.SEARCHBOX.locale) {\\n    require.config({\\n      paths: {\\n        \"search/searchbox\": window.SEARCHBOX.searchboxAppStaticPrefix,\\n      }\\n    });\\n\\n    if (bbcuser && bbcuser.isUKCombined) {\\n        bbcuser.isUKCombined().then(function (isUK) {\\n            if (isUK) {\\n                require([\\'search/searchbox/searchboxDrawer\\'], function (SearchboxDrawer) {\\n                  SearchboxDrawer.run(window.SEARCHBOX);\\n                });\\n            }\\n        });\\n    }\\n\\n  }require.config({\\n    \"paths\": {\\n        \"orb/async/_footerpromo\": \\'https://nav.files.bbci.co.uk/navpromo/540f3f6dbf28b119bbe06e61544e3f22/js/async/_footerpromo\\'\\n    }\\n});\\n(function() {\\n\\n\\n    document.addEventListener(\"DOMContentLoaded\", function(event) {\\n      initialiseFooter();\\n    });\\n\\n    var scrollCheckTimer;\\n    var didScroll;\\n    var previousPosition = 0;\\n    var delta = 5;\\n    var PROMO_SHOW_BREAKPOINT = 1500;\\n    var pageLength = 0;\\n\\n    function getCookie(key) {\\n        if (!key) {\\n            return document.cookie;\\n        }\\n        return decodeURIComponent(document.cookie.replace(new RegExp(\"(?:(?:^|.*;)\\\\\\\\s*\" + encodeURIComponent(key).replace(/[\\\\-\\\\.\\\\+\\\\*]/g, \"\\\\\\\\$&\") + \"\\\\\\\\s*\\\\\\\\=\\\\\\\\s*([^;]*).*$)|^.*$\"), \"$1\")) || null;\\n    }\\n\\n    function initialiseFooter() {\\n        // Suppress this feature on browsers we no longer test\\n        var myNav = navigator.userAgent.toLowerCase();\\n        var oldIE = (myNav.indexOf(\\'msie\\') !== -1) && parseInt(myNav.split(\\'msie\\')[1], 10) <= 10;\\n        if (!oldIE) {\\n            var disabledByCookie = (parseInt(getCookie(\\'ckns_nav_promofail\\')) || 0) >= 3;\\n            if (!disabledByCookie) {\\n                window.bbcpage.getLanguage().then(function(language) {\\n                    if (language === \\'en\\') {\\n                        window.bbcuser.isUKCombined().then(function(isUK) {\\n                            if (isUK) {\\n                                setUpLazyLoading();\\n                            }\\n                        });\\n                    }\\n                });\\n            }\\n        }\\n    }\\n\\n    function setUpLazyLoading() {\\n        // offsetHeight is expensive to calculate, only do it once.\\n        pageLength = Math.abs(document.body.offsetHeight);\\n\\n        if (pageLength < getViewportHeight() + 300 || pageLength - getCurrentPosition() < PROMO_SHOW_BREAKPOINT) {\\n            loadPromo();\\n\\n        } else {\\n            window.onscroll = function () {\\n                didScroll = true;\\n            };\\n\\n            scrollCheckTimer = setInterval(function () {\\n                if (didScroll) {\\n                    hasScrolled();\\n                    didScroll = false;\\n                }\\n            }, 250);\\n        }\\n    }\\n\\n    function loadPromo() {\\n        clearInterval(scrollCheckTimer);\\n\\n        require([\\'orb/async/_footerpromo\\'], function(promo) {\\n            promo.init(\\'https://navpromo.api.bbci.co.uk\\', \\'\\');\\n        });\\n    }\\n\\n    function getViewportHeight() {\\n        return window.innerHeight;\\n    }\\n\\n    function getCurrentPosition() {\\n        return Math.abs(window.scrollY || document.body.scrollTop || document.documentElement.scrollTop);\\n    }\\n\\n    function hasScrolled() {\\n        var currentPosition = getCurrentPosition();\\n\\n        if (Math.abs(previousPosition - currentPosition) <= delta) {\\n            return;\\n        }\\n        if (currentPosition > previousPosition) {\\n            if ((pageLength - currentPosition) <= PROMO_SHOW_BREAKPOINT) {\\n                loadPromo();\\n            }\\n        }\\n        previousPosition = currentPosition;\\n    }\\n})();window.COOKIES_STATIC_HOST = \\'https://nav.files.bbci.co.uk/orbit-webmodules/0.0.2-556.7ef1b51/cookie-banner/cookie-prompt/\\';\"use strict\";window.__reverb.__reverbLoadedPromise.then(function(e){return e.initialise().then(function(){return e.viewEvent()})},function(){console.log(\"Failed to load reverb. No event sent\")});'"
      ]
     },
     "execution_count": 234,
     "metadata": {},
     "output_type": "execute_result"
    }
   ],
   "source": [
    "text"
   ]
  },
  {
   "cell_type": "markdown",
   "metadata": {},
   "source": [
    "`ASSIGNMENT`\n",
    "- Stream tweets for 5 sessions - run the stream code for 5 sessions, in a day, create a wordcloud using tweets you had, for each session\n",
    "- nation, bbc, cnn, harvest data from news media houses websites - to see if it maps with what is current\n",
    "- also draw a bar chart\n",
    " - what is trending currently for the sessions "
   ]
  },
  {
   "cell_type": "markdown",
   "metadata": {},
   "source": [
    "# Readability Assessment with Textatistic\n",
    "- Vocabulary\n",
    "- Sentence structure\n",
    "- Sentence \n",
    "- Dale Chall, Flesch, Gunning fog"
   ]
  },
  {
   "cell_type": "code",
   "execution_count": 235,
   "metadata": {},
   "outputs": [],
   "source": [
    "from pathlib import Path"
   ]
  },
  {
   "cell_type": "code",
   "execution_count": 236,
   "metadata": {},
   "outputs": [],
   "source": [
    "text = Path('RomeoAndJuliet.txt').read_text()"
   ]
  },
  {
   "cell_type": "code",
   "execution_count": 237,
   "metadata": {},
   "outputs": [],
   "source": [
    "from textatistic import Textatistic"
   ]
  },
  {
   "cell_type": "code",
   "execution_count": 238,
   "metadata": {},
   "outputs": [],
   "source": [
    "readability = Textatistic(text)"
   ]
  },
  {
   "cell_type": "code",
   "execution_count": 239,
   "metadata": {},
   "outputs": [
    {
     "data": {
      "text/plain": [
       "'%.4f'"
      ]
     },
     "execution_count": 239,
     "metadata": {},
     "output_type": "execute_result"
    }
   ],
   "source": [
    "%precision 4"
   ]
  },
  {
   "cell_type": "code",
   "execution_count": 240,
   "metadata": {},
   "outputs": [
    {
     "data": {
      "text/plain": [
       "{'char_count': 117014,\n",
       " 'word_count': 26071,\n",
       " 'sent_count': 3217,\n",
       " 'sybl_count': 30167,\n",
       " 'notdalechall_count': 5858,\n",
       " 'polysyblword_count': 571,\n",
       " 'flesch_score': 100.7178,\n",
       " 'fleschkincaid_score': 1.2245,\n",
       " 'gunningfog_score': 4.1177,\n",
       " 'smog_score': 5.5359,\n",
       " 'dalechall_score': 7.5864}"
      ]
     },
     "execution_count": 240,
     "metadata": {},
     "output_type": "execute_result"
    }
   ],
   "source": [
    "readability.dict()"
   ]
  },
  {
   "cell_type": "markdown",
   "metadata": {},
   "source": [
    "# Named Entity Recognition with spaCy\n",
    "- NLP can determine the what a text is about\n",
    "- It can be able to locate and categorize items eg date, time, quantities, places, people, things and more...\n",
    "- We use the library spaCy which does more"
   ]
  },
  {
   "cell_type": "code",
   "execution_count": 241,
   "metadata": {
    "scrolled": false
   },
   "outputs": [],
   "source": [
    "import spacy"
   ]
  },
  {
   "cell_type": "code",
   "execution_count": 242,
   "metadata": {
    "scrolled": true
   },
   "outputs": [],
   "source": [
    "nlp = spacy.load('en_core_web_sm')"
   ]
  },
  {
   "cell_type": "code",
   "execution_count": 243,
   "metadata": {},
   "outputs": [],
   "source": [
    "document = nlp('In 2020 we had corona, started in China in March' +\n",
    "              'The economies of countries have suffered and also' +\n",
    "              'individuals have suffered for the last 8 months')"
   ]
  },
  {
   "cell_type": "code",
   "execution_count": 244,
   "metadata": {},
   "outputs": [
    {
     "name": "stdout",
     "output_type": "stream",
     "text": [
      "2020: DATE\n",
      "China: GPE\n",
      "MarchThe: ORG\n",
      "the last 8 months: DATE\n"
     ]
    }
   ],
   "source": [
    "for entity in document.ents:\n",
    "    print(f'{entity.text}: {entity.label_}')"
   ]
  },
  {
   "cell_type": "markdown",
   "metadata": {},
   "source": [
    "# Similarity Detection with spaCy\n",
    "- "
   ]
  },
  {
   "cell_type": "code",
   "execution_count": 245,
   "metadata": {},
   "outputs": [],
   "source": [
    "from pathlib import Path"
   ]
  },
  {
   "cell_type": "code",
   "execution_count": 246,
   "metadata": {},
   "outputs": [],
   "source": [
    "doc1 = nlp(Path('copiedtext.txt').read_text())"
   ]
  },
  {
   "cell_type": "code",
   "execution_count": 247,
   "metadata": {},
   "outputs": [
    {
     "data": {
      "text/plain": [
       "Wavelength Based Systems: The CPRI link in a single site is usually established by a dedicated fiber. However, it is desirable to multiplex CPRI links onto a single fiber link for sites with multiple antennas. In situation where there are few CPRI links connected to a RRH site, passive Coarse Wavelength Division Multiplexing (CWDM) can be deployed for the fronthaul transport. CWDM is a cost-effective technology based on optical technology and can be deployed in both access and metro networks. The challenge with CWDM technology is assignment of fixed wavelength, as this does not suit the purposes of network migration and operations. Also, the number of channels available using CWDM cannot satisfy complex networks which involves several RRHs connected to a central BBU pool."
      ]
     },
     "execution_count": 247,
     "metadata": {},
     "output_type": "execute_result"
    }
   ],
   "source": [
    "doc1"
   ]
  },
  {
   "cell_type": "code",
   "execution_count": 248,
   "metadata": {},
   "outputs": [],
   "source": [
    "doc2 = nlp(Path('originaltext.txt').read_text())"
   ]
  },
  {
   "cell_type": "code",
   "execution_count": 249,
   "metadata": {},
   "outputs": [
    {
     "data": {
      "text/plain": [
       "Wavelength Based Systems: The CPRI link in a single antenna site is usually established by a dedicated fiber but for sites with multiple antennas, their CPRI link is preferably multiplexed onto a single fiber. In scenarios with only a few CPRI links per RRH site, the fronthaul transport can be accomplished by using passive coarse wavelength division multiplexing (CWDM), a cost-efficient optical multiplexing technology for access and metro networks. However, the fixed wavelength assignment in commercial CWDM solutions renders it less attractive from network operations and migration perspective. Furthermore, in more complex configurations or in networks with many RRHs connected to a central BBU cluster, the channel numbers available from CWDM may"
      ]
     },
     "execution_count": 249,
     "metadata": {},
     "output_type": "execute_result"
    }
   ],
   "source": [
    "doc2"
   ]
  },
  {
   "cell_type": "code",
   "execution_count": 250,
   "metadata": {},
   "outputs": [
    {
     "name": "stderr",
     "output_type": "stream",
     "text": [
      "C:\\Users\\HP\\anaconda3\\envs\\tf_env\\lib\\site-packages\\ipykernel_launcher.py:1: UserWarning: [W007] The model you're using has no word vectors loaded, so the result of the Doc.similarity method will be based on the tagger, parser and NER, which may not give useful similarity judgements. This may happen if you're using one of the small models, e.g. `en_core_web_sm`, which don't ship with word vectors and only use context-sensitive tensors. You can always add your own word vectors, or use one of the larger models instead if available.\n",
      "  \"\"\"Entry point for launching an IPython kernel.\n"
     ]
    },
    {
     "data": {
      "text/plain": [
       "0.9579350072181474"
      ]
     },
     "execution_count": 250,
     "metadata": {},
     "output_type": "execute_result"
    }
   ],
   "source": [
    "doc1.similarity(doc2)"
   ]
  },
  {
   "cell_type": "code",
   "execution_count": 251,
   "metadata": {},
   "outputs": [],
   "source": [
    "# spaCy believes the documents are significantly similarity"
   ]
  }
 ],
 "metadata": {
  "kernelspec": {
   "display_name": "Python 3 (ipykernel)",
   "language": "python",
   "name": "python3"
  },
  "language_info": {
   "codemirror_mode": {
    "name": "ipython",
    "version": 3
   },
   "file_extension": ".py",
   "mimetype": "text/x-python",
   "name": "python",
   "nbconvert_exporter": "python",
   "pygments_lexer": "ipython3",
   "version": "3.9.7"
  }
 },
 "nbformat": 4,
 "nbformat_minor": 4
}
