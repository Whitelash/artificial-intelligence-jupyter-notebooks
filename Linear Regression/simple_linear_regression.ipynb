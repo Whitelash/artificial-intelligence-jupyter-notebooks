{
  "nbformat": 4,
  "nbformat_minor": 0,
  "metadata": {
    "kernelspec": {
      "display_name": "Python 3",
      "language": "python",
      "name": "python3"
    },
    "language_info": {
      "codemirror_mode": {
        "name": "ipython",
        "version": 3
      },
      "file_extension": ".py",
      "mimetype": "text/x-python",
      "name": "python",
      "nbconvert_exporter": "python",
      "pygments_lexer": "ipython3",
      "version": "3.7.1"
    },
    "colab": {
      "provenance": []
    }
  },
  "cells": [
    {
      "cell_type": "markdown",
      "metadata": {
        "id": "E9-GF5T6T1PD"
      },
      "source": [
        "# Introduction"
      ]
    },
    {
      "cell_type": "markdown",
      "metadata": {
        "id": "j6pJepNuT1PG"
      },
      "source": [
        "In this practical, we are required to explore the data and perform a simple linear regression using the Temperature dataset provided, display a scatter plot with a regresion line thereafter use the coefficient and intercept values calculated by the estimator to make predictions for 2019"
      ]
    },
    {
      "cell_type": "markdown",
      "metadata": {
        "id": "wbidT-ckT1PH"
      },
      "source": [
        "# 1) Performing the Simple Linear Regression"
      ]
    },
    {
      "cell_type": "markdown",
      "metadata": {
        "id": "oaiE0kBqT1PI"
      },
      "source": [
        "# Loading the Average High Temparatures into a DataFrame"
      ]
    },
    {
      "cell_type": "markdown",
      "metadata": {
        "id": "3H_97dx7T1PK"
      },
      "source": [
        "Peform data cleaning with pandas and numpy. First load the data from the temp_nyc_1895-2018.csv, rename the column 'value' to 'temperature', remove 01 from the end of each value and display a few data samples."
      ]
    },
    {
      "cell_type": "code",
      "metadata": {
        "id": "BSkP6BuCT1PM"
      },
      "source": [
        "import pandas as pd\n",
        "import numpy as np\n",
        "import matplotlib.pyplot as plt # to enable matplotlibin this notebook"
      ],
      "execution_count": null,
      "outputs": []
    },
    {
      "cell_type": "code",
      "metadata": {
        "id": "vuMUiVr1T1PZ"
      },
      "source": [
        "myData = pd.read_csv(r\"C:\\\\Users\\\\admin\\\\Desktop\\\\temp_nyc_1895-2018 (1).csv\")"
      ],
      "execution_count": null,
      "outputs": []
    },
    {
      "cell_type": "code",
      "metadata": {
        "id": "R9EfAqjpT1Pi",
        "outputId": "994a069e-f95c-4139-8535-348aae983080"
      },
      "source": [
        "myData"
      ],
      "execution_count": null,
      "outputs": [
        {
          "output_type": "execute_result",
          "data": {
            "text/html": [
              "<div>\n",
              "<style scoped>\n",
              "    .dataframe tbody tr th:only-of-type {\n",
              "        vertical-align: middle;\n",
              "    }\n",
              "\n",
              "    .dataframe tbody tr th {\n",
              "        vertical-align: top;\n",
              "    }\n",
              "\n",
              "    .dataframe thead th {\n",
              "        text-align: right;\n",
              "    }\n",
              "</style>\n",
              "<table border=\"1\" class=\"dataframe\">\n",
              "  <thead>\n",
              "    <tr style=\"text-align: right;\">\n",
              "      <th></th>\n",
              "      <th>Date</th>\n",
              "      <th>Value</th>\n",
              "      <th>Anomaly</th>\n",
              "    </tr>\n",
              "  </thead>\n",
              "  <tbody>\n",
              "    <tr>\n",
              "      <th>0</th>\n",
              "      <td>189501</td>\n",
              "      <td>34.2</td>\n",
              "      <td>-3.2</td>\n",
              "    </tr>\n",
              "    <tr>\n",
              "      <th>1</th>\n",
              "      <td>189601</td>\n",
              "      <td>34.7</td>\n",
              "      <td>-2.7</td>\n",
              "    </tr>\n",
              "    <tr>\n",
              "      <th>2</th>\n",
              "      <td>189701</td>\n",
              "      <td>35.5</td>\n",
              "      <td>-1.9</td>\n",
              "    </tr>\n",
              "    <tr>\n",
              "      <th>3</th>\n",
              "      <td>189801</td>\n",
              "      <td>39.6</td>\n",
              "      <td>2.2</td>\n",
              "    </tr>\n",
              "    <tr>\n",
              "      <th>4</th>\n",
              "      <td>189901</td>\n",
              "      <td>36.4</td>\n",
              "      <td>-1.0</td>\n",
              "    </tr>\n",
              "    <tr>\n",
              "      <th>5</th>\n",
              "      <td>190001</td>\n",
              "      <td>37.4</td>\n",
              "      <td>0.0</td>\n",
              "    </tr>\n",
              "    <tr>\n",
              "      <th>6</th>\n",
              "      <td>190101</td>\n",
              "      <td>37.0</td>\n",
              "      <td>-0.4</td>\n",
              "    </tr>\n",
              "    <tr>\n",
              "      <th>7</th>\n",
              "      <td>190201</td>\n",
              "      <td>35.0</td>\n",
              "      <td>-2.4</td>\n",
              "    </tr>\n",
              "    <tr>\n",
              "      <th>8</th>\n",
              "      <td>190301</td>\n",
              "      <td>35.5</td>\n",
              "      <td>-1.9</td>\n",
              "    </tr>\n",
              "    <tr>\n",
              "      <th>9</th>\n",
              "      <td>190401</td>\n",
              "      <td>29.8</td>\n",
              "      <td>-7.6</td>\n",
              "    </tr>\n",
              "    <tr>\n",
              "      <th>10</th>\n",
              "      <td>190501</td>\n",
              "      <td>33.7</td>\n",
              "      <td>-3.7</td>\n",
              "    </tr>\n",
              "    <tr>\n",
              "      <th>11</th>\n",
              "      <td>190601</td>\n",
              "      <td>42.3</td>\n",
              "      <td>4.9</td>\n",
              "    </tr>\n",
              "    <tr>\n",
              "      <th>12</th>\n",
              "      <td>190701</td>\n",
              "      <td>40.5</td>\n",
              "      <td>3.1</td>\n",
              "    </tr>\n",
              "    <tr>\n",
              "      <th>13</th>\n",
              "      <td>190801</td>\n",
              "      <td>38.3</td>\n",
              "      <td>0.9</td>\n",
              "    </tr>\n",
              "    <tr>\n",
              "      <th>14</th>\n",
              "      <td>190901</td>\n",
              "      <td>39.6</td>\n",
              "      <td>2.2</td>\n",
              "    </tr>\n",
              "    <tr>\n",
              "      <th>15</th>\n",
              "      <td>191001</td>\n",
              "      <td>36.1</td>\n",
              "      <td>-1.3</td>\n",
              "    </tr>\n",
              "    <tr>\n",
              "      <th>16</th>\n",
              "      <td>191101</td>\n",
              "      <td>40.7</td>\n",
              "      <td>3.3</td>\n",
              "    </tr>\n",
              "    <tr>\n",
              "      <th>17</th>\n",
              "      <td>191201</td>\n",
              "      <td>29.3</td>\n",
              "      <td>-8.1</td>\n",
              "    </tr>\n",
              "    <tr>\n",
              "      <th>18</th>\n",
              "      <td>191301</td>\n",
              "      <td>46.9</td>\n",
              "      <td>9.5</td>\n",
              "    </tr>\n",
              "    <tr>\n",
              "      <th>19</th>\n",
              "      <td>191401</td>\n",
              "      <td>36.9</td>\n",
              "      <td>-0.5</td>\n",
              "    </tr>\n",
              "    <tr>\n",
              "      <th>20</th>\n",
              "      <td>191501</td>\n",
              "      <td>38.9</td>\n",
              "      <td>1.5</td>\n",
              "    </tr>\n",
              "    <tr>\n",
              "      <th>21</th>\n",
              "      <td>191601</td>\n",
              "      <td>42.3</td>\n",
              "      <td>4.9</td>\n",
              "    </tr>\n",
              "    <tr>\n",
              "      <th>22</th>\n",
              "      <td>191701</td>\n",
              "      <td>38.4</td>\n",
              "      <td>1.0</td>\n",
              "    </tr>\n",
              "    <tr>\n",
              "      <th>23</th>\n",
              "      <td>191801</td>\n",
              "      <td>26.5</td>\n",
              "      <td>-10.9</td>\n",
              "    </tr>\n",
              "    <tr>\n",
              "      <th>24</th>\n",
              "      <td>191901</td>\n",
              "      <td>40.6</td>\n",
              "      <td>3.2</td>\n",
              "    </tr>\n",
              "    <tr>\n",
              "      <th>25</th>\n",
              "      <td>192001</td>\n",
              "      <td>29.7</td>\n",
              "      <td>-7.7</td>\n",
              "    </tr>\n",
              "    <tr>\n",
              "      <th>26</th>\n",
              "      <td>192101</td>\n",
              "      <td>39.7</td>\n",
              "      <td>2.3</td>\n",
              "    </tr>\n",
              "    <tr>\n",
              "      <th>27</th>\n",
              "      <td>192201</td>\n",
              "      <td>33.4</td>\n",
              "      <td>-4.0</td>\n",
              "    </tr>\n",
              "    <tr>\n",
              "      <th>28</th>\n",
              "      <td>192301</td>\n",
              "      <td>35.2</td>\n",
              "      <td>-2.2</td>\n",
              "    </tr>\n",
              "    <tr>\n",
              "      <th>29</th>\n",
              "      <td>192401</td>\n",
              "      <td>39.4</td>\n",
              "      <td>2.0</td>\n",
              "    </tr>\n",
              "    <tr>\n",
              "      <th>...</th>\n",
              "      <td>...</td>\n",
              "      <td>...</td>\n",
              "      <td>...</td>\n",
              "    </tr>\n",
              "    <tr>\n",
              "      <th>94</th>\n",
              "      <td>198901</td>\n",
              "      <td>42.4</td>\n",
              "      <td>5.0</td>\n",
              "    </tr>\n",
              "    <tr>\n",
              "      <th>95</th>\n",
              "      <td>199001</td>\n",
              "      <td>46.0</td>\n",
              "      <td>8.6</td>\n",
              "    </tr>\n",
              "    <tr>\n",
              "      <th>96</th>\n",
              "      <td>199101</td>\n",
              "      <td>39.6</td>\n",
              "      <td>2.2</td>\n",
              "    </tr>\n",
              "    <tr>\n",
              "      <th>97</th>\n",
              "      <td>199201</td>\n",
              "      <td>40.9</td>\n",
              "      <td>3.5</td>\n",
              "    </tr>\n",
              "    <tr>\n",
              "      <th>98</th>\n",
              "      <td>199301</td>\n",
              "      <td>41.0</td>\n",
              "      <td>3.6</td>\n",
              "    </tr>\n",
              "    <tr>\n",
              "      <th>99</th>\n",
              "      <td>199401</td>\n",
              "      <td>31.6</td>\n",
              "      <td>-5.8</td>\n",
              "    </tr>\n",
              "    <tr>\n",
              "      <th>100</th>\n",
              "      <td>199501</td>\n",
              "      <td>42.6</td>\n",
              "      <td>5.2</td>\n",
              "    </tr>\n",
              "    <tr>\n",
              "      <th>101</th>\n",
              "      <td>199601</td>\n",
              "      <td>37.0</td>\n",
              "      <td>-0.4</td>\n",
              "    </tr>\n",
              "    <tr>\n",
              "      <th>102</th>\n",
              "      <td>199701</td>\n",
              "      <td>39.2</td>\n",
              "      <td>1.8</td>\n",
              "    </tr>\n",
              "    <tr>\n",
              "      <th>103</th>\n",
              "      <td>199801</td>\n",
              "      <td>45.8</td>\n",
              "      <td>8.4</td>\n",
              "    </tr>\n",
              "    <tr>\n",
              "      <th>104</th>\n",
              "      <td>199901</td>\n",
              "      <td>40.8</td>\n",
              "      <td>3.4</td>\n",
              "    </tr>\n",
              "    <tr>\n",
              "      <th>105</th>\n",
              "      <td>200001</td>\n",
              "      <td>37.8</td>\n",
              "      <td>0.4</td>\n",
              "    </tr>\n",
              "    <tr>\n",
              "      <th>106</th>\n",
              "      <td>200101</td>\n",
              "      <td>38.8</td>\n",
              "      <td>1.4</td>\n",
              "    </tr>\n",
              "    <tr>\n",
              "      <th>107</th>\n",
              "      <td>200201</td>\n",
              "      <td>45.4</td>\n",
              "      <td>8.0</td>\n",
              "    </tr>\n",
              "    <tr>\n",
              "      <th>108</th>\n",
              "      <td>200301</td>\n",
              "      <td>32.9</td>\n",
              "      <td>-4.5</td>\n",
              "    </tr>\n",
              "    <tr>\n",
              "      <th>109</th>\n",
              "      <td>200401</td>\n",
              "      <td>31.0</td>\n",
              "      <td>-6.4</td>\n",
              "    </tr>\n",
              "    <tr>\n",
              "      <th>110</th>\n",
              "      <td>200501</td>\n",
              "      <td>37.4</td>\n",
              "      <td>0.0</td>\n",
              "    </tr>\n",
              "    <tr>\n",
              "      <th>111</th>\n",
              "      <td>200601</td>\n",
              "      <td>47.6</td>\n",
              "      <td>10.2</td>\n",
              "    </tr>\n",
              "    <tr>\n",
              "      <th>112</th>\n",
              "      <td>200701</td>\n",
              "      <td>43.6</td>\n",
              "      <td>6.2</td>\n",
              "    </tr>\n",
              "    <tr>\n",
              "      <th>113</th>\n",
              "      <td>200801</td>\n",
              "      <td>42.4</td>\n",
              "      <td>5.0</td>\n",
              "    </tr>\n",
              "    <tr>\n",
              "      <th>114</th>\n",
              "      <td>200901</td>\n",
              "      <td>33.4</td>\n",
              "      <td>-4.0</td>\n",
              "    </tr>\n",
              "    <tr>\n",
              "      <th>115</th>\n",
              "      <td>201001</td>\n",
              "      <td>38.1</td>\n",
              "      <td>0.7</td>\n",
              "    </tr>\n",
              "    <tr>\n",
              "      <th>116</th>\n",
              "      <td>201101</td>\n",
              "      <td>34.8</td>\n",
              "      <td>-2.6</td>\n",
              "    </tr>\n",
              "    <tr>\n",
              "      <th>117</th>\n",
              "      <td>201201</td>\n",
              "      <td>44.2</td>\n",
              "      <td>6.8</td>\n",
              "    </tr>\n",
              "    <tr>\n",
              "      <th>118</th>\n",
              "      <td>201301</td>\n",
              "      <td>40.8</td>\n",
              "      <td>3.4</td>\n",
              "    </tr>\n",
              "    <tr>\n",
              "      <th>119</th>\n",
              "      <td>201401</td>\n",
              "      <td>35.5</td>\n",
              "      <td>-1.9</td>\n",
              "    </tr>\n",
              "    <tr>\n",
              "      <th>120</th>\n",
              "      <td>201501</td>\n",
              "      <td>36.1</td>\n",
              "      <td>-1.3</td>\n",
              "    </tr>\n",
              "    <tr>\n",
              "      <th>121</th>\n",
              "      <td>201601</td>\n",
              "      <td>40.8</td>\n",
              "      <td>3.4</td>\n",
              "    </tr>\n",
              "    <tr>\n",
              "      <th>122</th>\n",
              "      <td>201701</td>\n",
              "      <td>42.8</td>\n",
              "      <td>5.4</td>\n",
              "    </tr>\n",
              "    <tr>\n",
              "      <th>123</th>\n",
              "      <td>201801</td>\n",
              "      <td>38.7</td>\n",
              "      <td>1.3</td>\n",
              "    </tr>\n",
              "  </tbody>\n",
              "</table>\n",
              "<p>124 rows × 3 columns</p>\n",
              "</div>"
            ],
            "text/plain": [
              "       Date  Value  Anomaly\n",
              "0    189501   34.2     -3.2\n",
              "1    189601   34.7     -2.7\n",
              "2    189701   35.5     -1.9\n",
              "3    189801   39.6      2.2\n",
              "4    189901   36.4     -1.0\n",
              "5    190001   37.4      0.0\n",
              "6    190101   37.0     -0.4\n",
              "7    190201   35.0     -2.4\n",
              "8    190301   35.5     -1.9\n",
              "9    190401   29.8     -7.6\n",
              "10   190501   33.7     -3.7\n",
              "11   190601   42.3      4.9\n",
              "12   190701   40.5      3.1\n",
              "13   190801   38.3      0.9\n",
              "14   190901   39.6      2.2\n",
              "15   191001   36.1     -1.3\n",
              "16   191101   40.7      3.3\n",
              "17   191201   29.3     -8.1\n",
              "18   191301   46.9      9.5\n",
              "19   191401   36.9     -0.5\n",
              "20   191501   38.9      1.5\n",
              "21   191601   42.3      4.9\n",
              "22   191701   38.4      1.0\n",
              "23   191801   26.5    -10.9\n",
              "24   191901   40.6      3.2\n",
              "25   192001   29.7     -7.7\n",
              "26   192101   39.7      2.3\n",
              "27   192201   33.4     -4.0\n",
              "28   192301   35.2     -2.2\n",
              "29   192401   39.4      2.0\n",
              "..      ...    ...      ...\n",
              "94   198901   42.4      5.0\n",
              "95   199001   46.0      8.6\n",
              "96   199101   39.6      2.2\n",
              "97   199201   40.9      3.5\n",
              "98   199301   41.0      3.6\n",
              "99   199401   31.6     -5.8\n",
              "100  199501   42.6      5.2\n",
              "101  199601   37.0     -0.4\n",
              "102  199701   39.2      1.8\n",
              "103  199801   45.8      8.4\n",
              "104  199901   40.8      3.4\n",
              "105  200001   37.8      0.4\n",
              "106  200101   38.8      1.4\n",
              "107  200201   45.4      8.0\n",
              "108  200301   32.9     -4.5\n",
              "109  200401   31.0     -6.4\n",
              "110  200501   37.4      0.0\n",
              "111  200601   47.6     10.2\n",
              "112  200701   43.6      6.2\n",
              "113  200801   42.4      5.0\n",
              "114  200901   33.4     -4.0\n",
              "115  201001   38.1      0.7\n",
              "116  201101   34.8     -2.6\n",
              "117  201201   44.2      6.8\n",
              "118  201301   40.8      3.4\n",
              "119  201401   35.5     -1.9\n",
              "120  201501   36.1     -1.3\n",
              "121  201601   40.8      3.4\n",
              "122  201701   42.8      5.4\n",
              "123  201801   38.7      1.3\n",
              "\n",
              "[124 rows x 3 columns]"
            ]
          },
          "metadata": {
            "tags": []
          },
          "execution_count": 3
        }
      ]
    },
    {
      "cell_type": "markdown",
      "metadata": {
        "id": "LAQjs0nBT1Pq"
      },
      "source": [
        "# Explore the Data"
      ]
    },
    {
      "cell_type": "code",
      "metadata": {
        "id": "hZd6rKegT1Ps",
        "outputId": "c1244c3f-54cc-460d-cd67-1dbf61d07427"
      },
      "source": [
        "myData.head(5)"
      ],
      "execution_count": null,
      "outputs": [
        {
          "output_type": "execute_result",
          "data": {
            "text/html": [
              "<div>\n",
              "<style scoped>\n",
              "    .dataframe tbody tr th:only-of-type {\n",
              "        vertical-align: middle;\n",
              "    }\n",
              "\n",
              "    .dataframe tbody tr th {\n",
              "        vertical-align: top;\n",
              "    }\n",
              "\n",
              "    .dataframe thead th {\n",
              "        text-align: right;\n",
              "    }\n",
              "</style>\n",
              "<table border=\"1\" class=\"dataframe\">\n",
              "  <thead>\n",
              "    <tr style=\"text-align: right;\">\n",
              "      <th></th>\n",
              "      <th>Date</th>\n",
              "      <th>Value</th>\n",
              "      <th>Anomaly</th>\n",
              "    </tr>\n",
              "  </thead>\n",
              "  <tbody>\n",
              "    <tr>\n",
              "      <th>0</th>\n",
              "      <td>189501</td>\n",
              "      <td>34.2</td>\n",
              "      <td>-3.2</td>\n",
              "    </tr>\n",
              "    <tr>\n",
              "      <th>1</th>\n",
              "      <td>189601</td>\n",
              "      <td>34.7</td>\n",
              "      <td>-2.7</td>\n",
              "    </tr>\n",
              "    <tr>\n",
              "      <th>2</th>\n",
              "      <td>189701</td>\n",
              "      <td>35.5</td>\n",
              "      <td>-1.9</td>\n",
              "    </tr>\n",
              "    <tr>\n",
              "      <th>3</th>\n",
              "      <td>189801</td>\n",
              "      <td>39.6</td>\n",
              "      <td>2.2</td>\n",
              "    </tr>\n",
              "    <tr>\n",
              "      <th>4</th>\n",
              "      <td>189901</td>\n",
              "      <td>36.4</td>\n",
              "      <td>-1.0</td>\n",
              "    </tr>\n",
              "  </tbody>\n",
              "</table>\n",
              "</div>"
            ],
            "text/plain": [
              "     Date  Value  Anomaly\n",
              "0  189501   34.2     -3.2\n",
              "1  189601   34.7     -2.7\n",
              "2  189701   35.5     -1.9\n",
              "3  189801   39.6      2.2\n",
              "4  189901   36.4     -1.0"
            ]
          },
          "metadata": {
            "tags": []
          },
          "execution_count": 4
        }
      ]
    },
    {
      "cell_type": "code",
      "metadata": {
        "id": "DpwanStCT1P2"
      },
      "source": [
        "myData.columns=['Date', 'Temperature', 'Anomaly']"
      ],
      "execution_count": null,
      "outputs": []
    },
    {
      "cell_type": "code",
      "metadata": {
        "id": "pm2YAs4wT1P9",
        "outputId": "5f7a56c1-ec62-4249-84ee-e2fd8129bfee"
      },
      "source": [
        "myData.head(5)"
      ],
      "execution_count": null,
      "outputs": [
        {
          "output_type": "execute_result",
          "data": {
            "text/html": [
              "<div>\n",
              "<style scoped>\n",
              "    .dataframe tbody tr th:only-of-type {\n",
              "        vertical-align: middle;\n",
              "    }\n",
              "\n",
              "    .dataframe tbody tr th {\n",
              "        vertical-align: top;\n",
              "    }\n",
              "\n",
              "    .dataframe thead th {\n",
              "        text-align: right;\n",
              "    }\n",
              "</style>\n",
              "<table border=\"1\" class=\"dataframe\">\n",
              "  <thead>\n",
              "    <tr style=\"text-align: right;\">\n",
              "      <th></th>\n",
              "      <th>Date</th>\n",
              "      <th>Temperature</th>\n",
              "      <th>Anomaly</th>\n",
              "    </tr>\n",
              "  </thead>\n",
              "  <tbody>\n",
              "    <tr>\n",
              "      <th>0</th>\n",
              "      <td>189501</td>\n",
              "      <td>34.2</td>\n",
              "      <td>-3.2</td>\n",
              "    </tr>\n",
              "    <tr>\n",
              "      <th>1</th>\n",
              "      <td>189601</td>\n",
              "      <td>34.7</td>\n",
              "      <td>-2.7</td>\n",
              "    </tr>\n",
              "    <tr>\n",
              "      <th>2</th>\n",
              "      <td>189701</td>\n",
              "      <td>35.5</td>\n",
              "      <td>-1.9</td>\n",
              "    </tr>\n",
              "    <tr>\n",
              "      <th>3</th>\n",
              "      <td>189801</td>\n",
              "      <td>39.6</td>\n",
              "      <td>2.2</td>\n",
              "    </tr>\n",
              "    <tr>\n",
              "      <th>4</th>\n",
              "      <td>189901</td>\n",
              "      <td>36.4</td>\n",
              "      <td>-1.0</td>\n",
              "    </tr>\n",
              "  </tbody>\n",
              "</table>\n",
              "</div>"
            ],
            "text/plain": [
              "     Date  Temperature  Anomaly\n",
              "0  189501         34.2     -3.2\n",
              "1  189601         34.7     -2.7\n",
              "2  189701         35.5     -1.9\n",
              "3  189801         39.6      2.2\n",
              "4  189901         36.4     -1.0"
            ]
          },
          "metadata": {
            "tags": []
          },
          "execution_count": 6
        }
      ]
    },
    {
      "cell_type": "code",
      "metadata": {
        "id": "fldSWWGVT1QG"
      },
      "source": [
        "myData.Date = myData.Date.floordiv(100)"
      ],
      "execution_count": null,
      "outputs": []
    },
    {
      "cell_type": "code",
      "metadata": {
        "id": "G6zFeeFnT1QL",
        "outputId": "ebeaae2f-5810-4d35-8cc8-4ea1166c2814"
      },
      "source": [
        "myData.head(5)"
      ],
      "execution_count": null,
      "outputs": [
        {
          "output_type": "execute_result",
          "data": {
            "text/html": [
              "<div>\n",
              "<style scoped>\n",
              "    .dataframe tbody tr th:only-of-type {\n",
              "        vertical-align: middle;\n",
              "    }\n",
              "\n",
              "    .dataframe tbody tr th {\n",
              "        vertical-align: top;\n",
              "    }\n",
              "\n",
              "    .dataframe thead th {\n",
              "        text-align: right;\n",
              "    }\n",
              "</style>\n",
              "<table border=\"1\" class=\"dataframe\">\n",
              "  <thead>\n",
              "    <tr style=\"text-align: right;\">\n",
              "      <th></th>\n",
              "      <th>Date</th>\n",
              "      <th>Temperature</th>\n",
              "      <th>Anomaly</th>\n",
              "    </tr>\n",
              "  </thead>\n",
              "  <tbody>\n",
              "    <tr>\n",
              "      <th>0</th>\n",
              "      <td>1895</td>\n",
              "      <td>34.2</td>\n",
              "      <td>-3.2</td>\n",
              "    </tr>\n",
              "    <tr>\n",
              "      <th>1</th>\n",
              "      <td>1896</td>\n",
              "      <td>34.7</td>\n",
              "      <td>-2.7</td>\n",
              "    </tr>\n",
              "    <tr>\n",
              "      <th>2</th>\n",
              "      <td>1897</td>\n",
              "      <td>35.5</td>\n",
              "      <td>-1.9</td>\n",
              "    </tr>\n",
              "    <tr>\n",
              "      <th>3</th>\n",
              "      <td>1898</td>\n",
              "      <td>39.6</td>\n",
              "      <td>2.2</td>\n",
              "    </tr>\n",
              "    <tr>\n",
              "      <th>4</th>\n",
              "      <td>1899</td>\n",
              "      <td>36.4</td>\n",
              "      <td>-1.0</td>\n",
              "    </tr>\n",
              "  </tbody>\n",
              "</table>\n",
              "</div>"
            ],
            "text/plain": [
              "   Date  Temperature  Anomaly\n",
              "0  1895         34.2     -3.2\n",
              "1  1896         34.7     -2.7\n",
              "2  1897         35.5     -1.9\n",
              "3  1898         39.6      2.2\n",
              "4  1899         36.4     -1.0"
            ]
          },
          "metadata": {
            "tags": []
          },
          "execution_count": 8
        }
      ]
    },
    {
      "cell_type": "code",
      "metadata": {
        "id": "HuVmvFj3T1QT",
        "outputId": "7a7cf1cc-bc31-464a-8bea-6b165f2aead7"
      },
      "source": [
        "myData.columns"
      ],
      "execution_count": null,
      "outputs": [
        {
          "output_type": "execute_result",
          "data": {
            "text/plain": [
              "Index(['Date', 'Temperature', 'Anomaly'], dtype='object')"
            ]
          },
          "metadata": {
            "tags": []
          },
          "execution_count": 9
        }
      ]
    },
    {
      "cell_type": "code",
      "metadata": {
        "id": "EAjz-C1xT1QY"
      },
      "source": [
        "myData=myData.drop(['Anomaly'], axis=1)"
      ],
      "execution_count": null,
      "outputs": []
    },
    {
      "cell_type": "code",
      "metadata": {
        "id": "HYtYA5JcT1Qe",
        "outputId": "2e2ae06c-dac8-49ed-adf8-69a616812570"
      },
      "source": [
        "myData.head(5)"
      ],
      "execution_count": null,
      "outputs": [
        {
          "output_type": "execute_result",
          "data": {
            "text/html": [
              "<div>\n",
              "<style scoped>\n",
              "    .dataframe tbody tr th:only-of-type {\n",
              "        vertical-align: middle;\n",
              "    }\n",
              "\n",
              "    .dataframe tbody tr th {\n",
              "        vertical-align: top;\n",
              "    }\n",
              "\n",
              "    .dataframe thead th {\n",
              "        text-align: right;\n",
              "    }\n",
              "</style>\n",
              "<table border=\"1\" class=\"dataframe\">\n",
              "  <thead>\n",
              "    <tr style=\"text-align: right;\">\n",
              "      <th></th>\n",
              "      <th>Date</th>\n",
              "      <th>Temperature</th>\n",
              "    </tr>\n",
              "  </thead>\n",
              "  <tbody>\n",
              "    <tr>\n",
              "      <th>0</th>\n",
              "      <td>1895</td>\n",
              "      <td>34.2</td>\n",
              "    </tr>\n",
              "    <tr>\n",
              "      <th>1</th>\n",
              "      <td>1896</td>\n",
              "      <td>34.7</td>\n",
              "    </tr>\n",
              "    <tr>\n",
              "      <th>2</th>\n",
              "      <td>1897</td>\n",
              "      <td>35.5</td>\n",
              "    </tr>\n",
              "    <tr>\n",
              "      <th>3</th>\n",
              "      <td>1898</td>\n",
              "      <td>39.6</td>\n",
              "    </tr>\n",
              "    <tr>\n",
              "      <th>4</th>\n",
              "      <td>1899</td>\n",
              "      <td>36.4</td>\n",
              "    </tr>\n",
              "  </tbody>\n",
              "</table>\n",
              "</div>"
            ],
            "text/plain": [
              "   Date  Temperature\n",
              "0  1895         34.2\n",
              "1  1896         34.7\n",
              "2  1897         35.5\n",
              "3  1898         39.6\n",
              "4  1899         36.4"
            ]
          },
          "metadata": {
            "tags": []
          },
          "execution_count": 13
        }
      ]
    },
    {
      "cell_type": "code",
      "metadata": {
        "id": "4SbxgqPaT1Ql"
      },
      "source": [
        "import seaborn as sns"
      ],
      "execution_count": null,
      "outputs": []
    },
    {
      "cell_type": "code",
      "metadata": {
        "id": "ecreU5J3T1Qp",
        "outputId": "138e78eb-b8c0-4b25-94cb-119cff90445f"
      },
      "source": [
        "axes=sns.scatterplot(data=myData, x='Date',y='Temperature')\n",
        "axes.set_ylim(20,50)\n",
        "#plt.plot(np.array(myData['Date'])np.array(myData['Temperature']))"
      ],
      "execution_count": null,
      "outputs": [
        {
          "output_type": "execute_result",
          "data": {
            "text/plain": [
              "(20, 50)"
            ]
          },
          "metadata": {
            "tags": []
          },
          "execution_count": 23
        },
        {
          "output_type": "display_data",
          "data": {
            "image/png": "[encoded data removed]",
            "text/plain": [
              "<Figure size 432x288 with 1 Axes>"
            ]
          },
          "metadata": {
            "tags": [],
            "needs_background": "light"
          }
        }
      ]
    },
    {
      "cell_type": "markdown",
      "metadata": {
        "id": "sxC82pVxT1Qw"
      },
      "source": [
        "# Splitting the data for the Training and Testing Set"
      ]
    },
    {
      "cell_type": "markdown",
      "metadata": {
        "id": "JzF8aB9PT1Qy"
      },
      "source": [
        "The Linear Regression estimator is used from sklearn.linear_model which uses numerical values in a dataset to perform multiple linear regression. An independent variable and dependent variable is selected, in this case the independent variable being the Date, whole the dependent variable being the Temparature.\n",
        "\n",
        "A column in a DataFrame is a one dimensional series. The Scikit-learn require the tarining and testing data in order to be in 2-Dimensional. We will change a series of n elements, into 2 dimensions, containing n rows and one column."
      ]
    },
    {
      "cell_type": "code",
      "metadata": {
        "id": "osFm9vDzT1Q0"
      },
      "source": [
        "from sklearn.model_selection import train_test_split"
      ],
      "execution_count": null,
      "outputs": []
    },
    {
      "cell_type": "code",
      "metadata": {
        "id": "3u3mSIGjT1Q4",
        "outputId": "5b9f584a-e8c7-403f-bfb3-e58200d08ec8"
      },
      "source": [
        "len(myData['Temperature'])"
      ],
      "execution_count": null,
      "outputs": [
        {
          "output_type": "execute_result",
          "data": {
            "text/plain": [
              "124"
            ]
          },
          "metadata": {
            "tags": []
          },
          "execution_count": 25
        }
      ]
    },
    {
      "cell_type": "code",
      "metadata": {
        "id": "er-nMGQKT1Q_"
      },
      "source": [
        "x=myData['Date']"
      ],
      "execution_count": null,
      "outputs": []
    },
    {
      "cell_type": "code",
      "metadata": {
        "id": "3dwrYSNNT1RM"
      },
      "source": [
        "y=myData['Temperature']"
      ],
      "execution_count": null,
      "outputs": []
    },
    {
      "cell_type": "code",
      "metadata": {
        "id": "Q-rXxr2PT1RZ"
      },
      "source": [
        "numTrain=98\n",
        "numTest=len(y)-numTrain"
      ],
      "execution_count": null,
      "outputs": []
    },
    {
      "cell_type": "code",
      "metadata": {
        "id": "tH52KTsqT1R8",
        "outputId": "66fb6b6d-0a01-4cc6-9596-9e573bdf44f2"
      },
      "source": [
        "numTest # 80% for training, 20% for testing"
      ],
      "execution_count": null,
      "outputs": [
        {
          "output_type": "execute_result",
          "data": {
            "text/plain": [
              "26"
            ]
          },
          "metadata": {
            "tags": []
          },
          "execution_count": 29
        }
      ]
    },
    {
      "cell_type": "code",
      "metadata": {
        "id": "rxemlOLST1SN"
      },
      "source": [
        "x_train=x[:numTrain]"
      ],
      "execution_count": null,
      "outputs": []
    },
    {
      "cell_type": "code",
      "metadata": {
        "id": "4H_fZUB8T1Sb"
      },
      "source": [
        "x_test=x[:-numTrain]"
      ],
      "execution_count": null,
      "outputs": []
    },
    {
      "cell_type": "code",
      "metadata": {
        "id": "l13T8yf1T1So",
        "outputId": "b8771169-691f-4a15-9d7f-d64fac5daad4"
      },
      "source": [
        "len(x_test)"
      ],
      "execution_count": null,
      "outputs": [
        {
          "output_type": "execute_result",
          "data": {
            "text/plain": [
              "26"
            ]
          },
          "metadata": {
            "tags": []
          },
          "execution_count": 53
        }
      ]
    },
    {
      "cell_type": "code",
      "metadata": {
        "id": "S1As0N67T1S5",
        "outputId": "761d9496-c933-43cf-a104-8183c18586e1"
      },
      "source": [
        "len(x_train)"
      ],
      "execution_count": null,
      "outputs": [
        {
          "output_type": "execute_result",
          "data": {
            "text/plain": [
              "98"
            ]
          },
          "metadata": {
            "tags": []
          },
          "execution_count": 51
        }
      ]
    },
    {
      "cell_type": "code",
      "metadata": {
        "id": "gN_D5We0T1TG"
      },
      "source": [
        "y_train=y[:numTrain]"
      ],
      "execution_count": null,
      "outputs": []
    },
    {
      "cell_type": "code",
      "metadata": {
        "id": "ZjLHhTJlT1Tc",
        "outputId": "54af4164-8813-45c2-977c-af70e70e02c1"
      },
      "source": [
        "len(y_train)"
      ],
      "execution_count": null,
      "outputs": [
        {
          "output_type": "execute_result",
          "data": {
            "text/plain": [
              "98"
            ]
          },
          "metadata": {
            "tags": []
          },
          "execution_count": 56
        }
      ]
    },
    {
      "cell_type": "code",
      "metadata": {
        "id": "rp_zkUZET1Tn"
      },
      "source": [
        "y_test=y[:-numTrain]"
      ],
      "execution_count": null,
      "outputs": []
    },
    {
      "cell_type": "code",
      "metadata": {
        "id": "GPddsPCsT1Tt",
        "outputId": "2da84f3e-ac55-4cd0-c1c7-1e8f8f7cfc94"
      },
      "source": [
        "len(y_test)"
      ],
      "execution_count": null,
      "outputs": [
        {
          "output_type": "execute_result",
          "data": {
            "text/plain": [
              "26"
            ]
          },
          "metadata": {
            "tags": []
          },
          "execution_count": 58
        }
      ]
    },
    {
      "cell_type": "code",
      "metadata": {
        "id": "jhfWqvUMT1T0"
      },
      "source": [
        "from sklearn.linear_model import LinearRegression"
      ],
      "execution_count": null,
      "outputs": []
    },
    {
      "cell_type": "code",
      "metadata": {
        "id": "71PFUw1bT1T-",
        "outputId": "c0578b22-aa23-446d-d9a1-c6b096f038f6"
      },
      "source": [
        "x_train.shape"
      ],
      "execution_count": null,
      "outputs": [
        {
          "output_type": "execute_result",
          "data": {
            "text/plain": [
              "(98,)"
            ]
          },
          "metadata": {
            "tags": []
          },
          "execution_count": 61
        }
      ]
    },
    {
      "cell_type": "code",
      "metadata": {
        "id": "Awp5Vja3T1UJ"
      },
      "source": [
        "x_train=np.array(x_train)"
      ],
      "execution_count": null,
      "outputs": []
    },
    {
      "cell_type": "code",
      "metadata": {
        "id": "7W4xa2iTT1US"
      },
      "source": [
        "x_test=np.array(x_test)"
      ],
      "execution_count": null,
      "outputs": []
    },
    {
      "cell_type": "code",
      "metadata": {
        "id": "G4yGnggxT1UZ"
      },
      "source": [
        "y_test=np.array(y_test)"
      ],
      "execution_count": null,
      "outputs": []
    },
    {
      "cell_type": "code",
      "metadata": {
        "id": "DCHQPtyLT1Uh"
      },
      "source": [
        "y_train=np.array(y_train)"
      ],
      "execution_count": null,
      "outputs": []
    },
    {
      "cell_type": "code",
      "metadata": {
        "id": "FcYvPdS3T1Ut"
      },
      "source": [
        "y_train=y_train.reshape(-1,1)"
      ],
      "execution_count": null,
      "outputs": []
    },
    {
      "cell_type": "code",
      "metadata": {
        "id": "ElHBDwuIT1U5",
        "outputId": "1378f28a-bc60-4a7b-b07d-6f5ab50f800d"
      },
      "source": [
        "y_train.shape"
      ],
      "execution_count": null,
      "outputs": [
        {
          "output_type": "execute_result",
          "data": {
            "text/plain": [
              "(98, 1)"
            ]
          },
          "metadata": {
            "tags": []
          },
          "execution_count": 67
        }
      ]
    },
    {
      "cell_type": "code",
      "metadata": {
        "id": "MdkWT7HgT1VG"
      },
      "source": [
        "x_train=x_train.reshape(-1,1)"
      ],
      "execution_count": null,
      "outputs": []
    },
    {
      "cell_type": "code",
      "metadata": {
        "id": "skikLlbPT1VR",
        "outputId": "40f4278d-1ef8-4a0c-b428-ab20c4e897b6"
      },
      "source": [
        "x_train.shape"
      ],
      "execution_count": null,
      "outputs": [
        {
          "output_type": "execute_result",
          "data": {
            "text/plain": [
              "(98, 1)"
            ]
          },
          "metadata": {
            "tags": []
          },
          "execution_count": 69
        }
      ]
    },
    {
      "cell_type": "code",
      "metadata": {
        "id": "FMAy0bShT1Vb"
      },
      "source": [
        "from sklearn import linear_model"
      ],
      "execution_count": null,
      "outputs": []
    },
    {
      "cell_type": "code",
      "metadata": {
        "id": "Yy6J9c5sT1Vo"
      },
      "source": [
        "from sklearn.metrics import mean_squared_error, r2_score"
      ],
      "execution_count": null,
      "outputs": []
    },
    {
      "cell_type": "code",
      "metadata": {
        "id": "lG4sio2rT1WQ"
      },
      "source": [
        "regr=linear_model.LinearRegression()"
      ],
      "execution_count": null,
      "outputs": []
    },
    {
      "cell_type": "code",
      "metadata": {
        "id": "Gxa7TnVCT1Wg",
        "outputId": "db2eb88d-9ae5-48b8-b6a5-68945a22d587"
      },
      "source": [
        "regr.fit(x_train,y_train)"
      ],
      "execution_count": null,
      "outputs": [
        {
          "output_type": "execute_result",
          "data": {
            "text/plain": [
              "LinearRegression(copy_X=True, fit_intercept=True, n_jobs=None,\n",
              "         normalize=False)"
            ]
          },
          "metadata": {
            "tags": []
          },
          "execution_count": 73
        }
      ]
    },
    {
      "cell_type": "code",
      "metadata": {
        "id": "xtjiMlSuT1Wq"
      },
      "source": [
        "x_test=x_test.reshape(-1,1)"
      ],
      "execution_count": null,
      "outputs": []
    },
    {
      "cell_type": "code",
      "metadata": {
        "id": "qIaDpBhVT1W2"
      },
      "source": [
        "y_test=y_test.reshape(-1,1)"
      ],
      "execution_count": null,
      "outputs": []
    },
    {
      "cell_type": "code",
      "metadata": {
        "id": "sdOUDnjzT1W8",
        "outputId": "5463e30c-6d01-4e01-89bd-946c77f71527"
      },
      "source": [
        "x_train.shape"
      ],
      "execution_count": null,
      "outputs": [
        {
          "output_type": "execute_result",
          "data": {
            "text/plain": [
              "(98, 1)"
            ]
          },
          "metadata": {
            "tags": []
          },
          "execution_count": 76
        }
      ]
    },
    {
      "cell_type": "code",
      "metadata": {
        "id": "IJH2EH_aT1XJ",
        "outputId": "099a0b79-dc75-4250-d20b-0fbd35a4fe2d"
      },
      "source": [
        "x_test.shape"
      ],
      "execution_count": null,
      "outputs": [
        {
          "output_type": "execute_result",
          "data": {
            "text/plain": [
              "(26, 1)"
            ]
          },
          "metadata": {
            "tags": []
          },
          "execution_count": 77
        }
      ]
    },
    {
      "cell_type": "code",
      "metadata": {
        "id": "aCjEytTjT1XS",
        "outputId": "0aa245db-ab9c-43ef-fde3-e8dea9ce6481"
      },
      "source": [
        "y_test.shape"
      ],
      "execution_count": null,
      "outputs": [
        {
          "output_type": "execute_result",
          "data": {
            "text/plain": [
              "(26, 1)"
            ]
          },
          "metadata": {
            "tags": []
          },
          "execution_count": 78
        }
      ]
    },
    {
      "cell_type": "code",
      "metadata": {
        "id": "d56Wbb7VT1Xb",
        "outputId": "b5434300-ad89-4348-dd36-6fea1be4061f"
      },
      "source": [
        "y_train.shape"
      ],
      "execution_count": null,
      "outputs": [
        {
          "output_type": "execute_result",
          "data": {
            "text/plain": [
              "(98, 1)"
            ]
          },
          "metadata": {
            "tags": []
          },
          "execution_count": 79
        }
      ]
    },
    {
      "cell_type": "code",
      "metadata": {
        "id": "qchkBA9xT1Xk"
      },
      "source": [
        "y_pred_test=regr.predict(x_test)"
      ],
      "execution_count": null,
      "outputs": []
    },
    {
      "cell_type": "code",
      "metadata": {
        "id": "9vS6i0llT1Xp",
        "outputId": "3530fd12-9674-451f-bfad-95b13548120f"
      },
      "source": [
        "y_pred_test"
      ],
      "execution_count": null,
      "outputs": [
        {
          "output_type": "execute_result",
          "data": {
            "text/plain": [
              "array([[37.35058751],\n",
              "       [37.34666208],\n",
              "       [37.34273664],\n",
              "       [37.33881121],\n",
              "       [37.33488578],\n",
              "       [37.33096035],\n",
              "       [37.32703492],\n",
              "       [37.32310949],\n",
              "       [37.31918406],\n",
              "       [37.31525862],\n",
              "       [37.31133319],\n",
              "       [37.30740776],\n",
              "       [37.30348233],\n",
              "       [37.2995569 ],\n",
              "       [37.29563147],\n",
              "       [37.29170604],\n",
              "       [37.2877806 ],\n",
              "       [37.28385517],\n",
              "       [37.27992974],\n",
              "       [37.27600431],\n",
              "       [37.27207888],\n",
              "       [37.26815345],\n",
              "       [37.26422802],\n",
              "       [37.26030258],\n",
              "       [37.25637715],\n",
              "       [37.25245172]])"
            ]
          },
          "metadata": {
            "tags": []
          },
          "execution_count": 81
        }
      ]
    },
    {
      "cell_type": "code",
      "metadata": {
        "id": "JuKa834sT1Xt",
        "outputId": "057fd602-5947-42a9-a0c3-c7e7e9274cfb"
      },
      "source": [
        "plt.scatter(y_test,y_pred_test, color='black')\n",
        "plt.title('Date vs Temperature')\n",
        "plt.xlabel('Date(1895-2018)')\n",
        "plt.ylabel('Temperature')\n",
        "print('Room Mean Squared Error = %.4f'% np.sqrt(mean_squared_error(y_test,y_pred_test)))\n",
        "print('R-Squared = %.4f'%r2_score(y_test,y_pred_test))\n"
      ],
      "execution_count": null,
      "outputs": [
        {
          "output_type": "stream",
          "text": [
            "Room Mean Squared Error = 4.5101\n",
            "R-Squared = -0.0152\n"
          ],
          "name": "stdout"
        },
        {
          "output_type": "display_data",
          "data": {
            "image/png": "[encoded data removed]",
            "text/plain": [
              "<Figure size 432x288 with 1 Axes>"
            ]
          },
          "metadata": {
            "tags": [],
            "needs_background": "light"
          }
        }
      ]
    },
    {
      "cell_type": "markdown",
      "metadata": {
        "id": "tfI9S3-zT1Xy"
      },
      "source": [
        "Finding the slope"
      ]
    },
    {
      "cell_type": "code",
      "metadata": {
        "id": "OC_Ucc4gT1X1",
        "outputId": "fd1d4097-b3ba-4e03-a9f0-150492359224"
      },
      "source": [
        "print('Slope =', regr.coef_[0][0])"
      ],
      "execution_count": null,
      "outputs": [
        {
          "output_type": "stream",
          "text": [
            "Slope = -0.0039254314659322035\n"
          ],
          "name": "stdout"
        }
      ]
    },
    {
      "cell_type": "markdown",
      "metadata": {
        "id": "0dW1TfphT1X9"
      },
      "source": [
        "Finding the intercept"
      ]
    },
    {
      "cell_type": "code",
      "metadata": {
        "id": "O47KyhCcT1X-",
        "outputId": "4acdc2a7-81b1-46e0-f320-b4ea6799407c"
      },
      "source": [
        "print('Intercept =', regr.intercept_[0])"
      ],
      "execution_count": null,
      "outputs": [
        {
          "output_type": "stream",
          "text": [
            "Intercept = 44.78928013567189\n"
          ],
          "name": "stdout"
        }
      ]
    },
    {
      "cell_type": "code",
      "metadata": {
        "id": "iiKxugKFT1YI",
        "outputId": "ed9264fc-d73e-47af-9bdf-49bb635ae471"
      },
      "source": [
        "plt.scatter(x_test,y_test, color='black')\n",
        "plt.scatter(x_train,y_train, color='blue')\n",
        "plt.plot(x_test,y_pred_test, color='green', linewidth=3)\n",
        "titlestr='Predicted Function: y=%.2fX + %.2f'%(regr.coef_[0],regr.intercept_[0])\n",
        "plt.title(titlestr)\n",
        "plt.xlabel('Date')\n",
        "plt.ylabel('Temparature')"
      ],
      "execution_count": null,
      "outputs": [
        {
          "output_type": "execute_result",
          "data": {
            "text/plain": [
              "Text(0, 0.5, 'Temparature')"
            ]
          },
          "metadata": {
            "tags": []
          },
          "execution_count": 90
        },
        {
          "output_type": "display_data",
          "data": {
            "image/png": "[encoded data removed]",
            "text/plain": [
              "<Figure size 432x288 with 1 Axes>"
            ]
          },
          "metadata": {
            "tags": [],
            "needs_background": "light"
          }
        }
      ]
    },
    {
      "cell_type": "markdown",
      "metadata": {
        "id": "IvA4iHo6T1YP"
      },
      "source": [
        "# Conclusion"
      ]
    },
    {
      "cell_type": "markdown",
      "metadata": {
        "id": "9eZjOil5T1YS"
      },
      "source": [
        "Using the slope and intercept found, the linear equation derived from the model is:\n",
        "    y = 0.00x + 44.79"
      ]
    },
    {
      "cell_type": "markdown",
      "metadata": {
        "id": "USZC2jVVT1YW"
      },
      "source": [
        "We can then use this linear equation to solve for the temperatures of 2019 as follows:\n",
        "    \n",
        "    y(temperature) =(-0.0039254314659322035 * 2019) + 44.78928013567189\n",
        "    \n",
        "    y(temperature) =36.863834006"
      ]
    },
    {
      "cell_type": "markdown",
      "metadata": {
        "id": "u6WIhz2oT1YX"
      },
      "source": [
        "Therefore, the predicted temperature of 2019 is 36.863834006"
      ]
    }
  ]
}