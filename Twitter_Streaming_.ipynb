{
  "cells": [
    {
      "cell_type": "markdown",
      "metadata": {
        "id": "U8kVmAl1lVGX"
      },
      "source": [
        "# `ASSIGNMENT`\n",
        "- Stream tweets for different sessions - run the stream code for 5 sessions, in a day, create a wordcloud using tweets you had, for each session\n",
        "- nation, bbc, cnn, harvest data from news media houses websites - to see if it maps with what is current\n",
        "- also draw a bar chart\n",
        " - what is trending currently for the sessions"
      ]
    },
    {
      "cell_type": "code",
      "execution_count": null,
      "metadata": {
        "id": "OvdGUVAjlVGd"
      },
      "outputs": [],
      "source": [
        "import tweepy\n",
        "import keys"
      ]
    },
    {
      "cell_type": "code",
      "execution_count": null,
      "metadata": {
        "id": "_wIKwjFhlVGg"
      },
      "outputs": [],
      "source": [
        "auth=tweepy.OAuthHandler(keys.consumer_key, keys.consumer_secret)"
      ]
    },
    {
      "cell_type": "code",
      "execution_count": null,
      "metadata": {
        "id": "0ThvzjPRlVGh"
      },
      "outputs": [],
      "source": [
        "auth.set_access_token(keys.access_token,keys.access_token_secret)"
      ]
    },
    {
      "cell_type": "code",
      "execution_count": null,
      "metadata": {
        "id": "6cnq0oDvlVGk"
      },
      "outputs": [],
      "source": [
        "api=tweepy.API(auth, wait_on_rate_limit=True,wait_on_rate_limit_notify=True)"
      ]
    },
    {
      "cell_type": "code",
      "execution_count": null,
      "metadata": {
        "scrolled": true,
        "id": "eFzclMDRlVGk",
        "outputId": "03883ba8-8bf3-4247-e2d5-d3788236c5b8"
      },
      "outputs": [
        {
          "name": "stdout",
          "output_type": "stream",
          "text": [
            "1339716414786170881\n",
            "1339716504565248001\n",
            "1339716652938780673\n",
            "1339716716465631237\n",
            "1339716733603631104\n",
            "1339716740247384069\n",
            "1339716912490561541\n",
            "1339717133014609920\n",
            "1339717144343425024\n",
            "1339717596376133638\n",
            "1339717664323870723\n",
            "1339717692241014787\n",
            "1339717880418463744\n",
            "1339718050988371968\n",
            "1339718119019917313\n",
            "1339718157489991683\n",
            "1339718201182175232\n",
            "1339718258660880384\n",
            "1339718374977380352\n",
            "1339718583753043968\n"
          ]
        }
      ],
      "source": [
        "class StreamListener(tweepy.StreamListener):\n",
        "\n",
        "    def __init__(self):\n",
        "        super().__init__()\n",
        "        self.tweet_count=0\n",
        "        self.TWEET_LIMIT = 19\n",
        "    def on_status(self, status):\n",
        "        #self.tweet_count=0\n",
        "        #self.TWEET_LIMIT = limit\n",
        "        print(status.id_str)\n",
        "        # if \"retweeted_status\" attribute exists, flag this tweet as a retweet.\n",
        "        is_retweet = hasattr(status, \"retweeted_status\")\n",
        "\n",
        "        # check if text has been truncated\n",
        "        if hasattr(status,\"extended_tweet\"):\n",
        "            text = status.extended_tweet[\"full_text\"]\n",
        "        else:\n",
        "            text = status.text\n",
        "\n",
        "        # check if this is a quote tweet.\n",
        "        is_quote = hasattr(status, \"quoted_status\")\n",
        "        quoted_text = \"\"\n",
        "        if is_quote:\n",
        "            # check if quoted tweet's text has been truncated before recording it\n",
        "            if hasattr(status.quoted_status,\"extended_tweet\"):\n",
        "                quoted_text = status.quoted_status.extended_tweet[\"full_text\"]\n",
        "            else:\n",
        "                quoted_text = status.quoted_status.text\n",
        "\n",
        "        # remove characters that might cause problems with csv encoding\n",
        "        remove_characters = [\",\",\"\\n\"]\n",
        "        for c in remove_characters:\n",
        "            text.replace(c,\" \")\n",
        "            quoted_text.replace(c, \" \")\n",
        "\n",
        "        with open(\"tweet1.txt\", \"a\", encoding='utf-8') as f:\n",
        "            f.write(\"%s\\n\" % (text))\n",
        "        self.tweet_count += 1\n",
        "        #return self.tweet_count <= self.TWEET_LIMIT\n",
        "        if self.tweet_count <= self.TWEET_LIMIT:\n",
        "            return True\n",
        "        else:\n",
        "\n",
        "            return False\n",
        "    def on_error(self, status_code):\n",
        "        print(\"Encountered streaming error (\", status_code, \")\")\n",
        "        sys.exit()\n",
        "\n",
        "if __name__ == \"__main__\":\n",
        "    # complete authorization and initialize API endpoint\n",
        "    auth=tweepy.OAuthHandler(keys.consumer_key, keys.consumer_secret)\n",
        "    auth.set_access_token(keys.access_token,keys.access_token_secret)\n",
        "    api=tweepy.API(auth, wait_on_rate_limit=True,wait_on_rate_limit_notify=True)\n",
        "\n",
        "\n",
        "\n",
        "    # initialize stream\n",
        "    streamListener = StreamListener()\n",
        "    stream = tweepy.Stream(auth=api.auth, listener=streamListener,tweet_mode='extended')\n",
        "    with open(\"twt.txt\", \"w\", encoding='utf-8') as f:\n",
        "        f.write(\"date,user,is_retweet,is_quote,text,quoted_text\\n\")\n",
        "    tags = [\"Sonko\"]\n",
        "    stream.filter(track=tags)"
      ]
    },
    {
      "cell_type": "code",
      "execution_count": null,
      "metadata": {
        "id": "yllOwB-ylVGp"
      },
      "outputs": [],
      "source": [
        "from pathlib import Path\n",
        "import preprocessor as p\n",
        "from textblob import TextBlob\n",
        "from nltk.corpus import stopwords\n",
        "from operator import itemgetter\n",
        "from wordcloud import WordCloud\n",
        "import pandas as pd\n"
      ]
    },
    {
      "cell_type": "code",
      "execution_count": null,
      "metadata": {
        "id": "eJ55P9_clVGw"
      },
      "outputs": [],
      "source": [
        "t_text= Path('twt.txt').read_text(errors='ignore')"
      ]
    },
    {
      "cell_type": "code",
      "execution_count": null,
      "metadata": {
        "id": "4p3ZWy8-lVGx"
      },
      "outputs": [],
      "source": [
        "#all Preprocessor options enabled\n",
        "p.set_options(p.OPT.URL,p.OPT.EMOJI,p.OPT.NUMBER, p.OPT.RESERVED, p.OPT.MENTION, p.OPT.SMILEY, p.OPT.HASHTAG)"
      ]
    },
    {
      "cell_type": "code",
      "execution_count": null,
      "metadata": {
        "id": "9OYoJ3AUlVGy"
      },
      "outputs": [],
      "source": [
        "clean_t_text=p.clean(t_text)"
      ]
    },
    {
      "cell_type": "code",
      "execution_count": null,
      "metadata": {
        "id": "LfbtgLgQlVG4"
      },
      "outputs": [],
      "source": [
        "t_blob=TextBlob(clean_t_text)"
      ]
    },
    {
      "cell_type": "code",
      "execution_count": null,
      "metadata": {
        "id": "b7yJvAHGlVG5"
      },
      "outputs": [],
      "source": [
        "t_items=t_blob.word_counts.items()"
      ]
    },
    {
      "cell_type": "code",
      "execution_count": null,
      "metadata": {
        "id": "2V3Bs4dslVG_"
      },
      "outputs": [],
      "source": [
        "t_stop_words=stopwords.words('english')"
      ]
    },
    {
      "cell_type": "code",
      "execution_count": null,
      "metadata": {
        "id": "E8vqO5WTlVG_"
      },
      "outputs": [],
      "source": [
        "t_stopwords_list = ['RT','ðÿ‡¬ðÿ‡§ðÿ‡ºðÿ‡¸\t','ukâ€\t','“','rt','date,user,is_retweet,is_quote,text,quoted_text','@','United','Kingdom']\n",
        "t_stop_words.extend(t_stopwords_list)"
      ]
    },
    {
      "cell_type": "code",
      "execution_count": null,
      "metadata": {
        "id": "N_wnw2o0lVHA"
      },
      "outputs": [],
      "source": [
        "#elimiate stop words\n",
        "t_items =[item for item in t_items if item[0] not in t_stop_words]"
      ]
    },
    {
      "cell_type": "code",
      "execution_count": null,
      "metadata": {
        "id": "iHxb9mIDlVHA"
      },
      "outputs": [],
      "source": [
        "t_sorted_items=sorted(t_items, key=itemgetter(1), reverse=True)"
      ]
    },
    {
      "cell_type": "code",
      "execution_count": null,
      "metadata": {
        "id": "t7ds4opFlVHC"
      },
      "outputs": [],
      "source": [
        "t_top=t_sorted_items[:20]"
      ]
    },
    {
      "cell_type": "code",
      "execution_count": null,
      "metadata": {
        "id": "vpl0M-XjlVHC"
      },
      "outputs": [],
      "source": [
        "t_df=pd.DataFrame(t_top, columns=['words','count'])"
      ]
    },
    {
      "cell_type": "code",
      "execution_count": null,
      "metadata": {
        "id": "fGykncQMlVHG",
        "outputId": "159bc93a-7698-4b57-dff6-183c78b64ce1"
      },
      "outputs": [
        {
          "data": {
            "image/png": "[encoded data removed]",
            "text/plain": [
              "<Figure size 432x288 with 1 Axes>"
            ]
          },
          "metadata": {
            "needs_background": "light"
          },
          "output_type": "display_data"
        }
      ],
      "source": [
        "axes=t_df.plot.bar(x='words',y='count', legend=False)"
      ]
    },
    {
      "cell_type": "code",
      "execution_count": null,
      "metadata": {
        "id": "X5XOjV1glVHI"
      },
      "outputs": [],
      "source": [
        "t_tuples = [tuple(x) for x in t_df.values]"
      ]
    },
    {
      "cell_type": "code",
      "execution_count": null,
      "metadata": {
        "id": "Ia4UaFFylVHJ"
      },
      "outputs": [],
      "source": [
        "t_wordcloud = WordCloud(width = 2000, height= 2000, prefer_horizontal=0.5, min_font_size=10, colormap='prism', background_color='white').generate_from_frequencies(dict(t_tuples))"
      ]
    },
    {
      "cell_type": "code",
      "execution_count": null,
      "metadata": {
        "id": "YMCAGuSelVHJ"
      },
      "outputs": [],
      "source": [
        "t_wordcloud = t_wordcloud.to_file('t1.png')"
      ]
    },
    {
      "cell_type": "code",
      "execution_count": null,
      "metadata": {
        "id": "GH8jbi5OlVHJ"
      },
      "outputs": [],
      "source": [
        "import matplotlib.image as mpimg\n",
        "import matplotlib.pyplot as plt"
      ]
    },
    {
      "cell_type": "code",
      "execution_count": null,
      "metadata": {
        "id": "rl2xIyjelVHK",
        "outputId": "9e5be914-4c35-4ed1-821c-79187e7ead98"
      },
      "outputs": [
        {
          "data": {
            "text/plain": [
              "<matplotlib.image.AxesImage at 0x22204e50160>"
            ]
          },
          "execution_count": 64,
          "metadata": {},
          "output_type": "execute_result"
        },
        {
          "data": {
            "image/png": "[encoded data removed]",
            "text/plain": [
              "<Figure size 432x288 with 1 Axes>"
            ]
          },
          "metadata": {
            "needs_background": "light"
          },
          "output_type": "display_data"
        }
      ],
      "source": [
        "plt.imshow(t_wordcloud)"
      ]
    },
    {
      "cell_type": "markdown",
      "metadata": {
        "id": "ZougKPEMlVHP"
      },
      "source": [
        "# Comparing Twitter to a media house\n",
        " - Here, I will compare it to Nation Media House"
      ]
    },
    {
      "cell_type": "code",
      "execution_count": null,
      "metadata": {
        "id": "hLOccR4ilVHP"
      },
      "outputs": [],
      "source": [
        "import requests"
      ]
    },
    {
      "cell_type": "code",
      "execution_count": null,
      "metadata": {
        "id": "1_cWYgwblVHT"
      },
      "outputs": [],
      "source": [
        "response = requests.get('https://www.nationmedia.com/')"
      ]
    },
    {
      "cell_type": "code",
      "execution_count": null,
      "metadata": {
        "scrolled": true,
        "id": "OY8M1_13lVHT",
        "outputId": "c538bf36-45ba-4721-920a-8809f3a74c75"
      },
      "outputs": [
        {
          "data": {
            "text/plain": [
              "b'\\r\\n\\r\\n<!DOCTYPE html>\\r\\n<html lang=\"en\">\\r\\n    <head>\\r\\n        <meta charset=\"utf-8\">\\r\\n        <meta http-equiv=\"X-UA-Compatible\" content=\"IE=edge\">\\r\\n        <meta name=\"viewport\" content=\"width=device-width, initial-scale=1.0, user-scalable=yes\">\\r\\n        <meta name=\"description\" content=\"The Nation Media Group - The Nation Media Group is the largest independent media house in East and Central Africa with operations in print, broadcast and digital media.\">\\r\\n        <meta http-equiv=\"cleartype\" content=\"on\">\\r\\n        <title>Home - The Nation Media Group</title>\\n\\n<!-- This site is optimized with the Yoast SEO plugin v4.9 - https://yoast.com/wordpress/plugins/seo/ -->\\n<link rel=\"canonical\" href=\"https://www.nationmedia.com/\" />\\n<meta property=\"og:locale\" content=\"en_US\" />\\n<meta property=\"og:type\" content=\"website\" />\\n<meta property=\"og:title\" content=\"Home - The Nation Media Group\" />\\n<meta property=\"og:url\" content=\"https://www.nationmedia.com/\" />\\n<meta property=\"og:site_name\" content=\"The Nation Media Group\" />\\n<meta property=\"og:image\" content=\"https://www.nationmedia.com/wp-content/uploads/2016/09/Add-a-little-bit-of-body-text-4.png\" />\\n<meta property=\"og:image:width\" content=\"1600\" />\\n<meta property=\"og:image:height\" content=\"900\" />\\n<meta name=\"twitter:card\" content=\"summary\" />\\n<meta name=\"twitter:title\" content=\"Home - The Nation Media Group\" />\\n<meta name=\"twitter:site\" content=\"@NationMediaGrp\" />\\n<meta name=\"twitter:image\" content=\"https://www.nationmedia.com/wp-content/uploads/2016/09/Add-a-little-bit-of-body-text-4.png\" />\\n<meta name=\"twitter:creator\" content=\"@NationMediaGrp\" />\\n<script type=\\'application/ld+json\\'>{\"@context\":\"http:\\\\/\\\\/schema.org\",\"@type\":\"WebSite\",\"@id\":\"#website\",\"url\":\"https:\\\\/\\\\/www.nationmedia.com\\\\/\",\"name\":\"The Nation Media Group\",\"potentialAction\":{\"@type\":\"SearchAction\",\"target\":\"https:\\\\/\\\\/www.nationmedia.com\\\\/?s={search_term_string}\",\"query-input\":\"required name=search_term_string\"}}</script>\\n<script type=\\'application/ld+json\\'>{\"@context\":\"http:\\\\/\\\\/schema.org\",\"@type\":\"Organization\",\"url\":\"https:\\\\/\\\\/www.nationmedia.com\\\\/\",\"sameAs\":[\"https:\\\\/\\\\/www.facebook.com\\\\/NationMediaGroup\\\\/\",\"https:\\\\/\\\\/www.linkedin.com\\\\/company\\\\/nation-media-group\",\"https:\\\\/\\\\/twitter.com\\\\/NationMediaGrp\"],\"@id\":\"#organization\",\"name\":\"Nation Media Group\",\"logo\":\"http:\\\\/\\\\/www.nationmedia.com\\\\/wp-content\\\\/uploads\\\\/2017\\\\/06\\\\/NMG-Logo-1.png\"}</script>\\n<!-- / Yoast SEO plugin. -->\\n\\n<meta name=\"description\" content=\"The Nation Media Group is the largest independent media house in East and Central Africa with operations in print, broadcast and digital media.\" />\\n<link rel=\"canonical\" href=\"https://www.nationmedia.com/\" />\\n<script type=\"application/ld+json\">{\"@context\" : \"https://schema.org\",\"@type\" : \"Organization\",\"logo\": \"http:\\\\/\\\\/www.nationmedia.com\\\\/wp-content\\\\/uploads\\\\/2017\\\\/06\\\\/NMG-Logo-1.png\",\"name\" : \"Nation Media Group\",\"url\" : \"https:\\\\/\\\\/www.nationmedia.com\",\"contactPoint\": [{\\n\\t\\t\\t\\t\"@type\": \"ContactPoint\",\\n\\t\\t\\t\\t\"telephone\": \"+254 020-3288000, +254 719-038000, +254 732-038000\",\\n\\t\\t\\t\\t\"contactType\": \"customer support\",\\n\\t\\t\\t\\t\"contactOption\": \"TollFree\"\\n\\t\\t\\t}],\"sameAs\" : [\"https:\\\\/\\\\/www.facebook.com\\\\/NationMediaGroup\\\\/\", \"https:\\\\/\\\\/twitter.com\\\\/@NationMediaGrp\"]}</script>\\n<script type=\"application/ld+json\">{\\n\\t\\t    \"@context\": \"https://schema.org\",\\n\\t\\t    \"@type\": \"WebSite\",\\n\\t\\t    \"url\" : \"https:\\\\/\\\\/www.nationmedia.com\",\\n\\t\\t    \"potentialAction\": {\\n\\t\\t      \\t\"@type\": \"SearchAction\",\\n\\t\\t      \\t\"target\": \"https:\\\\/\\\\/www.nationmedia.com\\\\/?s={search_term_string}\",\\n\\t\\t\\t\\t\"query-input\": \"required name=search_term_string\"\\n\\t\\t    }\\n\\t\\t}</script>\\n<meta property=\"og:url\" content=\"https://www.nationmedia.com/\" />\\n<meta property=\"og:site_name\" content=\"The Nation Media Group\" />\\n<meta property=\"og:locale\" content=\"en_US\" />\\n<meta property=\"og:type\" content=\"website\" />\\n<meta property=\"og:title\" content=\"Home\" />\\n<meta property=\"og:image\" content=\"https://www.nationmedia.com/wp-content/uploads/2016/09/Add-a-little-bit-of-body-text-4.png\" />\\n<meta name=\"twitter:card\" content=\"summary\" />\\n<meta name=\"twitter:site\" content=\"@NationMediaGrp\" />\\n<meta name=\"twitter:creator\" content=\"@NationMediaGrp\" />\\n<meta name=\"twitter:title\" content=\"Home\" />\\n<meta name=\"twitter:image\" content=\"https://www.nationmedia.com/wp-content/uploads/2016/09/Add-a-little-bit-of-body-text-4.png\" />\\n<link rel=\\'dns-prefetch\\' href=\\'//s.w.org\\' />\\n<meta name=\"google-site-verification\" content=\"dDpaxB5tbo52Xa3qto9kScl5rCLqtvps7OdeSgJXBgA\" />\\n\\t\\t<script type=\"text/javascript\">\\n\\t\\t\\twindow._wpemojiSettings = {\"baseUrl\":\"https:\\\\/\\\\/s.w.org\\\\/images\\\\/core\\\\/emoji\\\\/2\\\\/72x72\\\\/\",\"ext\":\".png\",\"svgUrl\":\"https:\\\\/\\\\/s.w.org\\\\/images\\\\/core\\\\/emoji\\\\/2\\\\/svg\\\\/\",\"svgExt\":\".svg\",\"source\":{\"concatemoji\":\"https:\\\\/\\\\/www.nationmedia.com\\\\/wp-includes\\\\/js\\\\/wp-emoji-release.min.js?ver=4.6.1\"}};\\n\\t\\t\\t!function(a,b,c){function d(a){var c,d,e,f,g,h=b.createElement(\"canvas\"),i=h.getContext&&h.getContext(\"2d\"),j=String.fromCharCode;if(!i||!i.fillText)return!1;switch(i.textBaseline=\"top\",i.font=\"600 32px Arial\",a){case\"flag\":return i.fillText(j(55356,56806,55356,56826),0,0),!(h.toDataURL().length<3e3)&&(i.clearRect(0,0,h.width,h.height),i.fillText(j(55356,57331,65039,8205,55356,57096),0,0),c=h.toDataURL(),i.clearRect(0,0,h.width,h.height),i.fillText(j(55356,57331,55356,57096),0,0),d=h.toDataURL(),c!==d);case\"diversity\":return i.fillText(j(55356,57221),0,0),e=i.getImageData(16,16,1,1).data,f=e[0]+\",\"+e[1]+\",\"+e[2]+\",\"+e[3],i.fillText(j(55356,57221,55356,57343),0,0),e=i.getImageData(16,16,1,1).data,g=e[0]+\",\"+e[1]+\",\"+e[2]+\",\"+e[3],f!==g;case\"simple\":return i.fillText(j(55357,56835),0,0),0!==i.getImageData(16,16,1,1).data[0];case\"unicode8\":return i.fillText(j(55356,57135),0,0),0!==i.getImageData(16,16,1,1).data[0];case\"unicode9\":return i.fillText(j(55358,56631),0,0),0!==i.getImageData(16,16,1,1).data[0]}return!1}function e(a){var c=b.createElement(\"script\");c.src=a,c.type=\"text/javascript\",b.getElementsByTagName(\"head\")[0].appendChild(c)}var f,g,h,i;for(i=Array(\"simple\",\"flag\",\"unicode8\",\"diversity\",\"unicode9\"),c.supports={everything:!0,everythingExceptFlag:!0},h=0;h<i.length;h++)c.supports[i[h]]=d(i[h]),c.supports.everything=c.supports.everything&&c.supports[i[h]],\"flag\"!==i[h]&&(c.supports.everythingExceptFlag=c.supports.everythingExceptFlag&&c.supports[i[h]]);c.supports.everythingExceptFlag=c.supports.everythingExceptFlag&&!c.supports.flag,c.DOMReady=!1,c.readyCallback=function(){c.DOMReady=!0},c.supports.everything||(g=function(){c.readyCallback()},b.addEventListener?(b.addEventListener(\"DOMContentLoaded\",g,!1),a.addEventListener(\"load\",g,!1)):(a.attachEvent(\"onload\",g),b.attachEvent(\"onreadystatechange\",function(){\"complete\"===b.readyState&&c.readyCallback()})),f=c.source||{},f.concatemoji?e(f.concatemoji):f.wpemoji&&f.twemoji&&(e(f.twemoji),e(f.wpemoji)))}(window,document,window._wpemojiSettings);\\n\\t\\t</script>\\n\\t\\t<style type=\"text/css\">\\nimg.wp-smiley,\\nimg.emoji {\\n\\tdisplay: inline !important;\\n\\tborder: none !important;\\n\\tbox-shadow: none !important;\\n\\theight: 1em !important;\\n\\twidth: 1em !important;\\n\\tmargin: 0 .07em !important;\\n\\tvertical-align: -0.1em !important;\\n\\tbackground: none !important;\\n\\tpadding: 0 !important;\\n}\\n</style>\\n<link rel=\\'stylesheet\\' id=\\'seopress-admin-bar-css\\'  href=\\'https://www.nationmedia.com/wp-content/plugins/wp-seopress/assets/css/seopress-admin-bar.min.css?ver=4.6.1\\' type=\\'text/css\\' media=\\'all\\' />\\n<link rel=\\'stylesheet\\' id=\\'contact-form-7-css\\'  href=\\'https://www.nationmedia.com/wp-content/plugins/contact-form-7/includes/css/styles.css?ver=4.6.1\\' type=\\'text/css\\' media=\\'all\\' />\\n<link rel=\\'stylesheet\\' id=\\'nmg-styles-css\\'  href=\\'https://www.nationmedia.com/wp-content/themes/nmg/dist/css/main.min.css?ver=4.6.1\\' type=\\'text/css\\' media=\\'all\\' />\\n<script type=\\'text/javascript\\' src=\\'https://www.nationmedia.com/wp-includes/js/jquery/jquery.js?ver=1.12.4\\'></script>\\n<script type=\\'text/javascript\\' src=\\'https://www.nationmedia.com/wp-includes/js/jquery/jquery-migrate.min.js?ver=1.4.1\\'></script>\\n<link rel=\\'https://api.w.org/\\' href=\\'https://www.nationmedia.com/wp-json/\\' />\\n<link rel=\"EditURI\" type=\"application/rsd+xml\" title=\"RSD\" href=\"https://www.nationmedia.com/xmlrpc.php?rsd\" />\\n<link rel=\"wlwmanifest\" type=\"application/wlwmanifest+xml\" href=\"https://www.nationmedia.com/wp-includes/wlwmanifest.xml\" /> \\n<meta name=\"generator\" content=\"WordPress 4.6.1\" />\\n<link rel=\\'shortlink\\' href=\\'https://www.nationmedia.com/\\' />\\n<link rel=\"alternate\" type=\"application/json+oembed\" href=\"https://www.nationmedia.com/wp-json/oembed/1.0/embed?url=https%3A%2F%2Fwww.nationmedia.com%2F\" />\\n<link rel=\"alternate\" type=\"text/xml+oembed\" href=\"https://www.nationmedia.com/wp-json/oembed/1.0/embed?url=https%3A%2F%2Fwww.nationmedia.com%2F&#038;format=xml\" />\\n\\n<script>\\n(function(i,s,o,g,r,a,m){i[\\'GoogleAnalyticsObject\\']=r;i[r]=i[r]||function(){\\n(i[r].q=i[r].q||[]).push(arguments)},i[r].l=1*new Date();a=s.createElement(o),\\nm=s.getElementsByTagName(o)[0];a.async=1;a.src=g;m.parentNode.insertBefore(a,m)\\n})(window,document,\\'script\\',\\'https://www.google-analytics.com/analytics.js\\',\\'ga\\');\\nga(\\'create\\', \\'UA-1030601-1\\', \\'auto\\', {anonymizeIp: true});\\nga(\\'require\\', \\'displayfeatures\\');\\nga(\\'require\\', \\'linkid\\', \\'linkid.js\\');\\nga(\\'send\\', \\'pageview\\');\\n</script>\\n        <link href=\"https://file.myfontastic.com/Hhwarbo4kDZ8AXBopsT7Dd/icons.css\" rel=\"stylesheet\">\\r\\n        <!--# Start of myStocks IR JS code -->\\r\\n\\t\\t<script type=\"text/javascript\" src=\"https://live.mystocks.co.ke/ajax/ir/js/NMG\"></script>\\r\\n        <!--# End of myStocks IR JS code -->\\r\\n\\r\\n        <!-- Begin BlueKai Tag -->\\r\\n<script type=\"text/javascript\">\\r\\nwindow.bk_async = function() {\\r\\n\\r\\n\\t// CONFIG\\r\\n\\tvar bkContainerID = \"80217\"; // Will be supplied by Oracle Consulting or grab be grabbed from the UI\\r\\n\\tdeclareBkMeta(getMetaTags(), false); // change \\'false\\' to \\'true\\' to sent meta tags as separate phints\\r\\n\\r\\n\\t// DO NOT EDIT BELOW THIS LINE \\t\\r\\n\\tbk_allow_multiple_calls = true;\\r\\n\\tbk_use_multiple_iframes = true;\\r\\n  \\r\\n\\t// PHINTS : Additional URL-based phints\\r\\n\\tbk_addPageCtx(\\'url1\\', document.location.hostname + document.location.pathname);\\r\\n\\tbk_addPageCtx(\\'url2\\', document.location.hostname + document.location.pathname);\\r\\n\\tbk_addPageCtx(\\'url3\\', document.location.hostname + document.location.pathname);\\r\\n\\tbk_addPageCtx(\\'path1\\', document.location.pathname);\\r\\n\\tbk_addPageCtx(\\'path2\\', document.location.pathname);\\r\\n\\tbk_addPageCtx(\\'path3\\', document.location.pathname);\\r\\n\\r\\n  // GRAB META DATA AUTOMATICALLY\\r\\n  \\r\\n\\t// FUNCTION : Grab meta tag data\\r\\n\\tfunction getMetaTags() {\\r\\n\\r\\n\\t\\tvar metaBk = {};\\r\\n\\r\\n\\t\\tmetaBk.meta_all = [];\\r\\n\\t\\tmetaBk.meta_kvp = {};\\r\\n\\r\\n\\t\\tvar metas = document.getElementsByTagName(\\'meta\\');\\r\\n\\r\\n\\t\\tfor (var i = 0; i < metas.length; i++) {\\r\\n\\r\\n\\t\\t\\tif (metas[i].getAttribute(\"name\")) {\\r\\n\\r\\n\\t\\t\\t\\tvar keyName = metas[i].getAttribute(\"name\");\\r\\n\\t\\t\\t\\tvar keyValue = metas[i].getAttribute(\"content\");\\r\\n\\r\\n\\t\\t\\t\\t// Declare KVP\\r\\n\\t\\t\\t\\tmetaBk.meta_kvp[keyName] = keyValue;\\r\\n\\t\\t\\t\\tmetaBk.meta_all.push(keyValue);\\r\\n\\r\\n\\t\\t\\t} else if (metas[i].getAttribute(\"property\")) {\\r\\n\\r\\n\\t\\t\\t\\tvar keyName = metas[i].getAttribute(\"property\");\\r\\n\\t\\t\\t\\tvar keyValue = metas[i].getAttribute(\"content\");\\r\\n\\r\\n\\t\\t\\t\\t// Declare KVP\\r\\n\\t\\t\\t\\tmetaBk.meta_kvp[keyName] = keyValue;\\r\\n\\t\\t\\t\\tmetaBk.meta_all.push(keyValue);\\r\\n\\r\\n\\t\\t\\t}\\r\\n\\r\\n\\t\\t}\\r\\n\\r\\n\\t\\treturn metaBk;\\r\\n\\t}\\r\\n\\r\\n\\t// FUNCTION : Declare meta tag data\\r\\n\\tfunction declareBkMeta(data, separateMeta) {\\r\\n\\r\\n\\t\\t// Declare \"meta_all\" phint\\r\\n\\t\\tvar meta_all = \"|\" + data.meta_all.join(\"|\") + \"|\";\\r\\n\\t\\tbk_addPageCtx(\\'meta_all\\', meta_all);\\r\\n\\r\\n\\t\\t// Declare meta tags separately\\r\\n\\t\\tif (separateMeta) {\\r\\n\\t\\t\\tfor (metaTag in data.meta_kvp) {\\r\\n\\r\\n\\t\\t\\t\\tvar bkFriendlyName = metaTag.replace(/[^0-9,a-zA-Z_]+/g, \"_\");\\r\\n\\t\\t\\t\\tbk_addPageCtx(\"meta_\" + bkFriendlyName, data.meta_kvp[metaTag]);\\r\\n\\r\\n\\t\\t\\t}\\r\\n\\t\\t}\\r\\n\\t}\\t\\r\\n\\r\\n\\t// Send Data \\r\\n\\tBKTAG.doTag(bkContainerID, 4); // Please generate a container in the DMP UI per website\\r\\n};\\r\\n(function() {\\r\\n\\tvar scripts = document.getElementsByTagName(\\'script\\')[0];\\r\\n\\tvar s = document.createElement(\\'script\\');\\r\\n\\ts.async = true;\\r\\n\\ts.src = \"https://tags.bkrtx.com/js/bk-coretag.js\";\\r\\n\\tscripts.parentNode.insertBefore(s, scripts);\\r\\n}());\\r\\n</script>\\r\\n<!-- End BlueKai Tag -->\\r\\n    </head>\\r\\n\\r\\n    <body class=\"home page page-id-141 page-template-default page-home\">\\r\\n        <div class=\"body-container\">\\r\\n            <!-- page-header small -->\\r\\n            <section class=\"page-header-small\">\\n    <nav role=\"navigation\" class=\"xmenu menu-small\">\\n        <a href=\"https://www.nationmedia.com\" class=\"menu-item menu-item-logo\">\\n            <img class=\"logo\" src=\"https://www.nationmedia.com/wp-content/themes/nmg/dist/img/logo-mark-blue.svg\">\\n        </a>\\n        \\n        <!-- open menu -->\\n        <svg class=\"modal-control open-menu\" xmlns=\"http://www.w3.org/2000/svg\" width=\"48\" height=\"48\" viewBox=\"0 0 48 48\">\\n            <path d=\"M6 36h36v-4h-36v4zm0-10h36v-4h-36v4zm0-14v4h36v-4h-36z\"/>\\n        </svg>\\n\\n        <!-- open search -->\\n        <svg class=\"modal-control open-search\" xmlns=\"http://www.w3.org/2000/svg\" width=\"48\" height=\"48\" viewBox=\"0 0 48 48\">\\n            <path d=\"M31 28h-1.59l-.55-.55c1.96-2.27 3.14-5.22 3.14-8.45 0-7.18-5.82-13-13-13s-13 5.82-13 13 5.82 13 13 13c3.23 0 6.18-1.18 8.45-3.13l.55.55v1.58l10 9.98 2.98-2.98-9.98-10zm-12 0c-4.97 0-9-4.03-9-9s4.03-9 9-9 9 4.03 9 9-4.03 9-9 9z\"/>\\n        </svg>\\n    </nav>\\n</section>            <!-- end page-header -->\\r\\n\\r\\n\\n\\n<figure class=\"hero hero-home\">\\n    <div id=\"video-container\">\\n        <!--<video id=\"video\" autobuffer autoplay muted loop controlss poster=\"https://www.nationmedia.com/wp-content/themes/nmg/dist/img/nation-centre.jpg\">-->\\n        <video id=\"video\" autobuffer autoplay muted loop controlss poster=\"https://www.nationmedia.com/wp-content/uploads/2016/09/Add-a-little-bit-of-body-text-4-1600x900.png\">\\n            <source src=\"https://www.nationmedia.com/wp-content/uploads/2017/03/digital-promo.mp4\" type=\"video/mp4; codecs=avc1.42E01E,mp4a.40.2\">\\n            <p>Your browser doesn\\'t support HTML5 video. You can <a href=\"https://www.nationmedia.com/wp-content/uploads/2017/03/digital-promo.mp4\">download</a> the video instead.</p>\\n        </video>\\n    </div>\\n\\n    <div class=\"overlay overlay-grey overlay-hero\">\\n        <div class=\"hero-home-container\">\\n            <img src=\"https://www.nationmedia.com/wp-content/themes/nmg/dist/img/logo-horiz-blue-white.svg\" alt=\"\" class=\"logo logo-hero\">\\n\\n            <figcaption class=\"hero-home-figcaption\">\\n                <section class=\"section section-content section-data section-data-alt\">\\n                                        <div class=\"width-third data hero-data appear\">\\n                        <figure class=\"data-icon\">\\n                            <img src=\"https://www.nationmedia.com/wp-content/themes/nmg/dist/img/brands-new.png\">\\n                            <!-- <span class=\"data-icon icon-brands\"></span> -->\\n                        </figure>\\n                        <div>\\n                            <p><span class=\"data-number\">18</span></p>\\n                            <p class=\"data-notation\">Media brands in four countries</p>\\n                        </div>\\n                    </div>\\n                    \\n                                        <div class=\"width-third data hero-data appear\">\\n                        <figure class=\"data-icon\">\\n                            <img src=\"https://www.nationmedia.com/wp-content/themes/nmg/dist/img/pageviews-new.png\">\\n                            <!-- <span class=\"data-icon icon-pageviews\"></span> -->\\n                        </figure>\\n                        <div>\\n                            <p><span class=\"data-number\">11.3</span> million</p>\\n                            <p class=\"data-notation\">Monthly pageviews</p>\\n                        </div>\\n                    </div>\\n                    \\n                                    \\n                    <div class=\"width-third data hero-data appear\">\\n                        <figure class=\"data-icon\">\\n                            <img src=\"https://www.nationmedia.com/wp-content/themes/nmg/dist/img/social-new.png\">\\n                            <!-- <span class=\"data-icon icon-followers\"></span> -->\\n                        </figure>\\n                        <div>\\n                            <p><span class=\"data-number\">28</span> million</p>\\n                            <p class=\"data-notation\">Social media followers</p>\\n                        </div>\\n                    </div>\\n                                    </section>\\n            </figcaption>\\n        </div>\\n    </div>\\n</figure>\\n\\n\\n\\n<!-- page-modal -->\\n<div class=\"modal\">\\n    <img src=\"https://www.nationmedia.com/wp-content/themes/nmg/dist/img/logo-horiz-white.svg\" alt=\"\" class=\"logo logo-hero\">\\n\\n    <!-- clear -->\\n    <svg class=\"modal-control close\" xmlns=\"http://www.w3.org/2000/svg\" width=\"48\" height=\"48\" viewBox=\"0 0 48 48\">\\n        <path d=\"M38 12.83l-2.83-2.83-11.17 11.17-11.17-11.17-2.83 2.83 11.17 11.17-11.17 11.17 2.83 2.83 11.17-11.17 11.17 11.17 2.83-2.83-11.17-11.17z\"/>\\n    </svg>\\n\\n    <form class=\"search\" role=\"search\" method=\"GET\" action=\"https://www.nationmedia.com/\">\\n    <fieldset>\\n        <input class=\"search-input\" type=\"text\" name=\"s\" placeholder=\"Search...\">\\n        <svg class=\"icon-search\" xmlns=\"http://www.w3.org/2000/svg\" width=\"48\" height=\"48\" viewBox=\"0 0 48 48\">\\n\\t        <path d=\"M31 28h-1.59l-.55-.55c1.96-2.27 3.14-5.22 3.14-8.45 0-7.18-5.82-13-13-13s-13 5.82-13 13 5.82 13 13 13c3.23 0 6.18-1.18 8.45-3.13l.55.55v1.58l10 9.98 2.98-2.98-9.98-10zm-12 0c-4.97 0-9-4.03-9-9s4.03-9 9-9 9 4.03 9 9-4.03 9-9 9z\"/>\\n\\t    </svg>\\n        <input name=\"submit\" class=\"search-submit\" type=\"submit\">\\n    </fieldset>\\n</form>\\n    <!-- page-header-menu-small -->\\n<section class=\"page-header-menu-small\">\\n    <nav role=\"navigation\" class=\"xmenu menu-small\">\\n        <div id=\"menu-item-1030\" class=\"menu-item menu-item-type-post_type menu-item-object-page current-menu-item page_item page-item-141 current_page_item menu-item-1030 menu-item-page\"><a href=\"https://www.nationmedia.com/\" class=\"abc bob\">Home</a></div>\\n<div id=\"menu-item-1031\" class=\"menu-item menu-item-type-post_type menu-item-object-page menu-item-has-children menu-item-1031 menu-item-page\"><a href=\"https://www.nationmedia.com/who-we-are/\" class=\"abc bob\">Who we are</a>\\n<ul class=\"not-so-sub-menu\">\\n\\t<div id=\"menu-item-1043\" class=\"menu-item menu-item-type-post_type menu-item-object-page menu-item-1043 menu-item-page\"><a href=\"https://www.nationmedia.com/who-we-are/history/\" class=\"abc bob\">History</a></div>\\n\\t<div id=\"menu-item-1044\" class=\"menu-item menu-item-type-post_type menu-item-object-page menu-item-1044 menu-item-page\"><a href=\"https://www.nationmedia.com/who-we-are/partners/\" class=\"abc bob\">Partners</a></div>\\n\\t<div id=\"menu-item-1045\" class=\"menu-item menu-item-type-post_type menu-item-object-page menu-item-1045 menu-item-page\"><a href=\"https://www.nationmedia.com/who-we-are/board-of-directors/\" class=\"abc bob\">Board of Directors</a></div>\\n\\t<div id=\"menu-item-1046\" class=\"menu-item menu-item-type-post_type menu-item-object-page menu-item-1046 menu-item-page\"><a href=\"https://www.nationmedia.com/who-we-are/executive-team/\" class=\"abc bob\">Executive Team</a></div>\\n</ul>\\n</div>\\n<div id=\"menu-item-1036\" class=\"menu-item menu-item-type-post_type menu-item-object-page menu-item-1036 menu-item-page\"><a href=\"https://www.nationmedia.com/brands/\" class=\"abc bob\">Brands</a></div>\\n<div id=\"menu-item-1037\" class=\"menu-item menu-item-type-post_type menu-item-object-page menu-item-has-children menu-item-1037 menu-item-page\"><a href=\"https://www.nationmedia.com/investor-relations/\" class=\"abc bob\">Investor Relations</a>\\n<ul class=\"not-so-sub-menu\">\\n\\t<div id=\"menu-item-1041\" class=\"menu-item menu-item-type-post_type menu-item-object-page menu-item-1041 menu-item-page\"><a href=\"https://www.nationmedia.com/investor-relations/financial-reports/\" class=\"abc bob\">Financial Reports</a></div>\\n\\t<div id=\"menu-item-1042\" class=\"menu-item menu-item-type-post_type menu-item-object-page menu-item-1042 menu-item-page\"><a href=\"https://www.nationmedia.com/investor-relations/investor-updates/\" class=\"abc bob\">Investor Updates</a></div>\\n</ul>\\n</div>\\n<div id=\"menu-item-1038\" class=\"menu-item menu-item-type-post_type menu-item-object-page menu-item-1038 menu-item-page\"><a href=\"https://www.nationmedia.com/sustainability/\" class=\"abc bob\">Sustainability</a></div>\\n<div id=\"menu-item-1047\" class=\"menu-item menu-item-type-post_type menu-item-object-page menu-item-has-children menu-item-1047 menu-item-page\"><a href=\"https://www.nationmedia.com/news-and-events/\" class=\"abc bob\">News and Events</a>\\n<ul class=\"not-so-sub-menu\">\\n\\t<div id=\"menu-item-1216\" class=\"menu-item menu-item-type-post_type menu-item-object-page menu-item-1216 menu-item-page\"><a href=\"https://www.nationmedia.com/news-and-events/news/\" class=\"abc bob\">News</a></div>\\n\\t<div id=\"menu-item-1214\" class=\"menu-item menu-item-type-post_type menu-item-object-page menu-item-1214 menu-item-page\"><a href=\"https://www.nationmedia.com/news-and-events/press-releases/\" class=\"abc bob\">Press Releases</a></div>\\n</ul>\\n</div>\\n<div id=\"menu-item-1039\" class=\"menu-item menu-item-type-post_type menu-item-object-page menu-item-1039 menu-item-page\"><a href=\"https://www.nationmedia.com/careers/\" class=\"abc bob\">Careers</a></div>\\n<div id=\"menu-item-1040\" class=\"menu-item menu-item-type-post_type menu-item-object-page menu-item-1040 menu-item-page\"><a href=\"https://www.nationmedia.com/contact/\" class=\"abc bob\">Contact us</a></div>\\n    </nav>\\n\\n    <nav role=\"navigation\" class=\"menu menu-social\">\\n        <a href=\"https://www.facebook.com/NationMediaGroup/\" class=\"menu-item menu-item-page\">\\n            <img class=\"logo\" src=\"https://www.nationmedia.com/wp-content/themes/nmg/dist/img/social-fb.svg\">\\n        </a>\\n\\n        <a href=\"https://twitter.com/NationMediaGrp\" class=\"menu-item menu-item-page\">\\n            <img class=\"logo\" src=\"https://www.nationmedia.com/wp-content/themes/nmg/dist/img/social-tw.svg\">\\n        </a>\\n\\n        <a href=\"https://www.linkedin.com/company/nation-media-group\" class=\"menu-item menu-item-page\">\\n            <img class=\"logo\" src=\"https://www.nationmedia.com/wp-content/themes/nmg/dist/img/social-in.svg\">\\n        </a>\\n    </nav>\\n</section>\\n<!-- end page-header-menu-small --></div><!-- end page-modal -->\\n\\n\\n\\n<!-- page-header -->\\n<header class=\"page-header appear\">\\n    <nav role=\"navigation\" class=\"menu stick-it\">\\n        <a href=\"https://www.nationmedia.com\" class=\"menu-item menu-item-logo\">\\n            <img class=\"logo\" src=\"https://www.nationmedia.com/wp-content/themes/nmg/dist/img/logo-mark-blue.svg\">\\n        </a>\\n\\n        <div class=\"menu-item menu-item-type-post_type menu-item-object-page current-menu-item page_item page-item-141 current_page_item menu-item-1030 menu-item-page\"><a href=\"https://www.nationmedia.com/\" class=\"abc\">Home</a></div>\\n<div class=\"menu-item menu-item-type-post_type menu-item-object-page menu-item-has-children menu-item-1031 menu-item-page\"><a href=\"https://www.nationmedia.com/who-we-are/\" class=\"abc\">Who we are</a>\\n<ul class=\"sub-menu\">\\n\\t<div class=\"menu-item menu-item-type-post_type menu-item-object-page menu-item-1043 menu-item-page\"><a href=\"https://www.nationmedia.com/who-we-are/history/\" class=\"abc\">History</a></div>\\n\\t<div class=\"menu-item menu-item-type-post_type menu-item-object-page menu-item-1044 menu-item-page\"><a href=\"https://www.nationmedia.com/who-we-are/partners/\" class=\"abc\">Partners</a></div>\\n\\t<div class=\"menu-item menu-item-type-post_type menu-item-object-page menu-item-1045 menu-item-page\"><a href=\"https://www.nationmedia.com/who-we-are/board-of-directors/\" class=\"abc\">Board of Directors</a></div>\\n\\t<div class=\"menu-item menu-item-type-post_type menu-item-object-page menu-item-1046 menu-item-page\"><a href=\"https://www.nationmedia.com/who-we-are/executive-team/\" class=\"abc\">Executive Team</a></div>\\n</ul>\\n</div>\\n<div class=\"menu-item menu-item-type-post_type menu-item-object-page menu-item-1036 menu-item-page\"><a href=\"https://www.nationmedia.com/brands/\" class=\"abc\">Brands</a></div>\\n<div class=\"menu-item menu-item-type-post_type menu-item-object-page menu-item-has-children menu-item-1037 menu-item-page\"><a href=\"https://www.nationmedia.com/investor-relations/\" class=\"abc\">Investor Relations</a>\\n<ul class=\"sub-menu\">\\n\\t<div class=\"menu-item menu-item-type-post_type menu-item-object-page menu-item-1041 menu-item-page\"><a href=\"https://www.nationmedia.com/investor-relations/financial-reports/\" class=\"abc\">Financial Reports</a></div>\\n\\t<div class=\"menu-item menu-item-type-post_type menu-item-object-page menu-item-1042 menu-item-page\"><a href=\"https://www.nationmedia.com/investor-relations/investor-updates/\" class=\"abc\">Investor Updates</a></div>\\n</ul>\\n</div>\\n<div class=\"menu-item menu-item-type-post_type menu-item-object-page menu-item-1038 menu-item-page\"><a href=\"https://www.nationmedia.com/sustainability/\" class=\"abc\">Sustainability</a></div>\\n<div class=\"menu-item menu-item-type-post_type menu-item-object-page menu-item-has-children menu-item-1047 menu-item-page\"><a href=\"https://www.nationmedia.com/news-and-events/\" class=\"abc\">News and Events</a>\\n<ul class=\"sub-menu\">\\n\\t<div class=\"menu-item menu-item-type-post_type menu-item-object-page menu-item-1216 menu-item-page\"><a href=\"https://www.nationmedia.com/news-and-events/news/\" class=\"abc\">News</a></div>\\n\\t<div class=\"menu-item menu-item-type-post_type menu-item-object-page menu-item-1214 menu-item-page\"><a href=\"https://www.nationmedia.com/news-and-events/press-releases/\" class=\"abc\">Press Releases</a></div>\\n</ul>\\n</div>\\n<div class=\"menu-item menu-item-type-post_type menu-item-object-page menu-item-1039 menu-item-page\"><a href=\"https://www.nationmedia.com/careers/\" class=\"abc\">Careers</a></div>\\n<div class=\"menu-item menu-item-type-post_type menu-item-object-page menu-item-1040 menu-item-page\"><a href=\"https://www.nationmedia.com/contact/\" class=\"abc\">Contact us</a></div>\\n    </nav>\\n\\n    <!-- open search -->\\n    <svg class=\"modal-control open-search\" xmlns=\"http://www.w3.org/2000/svg\" width=\"48\" height=\"48\" viewBox=\"0 0 48 48\">\\n        <path d=\"M31 28h-1.59l-.55-.55c1.96-2.27 3.14-5.22 3.14-8.45 0-7.18-5.82-13-13-13s-13 5.82-13 13 5.82 13 13 13c3.23 0 6.18-1.18 8.45-3.13l.55.55v1.58l10 9.98 2.98-2.98-9.98-10zm-12 0c-4.97 0-9-4.03-9-9s4.03-9 9-9 9 4.03 9 9-4.03 9-9 9z\"/>\\n    </svg>\\n\\n    <nav role=\"navigation\" class=\"menu menu-social\">\\n        <a href=\"https://www.facebook.com/NationMediaGroup/\" class=\"menu-item menu-item-page\">\\n            <img class=\"logo\" src=\"https://www.nationmedia.com/wp-content/themes/nmg/dist/img/social-fb.svg\">\\n        </a>\\n\\n        <a href=\"https://twitter.com/NationMediaGrp\" class=\"menu-item menu-item-page\">\\n            <img class=\"logo\" src=\"https://www.nationmedia.com/wp-content/themes/nmg/dist/img/social-tw.svg\">\\n        </a>\\n\\n        <a href=\"https://www.linkedin.com/company/nation-media-group\" class=\"menu-item menu-item-page\">\\n            <img class=\"logo\" src=\"https://www.nationmedia.com/wp-content/themes/nmg/dist/img/social-in.svg\">\\n        </a>\\n    </nav>\\n</header><!-- end page-header -->\\n\\n<!-- page-header-small used to be here -->\\n\\n<!-- start content -->\\n<main role=\"main\">\\n\\n    <div class=\"trigger\"></div>\\n\\n            <section class=\"section section-overview\" style=\"opacity: 1;\">\\n            <heading>\\n                <h2>Creating compelling content</h2>\\n            </heading>\\n\\n            <div class=\"element-pair\">\\n                <div class=\"element-pair-1\">\\n                    <p>The Nation Media Group is the largest independent media house in East and Central Africa with operations in print, broadcast and digital media, which attract and serve unparalleled audiences in Kenya, Uganda, Tanzania and Rwanda. As a brand, we are committed to generating and creating content that will inform, educate and entertain our consumers across the different platforms, keeping in mind the changing needs and trends in the industry.</p>\\n<div style=\"position: absolute; left: -6857px;\"><a href=\"https://book-of-ra-slot.com/\">book of ra kostenlos</a></div>\\n                </div>\\n\\n                <div class=\"element-pair-2\">\\n                    <a href=\"https://www.nationmedia.com/who-we-are\" title=\"\" class=\"button\">More about us</a>\\n                </div>\\n            </div>\\n        </section>\\n    \\n          <section class=\"section section-content section-grey home-item-2 appear\" style=\"padding: 0;\">\\n          <figure class=\"inline-background content-box content-box-full\">\\n              <a href=\"https://www.nationmedia.com/news/nmg-uses-augmented-reality-launch-new-nation-africa/\" title=\"NMG uses Augmented Reality to launch new Nation.Africa\">\\n                  <img src=\"https://www.nationmedia.com/wp-content/uploads/2020/09/Nation.Africa-Launch-1600x900.jpg\" alt=\"NMG uses Augmented Reality to launch new Nation.Africa\">\\n                  <!-- <figcaption>\\n                      <header>\\n                        <h3>NMG uses Augmented Reality to launch new Nation.Africa</h3>\\n                        <p>Nation Media Group (NMG) on Friday, 4th September, used Augmented Reality (AR) to launch its new platform that aims to advance the company from East Africa\\xe2\\x80\\x99s largest media house to Africa\\xe2\\x80\\x99s leading mobile content provider, a centre of technological innovation and customer excellence.</p>\\n                      </header>\\n                      <span class=\"button\">Read more</span>\\n                  </figcaption> -->\\n\\n                    <figcaption>\\n                        <header>\\n                            <h3>NMG uses Augmented Reality to launch new Nation.Africa</h3>\\n                        </header>\\n                        \\n                        <div class=\"element-pair\">\\n                            <div class=\"element-pair-1\">\\n                                <p>Nation Media Group (NMG) on Friday, 4th September, used Augmented Reality (AR) to launch its new platform that aims to advance the company from East Africa\\xe2\\x80\\x99s largest media house to Africa\\xe2\\x80\\x99s leading mobile content provider, a centre of technological innovation and customer excellence.</p>\\n                            </div>\\n\\n                            <div class=\"element-pair-2\">\\n                                <span class=\"button\">Read more</span>\\n                            </div>\\n                        </div>\\n                    </figcaption>\\n              </a>\\n          </figure>\\n      </section>\\n\\n\\n      <section class=\"section section-content section-blue\">\\n        <heading>\\n            <h2 class=\"section-title\">Latest stories</h2>\\n        </heading>\\n\\n        <div class=\"card-container\">\\n                \\n          <a class=\"card card-article\" href=\"https://www.nationmedia.com/news/2019-annual-report-financial-statements/\" title=\"2019 Annual Report and Financial Statements\">\\n              <figure class=\"card-article-img\">\\n                <img class=\"\" src=\"https://www.nationmedia.com/wp-content/uploads/2020/06/NMG-AR-2019-landscape-ppt-cover11-640x360.jpg\" alt=\"2019 Annual Report and Financial Statements\">\\n              </figure>\\n              <header class=\"card-article-text\">\\n                  <h4 class=\"card-article-title\">2019 Annual Report and Financial Statements</h4>\\n                  <p class=\"card-article-excerpt\"> This is the Group\\xe2\\x80\\x99s audited financial results for the year ended 31 December 2019.  Digital Copy sales  grew by 13 per cent, while Kenya Buzz and K FM Uganda revenue grew by 100 per cent and 24 per cent respectively. Dembe FM performance was exceptional with a profit growth of 100 per cent compared to the previous year. </p>\\n                  <span class=\"card-article-more\">Read more&nbsp;&rarr;</span>\\n              </header>\\n          </a>\\n\\n                  \\n          <a class=\"card card-article\" href=\"https://www.nationmedia.com/news/nation-media-group-pays-tribute-tanzanian-ex-president-benjamin-mkapa/\" title=\"Nation Media Group pays tribute to Tanzanian ex-President Benjamin Mkapa\">\\n              <figure class=\"card-article-img\">\\n                <img class=\"\" src=\"https://www.nationmedia.com/wp-content/uploads/2020/08/Benjamin-Mkapa-640x360.jpg\" alt=\"Nation Media Group pays tribute to Tanzanian ex-President Benjamin Mkapa\">\\n              </figure>\\n              <header class=\"card-article-text\">\\n                  <h4 class=\"card-article-title\">Nation Media Group pays tribute to Tanzanian ex-President Benjamin Mkapa</h4>\\n                  <p class=\"card-article-excerpt\"> The Nation Media Group has paid tribute to Tanzania\\'s former President Benjamin Mkapa, describing him as an African statesman who promoted peace and stability in the region. </p>\\n                  <span class=\"card-article-more\">Read more&nbsp;&rarr;</span>\\n              </header>\\n          </a>\\n\\n                  \\n          <a class=\"card card-article\" href=\"https://www.nationmedia.com/news/nmg-accelerates-digital-revamp-overcome-covid-19-effects/\" title=\"NMG accelerates digital revamp to overcome Covid-19 effects\">\\n              <figure class=\"card-article-img\">\\n                <img class=\"\" src=\"https://www.nationmedia.com/wp-content/uploads/2020/07/kiboro-640x360.jpg\" alt=\"NMG accelerates digital revamp to overcome Covid-19 effects\">\\n              </figure>\\n              <header class=\"card-article-text\">\\n                  <h4 class=\"card-article-title\">NMG accelerates digital revamp to overcome Covid-19 effects</h4>\\n                  <p class=\"card-article-excerpt\"> The Nation Media Group (NMG) is reshaping its business model to accelerate its digital transformation to raise revenues in the wake of reduced sales due to the coronavirus pandemic. </p>\\n                  <span class=\"card-article-more\">Read more&nbsp;&rarr;</span>\\n              </header>\\n          </a>\\n\\n                  \\n          <a class=\"card card-article\" href=\"https://www.nationmedia.com/news/nation-media-group-nmg-announces-partnership-kenya-national-union-teachers-knut/\" title=\"Nation Media Group (NMG) Announces a Partnership with Kenya National Union of Teachers (KNUT)\">\\n              <figure class=\"card-article-img\">\\n                <img class=\"\" src=\"https://www.nationmedia.com/wp-content/uploads/2020/05/WhatsApp-Image-2020-05-28-at-11.09.43-640x360.jpeg\" alt=\"Nation Media Group (NMG) Announces a Partnership with Kenya National Union of Teachers (KNUT)\">\\n              </figure>\\n              <header class=\"card-article-text\">\\n                  <h4 class=\"card-article-title\">Nation Media Group (NMG) Announces a Partnership with Kenya National Union of Teachers (KNUT)</h4>\\n                  <p class=\"card-article-excerpt\"> Today, NMG announces a partnership with Kenya National Union of Teachers (KNUT) for the provision of ePaper subscription to the members. This agreement allows NMG to distribute its ePaper to all KNUT Members countrywide at a concessionary rate negotiated by KNUT for all teachers across the country. KNUT Members will have access to NMG\\xe2\\x80\\x99s ePapers; Daily Nation, Business Daily, Taifa Leo and The EastAfrican through the revamped ePaper platform using any smart device. </p>\\n                  <span class=\"card-article-more\">Read more&nbsp;&rarr;</span>\\n              </header>\\n          </a>\\n\\n                  \\n        </div>\\n      </section>\\n    \\n\\n\\n    <section class=\"section section-grey-box section-timeline\">\\n    <heading class=\"articles-header articles-header-timeline\">\\n        <h2>Steeped in tradition</h2>\\n    </heading>\\n    \\n                <div class=\"tab-wrap\">\\n                            <input type=\"radio\" name=\"tabs\" id=\"tab1\" checked>\\n                <div class=\"tab-label-content tab-ancestor\" id=\"tab1-content\">\\n                    <label for=\"tab1\">1960-1969</label>\\n                    <div class=\"tab-content\">\\n                        <div class=\"section-content section-history-decade\">\\n                            <div class=\"width-half\">\\n                                <header>\\n                                    <span></span>\\n                                    <h4>\\n                                        1960s                                    </h4>\\n                                    <h3>From conception to maturity</h3>\\n                                    <p><p>By any measure, 1960 was an epoch defining year with the world and indeed Kenya, going through a great transition. From the cold war to independence across the continent, the winds of change were upon the world.\\xc2\\xa0 It was during this time of political turbulence, struggle for independence and Pan-Africanism that Nation was born, on March 20 1960. Nation Media Group was founded by His Highness the Aga Khan as a voice for the majority African population. After independence, the Daily Nation newspaper became an effective voice of the people.</p>\\n</p>\\n                                </header>\\n\\n                                <div class=\"history-decade-container\">\\n                                                                            <figure class=\"history-item  active\">\\n                                            <img src=\"https://www.nationmedia.com/wp-content/uploads/2017/04/rotary-480x270.jpg\" alt=\"\">\\n                                            <figcaption>\\n                                                <p></p>\\n                                            </figcaption>\\n                                        </figure>\\n                                                                            <figure class=\"history-item  \">\\n                                            <img src=\"https://www.nationmedia.com/wp-content/uploads/2017/05/0001-480x270.jpg\" alt=\"\">\\n                                            <figcaption>\\n                                                <p></p>\\n                                            </figcaption>\\n                                        </figure>\\n                                                                            <figure class=\"history-item  \">\\n                                            <img src=\"https://www.nationmedia.com/wp-content/uploads/2017/04/Screen-Shot-2017-05-12-at-10.07.57-480x270.png\" alt=\"\">\\n                                            <figcaption>\\n                                                <p></p>\\n                                            </figcaption>\\n                                        </figure>\\n                                                                            <figure class=\"history-item  \">\\n                                            <img src=\"https://www.nationmedia.com/wp-content/uploads/2017/04/NURU-4-e1496936374285-480x270.jpg\" alt=\"\">\\n                                            <figcaption>\\n                                                <p></p>\\n                                            </figcaption>\\n                                        </figure>\\n                                                                    </div>\\n                            </div>\\n                            <div class=\"width-half history-decade-full\">\\n                                                                    <figure class=\"history-item history-item-full\">\\n                                        <img src=\"https://www.nationmedia.com/wp-content/uploads/2017/04/rotary.jpg\" alt=\"\">\\n                                        <figcaption>\\n                                            <p></p>\\n                                        </figcaption>\\n                                    </figure>\\n                                                            </div>\\n                        </div>\\n                    </div>\\n                </div>\\n                                <input type=\"radio\" name=\"tabs\" id=\"tab2\" >\\n                <div class=\"tab-label-content tab-ancestor\" id=\"tab2-content\">\\n                    <label for=\"tab2\">1970 \\xe2\\x80\\x93 1979</label>\\n                    <div class=\"tab-content\">\\n                        <div class=\"section-content section-history-decade\">\\n                            <div class=\"width-half\">\\n                                <header>\\n                                    <span></span>\\n                                    <h4>\\n                                        1970\\xe2\\x80\\x931979s                                    </h4>\\n                                    <h3>A Decade Later</h3>\\n                                    <p><p>The Nation celebrated its 10th birthday in 1970. It had turned its first profit in 1968. At the time of the anniversary, both the Sunday Nation and the Daily Nation sold well over 46,000 copies per issue. A new rotary press was installed, one of the most advanced in Africa, which enabled the newspapers to print photographs and advertisements in full colour.</p>\\n</p>\\n                                </header>\\n\\n                                <div class=\"history-decade-container\">\\n                                                                            <figure class=\"history-item  active\">\\n                                            <img src=\"https://www.nationmedia.com/wp-content/uploads/2017/04/aga-khan-480x270.jpg\" alt=\"\">\\n                                            <figcaption>\\n                                                <p></p>\\n                                            </figcaption>\\n                                        </figure>\\n                                                                            <figure class=\"history-item  \">\\n                                            <img src=\"https://www.nationmedia.com/wp-content/uploads/2017/04/NURU-1-480x270.jpg\" alt=\"\">\\n                                            <figcaption>\\n                                                <p></p>\\n                                            </figcaption>\\n                                        </figure>\\n                                                                            <figure class=\"history-item  \">\\n                                            <img src=\"https://www.nationmedia.com/wp-content/uploads/2017/04/eac-480x270.jpg\" alt=\"\">\\n                                            <figcaption>\\n                                                <p></p>\\n                                            </figcaption>\\n                                        </figure>\\n                                                                            <figure class=\"history-item  \">\\n                                            <img src=\"https://www.nationmedia.com/wp-content/uploads/2017/04/Screen-Shot-2017-05-12-at-10.09.44-480x270.png\" alt=\"\">\\n                                            <figcaption>\\n                                                <p></p>\\n                                            </figcaption>\\n                                        </figure>\\n                                                                    </div>\\n                            </div>\\n                            <div class=\"width-half history-decade-full\">\\n                                                                    <figure class=\"history-item history-item-full\">\\n                                        <img src=\"https://www.nationmedia.com/wp-content/uploads/2017/04/aga-khan.jpg\" alt=\"\">\\n                                        <figcaption>\\n                                            <p></p>\\n                                        </figcaption>\\n                                    </figure>\\n                                                            </div>\\n                        </div>\\n                    </div>\\n                </div>\\n                                <input type=\"radio\" name=\"tabs\" id=\"tab3\" >\\n                <div class=\"tab-label-content tab-ancestor\" id=\"tab3-content\">\\n                    <label for=\"tab3\">1980-1989</label>\\n                    <div class=\"tab-content\">\\n                        <div class=\"section-content section-history-decade\">\\n                            <div class=\"width-half\">\\n                                <header>\\n                                    <span></span>\\n                                    <h4>\\n                                        1980s                                    </h4>\\n                                    <h3>Highs and lows</h3>\\n                                    <p><p>Nation\\xe2\\x80\\x99s commitment to high press standards is deeply entrenched in its history. In 1981, at the 30th general assembly of the International Press Institute, the Aga Khan called for higher press standards. He listed responsible leadership, exchange of managerial, editor technical know-how and editorial expertise as ways to enhance the quality of journalism. This idea was realized at Nation through a deal with Florida-based St Petersberg Times, a partnership that provided for the exchange of staffers and information to improve the Group\\xe2\\x80\\x99s standards to a global standard.</p>\\n<p>In 1985, the Daily Nation marked its 25th birthday with a 102-page giveaway and 86 scholarships to high school students. The decade was however not without its challenges with Nation reporters being banned from the Press gallery and Parliament banning the group\\xe2\\x80\\x99s papers. This was however lifted months after it came into effect.</p>\\n</p>\\n                                </header>\\n\\n                                <div class=\"history-decade-container\">\\n                                                                            <figure class=\"history-item  active\">\\n                                            <img src=\"https://www.nationmedia.com/wp-content/uploads/2017/04/nation-editorial-480x270.jpg\" alt=\"\">\\n                                            <figcaption>\\n                                                <p></p>\\n                                            </figcaption>\\n                                        </figure>\\n                                                                            <figure class=\"history-item  \">\\n                                            <img src=\"https://www.nationmedia.com/wp-content/uploads/2017/04/Nation-Newspapers2-1-480x270.jpeg\" alt=\"\">\\n                                            <figcaption>\\n                                                <p></p>\\n                                            </figcaption>\\n                                        </figure>\\n                                                                            <figure class=\"history-item  \">\\n                                            <img src=\"https://www.nationmedia.com/wp-content/uploads/2017/04/NMG-Grand-Opening-Msa-Road-480x270.jpg\" alt=\"\">\\n                                            <figcaption>\\n                                                <p></p>\\n                                            </figcaption>\\n                                        </figure>\\n                                                                            <figure class=\"history-item  \">\\n                                            <img src=\"https://www.nationmedia.com/wp-content/uploads/2017/04/NURU-2-e1496936330716-480x270.jpg\" alt=\"\">\\n                                            <figcaption>\\n                                                <p></p>\\n                                            </figcaption>\\n                                        </figure>\\n                                                                    </div>\\n                            </div>\\n                            <div class=\"width-half history-decade-full\">\\n                                                                    <figure class=\"history-item history-item-full\">\\n                                        <img src=\"https://www.nationmedia.com/wp-content/uploads/2017/04/nation-editorial.jpg\" alt=\"\">\\n                                        <figcaption>\\n                                            <p></p>\\n                                        </figcaption>\\n                                    </figure>\\n                                                            </div>\\n                        </div>\\n                    </div>\\n                </div>\\n                                <input type=\"radio\" name=\"tabs\" id=\"tab4\" >\\n                <div class=\"tab-label-content tab-ancestor\" id=\"tab4-content\">\\n                    <label for=\"tab4\">1990 - 1999</label>\\n                    <div class=\"tab-content\">\\n                        <div class=\"section-content section-history-decade\">\\n                            <div class=\"width-half\">\\n                                <header>\\n                                    <span></span>\\n                                    <h4>\\n                                        1990s                                    </h4>\\n                                    <h3>Dynamic expansion in the Nation group</h3>\\n                                    <p><p>The years between 1990 and 2000 saw dynamic expansion in the Nation Group: a new headquarters in downtown Nairobi, a new upmarket weekly, The East African, a $ 12 million (Ksh. 750million) press hall on the city\\xe2\\x80\\x99s outskirts with the latest in printing technology, entry to the internet and crucially, a move into the broadcast media. In this decade, the group also began its journey into electronic media by applying for a license to broadcast. 7 years after its first application, it was awarded TV and radio licenses, but only for Nairobi.</p>\\n</p>\\n                                </header>\\n\\n                                <div class=\"history-decade-container\">\\n                                                                            <figure class=\"history-item  active\">\\n                                            <img src=\"https://www.nationmedia.com/wp-content/uploads/2017/04/nation-centre-1992-480x270.jpg\" alt=\"\">\\n                                            <figcaption>\\n                                                <p></p>\\n                                            </figcaption>\\n                                        </figure>\\n                                                                            <figure class=\"history-item  \">\\n                                            <img src=\"https://www.nationmedia.com/wp-content/uploads/2017/04/IMG_0047-1-1-480x270.jpg\" alt=\"\">\\n                                            <figcaption>\\n                                                <p></p>\\n                                            </figcaption>\\n                                        </figure>\\n                                                                            <figure class=\"history-item  \">\\n                                            <img src=\"https://www.nationmedia.com/wp-content/uploads/2017/04/Nation-Centre-1-e1494581022593-480x270.jpg\" alt=\"\">\\n                                            <figcaption>\\n                                                <p></p>\\n                                            </figcaption>\\n                                        </figure>\\n                                                                            <figure class=\"history-item  \">\\n                                            <img src=\"https://www.nationmedia.com/wp-content/uploads/2017/04/IMG_0175-480x270.jpg\" alt=\"\">\\n                                            <figcaption>\\n                                                <p></p>\\n                                            </figcaption>\\n                                        </figure>\\n                                                                    </div>\\n                            </div>\\n                            <div class=\"width-half history-decade-full\">\\n                                                                    <figure class=\"history-item history-item-full\">\\n                                        <img src=\"https://www.nationmedia.com/wp-content/uploads/2017/04/nation-centre-1992.jpg\" alt=\"\">\\n                                        <figcaption>\\n                                            <p></p>\\n                                        </figcaption>\\n                                    </figure>\\n                                                            </div>\\n                        </div>\\n                    </div>\\n                </div>\\n                                <input type=\"radio\" name=\"tabs\" id=\"tab5\" >\\n                <div class=\"tab-label-content tab-ancestor\" id=\"tab5-content\">\\n                    <label for=\"tab5\">2000 \\xe2\\x80\\x93 2009</label>\\n                    <div class=\"tab-content\">\\n                        <div class=\"section-content section-history-decade\">\\n                            <div class=\"width-half\">\\n                                <header>\\n                                    <span></span>\\n                                    <h4>\\n                                        2000\\xe2\\x80\\x932009s                                    </h4>\\n                                    <h3>Nation ventures into East Africa</h3>\\n                                    <p><p>Debt-free and buoyant at the end of 2002, the Nation Media Group took steps to implement a board commitment to pursue other opportunities and turned its attention to its neighbours in Uganda and Tanzania. Having already acquired a feisty, but hard-up, Kampala tabloid, The Monitor, NMG launched a radio station, Monitor FM 93.3, to capture the prime Uganda audience for news and entertainment.</p>\\n</p>\\n                                </header>\\n\\n                                <div class=\"history-decade-container\">\\n                                                                            <figure class=\"history-item  active\">\\n                                            <img src=\"https://www.nationmedia.com/wp-content/uploads/2017/04/ian3-480x270.jpg\" alt=\"\">\\n                                            <figcaption>\\n                                                <p>mr wangethi mwangi, nation media group editorial director, mr mattthew stepka, google director for strategy and mr ian fernandes, managing director, nation broadcasting division, during the launch of a popular video website, youtube, at the nation centre, yesterday. the site www.yuotube.com/ntvkenya will enable subscribers to access television news stories. it will run concurrently with www.nationmedia.com/elections, a website focusing on the local political scene ahead of the december 27 general election. photo/william oeri</p>\\n                                            </figcaption>\\n                                        </figure>\\n                                                                            <figure class=\"history-item  \">\\n                                            <img src=\"https://www.nationmedia.com/wp-content/uploads/2017/04/JELIMO-480x270.jpg\" alt=\"\">\\n                                            <figcaption>\\n                                                <p>Pamela Jelimo of Kenya celebrates winning the gold medal in the women\\'s 800m final of the athletics competition in the National Stadium at the Beijing 2008 Olympic Games August 18, 2008.     REUTERS/Dylan Martinez (CHINA)</p>\\n                                            </figcaption>\\n                                        </figure>\\n                                                                            <figure class=\"history-item  \">\\n                                            <img src=\"https://www.nationmedia.com/wp-content/uploads/2017/04/DN-VENDORS-C-480x270.jpg\" alt=\"\">\\n                                            <figcaption>\\n                                                <p>David Kuria a newspaper vendor during the interview JENNIFER MUIRURI (NAIROBI) PETER ODUOR</p>\\n                                            </figcaption>\\n                                        </figure>\\n                                                                            <figure class=\"history-item  \">\\n                                            <img src=\"https://www.nationmedia.com/wp-content/uploads/2017/04/IMG_0047-1-2-480x270.jpg\" alt=\"\">\\n                                            <figcaption>\\n                                                <p></p>\\n                                            </figcaption>\\n                                        </figure>\\n                                                                    </div>\\n                            </div>\\n                            <div class=\"width-half history-decade-full\">\\n                                                                    <figure class=\"history-item history-item-full\">\\n                                        <img src=\"https://www.nationmedia.com/wp-content/uploads/2017/04/ian3.jpg\" alt=\"\">\\n                                        <figcaption>\\n                                            <p>mr wangethi mwangi, nation media group editorial director, mr mattthew stepka, google director for strategy and mr ian fernandes, managing director, nation broadcasting division, during the launch of a popular video website, youtube, at the nation centre, yesterday. the site www.yuotube.com/ntvkenya will enable subscribers to access television news stories. it will run concurrently with www.nationmedia.com/elections, a website focusing on the local political scene ahead of the december 27 general election. photo/william oeri</p>\\n                                        </figcaption>\\n                                    </figure>\\n                                                            </div>\\n                        </div>\\n                    </div>\\n                </div>\\n                                <input type=\"radio\" name=\"tabs\" id=\"tab6\" >\\n                <div class=\"tab-label-content tab-ancestor\" id=\"tab6-content\">\\n                    <label for=\"tab6\">2010-2019</label>\\n                    <div class=\"tab-content\">\\n                        <div class=\"section-content section-history-decade\">\\n                            <div class=\"width-half\">\\n                                <header>\\n                                    <span></span>\\n                                    <h4>\\n                                        2010s                                    </h4>\\n                                    <h3>Consolidating our Growth</h3>\\n                                    <p><p>In more recent times, the Group has continued to consolidate its business and prepare for the future through various projects. Some of these include the refurbishment of its printing press infrastructure in 2010, and its eventual overhaul in 2015 which enabled it to greatly improve its print products for a better reader experience. In 2011, Nation Media Group also expanded its regional fibre optic network to fully intergrate its businesses into one homogenous network. In addition to this, NMG continues to invest in strategic acquisitions and partnerships to secure its future.</p>\\n</p>\\n                                </header>\\n\\n                                <div class=\"history-decade-container\">\\n                                                                            <figure class=\"history-item  active\">\\n                                            <img src=\"https://www.nationmedia.com/wp-content/uploads/2017/03/KENYA-BUZZ-Cutting-cake-480x270.png\" alt=\"\">\\n                                            <figcaption>\\n                                                <p></p>\\n                                            </figcaption>\\n                                        </figure>\\n                                                                            <figure class=\"history-item  \">\\n                                            <img src=\"https://www.nationmedia.com/wp-content/uploads/2017/06/Man-reading-DN-480x270.jpg\" alt=\"\">\\n                                            <figcaption>\\n                                                <p>A shareholder reads the daily nation during the Nation Media Group annual general meeting on April 26, 2013 at the KICC .JENNIFER MUIRURI (NAIROBI)</p>\\n                                            </figcaption>\\n                                        </figure>\\n                                                                            <figure class=\"history-item  \">\\n                                            <img src=\"https://www.nationmedia.com/wp-content/uploads/2017/06/Churchill-Otieno-at-WAN-IFRA-Awards-480x270.jpg\" alt=\"\">\\n                                            <figcaption>\\n                                                <p></p>\\n                                            </figcaption>\\n                                        </figure>\\n                                                                            <figure class=\"history-item  \">\\n                                            <img src=\"https://www.nationmedia.com/wp-content/uploads/2017/06/Dn-Printing-Press-Launch-480x270.jpg\" alt=\"\">\\n                                            <figcaption>\\n                                                <p>His Highness the Aga Khan (center) is shown how the paper is produced by Gideon Aswani the Group Head of Production at Nation Plant (2nd left)  during the official launch of Nation Media Group press along Mombasa road on March 17, 2016. The press, which has a capacity to print 86,000 newspapers per hour, is a state-of-the-art facility.\\nPhoto | Jeff Angote | Nairobi</p>\\n                                            </figcaption>\\n                                        </figure>\\n                                                                    </div>\\n                            </div>\\n                            <div class=\"width-half history-decade-full\">\\n                                                                    <figure class=\"history-item history-item-full\">\\n                                        <img src=\"https://www.nationmedia.com/wp-content/uploads/2017/03/KENYA-BUZZ-Cutting-cake.png\" alt=\"\">\\n                                        <figcaption>\\n                                            <p></p>\\n                                        </figcaption>\\n                                    </figure>\\n                                                            </div>\\n                        </div>\\n                    </div>\\n                </div>\\n                            <div class=\"slide\"></div>\\n\\n        </div>\\n    </section>\\n\\n\\n    <footer class=\"page-footer\">\\n    <nav role=\"navigation\" class=\"menu\">\\n        <div id=\"menu-item-1052\" class=\"menu-item menu-item-type-custom menu-item-object-custom menu-item-1052 menu-item-page\"><a target=\"_blank\" href=\"http://enation/default.aspx\" class=\"abc\">Intranet Login</a></div>\\n<div id=\"menu-item-1049\" class=\"menu-item menu-item-type-post_type menu-item-object-page menu-item-1049 menu-item-page\"><a href=\"https://www.nationmedia.com/terms-of-use/\" class=\"abc\">Terms of use</a></div>\\n<div id=\"menu-item-1651\" class=\"menu-item menu-item-type-post_type menu-item-object-page menu-item-1651 menu-item-page\"><a href=\"https://www.nationmedia.com/privacy-policy/\" class=\"abc\">NMG Privacy Policy</a></div>\\n        <span class=\"menu-item menu-item-copyright\" title=\"\">Copyright &copy; 2020. All rights reserved.</span>\\n    </nav>\\n</footer>\\n</main>\\n<!-- end content -->\\n\\n\\n\\r\\n    </div> <!-- end .body-container -->\\r\\n    <!-- Begin BlueKai Tag -->\\r\\n<iframe name=\"__bkframe\" height=\"0\" width=\"0\" frameborder=\"0\" style=\"display:none;position:absolute;clip:rect(0px 0px 0px 0px)\" src=\"about:blank\"></iframe>\\r\\n<script type=\"text/javascript\" src=\"https://tags.bkrtx.com/js/bk-coretag.js\"></script>\\r\\n<script type=\"text/javascript\">\\r\\nbk_doJSTag(80217, 1);\\r\\n</script>\\r\\n<!-- End BlueKai Tag --> \\r\\n  <script type=\\'text/javascript\\' src=\\'https://www.nationmedia.com/wp-content/plugins/contact-form-7/includes/js/jquery.form.min.js?ver=3.51.0-2014.06.20\\'></script>\\n<script type=\\'text/javascript\\'>\\n/* <![CDATA[ */\\nvar _wpcf7 = {\"recaptcha\":{\"messages\":{\"empty\":\"Please verify that you are not a robot.\"}}};\\n/* ]]> */\\n</script>\\n<script type=\\'text/javascript\\' src=\\'https://www.nationmedia.com/wp-content/plugins/contact-form-7/includes/js/scripts.js?ver=4.6.1\\'></script>\\n<script type=\\'text/javascript\\' src=\\'https://www.nationmedia.com/wp-content/themes/nmg/dist/js/main.min.js\\'></script>\\n<script type=\\'text/javascript\\' src=\\'https://www.nationmedia.com/wp-includes/js/wp-embed.min.js?ver=4.6.1\\'></script>\\n  </body>\\r\\n</html>\\r\\n\\n\\n\\n'"
            ]
          },
          "execution_count": 68,
          "metadata": {},
          "output_type": "execute_result"
        }
      ],
      "source": [
        "response.content #gives html page"
      ]
    },
    {
      "cell_type": "code",
      "execution_count": null,
      "metadata": {
        "id": "2z3kUk_TlVHU"
      },
      "outputs": [],
      "source": [
        "from bs4 import BeautifulSoup"
      ]
    },
    {
      "cell_type": "code",
      "execution_count": null,
      "metadata": {
        "id": "n_SX7lNAlVHV"
      },
      "outputs": [],
      "source": [
        "soup = BeautifulSoup(response.content, 'html5lib')"
      ]
    },
    {
      "cell_type": "code",
      "execution_count": null,
      "metadata": {
        "id": "DXc9DsmGlVHV"
      },
      "outputs": [],
      "source": [
        "nation_text = soup.get_text(strip=True)"
      ]
    },
    {
      "cell_type": "code",
      "execution_count": null,
      "metadata": {
        "id": "Av-xw4qelVHW"
      },
      "outputs": [],
      "source": [
        "nation_blob = TextBlob(nation_text)"
      ]
    },
    {
      "cell_type": "code",
      "execution_count": null,
      "metadata": {
        "id": "g2d2AU8blVHW"
      },
      "outputs": [],
      "source": [
        "nation_items = nation_blob.word_counts.items()"
      ]
    },
    {
      "cell_type": "code",
      "execution_count": null,
      "metadata": {
        "id": "9x4VECJSlVHX"
      },
      "outputs": [],
      "source": [
        "nation_stopwords = stopwords.words('english')"
      ]
    },
    {
      "cell_type": "code",
      "execution_count": null,
      "metadata": {
        "id": "W4FQQ3DplVHZ",
        "outputId": "830ea637-ac59-44ee-fd5b-b871dc50339d"
      },
      "outputs": [
        {
          "data": {
            "text/plain": [
              "['i',\n",
              " 'me',\n",
              " 'my',\n",
              " 'myself',\n",
              " 'we',\n",
              " 'our',\n",
              " 'ours',\n",
              " 'ourselves',\n",
              " 'you',\n",
              " \"you're\",\n",
              " \"you've\",\n",
              " \"you'll\",\n",
              " \"you'd\",\n",
              " 'your',\n",
              " 'yours',\n",
              " 'yourself',\n",
              " 'yourselves',\n",
              " 'he',\n",
              " 'him',\n",
              " 'his',\n",
              " 'himself',\n",
              " 'she',\n",
              " \"she's\",\n",
              " 'her',\n",
              " 'hers',\n",
              " 'herself',\n",
              " 'it',\n",
              " \"it's\",\n",
              " 'its',\n",
              " 'itself',\n",
              " 'they',\n",
              " 'them',\n",
              " 'their',\n",
              " 'theirs',\n",
              " 'themselves',\n",
              " 'what',\n",
              " 'which',\n",
              " 'who',\n",
              " 'whom',\n",
              " 'this',\n",
              " 'that',\n",
              " \"that'll\",\n",
              " 'these',\n",
              " 'those',\n",
              " 'am',\n",
              " 'is',\n",
              " 'are',\n",
              " 'was',\n",
              " 'were',\n",
              " 'be',\n",
              " 'been',\n",
              " 'being',\n",
              " 'have',\n",
              " 'has',\n",
              " 'had',\n",
              " 'having',\n",
              " 'do',\n",
              " 'does',\n",
              " 'did',\n",
              " 'doing',\n",
              " 'a',\n",
              " 'an',\n",
              " 'the',\n",
              " 'and',\n",
              " 'but',\n",
              " 'if',\n",
              " 'or',\n",
              " 'because',\n",
              " 'as',\n",
              " 'until',\n",
              " 'while',\n",
              " 'of',\n",
              " 'at',\n",
              " 'by',\n",
              " 'for',\n",
              " 'with',\n",
              " 'about',\n",
              " 'against',\n",
              " 'between',\n",
              " 'into',\n",
              " 'through',\n",
              " 'during',\n",
              " 'before',\n",
              " 'after',\n",
              " 'above',\n",
              " 'below',\n",
              " 'to',\n",
              " 'from',\n",
              " 'up',\n",
              " 'down',\n",
              " 'in',\n",
              " 'out',\n",
              " 'on',\n",
              " 'off',\n",
              " 'over',\n",
              " 'under',\n",
              " 'again',\n",
              " 'further',\n",
              " 'then',\n",
              " 'once',\n",
              " 'here',\n",
              " 'there',\n",
              " 'when',\n",
              " 'where',\n",
              " 'why',\n",
              " 'how',\n",
              " 'all',\n",
              " 'any',\n",
              " 'both',\n",
              " 'each',\n",
              " 'few',\n",
              " 'more',\n",
              " 'most',\n",
              " 'other',\n",
              " 'some',\n",
              " 'such',\n",
              " 'no',\n",
              " 'nor',\n",
              " 'not',\n",
              " 'only',\n",
              " 'own',\n",
              " 'same',\n",
              " 'so',\n",
              " 'than',\n",
              " 'too',\n",
              " 'very',\n",
              " 's',\n",
              " 't',\n",
              " 'can',\n",
              " 'will',\n",
              " 'just',\n",
              " 'don',\n",
              " \"don't\",\n",
              " 'should',\n",
              " \"should've\",\n",
              " 'now',\n",
              " 'd',\n",
              " 'll',\n",
              " 'm',\n",
              " 'o',\n",
              " 're',\n",
              " 've',\n",
              " 'y',\n",
              " 'ain',\n",
              " 'aren',\n",
              " \"aren't\",\n",
              " 'couldn',\n",
              " \"couldn't\",\n",
              " 'didn',\n",
              " \"didn't\",\n",
              " 'doesn',\n",
              " \"doesn't\",\n",
              " 'hadn',\n",
              " \"hadn't\",\n",
              " 'hasn',\n",
              " \"hasn't\",\n",
              " 'haven',\n",
              " \"haven't\",\n",
              " 'isn',\n",
              " \"isn't\",\n",
              " 'ma',\n",
              " 'mightn',\n",
              " \"mightn't\",\n",
              " 'mustn',\n",
              " \"mustn't\",\n",
              " 'needn',\n",
              " \"needn't\",\n",
              " 'shan',\n",
              " \"shan't\",\n",
              " 'shouldn',\n",
              " \"shouldn't\",\n",
              " 'wasn',\n",
              " \"wasn't\",\n",
              " 'weren',\n",
              " \"weren't\",\n",
              " 'won',\n",
              " \"won't\",\n",
              " 'wouldn',\n",
              " \"wouldn't\"]"
            ]
          },
          "execution_count": 75,
          "metadata": {},
          "output_type": "execute_result"
        }
      ],
      "source": [
        "nation_stopwords"
      ]
    },
    {
      "cell_type": "code",
      "execution_count": null,
      "metadata": {
        "id": "g5l37AZWlVHZ"
      },
      "outputs": [],
      "source": [
        "#elimiate stop words\n",
        "nation_items =[item for item in nation_items if item[0] not in nation_stopwords]"
      ]
    },
    {
      "cell_type": "code",
      "execution_count": null,
      "metadata": {
        "id": "An7pV-ZelVHZ"
      },
      "outputs": [],
      "source": [
        "nation_sorted_items=sorted(nation_items, key=itemgetter(1), reverse=True)"
      ]
    },
    {
      "cell_type": "code",
      "execution_count": null,
      "metadata": {
        "id": "GhN1HRpblVHb",
        "outputId": "6f9e1833-7a78-4a77-dec2-c7231fa18474"
      },
      "outputs": [
        {
          "data": {
            "text/plain": [
              "('robot', 1)"
            ]
          },
          "execution_count": 79,
          "metadata": {},
          "output_type": "execute_result"
        }
      ],
      "source": [
        "nation_sorted_items[len(nation_sorted_items)-1]"
      ]
    },
    {
      "cell_type": "code",
      "execution_count": null,
      "metadata": {
        "id": "wC4PBpXylVHd"
      },
      "outputs": [],
      "source": [
        "# limiting the array to  15 items\n",
        "nation_top15=nation_sorted_items[:15]"
      ]
    },
    {
      "cell_type": "code",
      "execution_count": null,
      "metadata": {
        "id": "d1_nHmLslVHe"
      },
      "outputs": [],
      "source": [
        "nation_df=pd.DataFrame(nation_top15, columns=['words','count'])"
      ]
    },
    {
      "cell_type": "code",
      "execution_count": null,
      "metadata": {
        "id": "GzEP3V1alVHf",
        "outputId": "972532fe-4128-4390-8878-191cbaae572e"
      },
      "outputs": [
        {
          "data": {
            "image/png": "[encoded data removed]",
            "text/plain": [
              "<Figure size 432x288 with 1 Axes>"
            ]
          },
          "metadata": {
            "needs_background": "light"
          },
          "output_type": "display_data"
        }
      ],
      "source": [
        "axes=nation_df.plot.bar(x='words',y='count', legend=False)"
      ]
    }
  ],
  "metadata": {
    "kernelspec": {
      "display_name": "Python 3",
      "language": "python",
      "name": "python3"
    },
    "language_info": {
      "codemirror_mode": {
        "name": "ipython",
        "version": 3
      },
      "file_extension": ".py",
      "mimetype": "text/x-python",
      "name": "python",
      "nbconvert_exporter": "python",
      "pygments_lexer": "ipython3",
      "version": "3.8.3"
    },
    "colab": {
      "provenance": []
    }
  },
  "nbformat": 4,
  "nbformat_minor": 0
}